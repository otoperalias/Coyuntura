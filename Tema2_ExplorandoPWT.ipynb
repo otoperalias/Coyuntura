{
  "nbformat": 4,
  "nbformat_minor": 0,
  "metadata": {
    "hide_input": false,
    "kernelspec": {
      "display_name": "Python 3",
      "language": "python",
      "name": "python3"
    },
    "language_info": {
      "codemirror_mode": {
        "name": "ipython",
        "version": 3
      },
      "file_extension": ".py",
      "mimetype": "text/x-python",
      "name": "python",
      "nbconvert_exporter": "python",
      "pygments_lexer": "ipython3",
      "version": "3.8.5"
    },
    "colab": {
      "name": "Una_aplicacion_PWT.ipynb",
      "provenance": [],
      "include_colab_link": true
    }
  },
  "cells": [
    {
      "cell_type": "markdown",
      "metadata": {
        "id": "view-in-github",
        "colab_type": "text"
      },
      "source": [
        "<a href=\"https://colab.research.google.com/github/otoperalias/Coyuntura/blob/main/Tema2_ExplorandoPWT.ipynb\" target=\"_parent\"><img src=\"https://colab.research.google.com/assets/colab-badge.svg\" alt=\"Open In Colab\"/></a>"
      ]
    },
    {
      "cell_type": "markdown",
      "metadata": {
        "id": "hc3O7nEY52sw"
      },
      "source": [
        "## Tema 2\n",
        "\n",
        "## Explorando la Penn World Table"
      ]
    },
    {
      "cell_type": "markdown",
      "metadata": {
        "id": "RQ51FU7D6L-1"
      },
      "source": [
        "La Penn World Table es una base de datos macroeconómica con información sobre niveles de renta, productividad, etc. de cerca de 180 países desde 1950.\n",
        "\n",
        "  * Accesible aquí: [Penn World Table](https://www.rug.nl/ggdc/productivity/pwt/?lang=en)\n",
        "\n",
        "En este notebook vamos a realizar una primera exploración de esta base de datos y vamos a resolver un ejercicio sencillo.\n"
      ]
    },
    {
      "cell_type": "code",
      "metadata": {
        "id": "8d-rQwcb52s0"
      },
      "source": [
        "# Importamos librerias y establecemos algunas opciones\n",
        "import pandas as pd\n",
        "pd.set_option('display.max_row', 100)\n",
        "pd.set_option('display.max_columns', 30)"
      ],
      "execution_count": 1,
      "outputs": []
    },
    {
      "cell_type": "code",
      "metadata": {
        "colab": {
          "base_uri": "https://localhost:8080/",
          "height": 439
        },
        "id": "MiQka71Z52s2",
        "outputId": "4913d54d-4ce1-4582-c72e-6c01010d9a57"
      },
      "source": [
        "# Importar datos\n",
        "link=\"https://www.rug.nl/ggdc/docs/pwt100.xlsx\"\n",
        "pwt=pd.read_excel(link,\"Data\") # Es una base de datos grande\n",
        "pwt"
      ],
      "execution_count": 2,
      "outputs": [
        {
          "output_type": "execute_result",
          "data": {
            "text/html": [
              "<div>\n",
              "<style scoped>\n",
              "    .dataframe tbody tr th:only-of-type {\n",
              "        vertical-align: middle;\n",
              "    }\n",
              "\n",
              "    .dataframe tbody tr th {\n",
              "        vertical-align: top;\n",
              "    }\n",
              "\n",
              "    .dataframe thead th {\n",
              "        text-align: right;\n",
              "    }\n",
              "</style>\n",
              "<table border=\"1\" class=\"dataframe\">\n",
              "  <thead>\n",
              "    <tr style=\"text-align: right;\">\n",
              "      <th></th>\n",
              "      <th>countrycode</th>\n",
              "      <th>country</th>\n",
              "      <th>currency_unit</th>\n",
              "      <th>year</th>\n",
              "      <th>rgdpe</th>\n",
              "      <th>rgdpo</th>\n",
              "      <th>pop</th>\n",
              "      <th>emp</th>\n",
              "      <th>avh</th>\n",
              "      <th>hc</th>\n",
              "      <th>ccon</th>\n",
              "      <th>cda</th>\n",
              "      <th>cgdpe</th>\n",
              "      <th>cgdpo</th>\n",
              "      <th>cn</th>\n",
              "      <th>...</th>\n",
              "      <th>cor_exp</th>\n",
              "      <th>statcap</th>\n",
              "      <th>csh_c</th>\n",
              "      <th>csh_i</th>\n",
              "      <th>csh_g</th>\n",
              "      <th>csh_x</th>\n",
              "      <th>csh_m</th>\n",
              "      <th>csh_r</th>\n",
              "      <th>pl_c</th>\n",
              "      <th>pl_i</th>\n",
              "      <th>pl_g</th>\n",
              "      <th>pl_x</th>\n",
              "      <th>pl_m</th>\n",
              "      <th>pl_n</th>\n",
              "      <th>pl_k</th>\n",
              "    </tr>\n",
              "  </thead>\n",
              "  <tbody>\n",
              "    <tr>\n",
              "      <th>0</th>\n",
              "      <td>ABW</td>\n",
              "      <td>Aruba</td>\n",
              "      <td>Aruban Guilder</td>\n",
              "      <td>1950</td>\n",
              "      <td>NaN</td>\n",
              "      <td>NaN</td>\n",
              "      <td>NaN</td>\n",
              "      <td>NaN</td>\n",
              "      <td>NaN</td>\n",
              "      <td>NaN</td>\n",
              "      <td>NaN</td>\n",
              "      <td>NaN</td>\n",
              "      <td>NaN</td>\n",
              "      <td>NaN</td>\n",
              "      <td>NaN</td>\n",
              "      <td>...</td>\n",
              "      <td>NaN</td>\n",
              "      <td>NaN</td>\n",
              "      <td>NaN</td>\n",
              "      <td>NaN</td>\n",
              "      <td>NaN</td>\n",
              "      <td>NaN</td>\n",
              "      <td>NaN</td>\n",
              "      <td>NaN</td>\n",
              "      <td>NaN</td>\n",
              "      <td>NaN</td>\n",
              "      <td>NaN</td>\n",
              "      <td>NaN</td>\n",
              "      <td>NaN</td>\n",
              "      <td>NaN</td>\n",
              "      <td>NaN</td>\n",
              "    </tr>\n",
              "    <tr>\n",
              "      <th>1</th>\n",
              "      <td>ABW</td>\n",
              "      <td>Aruba</td>\n",
              "      <td>Aruban Guilder</td>\n",
              "      <td>1951</td>\n",
              "      <td>NaN</td>\n",
              "      <td>NaN</td>\n",
              "      <td>NaN</td>\n",
              "      <td>NaN</td>\n",
              "      <td>NaN</td>\n",
              "      <td>NaN</td>\n",
              "      <td>NaN</td>\n",
              "      <td>NaN</td>\n",
              "      <td>NaN</td>\n",
              "      <td>NaN</td>\n",
              "      <td>NaN</td>\n",
              "      <td>...</td>\n",
              "      <td>NaN</td>\n",
              "      <td>NaN</td>\n",
              "      <td>NaN</td>\n",
              "      <td>NaN</td>\n",
              "      <td>NaN</td>\n",
              "      <td>NaN</td>\n",
              "      <td>NaN</td>\n",
              "      <td>NaN</td>\n",
              "      <td>NaN</td>\n",
              "      <td>NaN</td>\n",
              "      <td>NaN</td>\n",
              "      <td>NaN</td>\n",
              "      <td>NaN</td>\n",
              "      <td>NaN</td>\n",
              "      <td>NaN</td>\n",
              "    </tr>\n",
              "    <tr>\n",
              "      <th>2</th>\n",
              "      <td>ABW</td>\n",
              "      <td>Aruba</td>\n",
              "      <td>Aruban Guilder</td>\n",
              "      <td>1952</td>\n",
              "      <td>NaN</td>\n",
              "      <td>NaN</td>\n",
              "      <td>NaN</td>\n",
              "      <td>NaN</td>\n",
              "      <td>NaN</td>\n",
              "      <td>NaN</td>\n",
              "      <td>NaN</td>\n",
              "      <td>NaN</td>\n",
              "      <td>NaN</td>\n",
              "      <td>NaN</td>\n",
              "      <td>NaN</td>\n",
              "      <td>...</td>\n",
              "      <td>NaN</td>\n",
              "      <td>NaN</td>\n",
              "      <td>NaN</td>\n",
              "      <td>NaN</td>\n",
              "      <td>NaN</td>\n",
              "      <td>NaN</td>\n",
              "      <td>NaN</td>\n",
              "      <td>NaN</td>\n",
              "      <td>NaN</td>\n",
              "      <td>NaN</td>\n",
              "      <td>NaN</td>\n",
              "      <td>NaN</td>\n",
              "      <td>NaN</td>\n",
              "      <td>NaN</td>\n",
              "      <td>NaN</td>\n",
              "    </tr>\n",
              "    <tr>\n",
              "      <th>3</th>\n",
              "      <td>ABW</td>\n",
              "      <td>Aruba</td>\n",
              "      <td>Aruban Guilder</td>\n",
              "      <td>1953</td>\n",
              "      <td>NaN</td>\n",
              "      <td>NaN</td>\n",
              "      <td>NaN</td>\n",
              "      <td>NaN</td>\n",
              "      <td>NaN</td>\n",
              "      <td>NaN</td>\n",
              "      <td>NaN</td>\n",
              "      <td>NaN</td>\n",
              "      <td>NaN</td>\n",
              "      <td>NaN</td>\n",
              "      <td>NaN</td>\n",
              "      <td>...</td>\n",
              "      <td>NaN</td>\n",
              "      <td>NaN</td>\n",
              "      <td>NaN</td>\n",
              "      <td>NaN</td>\n",
              "      <td>NaN</td>\n",
              "      <td>NaN</td>\n",
              "      <td>NaN</td>\n",
              "      <td>NaN</td>\n",
              "      <td>NaN</td>\n",
              "      <td>NaN</td>\n",
              "      <td>NaN</td>\n",
              "      <td>NaN</td>\n",
              "      <td>NaN</td>\n",
              "      <td>NaN</td>\n",
              "      <td>NaN</td>\n",
              "    </tr>\n",
              "    <tr>\n",
              "      <th>4</th>\n",
              "      <td>ABW</td>\n",
              "      <td>Aruba</td>\n",
              "      <td>Aruban Guilder</td>\n",
              "      <td>1954</td>\n",
              "      <td>NaN</td>\n",
              "      <td>NaN</td>\n",
              "      <td>NaN</td>\n",
              "      <td>NaN</td>\n",
              "      <td>NaN</td>\n",
              "      <td>NaN</td>\n",
              "      <td>NaN</td>\n",
              "      <td>NaN</td>\n",
              "      <td>NaN</td>\n",
              "      <td>NaN</td>\n",
              "      <td>NaN</td>\n",
              "      <td>...</td>\n",
              "      <td>NaN</td>\n",
              "      <td>NaN</td>\n",
              "      <td>NaN</td>\n",
              "      <td>NaN</td>\n",
              "      <td>NaN</td>\n",
              "      <td>NaN</td>\n",
              "      <td>NaN</td>\n",
              "      <td>NaN</td>\n",
              "      <td>NaN</td>\n",
              "      <td>NaN</td>\n",
              "      <td>NaN</td>\n",
              "      <td>NaN</td>\n",
              "      <td>NaN</td>\n",
              "      <td>NaN</td>\n",
              "      <td>NaN</td>\n",
              "    </tr>\n",
              "    <tr>\n",
              "      <th>...</th>\n",
              "      <td>...</td>\n",
              "      <td>...</td>\n",
              "      <td>...</td>\n",
              "      <td>...</td>\n",
              "      <td>...</td>\n",
              "      <td>...</td>\n",
              "      <td>...</td>\n",
              "      <td>...</td>\n",
              "      <td>...</td>\n",
              "      <td>...</td>\n",
              "      <td>...</td>\n",
              "      <td>...</td>\n",
              "      <td>...</td>\n",
              "      <td>...</td>\n",
              "      <td>...</td>\n",
              "      <td>...</td>\n",
              "      <td>...</td>\n",
              "      <td>...</td>\n",
              "      <td>...</td>\n",
              "      <td>...</td>\n",
              "      <td>...</td>\n",
              "      <td>...</td>\n",
              "      <td>...</td>\n",
              "      <td>...</td>\n",
              "      <td>...</td>\n",
              "      <td>...</td>\n",
              "      <td>...</td>\n",
              "      <td>...</td>\n",
              "      <td>...</td>\n",
              "      <td>...</td>\n",
              "      <td>...</td>\n",
              "    </tr>\n",
              "    <tr>\n",
              "      <th>12805</th>\n",
              "      <td>ZWE</td>\n",
              "      <td>Zimbabwe</td>\n",
              "      <td>US Dollar</td>\n",
              "      <td>2015</td>\n",
              "      <td>40141.617188</td>\n",
              "      <td>39798.644531</td>\n",
              "      <td>13.814629</td>\n",
              "      <td>6.393752</td>\n",
              "      <td>NaN</td>\n",
              "      <td>2.584653</td>\n",
              "      <td>44249.355469</td>\n",
              "      <td>47325.460938</td>\n",
              "      <td>39961.222656</td>\n",
              "      <td>39455.902344</td>\n",
              "      <td>61790.628906</td>\n",
              "      <td>...</td>\n",
              "      <td>0.306506</td>\n",
              "      <td>62.222200</td>\n",
              "      <td>0.945086</td>\n",
              "      <td>0.077963</td>\n",
              "      <td>0.176403</td>\n",
              "      <td>0.140172</td>\n",
              "      <td>-0.287693</td>\n",
              "      <td>-0.051930</td>\n",
              "      <td>0.479228</td>\n",
              "      <td>0.651287</td>\n",
              "      <td>0.541446</td>\n",
              "      <td>0.616689</td>\n",
              "      <td>0.533235</td>\n",
              "      <td>0.422764</td>\n",
              "      <td>1.533909</td>\n",
              "    </tr>\n",
              "    <tr>\n",
              "      <th>12806</th>\n",
              "      <td>ZWE</td>\n",
              "      <td>Zimbabwe</td>\n",
              "      <td>US Dollar</td>\n",
              "      <td>2016</td>\n",
              "      <td>41875.203125</td>\n",
              "      <td>40963.191406</td>\n",
              "      <td>14.030331</td>\n",
              "      <td>6.504374</td>\n",
              "      <td>NaN</td>\n",
              "      <td>2.616257</td>\n",
              "      <td>43291.566406</td>\n",
              "      <td>46404.160156</td>\n",
              "      <td>41680.894531</td>\n",
              "      <td>40864.164062</td>\n",
              "      <td>64844.191406</td>\n",
              "      <td>...</td>\n",
              "      <td>0.302841</td>\n",
              "      <td>55.555533</td>\n",
              "      <td>0.890514</td>\n",
              "      <td>0.076169</td>\n",
              "      <td>0.168887</td>\n",
              "      <td>0.131920</td>\n",
              "      <td>-0.251232</td>\n",
              "      <td>-0.016258</td>\n",
              "      <td>0.470640</td>\n",
              "      <td>0.651027</td>\n",
              "      <td>0.539631</td>\n",
              "      <td>0.619789</td>\n",
              "      <td>0.519718</td>\n",
              "      <td>0.416510</td>\n",
              "      <td>1.491724</td>\n",
              "    </tr>\n",
              "    <tr>\n",
              "      <th>12807</th>\n",
              "      <td>ZWE</td>\n",
              "      <td>Zimbabwe</td>\n",
              "      <td>US Dollar</td>\n",
              "      <td>2017</td>\n",
              "      <td>44672.175781</td>\n",
              "      <td>44316.742188</td>\n",
              "      <td>14.236595</td>\n",
              "      <td>6.611773</td>\n",
              "      <td>NaN</td>\n",
              "      <td>2.648248</td>\n",
              "      <td>46113.945312</td>\n",
              "      <td>49457.570312</td>\n",
              "      <td>44672.175781</td>\n",
              "      <td>44316.742188</td>\n",
              "      <td>67627.562500</td>\n",
              "      <td>...</td>\n",
              "      <td>0.301868</td>\n",
              "      <td>59.999967</td>\n",
              "      <td>0.833453</td>\n",
              "      <td>0.075448</td>\n",
              "      <td>0.207101</td>\n",
              "      <td>0.126722</td>\n",
              "      <td>-0.202827</td>\n",
              "      <td>-0.039897</td>\n",
              "      <td>0.473560</td>\n",
              "      <td>0.639560</td>\n",
              "      <td>0.519956</td>\n",
              "      <td>0.619739</td>\n",
              "      <td>0.552042</td>\n",
              "      <td>0.415592</td>\n",
              "      <td>1.514525</td>\n",
              "    </tr>\n",
              "    <tr>\n",
              "      <th>12808</th>\n",
              "      <td>ZWE</td>\n",
              "      <td>Zimbabwe</td>\n",
              "      <td>US Dollar</td>\n",
              "      <td>2018</td>\n",
              "      <td>44325.109375</td>\n",
              "      <td>43420.898438</td>\n",
              "      <td>14.438802</td>\n",
              "      <td>6.714952</td>\n",
              "      <td>NaN</td>\n",
              "      <td>2.680630</td>\n",
              "      <td>46198.441406</td>\n",
              "      <td>49665.386719</td>\n",
              "      <td>44342.453125</td>\n",
              "      <td>43567.511719</td>\n",
              "      <td>68826.773438</td>\n",
              "      <td>...</td>\n",
              "      <td>NaN</td>\n",
              "      <td>59.999967</td>\n",
              "      <td>0.790588</td>\n",
              "      <td>0.079576</td>\n",
              "      <td>0.269799</td>\n",
              "      <td>0.144485</td>\n",
              "      <td>-0.263658</td>\n",
              "      <td>-0.020791</td>\n",
              "      <td>0.543757</td>\n",
              "      <td>0.655473</td>\n",
              "      <td>0.529867</td>\n",
              "      <td>0.641361</td>\n",
              "      <td>0.561526</td>\n",
              "      <td>0.425143</td>\n",
              "      <td>1.590120</td>\n",
              "    </tr>\n",
              "    <tr>\n",
              "      <th>12809</th>\n",
              "      <td>ZWE</td>\n",
              "      <td>Zimbabwe</td>\n",
              "      <td>US Dollar</td>\n",
              "      <td>2019</td>\n",
              "      <td>42296.062500</td>\n",
              "      <td>40826.570312</td>\n",
              "      <td>14.645468</td>\n",
              "      <td>6.831017</td>\n",
              "      <td>NaN</td>\n",
              "      <td>2.713408</td>\n",
              "      <td>43961.839844</td>\n",
              "      <td>47128.785156</td>\n",
              "      <td>42325.117188</td>\n",
              "      <td>41081.722656</td>\n",
              "      <td>69588.242188</td>\n",
              "      <td>...</td>\n",
              "      <td>NaN</td>\n",
              "      <td>56.666633</td>\n",
              "      <td>0.842998</td>\n",
              "      <td>0.077089</td>\n",
              "      <td>0.227109</td>\n",
              "      <td>0.213562</td>\n",
              "      <td>-0.270959</td>\n",
              "      <td>-0.089798</td>\n",
              "      <td>0.494755</td>\n",
              "      <td>0.652439</td>\n",
              "      <td>0.500927</td>\n",
              "      <td>0.487763</td>\n",
              "      <td>0.430082</td>\n",
              "      <td>0.420675</td>\n",
              "      <td>1.384068</td>\n",
              "    </tr>\n",
              "  </tbody>\n",
              "</table>\n",
              "<p>12810 rows × 52 columns</p>\n",
              "</div>"
            ],
            "text/plain": [
              "      countrycode   country   currency_unit  year         rgdpe         rgdpo  \\\n",
              "0             ABW     Aruba  Aruban Guilder  1950           NaN           NaN   \n",
              "1             ABW     Aruba  Aruban Guilder  1951           NaN           NaN   \n",
              "2             ABW     Aruba  Aruban Guilder  1952           NaN           NaN   \n",
              "3             ABW     Aruba  Aruban Guilder  1953           NaN           NaN   \n",
              "4             ABW     Aruba  Aruban Guilder  1954           NaN           NaN   \n",
              "...           ...       ...             ...   ...           ...           ...   \n",
              "12805         ZWE  Zimbabwe       US Dollar  2015  40141.617188  39798.644531   \n",
              "12806         ZWE  Zimbabwe       US Dollar  2016  41875.203125  40963.191406   \n",
              "12807         ZWE  Zimbabwe       US Dollar  2017  44672.175781  44316.742188   \n",
              "12808         ZWE  Zimbabwe       US Dollar  2018  44325.109375  43420.898438   \n",
              "12809         ZWE  Zimbabwe       US Dollar  2019  42296.062500  40826.570312   \n",
              "\n",
              "             pop       emp  avh        hc          ccon           cda  \\\n",
              "0            NaN       NaN  NaN       NaN           NaN           NaN   \n",
              "1            NaN       NaN  NaN       NaN           NaN           NaN   \n",
              "2            NaN       NaN  NaN       NaN           NaN           NaN   \n",
              "3            NaN       NaN  NaN       NaN           NaN           NaN   \n",
              "4            NaN       NaN  NaN       NaN           NaN           NaN   \n",
              "...          ...       ...  ...       ...           ...           ...   \n",
              "12805  13.814629  6.393752  NaN  2.584653  44249.355469  47325.460938   \n",
              "12806  14.030331  6.504374  NaN  2.616257  43291.566406  46404.160156   \n",
              "12807  14.236595  6.611773  NaN  2.648248  46113.945312  49457.570312   \n",
              "12808  14.438802  6.714952  NaN  2.680630  46198.441406  49665.386719   \n",
              "12809  14.645468  6.831017  NaN  2.713408  43961.839844  47128.785156   \n",
              "\n",
              "              cgdpe         cgdpo            cn  ...   cor_exp    statcap  \\\n",
              "0               NaN           NaN           NaN  ...       NaN        NaN   \n",
              "1               NaN           NaN           NaN  ...       NaN        NaN   \n",
              "2               NaN           NaN           NaN  ...       NaN        NaN   \n",
              "3               NaN           NaN           NaN  ...       NaN        NaN   \n",
              "4               NaN           NaN           NaN  ...       NaN        NaN   \n",
              "...             ...           ...           ...  ...       ...        ...   \n",
              "12805  39961.222656  39455.902344  61790.628906  ...  0.306506  62.222200   \n",
              "12806  41680.894531  40864.164062  64844.191406  ...  0.302841  55.555533   \n",
              "12807  44672.175781  44316.742188  67627.562500  ...  0.301868  59.999967   \n",
              "12808  44342.453125  43567.511719  68826.773438  ...       NaN  59.999967   \n",
              "12809  42325.117188  41081.722656  69588.242188  ...       NaN  56.666633   \n",
              "\n",
              "          csh_c     csh_i     csh_g     csh_x     csh_m     csh_r      pl_c  \\\n",
              "0           NaN       NaN       NaN       NaN       NaN       NaN       NaN   \n",
              "1           NaN       NaN       NaN       NaN       NaN       NaN       NaN   \n",
              "2           NaN       NaN       NaN       NaN       NaN       NaN       NaN   \n",
              "3           NaN       NaN       NaN       NaN       NaN       NaN       NaN   \n",
              "4           NaN       NaN       NaN       NaN       NaN       NaN       NaN   \n",
              "...         ...       ...       ...       ...       ...       ...       ...   \n",
              "12805  0.945086  0.077963  0.176403  0.140172 -0.287693 -0.051930  0.479228   \n",
              "12806  0.890514  0.076169  0.168887  0.131920 -0.251232 -0.016258  0.470640   \n",
              "12807  0.833453  0.075448  0.207101  0.126722 -0.202827 -0.039897  0.473560   \n",
              "12808  0.790588  0.079576  0.269799  0.144485 -0.263658 -0.020791  0.543757   \n",
              "12809  0.842998  0.077089  0.227109  0.213562 -0.270959 -0.089798  0.494755   \n",
              "\n",
              "           pl_i      pl_g      pl_x      pl_m      pl_n      pl_k  \n",
              "0           NaN       NaN       NaN       NaN       NaN       NaN  \n",
              "1           NaN       NaN       NaN       NaN       NaN       NaN  \n",
              "2           NaN       NaN       NaN       NaN       NaN       NaN  \n",
              "3           NaN       NaN       NaN       NaN       NaN       NaN  \n",
              "4           NaN       NaN       NaN       NaN       NaN       NaN  \n",
              "...         ...       ...       ...       ...       ...       ...  \n",
              "12805  0.651287  0.541446  0.616689  0.533235  0.422764  1.533909  \n",
              "12806  0.651027  0.539631  0.619789  0.519718  0.416510  1.491724  \n",
              "12807  0.639560  0.519956  0.619739  0.552042  0.415592  1.514525  \n",
              "12808  0.655473  0.529867  0.641361  0.561526  0.425143  1.590120  \n",
              "12809  0.652439  0.500927  0.487763  0.430082  0.420675  1.384068  \n",
              "\n",
              "[12810 rows x 52 columns]"
            ]
          },
          "metadata": {},
          "execution_count": 2
        }
      ]
    },
    {
      "cell_type": "code",
      "metadata": {
        "id": "FzaEW_dB7miI"
      },
      "source": [
        "# Vemos las columnas que tiene\n",
        "pwt.columns"
      ],
      "execution_count": null,
      "outputs": []
    },
    {
      "cell_type": "code",
      "metadata": {
        "id": "NN2x9VfU7mqY"
      },
      "source": [
        "# Comprobamos los países que incluye\n",
        "pwt.country.unique()"
      ],
      "execution_count": null,
      "outputs": []
    },
    {
      "cell_type": "code",
      "metadata": {
        "colab": {
          "base_uri": "https://localhost:8080/"
        },
        "id": "rQb75mcJ7mwe",
        "outputId": "09e2191b-4f8c-4e90-9820-4fc959a102d8"
      },
      "source": [
        "# Los años\n",
        "pwt.year.unique()"
      ],
      "execution_count": 6,
      "outputs": [
        {
          "output_type": "execute_result",
          "data": {
            "text/plain": [
              "array([1950, 1951, 1952, 1953, 1954, 1955, 1956, 1957, 1958, 1959, 1960,\n",
              "       1961, 1962, 1963, 1964, 1965, 1966, 1967, 1968, 1969, 1970, 1971,\n",
              "       1972, 1973, 1974, 1975, 1976, 1977, 1978, 1979, 1980, 1981, 1982,\n",
              "       1983, 1984, 1985, 1986, 1987, 1988, 1989, 1990, 1991, 1992, 1993,\n",
              "       1994, 1995, 1996, 1997, 1998, 1999, 2000, 2001, 2002, 2003, 2004,\n",
              "       2005, 2006, 2007, 2008, 2009, 2010, 2011, 2012, 2013, 2014, 2015,\n",
              "       2016, 2017, 2018, 2019])"
            ]
          },
          "metadata": {},
          "execution_count": 6
        }
      ]
    },
    {
      "cell_type": "code",
      "metadata": {
        "id": "TEMJkHB-52s3"
      },
      "source": [
        "# El número de observaciones (filas en la tabla) por año\n",
        "pwt.year.value_counts() # ¡La función value_counts() es muy útil!"
      ],
      "execution_count": null,
      "outputs": []
    },
    {
      "cell_type": "code",
      "metadata": {
        "id": "FviH6i6W99Vo"
      },
      "source": [
        "# "
      ],
      "execution_count": null,
      "outputs": []
    },
    {
      "cell_type": "code",
      "metadata": {
        "id": "KoyFB_NR99Yn"
      },
      "source": [
        ""
      ],
      "execution_count": null,
      "outputs": []
    },
    {
      "cell_type": "code",
      "metadata": {
        "id": "wKugX22T99b3"
      },
      "source": [
        ""
      ],
      "execution_count": null,
      "outputs": []
    },
    {
      "cell_type": "code",
      "metadata": {
        "id": "AwcYyU-m99ry"
      },
      "source": [
        ""
      ],
      "execution_count": null,
      "outputs": []
    },
    {
      "cell_type": "code",
      "metadata": {
        "id": "lfm11y4C99vE"
      },
      "source": [
        ""
      ],
      "execution_count": null,
      "outputs": []
    },
    {
      "cell_type": "code",
      "metadata": {
        "id": "J0qXr3Vp99xz"
      },
      "source": [
        ""
      ],
      "execution_count": null,
      "outputs": []
    },
    {
      "cell_type": "code",
      "metadata": {
        "id": "xMlGWbLw9903"
      },
      "source": [
        ""
      ],
      "execution_count": null,
      "outputs": []
    },
    {
      "cell_type": "code",
      "metadata": {
        "id": "6y9MQ-9y993T"
      },
      "source": [
        ""
      ],
      "execution_count": null,
      "outputs": []
    },
    {
      "cell_type": "code",
      "metadata": {
        "id": "Cpcd6PuK52s4",
        "outputId": "dc4dbdc1-6e1f-41c7-8e74-d0ad19dbe8b5"
      },
      "source": [
        "#Tabla con los datos de España y su población (observar en el archivo Excel que pop es la columna con los datos de población).\n",
        "spain=pwt.query(\"country=='Spain'\")\n",
        "spain_pop=spain[['year','pop']]\n",
        "spain_pop.set_index(\"year\", inplace=True)\n",
        "spain_pop\n"
      ],
      "execution_count": null,
      "outputs": [
        {
          "data": {
            "text/html": [
              "<div>\n",
              "<style scoped>\n",
              "    .dataframe tbody tr th:only-of-type {\n",
              "        vertical-align: middle;\n",
              "    }\n",
              "\n",
              "    .dataframe tbody tr th {\n",
              "        vertical-align: top;\n",
              "    }\n",
              "\n",
              "    .dataframe thead th {\n",
              "        text-align: right;\n",
              "    }\n",
              "</style>\n",
              "<table border=\"1\" class=\"dataframe\">\n",
              "  <thead>\n",
              "    <tr style=\"text-align: right;\">\n",
              "      <th></th>\n",
              "      <th>pop</th>\n",
              "    </tr>\n",
              "    <tr>\n",
              "      <th>year</th>\n",
              "      <th></th>\n",
              "    </tr>\n",
              "  </thead>\n",
              "  <tbody>\n",
              "    <tr>\n",
              "      <th>1950</th>\n",
              "      <td>28.148947</td>\n",
              "    </tr>\n",
              "    <tr>\n",
              "      <th>1951</th>\n",
              "      <td>28.384714</td>\n",
              "    </tr>\n",
              "    <tr>\n",
              "      <th>1952</th>\n",
              "      <td>28.637344</td>\n",
              "    </tr>\n",
              "    <tr>\n",
              "      <th>1953</th>\n",
              "      <td>28.892384</td>\n",
              "    </tr>\n",
              "    <tr>\n",
              "      <th>1954</th>\n",
              "      <td>29.149452</td>\n",
              "    </tr>\n",
              "    <tr>\n",
              "      <th>1955</th>\n",
              "      <td>29.408575</td>\n",
              "    </tr>\n",
              "    <tr>\n",
              "      <th>1956</th>\n",
              "      <td>29.669771</td>\n",
              "    </tr>\n",
              "    <tr>\n",
              "      <th>1957</th>\n",
              "      <td>29.933046</td>\n",
              "    </tr>\n",
              "    <tr>\n",
              "      <th>1958</th>\n",
              "      <td>30.198431</td>\n",
              "    </tr>\n",
              "    <tr>\n",
              "      <th>1959</th>\n",
              "      <td>30.465939</td>\n",
              "    </tr>\n",
              "    <tr>\n",
              "      <th>1960</th>\n",
              "      <td>30.735071</td>\n",
              "    </tr>\n",
              "    <tr>\n",
              "      <th>1961</th>\n",
              "      <td>30.998583</td>\n",
              "    </tr>\n",
              "    <tr>\n",
              "      <th>1962</th>\n",
              "      <td>31.253527</td>\n",
              "    </tr>\n",
              "    <tr>\n",
              "      <th>1963</th>\n",
              "      <td>31.526134</td>\n",
              "    </tr>\n",
              "    <tr>\n",
              "      <th>1964</th>\n",
              "      <td>31.838114</td>\n",
              "    </tr>\n",
              "    <tr>\n",
              "      <th>1965</th>\n",
              "      <td>32.182816</td>\n",
              "    </tr>\n",
              "    <tr>\n",
              "      <th>1966</th>\n",
              "      <td>32.551407</td>\n",
              "    </tr>\n",
              "    <tr>\n",
              "      <th>1967</th>\n",
              "      <td>32.950924</td>\n",
              "    </tr>\n",
              "    <tr>\n",
              "      <th>1968</th>\n",
              "      <td>33.341145</td>\n",
              "    </tr>\n",
              "    <tr>\n",
              "      <th>1969</th>\n",
              "      <td>33.668930</td>\n",
              "    </tr>\n",
              "    <tr>\n",
              "      <th>1970</th>\n",
              "      <td>33.980274</td>\n",
              "    </tr>\n",
              "    <tr>\n",
              "      <th>1971</th>\n",
              "      <td>34.363918</td>\n",
              "    </tr>\n",
              "    <tr>\n",
              "      <th>1972</th>\n",
              "      <td>34.760521</td>\n",
              "    </tr>\n",
              "    <tr>\n",
              "      <th>1973</th>\n",
              "      <td>35.165558</td>\n",
              "    </tr>\n",
              "    <tr>\n",
              "      <th>1974</th>\n",
              "      <td>35.572475</td>\n",
              "    </tr>\n",
              "    <tr>\n",
              "      <th>1975</th>\n",
              "      <td>35.975315</td>\n",
              "    </tr>\n",
              "    <tr>\n",
              "      <th>1976</th>\n",
              "      <td>36.373100</td>\n",
              "    </tr>\n",
              "    <tr>\n",
              "      <th>1977</th>\n",
              "      <td>36.763531</td>\n",
              "    </tr>\n",
              "    <tr>\n",
              "      <th>1978</th>\n",
              "      <td>37.137703</td>\n",
              "    </tr>\n",
              "    <tr>\n",
              "      <th>1979</th>\n",
              "      <td>37.484749</td>\n",
              "    </tr>\n",
              "    <tr>\n",
              "      <th>1980</th>\n",
              "      <td>37.796795</td>\n",
              "    </tr>\n",
              "    <tr>\n",
              "      <th>1981</th>\n",
              "      <td>38.071262</td>\n",
              "    </tr>\n",
              "    <tr>\n",
              "      <th>1982</th>\n",
              "      <td>38.309711</td>\n",
              "    </tr>\n",
              "    <tr>\n",
              "      <th>1983</th>\n",
              "      <td>38.514061</td>\n",
              "    </tr>\n",
              "    <tr>\n",
              "      <th>1984</th>\n",
              "      <td>38.688122</td>\n",
              "    </tr>\n",
              "    <tr>\n",
              "      <th>1985</th>\n",
              "      <td>38.835884</td>\n",
              "    </tr>\n",
              "    <tr>\n",
              "      <th>1986</th>\n",
              "      <td>38.958073</td>\n",
              "    </tr>\n",
              "    <tr>\n",
              "      <th>1987</th>\n",
              "      <td>39.057213</td>\n",
              "    </tr>\n",
              "    <tr>\n",
              "      <th>1988</th>\n",
              "      <td>39.141605</td>\n",
              "    </tr>\n",
              "    <tr>\n",
              "      <th>1989</th>\n",
              "      <td>39.221741</td>\n",
              "    </tr>\n",
              "    <tr>\n",
              "      <th>1990</th>\n",
              "      <td>39.306103</td>\n",
              "    </tr>\n",
              "    <tr>\n",
              "      <th>1991</th>\n",
              "      <td>39.403198</td>\n",
              "    </tr>\n",
              "    <tr>\n",
              "      <th>1992</th>\n",
              "      <td>39.515511</td>\n",
              "    </tr>\n",
              "    <tr>\n",
              "      <th>1993</th>\n",
              "      <td>39.638634</td>\n",
              "    </tr>\n",
              "    <tr>\n",
              "      <th>1994</th>\n",
              "      <td>39.764561</td>\n",
              "    </tr>\n",
              "    <tr>\n",
              "      <th>1995</th>\n",
              "      <td>39.890499</td>\n",
              "    </tr>\n",
              "    <tr>\n",
              "      <th>1996</th>\n",
              "      <td>40.009323</td>\n",
              "    </tr>\n",
              "    <tr>\n",
              "      <th>1997</th>\n",
              "      <td>40.131561</td>\n",
              "    </tr>\n",
              "    <tr>\n",
              "      <th>1998</th>\n",
              "      <td>40.292641</td>\n",
              "    </tr>\n",
              "    <tr>\n",
              "      <th>1999</th>\n",
              "      <td>40.539722</td>\n",
              "    </tr>\n",
              "    <tr>\n",
              "      <th>2000</th>\n",
              "      <td>40.903709</td>\n",
              "    </tr>\n",
              "    <tr>\n",
              "      <th>2001</th>\n",
              "      <td>41.392101</td>\n",
              "    </tr>\n",
              "    <tr>\n",
              "      <th>2002</th>\n",
              "      <td>41.985519</td>\n",
              "    </tr>\n",
              "    <tr>\n",
              "      <th>2003</th>\n",
              "      <td>42.653404</td>\n",
              "    </tr>\n",
              "    <tr>\n",
              "      <th>2004</th>\n",
              "      <td>43.351669</td>\n",
              "    </tr>\n",
              "    <tr>\n",
              "      <th>2005</th>\n",
              "      <td>44.042633</td>\n",
              "    </tr>\n",
              "    <tr>\n",
              "      <th>2006</th>\n",
              "      <td>44.725533</td>\n",
              "    </tr>\n",
              "    <tr>\n",
              "      <th>2007</th>\n",
              "      <td>45.393860</td>\n",
              "    </tr>\n",
              "    <tr>\n",
              "      <th>2008</th>\n",
              "      <td>45.997807</td>\n",
              "    </tr>\n",
              "    <tr>\n",
              "      <th>2009</th>\n",
              "      <td>46.476070</td>\n",
              "    </tr>\n",
              "    <tr>\n",
              "      <th>2010</th>\n",
              "      <td>46.788631</td>\n",
              "    </tr>\n",
              "    <tr>\n",
              "      <th>2011</th>\n",
              "      <td>46.909138</td>\n",
              "    </tr>\n",
              "    <tr>\n",
              "      <th>2012</th>\n",
              "      <td>46.857403</td>\n",
              "    </tr>\n",
              "    <tr>\n",
              "      <th>2013</th>\n",
              "      <td>46.697552</td>\n",
              "    </tr>\n",
              "    <tr>\n",
              "      <th>2014</th>\n",
              "      <td>46.521828</td>\n",
              "    </tr>\n",
              "    <tr>\n",
              "      <th>2015</th>\n",
              "      <td>46.397663</td>\n",
              "    </tr>\n",
              "    <tr>\n",
              "      <th>2016</th>\n",
              "      <td>46.347576</td>\n",
              "    </tr>\n",
              "    <tr>\n",
              "      <th>2017</th>\n",
              "      <td>46.354321</td>\n",
              "    </tr>\n",
              "  </tbody>\n",
              "</table>\n",
              "</div>"
            ],
            "text/plain": [
              "            pop\n",
              "year           \n",
              "1950  28.148947\n",
              "1951  28.384714\n",
              "1952  28.637344\n",
              "1953  28.892384\n",
              "1954  29.149452\n",
              "1955  29.408575\n",
              "1956  29.669771\n",
              "1957  29.933046\n",
              "1958  30.198431\n",
              "1959  30.465939\n",
              "1960  30.735071\n",
              "1961  30.998583\n",
              "1962  31.253527\n",
              "1963  31.526134\n",
              "1964  31.838114\n",
              "1965  32.182816\n",
              "1966  32.551407\n",
              "1967  32.950924\n",
              "1968  33.341145\n",
              "1969  33.668930\n",
              "1970  33.980274\n",
              "1971  34.363918\n",
              "1972  34.760521\n",
              "1973  35.165558\n",
              "1974  35.572475\n",
              "1975  35.975315\n",
              "1976  36.373100\n",
              "1977  36.763531\n",
              "1978  37.137703\n",
              "1979  37.484749\n",
              "1980  37.796795\n",
              "1981  38.071262\n",
              "1982  38.309711\n",
              "1983  38.514061\n",
              "1984  38.688122\n",
              "1985  38.835884\n",
              "1986  38.958073\n",
              "1987  39.057213\n",
              "1988  39.141605\n",
              "1989  39.221741\n",
              "1990  39.306103\n",
              "1991  39.403198\n",
              "1992  39.515511\n",
              "1993  39.638634\n",
              "1994  39.764561\n",
              "1995  39.890499\n",
              "1996  40.009323\n",
              "1997  40.131561\n",
              "1998  40.292641\n",
              "1999  40.539722\n",
              "2000  40.903709\n",
              "2001  41.392101\n",
              "2002  41.985519\n",
              "2003  42.653404\n",
              "2004  43.351669\n",
              "2005  44.042633\n",
              "2006  44.725533\n",
              "2007  45.393860\n",
              "2008  45.997807\n",
              "2009  46.476070\n",
              "2010  46.788631\n",
              "2011  46.909138\n",
              "2012  46.857403\n",
              "2013  46.697552\n",
              "2014  46.521828\n",
              "2015  46.397663\n",
              "2016  46.347576\n",
              "2017  46.354321"
            ]
          },
          "execution_count": 3,
          "metadata": {},
          "output_type": "execute_result"
        }
      ]
    },
    {
      "cell_type": "code",
      "metadata": {
        "id": "ym2llJSf52s5",
        "outputId": "e3e7ff26-7b7e-46bb-d2d3-91df9cc5d8a3"
      },
      "source": [
        "# Representar gráficamente la evolución de la población en España.\n",
        "spain_pop.plot(title=\"Evolución de la población en España\")"
      ],
      "execution_count": null,
      "outputs": [
        {
          "data": {
            "text/plain": [
              "<AxesSubplot:title={'center':'Evolución de la población en España'}, xlabel='year'>"
            ]
          },
          "execution_count": 4,
          "metadata": {},
          "output_type": "execute_result"
        },
        {
          "data": {
            "image/png": "[encoded data removed]",
            "text/plain": [
              "<Figure size 432x288 with 1 Axes>"
            ]
          },
          "metadata": {
            "needs_background": "light"
          },
          "output_type": "display_data"
        }
      ]
    },
    {
      "cell_type": "code",
      "metadata": {
        "id": "rckLliro52s6",
        "outputId": "f49be587-dadf-4104-bf7b-6549d7679386"
      },
      "source": [
        "# Calcular la tasa de variación anual de la población en España y representarlo gráficamente.\n",
        "spain_pop_tv=spain_pop.diff().div(spain_pop.shift())\n",
        "spain_pop_tv.plot()"
      ],
      "execution_count": null,
      "outputs": [
        {
          "data": {
            "text/plain": [
              "<AxesSubplot:xlabel='year'>"
            ]
          },
          "execution_count": 5,
          "metadata": {},
          "output_type": "execute_result"
        },
        {
          "data": {
            "image/png": "[encoded data removed]",
            "text/plain": [
              "<Figure size 432x288 with 1 Axes>"
            ]
          },
          "metadata": {
            "needs_background": "light"
          },
          "output_type": "display_data"
        }
      ]
    },
    {
      "cell_type": "code",
      "metadata": {
        "id": "nlm5ZzOC52s6"
      },
      "source": [
        "# Creamos tablas para Italia\n",
        "italy=pwt.query(\"country=='Italy'\")\n",
        "italy_pop=italy[['year','pop']]\n",
        "italy_pop.set_index(\"year\", inplace=True)\n",
        "italy_pop_tv=italy_pop.diff().div(italy_pop.shift())"
      ],
      "execution_count": null,
      "outputs": []
    },
    {
      "cell_type": "code",
      "metadata": {
        "id": "NnCtI3yl52s7",
        "outputId": "dace6df1-c75a-472f-be4a-b44554e6445a"
      },
      "source": [
        "# Evolución de la población en Italia\n",
        "italy_pop.plot(title=\"Evolución de la población en Italia\")"
      ],
      "execution_count": null,
      "outputs": [
        {
          "data": {
            "text/plain": [
              "<AxesSubplot:title={'center':'Evolución de la población en Italia'}, xlabel='year'>"
            ]
          },
          "execution_count": 7,
          "metadata": {},
          "output_type": "execute_result"
        },
        {
          "data": {
            "image/png": "[encoded data removed]",
            "text/plain": [
              "<Figure size 432x288 with 1 Axes>"
            ]
          },
          "metadata": {
            "needs_background": "light"
          },
          "output_type": "display_data"
        }
      ]
    },
    {
      "cell_type": "code",
      "metadata": {
        "id": "tNkzfYh352s8",
        "outputId": "c68cfb2f-5a00-4efc-c85d-ff97a771c1f6"
      },
      "source": [
        "# Tasa de variación de la población en Italia\n",
        "italy_pop_tv.plot(title=\"Crecimiento de la población en Italia\")"
      ],
      "execution_count": null,
      "outputs": [
        {
          "data": {
            "text/plain": [
              "<AxesSubplot:title={'center':'Crecimiento de la población en Italia'}, xlabel='year'>"
            ]
          },
          "execution_count": 8,
          "metadata": {},
          "output_type": "execute_result"
        },
        {
          "data": {
            "image/png": "[encoded data removed]",
            "text/plain": [
              "<Figure size 432x288 with 1 Axes>"
            ]
          },
          "metadata": {
            "needs_background": "light"
          },
          "output_type": "display_data"
        }
      ]
    },
    {
      "cell_type": "code",
      "metadata": {
        "id": "3Rq6gCC352s9",
        "outputId": "a91dcebb-a248-4101-e13a-53523d370dd9"
      },
      "source": [
        "# Representar gráficamente la evolución de la población en ambos países. Hacer lo mismo con sus tasas de variación.\n",
        "    # La manera que vamos a usar normalmente\n",
        "#import matplotlib.pyplot as plt\n",
        "fig,ax=plt.subplots()\n",
        "spain_pop.plot(label=\"Spain\",ax=ax)\n",
        "italy_pop.plot(label=\"Italia\",ax=ax)\n",
        "plt.show()"
      ],
      "execution_count": null,
      "outputs": [
        {
          "data": {
            "image/png": "[encoded data removed]",
            "text/plain": [
              "<Figure size 432x288 with 1 Axes>"
            ]
          },
          "metadata": {
            "needs_background": "light"
          },
          "output_type": "display_data"
        }
      ]
    },
    {
      "cell_type": "code",
      "metadata": {
        "collapsed": true,
        "id": "xRHstnyE52s9",
        "outputId": "84cebc54-0ae4-4657-db44-403a88281a22"
      },
      "source": [
        "    # Otra manera usando exclusivamente la interface (funciones) de pandas\n",
        "pop_sp_it=spain_pop.merge(italy_pop, on='year')\n",
        "pop_sp_it.rename(columns={\"pop_x\":\"España\",\"pop_y\":\"Italia\"}, inplace=True)\n",
        "pop_sp_it.plot()"
      ],
      "execution_count": null,
      "outputs": [
        {
          "data": {
            "text/plain": [
              "<AxesSubplot:xlabel='year'>"
            ]
          },
          "execution_count": 38,
          "metadata": {},
          "output_type": "execute_result"
        },
        {
          "data": {
            "image/png": "[encoded data removed]",
            "text/plain": [
              "<Figure size 432x288 with 1 Axes>"
            ]
          },
          "metadata": {
            "needs_background": "light"
          },
          "output_type": "display_data"
        }
      ]
    },
    {
      "cell_type": "code",
      "metadata": {
        "collapsed": true,
        "id": "a5G7z2up52s-",
        "outputId": "55fc580c-8422-4e84-fdb0-6e12a204ad98"
      },
      "source": [
        "    # Ahora, las tasas de variación\n",
        "pop_sp_it_tv=spain_pop_tv.merge(italy_pop_tv, on='year')\n",
        "pop_sp_it_tv.rename(columns={\"pop_x\":\"España\",\"pop_y\":\"Italia\"}, inplace=True)\n",
        "pop_sp_it_tv.plot()"
      ],
      "execution_count": null,
      "outputs": [
        {
          "data": {
            "text/plain": [
              "<AxesSubplot:xlabel='year'>"
            ]
          },
          "execution_count": 39,
          "metadata": {},
          "output_type": "execute_result"
        },
        {
          "data": {
            "image/png": "[encoded data removed]",
            "text/plain": [
              "<Figure size 432x288 with 1 Axes>"
            ]
          },
          "metadata": {
            "needs_background": "light"
          },
          "output_type": "display_data"
        }
      ]
    },
    {
      "cell_type": "code",
      "metadata": {
        "collapsed": true,
        "id": "5i3m35HD52s-",
        "outputId": "3c0e6d60-c9cd-4eb2-f636-e5b77f8eacfe"
      },
      "source": [
        "# Calcular la media del crecimiento de la población en España e Italia, es decir, calcular la media de la tasa de variación anual durante todo el periodo (1950-2017).  Pista: usar la función .mean\n",
        "medias_tot=pop_sp_it_tv.mean()\n",
        "medias_tot.plot.bar()"
      ],
      "execution_count": null,
      "outputs": [
        {
          "data": {
            "text/plain": [
              "<AxesSubplot:>"
            ]
          },
          "execution_count": 43,
          "metadata": {},
          "output_type": "execute_result"
        },
        {
          "data": {
            "image/png": "[encoded data removed]",
            "text/plain": [
              "<Figure size 432x288 with 1 Axes>"
            ]
          },
          "metadata": {
            "needs_background": "light"
          },
          "output_type": "display_data"
        }
      ]
    },
    {
      "cell_type": "code",
      "metadata": {
        "collapsed": true,
        "id": "g7ZDU2Fr52s_",
        "outputId": "48a1edaa-901a-461a-e4b1-abbd8872a91f"
      },
      "source": [
        "# ¿Qué país ha crecido más en términos de PIB (rgdpo)?\n",
        "# Representar gráficamente el crecimiento del PIB de ambos países durante el periodo 1950-2017.\n",
        "spain_pib=spain[['year','rgdpo']]\n",
        "spain_pib.set_index(\"year\", inplace=True)\n",
        "italy_pib=italy[['year','rgdpo']]\n",
        "italy_pib.set_index(\"year\", inplace=True)\n",
        "pib=spain_pib.merge(italy_pib, on=\"year\")\n",
        "pib.rename(columns={\"rgdpo_x\":\"Spain\",\"rgdpo_y\":\"Italy\"}, inplace=True)\n",
        "pib_tv=pib.diff().div(pib.shift())\n",
        "pib_tv.plot()"
      ],
      "execution_count": null,
      "outputs": [
        {
          "data": {
            "text/plain": [
              "<AxesSubplot:xlabel='year'>"
            ]
          },
          "execution_count": 52,
          "metadata": {},
          "output_type": "execute_result"
        },
        {
          "data": {
            "image/png": "[encoded data removed]",
            "text/plain": [
              "<Figure size 432x288 with 1 Axes>"
            ]
          },
          "metadata": {
            "needs_background": "light"
          },
          "output_type": "display_data"
        }
      ]
    },
    {
      "cell_type": "code",
      "metadata": {
        "scrolled": false,
        "id": "EmJ78Nej52s_",
        "outputId": "11014782-8ed3-4a5c-acfc-0e0a8eff84c1"
      },
      "source": [
        "#¿Qué país ha crecido más?\n",
        "pib_tv.mean().plot.bar()"
      ],
      "execution_count": null,
      "outputs": [
        {
          "data": {
            "text/plain": [
              "<AxesSubplot:>"
            ]
          },
          "execution_count": 54,
          "metadata": {},
          "output_type": "execute_result"
        },
        {
          "data": {
            "image/png": "[encoded data removed]",
            "text/plain": [
              "<Figure size 432x288 with 1 Axes>"
            ]
          },
          "metadata": {
            "needs_background": "light"
          },
          "output_type": "display_data"
        }
      ]
    }
  ]
}