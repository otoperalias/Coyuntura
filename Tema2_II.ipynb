{
  "nbformat": 4,
  "nbformat_minor": 0,
  "metadata": {
    "colab": {
      "provenance": [],
      "authorship_tag": "ABX9TyNr0GEcarAe5HTF70WpJkVX",
      "include_colab_link": true
    },
    "kernelspec": {
      "name": "python3",
      "display_name": "Python 3"
    },
    "language_info": {
      "name": "python"
    }
  },
  "cells": [
    {
      "cell_type": "markdown",
      "metadata": {
        "id": "view-in-github",
        "colab_type": "text"
      },
      "source": [
        "<a href=\"https://colab.research.google.com/github/otoperalias/Coyuntura/blob/main/Tema2_II.ipynb\" target=\"_parent\"><img src=\"https://colab.research.google.com/assets/colab-badge.svg\" alt=\"Open In Colab\"/></a>"
      ]
    },
    {
      "cell_type": "markdown",
      "source": [
        "# Tema 2.2\n",
        "\n",
        "##  Explorando BDSICE: Base de datos de Series de Indicadores de Coyuntura Económica"
      ],
      "metadata": {
        "id": "znWcsXPPf0fz"
      }
    },
    {
      "cell_type": "markdown",
      "source": [
        "El Ministerio de Economía mantiene una base de datos con series de coyuntura económica, fundamentalmente española. En total en esta base están disponibles unas 14.500 series sobre distintos aspectos de la economía española.\n",
        "\n",
        "  * Accesible aquí: [BDSICE](https://serviciosede.mineco.gob.es/Indeco/BDSICE/HomeBDSICE.aspx)"
      ],
      "metadata": {
        "id": "Tn0-XL3qf4cK"
      }
    },
    {
      "cell_type": "markdown",
      "source": [
        "### 1. Importación de librerías a usar"
      ],
      "metadata": {
        "id": "deDZwkHIf7kq"
      }
    },
    {
      "cell_type": "code",
      "source": [
        "# Importamos librerias y establecemos algunas opciones\n",
        "import pandas as pd\n",
        "import matplotlib.pyplot as plt"
      ],
      "metadata": {
        "id": "WIQf_BXof19C"
      },
      "execution_count": null,
      "outputs": []
    },
    {
      "cell_type": "markdown",
      "source": [
        "* Dentro de la página de [BDSICE](https://serviciosede.mineco.gob.es/Indeco/BDSICE/HomeBDSICE.aspx), hacemos clic en \"Consulta y descarga de series\".  \n",
        "* Procedemos a descargar la tasa de paro por nivel de estudios. Para eso, hacemos click en \"1 Mercado Laboral\", luego en \"14 Parados EPA\" y entonces seleccionamos las series:\n",
        "\n",
        "| Disponibilidad | Código serie | Nombre de serie |\n",
        "| ---------------| ------------ | ----------------|\n",
        "| 01/2002 - 02/2023 |\t 143035 | \tTASA DE PARO. NIVEL DE ESTUDIOS: SUPERIORES |\n",
        "|01/2002 - 02/2023\t| 143036 \t| TASA DE PARO. NIVEL DE ESTUDIOS: ANALFABETOS Y PRIMARIOS|\n",
        "|01/2002 - 02/2023|\t 143037 \t|TASA DE PARO. NIVEL DE ESTUDIOS: SECUNDARIOS|\n",
        "\n",
        "* Posteriormente, clicamos en descargar, con formato Excel.\n",
        "* Como ya sabemos algo de Python y, además, vamos a repetir varias veces el proceso de importación de datos, el procesamiento de los datos de la descarga lo vamos a hacer en Python en lugar de en Excel.\n",
        "* No obstante, antes de subir los datos a Google Colab, hay que abrir el archivo que hemos descargado y guardarlo como archivo Excel (por defecto, se guarda como csv)."
      ],
      "metadata": {
        "id": "EcCu4k0Xf_Pa"
      }
    },
    {
      "cell_type": "code",
      "metadata": {
        "id": "MiQka71Z52s2"
      },
      "source": [
        "# 1. Importar datos (recordad primero subir los datos a Google Colab)\n",
        "data=pd.read_excel(\"/content/DescargaSeries_202310030909.xlsx\")\n",
        "data\n"
      ],
      "execution_count": null,
      "outputs": []
    },
    {
      "cell_type": "code",
      "source": [
        "# 2. Eliminamos la primera fila\n",
        "data.drop(0, inplace=True)\n",
        "data"
      ],
      "metadata": {
        "id": "q-W6SmN3Vgia"
      },
      "execution_count": null,
      "outputs": []
    },
    {
      "cell_type": "code",
      "metadata": {
        "id": "FzaEW_dB7miI"
      },
      "source": [
        "# 3. Preparamos la columna con la fecha (trimestre)\n",
        "\n",
        "# 3.1. Primero convierto los datos en string\n",
        "data['trim']=data['SERIES'].astype('str')\n",
        "\n",
        "# 3.2. Extraemos los 4 primeros dígitos, añadimos una Q y añadimos el último dígito\n",
        "data['trim']=data['trim'].str[:4]+\"Q\"+data['trim'].str[-1:]\n",
        "data"
      ],
      "execution_count": null,
      "outputs": []
    },
    {
      "cell_type": "code",
      "metadata": {
        "id": "NN2x9VfU7mqY"
      },
      "source": [
        "# 4. Convertimos la columna en datatime, para que Python la interprete como fecha\n",
        "data['trim']=pd.to_datetime(data['trim'])\n",
        "data"
      ],
      "execution_count": null,
      "outputs": []
    },
    {
      "cell_type": "code",
      "metadata": {
        "id": "CSzTTqiZIqq-"
      },
      "source": [
        "# 5. Ahora se establece la columna trim como index de la tabla\n",
        "data.set_index(\"trim\", inplace=True)\n",
        "data"
      ],
      "execution_count": null,
      "outputs": []
    },
    {
      "cell_type": "code",
      "source": [
        "# 6. Renombramos las columnas\n",
        "data.rename(columns={\n",
        "    \"TASA DE PARO. NIVEL DE ESTUDIOS: SUPERIORES\":\"tp_sup\",\n",
        "    \"TASA DE PARO. NIVEL DE ESTUDIOS: ANALFABETOS Y PRIMARIOS\":\"tp_pri\",\n",
        "    \"TASA DE PARO. NIVEL DE ESTUDIOS: SECUNDARIOS\":\"tp_sec\"}, inplace=True)\n",
        "data"
      ],
      "metadata": {
        "id": "uehkut7bdq18"
      },
      "execution_count": null,
      "outputs": []
    },
    {
      "cell_type": "code",
      "metadata": {
        "id": "67s2wAqSI5AW"
      },
      "source": [
        "# 7. Borramos las columnas innecesarias\n",
        "data.drop(columns=\"SERIES\", inplace=True)\n",
        "data"
      ],
      "execution_count": null,
      "outputs": []
    },
    {
      "cell_type": "markdown",
      "source": [
        "### 2. Visualización de los datos\n",
        "\n"
      ],
      "metadata": {
        "id": "O8xN53x9KSO8"
      }
    },
    {
      "cell_type": "code",
      "metadata": {
        "id": "rQb75mcJ7mwe"
      },
      "source": [
        "data.plot(title=\"Tasa de paro en España por nivel de estudios\")\n",
        "plt.show()"
      ],
      "execution_count": null,
      "outputs": []
    },
    {
      "cell_type": "markdown",
      "source": [
        "### 3. Tasas de paro por grupo de edad\n"
      ],
      "metadata": {
        "id": "ldHCF-lF3Z34"
      }
    },
    {
      "cell_type": "markdown",
      "source": [
        "Para calcular las tasas de paro por grupo de edad, necesitamos descargar las siguientes series:  \n",
        "* **Poblacion (EPA)**:\n",
        "  * ACTIVOS. TOTAL\n",
        "  * ACTIVOS DE 16 A 24 AÑOS. TOTAL\n",
        "  * ACTIVOS DE 25 A 54 AÑOS. TOTAL\n",
        "  * ACTIVOS DE 55 AÑOS Y MAS. TOTAL\n",
        "* **Parados (EPA)**:\n",
        "  * PARADOS. TOTAL\n",
        "  * PARADOS DE 16 A 24 AÑOS. TOTAL\n",
        "  * PARADOS DE 25 A 54 AÑOS. TOTAL\n",
        "  * PARADOS DE 55 AÑOS Y MÁS. TOTAL"
      ],
      "metadata": {
        "id": "kRYbZti53ycX"
      }
    },
    {
      "cell_type": "markdown",
      "source": [
        "### 4. Indicador de confianza del consumidor"
      ],
      "metadata": {
        "id": "o0imc2rbjGXT"
      }
    },
    {
      "cell_type": "markdown",
      "source": [
        "El último ejercicio de este notebook es representar gráficamente la evolución del Indicador de Confianza del Consumidor:  \n",
        "\n",
        "339000 |\tICC- INDICADOR DE CONFIANZA DEL CONSUMIDOR  \n",
        "\n",
        "Está en la sección *3 Encuestas de Opinión* > *33 Indicadores de confianza del consumidor (CE y CIS)*"
      ],
      "metadata": {
        "id": "ZOm7aY77i0bX"
      }
    },
    {
      "cell_type": "markdown",
      "source": [
        "En este caso se trata de una serie mensual, la cual debe tener el siguiente formato para poder ser interpretada por ```Python``` como fecha: XXXX-XX (los cuatro dígitos del año seguido de guión y los dos dígitos del mes correspondiente)"
      ],
      "metadata": {
        "id": "OGmEXCHJj7H1"
      }
    },
    {
      "cell_type": "code",
      "source": [],
      "metadata": {
        "id": "VL3DYq0qi08V"
      },
      "execution_count": null,
      "outputs": []
    }
  ]
}