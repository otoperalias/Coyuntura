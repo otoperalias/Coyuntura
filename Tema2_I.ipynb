{
  "nbformat": 4,
  "nbformat_minor": 0,
  "metadata": {
    "colab": {
      "name": "Untitled0.ipynb",
      "provenance": [],
      "toc_visible": true,
      "authorship_tag": "ABX9TyNYSL1fKhl8moAKfpRJStI3",
      "include_colab_link": true
    },
    "kernelspec": {
      "name": "python3",
      "display_name": "Python 3"
    },
    "language_info": {
      "name": "python"
    }
  },
  "cells": [
    {
      "cell_type": "markdown",
      "metadata": {
        "id": "view-in-github",
        "colab_type": "text"
      },
      "source": [
        "<a href=\"https://colab.research.google.com/github/otoperalias/Coyuntura/blob/main/Tema2_I.ipynb\" target=\"_parent\"><img src=\"https://colab.research.google.com/assets/colab-badge.svg\" alt=\"Open In Colab\"/></a>"
      ]
    },
    {
      "cell_type": "markdown",
      "metadata": {
        "id": "Uo3LbggxYQuV"
      },
      "source": [
        " ## TEMA 2. ANÁLISIS ECONÓMICO CON PYTHON\n",
        "\n",
        "Universidad Pablo de Olavide, Curso 2021-22\n",
        "\n",
        "Daniel Oto-Peralías"
      ]
    },
    {
      "cell_type": "markdown",
      "metadata": {
        "id": "FJm--0njYBjz"
      },
      "source": [
        "### Índice:\n",
        "\n",
        "1.   Introducción\n",
        "2.   Sintaxis y estructuras básicas de datos.\n",
        "3.   Numpy.\n",
        "4.   Pandas.\n",
        "5.   Una Aplicación - Usando la PWT."
      ]
    },
    {
      "cell_type": "markdown",
      "metadata": {
        "id": "qiisPG4LZUac"
      },
      "source": [
        "## 1. Introducción\n",
        "\n",
        "* Python es un lenguaje de programación muy flexible e intuitivo.\n",
        "* Es el lenguaje por excelencia de DATA SCIENCE.\n",
        "* Contiene muchas herramientas para realizar muchos tipos de análisis y ejercicios imposibles con Excel o STATA. Permite, por ejemplo, recopilar información de internet mecánicamente.\n",
        "* Es seguramente el lenguaje de programación con más perspectivas de futuro.\n",
        "* Gracias a su popularidad, hay muchos recursos y ayuda on-line, empezando por la web oficial https://docs.python.org/3/contents.html\n",
        "\n",
        "<strong> Descarga e instalación </strong>\n",
        "\n",
        "* Lo puedes descargar directamente de la web oficial https://www.python.org/downloads/\n",
        "\n",
        " Incluye un editor (IDLE), el cual se puede mejorar instalando con IdLex http://idlex.sourceforge.net/\n",
        "\n",
        "* Lo más recomendable es descargarlo a través de ANACONDA, un paquete que incluye Python, el editor Spyder, Jupyter y cientos de módulos:\n",
        "https://www.anaconda.com/distribution/#download-section\n",
        "\n",
        "* También es posible usar Python online a través de Google colab (https://colab.research.google.com), para lo cual se necesita crear una cuenta gratuita en Google."
      ]
    },
    {
      "cell_type": "markdown",
      "metadata": {
        "id": "M2cW_RrGbvtd"
      },
      "source": [
        "## 2. Sintaxis y estructuras básicas de datos\n",
        "\n",
        "* Las sangrías importan en Python (mientras en Stata se usan llaves { … } en Python sangrías).\n",
        "* Las letras mayúsculas también importan.\n",
        "* Cualquier texto detrás de “#” se trata como un comentario.\n"
      ]
    },
    {
      "cell_type": "markdown",
      "metadata": {
        "id": "l-NGyNWhhON7"
      },
      "source": [
        "#### **Variables**\n",
        "\n",
        "Las variables son objetos a los que se asignan números o texto (string).\n",
        "```python\n",
        "myNumber = 10\n",
        "print (myNumber)\n",
        "\n",
        "myString = \"Hello , World !\"\n",
        "print (myString)\n",
        "```"
      ]
    },
    {
      "cell_type": "markdown",
      "metadata": {
        "id": "pF1WCs6-bv7j"
      },
      "source": [
        "---\n",
        "*Tarea 1* - Asigne dos variables para que sean números (el 5 y el 25) y use el símbolo + para producir la suma de esos números. Ahora intenta restar, multiplicar y dividir.\n",
        "\n",
        "---"
      ]
    },
    {
      "cell_type": "code",
      "metadata": {
        "id": "VSHJp3FjfcD2"
      },
      "source": [
        "# Resolver Tarea 1 aquí:\n"
      ],
      "execution_count": 1,
      "outputs": []
    },
    {
      "cell_type": "markdown",
      "metadata": {
        "id": "FnN_VegQfmrQ"
      },
      "source": [
        "---\n",
        "*Tarea 2* - Asigne “Hello” a una variable y “World!\" a otra. Concatene (combine) las dos variables (string variables) con el signo más, tal como agregaría números. Pista: Agregue un poco de espacio en blanco: var1 + “ “ + var2..\n",
        "\n",
        "---"
      ]
    },
    {
      "cell_type": "code",
      "metadata": {
        "id": "AY699Iowff8v"
      },
      "source": [
        "# Resolver Tarea 2 aquí:\n"
      ],
      "execution_count": null,
      "outputs": []
    },
    {
      "cell_type": "markdown",
      "metadata": {
        "id": "ch3_ei25gAAB"
      },
      "source": [
        "---\n",
        "*Tarea 3* - Pruebe ahora a multiplicar un elemento no numérico (string): “-x-”*50\n",
        "\n",
        "---"
      ]
    },
    {
      "cell_type": "code",
      "metadata": {
        "id": "m8_Xl1SJgWEg"
      },
      "source": [
        "# Resolver Tarea 2 aquí:\n"
      ],
      "execution_count": null,
      "outputs": []
    },
    {
      "cell_type": "markdown",
      "metadata": {
        "id": "bdP7AfhBf3JO"
      },
      "source": [
        "#### **Listas**\n",
        "\n",
        "* Las listas son otro tipo de objeto básico en Python. Para definir una lista, separe sus elementos por comas y cierre con corchetes. \n",
        "* Algunas formas de agregar elementos a una lista:\n",
        "```python\n",
        "myList = [1,2,3] \n",
        "myList.append(4)\n",
        "myList=myList+[5]\n",
        "myList+=[6] \n",
        "myList\n",
        "```"
      ]
    },
    {
      "cell_type": "markdown",
      "metadata": {
        "id": "F_Dp2MRDiUPN"
      },
      "source": [
        "---\n",
        "*Tarea 4* - Defina una lista en la que los elementos son los dígitos de su cumpleaños.\n",
        "\n",
        "---"
      ]
    },
    {
      "cell_type": "code",
      "metadata": {
        "id": "V16jLofxhpB_"
      },
      "source": [
        "# Resolver Tarea 4 aquí:\n"
      ],
      "execution_count": null,
      "outputs": []
    },
    {
      "cell_type": "markdown",
      "metadata": {
        "id": "sESp0j2Gigp2"
      },
      "source": [
        "* La indexación en una lista = posición de un elemento en la lista. Python comienza a contar en 0.\n",
        "```python\n",
        "myList\n",
        "myList [0] # primer elemento en myList\n",
        "len(myList) # longitud de myList\n",
        "myList [6] # da error porque no existe el element 7º\n",
        "myList [5] # esto sí ;)\n",
        "```"
      ]
    },
    {
      "cell_type": "markdown",
      "metadata": {
        "id": "uT3R0bQki-gC"
      },
      "source": [
        "---\n",
        "*Tarea 5* - De la lista definida en la Tarea 4, calcule su longitud y extraiga el último elemento.\n",
        "\n",
        "---"
      ]
    },
    {
      "cell_type": "code",
      "metadata": {
        "id": "i_KJBex4i5L2"
      },
      "source": [
        "# Resolver tarea 5 aquí:\n"
      ],
      "execution_count": null,
      "outputs": []
    },
    {
      "cell_type": "markdown",
      "metadata": {
        "id": "y2vWUXDKjKQH"
      },
      "source": [
        "--- \n",
        "*Tarea 6* - Las listas pueden almacenar cualquier estructura de datos en sus elementos. Haga una lista en la que el primer elemento es el nombre del mes de su cumpleaños (string), el segundo elemento es el día del mes de su cumpleaños (un número) y el último elemento es el año de su nacimiento (también un número).\n",
        "\n",
        "---"
      ]
    },
    {
      "cell_type": "code",
      "metadata": {
        "id": "h9mFjUaajfqB"
      },
      "source": [
        "# Resolver tarea 6 aquí:\n"
      ],
      "execution_count": null,
      "outputs": []
    },
    {
      "cell_type": "markdown",
      "metadata": {
        "id": "rLck9OgdjiQj"
      },
      "source": [
        "* Además, las listas pueden contener listas.\n",
        "```python\n",
        "lista1=[0,1,2,3]\n",
        "lista2=[lista1,\"Uno\",\"Dos\"]\n",
        "print(lista2)\n",
        "```\n",
        "[[0, 1, 2, 3], 'Uno', 'Dos']"
      ]
    },
    {
      "cell_type": "markdown",
      "metadata": {
        "id": "RkDwXwB7kna9"
      },
      "source": [
        "* Las listas se pueden modificar borrando y añadiendo elementos:\n",
        "```python\n",
        "myList=[\"a\",\"b\",\"c\"]\n",
        "myList[0]=\"z\" # Cambiamos el primer elemento\n",
        "print(myList)\n",
        "```\n",
        "['z', 'b', 'c']"
      ]
    },
    {
      "cell_type": "markdown",
      "metadata": {
        "id": "yYQVBbEmkoZ9"
      },
      "source": [
        "* Cuando una lista se asigna a otra, cambios en la primera lista afectan a la nueva:\n",
        "```python\n",
        "myList=[\"a\",\"b\",\"c\",\"d\",\"e\"]\n",
        "newList=myList\n",
        "print(newList)\n",
        "myList+=[\"Z\"]\n",
        "print(newList)\n",
        "```\n",
        "['a', 'b', 'c', 'd', 'e']\n",
        "\n",
        "  ['a', 'b', 'c', 'd', 'e', 'Z']"
      ]
    },
    {
      "cell_type": "markdown",
      "metadata": {
        "id": "P73oeC2jlQLO"
      },
      "source": [
        "* Para evitarlo, usamos la función copiar:\n",
        "```python\n",
        "myList=[\"a\",\"b\",\"c\",\"d\",\"e\"]\n",
        "newList=myList.copy()\n",
        "print(newList)\n",
        "myList+=[\"Z\"]\n",
        "print(newList)\n",
        "```\n",
        "['a', 'b', 'c', 'd', 'e']\n",
        "\n",
        "  ['a', 'b', 'c', 'd', 'e']"
      ]
    },
    {
      "cell_type": "code",
      "metadata": {
        "id": "i91z6gfwleEb"
      },
      "source": [
        ""
      ],
      "execution_count": null,
      "outputs": []
    }
  ]
}