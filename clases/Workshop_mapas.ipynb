{
  "nbformat": 4,
  "nbformat_minor": 0,
  "metadata": {
    "colab": {
      "provenance": [],
      "authorship_tag": "ABX9TyOtSp+7Pcs8yYVowRRxuLqY",
      "include_colab_link": true
    },
    "kernelspec": {
      "name": "python3",
      "display_name": "Python 3"
    },
    "language_info": {
      "name": "python"
    }
  },
  "cells": [
    {
      "cell_type": "markdown",
      "metadata": {
        "id": "view-in-github",
        "colab_type": "text"
      },
      "source": [
        "<a href=\"https://colab.research.google.com/github/otoperalias/Coyuntura/blob/main/clases/Workshop_mapas.ipynb\" target=\"_parent\"><img src=\"https://colab.research.google.com/assets/colab-badge.svg\" alt=\"Open In Colab\"/></a>"
      ]
    },
    {
      "cell_type": "code",
      "source": [
        "!pip install --upgrade geopandas\n",
        "!pip install --upgrade pyshp\n",
        "!pip install --upgrade shapely\n",
        "!pip install --upgrade descartes"
      ],
      "metadata": {
        "id": "9I8J8lz6yD3d"
      },
      "execution_count": null,
      "outputs": []
    },
    {
      "cell_type": "code",
      "source": [
        "# Reiniciar ahora el entorno de ejecución"
      ],
      "metadata": {
        "id": "EiwC2vcKQbeT"
      },
      "execution_count": null,
      "outputs": []
    },
    {
      "cell_type": "code",
      "execution_count": null,
      "metadata": {
        "id": "OTBedEhnyAE6"
      },
      "outputs": [],
      "source": [
        "import pandas as pd\n",
        "import geopandas as gpd\n",
        "import matplotlib.pyplot as plt\n",
        "import numpy as np"
      ]
    },
    {
      "cell_type": "markdown",
      "source": [
        "### Mapa CCAA"
      ],
      "metadata": {
        "id": "nUrK08tYyyS8"
      }
    },
    {
      "cell_type": "markdown",
      "source": [
        "1. Subimos y leemos la capa geográfica\n"
      ],
      "metadata": {
        "id": "aL946iAB93uO"
      }
    },
    {
      "cell_type": "code",
      "source": [
        "# Capa: https://raw.githubusercontent.com/otoperalias/Coyuntura/main/clases/datos/mapas/ccaa.zip\n",
        "# Descargar la carpeta comprimida, extraer los archivos y luego subirlos a Colab\n",
        "map_df = gpd.read_file(\"ccaa.zip\")"
      ],
      "metadata": {
        "id": "400YGGY2y2PX"
      },
      "execution_count": null,
      "outputs": []
    },
    {
      "cell_type": "code",
      "source": [
        "# Podemos explorar la estructura de la tabla\n",
        "map_df.head()"
      ],
      "metadata": {
        "id": "Ch23jv4Pzwyh"
      },
      "execution_count": null,
      "outputs": []
    },
    {
      "cell_type": "code",
      "source": [
        "# Se puede crear un mapa simplemente con la función .plot()\n",
        "map_df.plot()"
      ],
      "metadata": {
        "id": "lS_yFops9ULn"
      },
      "execution_count": null,
      "outputs": []
    },
    {
      "cell_type": "markdown",
      "source": [
        "2. Subimos y leemos los datos a representar"
      ],
      "metadata": {
        "id": "qBs2np4-9-Mk"
      }
    },
    {
      "cell_type": "code",
      "source": [
        "# Datos de paro: https://github.com/otoperalias/Coyuntura/blob/main/clases/datos/mapas/Ej-Geopandas_paro.xlsx\n",
        "df=pd.read_excel(\"Ej-Geopandas_paro.xlsx\",\"ccaa_paro\")\n",
        "df"
      ],
      "metadata": {
        "id": "UI7304IJ1u-R"
      },
      "execution_count": null,
      "outputs": []
    },
    {
      "cell_type": "markdown",
      "source": [
        "3. Hacemos un \"merge\""
      ],
      "metadata": {
        "id": "BnKQgpYa-Gyp"
      }
    },
    {
      "cell_type": "code",
      "source": [
        "merged=map_df.merge(df,on=\"code\")"
      ],
      "metadata": {
        "id": "FSB-TGIv-Ep3"
      },
      "execution_count": null,
      "outputs": []
    },
    {
      "cell_type": "markdown",
      "source": [
        "4. Creamos un mapa con la tasa de paro a nivel autonómico"
      ],
      "metadata": {
        "id": "lB_Jt4uE-OGg"
      }
    },
    {
      "cell_type": "code",
      "source": [
        "# Mapa básico\n",
        "fig, ax=plt.subplots(1,figsize=(15,8))\n",
        "merged.plot(column=\"tasaparo\", cmap='Reds',ax=ax, legend=True)\n",
        "ax.set_title(\"Tasa de paro en el tercer trimestre de 2022 \\n\",size=\"16\")\n",
        "ax.axis(\"off\")\n",
        "fig.text(0.2,0.05,\"Fuente: INE. Elaboración propia.\",size=\"12\")\n",
        "plt.show()"
      ],
      "metadata": {
        "id": "VH4HYQGE-Xjm"
      },
      "execution_count": null,
      "outputs": []
    },
    {
      "cell_type": "code",
      "source": [
        "# Mapa algo más profesional (con leyenda de menor tamaño y con límites autonómicos)\n",
        "fig, ax=plt.subplots(1,figsize=(15,8))\n",
        "merged.plot(column=\"tasaparo\", cmap='Reds',ax=ax, legend=True, legend_kwds={'shrink': 0.7})\n",
        "merged.boundary.plot(ax=ax,color=\"black\",linewidth=.3)\n",
        "ax.axis(\"off\")\n",
        "ax.set_title(\"Tasa de paro en el tercer trimestre de 2022 \\n\",size=\"16\")\n",
        "fig.text(0.2,0.05,\"Fuente: INE. Elaboración propia.\",size=\"12\")\n",
        "plt.show()"
      ],
      "metadata": {
        "id": "DTef8w7Q_AlW"
      },
      "execution_count": null,
      "outputs": []
    },
    {
      "cell_type": "markdown",
      "source": [
        "### Mapa provincias"
      ],
      "metadata": {
        "id": "iKEb5dqOS12d"
      }
    },
    {
      "cell_type": "markdown",
      "source": [
        "Repetimos los 4 pasos anteriores:\n",
        "1. Subimos e importamos la capa geográfica.\n",
        "2. Subimos e importamos los datos económicos a representar.\n",
        "3. Unimos con la función ```.merge()``` ambas tablas.\n",
        "4. Creamos el gráfico."
      ],
      "metadata": {
        "id": "hD9IHcdYS8XB"
      }
    },
    {
      "cell_type": "code",
      "source": [
        "# Capa: https://raw.githubusercontent.com/otoperalias/Coyuntura/main/clases/datos/mapas/prov.zip\n",
        "# Descargar la carpeta comprimida, extraer los archivos y luego subirlos a Colab\n",
        "map_df = gpd.read_file(\"prov.zip\")\n",
        "map_df.plot()"
      ],
      "metadata": {
        "id": "UztfRixbS33W"
      },
      "execution_count": null,
      "outputs": []
    },
    {
      "cell_type": "code",
      "source": [
        "df=pd.read_excel(\"Ej-Geopandas_paro.xlsx\",\"paro_prov\")\n",
        "df"
      ],
      "metadata": {
        "id": "W6N95QonT6qG"
      },
      "execution_count": null,
      "outputs": []
    },
    {
      "cell_type": "code",
      "source": [
        "merged=map_df.merge(df,on=\"code\")"
      ],
      "metadata": {
        "id": "2WbnDZKWU7t9"
      },
      "execution_count": null,
      "outputs": []
    },
    {
      "cell_type": "code",
      "source": [
        "fig, ax=plt.subplots(1,figsize=(15,8))\n",
        "merged.plot(column=\"tasaparo\", cmap='Reds',ax=ax, legend=True, legend_kwds={'shrink': 0.7})\n",
        "merged.boundary.plot(ax=ax,color=\"black\",linewidth=.3)\n",
        "ax.axis(\"off\")\n",
        "ax.set_title(\"Tasa de paro en el tercer trimestre de 2022 \\n\",size=\"16\")\n",
        "fig.text(0.2,0.05,\"Fuente: INE. Elaboración propia.\",size=\"12\")\n",
        "plt.show()"
      ],
      "metadata": {
        "id": "xfQJmbkaU_G5"
      },
      "execution_count": null,
      "outputs": []
    },
    {
      "cell_type": "markdown",
      "source": [
        "### Mapa países"
      ],
      "metadata": {
        "id": "qowUfwcdV3_T"
      }
    },
    {
      "cell_type": "code",
      "source": [
        "# Capa: https://raw.githubusercontent.com/otoperalias/Coyuntura/main/clases/datos/mapas/world.zip\n",
        "# Descargar la carpeta comprimida, extraer los archivos y luego subirlos a Colab\n",
        "map_df = gpd.read_file(\"world_countries.shp\")\n",
        "map_df.plot()"
      ],
      "metadata": {
        "id": "sGwp-zWxV8W2"
      },
      "execution_count": null,
      "outputs": []
    },
    {
      "cell_type": "code",
      "source": [
        "# En este caso, la propia capa geográfica contiene algunas variables económicas\n",
        "map_df.head()"
      ],
      "metadata": {
        "id": "pjsndPnfWSRB"
      },
      "execution_count": null,
      "outputs": []
    },
    {
      "cell_type": "code",
      "source": [
        "# Creamos una variable para representar: el PIB pc\n",
        "map_df[\"pibpc\"]=map_df.GDP_MD_EST/map_df.POP_EST*1000000"
      ],
      "metadata": {
        "id": "xUWYRulcWSUE"
      },
      "execution_count": null,
      "outputs": []
    },
    {
      "cell_type": "code",
      "source": [
        "# Gráfico 1\n",
        "fig, ax=plt.subplots(figsize=(20,8))\n",
        "map_df.plot(column=\"pibpc\", cmap='Reds',ax=ax, legend=True, legend_kwds={'shrink': 0.5})\n",
        "map_df.boundary.plot(ax=ax,color=\"black\",linewidth=.3)\n",
        "ax.axis(\"off\")\n",
        "ax.set_title(\"Pib per cápita en 2016 \\n\",size=\"16\")\n",
        "fig.text(0.2,0.05,\"Fuente: INE. Elaboración propia.\",size=\"12\")\n",
        "plt.show()"
      ],
      "metadata": {
        "id": "ofoYwy9jWSgo"
      },
      "execution_count": null,
      "outputs": []
    },
    {
      "cell_type": "code",
      "source": [
        "# Gráfico 2: Europa\n",
        "europe=map_df.loc[map_df.CONTINENT==\"Europe\"].copy()\n",
        "fig, ax=plt.subplots(figsize=(10,7))\n",
        "europe.plot(column=\"pibpc\", cmap='Reds',ax=ax, legend=True, legend_kwds={'shrink': 0.5})\n",
        "europe.boundary.plot(ax=ax,color=\"black\",linewidth=.3)\n",
        "ax.axis(\"off\")\n",
        "ax.set_title(\"Pib per cápita en Europa en 2016 \\n\",size=\"16\")\n",
        "ax.set_xlim(-25,40)\n",
        "ax.set_ylim(35,75)\n",
        "fig.text(0.2,0.05,\"Fuente: INE. Elaboración propia.\",size=\"12\")\n",
        "plt.show()"
      ],
      "metadata": {
        "id": "M8pyfRhTaQAP"
      },
      "execution_count": null,
      "outputs": []
    },
    {
      "cell_type": "markdown",
      "source": [
        "**Ejercicio**:  \n",
        "Calcular el crecimiento del PIB real en la última década usando la PWT y representarlo en un mapa."
      ],
      "metadata": {
        "id": "wOlfFjyJcVAv"
      }
    },
    {
      "cell_type": "markdown",
      "source": [
        "**Ejercicio plus:**  \n",
        "Aprender a usar la API del World Bank para acceder a sus bases de datos:  \n",
        "https://blogs.worldbank.org/opendata/introducing-wbgapi-new-python-package-accessing-world-bank-data  \n",
        "Ver los dos links al final del artículo, donde se puede acceder a los notebooks.  \n",
        "Posteriormente, representar alguna variable en un mapa."
      ],
      "metadata": {
        "id": "i1VcQDAudd1a"
      }
    },
    {
      "cell_type": "code",
      "source": [
        "!pip install wbgapi"
      ],
      "metadata": {
        "id": "E4UaIoR9dlvx"
      },
      "execution_count": null,
      "outputs": []
    },
    {
      "cell_type": "code",
      "source": [
        "import wbgapi as wb"
      ],
      "metadata": {
        "id": "_m3Rmi5jdqCI"
      },
      "execution_count": null,
      "outputs": []
    },
    {
      "cell_type": "code",
      "source": [
        "# Para buscar datos\n",
        "wb.search(\"GDP per capita\")"
      ],
      "metadata": {
        "id": "rCOyA5CUiYVv"
      },
      "execution_count": null,
      "outputs": []
    },
    {
      "cell_type": "code",
      "source": [
        "# Para obtener datos\n",
        "wb.data.DataFrame(['SP.POP.TOTL', 'EN.ATM.CO2E.KT'], time=2000, skipBlanks=True, columns='series')"
      ],
      "metadata": {
        "id": "UTTplt0djsNF"
      },
      "execution_count": null,
      "outputs": []
    }
  ]
}