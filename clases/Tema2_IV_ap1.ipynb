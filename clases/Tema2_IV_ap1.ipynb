{
  "nbformat": 4,
  "nbformat_minor": 0,
  "metadata": {
    "colab": {
      "provenance": [],
      "authorship_tag": "ABX9TyPCr3BUj3HxRvoo++Gv36s4",
      "include_colab_link": true
    },
    "kernelspec": {
      "name": "python3",
      "display_name": "Python 3"
    },
    "language_info": {
      "name": "python"
    }
  },
  "cells": [
    {
      "cell_type": "markdown",
      "metadata": {
        "id": "view-in-github",
        "colab_type": "text"
      },
      "source": [
        "<a href=\"https://colab.research.google.com/github/otoperalias/Coyuntura/blob/main/clases/Tema2_IV_ap1.ipynb\" target=\"_parent\"><img src=\"https://colab.research.google.com/assets/colab-badge.svg\" alt=\"Open In Colab\"/></a>"
      ]
    },
    {
      "cell_type": "markdown",
      "source": [
        "## Tema 2 IV. Coyuntura en el mercado laboral.\n",
        "\n",
        "## Apéndice 1: Extracción automática de datos de parados registrados."
      ],
      "metadata": {
        "id": "8yC0D67-hkQu"
      }
    },
    {
      "cell_type": "markdown",
      "source": [
        "Los datos de demandantes de empleo parados (parados registrados) están disponibles en [este enlace](https://www.sepe.es/HomeSepe/que-es-el-sepe/estadisticas/empleo/estadisticas-nuevas.html). Como puede apreciarse, es muy tedioso descargar mes a mes. A continuación procedemos a extraer los datos necesarios directamente en Python."
      ],
      "metadata": {
        "id": "yZCnz1lDh8Pr"
      }
    },
    {
      "cell_type": "markdown",
      "source": [
        "#### 1. Creamos un bucle para extraer los datos deseados  \n",
        "\n",
        "Esta es la parte más compleja. A través del bucle se rellenan de manera iterativa tres listas, una donde se guardan las fechas, otra para los parados de Sevilla y una última para los de España.  \n",
        "Es necesario ver la estructura del url del que leer los archivos excel del Ministerio. Como puede verse, hay una pequeña variación en dicho url para enero y febrero de 2020."
      ],
      "metadata": {
        "id": "fjAtxr8riJra"
      }
    },
    {
      "cell_type": "code",
      "source": [
        "import pandas as pd"
      ],
      "metadata": {
        "id": "zSWkMgesjGEP"
      },
      "execution_count": null,
      "outputs": []
    },
    {
      "cell_type": "code",
      "source": [
        "meses={'enero':\"01\",'febrero':\"02\",'marzo':\"03\",'abril':\"04\",'mayo':\"05\",'junio':\"06\",'julio':\"07\",'agosto':\"08\",'septiembre':\"09\",'octubre':\"10\",'noviembre':\"11\",'diciembre':\"12\"}\n",
        "years=[\"2020\",\"2021\",\"2022\",\"2023\"]\n",
        "\n",
        "preg_fecha=[]\n",
        "preg_sev=[]\n",
        "preg_esp=[]\n",
        "\n",
        "for year in years:\n",
        "  for mes in meses:\n",
        "    fecha=year+\"-\"+meses[mes]\n",
        "    if fecha==\"2020-01\" or fecha==\"2020-02\": # Para estos dos meses la url es ligeramente diferente!\n",
        "      link=\"https://www.sepe.es/SiteSepe/contenidos/que_es_el_sepe/estadisticas/datos_estadisticos/empleo/datos/\"+year+\"/\"+mes+\"_\"+year+\"/ESTADISTICA_DE_-EMPLEO.xls\"\n",
        "    else:\n",
        "      link=\"https://www.sepe.es/SiteSepe/contenidos/que_es_el_sepe/estadisticas/datos_estadisticos/empleo/datos/\"+year+\"/\"+mes+\"_\"+year+\"/ESTADISTICA-DE-EMPLEO.xls\"\n",
        "    preg=pd.read_excel(link,sheet_name=\"6.2\")\n",
        "    sev=preg.loc[preg[\"Unnamed: 1\"]==\"SEVILLA\",\"Unnamed: 2\"].iloc[0]\n",
        "    esp=preg.loc[preg[\"Unnamed: 1\"]==\"TOTAL ZONA GEOGRAFICA\",\"Unnamed: 2\"].iloc[0]\n",
        "    preg_fecha.append(fecha)\n",
        "    preg_sev.append(sev)\n",
        "    preg_esp.append(esp)\n",
        "    if fecha==\"2023-09\":\n",
        "      break"
      ],
      "metadata": {
        "id": "rsJRAuqkhvCE"
      },
      "execution_count": null,
      "outputs": []
    },
    {
      "cell_type": "markdown",
      "source": [
        "#### 2. Creamos una dataframe a partir de las listas"
      ],
      "metadata": {
        "id": "0RYXGLHni80h"
      }
    },
    {
      "cell_type": "code",
      "source": [
        "diccionario={'fecha':preg_fecha,'sev':preg_sev, 'esp':preg_esp}\n",
        "parados=pd.DataFrame(diccionario)"
      ],
      "metadata": {
        "id": "D-j-i0iRih0q"
      },
      "execution_count": null,
      "outputs": []
    },
    {
      "cell_type": "markdown",
      "source": [
        "#### 3. Convertimos la fecha en formato \"datetime\" y lo establecemos como index."
      ],
      "metadata": {
        "id": "mF8lCR9CjLmD"
      }
    },
    {
      "cell_type": "code",
      "source": [
        "parados['fecha']=pd.to_datetime(parados['fecha'])\n",
        "parados.set_index(\"fecha\", inplace=True)"
      ],
      "metadata": {
        "id": "dniBrqAIjP39"
      },
      "execution_count": null,
      "outputs": []
    },
    {
      "cell_type": "markdown",
      "source": [
        "#### 4. Guardamos como csv."
      ],
      "metadata": {
        "id": "7nFWixSAjX0O"
      }
    },
    {
      "cell_type": "code",
      "source": [
        "parados.to_csv(\"parados_Sevilla.csv\")"
      ],
      "metadata": {
        "id": "5WZIP-GujbUP"
      },
      "execution_count": null,
      "outputs": []
    }
  ]
}