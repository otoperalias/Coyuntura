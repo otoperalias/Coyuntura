{
 "cells": [
  {
   "cell_type": "markdown",
   "id": "bc1122bf",
   "metadata": {},
   "source": [
    "## Tema 4: Indicadores sintéticos"
   ]
  },
  {
   "cell_type": "markdown",
   "id": "564292c9",
   "metadata": {},
   "source": [
    "Antes en ejecutar este código, debe leerse con atención las diapositivas correspondientes al Tema 4 disponibles en el Aula Virtual."
   ]
  },
  {
   "cell_type": "markdown",
   "id": "249a9878",
   "metadata": {},
   "source": [
    "### Ejercicio práctico: replicación de creación del indicador sintético de inversión en equipo ISE\n",
    "\n",
    "Seguimos el documento metodológico \"Revisión de la metodología para el cálculo de los Indicadores\n",
    "Sintéticos de la Economía Española\" en http://serviciosede.mineco.gob.es/Indeco/documentos.aspx"
   ]
  },
  {
   "cell_type": "code",
   "execution_count": null,
   "id": "d8f83163",
   "metadata": {},
   "outputs": [],
   "source": [
    "# Importamos funciones y establecemos configuración general\n",
    "import os\n",
    "import numpy as np\n",
    "import pandas as pd\n",
    "import matplotlib.pyplot as plt\n",
    "import statsmodels.api as sm\n",
    "from statsmodels.tsa.x13 import x13_arima_analysis\n",
    "plt.style.use('seaborn-whitegrid')\n",
    "plt.rcParams[\"figure.figsize\"] = [10,4]  # Default figure size\n",
    "pd.set_option('display.max_columns', 50)\n",
    "pd.set_option('display.width', 1000)"
   ]
  },
  {
   "cell_type": "code",
   "execution_count": null,
   "id": "46105520",
   "metadata": {},
   "outputs": [],
   "source": [
    "# Importamos la base de datos (disponible en https://github.com/otoperalias/Coyuntura/blob/main/clases/datos/DatosISE.xlsx)\n",
    "url_data=\"https://raw.githubusercontent.com/otoperalias/Coyuntura/main/clases/datos/DatosISE.xlsx\" # Con esta url se puede importar directamente\n",
    "cntr = pd.read_excel(url_data,\"CNTr\") "
   ]
  },
  {
   "cell_type": "code",
   "execution_count": null,
   "id": "8d58e067",
   "metadata": {},
   "outputs": [],
   "source": [
    "# Preparar la columna periodo con este formato XXXXQX y la podemos con index\n",
    "cntr['periodo']=cntr.periodo.astype(str) # convertimos formato texto\n",
    "cntr['periodo']=cntr.periodo.str[:4]+\"Q\"+cntr.periodo.str[-1:] # Le doy el formato deseado\n",
    "cntr['periodo']=pd.to_datetime(cntr.periodo) # Convierto a datetime\n",
    "cntr.set_index('periodo',inplace=True) # Establezco el la columna con index"
   ]
  },
  {
   "cell_type": "code",
   "execution_count": null,
   "id": "acb51236",
   "metadata": {},
   "outputs": [],
   "source": [
    "# INDICADORES MENSUALES\n",
    "ind = pd.read_excel(url_data,\"Indicadores\")\n",
    "# Preparar la columna periodo con este formato XXXX-XX y la podemos con index\n",
    "ind['periodo']=ind.periodo.astype(str) # convertimos formato texto\n",
    "ind['periodo']=ind.periodo.str[:4]+\"-\"+ind.periodo.str[-2:] # Le doy el formato deseado\n",
    "ind['periodo']=pd.to_datetime(ind.periodo) # Convierto a datetime\n",
    "ind.set_index('periodo',inplace=True)"
   ]
  },
  {
   "cell_type": "markdown",
   "id": "1d7b0cab",
   "metadata": {},
   "source": [
    "### Paso 1\n",
    "Seleccionar los indicadores parciales o elementales que resultan representativos de la evolución del PIB, se anualizan y calculan la correlación entre las tasas de variación de cada indicador y el PIB, seleccionando finalmente aquellos con una correlación mayor."
   ]
  },
  {
   "cell_type": "code",
   "execution_count": null,
   "id": "cef43d25",
   "metadata": {},
   "outputs": [],
   "source": [
    "# ANUALIZAMOS LAS SERIES\n",
    "cntra=cntr.resample(\"A\").sum()\n",
    "inda=ind.resample(\"A\").sum()\n",
    "inda.dispe=inda.dispe/12  # Se divide porque es un índice\n",
    "inda.dispe.replace(0,np.nan, inplace=True)\n",
    "inda.vgee=inda.vgee/12   # Se divide porque es un índice\n",
    "inda.vgee.replace(0,np.nan, inplace=True)\n",
    "inda=inda[\"2005\":\"2018\"] # Periodo con datos anuales completos disponibles\n",
    "cntra=cntra[\"2005\":\"2018\"]"
   ]
  },
  {
   "cell_type": "code",
   "execution_count": null,
   "id": "8dd3d03a",
   "metadata": {},
   "outputs": [],
   "source": [
    "# CALCULAMOS TASAS DE VARIACIÓN ANUAL Y CORRELACIONES\n",
    "    # Tasas de variación\n",
    "inda_tv=inda/inda.shift(1)-1\n",
    "cntra_tv=cntra/cntra.shift(1)-1\n",
    "    # Correlaciones \n",
    "corr_dispe=np.corrcoef(cntra_tv.fbcf1b.dropna(),inda_tv.dispe.dropna())[0,1]\n",
    "corr_mvc1=np.corrcoef(cntra_tv.fbcf1b.dropna(),inda_tv.mvc1.dropna())[0,1]\n",
    "corr_vgee=np.corrcoef(cntra_tv.fbcf1b.dropna(),inda_tv.vgee.dropna())[0,1]\n",
    "print(\"corr_dispe: \", corr_dispe)\n",
    "print(\"corr_mvc1: \", corr_mvc1)\n",
    "print(\"corr_vgee: \", corr_vgee)"
   ]
  },
  {
   "cell_type": "markdown",
   "id": "5c48a89c",
   "metadata": {},
   "source": [
    "### Paso 2: Extraemos la serie corregida de estacionalidad y calendario\n",
    "De cada indicador parcial seleccionado en el paso 1, se extrae la serie corregida de variaciones estacionales y de efectos deterministas (calendario y datos atípicos) (“CVEC”) aplicando el programa TRAMO-SEATS."
   ]
  },
  {
   "cell_type": "code",
   "execution_count": null,
   "id": "c10df747",
   "metadata": {},
   "outputs": [],
   "source": [
    "    # 1. DISPE\n",
    "XPATH=os.chdir(r\"C:\\WinX13\\x13as\")\n",
    "modelo = x13_arima_analysis(endog = ind.dispe.dropna(),x12path=XPATH,trading=True)\n",
    "deses=modelo.seasadj\n",
    "deses[\"2010\":\"2019\"].plot(c=\"r\")\n",
    "ind.dispe[\"2010\":\"2019\"].plot(c=\"b\")"
   ]
  },
  {
   "cell_type": "code",
   "execution_count": null,
   "id": "547872e6",
   "metadata": {},
   "outputs": [],
   "source": [
    "# ¿Por qué son tan parecidas?  Porque la serie está tratada!! En la leyenda pone CVEC"
   ]
  },
  {
   "cell_type": "code",
   "execution_count": null,
   "id": "5e8d9d83",
   "metadata": {},
   "outputs": [],
   "source": [
    "    # 2. MVC\n",
    "modelo = x13_arima_analysis(endog = ind.mvc1.dropna(),x12path=XPATH,trading=True)\n",
    "deses=modelo.seasadj\n",
    "deses[\"2010\":\"2019\"].plot(c=\"r\")\n",
    "ind.mvc1[\"2010\":\"2019\"].plot(c=\"b\")\n",
    "ind.mvc2[\"2010\":\"2019\"].plot(c=\"g\") # Esta está ya en CVEC\n",
    "plt.legend()\n",
    "plt.show()\n",
    "mcvd=deses.copy()"
   ]
  },
  {
   "cell_type": "code",
   "execution_count": null,
   "id": "63465aa0",
   "metadata": {},
   "outputs": [],
   "source": [
    "    # 3. VGEE\n",
    "# No se necesita ajustar porque ya viene ajustada (CVEC)"
   ]
  },
  {
   "cell_type": "markdown",
   "id": "e29f632e",
   "metadata": {},
   "source": [
    "### Paso 3\n",
    "Una vez seleccionados los indicadores parciales, sus respectivas series se expresan en forma de índice con base 2000. Posteriormente, el indicador sintético se obtiene como suma ponderada de los indicadores parciales que lo integran (series CVEC), siendo las ponderaciones proporcionales a la correlación simple existente entre el PIB (la macromagnitud que se pretende medir) y el indicador parcial correspondiente. Las ponderaciones han sido normalizadas de modo que su suma sea igual a la unidad."
   ]
  },
  {
   "cell_type": "code",
   "execution_count": null,
   "id": "4aa8e954",
   "metadata": {},
   "outputs": [],
   "source": [
    "# SERIES EN ÍNDICE CON BASE 2005 (en teoría es 2000, pero nuestro primer periodo es 2005)\n",
    "i_dispe=ind.dispe/ind.dispe[\"2005-01-01\"]\n",
    "i_mcv=mcvd/mcvd[\"2005-01-01\"] # notar que uso la serie desestacionalizada\n",
    "i_vgee=ind.vgee/ind.vgee[\"2005-01-01\"]"
   ]
  },
  {
   "cell_type": "code",
   "execution_count": null,
   "id": "96b704dc",
   "metadata": {},
   "outputs": [],
   "source": [
    "# CREACIÓN DEL ÍNDICE SINTÉTICO (IS)\n",
    "    #Normalizamos las ponderaciones\n",
    "corr_dispe_n=corr_dispe/(corr_dispe+corr_mvc1+corr_vgee)\n",
    "corr_mvc1_n=corr_mvc1/(corr_dispe+corr_mvc1+corr_vgee)\n",
    "corr_vgee_n=corr_vgee/(corr_dispe+corr_mvc1+corr_vgee)\n",
    "print(corr_dispe_n+corr_mvc1_n+corr_vgee_n)\n",
    "    # Creamos índice\n",
    "IS=corr_dispe_n*i_dispe+corr_mvc1_n*i_mcv+corr_vgee_n*i_vgee\n",
    "    # Plot para comparar el IS con la macromagnitud que queremos capturar\n",
    "IS.plot(c='r')\n",
    "cntr.fbcf1a.plot(c='b',secondary_y=True)\n",
    "plt.legend()\n",
    "plt.show()"
   ]
  },
  {
   "cell_type": "markdown",
   "id": "84de3219",
   "metadata": {},
   "source": [
    "### Paso 4\n",
    "Se estima el Indicador Sintético Ajustado, que corrige el problema de escala que aparece como consecuencia de la elevada variabilidad del IS respecto al PIB."
   ]
  },
  {
   "cell_type": "code",
   "execution_count": null,
   "id": "e3c17f57",
   "metadata": {},
   "outputs": [],
   "source": [
    "# Calculo de ISAj: (1) Anualizacion de IS y cálculo de tasas de variación anual\n",
    "ISan=IS.resample(\"A\").mean()\n",
    "ISan_tv=ISan/ISan.shift(1)-1"
   ]
  },
  {
   "cell_type": "code",
   "execution_count": null,
   "id": "8ff8fe6c",
   "metadata": {},
   "outputs": [],
   "source": [
    "# Regresión lineal entre cntra_tv.fbcf1b[\"2006\":\"2018\"] y  ISan_tv\n",
    "y=cntra_tv.fbcf1a[\"2006\":\"2018\"]\n",
    "x1=ISan_tv[\"2006\":\"2018\"]\n",
    "x1=sm.add_constant(x1)\n",
    "results = sm.OLS(y,x1).fit()\n",
    "results.summary()"
   ]
  },
  {
   "cell_type": "code",
   "execution_count": null,
   "id": "5955441d",
   "metadata": {},
   "outputs": [],
   "source": [
    "# Cálculo de TMIS y TMISAJ\n",
    "tmis=IS/IS.shift(1)-1\n",
    "tmisaj=1/12*0.0168+0.7474*tmis"
   ]
  },
  {
   "cell_type": "markdown",
   "id": "1983ace7",
   "metadata": {},
   "source": [
    "### Paso 5\n",
    "Considerando enero de 2000=100 y aplicando sucesivamente las TMISAJt, se obtenen los IS Ajustados (ISAJ). Estos indicadores son, en realidad, el resultado de aplicar un cambio de origen y escala a las tasas de crecimiento de los IS originales, paliando así las diferencias de amplitud observadas entre los IS sin ajustar y las variables contables."
   ]
  },
  {
   "cell_type": "code",
   "execution_count": null,
   "id": "5a6cc38b",
   "metadata": {},
   "outputs": [],
   "source": [
    "# ISAJ\n",
    "ISAJ=IS[\"2005\":\"2019\"].copy()\n",
    "ISAJ[\"2005-01-01\"]=100\n",
    "x=100\n",
    "for p in ISAJ[1:].index:\n",
    "    ISAJ[p]=x*(1+tmisaj[p])\n",
    "    x=ISAJ[p]\n",
    "    # Por fin lo tenemos y lo podemos dibujar junto a la macromagnitud de referencia\n",
    "ISAJ.plot()\n",
    "cntr.fbcf1a[\"2005\":\"2019\"].plot()  # uso \"fbcf1a\" porque está ajustada\n",
    "plt.show()"
   ]
  },
  {
   "cell_type": "code",
   "execution_count": null,
   "id": "a389b052",
   "metadata": {},
   "outputs": [],
   "source": [
    "# Finalmente, las tasas de variación inter anual\n",
    "ISAJ_tva=ISAJ/ISAJ.shift(12)-1\n",
    "fbcf1a_tva=cntr.fbcf1a/cntr.fbcf1a.shift(4)-1\n",
    "ISAJ_tva.plot(c=\"g\")\n",
    "fbcf1a_tva[\"2005\":\"2019\"].plot(c=\"b\")  # uso \"fbcf1a\" porque está ajustada\n",
    "plt.show()"
   ]
  }
 ],
 "metadata": {
  "kernelspec": {
   "display_name": "Python 3 (ipykernel)",
   "language": "python",
   "name": "python3"
  },
  "language_info": {
   "codemirror_mode": {
    "name": "ipython",
    "version": 3
   },
   "file_extension": ".py",
   "mimetype": "text/x-python",
   "name": "python",
   "nbconvert_exporter": "python",
   "pygments_lexer": "ipython3",
   "version": "3.8.13"
  }
 },
 "nbformat": 4,
 "nbformat_minor": 5
}
