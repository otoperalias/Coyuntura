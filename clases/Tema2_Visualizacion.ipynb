{
  "nbformat": 4,
  "nbformat_minor": 0,
  "metadata": {
    "kernelspec": {
      "display_name": "Python 3",
      "language": "python",
      "name": "python3"
    },
    "language_info": {
      "codemirror_mode": {
        "name": "ipython",
        "version": 3
      },
      "file_extension": ".py",
      "mimetype": "text/x-python",
      "name": "python",
      "nbconvert_exporter": "python",
      "pygments_lexer": "ipython3",
      "version": "3.8.5"
    },
    "colab": {
      "name": "Workshop-Visualizacion.ipynb",
      "provenance": [],
      "include_colab_link": true
    }
  },
  "cells": [
    {
      "cell_type": "markdown",
      "metadata": {
        "id": "view-in-github",
        "colab_type": "text"
      },
      "source": [
        "<a href=\"https://colab.research.google.com/github/otoperalias/Coyuntura/blob/main/clases/Tema2_Visualizacion.ipynb\" target=\"_parent\"><img src=\"https://colab.research.google.com/assets/colab-badge.svg\" alt=\"Open In Colab\"/></a>"
      ]
    },
    {
      "cell_type": "markdown",
      "metadata": {
        "id": "_s_f1b3Ksbt0"
      },
      "source": [
        "## Visualización de datos: Creando gráficos de calidad\n",
        "\n",
        "En este notebook vamos a aprender a crear gráficos de calidad. Para ello, vamos a usar datos de PIB en volumen y paro de los países de la UE, procedentes de [EUROSTAT](https://ec.europa.eu/eurostat/web/main/data/database).\n",
        "\n",
        "*Daniel Oto-Peralías*"
      ]
    },
    {
      "cell_type": "markdown",
      "metadata": {
        "id": "H0_yPfqQtRT3"
      },
      "source": [
        "### 1. Importamos las librerías necesarias"
      ]
    },
    {
      "cell_type": "code",
      "metadata": {
        "id": "5tYx0AUjsbt4"
      },
      "source": [
        "# IMPORTAMOS LIBRERIAS\n",
        "import pandas as pd\n",
        "pd.set_option('display.max_row', 100)\n",
        "pd.set_option('display.max_columns', 30)\n",
        "import matplotlib.pyplot as plt"
      ],
      "execution_count": null,
      "outputs": []
    },
    {
      "cell_type": "markdown",
      "source": [
        "### 2. Importamos los datos\n",
        "\n",
        "* Vamos a importar datos trimestrales de PIB en volumen (tasas de variación interanuales) y de tasa de paro para los países de la UE, ambos ajustados por estacionalidad y calendario.  \n",
        "* En [este otro notebook](https://github.com/otoperalias/Coyuntura/blob/main/clases/Tema2_VI.ipynb) se realiza la importación y procesamiento de dichos datos. Es muy recomendable que miréis el notebook e intentéis entender todo lo que se hace, replicándolo.\n",
        "* Los códigos de países de EUROSTAT están disponibles [aquí](https://ec.europa.eu/eurostat/statistics-explained/index.php?title=Glossary:Country_codes)."
      ],
      "metadata": {
        "id": "gwflwfsSxmgT"
      }
    },
    {
      "cell_type": "code",
      "metadata": {
        "id": "zqk5h9TMsbt5"
      },
      "source": [
        "# PIB en volúmen\n",
        "pib = pd.read_csv(\"https://raw.githubusercontent.com/otoperalias/Coyuntura/main/clases/datos/pib_volumen_EUROSTAT.csv\", index_col=0, parse_dates=True)\n",
        "pib"
      ],
      "execution_count": null,
      "outputs": []
    },
    {
      "cell_type": "code",
      "source": [
        "# Tasa de paro\n",
        "tp = pd.read_csv(\"https://raw.githubusercontent.com/otoperalias/Coyuntura/main/clases/datos/Tasa_paro_EUROSTAT.csv\", index_col=0, parse_dates=True)\n",
        "tp"
      ],
      "metadata": {
        "id": "oFEZFssM70h-"
      },
      "execution_count": null,
      "outputs": []
    },
    {
      "cell_type": "code",
      "source": [
        "# Filtramos por fecha, con fecha inicio igual a tabla del PIB\n",
        "tp=tp.loc[\"2021-07\":]"
      ],
      "metadata": {
        "id": "bptfs0xSXyDt"
      },
      "execution_count": null,
      "outputs": []
    },
    {
      "cell_type": "markdown",
      "metadata": {
        "id": "pILyeNdD1w3Y"
      },
      "source": [
        "### 3. Gráficos exploratorios: dibujamos directamente desde **pandas**\n",
        "\n",
        "* Importante: esto solo vale como gráficos exploratorios para uso personal.\n",
        "* Para otros propósitos, hay que preparar gráficos de más calidad."
      ]
    },
    {
      "cell_type": "code",
      "metadata": {
        "collapsed": true,
        "id": "dwV_C_eMsbt9"
      },
      "source": [
        "# Tasa de variación del PIB para una selección de países\n",
        "paises=['DE','ES','IT','FR']\n",
        "pib[paises].plot(title=\"Variación interanual del PIB\")\n",
        "plt.show()"
      ],
      "execution_count": null,
      "outputs": []
    },
    {
      "cell_type": "code",
      "metadata": {
        "collapsed": true,
        "id": "_NjW7NjIsbt-"
      },
      "source": [
        "# Grafico de barras para media del periodo\n",
        "pib_med=pib.mean()\n",
        "pib_med[paises].plot(kind=\"bar\",title=\"Crecimiento trimestral medio desde T3 2021\")\n",
        "plt.show()"
      ],
      "execution_count": null,
      "outputs": []
    },
    {
      "cell_type": "code",
      "metadata": {
        "collapsed": true,
        "id": "WuWus2EHsbt-"
      },
      "source": [
        "# Tasa de desempleo\n",
        "tp[paises].plot(title=\"Tasa de desempleo\")\n",
        "plt.show()"
      ],
      "execution_count": null,
      "outputs": []
    },
    {
      "cell_type": "code",
      "source": [
        "# Grafico de barras para media del periodo\n",
        "tp_med=tp.mean()\n",
        "tp_med[paises].plot(kind=\"bar\",title=\"Tasa de paro promedio desde T3 2021\")\n",
        "plt.show()"
      ],
      "metadata": {
        "id": "E_F8Uw__DAd0"
      },
      "execution_count": null,
      "outputs": []
    },
    {
      "cell_type": "markdown",
      "metadata": {
        "id": "LYfBIH19sbt_"
      },
      "source": [
        "### 4. Gráficos de calidad (para informes, trabajos, artículos, etc.)"
      ]
    },
    {
      "cell_type": "markdown",
      "metadata": {
        "id": "JWHvgGE42nWC"
      },
      "source": [
        "Matplotlib permite usar diferentes estilos predeterminados:\n",
        "https://matplotlib.org/stable/gallery/style_sheets/style_sheets_reference.html\n",
        "\n",
        "Echamos un vistazo y elegimos uno que nos guste.\n"
      ]
    },
    {
      "cell_type": "code",
      "metadata": {
        "id": "kQwGkM-osbt_"
      },
      "source": [
        "plt.style.use('seaborn-v0_8')"
      ],
      "execution_count": null,
      "outputs": []
    },
    {
      "cell_type": "markdown",
      "metadata": {
        "id": "KReF-QmV2-g4"
      },
      "source": [
        "#### Figura 1: Un gráfico, una serie."
      ]
    },
    {
      "cell_type": "code",
      "metadata": {
        "collapsed": true,
        "id": "3zIBCZ23sbuA"
      },
      "source": [
        "fig, ax=plt.subplots(figsize=(8,5),dpi=100)  # Se genera la figura y los axes (gráficos)\n",
        "ax.plot(pib['ES']) # Equivalente: pib['ES'].plot(ax=ax)\n",
        "ax.set_ylabel(\"%\") # Nombre del eje y\n",
        "ax.set_xlabel(\"\") # Nombre del eje x\n",
        "ax.axhline(y=0, linewidth=0.75, color=\"black\") # Añado una línea horizonal para resaltar el valor de 0.\n",
        "ax.set_title(\"Tasa de variación interanual del PIB en España\", size=14, pad=15) # Título del gráfico\n",
        "fig.text(0.11,0,\"PIB en volumen. Ajustado por estacionalidad y calendario.\\nFuente: EUROSTAT. Elaboración propia\", ha=\"left\",fontsize=10 ) # Nota al pie. El argumento ha=horizontalalignment.\n",
        "plt.show()"
      ],
      "execution_count": null,
      "outputs": []
    },
    {
      "cell_type": "markdown",
      "source": [
        "#### Figura 2: Un gráfico, varias series."
      ],
      "metadata": {
        "id": "2x5sGOlnh0cn"
      }
    },
    {
      "cell_type": "code",
      "source": [
        "fig, ax=plt.subplots(figsize=(8,5),dpi=100)\n",
        "ax.plot(pib['ES'],label=\"España\") # Los países se introducen uno a uno, indicando la etiqueta que queremos que aparezca en la leyenda.\n",
        "ax.plot(pib['IT'],label=\"Italia\")\n",
        "ax.plot(pib['DE'],label=\"Alemania\")\n",
        "ax.plot(pib['FR'],label=\"Francia\")\n",
        "ax.set_ylabel(\"%\")\n",
        "ax.set_xlabel(\"\")\n",
        "ax.axhline(y=0, linewidth=0.75, color=\"black\")\n",
        "ax.set_title(\"Tasa de variación interanual del PIB\", size=14, pad=15)\n",
        "ax.legend()\n",
        "fig.text(0.11,0,\"PIB en volumen. Ajustado por estacionalidad y calendario.\\nFuente: EUROSTAT. Elaboración propia\", ha=\"left\",fontsize=10 ) # ha=horizontalalignment\n",
        "plt.show()"
      ],
      "metadata": {
        "id": "NWTedbonhzWH"
      },
      "execution_count": null,
      "outputs": []
    },
    {
      "cell_type": "markdown",
      "metadata": {
        "id": "2mq0a-yO4Ali"
      },
      "source": [
        "#### Figura 3: Gráfico de barras."
      ]
    },
    {
      "cell_type": "code",
      "metadata": {
        "collapsed": true,
        "id": "OlSlpbODsbuA"
      },
      "source": [
        "fig,ax=plt.subplots(figsize=(8,4),dpi=100)\n",
        "pib_med[paises].plot.bar(xlabel=\"\", ax=ax) # Indicamos que queremos un gráfico de barras.\n",
        "ax.set_xticks([0,1,2,3]) # Indicamos la numeración (valores) de los ticks del eje x. Este es un paso previo para indicar sus respectivas etiquetas (labels)\n",
        "ax.set_xticklabels([\"Alemania\", \"España\",\"Italia\",\"Francia\"], rotation='horizontal') # Se indican las etiquetas de cada barra del gráfico, siguiendo el orden anterior.\n",
        "ax.set_title(\"Tasa de crecimiento medio del PIB interanual desde el \\n tercer trimestre de 2021\", size=14, pad=15)\n",
        "fig.text(0.12,-0.05,\"PIB en volumen. Ajustado por estacionalidad y calendario.\\nFuente: EUROSTAT. Elaboración propia\", ha=\"left\",fontsize=10 ) # ha=horizontalalignment\n",
        "plt.show()"
      ],
      "execution_count": null,
      "outputs": []
    },
    {
      "cell_type": "markdown",
      "metadata": {
        "id": "f5gZ6p1F4hjf"
      },
      "source": [
        "#### Figura 4: Figura de dos gráficos."
      ]
    },
    {
      "cell_type": "code",
      "metadata": {
        "collapsed": true,
        "id": "-FqqqqUusbuA"
      },
      "source": [
        "fig, (ax1,ax2)=plt.subplots(2,1,sharex=True,figsize=(7,7),dpi=100)\n",
        "# Axes ax1\n",
        "ax1.plot(pib['ES'],label=\"España\")\n",
        "ax1.plot(pib['IT'],label=\"Italia\")\n",
        "ax1.plot(pib['DE'],label=\"Alemania\")\n",
        "ax1.plot(pib['FR'],label=\"Francia\")\n",
        "ax1.set_ylabel(\"%\")\n",
        "ax1.axhline(y=0, linewidth=0.75, color=\"black\")\n",
        "ax1.set_title(\"Tasa variación interanual del PIB\")\n",
        "ax1.legend()\n",
        "# Axes ax2\n",
        "ax2.plot(tp['ES'],label=\"España\")\n",
        "ax2.plot(tp['IT'],label=\"Italia\")\n",
        "ax2.plot(tp['DE'],label=\"Alemania\")\n",
        "ax2.plot(tp['FR'],label=\"Francia\")\n",
        "ax2.set_ylabel(\"%\")\n",
        "ax2.set_title(\"Tasa de paro\")\n",
        "ax2.set_xlabel(\"\")\n",
        "# Toda la figura\n",
        "fig.suptitle(\"Coyuntura económica en España, Italia, Alemania y Francia\", size=14)\n",
        "fig.text(0.11,0,\"PIB en volumen. Ajustado por estacionalidad y calendario.\\nTasa de desempleo. Fuente: EUROSTAT. Elaboración propia\", ha=\"left\",fontsize=10 ) # ha=horizontalalignment\n",
        "plt.show()"
      ],
      "execution_count": null,
      "outputs": []
    },
    {
      "cell_type": "markdown",
      "source": [
        "### 5. Manipulando las etiquetas del eje x\n",
        "\n",
        "Por defecto, las etiquetas del eje x suelen salir bien al crear gráficos, pero en otras ocasiones no, como en el siguiente gráfico"
      ],
      "metadata": {
        "id": "qDIz8x65TDf2"
      }
    },
    {
      "cell_type": "code",
      "source": [
        "fig, (ax1,ax2)=plt.subplots(1,2,figsize=(10,4),dpi=100)\n",
        "# Axes ax1\n",
        "ax1.plot(pib['ES'],label=\"España\")\n",
        "ax1.plot(pib['IT'],label=\"Italia\")\n",
        "ax1.set_ylabel(\"%\")\n",
        "ax1.axhline(y=0, linewidth=0.75, color=\"black\")\n",
        "ax1.set_title(\"Tasa de variación interanual del PIB\")\n",
        "# Axes ax2\n",
        "ax2.plot(tp['ES'],label=\"España\")\n",
        "ax2.plot(tp['IT'],label=\"Italia\")\n",
        "ax2.set_ylabel(\"%\")\n",
        "ax2.set_title(\"Tasa de paro\")\n",
        "ax2.set_xlabel(\"\")\n",
        "ax2.legend()\n",
        "# Toda la figura\n",
        "fig.suptitle(\"\\nCoyuntura económica en España e Italia\\n\", size=14, y=1.05)  # el argumento \"y\" es la coordenada y donde debe aparecer el titulo.\n",
        "fig.text(0.11,-0.05,\"PIB en volumen. Ajustado por estacionalidad y calendario.\\nTasa de desempleo. Fuente: EUROSTAT. Elaboración propia\", ha=\"left\",fontsize=10 ) # ha=horizontalalignment\n",
        "plt.show()"
      ],
      "metadata": {
        "id": "jSJJJppWOYUL"
      },
      "execution_count": null,
      "outputs": []
    },
    {
      "cell_type": "markdown",
      "source": [
        "**Hay varias maneras de solucionar esto. Tres posibilidades son las siguientes:**   \n",
        "1. Rotando las etiquetas. Esto por sí solo puede ser suficiente, o puede usarse en combinación con las dos opciones siguientes. Por ejemplo:  \n",
        "```\n",
        "ax1.set_xticklabels(pib.index.strftime('%Y-%m'), rotation=45)\n",
        "```\n",
        "2. Estableciendo la frecuencia en la que deben aparecer las etiquetas y su formato. Por ejemplo:\n",
        "```\n",
        "ax1.xaxis.set_major_locator(mdates.MonthLocator(bymonth=(1,6)))\n",
        "ax1.xaxis.set_major_formatter(mdates.ConciseDateFormatter(ax1.xaxis.get_major_locator()))\n",
        "```\n",
        "3. Manualmente: creando una columna específica que se ajuste a nuestras necesidades y usando dicha columna como etiquetas. Por ej.:\n",
        "```\n",
        "# Primero se crea la columna\n",
        "pib[\"años\"]=pib.index.astype(str).str[2:4]\n",
        "pib[\"meses\"]=pib.index.astype(str).str[5:7]\n",
        "pib[\"ejex_etiq\"]=\"\"\n",
        "pib.loc[(pib['meses']==\"01\"), \"ejex_etiq\"]=\"1ºTr. \"+pib[\"años\"]\n",
        "pib.loc[(pib['meses']==\"07\"), \"ejex_etiq\"]=\"3ºTr. \"+pib[\"años\"]\n",
        "```\n",
        "```\n",
        "#Y luego se añade estas dos líneas en el código de la figura:\n",
        "ax1.set_xticks(pib.index)\n",
        "ax1.set_xticklabels(pib[\"ejex_etiq\"])\n",
        "```\n",
        "\n",
        "Vamos a ver la implementación de estos ejemplos."
      ],
      "metadata": {
        "id": "10sEqWJDaFBZ"
      }
    },
    {
      "cell_type": "code",
      "source": [
        "# Alternativa 1: rotamos las etiquetas\n",
        "\n",
        "fig, (ax1,ax2)=plt.subplots(1,2,figsize=(10,4),dpi=100)\n",
        "# Axes ax1\n",
        "ax1.plot(pib['ES'],label=\"España\")\n",
        "ax1.plot(pib['IT'],label=\"Italia\")\n",
        "ax1.set_ylabel(\"%\")\n",
        "ax1.axhline(y=0, linewidth=0.75, color=\"black\")\n",
        "ax1.set_title(\"Tasa de variación interanual del PIB\")\n",
        "ax1.set_xticklabels(pib.index.strftime('%Y-%m'), rotation=45) # rotamos las etiquetas\n",
        "# Axes ax2\n",
        "ax2.plot(tp['ES'],label=\"España\")\n",
        "ax2.plot(tp['IT'],label=\"Italia\")\n",
        "ax2.set_ylabel(\"%\")\n",
        "ax2.set_title(\"Tasa de paro\")\n",
        "ax2.set_xlabel(\"\")\n",
        "ax2.set_xticklabels(tp.index.strftime('%Y-%m'), rotation=45) # rotamos las etiquetas\n",
        "ax2.legend()\n",
        "# Toda la figura\n",
        "fig.suptitle(\"\\nCoyuntura económica en España e Italia\\n\", size=14, y=1.05)  # el argumento \"y\" es la coordenada y donde debe aparecer el titulo.\n",
        "fig.text(0.11,-0.13,\"PIB en volumen. Ajustado por estacionalidad y calendario.\\nTasa de desempleo. Fuente: EUROSTAT. Elaboración propia\", ha=\"left\",fontsize=10 ) # ha=horizontalalignment\n",
        "plt.show()"
      ],
      "metadata": {
        "id": "7s0RCUjNc57X"
      },
      "execution_count": null,
      "outputs": []
    },
    {
      "cell_type": "code",
      "source": [
        "# Alternativa 2: Establecemos la frecuencia en la que deben aparecer las etiquetas y su formato.\n",
        "\n",
        "import matplotlib.dates as mdates # Importamos primero esta función necesaria\n",
        "\n",
        "fig, (ax1,ax2)=plt.subplots(1,2,figsize=(10,4),dpi=100)\n",
        "# Axes ax1\n",
        "ax1.plot(pib['ES'],label=\"España\")\n",
        "ax1.plot(pib['IT'],label=\"Italia\")\n",
        "ax1.set_ylabel(\"%\")\n",
        "ax1.axhline(y=0, linewidth=0.75, color=\"black\")\n",
        "ax1.set_title(\"Tasa de variación interanual del PIB\")\n",
        "ax1.xaxis.set_major_locator(mdates.MonthLocator(bymonth=(1,7)))  # Frecuencia etiquetas: cada seis meses\n",
        "ax1.xaxis.set_major_formatter(mdates.ConciseDateFormatter(ax1.xaxis.get_major_locator()))  # Formato etiquetas\n",
        "# Axes ax2\n",
        "ax2.plot(tp['ES'],label=\"España\")\n",
        "ax2.plot(tp['IT'],label=\"Italia\")\n",
        "ax2.set_ylabel(\"%\")\n",
        "ax2.set_title(\"Tasa de paro\")\n",
        "ax2.set_xlabel(\"\")\n",
        "ax2.xaxis.set_major_locator(mdates.MonthLocator(bymonth=(1,7)))  # Frecuencia etiquetas: cada seis meses\n",
        "ax2.xaxis.set_major_formatter(mdates.ConciseDateFormatter(ax1.xaxis.get_major_locator()))  # Formato etiquetas\n",
        "ax2.legend()\n",
        "# Toda la figura\n",
        "fig.suptitle(\"\\nCoyuntura económica en España e Italia\\n\", size=14, y=1.05)  # el argumento \"y\" es la coordenada y donde debe aparecer el titulo.\n",
        "fig.text(0.11,-0.05,\"PIB en volumen. Ajustado por estacionalidad y calendario.\\nTasa de desempleo. Fuente: EUROSTAT. Elaboración propia\", ha=\"left\",fontsize=10 ) # ha=horizontalalignment\n",
        "plt.show()"
      ],
      "metadata": {
        "id": "VGiXPPU6dj9t"
      },
      "execution_count": null,
      "outputs": []
    },
    {
      "cell_type": "code",
      "source": [
        "# Alternativa 3: Manualmente (combinada con rotación)\n",
        "\n",
        "# Primero se crea la columna\n",
        "pib[\"años\"]=pib.index.astype(str).str[2:4]\n",
        "pib[\"meses\"]=pib.index.astype(str).str[5:7]\n",
        "pib[\"ejex_etiq\"]=\"\"\n",
        "pib.loc[(pib['meses']==\"01\"), \"ejex_etiq\"]=\"1ºTr. \"+pib[\"años\"]\n",
        "pib.loc[(pib['meses']==\"07\"), \"ejex_etiq\"]=\"3ºTr. \"+pib[\"años\"]\n",
        "\n",
        "fig, (ax1,ax2)=plt.subplots(1,2,figsize=(10,4),dpi=100)\n",
        "# Axes ax1\n",
        "ax1.plot(pib['ES'],label=\"España\")\n",
        "ax1.plot(pib['IT'],label=\"Italia\")\n",
        "ax1.set_ylabel(\"%\")\n",
        "ax1.axhline(y=0, linewidth=0.75, color=\"black\")\n",
        "ax1.set_title(\"Tasa de variación interanual del PIB\")\n",
        "ax1.set_xticks(pib.index) # Valores a los que se aplican las etiquetas\n",
        "ax1.set_xticklabels(pib[\"ejex_etiq\"], rotation=45)   # Etiquetas a usar + rotación\n",
        "# Axes ax2\n",
        "ax2.plot(tp['ES'],label=\"España\")\n",
        "ax2.plot(tp['IT'],label=\"Italia\")\n",
        "ax2.set_ylabel(\"%\")\n",
        "ax2.set_title(\"Tasa de paro\")\n",
        "ax2.set_xlabel(\"\")\n",
        "ax2.set_xticks(pib.index)  # Como las fechas son las mismas, se puede usar la misma serie creada\n",
        "ax2.set_xticklabels(pib[\"ejex_etiq\"], rotation=45)  # Etiquetas a usar + rotación\n",
        "ax2.legend()\n",
        "# Toda la figura\n",
        "fig.suptitle(\"\\nCoyuntura económica en España e Italia\\n\", size=14, y=1.08)  # el argumento \"y\" es la coordenada y donde debe aparecer el titulo.\n",
        "fig.text(0.11,-0.13,\"PIB en volumen. Ajustado por estacionalidad y calendario.\\nTasa de desempleo. Fuente: EUROSTAT. Elaboración propia\", ha=\"left\",fontsize=10 ) # ha=horizontalalignment\n",
        "plt.show()"
      ],
      "metadata": {
        "id": "1CibZZ4ceWO3"
      },
      "execution_count": null,
      "outputs": []
    },
    {
      "cell_type": "markdown",
      "source": [
        "### 6. Gráficos avanzados:"
      ],
      "metadata": {
        "id": "9jEPqHYuFF60"
      }
    },
    {
      "cell_type": "markdown",
      "source": [
        "#### Figura 5: Figura de cuatro gráficos"
      ],
      "metadata": {
        "id": "djPDcMcqjAG-"
      }
    },
    {
      "cell_type": "code",
      "source": [
        "fig, ((ax1,ax2),(ax3,ax4))=plt.subplots(2,2,figsize=(10,8),dpi=100)\n",
        "# Axes ax1\n",
        "ax1.plot(pib['ES'],label=\"España\")\n",
        "ax1.plot(pib['IT'],label=\"Italia\")\n",
        "ax1.plot(pib['DE'],label=\"Alemania\")\n",
        "ax1.plot(pib['FR'],label=\"Francia\")\n",
        "ax1.set_ylabel(\"%\")\n",
        "ax1.axhline(y=0, linewidth=0.75, color=\"black\")\n",
        "ax1.set_title(\"Tasa de variación interanual del PIB\")\n",
        "ax1.set_xticklabels(pib.index.strftime('%Y-%m'), rotation=45) # Esta línea es para rotar las etiquetas del eje x.\n",
        "# Axes ax2\n",
        "ax2.plot(tp['ES'],label=\"España\")\n",
        "ax2.plot(tp['IT'],label=\"Italia\")\n",
        "ax2.plot(tp['DE'],label=\"Alemania\")\n",
        "ax2.plot(tp['FR'],label=\"Francia\")\n",
        "ax2.set_ylabel(\"%\")\n",
        "ax2.set_title(\"Tasa de paro\")\n",
        "ax2.set_xlabel(\"\")\n",
        "ax2.legend(bbox_to_anchor=(1.4,0.6))\n",
        "ax2.set_xticklabels(pib.index.strftime('%Y-%m'), rotation=45) # Esta línea es para rotar las etiquetas del eje x.\n",
        "# Axes ax3\n",
        "pib_med[paises].plot.bar(xlabel=\"\", ax=ax3)\n",
        "ax3.set_xticks([0,1,2,3])\n",
        "ax3.set_xticklabels([\"Alemania\", \"España\",\"Italia\",\"Francia\"], rotation='horizontal')\n",
        "ax3.set_title(\"Promedio de la tasa de var. del PIB\", size=10)\n",
        "# Axes ax3\n",
        "tp_med[paises].plot.bar(xlabel=\"\", ax=ax4)\n",
        "ax4.set_xticks([0,1,2,3])\n",
        "ax4.set_xticklabels([\"Alemania\", \"España\",\"Italia\",\"Francia\"], rotation='horizontal')\n",
        "ax4.set_title(\"Promedio de la tasa de paro\", size=10)\n",
        "# Toda la figura\n",
        "plt.subplots_adjust(hspace=0.4)\n",
        "fig.suptitle(\"\\nCoyuntura económica en España, Italia, Alemania y Francia\", size=14)\n",
        "fig.text(0.11,0.02,\"PIB en volumen. Ajustado por estacionalidad y calendario (izq.). Tasa de desempleo (dcha.). En los gráficos inferiores\\n\\\n",
        "se muestra el promedio desde el tercer trimestre de 2021. Fuente: EUROSTAT. Elaboración propia\", ha=\"left\",fontsize=10 ) # ha=horizontalalignment\n",
        "plt.show()"
      ],
      "metadata": {
        "id": "6hknPekuTNc-"
      },
      "execution_count": null,
      "outputs": []
    },
    {
      "cell_type": "markdown",
      "source": [
        "#### Figura 6: Figura de 20 gráficos."
      ],
      "metadata": {
        "id": "QbQSxfZfYQLP"
      }
    },
    {
      "cell_type": "code",
      "source": [
        "# Primero, creamos la lista de países de la eurozona\n",
        "#https://ec.europa.eu/eurostat/statistics-explained/index.php?title=Glossary:Euro_area_enlargements\n",
        "euro={\"BE\":\"Bélgica\", \"IE\":\"Irlanda\", \"FR\":\"Francia\", \"CY\":\"Chipre\", \"LU\":\"Luxemburgo\", \"AT\":\"Austria\",\n",
        "      \"SK\":\"Eslovaquia\", \"DE\":\"Alemania\", \"EL\":\"Grecia\", \"HR\":\"Croacia\", \"LV\":\"Lativia\", \"MT\":\"Malta\",\n",
        "      \"PT\":\"Portugal\", \"FI\":\"Finlandia\", \"EE\":\"Estonia\", \"ES\":\"España\", \"IT\":\"Italia\", \"LT\":\"Lituania\",\n",
        "      \"NL\":\"Países Bajos\", \"SI\":\"Eslovenia\"}\n",
        "\n",
        "import matplotlib.dates as mdates # importo esta función que necesito\n",
        "\n",
        "# Creamos la figura\n",
        "fig,ax=plt.subplots(4,5,figsize=(10,6),dpi=100,sharex=True,sharey=True)\n",
        "for g,p in zip(fig.axes,euro.keys()):\n",
        "  g.plot(tp[p],color=\"tab:red\")\n",
        "  g.set_ylim(0,20)\n",
        "  g.text(0.45,0.8,euro[p],transform=g.transAxes, size=8, horizontalalignment=\"center\")\n",
        "  g.tick_params(axis='both', which='major', labelsize=8)\n",
        "  g.xaxis.set_major_locator(mdates.MonthLocator(bymonth=(1, )))\n",
        "  g.xaxis.set_major_formatter(mdates.ConciseDateFormatter(g.xaxis.get_major_locator()))\n",
        "fig.suptitle(\"Tasas de desempleo en los países de la Eurozona\")\n",
        "fig.text(0.11,0.02,\"Fuente: EUROSTAT. Elaboración propia\", size=9)\n",
        "plt.show()"
      ],
      "metadata": {
        "id": "JRvwc5cPYPno"
      },
      "execution_count": null,
      "outputs": []
    },
    {
      "cell_type": "markdown",
      "source": [
        "#### Figura 7: Añadiendo tablas a los gráficos.\n",
        "\n",
        "La inclusión de tablas en los informes y en las propias figuras es muy útil, pues proporciona al lector el dato exacto, que no suele ser posible observarlo directamente en el gráfico. A continuación vamos a usar una librería que permite incluir tablas en una figura, como si fuera un gráfico (axes) más.  \n",
        "  \n",
        "Como ejemplo, vamos a repetir la Figura 4 añadiendo una tabla a la derecha donde se muestren los datos de PIB y paro de los últimos 6 trimestres."
      ],
      "metadata": {
        "id": "VBpLh3tijW2I"
      }
    },
    {
      "cell_type": "code",
      "source": [
        "# Instalamos e importamos el módulo necesario\n",
        "!pip install plottable  # https://pypi.org/project/plottable/\n",
        "from plottable import Table"
      ],
      "metadata": {
        "id": "xhscUIBhd-JR"
      },
      "execution_count": null,
      "outputs": []
    },
    {
      "cell_type": "code",
      "source": [
        "# CREAMOS LA TABLA DE PIB\n",
        "\n",
        "# 1. Seleccionamos datos necesarios\n",
        "paises=['DE','ES','IT','FR']\n",
        "pib2=pib.loc[\"2023\":,paises]\n",
        "\n",
        "# 2. Creamos la columna de periodos\n",
        "pib2[\"año\"]=pib2.index.astype(str).str[2:4]\n",
        "pib2[\"meses\"]=pib2.index.astype(str).str[5:7]\n",
        "pib2[\"Trim\"]=\"\"\n",
        "pib2.loc[(pib2['meses']==\"01\"), \"Trim\"]=\"1ºTr.\"+pib2[\"año\"]\n",
        "pib2.loc[(pib2['meses']==\"04\"), \"Trim\"]=\"2ºTr.\"+pib2[\"año\"]\n",
        "pib2.loc[(pib2['meses']==\"07\"), \"Trim\"]=\"3ºTr.\"+pib2[\"año\"]\n",
        "pib2.loc[(pib2['meses']==\"10\"), \"Trim\"]=\"4ºTr.\"+pib2[\"año\"]\n",
        "\n",
        "# 3. Establecemos la nueva columna como index\n",
        "pib2.set_index(pib2['Trim'], drop=True, inplace=True)\n",
        "pib2.index.name = \" \" # Para que luego no se vea nada.\n",
        "\n",
        "# 4. Cambiamos el nombre a las columnas\n",
        "for p in paises:\n",
        "  pib2.rename(columns={p:euro[p]}, inplace=True)\n",
        "\n",
        "# 5. Borramos las columnas innecesarias:\n",
        "pib2.drop(columns=['año', 'meses', 'Trim'], inplace=True)\n",
        "\n",
        "# 6. Transponemos la tabla\n",
        "pib2=pib2.T\n",
        "pib2.index.name = \" \" # Para que luego no se vea nada.\n"
      ],
      "metadata": {
        "id": "Ie_jORBWdSAX"
      },
      "execution_count": null,
      "outputs": []
    },
    {
      "cell_type": "code",
      "source": [
        "# CREAMOS LA TABLA DE TASA DE PARO\n",
        "\n",
        "# ¡ES TODO IGUAL! Solo hay que reemplazar \"pib\" por \"tp\"\n",
        "\n",
        "# 1. Seleccionamos datos necesarios\n",
        "paises=['DE','ES','IT','FR']\n",
        "tp2=tp.loc[\"2023\":,paises]\n",
        "\n",
        "# 2. Creamos la columna de periodos\n",
        "tp2[\"año\"]=tp2.index.astype(str).str[2:4]\n",
        "tp2[\"meses\"]=tp2.index.astype(str).str[5:7]\n",
        "tp2[\"Trim\"]=\"\"\n",
        "tp2.loc[(tp2['meses']==\"01\"), \"Trim\"]=\"1ºTr.\"+tp2[\"año\"]\n",
        "tp2.loc[(tp2['meses']==\"04\"), \"Trim\"]=\"2ºTr.\"+tp2[\"año\"]\n",
        "tp2.loc[(tp2['meses']==\"07\"), \"Trim\"]=\"3ºTr.\"+tp2[\"año\"]\n",
        "tp2.loc[(tp2['meses']==\"10\"), \"Trim\"]=\"4ºTr.\"+tp2[\"año\"]\n",
        "\n",
        "# 3. Establecemos la nueva columna como index\n",
        "tp2.set_index(tp2['Trim'], drop=True, inplace=True)\n",
        "\n",
        "# 4. Cambiamos el nombre a las columnas\n",
        "for p in paises:\n",
        "  tp2.rename(columns={p:euro[p]}, inplace=True)\n",
        "\n",
        "# 5. Borramos las columnas innecesarias:\n",
        "tp2.drop(columns=['año', 'meses', 'Trim'], inplace=True)\n",
        "\n",
        "# 6. Transponemos la tabla\n",
        "tp2=tp2.T\n",
        "tp2.index.name = \" \" # Para que luego no se vea nada."
      ],
      "metadata": {
        "id": "qm49x0wNg63K"
      },
      "execution_count": null,
      "outputs": []
    },
    {
      "cell_type": "code",
      "source": [
        "plt.style.use('default')\n",
        "plt.style.use('seaborn-v0_8-deep')\n",
        "\n",
        "fig,((ax1,ax2),(ax3,ax4))=plt.subplots(2,2,figsize=(10,7),dpi=100)\n",
        "# Axes ax1: Gráfico PIB\n",
        "ax1.plot(pib['ES'],label=\"España\")\n",
        "ax1.plot(pib['IT'],label=\"Italia\")\n",
        "ax1.plot(pib['DE'],label=\"Alemania\")\n",
        "ax1.plot(pib['FR'],label=\"Francia\")\n",
        "ax1.set_ylabel(\"%\")\n",
        "ax1.axhline(y=0, linewidth=0.75, color=\"black\")\n",
        "ax1.legend(frameon=False, fontsize =9)\n",
        "ax1.xaxis.set_major_locator(mdates.MonthLocator(bymonth=(1,7)))  # Frecuencia etiquetas: cada seis meses\n",
        "ax1.xaxis.set_major_formatter(mdates.ConciseDateFormatter(ax1.xaxis.get_major_locator()))  # Formato etiquetas\n",
        "ax1.spines[['right', 'top']].set_visible(False) # Elimina el border superior y derecho del gráfico\n",
        "# Axes ax3: Gráfico Paro\n",
        "ax3.plot(tp['ES'],label=\"España\")\n",
        "ax3.plot(tp['IT'],label=\"Italia\")\n",
        "ax3.plot(tp['DE'],label=\"Alemania\")\n",
        "ax3.plot(tp['FR'],label=\"Francia\")\n",
        "ax3.set_ylabel(\"%\")\n",
        "ax3.set_xlabel(\"\")\n",
        "ax3.xaxis.set_major_locator(mdates.MonthLocator(bymonth=(1,7)))  # Frecuencia etiquetas: cada seis meses\n",
        "ax3.xaxis.set_major_formatter(mdates.ConciseDateFormatter(ax1.xaxis.get_major_locator()))  # Formato etiquetas\n",
        "ax3.spines[['right', 'top']].set_visible(False) # Elimina el border superior y derecho del gráfico\n",
        "# Axes ax2: Tabla PIB\n",
        "Table(pib2,ax=ax2,textprops={\"size\":9})\n",
        "# Axes ax4: Tabla Paro\n",
        "Table(tp2,ax=ax4,textprops={\"size\":9})\n",
        "# Toda la figura\n",
        "plt.subplots_adjust(hspace=0.5)\n",
        "fig.text(0.5,0.97,\"Coyuntura económica en España, Italia, Alemania y Francia\", size=12, ha=\"center\")\n",
        "fig.text(0.45,0.91,\"Tasa variación interanual del PIB\", size=11, ha=\"center\")\n",
        "fig.text(0.45,0.45,\"Tasa de paro\", size=11, ha=\"center\")\n",
        "fig.text(0.11,0,\"PIB en volumen. Ajustado por estacionalidad y calendario.\\nTasa de desempleo. Fuente: EUROSTAT. Elaboración propia\",\n",
        "         ha=\"left\",fontsize=9) # ha=horizontalalignment\n",
        "plt.show()"
      ],
      "metadata": {
        "id": "B8LRfmv9h_b2"
      },
      "execution_count": null,
      "outputs": []
    },
    {
      "cell_type": "markdown",
      "source": [
        "### 7. Ejercicios adicionales:\n",
        "\n",
        "1. Crear una figura con dos gráficos (uno encima de otro) donde en el de arriba se muestre la tasa de crecimiento media del PIB para los países de la eurozona y en el de debajo se muestre la tasa de paro media para ese mismo grupo de países. Para ello, debéis primero seleccionar las columnas correspondientes a los países de la eurozona y luego calcular la media para cada periodo (*pista: usar la función ```.mean()```con el argumento ```axis=1```*).\n",
        "2. Descargar los datos de inflación de EUROSTAT (tasa de var. interanual del IPC) y representarlos en una figura de un único gráfico, donde aparezcan las siguientes 6 series: la media para la zona euro (EA20), España, Francia, Italia, Alemania y Portugal. Mostrar los datos desde enero de 2021.\n",
        "3. Crear una figura semejante a la figura 7, pero añadiendo una fila adicional donde se represente la inflación para esos 4 países y una tabla con los valores para los últimos seis meses. Por tanto, la dimensión de la figura debe ser 3 filas x 2 columnas.\n"
      ],
      "metadata": {
        "id": "IFbgoeF7QYy0"
      }
    },
    {
      "cell_type": "markdown",
      "source": [
        "### 8. Material adicional:\n",
        "\n",
        "Para más ejemplos de gráficos, usando otros datos, véase este notebook del curso 2022-2023:\n",
        "[Visualización de datos: Creando gráficos de calidad (curso 2022-2023)](https://github.com/otoperalias/Coyuntura/blob/_2022/clases/Tema2_Visualizacion.ipynb). En particular, es muy útil aprender a crear figuras donde las dimensiones de los gráficos pueden variar, como en esta figura (Figura 6) contenida en dicho notebook:\n",
        "<br />\n",
        "\n",
        "<img src=\"https://github.com/otoperalias/Coyuntura/blob/main/clases/images/matplotlib_subplot2grid.jpg?raw=true\" alt=\"drawing\" width=\"650\"/>\n",
        "\n"
      ],
      "metadata": {
        "id": "G7nU1b9Tp0yc"
      }
    }
  ]
}