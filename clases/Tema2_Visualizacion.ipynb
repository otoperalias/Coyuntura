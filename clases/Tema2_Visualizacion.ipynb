{
  "nbformat": 4,
  "nbformat_minor": 0,
  "metadata": {
    "kernelspec": {
      "display_name": "Python 3",
      "language": "python",
      "name": "python3"
    },
    "language_info": {
      "codemirror_mode": {
        "name": "ipython",
        "version": 3
      },
      "file_extension": ".py",
      "mimetype": "text/x-python",
      "name": "python",
      "nbconvert_exporter": "python",
      "pygments_lexer": "ipython3",
      "version": "3.8.5"
    },
    "colab": {
      "name": "Workshop-Visualizacion.ipynb",
      "provenance": [],
      "include_colab_link": true
    }
  },
  "cells": [
    {
      "cell_type": "markdown",
      "metadata": {
        "id": "view-in-github",
        "colab_type": "text"
      },
      "source": [
        "<a href=\"https://colab.research.google.com/github/otoperalias/Coyuntura/blob/main/clases/Tema2_Visualizacion.ipynb\" target=\"_parent\"><img src=\"https://colab.research.google.com/assets/colab-badge.svg\" alt=\"Open In Colab\"/></a>"
      ]
    },
    {
      "cell_type": "markdown",
      "metadata": {
        "id": "_s_f1b3Ksbt0"
      },
      "source": [
        "## Visualización de datos: Creando gráficos de calidad\n",
        "\n",
        "### Datos de población y de PIB\n",
        "\n",
        "Daniel Oto-Peralías"
      ]
    },
    {
      "cell_type": "markdown",
      "metadata": {
        "id": "H0_yPfqQtRT3"
      },
      "source": [
        "### Importar librerías y datos"
      ]
    },
    {
      "cell_type": "code",
      "metadata": {
        "id": "5tYx0AUjsbt4"
      },
      "source": [
        "# IMPORTAMOS LIBRERIAS\n",
        "import pandas as pd\n",
        "pd.set_option('display.max_row', 100)\n",
        "pd.set_option('display.max_columns', 30)\n",
        "import matplotlib.pyplot as plt"
      ],
      "execution_count": 1,
      "outputs": []
    },
    {
      "cell_type": "code",
      "metadata": {
        "id": "zqk5h9TMsbt5"
      },
      "source": [
        "# IMPORTAMOS LOS DATOS\n",
        "link=\"https://www.rug.nl/ggdc/docs/pwt100.xlsx\"\n",
        "pwt=pd.read_excel(link,\"Data\") # Es una base de datos grande"
      ],
      "execution_count": 2,
      "outputs": []
    },
    {
      "cell_type": "markdown",
      "metadata": {
        "id": "5KZdV7gf0AFk"
      },
      "source": [
        "### Procesar datos\n",
        "##### Creamos una tabla con los datos de España e Italia de poblacion y PIB.\n"
      ]
    },
    {
      "cell_type": "code",
      "metadata": {
        "id": "w0docqqvsbt6"
      },
      "source": [
        "# Seleccionamos países concretos\n",
        "df=pwt.loc[(pwt['country']==\"Spain\")|(pwt['country']==\"Italy\"),['year','country','pop','rgdpo']].copy()\n",
        "df"
      ],
      "execution_count": null,
      "outputs": []
    },
    {
      "cell_type": "code",
      "metadata": {
        "id": "v3vY879Asbt6"
      },
      "source": [
        "# Poner los datos en formato correcto a través del método .unstack()\n",
        "df=df.set_index(['year','country']).unstack('country') # Observar que hemos creado un MultiIndex table\n",
        "df.rename(columns={\"Italy\": \"Italia\",\"Spain\":\"España\"},inplace=True) # Para que luego salga en castellano\n",
        "df.index=pd.to_datetime(df.index,format='%Y') # Ponemos eje en formato fecha \n",
        "df"
      ],
      "execution_count": null,
      "outputs": []
    },
    {
      "cell_type": "code",
      "metadata": {
        "id": "KX5_2EpKsbt7"
      },
      "source": [
        "# Creamos tasa de variacion\n",
        "tv=df.diff()/df.shift()*100"
      ],
      "execution_count": 7,
      "outputs": []
    },
    {
      "cell_type": "code",
      "metadata": {
        "id": "j-LK1_bNsbt8"
      },
      "source": [
        "# Medias de las tasas de crecimiento totales\n",
        "tv_mean=tv.mean()"
      ],
      "execution_count": 10,
      "outputs": []
    },
    {
      "cell_type": "code",
      "metadata": {
        "id": "QbCV_sNysbt8"
      },
      "source": [
        "# Medias para cada periodo de 20 años\n",
        "tv20=tv.resample('20A').mean()\n",
        "tv20.index=tv20.index.strftime('%Y') # Da formato adecuado al index, que contienen los años\n",
        "tv20"
      ],
      "execution_count": null,
      "outputs": []
    },
    {
      "cell_type": "markdown",
      "metadata": {
        "id": "pILyeNdD1w3Y"
      },
      "source": [
        "### Gráficos exploratorios: dibujamos directamente desde **pandas**\n",
        "\n",
        "* Importante: esto solo vale como gráficos exploratorios para uso personal.\n",
        "* Para otros propósitos, hay que preparar gráficos de más calidad."
      ]
    },
    {
      "cell_type": "code",
      "metadata": {
        "collapsed": true,
        "id": "dwV_C_eMsbt9"
      },
      "source": [
        "# Evolución de la población y el GDP en niveles\n",
        "df['pop'].plot(title=\"Evol. de la población\")\n",
        "df['rgdpo'].plot(title=\"Evol. PIB real\")"
      ],
      "execution_count": null,
      "outputs": []
    },
    {
      "cell_type": "code",
      "metadata": {
        "collapsed": true,
        "id": "_NjW7NjIsbt-"
      },
      "source": [
        "# Ahora las tasas de variacion\n",
        "tv['pop'].plot(title=\"TV de la población\")\n",
        "tv['pop'][\"1980\":].plot(title=\"TV de la población\") # Esto para un periodo determinado\n",
        "tv['rgdpo'].plot(title=\"TV PIB real\")"
      ],
      "execution_count": null,
      "outputs": []
    },
    {
      "cell_type": "code",
      "metadata": {
        "collapsed": true,
        "id": "WuWus2EHsbt-"
      },
      "source": [
        "# Grafico de barras para media de cada periodo de 20 años\n",
        "tv20.plot.bar(title=\"media de cada periodo de 20 años\")"
      ],
      "execution_count": null,
      "outputs": []
    },
    {
      "cell_type": "markdown",
      "metadata": {
        "id": "LYfBIH19sbt_"
      },
      "source": [
        "### Gráficos de calidad (para informes, trabajos, artículos, etc.)"
      ]
    },
    {
      "cell_type": "markdown",
      "metadata": {
        "id": "JWHvgGE42nWC"
      },
      "source": [
        "Matplotlib permite usar diferentes estilos predeterminados:\n",
        "https://matplotlib.org/3.2.1/gallery/style_sheets/style_sheets_reference.html\n",
        "\n",
        "Echamos un vistazo y elegimos uno que nos guste.\n"
      ]
    },
    {
      "cell_type": "code",
      "metadata": {
        "id": "kQwGkM-osbt_"
      },
      "source": [
        "plt.style.use('seaborn')"
      ],
      "execution_count": 18,
      "outputs": []
    },
    {
      "cell_type": "markdown",
      "metadata": {
        "id": "KReF-QmV2-g4"
      },
      "source": [
        "#### Figura 1: Evolución anual de la población en España"
      ]
    },
    {
      "cell_type": "code",
      "metadata": {
        "collapsed": true,
        "id": "3zIBCZ23sbuA",
        "outputId": "72c65735-cd42-4ad9-f195-a1be3483fd66",
        "colab": {
          "base_uri": "https://localhost:8080/",
          "height": 437
        }
      },
      "source": [
        "fig, ax=plt.subplots(figsize=(8,4),dpi=100)\n",
        "ax.plot(df['pop']['España']) # Equivalente: df['pop']['España'].plot(ax=ax)\n",
        "ax.set_ylabel(\"Millones\")\n",
        "ax.set_xlabel(\"Año\")\n",
        "ax.set_title(\"Evolución de la población en España\", size=14, pad=15)\n",
        "fig.text(0.11,-0.03,\"Elaboración propia. Fuente: PWT.\", ha=\"left\",fontsize=10 ) # ha=horizontalalignment\n",
        "plt.show()     "
      ],
      "execution_count": 24,
      "outputs": [
        {
          "output_type": "display_data",
          "data": {
            "text/plain": [
              "<Figure size 800x400 with 1 Axes>"
            ],
            "image/png": "[encoded data removed]"
          },
          "metadata": {}
        }
      ]
    },
    {
      "cell_type": "markdown",
      "metadata": {
        "id": "2mq0a-yO4Ali"
      },
      "source": [
        "#### Figura 2: Tasa de crecimiento del PIB cada 20 años- España e Italia"
      ]
    },
    {
      "cell_type": "code",
      "metadata": {
        "collapsed": true,
        "id": "OlSlpbODsbuA",
        "outputId": "4c944f7e-c29d-46bc-ed82-b0dcd1679d43",
        "colab": {
          "base_uri": "https://localhost:8080/",
          "height": 457
        }
      },
      "source": [
        "fig,ax=plt.subplots(figsize=(8,4),dpi=100)\n",
        "tv20['rgdpo'][1:].plot.bar(xlabel=\"\", ax=ax)\n",
        "ax.set_xticks([0,1,2,3])\n",
        "ax.set_xticklabels([\"1950-1969\", \"1970-1989\",\"1990-2009\",\"2010-2019\"], rotation='horizontal')\n",
        "ax.set_title(\"Tasa de crecimiento media del PIB cada 20 años:\\n España vs Italia\", size=14, pad=15)\n",
        "ax.legend(title=\"\")\n",
        "fig.text(0.25,-0.03,\"Elaboración propia. Fuente: PWT.\", ha=\"center\",fontsize=10 ) # ha=horizontalalignment\n",
        "plt.show()"
      ],
      "execution_count": 29,
      "outputs": [
        {
          "output_type": "display_data",
          "data": {
            "text/plain": [
              "<Figure size 800x400 with 1 Axes>"
            ],
            "image/png": "[encoded data removed]"
          },
          "metadata": {}
        }
      ]
    },
    {
      "cell_type": "markdown",
      "metadata": {
        "id": "f5gZ6p1F4hjf"
      },
      "source": [
        "#### Figura 3: Evolución de la población y su tasa de crecimiento"
      ]
    },
    {
      "cell_type": "code",
      "metadata": {
        "collapsed": true,
        "id": "-FqqqqUusbuA"
      },
      "source": [
        "fig, ax1=plt.subplots(figsize=(8,4),dpi=100)\n",
        "    # Serie en eje y principal\n",
        "tv['pop']['España'].plot(color='tab:red', ax=ax1)\n",
        "    # Serie en eje y secundario (derecha)\n",
        "ax2 = ax1.twinx()  # aquí se establece un segundo eje Y que comparte el mismo eje X\n",
        "df['pop']['España'].plot(color='tab:blue', ax=ax2)\n",
        "ax2.grid(False)\n",
        "    # Ax1, Ax2: más detalles y línea de 0 \n",
        "ax1.set_ylabel(\"Tasa de variación\",color='tab:red')\n",
        "ax1.set_xlabel(\"\")\n",
        "ax2.set_ylabel(\"Millones\", color='tab:blue')\n",
        "ax1.axhline(y=0, linewidth=1, linestyle=\":\", color=\"tab:red\")\n",
        "    # Título etc\n",
        "plt.title(\"Evolución de la población en España\", size=14, pad=15)\n",
        "fig.text(0.25,-0.02,\"Elaboración propia. Fuente: PWT.\", ha=\"center\",fontsize=10 ) # ha=horizontalalignment\n",
        "plt.show()"
      ],
      "execution_count": null,
      "outputs": []
    },
    {
      "cell_type": "markdown",
      "metadata": {
        "id": "dp11i38a49uz"
      },
      "source": [
        "#### Figura 4: Tasa de crecimiento del PIB España e Italia (2 gráficos)\n"
      ]
    },
    {
      "cell_type": "code",
      "metadata": {
        "collapsed": true,
        "id": "kFMVAbDUsbuB"
      },
      "source": [
        "fig, (ax1,ax2)=plt.subplots(2,1,figsize=(10,7),dpi=100)\n",
        "# Axes1\n",
        "tv['rgdpo']['Italia'].plot(label=\"Italia\",style=\"--\",c=\"tab:red\", ax=ax1)\n",
        "tv['rgdpo']['España'].plot(label=\"España\",style=\"-\", c=\"tab:blue\", ax=ax1)\n",
        "ax1.set_xlabel(\"\")\n",
        "ax1.set_ylabel(\"Tasa de variación anual\")\n",
        "ax1.legend()\n",
        "# Axes2\n",
        "tv20['rgdpo'][1:].plot.bar(ax=ax2, color=['tab:red','tab:blue'])\n",
        "ax2.set_xticks([0,1,2,3])\n",
        "ax2.set_xticklabels([\"1950-1969\", \"1970-1989\",\"1990-2009\",\"2010-2019\"], rotation='horizontal')\n",
        "ax2.set_xlabel(\"\")\n",
        "ax2.set_ylabel(\"Tasa de variación media \\n del periodo\")\n",
        "ax2.legend(title=\"\")\n",
        "# Aplicable al conjunto de la figura\n",
        "fig.suptitle(\"Tasa de crecimiento del PIB\", size=14)\n",
        "fig.text(0.22,0.05,\"Elaboración propia. Fuente: PWT.\", ha=\"center\",fontsize=10 ) # ha=horizontalalignment\n",
        "plt.subplots_adjust(hspace=0.2)\n",
        "plt.show()"
      ],
      "execution_count": null,
      "outputs": []
    },
    {
      "cell_type": "markdown",
      "metadata": {
        "id": "Qk7A7LdS5jdi"
      },
      "source": [
        "#### Figura 5: Tasa de crecimiento del PIB y la población España e Italia (4 gráficos)"
      ]
    },
    {
      "cell_type": "code",
      "metadata": {
        "id": "8RZqmUinsbuB"
      },
      "source": [
        "fig,((ax1,ax2),(ax3,ax4))=plt.subplots(2,2,figsize=(10,7),dpi=100)\n",
        "# Axes1\n",
        "tv['pop']['Italia'].plot(label=\"Italia\",style=\"--\",c=\"tab:red\", ax=ax1)\n",
        "tv['pop']['España'].plot(label=\"España\",style=\"-\", c=\"tab:blue\", ax=ax1)\n",
        "ax1.axhline(y=0, linewidth=1, linestyle=\":\", color=\"black\")\n",
        "ax1.set_xlabel(\"\")\n",
        "ax1.set_ylabel(\"Tasa de variación anual\")\n",
        "ax1.set_title(\"Población\", size=14, pad=14)\n",
        "ax1.legend(frameon=False)\n",
        "# Axes2\n",
        "tv['rgdpo']['Italia'].plot(label=\"Italia\",style=\"--\",c=\"tab:red\", ax=ax2)\n",
        "tv['rgdpo']['España'].plot(label=\"España\",style=\"-\", c=\"tab:blue\", ax=ax2)\n",
        "ax2.axhline(y=0, linewidth=1, linestyle=\":\", color=\"black\")\n",
        "ax2.set_xlabel(\"\")\n",
        "ax2.set_ylabel(\"Tasa de variación anual\")\n",
        "ax2.set_title(\"PIB\", size=14, pad=14)\n",
        "ax2.legend(frameon=False)\n",
        "# Axes3\n",
        "tv20['pop'][1:].plot.bar(ax=ax3, color=['tab:red','tab:blue'])\n",
        "ax3.axhline(y=0, linewidth=1, linestyle=\":\", color=\"black\")\n",
        "ax3.set_xticks([0,1,2,3])\n",
        "ax3.set_xticklabels([\"1950-1969\", \"1970-1989\",\"1990-2009\",\"2010-2019\"], rotation='horizontal')\n",
        "ax3.set_xlabel(\"\")\n",
        "ax3.set_ylabel(\"Tasa de variación media \\n del periodo\")\n",
        "ax3.legend(title=\"\", frameon=False)\n",
        "# Axes4\n",
        "tv20['rgdpo'][1:].plot.bar(ax=ax4, color=['tab:red','tab:blue'])\n",
        "ax4.set_xticks([0,1,2,3])\n",
        "ax4.set_xticklabels([\"1950-1969\", \"1970-1989\",\"1990-2009\",\"2010-2019\"], rotation='horizontal')\n",
        "ax4.set_xlabel(\"\")\n",
        "ax4.set_ylabel(\"Tasa de variación media \\n del periodo\")\n",
        "ax4.legend(title=\"\", frameon=False)\n",
        "# Aplicable al conjunto de la figura\n",
        "fig.text(0.24,0.05,\"Elaboración propia. Fuente: PWT.\", ha=\"center\",fontsize=10 ) # ha=horizontalalignment\n",
        "plt.subplots_adjust(hspace=0.2)\n",
        "plt.show()"
      ],
      "execution_count": null,
      "outputs": []
    },
    {
      "cell_type": "markdown",
      "metadata": {
        "id": "5xJx27hQ6Kws"
      },
      "source": [
        "#### Figura 6: Tasa de crecimiento del PIB en España e Italia"
      ]
    },
    {
      "cell_type": "code",
      "metadata": {
        "id": "6wnGEPtWsbuC"
      },
      "source": [
        "gridsize=(3,2) #  cuadrícula de 3 filas y 2 columnas\n",
        "fig=plt.figure(figsize=(9,8),dpi=100)\n",
        "ax1=plt.subplot2grid(gridsize,(0,0),colspan=2,rowspan=2)\n",
        "ax2=plt.subplot2grid(gridsize,(2,0),colspan=1,rowspan=1)\n",
        "ax3=plt.subplot2grid(gridsize,(2,1),colspan=1,rowspan=1)\n",
        "#Axes1\n",
        "tv['rgdpo']['España'].plot(label=\"España\",style=\"--\",c=\"tab:red\", ax=ax1)\n",
        "tv['rgdpo']['Italia'].plot(label=\"Italia\",style=\"-\", c=\"tab:blue\", ax=ax1)\n",
        "ax1.axhline(y=0, linewidth=1, linestyle=\":\", color=\"black\")\n",
        "ax1.set_xlabel(\"\")\n",
        "ax1.set_xlabel(\"\")\n",
        "ax1.set_ylabel(\"Tasa de variación anual\")\n",
        "ax1.set_title(\"Crecimiento del PIB en España e Italia\", size=15, pad=20, fontweight='bold')\n",
        "ax1.legend(frameon=False)\n",
        "#Axes2\n",
        "tv['rgdpo']['España'].plot.hist(label=\"España\",color=\"tab:red\", ax=ax2, density=True)\n",
        "tv['rgdpo']['Italia'].plot.hist(label=\"Italia\",color=\"tab:blue\",ax=ax2, density=True, alpha=0.7)\n",
        "ax2.set_ylabel(\"Density\")\n",
        "ax2.legend(frameon=False)\n",
        "#Axes3\n",
        "tv['rgdpo'].plot.scatter(x='España',y='Italia',ax=ax3)\n",
        "ax3.set_ylabel(\"Tasa variacion Italia\")\n",
        "ax3.set_xlabel(\"Tasa variacion España\")\n",
        "# Aplicable al conjunto de la figura\n",
        "fig.text(0.2,0.06,\"Elaboración propia. Fuente: PWT.\", ha=\"center\",fontsize=10 ) # ha=horizontalalignment\n",
        "plt.subplots_adjust(hspace=0.2)\n",
        "plt.show()\n"
      ],
      "execution_count": null,
      "outputs": []
    }
  ]
}