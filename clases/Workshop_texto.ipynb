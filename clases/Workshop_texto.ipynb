{
  "nbformat": 4,
  "nbformat_minor": 0,
  "metadata": {
    "colab": {
      "provenance": [],
      "authorship_tag": "ABX9TyPm5aAk6cfmhN2NUhzzoXAr",
      "include_colab_link": true
    },
    "kernelspec": {
      "name": "python3",
      "display_name": "Python 3"
    },
    "language_info": {
      "name": "python"
    }
  },
  "cells": [
    {
      "cell_type": "markdown",
      "metadata": {
        "id": "view-in-github",
        "colab_type": "text"
      },
      "source": [
        "<a href=\"https://colab.research.google.com/github/otoperalias/Coyuntura/blob/main/clases/Workshop_texto.ipynb\" target=\"_parent\"><img src=\"https://colab.research.google.com/assets/colab-badge.svg\" alt=\"Open In Colab\"/></a>"
      ]
    },
    {
      "cell_type": "markdown",
      "source": [
        "## Análisis computacional de texto en Python"
      ],
      "metadata": {
        "id": "aFc1of1LBRra"
      }
    },
    {
      "cell_type": "markdown",
      "source": [
        "### 1. Análisis de programas electorales\n",
        "Este ejercicio consiste en crear una nube de palabras con las palabras más repetidas de cada programa electoral, donde el tamaño de cada palabra representa la frecuencia con la que aparece.  \n",
        "Las nubes de palabran dan información sobre los temas más tratados en cada programa electoral."
      ],
      "metadata": {
        "id": "rM07pyaPB1dC"
      }
    },
    {
      "cell_type": "code",
      "source": [
        "# Instalamos las librerías que vamos a usar y no están preinstaladas en Colab\n",
        "!pip install PyPDF2\n",
        "!pip install wordcloud"
      ],
      "metadata": {
        "id": "FhfWq4leBt6o"
      },
      "execution_count": null,
      "outputs": []
    },
    {
      "cell_type": "code",
      "source": [
        "# Importamos las librerías que vamos a usar\n",
        "import PyPDF2\n",
        "from wordcloud import WordCloud\n",
        "from collections import Counter\n",
        "from tabulate import tabulate\n",
        "import string\n",
        "import matplotlib.pyplot as plt"
      ],
      "metadata": {
        "id": "D_FBDc9tChft"
      },
      "execution_count": null,
      "outputs": []
    },
    {
      "cell_type": "code",
      "source": [
        "# Descargamos, descomprimimos y subimos los ficheros de programas electorales a Colab:\n",
        "# Los programas están disponibles aquí: https://github.com/otoperalias/Coyuntura/blob/main/clases/datos/textos/programas_electo.rar\n",
        "# Descargamos también y subimos a Colab el fichero txt con las stopwords: https://github.com/otoperalias/Coyuntura/blob/main/clases/datos/textos/stopwords-es.txt\n",
        "\n",
        "partidos=[\"PP\", \"PSOE\", \"PODEMOS\", \"CIUDADANOS\", \"VOX\"][1:2]\n",
        "for p in partidos:\n",
        "    file = open(p+'.pdf', 'rb')\n",
        "        \n",
        "    # Creamos un pdf reader object\n",
        "    freader = PyPDF2.PdfFileReader(file)\n",
        "    \n",
        "    # Imprimimos el número de páginas de cada programa\n",
        "    print(\"El programa de \"+p+\" tiene\", freader.numPages, \"páginas\")\n",
        "    \n",
        "    # variable string que contiene el texto del programa\n",
        "    text=\"\"\n",
        "    for page in freader.pages:\n",
        "        text+=page.extractText()\n",
        "    text=text.replace('\\n', ' ') \n",
        "    text=text.replace('-', '') \n",
        "    text=text.lower() # lo ponemos todo en minúsculas\n",
        "    \n",
        "    #WORDCLOUD\n",
        "    stopw=open('stopwords-es.txt','r', encoding='utf-8').read()  #stopwords in Spanish\n",
        "    stopw_list = list(stopw.split(\" \")) \n",
        "        \n",
        "    wordcloud = WordCloud(width = 1000, height = 500,background_color=\"white\", colormap=\"copper\", max_words=100, stopwords=stopw_list).generate_from_text(text)\n",
        "    \n",
        "    # Display the generated image:\n",
        "    fig, ax=plt.subplots(figsize=(12,6))\n",
        "    ax.imshow(wordcloud)\n",
        "    ax.axis(\"off\")\n",
        "    ax.set_title(\"Nube de palabras del programa electoral\\n de \"+p+\" en las elecciones de Abril de 2019\\n \", size=18)\n",
        "    fig.text(0.15,0.07,\"Elaboración propia. Fuente: Web oficial del partido político.\")\n",
        "    plt.show()\n",
        "    plt.savefig(p+'.png', bbox_inches='tight')    \n",
        "    \n",
        "    # 10 most frequent words\n",
        "    signos_punt=[x for x in string.punctuation]\n",
        "    text_list=text.split()\n",
        "    for sw in stopw_list+signos_punt:\n",
        "        while sw in text_list:\n",
        "            text_list.remove(sw)\n",
        "    c = Counter(text_list)\n",
        "    tabla=tabulate(c.most_common(10))\n",
        "    print(tabla)\n"
      ],
      "metadata": {
        "id": "3bNaxc8TDduV"
      },
      "execution_count": null,
      "outputs": []
    },
    {
      "cell_type": "markdown",
      "source": [
        "### 2. Análisis de los debates sobre el Estado de la Nación\n",
        "Este ejercicio consiste en analizar los temas tratados en el último debate sobre el Estado de la Nación.  \n",
        "Enlace: https://www.congreso.es/cem/jul2022"
      ],
      "metadata": {
        "id": "-zFmKgpAItnp"
      }
    },
    {
      "cell_type": "code",
      "source": [
        "files=[\"DSCD-14-PL-200.PDF\",\"DSCD-14-PL-201.PDF\"]\n",
        "text=\"\"\n",
        "for x in files:\n",
        "  file = open(x, 'rb')\n",
        "  freader = PyPDF2.PdfFileReader(file)\n",
        "  print(\"El archivo tiene\", freader.numPages, \"páginas\")\n",
        "  for page in freader.pages:\n",
        "      text+=page.extractText()\n",
        "text=text.replace('\\n', ' ') \n",
        "text=text.replace('-', '') \n",
        "text=text.lower() # lo ponemos todo en minúsculas\n",
        "\n",
        "eco_t=0\n",
        "lista_econ= [\"economía\",\"producción\",\"pib\",\"desempleo\", \"empleo\", \"paro\",\"inflación\",\"precios\",\"precio\",\"crisis\",\"deuda\",\"pensiones\",\"crecimiento\",\"fin de mes\",\"pobreza\",\"dinero\",\"gasto\",\"innovación\",\"bonanza\"]\n",
        "for x in lista_econ:\n",
        "  eco_t+=text.count(x)\n",
        "\n",
        "econ_pos=[\"empleo\",\"crecimiento\",\"innovación\"]\n",
        "econ_neg=[\"desempleo\",\"paro\",\"inflación\",\"precios\",\"precio\",\"crisis\",\"deuda\",\"fin de mes\",\"pobreza\"]\n",
        "\n",
        "eco_p=0\n",
        "for x in econ_pos:\n",
        "  eco_p+=text.count(x)  \n",
        "\n",
        "eco_n=0\n",
        "for x in econ_neg:\n",
        "  eco_n+=text.count(x)  \n",
        "\n",
        "print(eco_p/(eco_p+eco_n))"
      ],
      "metadata": {
        "id": "V5GnkYmTUs9u"
      },
      "execution_count": null,
      "outputs": []
    }
  ]
}