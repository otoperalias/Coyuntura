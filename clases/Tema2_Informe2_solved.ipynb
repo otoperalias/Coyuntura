{
  "nbformat": 4,
  "nbformat_minor": 0,
  "metadata": {
    "colab": {
      "name": "Untitled1.ipynb",
      "provenance": [],
      "authorship_tag": "ABX9TyPY7uLFH9gixTuPg/2Yf7zf",
      "include_colab_link": true
    },
    "kernelspec": {
      "name": "python3",
      "display_name": "Python 3"
    },
    "language_info": {
      "name": "python"
    }
  },
  "cells": [
    {
      "cell_type": "markdown",
      "metadata": {
        "id": "view-in-github",
        "colab_type": "text"
      },
      "source": [
        "<a href=\"https://colab.research.google.com/github/otoperalias/Coyuntura/blob/main/clases/Tema2_Informe2_solved.ipynb\" target=\"_parent\"><img src=\"https://colab.research.google.com/assets/colab-badge.svg\" alt=\"Open In Colab\"/></a>"
      ]
    },
    {
      "cell_type": "markdown",
      "metadata": {
        "id": "I4AcZ7nQtCZ5"
      },
      "source": [
        "## Análisis de la relación entre variación del PIB y muertes por COVID19 en los países europeos de la OCDE\n",
        "\n",
        "Fecha del informe: 24/10/2022.\n",
        "\n",
        "Autor: Daniel Oto Peralías."
      ]
    },
    {
      "cell_type": "code",
      "metadata": {
        "id": "MnsxJcOZsjML"
      },
      "source": [
        "# Importar librerías \n",
        "import pandas as pd\n",
        "pd.set_option('display.max_row', 40)\n",
        "pd.set_option('display.max_columns', 10)\n",
        "import matplotlib.pyplot as plt"
      ],
      "execution_count": null,
      "outputs": []
    },
    {
      "cell_type": "code",
      "metadata": {
        "id": "tFFink_suMe1"
      },
      "source": [
        "# Subir datos del PIB\n",
        "from google.colab import files\n",
        "files.upload()"
      ],
      "execution_count": null,
      "outputs": []
    },
    {
      "cell_type": "code",
      "metadata": {
        "id": "Dx6HKe1duDQH"
      },
      "source": [
        "# Leer datos de variación del PIB\n",
        "pib=pd.read_excel('datosOCDE2022.xlsx')\n",
        "# Seleccionamos columnas relevantes\n",
        "pib=pib[[\"Country\",\"2020\",\"2021\"]]"
      ],
      "execution_count": null,
      "outputs": []
    },
    {
      "cell_type": "code",
      "source": [
        "# Creamos una lista con los países de la OCDE\n",
        "paises=pib.Country.to_list()"
      ],
      "metadata": {
        "id": "C7CsZ5C1EhaO"
      },
      "execution_count": null,
      "outputs": []
    },
    {
      "cell_type": "code",
      "source": [
        "# Datos COVID (contiene solo países europeos)\n",
        "covid = pd.read_csv(\"https://raw.githubusercontent.com/otoperalias/Coyuntura/main/clases/datos/owid-covid-data_eu.csv\",sep=\",\", index_col=0, parse_dates=True)"
      ],
      "metadata": {
        "id": "2tB05GU_EpiS"
      },
      "execution_count": null,
      "outputs": []
    },
    {
      "cell_type": "code",
      "source": [
        "# Filtro para quedarme solo con los países de la OCDE\n",
        "# Primero creo una variable =1 si el país pertenece a la OCDE\n",
        "covid['ocde']=0\n",
        "for x in paises:\n",
        "  covid.loc[covid['location']==x,'ocde']=1"
      ],
      "metadata": {
        "id": "7fITlAlfIckS"
      },
      "execution_count": null,
      "outputs": []
    },
    {
      "cell_type": "code",
      "source": [
        "# Como solamente tengo países europeos en la tabla de COVID, debo tener un total de 26 países donde \"ocde\"==1\n",
        "len(covid.loc[covid['ocde']==1,\"location\"].unique())"
      ],
      "metadata": {
        "id": "cokj962oJVBr"
      },
      "execution_count": null,
      "outputs": []
    },
    {
      "cell_type": "code",
      "source": [
        "# Veo que faltan 2. \n",
        "\n",
        "# Para ver los países que faltan\n",
        "paises_identif=covid.loc[covid['ocde']==1,'location'].unique()\n",
        "for x in paises:\n",
        "    if x not in paises_identif:\n",
        "        print(x)"
      ],
      "metadata": {
        "id": "1nuyd3bsJeLi"
      },
      "execution_count": null,
      "outputs": []
    },
    {
      "cell_type": "code",
      "metadata": {
        "id": "ZMz6444b5MhS"
      },
      "source": [
        "# De los anteriores, europeos son solo Czech Republic y Slovak Republic\n",
        "\n",
        "# Cambiamos el nombre en tabla covid\n",
        "covid.loc[covid['location']=='Czechia',\"location\"]='Czech Republic'\n",
        "covid.loc[covid['location']=='Slovakia',\"location\"]='Slovak Republic'"
      ],
      "execution_count": null,
      "outputs": []
    },
    {
      "cell_type": "code",
      "metadata": {
        "id": "oE6vuZIl-Pj7"
      },
      "source": [
        "# Volvemos a seleccionar los países de la OCDE\n",
        "covid['ocde']=0\n",
        "for x in paises:\n",
        "  covid.loc[covid['location']==x,'ocde']=1\n",
        "len(covid.loc[covid['ocde']==1,\"location\"].unique()) # Bien! Ahora están los 26"
      ],
      "execution_count": null,
      "outputs": []
    },
    {
      "cell_type": "code",
      "metadata": {
        "id": "V-zn6dCyAIZ5"
      },
      "source": [
        "# Ahora seleccionamos la muestra de países de la OCDE\n",
        "covid=covid.loc[covid['ocde']==1]"
      ],
      "execution_count": null,
      "outputs": []
    },
    {
      "cell_type": "code",
      "source": [
        "# Creamos la tabla en formato deseado: \n",
        "  # una fila por país \n",
        "  # y dos columnas, una para muertes acumuladas en 2020 y otra para muertes acumuladas durante 2021\n",
        "\n",
        "# Primero creo una tabla con el total de muertes a 31/12/2020 (== muertes acumuladas 2020)\n",
        "covid2020=covid.loc[covid.index==\"2020-12-31\",[\"location\",\"total_deaths_per_million\"]].copy()\n",
        "\n",
        "# Y otra con el total de muertes a 31/12/2021 (== muertes acumuladas durante 2020 y 2021)\n",
        "covid2021=covid.loc[covid.index==\"2021-12-31\",[\"location\",\"total_deaths_per_million\"]].copy()\n",
        "\n",
        "# Mezclo ambas tablas\n",
        "muertescov=covid2020.merge(covid2021,on=\"location\")\n",
        "muertescov"
      ],
      "metadata": {
        "id": "b3-pCH_7F_71"
      },
      "execution_count": null,
      "outputs": []
    },
    {
      "cell_type": "code",
      "source": [
        "# Cambio el nombre de las columnas\n",
        "muertescov.rename(columns={\"location\":\"Country\",\"total_deaths_per_million_x\":\"muertes2020\",\"total_deaths_per_million_y\":\"muertes2020_21\"},inplace=True)\n",
        "muertescov"
      ],
      "metadata": {
        "id": "m16SJIYRMdxQ"
      },
      "execution_count": null,
      "outputs": []
    },
    {
      "cell_type": "code",
      "source": [
        "# Creamos muertes2021: las muertes acumuladas DURANTE 2021\n",
        "muertescov['muertes2021']=muertescov.muertes2020_21-muertescov.muertes2020\n",
        "muertescov"
      ],
      "metadata": {
        "id": "x0dx81S9M_pm"
      },
      "execution_count": null,
      "outputs": []
    },
    {
      "cell_type": "code",
      "metadata": {
        "id": "-pSfG0MI0oh4"
      },
      "source": [
        "# Unimos tabla PIB con tabla muertescov\n",
        "df=pib.merge(muertescov,on=\"Country\")\n",
        "df"
      ],
      "execution_count": null,
      "outputs": []
    },
    {
      "cell_type": "code",
      "metadata": {
        "id": "kGatBXckvDmq"
      },
      "source": [
        "df.set_index(\"Country\",inplace=True)"
      ],
      "execution_count": null,
      "outputs": []
    },
    {
      "cell_type": "code",
      "source": [],
      "metadata": {
        "id": "xHhPyZm1OX6H"
      },
      "execution_count": null,
      "outputs": []
    },
    {
      "cell_type": "code",
      "source": [],
      "metadata": {
        "id": "4yLJHZhkOX9V"
      },
      "execution_count": null,
      "outputs": []
    },
    {
      "cell_type": "code",
      "metadata": {
        "id": "vxZt5chjvFj8"
      },
      "source": [
        "# Crear gráfico de barras\n",
        "pib.sort_values('2020', inplace=True) # Idem\n",
        "pib.plot.bar()"
      ],
      "execution_count": null,
      "outputs": []
    },
    {
      "cell_type": "code",
      "metadata": {
        "id": "EaFGDlvXvGud"
      },
      "source": [
        "# Crear lista de países de la OCDE para luego seleccionarlos en OWID\n",
        "paises=pib.index.to_list()"
      ],
      "execution_count": null,
      "outputs": []
    },
    {
      "cell_type": "code",
      "metadata": {
        "id": "6FjCxc9Zx1eL"
      },
      "source": [
        "# Opción 1: Importar datos de OWID de COVID19 (LEYÉNDOLOS DIRECTAMENTE)\n",
        "datapath=\"https://raw.githubusercontent.com/otoperalias/Coyuntura/main/clases/datos/owid_covid.xlsx\"\n",
        "covid=pd.read_excel(datapath,index_col=0,parse_dates=True)"
      ],
      "execution_count": null,
      "outputs": []
    },
    {
      "cell_type": "code",
      "metadata": {
        "id": "OZ_kMfTR0FfU"
      },
      "source": [
        "# Opción 2: 2.1 Subir datos\n",
        "files.upload()"
      ],
      "execution_count": null,
      "outputs": []
    },
    {
      "cell_type": "code",
      "metadata": {
        "id": "JiSE28wMzLUv"
      },
      "source": [
        "# Opción 2: 2.2 Leer datos\n",
        "covid=pd.read_excel(\"/content/owid_covid.xlsx\",index_col=0,parse_dates=True)"
      ],
      "execution_count": null,
      "outputs": []
    },
    {
      "cell_type": "code",
      "metadata": {
        "id": "za69zxFfAguJ"
      },
      "source": [
        "cov.set_index(\"location\", inplace=True)"
      ],
      "execution_count": null,
      "outputs": []
    },
    {
      "cell_type": "code",
      "metadata": {
        "id": "jcTStjpeCpuP"
      },
      "source": [
        "# Gráfico exploratorio de barras\n",
        "cov.sort_values(\"total_deaths_per_million\").total_deaths_per_million.plot.bar()"
      ],
      "execution_count": null,
      "outputs": []
    },
    {
      "cell_type": "code",
      "metadata": {
        "id": "OD0ZR49YCPQ1"
      },
      "source": [
        "pib.reset_index(inplace=True)\n",
        "cov.reset_index(inplace=True)\n",
        "cov.rename(columns={\"location\":\"Country\"},inplace=True)"
      ],
      "execution_count": null,
      "outputs": []
    },
    {
      "cell_type": "code",
      "metadata": {
        "id": "Q_OPp5BTDt5W"
      },
      "source": [
        "union=pib.merge(cov,on=\"Country\")"
      ],
      "execution_count": null,
      "outputs": []
    },
    {
      "cell_type": "code",
      "metadata": {
        "id": "ZHZzCcgQEx-Y"
      },
      "source": [
        "#Seleccionamos columnas relevantes\n",
        "union=union[[\"Country\",\"2020\",\"continent\",\"total_deaths_per_million\"]]\n",
        "union"
      ],
      "execution_count": null,
      "outputs": []
    },
    {
      "cell_type": "markdown",
      "metadata": {
        "id": "RxvD7_PHPaob"
      },
      "source": [
        "### Correlación entre crecimiento del PIB y tasa de muertes por COVID-19 en 2020"
      ]
    },
    {
      "cell_type": "code",
      "metadata": {
        "id": "kIR8AxSbFMQt"
      },
      "source": [
        "cc=union.corr().iloc[1,0] # Esto es para seleccionar una celda específica con el coef. corr."
      ],
      "execution_count": null,
      "outputs": []
    },
    {
      "cell_type": "code",
      "metadata": {
        "id": "fBAE6C1Mxlid"
      },
      "source": [
        "# Gráfico de calidad:\n",
        "plt.style.use('seaborn')\n",
        "fig, ax=plt.subplots(figsize=(7,6),dpi=80)\n",
        "union.plot.scatter(x=\"total_deaths_per_million\", y=\"2020\", ax=ax)\n",
        "ax.set_ylabel(\"Tasa variación del PIB en 2020  (%)\",size=10)\n",
        "ax.set_xlabel(\"Muertes por millón de hab. en 2020\",size=10)\n",
        "ax.set_title(\"Relación entre crecimiento del PIB y\\n tasa de muertes por COVID-19 en 2020\",\n",
        "             size=13,pad=15)\n",
        "ax.text(1200,3.2,\"Coeficiente de\\n corr.= \"+str(round(cc,2)), ha=\"left\",fontsize=10 ) \n",
        "fig.text(0.1,0.0,\"Elaboración propia. Fuente: OWID y OCDE.\", ha=\"left\",fontsize=10 ) \n",
        "plt.show()"
      ],
      "execution_count": null,
      "outputs": []
    },
    {
      "cell_type": "code",
      "metadata": {
        "id": "SY5cYjImyI7h"
      },
      "source": [
        "europa=union[union.continent==\"Europe\"].copy()"
      ],
      "execution_count": null,
      "outputs": []
    },
    {
      "cell_type": "code",
      "metadata": {
        "id": "uszTgjT27DcR"
      },
      "source": [
        "cc_e=europa.corr().iloc[1,0]"
      ],
      "execution_count": null,
      "outputs": []
    },
    {
      "cell_type": "code",
      "metadata": {
        "id": "uBGQ7LEOMn-w"
      },
      "source": [
        "# Gráfico de calidad:\n",
        "plt.style.use('seaborn')\n",
        "fig, ax=plt.subplots(figsize=(7,6),dpi=80)\n",
        "europa.plot.scatter(x=\"total_deaths_per_million\", y=\"2020\", ax=ax)\n",
        "ax.set_ylabel(\"Tasa variación del PIB en 2020  (%)\",size=10)\n",
        "ax.set_xlabel(\"Muertes por millón de hab. en 2020\",size=10)\n",
        "ax.set_title(\"Relación entre crecimiento del PIB y\\n tasa de muertes por COVID-19 en 2020\",\n",
        "             size=13,pad=15)\n",
        "ax.text(1200,3.2,\"Coeficiente de\\n corr.= \"+str(round(cc_e,2)), ha=\"left\",fontsize=10 ) \n",
        "fig.text(0.1,0.0,\"Muestra: Países europeos de la OCDE.\\nElaboración propia. Fuente: OWID y OCDE.\", ha=\"left\",fontsize=9 ) \n",
        "plt.show()"
      ],
      "execution_count": null,
      "outputs": []
    }
  ]
}