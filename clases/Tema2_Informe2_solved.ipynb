{
  "nbformat": 4,
  "nbformat_minor": 0,
  "metadata": {
    "colab": {
      "name": "Untitled1.ipynb",
      "provenance": [],
      "authorship_tag": "ABX9TyO52NmfzKDu+OdPz5NWNMlI",
      "include_colab_link": true
    },
    "kernelspec": {
      "name": "python3",
      "display_name": "Python 3"
    },
    "language_info": {
      "name": "python"
    }
  },
  "cells": [
    {
      "cell_type": "markdown",
      "metadata": {
        "id": "view-in-github",
        "colab_type": "text"
      },
      "source": [
        "<a href=\"https://colab.research.google.com/github/otoperalias/Coyuntura/blob/main/clases/Tema2_Informe2_solved.ipynb\" target=\"_parent\"><img src=\"https://colab.research.google.com/assets/colab-badge.svg\" alt=\"Open In Colab\"/></a>"
      ]
    },
    {
      "cell_type": "markdown",
      "metadata": {
        "id": "I4AcZ7nQtCZ5"
      },
      "source": [
        "## Análisis de la relación entre variación del PIB y muertes por COVID19 en los países europeos de la OCDE\n",
        "\n",
        "Fecha del informe: 24/10/2022.\n",
        "\n",
        "Autor: Daniel Oto Peralías."
      ]
    },
    {
      "cell_type": "code",
      "metadata": {
        "id": "MnsxJcOZsjML"
      },
      "source": [
        "# Importar librerías \n",
        "import pandas as pd\n",
        "pd.set_option('display.max_row', 40)\n",
        "pd.set_option('display.max_columns', 10)\n",
        "import matplotlib.pyplot as plt"
      ],
      "execution_count": null,
      "outputs": []
    },
    {
      "cell_type": "code",
      "metadata": {
        "id": "tFFink_suMe1"
      },
      "source": [
        "# Subir datos del PIB\n",
        "from google.colab import files\n",
        "files.upload()"
      ],
      "execution_count": null,
      "outputs": []
    },
    {
      "cell_type": "code",
      "metadata": {
        "id": "Dx6HKe1duDQH"
      },
      "source": [
        "# Leer datos de variación del PIB\n",
        "pib=pd.read_excel('datosOCDE2022.xlsx')\n",
        "# Seleccionamos columnas relevantes\n",
        "pib=pib[[\"Country\",\"2020\",\"2021\"]]"
      ],
      "execution_count": null,
      "outputs": []
    },
    {
      "cell_type": "code",
      "source": [
        "# Creamos una lista con los países de la OCDE\n",
        "paises=pib.Country.to_list()"
      ],
      "metadata": {
        "id": "C7CsZ5C1EhaO"
      },
      "execution_count": null,
      "outputs": []
    },
    {
      "cell_type": "code",
      "source": [
        "# Datos COVID (contiene solo países europeos)\n",
        "covid = pd.read_csv(\"https://raw.githubusercontent.com/otoperalias/Coyuntura/main/clases/datos/owid-covid-data_eu.csv\",sep=\",\", index_col=0, parse_dates=True)"
      ],
      "metadata": {
        "id": "2tB05GU_EpiS"
      },
      "execution_count": null,
      "outputs": []
    },
    {
      "cell_type": "code",
      "source": [
        "# Creamos la tabla en formato deseado: \n",
        "  # una fila por país \n",
        "  # y dos columnas, una para muertes acumuladas en 2020 y otra para muertes acumuladas durante 2021\n",
        "\n",
        "# Primero creo una tabla con el total de muertes a 31/12/2020 (== muertes acumuladas 2020)\n",
        "covid2020=covid.loc[covid.index==\"2020-12-31\",[\"location\",\"total_deaths_per_million\"]].copy()\n",
        "\n",
        "# Y otra con el total de muertes a 31/12/2021 (== muertes acumuladas durante 2020 y 2021)\n",
        "covid2021=covid.loc[covid.index==\"2021-12-31\",[\"location\",\"total_deaths_per_million\"]].copy()\n",
        "\n",
        "# Mezclo ambas tablas\n",
        "muertescov=covid2020.merge(covid2021,on=\"location\")\n",
        "muertescov"
      ],
      "metadata": {
        "id": "b3-pCH_7F_71"
      },
      "execution_count": null,
      "outputs": []
    },
    {
      "cell_type": "code",
      "source": [
        "# Cambio el nombre de las columnas\n",
        "muertescov.rename(columns={\"location\":\"Country\",\"total_deaths_per_million_x\":\"muertes2020\",\"total_deaths_per_million_y\":\"muertes2020_21\"},inplace=True)\n",
        "muertescov"
      ],
      "metadata": {
        "id": "m16SJIYRMdxQ"
      },
      "execution_count": null,
      "outputs": []
    },
    {
      "cell_type": "code",
      "source": [
        "# Creamos muertes2021: las muertes acumuladas DURANTE 2021\n",
        "muertescov['muertes2021']=muertescov.muertes2020_21-muertescov.muertes2020\n",
        "muertescov"
      ],
      "metadata": {
        "id": "x0dx81S9M_pm"
      },
      "execution_count": null,
      "outputs": []
    },
    {
      "cell_type": "code",
      "source": [
        "# Unimos la tabla de pib con la de muertescov\n",
        "df=pib.merge(muertescov,on=\"Country\")\n",
        "df"
      ],
      "metadata": {
        "id": "7fITlAlfIckS"
      },
      "execution_count": null,
      "outputs": []
    },
    {
      "cell_type": "code",
      "source": [
        "# Compruebo que tiene 24 filas (i.e., 24 países), pero debería ser 26, por lo que faltan dos.\n",
        "# Para ver los países que faltan:\n",
        "for x in paises:\n",
        "    if x not in df.Country.to_list():\n",
        "        print(x)"
      ],
      "metadata": {
        "id": "cokj962oJVBr"
      },
      "execution_count": null,
      "outputs": []
    },
    {
      "cell_type": "code",
      "metadata": {
        "id": "ZMz6444b5MhS"
      },
      "source": [
        "# De los anteriores, solo Czech Republic y Slovak Republic son europeos\n",
        "\n",
        "# Cambiamos el nombre en tabla covid\n",
        "muertescov.loc[muertescov['Country']=='Czechia',\"Country\"]='Czech Republic'\n",
        "muertescov.loc[muertescov['Country']=='Slovakia',\"Country\"]='Slovak Republic'"
      ],
      "execution_count": null,
      "outputs": []
    },
    {
      "cell_type": "code",
      "metadata": {
        "id": "oE6vuZIl-Pj7"
      },
      "source": [
        "# Volvemos a unir la tabla de pib con la de muertescov\n",
        "df=pib.merge(muertescov,on=\"Country\")\n",
        "len(df)"
      ],
      "execution_count": null,
      "outputs": []
    },
    {
      "cell_type": "code",
      "metadata": {
        "id": "kGatBXckvDmq"
      },
      "source": [
        "# Establecemos la columna \"Country\" como index de la tabla, lo cual es convenientes a la hora de hacer gráficos\n",
        "df.set_index(\"Country\",inplace=True)\n",
        "# Calculamos el crec. medio del PIB\n",
        "df['crecmed']=df['2020']*0.5+df['2021']*0.5"
      ],
      "execution_count": null,
      "outputs": []
    },
    {
      "cell_type": "code",
      "metadata": {
        "id": "jcTStjpeCpuP"
      },
      "source": [
        "# Gráfico de barras: variación del PIB vs muertes totales\n",
        "plt.style.use('seaborn')\n",
        "\n",
        "df=df.sort_values(\"muertes2020_21\")\n",
        "fig,(ax1,ax2)=plt.subplots(2,1,sharex=True)\n",
        "df.muertes2020_21.plot.bar(ax=ax1)\n",
        "df.crecmed.plot.bar(ax=ax2)\n",
        "ax1.set_title(\"Tasa de muertes covid (por millón de hab.)\")\n",
        "ax2.set_title(\"Crec. PIB 2020-2021 (%)\")\n",
        "ax2.set_xlabel(\"\")\n",
        "fig.text(0.1,-0.1,\"Elaboración propia. Fuente: OWID y OCDE.\", ha=\"left\",fontsize=9) \n",
        "plt.show()\n"
      ],
      "execution_count": null,
      "outputs": []
    },
    {
      "cell_type": "markdown",
      "source": [],
      "metadata": {
        "id": "NIFcw_RhRvRZ"
      }
    },
    {
      "cell_type": "markdown",
      "metadata": {
        "id": "RxvD7_PHPaob"
      },
      "source": [
        "### Correlación entre crecimiento del PIB y tasa de muertes por COVID-19 en 2020 y 2021"
      ]
    },
    {
      "cell_type": "code",
      "metadata": {
        "id": "kIR8AxSbFMQt"
      },
      "source": [
        "cc=df[['crecmed','muertes2020_21']].corr().iloc[1,0] # Esto es para seleccionar una celda específica con el coef. corr.\n",
        "print(cc)"
      ],
      "execution_count": null,
      "outputs": []
    },
    {
      "cell_type": "code",
      "metadata": {
        "id": "fBAE6C1Mxlid"
      },
      "source": [
        "# Gráfico de dispersión (2020-21):\n",
        "plt.style.use('seaborn')\n",
        "fig, ax=plt.subplots(figsize=(7,6),dpi=80)\n",
        "df.plot.scatter(x=\"muertes2020_21\", y=\"crecmed\", ax=ax)\n",
        "ax.set_ylabel(\"Tasa de variación media del PIB en 2020 y 2021  (%)\",size=11)\n",
        "ax.set_xlabel(\"Muertes por millón de hab. en 2020 y 2021\",size=11)\n",
        "ax.set_title(\"Relación entre crecimiento del PIB y\\n tasa de muertes por COVID-19 en 2020-2021\",\n",
        "             size=13,pad=15)\n",
        "ax.text(3000,8,\"Coeficiente de\\n corr.= \"+str(round(cc,2)), ha=\"left\",fontsize=11 ) \n",
        "fig.text(0.1,0.0,\"Elaboración propia. Fuente: OWID y OCDE.\", ha=\"left\",fontsize=10 ) \n",
        "plt.show()"
      ],
      "execution_count": null,
      "outputs": []
    },
    {
      "cell_type": "code",
      "metadata": {
        "id": "uBGQ7LEOMn-w"
      },
      "source": [
        "# Gráficos de dispersión para ambos años (2020):\n",
        "fig,(ax1,ax2)=plt.subplots(2,1,figsize=(7,9),dpi=100)\n",
        "cc1=df[['2020','muertes2020']].corr().iloc[1,0] \n",
        "cc2=df[['2021','muertes2021']].corr().iloc[1,0] \n",
        "\n",
        "#ax1\n",
        "df.plot.scatter(x=\"muertes2020\", y=\"2020\", ax=ax1)\n",
        "ax1.set_ylabel(\"Tasa de variación media del PIB en 2020 (%)\",size=11)\n",
        "ax1.set_xlabel(\"Muertes por millón de hab. en 2020\",size=11)\n",
        "ax1.set_title(\"Relación entre crecimiento del PIB y tasa de muertes por COVID-19\\n\\nAño 2020\",size=13,pad=15)\n",
        "ax1.text(1400,5,\"Coeficiente de\\n corr.= \"+str(round(cc1,2)), ha=\"left\",fontsize=11 ) \n",
        "#ax1\n",
        "df.plot.scatter(x=\"muertes2021\", y=\"2021\", ax=ax2)\n",
        "ax2.set_ylabel(\"Tasa de variación media del PIB en 2021 (%)\",size=11)\n",
        "ax2.set_xlabel(\"Muertes por millón de hab. en 2021\",size=11)\n",
        "ax2.set_title(\"Año 2021\",size=13,pad=15)\n",
        "ax2.text(2500,12,\"Coeficiente de\\n corr.= \"+str(round(cc2,2)), ha=\"left\",fontsize=11 ) \n",
        "plt.subplots_adjust(hspace=0.35)\n",
        "fig.text(0.1,0.04,\"Elaboración propia. Fuente: OWID y OCDE.\", ha=\"left\",fontsize=10 ) \n",
        "plt.show()"
      ],
      "execution_count": null,
      "outputs": []
    }
  ]
}