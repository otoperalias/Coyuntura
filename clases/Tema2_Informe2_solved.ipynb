{
  "nbformat": 4,
  "nbformat_minor": 0,
  "metadata": {
    "colab": {
      "name": "Untitled1.ipynb",
      "provenance": [],
      "authorship_tag": "ABX9TyN1A1ztXJG00hc/u7ojK6Jo",
      "include_colab_link": true
    },
    "kernelspec": {
      "name": "python3",
      "display_name": "Python 3"
    },
    "language_info": {
      "name": "python"
    }
  },
  "cells": [
    {
      "cell_type": "markdown",
      "metadata": {
        "id": "view-in-github",
        "colab_type": "text"
      },
      "source": [
        "<a href=\"https://colab.research.google.com/github/otoperalias/Coyuntura/blob/main/clases/Tema2_Informe2_solved.ipynb\" target=\"_parent\"><img src=\"https://colab.research.google.com/assets/colab-badge.svg\" alt=\"Open In Colab\"/></a>"
      ]
    },
    {
      "cell_type": "markdown",
      "metadata": {
        "id": "I4AcZ7nQtCZ5"
      },
      "source": [
        "## Análisis de la relación entre variación del PIB y muertes por COVID19 en los países de la OCDE\n",
        "\n",
        "Fecha del informe: 17/10/2021.\n",
        "\n",
        "Autor: Daniel Oto Peralías."
      ]
    },
    {
      "cell_type": "code",
      "metadata": {
        "id": "MnsxJcOZsjML"
      },
      "source": [
        "# Importar librerías \n",
        "import pandas as pd\n",
        "pd.set_option('display.max_row', 40)\n",
        "pd.set_option('display.max_columns', 10)\n",
        "import matplotlib.pyplot as plt"
      ],
      "execution_count": 1,
      "outputs": []
    },
    {
      "cell_type": "code",
      "metadata": {
        "id": "tFFink_suMe1"
      },
      "source": [
        "# Subir datos del PIB\n",
        "from google.colab import files\n",
        "files.upload()"
      ],
      "execution_count": null,
      "outputs": []
    },
    {
      "cell_type": "code",
      "metadata": {
        "id": "Dx6HKe1duDQH"
      },
      "source": [
        "# Leer datos de la variación del PIB\n",
        "pib=pd.read_excel('Datos_OECD.xlsx','datos')\n",
        "pib=pib[[\"Country\",\"2020\"]]"
      ],
      "execution_count": 3,
      "outputs": []
    },
    {
      "cell_type": "code",
      "metadata": {
        "id": "kGatBXckvDmq"
      },
      "source": [
        "pib.set_index(\"Country\",inplace=True)"
      ],
      "execution_count": 4,
      "outputs": []
    },
    {
      "cell_type": "code",
      "metadata": {
        "colab": {
          "base_uri": "https://localhost:8080/",
          "height": 367
        },
        "id": "vxZt5chjvFj8",
        "outputId": "e405f0ef-156b-4ae3-d068-afc6572d6cfb"
      },
      "source": [
        "# Crear gráfico de barras\n",
        "pib.sort_values('2020', inplace=True) # Idem\n",
        "pib.plot.bar()"
      ],
      "execution_count": 5,
      "outputs": [
        {
          "output_type": "execute_result",
          "data": {
            "text/plain": [
              "<matplotlib.axes._subplots.AxesSubplot at 0x7f695de118d0>"
            ]
          },
          "metadata": {},
          "execution_count": 5
        },
        {
          "output_type": "display_data",
          "data": {
            "image/png": "[encoded data removed]",
            "text/plain": [
              "<Figure size 432x288 with 1 Axes>"
            ]
          },
          "metadata": {
            "needs_background": "light"
          }
        }
      ]
    },
    {
      "cell_type": "code",
      "metadata": {
        "id": "EaFGDlvXvGud"
      },
      "source": [
        "# Crear lista de países de la OCDE para luego seleccionarlos en OWID\n",
        "paises=pib.index.to_list()"
      ],
      "execution_count": 6,
      "outputs": []
    },
    {
      "cell_type": "code",
      "metadata": {
        "id": "6FjCxc9Zx1eL"
      },
      "source": [
        "# Opción 1: Importar datos de OWID de COVID19 (LEYÉNDOLOS DIRECTAMENTE)\n",
        "datapath=\"https://raw.githubusercontent.com/otoperalias/Coyuntura/main/clases/datos/owid_covid.xlsx\"\n",
        "covid=pd.read_excel(datapath,index_col=0,parse_dates=True)"
      ],
      "execution_count": 7,
      "outputs": []
    },
    {
      "cell_type": "code",
      "metadata": {
        "id": "OZ_kMfTR0FfU"
      },
      "source": [
        "# Opción 2: 2.1 Subir datos\n",
        "files.upload()"
      ],
      "execution_count": null,
      "outputs": []
    },
    {
      "cell_type": "code",
      "metadata": {
        "id": "JiSE28wMzLUv"
      },
      "source": [
        "# Opción 2: 2.2 Leer datos\n",
        "covid=pd.read_excel(\"/content/owid_covid.xlsx\",index_col=0,parse_dates=True)"
      ],
      "execution_count": null,
      "outputs": []
    },
    {
      "cell_type": "code",
      "metadata": {
        "id": "-pSfG0MI0oh4"
      },
      "source": [
        "# Seleccionamos periodo relevante: 31/12/2020\n",
        "cov=covid.loc[\"2020-12-31\",:].copy() # Usamos función copy para crear un objeto independiente"
      ],
      "execution_count": 8,
      "outputs": []
    },
    {
      "cell_type": "code",
      "metadata": {
        "id": "w172xBuT0pKt"
      },
      "source": [
        "# Seleccionamos los países\n",
        "cov['ocde']=0\n",
        "for x in paises:\n",
        "  cov.loc[cov['location']==x,'ocde']=1"
      ],
      "execution_count": 9,
      "outputs": []
    },
    {
      "cell_type": "code",
      "metadata": {
        "colab": {
          "base_uri": "https://localhost:8080/"
        },
        "id": "vKqV9OCj5CMF",
        "outputId": "741f1032-b950-40ca-b9ba-274f77ea15fb"
      },
      "source": [
        "# Para ver si tengo los 38 países (compruebo que no)\n",
        "len(cov.loc[cov['ocde']==1])"
      ],
      "execution_count": 10,
      "outputs": [
        {
          "output_type": "execute_result",
          "data": {
            "text/plain": [
              "35"
            ]
          },
          "metadata": {},
          "execution_count": 10
        }
      ]
    },
    {
      "cell_type": "code",
      "metadata": {
        "colab": {
          "base_uri": "https://localhost:8080/"
        },
        "id": "9mAt1UyP5IF2",
        "outputId": "84363878-e099-4806-f97d-a3432d3e0cbb"
      },
      "source": [
        "# Para ver los países que faltan\n",
        "paises_identif=cov.loc[cov['ocde']==1,'location'].unique()\n",
        "for x in paises:\n",
        "    if x not in paises_identif:\n",
        "        print(x)"
      ],
      "execution_count": 11,
      "outputs": [
        {
          "output_type": "stream",
          "name": "stdout",
          "text": [
            "Czech Republic\n",
            "Slovak Republic\n",
            "Korea\n"
          ]
        }
      ]
    },
    {
      "cell_type": "code",
      "metadata": {
        "id": "ZMz6444b5MhS"
      },
      "source": [
        "# Cambiar nombre en tabla cov\n",
        "cov.loc[cov['location']==\"South Korea\",\"location\"]='Korea'\n",
        "cov.loc[cov['location']=='Czechia',\"location\"]='Czech Republic'\n",
        "cov.loc[cov['location']=='Slovakia',\"location\"]='Slovak Republic'"
      ],
      "execution_count": 12,
      "outputs": []
    },
    {
      "cell_type": "code",
      "metadata": {
        "colab": {
          "base_uri": "https://localhost:8080/"
        },
        "id": "oE6vuZIl-Pj7",
        "outputId": "e81db36f-d1c6-4c57-eba0-ad73ca3167c2"
      },
      "source": [
        "# Volver a seleccionar los países de la OCDE\n",
        "cov['ocde']=0\n",
        "for x in paises:\n",
        "  cov.loc[cov['location']==x,'ocde']=1\n",
        "len(cov.loc[cov['ocde']==1]) # Bien! Ahora están los 38"
      ],
      "execution_count": 13,
      "outputs": [
        {
          "output_type": "execute_result",
          "data": {
            "text/plain": [
              "38"
            ]
          },
          "metadata": {},
          "execution_count": 13
        }
      ]
    },
    {
      "cell_type": "code",
      "metadata": {
        "id": "V-zn6dCyAIZ5"
      },
      "source": [
        "# Ahora seleccionamos la muestra de países de la OCDE\n",
        "cov=cov.loc[cov['ocde']==1]"
      ],
      "execution_count": 14,
      "outputs": []
    },
    {
      "cell_type": "code",
      "metadata": {
        "id": "za69zxFfAguJ"
      },
      "source": [
        "cov.set_index(\"location\", inplace=True)"
      ],
      "execution_count": 16,
      "outputs": []
    },
    {
      "cell_type": "code",
      "metadata": {
        "id": "jcTStjpeCpuP",
        "colab": {
          "base_uri": "https://localhost:8080/",
          "height": 367
        },
        "outputId": "4ae36d22-4135-4b46-fd24-f0bdd7c02a4b"
      },
      "source": [
        "# Gráfico exploratorio de barras\n",
        "cov.sort_values(\"total_deaths_per_million\").total_deaths_per_million.plot.bar()"
      ],
      "execution_count": 17,
      "outputs": [
        {
          "output_type": "execute_result",
          "data": {
            "text/plain": [
              "<matplotlib.axes._subplots.AxesSubplot at 0x7f695999efd0>"
            ]
          },
          "metadata": {},
          "execution_count": 17
        },
        {
          "output_type": "display_data",
          "data": {
            "image/png": "[encoded data removed]",
            "text/plain": [
              "<Figure size 432x288 with 1 Axes>"
            ]
          },
          "metadata": {
            "needs_background": "light"
          }
        }
      ]
    },
    {
      "cell_type": "code",
      "metadata": {
        "id": "OD0ZR49YCPQ1"
      },
      "source": [
        "pib.reset_index(inplace=True)\n",
        "cov.reset_index(inplace=True)\n",
        "cov.rename(columns={\"location\":\"Country\"},inplace=True)"
      ],
      "execution_count": 18,
      "outputs": []
    },
    {
      "cell_type": "code",
      "metadata": {
        "id": "Q_OPp5BTDt5W"
      },
      "source": [
        "union=pib.merge(cov,on=\"Country\")"
      ],
      "execution_count": 19,
      "outputs": []
    },
    {
      "cell_type": "code",
      "metadata": {
        "id": "ZHZzCcgQEx-Y",
        "outputId": "0532b7b1-a1a2-476c-a447-3757684e45f5",
        "colab": {
          "base_uri": "https://localhost:8080/",
          "height": 1000
        }
      },
      "source": [
        "#Seleccionamos columnas relevantes\n",
        "union=union[[\"Country\",\"2020\",\"continent\",\"total_deaths_per_million\"]]\n",
        "union"
      ],
      "execution_count": 20,
      "outputs": [
        {
          "output_type": "execute_result",
          "data": {
            "text/html": [
              "<div>\n",
              "<style scoped>\n",
              "    .dataframe tbody tr th:only-of-type {\n",
              "        vertical-align: middle;\n",
              "    }\n",
              "\n",
              "    .dataframe tbody tr th {\n",
              "        vertical-align: top;\n",
              "    }\n",
              "\n",
              "    .dataframe thead th {\n",
              "        text-align: right;\n",
              "    }\n",
              "</style>\n",
              "<table border=\"1\" class=\"dataframe\">\n",
              "  <thead>\n",
              "    <tr style=\"text-align: right;\">\n",
              "      <th></th>\n",
              "      <th>Country</th>\n",
              "      <th>2020</th>\n",
              "      <th>continent</th>\n",
              "      <th>total_deaths_per_million</th>\n",
              "    </tr>\n",
              "  </thead>\n",
              "  <tbody>\n",
              "    <tr>\n",
              "      <th>0</th>\n",
              "      <td>Spain</td>\n",
              "      <td>-10.822886</td>\n",
              "      <td>Europe</td>\n",
              "      <td>1087.534</td>\n",
              "    </tr>\n",
              "    <tr>\n",
              "      <th>1</th>\n",
              "      <td>United Kingdom</td>\n",
              "      <td>-9.693817</td>\n",
              "      <td>Europe</td>\n",
              "      <td>1079.389</td>\n",
              "    </tr>\n",
              "    <tr>\n",
              "      <th>2</th>\n",
              "      <td>Greece</td>\n",
              "      <td>-9.019133</td>\n",
              "      <td>Europe</td>\n",
              "      <td>466.504</td>\n",
              "    </tr>\n",
              "    <tr>\n",
              "      <th>3</th>\n",
              "      <td>Italy</td>\n",
              "      <td>-8.938593</td>\n",
              "      <td>Europe</td>\n",
              "      <td>1228.460</td>\n",
              "    </tr>\n",
              "    <tr>\n",
              "      <th>4</th>\n",
              "      <td>Portugal</td>\n",
              "      <td>-8.442457</td>\n",
              "      <td>Europe</td>\n",
              "      <td>679.195</td>\n",
              "    </tr>\n",
              "    <tr>\n",
              "      <th>5</th>\n",
              "      <td>Mexico</td>\n",
              "      <td>-8.239473</td>\n",
              "      <td>North America</td>\n",
              "      <td>965.798</td>\n",
              "    </tr>\n",
              "    <tr>\n",
              "      <th>6</th>\n",
              "      <td>France</td>\n",
              "      <td>-7.855256</td>\n",
              "      <td>Europe</td>\n",
              "      <td>958.465</td>\n",
              "    </tr>\n",
              "    <tr>\n",
              "      <th>7</th>\n",
              "      <td>Colombia</td>\n",
              "      <td>-6.847315</td>\n",
              "      <td>South America</td>\n",
              "      <td>842.920</td>\n",
              "    </tr>\n",
              "    <tr>\n",
              "      <th>8</th>\n",
              "      <td>Austria</td>\n",
              "      <td>-6.734514</td>\n",
              "      <td>Europe</td>\n",
              "      <td>688.041</td>\n",
              "    </tr>\n",
              "    <tr>\n",
              "      <th>9</th>\n",
              "      <td>Iceland</td>\n",
              "      <td>-6.503912</td>\n",
              "      <td>Europe</td>\n",
              "      <td>84.459</td>\n",
              "    </tr>\n",
              "    <tr>\n",
              "      <th>10</th>\n",
              "      <td>Czech Republic</td>\n",
              "      <td>-5.793571</td>\n",
              "      <td>Europe</td>\n",
              "      <td>1079.765</td>\n",
              "    </tr>\n",
              "    <tr>\n",
              "      <th>11</th>\n",
              "      <td>Chile</td>\n",
              "      <td>-5.771502</td>\n",
              "      <td>South America</td>\n",
              "      <td>864.443</td>\n",
              "    </tr>\n",
              "    <tr>\n",
              "      <th>12</th>\n",
              "      <td>Belgium</td>\n",
              "      <td>-5.659660</td>\n",
              "      <td>Europe</td>\n",
              "      <td>1678.769</td>\n",
              "    </tr>\n",
              "    <tr>\n",
              "      <th>13</th>\n",
              "      <td>Canada</td>\n",
              "      <td>-5.312945</td>\n",
              "      <td>North America</td>\n",
              "      <td>414.049</td>\n",
              "    </tr>\n",
              "    <tr>\n",
              "      <th>14</th>\n",
              "      <td>Japan</td>\n",
              "      <td>-4.830309</td>\n",
              "      <td>Asia</td>\n",
              "      <td>26.116</td>\n",
              "    </tr>\n",
              "    <tr>\n",
              "      <th>15</th>\n",
              "      <td>Hungary</td>\n",
              "      <td>-4.675687</td>\n",
              "      <td>Europe</td>\n",
              "      <td>989.915</td>\n",
              "    </tr>\n",
              "    <tr>\n",
              "      <th>16</th>\n",
              "      <td>Germany</td>\n",
              "      <td>-4.569617</td>\n",
              "      <td>Europe</td>\n",
              "      <td>402.751</td>\n",
              "    </tr>\n",
              "    <tr>\n",
              "      <th>17</th>\n",
              "      <td>Costa Rica</td>\n",
              "      <td>-4.539967</td>\n",
              "      <td>North America</td>\n",
              "      <td>425.176</td>\n",
              "    </tr>\n",
              "    <tr>\n",
              "      <th>18</th>\n",
              "      <td>Slovak Republic</td>\n",
              "      <td>-4.358754</td>\n",
              "      <td>Europe</td>\n",
              "      <td>391.523</td>\n",
              "    </tr>\n",
              "    <tr>\n",
              "      <th>19</th>\n",
              "      <td>Slovenia</td>\n",
              "      <td>-4.229261</td>\n",
              "      <td>Europe</td>\n",
              "      <td>1297.431</td>\n",
              "    </tr>\n",
              "    <tr>\n",
              "      <th>20</th>\n",
              "      <td>Netherlands</td>\n",
              "      <td>-3.798636</td>\n",
              "      <td>Europe</td>\n",
              "      <td>671.108</td>\n",
              "    </tr>\n",
              "    <tr>\n",
              "      <th>21</th>\n",
              "      <td>Latvia</td>\n",
              "      <td>-3.623729</td>\n",
              "      <td>Europe</td>\n",
              "      <td>340.130</td>\n",
              "    </tr>\n",
              "    <tr>\n",
              "      <th>22</th>\n",
              "      <td>United States</td>\n",
              "      <td>-3.404593</td>\n",
              "      <td>North America</td>\n",
              "      <td>1056.588</td>\n",
              "    </tr>\n",
              "    <tr>\n",
              "      <th>23</th>\n",
              "      <td>Estonia</td>\n",
              "      <td>-2.951070</td>\n",
              "      <td>Europe</td>\n",
              "      <td>172.806</td>\n",
              "    </tr>\n",
              "    <tr>\n",
              "      <th>24</th>\n",
              "      <td>Finland</td>\n",
              "      <td>-2.870691</td>\n",
              "      <td>Europe</td>\n",
              "      <td>101.111</td>\n",
              "    </tr>\n",
              "    <tr>\n",
              "      <th>25</th>\n",
              "      <td>Sweden</td>\n",
              "      <td>-2.795335</td>\n",
              "      <td>Europe</td>\n",
              "      <td>858.943</td>\n",
              "    </tr>\n",
              "    <tr>\n",
              "      <th>26</th>\n",
              "      <td>Poland</td>\n",
              "      <td>-2.540659</td>\n",
              "      <td>Europe</td>\n",
              "      <td>755.457</td>\n",
              "    </tr>\n",
              "    <tr>\n",
              "      <th>27</th>\n",
              "      <td>Australia</td>\n",
              "      <td>-2.505190</td>\n",
              "      <td>Oceania</td>\n",
              "      <td>35.249</td>\n",
              "    </tr>\n",
              "    <tr>\n",
              "      <th>28</th>\n",
              "      <td>Switzerland</td>\n",
              "      <td>-2.392826</td>\n",
              "      <td>Europe</td>\n",
              "      <td>903.334</td>\n",
              "    </tr>\n",
              "    <tr>\n",
              "      <th>29</th>\n",
              "      <td>Israel</td>\n",
              "      <td>-2.153290</td>\n",
              "      <td>Asia</td>\n",
              "      <td>378.280</td>\n",
              "    </tr>\n",
              "    <tr>\n",
              "      <th>30</th>\n",
              "      <td>Denmark</td>\n",
              "      <td>-2.062125</td>\n",
              "      <td>Europe</td>\n",
              "      <td>223.281</td>\n",
              "    </tr>\n",
              "    <tr>\n",
              "      <th>31</th>\n",
              "      <td>Luxembourg</td>\n",
              "      <td>-1.776240</td>\n",
              "      <td>Europe</td>\n",
              "      <td>779.756</td>\n",
              "    </tr>\n",
              "    <tr>\n",
              "      <th>32</th>\n",
              "      <td>New Zealand</td>\n",
              "      <td>-1.143290</td>\n",
              "      <td>Oceania</td>\n",
              "      <td>5.143</td>\n",
              "    </tr>\n",
              "    <tr>\n",
              "      <th>33</th>\n",
              "      <td>Korea</td>\n",
              "      <td>-0.852031</td>\n",
              "      <td>Asia</td>\n",
              "      <td>17.873</td>\n",
              "    </tr>\n",
              "    <tr>\n",
              "      <th>34</th>\n",
              "      <td>Norway</td>\n",
              "      <td>-0.765860</td>\n",
              "      <td>Europe</td>\n",
              "      <td>79.771</td>\n",
              "    </tr>\n",
              "    <tr>\n",
              "      <th>35</th>\n",
              "      <td>Lithuania</td>\n",
              "      <td>-0.132432</td>\n",
              "      <td>Europe</td>\n",
              "      <td>667.692</td>\n",
              "    </tr>\n",
              "    <tr>\n",
              "      <th>36</th>\n",
              "      <td>Turkey</td>\n",
              "      <td>1.793551</td>\n",
              "      <td>Asia</td>\n",
              "      <td>245.535</td>\n",
              "    </tr>\n",
              "    <tr>\n",
              "      <th>37</th>\n",
              "      <td>Ireland</td>\n",
              "      <td>5.866975</td>\n",
              "      <td>Europe</td>\n",
              "      <td>448.935</td>\n",
              "    </tr>\n",
              "  </tbody>\n",
              "</table>\n",
              "</div>"
            ],
            "text/plain": [
              "            Country       2020      continent  total_deaths_per_million\n",
              "0             Spain -10.822886         Europe                  1087.534\n",
              "1    United Kingdom  -9.693817         Europe                  1079.389\n",
              "2            Greece  -9.019133         Europe                   466.504\n",
              "3             Italy  -8.938593         Europe                  1228.460\n",
              "4          Portugal  -8.442457         Europe                   679.195\n",
              "5            Mexico  -8.239473  North America                   965.798\n",
              "6            France  -7.855256         Europe                   958.465\n",
              "7          Colombia  -6.847315  South America                   842.920\n",
              "8           Austria  -6.734514         Europe                   688.041\n",
              "9           Iceland  -6.503912         Europe                    84.459\n",
              "10   Czech Republic  -5.793571         Europe                  1079.765\n",
              "11            Chile  -5.771502  South America                   864.443\n",
              "12          Belgium  -5.659660         Europe                  1678.769\n",
              "13           Canada  -5.312945  North America                   414.049\n",
              "14            Japan  -4.830309           Asia                    26.116\n",
              "15          Hungary  -4.675687         Europe                   989.915\n",
              "16          Germany  -4.569617         Europe                   402.751\n",
              "17       Costa Rica  -4.539967  North America                   425.176\n",
              "18  Slovak Republic  -4.358754         Europe                   391.523\n",
              "19         Slovenia  -4.229261         Europe                  1297.431\n",
              "20      Netherlands  -3.798636         Europe                   671.108\n",
              "21           Latvia  -3.623729         Europe                   340.130\n",
              "22    United States  -3.404593  North America                  1056.588\n",
              "23          Estonia  -2.951070         Europe                   172.806\n",
              "24          Finland  -2.870691         Europe                   101.111\n",
              "25           Sweden  -2.795335         Europe                   858.943\n",
              "26           Poland  -2.540659         Europe                   755.457\n",
              "27        Australia  -2.505190        Oceania                    35.249\n",
              "28      Switzerland  -2.392826         Europe                   903.334\n",
              "29           Israel  -2.153290           Asia                   378.280\n",
              "30          Denmark  -2.062125         Europe                   223.281\n",
              "31       Luxembourg  -1.776240         Europe                   779.756\n",
              "32      New Zealand  -1.143290        Oceania                     5.143\n",
              "33            Korea  -0.852031           Asia                    17.873\n",
              "34           Norway  -0.765860         Europe                    79.771\n",
              "35        Lithuania  -0.132432         Europe                   667.692\n",
              "36           Turkey   1.793551           Asia                   245.535\n",
              "37          Ireland   5.866975         Europe                   448.935"
            ]
          },
          "metadata": {},
          "execution_count": 20
        }
      ]
    },
    {
      "cell_type": "markdown",
      "metadata": {
        "id": "RxvD7_PHPaob"
      },
      "source": [
        "### Correlación entre crecimiento del PIB y tasa de muertes por COVID-19 en 2020"
      ]
    },
    {
      "cell_type": "code",
      "metadata": {
        "id": "kIR8AxSbFMQt"
      },
      "source": [
        "cc=union.corr().iloc[1,0] # Esto es para seleccionar una celda específica con el coef. corr."
      ],
      "execution_count": 21,
      "outputs": []
    },
    {
      "cell_type": "code",
      "metadata": {
        "colab": {
          "base_uri": "https://localhost:8080/",
          "height": 501
        },
        "id": "fBAE6C1Mxlid",
        "outputId": "6ddeb12a-b41e-4b18-9e28-0cbca370c190"
      },
      "source": [
        "# Gráfico de calidad:\n",
        "plt.style.use('seaborn')\n",
        "fig, ax=plt.subplots(figsize=(7,6),dpi=80)\n",
        "union.plot.scatter(x=\"total_deaths_per_million\", y=\"2020\", ax=ax)\n",
        "ax.set_ylabel(\"Tasa variación del PIB en 2020  (%)\",size=10)\n",
        "ax.set_xlabel(\"Muertes por millón de hab. en 2020\",size=10)\n",
        "ax.set_title(\"Relación entre crecimiento del PIB y\\n tasa de muertes por COVID-19 en 2020\",\n",
        "             size=13,pad=15)\n",
        "ax.text(1200,3.2,\"Coeficiente de\\n corr.= \"+str(round(cc,2)), ha=\"left\",fontsize=10 ) \n",
        "fig.text(0.1,0.0,\"Elaboración propia. Fuente: OWID y OCDE.\", ha=\"left\",fontsize=10 ) \n",
        "plt.show()"
      ],
      "execution_count": 23,
      "outputs": [
        {
          "output_type": "display_data",
          "data": {
            "image/png": "[encoded data removed]",
            "text/plain": [
              "<Figure size 560x480 with 1 Axes>"
            ]
          },
          "metadata": {}
        }
      ]
    },
    {
      "cell_type": "code",
      "metadata": {
        "id": "SY5cYjImyI7h"
      },
      "source": [
        "europa=union[union.continent==\"Europe\"].copy()"
      ],
      "execution_count": 24,
      "outputs": []
    },
    {
      "cell_type": "code",
      "metadata": {
        "id": "uszTgjT27DcR"
      },
      "source": [
        "cc_e=europa.corr().iloc[1,0]"
      ],
      "execution_count": 25,
      "outputs": []
    },
    {
      "cell_type": "code",
      "metadata": {
        "colab": {
          "base_uri": "https://localhost:8080/",
          "height": 501
        },
        "id": "uBGQ7LEOMn-w",
        "outputId": "a057a306-06f5-40f6-c57d-0f7d3bd79562"
      },
      "source": [
        "# Gráfico de calidad:\n",
        "plt.style.use('seaborn')\n",
        "fig, ax=plt.subplots(figsize=(7,6),dpi=80)\n",
        "europa.plot.scatter(x=\"total_deaths_per_million\", y=\"2020\", ax=ax)\n",
        "ax.set_ylabel(\"Tasa variación del PIB en 2020  (%)\",size=10)\n",
        "ax.set_xlabel(\"Muertes por millón de hab. en 2020\",size=10)\n",
        "ax.set_title(\"Relación entre crecimiento del PIB y\\n tasa de muertes por COVID-19 en 2020\",\n",
        "             size=13,pad=15)\n",
        "ax.text(1200,3.2,\"Coeficiente de\\n corr.= \"+str(round(cc_e,2)), ha=\"left\",fontsize=10 ) \n",
        "fig.text(0.1,0.0,\"Muestra: Países europeos de la OCDE.\\nElaboración propia. Fuente: OWID y OCDE.\", ha=\"left\",fontsize=9 ) \n",
        "plt.show()"
      ],
      "execution_count": 27,
      "outputs": [
        {
          "output_type": "display_data",
          "data": {
            "image/png": "[encoded data removed]",
            "text/plain": [
              "<Figure size 560x480 with 1 Axes>"
            ]
          },
          "metadata": {}
        }
      ]
    }
  ]
}
