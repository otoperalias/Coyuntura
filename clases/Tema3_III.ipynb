{
 "cells": [
  {
   "cell_type": "markdown",
   "metadata": {},
   "source": [
    "## Tema 3.3. Desestacionalización (II)"
   ]
  },
  {
   "cell_type": "markdown",
   "metadata": {},
   "source": [
    "Leer las diapositivas disponibles en el Aula Virtual antes de ejecutar este código. En particular, debéis instalar en vuestro ordenador el programa X-13ARIMA-SEATS.",
    "Este notebook debe no debe ejecutarse en Google Colab, sino desde Jupyter instalado a través de ANACONDA en vuestro ordenador."
   ]
  },
  {
   "cell_type": "markdown",
   "metadata": {},
   "source": [
    "#### DESESTACIONALIZAR LA SERIE DE EMPLEO DE LA EPA"
   ]
  },
  {
   "cell_type": "markdown",
   "metadata": {},
   "source": [
    "#### 1. Comandos iniciales"
   ]
  },
  {
   "cell_type": "code",
   "execution_count": null,
   "metadata": {},
   "outputs": [],
   "source": [
    "# Importamos librerías relevantes\n",
    "import os\n",
    "import pandas as pd\n",
    "from statsmodels.tsa.x13 import x13_arima_analysis\n",
    "from statsmodels.tsa.seasonal import seasonal_decompose, STL\n",
    "import matplotlib.pyplot as plt\n",
    "plt.style.use('seaborn')"
   ]
  },
  {
   "cell_type": "code",
   "execution_count": null,
   "metadata": {},
   "outputs": [],
   "source": [
    "# Leemos los datos y creamos DataFrame\n",
    "file=\"https://github.com/otoperalias/Coyuntura/raw/main/clases/datos/ocupados_epa.xlsx\"\n",
    "df = pd.read_excel(file,\"ocup\",index_col=0, parse_dates=True)"
   ]
  },
  {
   "cell_type": "code",
   "execution_count": null,
   "metadata": {},
   "outputs": [],
   "source": [
    "# Echamos un vistazo a la tabla:\n",
    "df"
   ]
  },
  {
   "cell_type": "code",
   "execution_count": null,
   "metadata": {},
   "outputs": [],
   "source": [
    "#Calculamos la tasa de variación sin estacionalizar y comparamos\n",
    "df[\"tv\"]=(df.ocup/df.ocup.shift()-1)*100\n",
    "# Gráfico\n",
    "fig,ax=plt.subplots()\n",
    "ax.plot(df.tv,color=\"b\", label=\"TV\")\n",
    "ax.plot(df.tv_desest,color=\"r\", label=\"TV desest\")\n",
    "ax.legend()\n",
    "plt.show()"
   ]
  },
  {
   "cell_type": "markdown",
   "metadata": {},
   "source": [
    "#### 2. Ahora vamos a probar diferentes métodos para ver cual de ellos da una serie desestacionalizada más parecida"
   ]
  },
  {
   "cell_type": "code",
   "execution_count": null,
   "metadata": {},
   "outputs": [],
   "source": [
    "# Primero representamos la serie de ocupados\n",
    "df.ocup.plot()"
   ]
  },
  {
   "cell_type": "code",
   "execution_count": null,
   "metadata": {},
   "outputs": [],
   "source": [
    "#1 Descomposición clásica\n",
    "modelo1 = seasonal_decompose(df.ocup, model=\"additive\")\n",
    "deses1=df.ocup-modelo1.seasonal # ¿Cuál es la diferencia con df.trend???? ==> El resid !\n",
    "# Gráfico: le echamos un vistazo a la serie desestacionalizada vs la original\n",
    "fig,ax=plt.subplots()\n",
    "ax.plot(deses1) \n",
    "ax.plot(df.ocup)\n",
    "plt.show()"
   ]
  },
  {
   "cell_type": "code",
   "execution_count": null,
   "metadata": {},
   "outputs": [],
   "source": [
    "#2 Descomposición STL\n",
    "modelo2 = STL(df.ocup,seasonal=5).fit()\n",
    "deses2=df.ocup-modelo2.seasonal\n",
    "# Gráfico: le echamos un vistazo a la serie desestacionalizada vs la original\n",
    "fig,ax=plt.subplots()\n",
    "ax.plot(deses2)\n",
    "ax.plot(df.ocup)\n",
    "plt.show()"
   ]
  },
  {
   "cell_type": "code",
   "execution_count": null,
   "metadata": {},
   "outputs": [],
   "source": [
    "#3 Descomposición X13ARIMA-SEATS\n",
    "XPATH=os.chdir(\"C:/WinX13/x13as\")\n",
    "modelo3 = x13_arima_analysis(endog = df.ocup,x12path=XPATH,trading=True)\n",
    "deses3=modelo3.seasadj\n",
    "# Leyendo el output. Es muy largo y se debe escribir en un archivo aparte (https://www.pythonforbeginners.com/files/reading-and-writing-files-in-python)\n",
    "x13output=open(\"C:/Users/danie/OneDrive - Universidad Pablo de Olavide de Sevilla/ECO/TEACHING/2022-2023/CyP/T3/x13output.txt\",\"w\")\n",
    "x13output.write(modelo3.results)\n",
    "x13output.close()\n",
    "# Gráfico: le echamos un vistazo a la serie desestacionalizada vs la original\n",
    "fig,ax=plt.subplots()\n",
    "ax.plot(deses3)\n",
    "ax.plot(df.ocup)\n",
    "plt.show()"
   ]
  },
  {
   "cell_type": "code",
   "execution_count": null,
   "metadata": {},
   "outputs": [],
   "source": [
    "# Calculamos las tasas de variación de las series desestacionalizadas\n",
    "tv1=(deses1/deses1.shift()-1)*100 # Desc clásica\n",
    "tv2=(deses2/deses2.shift()-1)*100 # Desc STL\n",
    "tv3=(deses3/deses3.shift()-1)*100 # Desc x13arima-seats"
   ]
  },
  {
   "cell_type": "code",
   "execution_count": null,
   "metadata": {},
   "outputs": [],
   "source": [
    "# Dibujamos todas las series en un mismo gráfico para comparar\n",
    "fig, ax=plt.subplots(figsize=(8,5), dpi=110)\n",
    "ax.plot(tv1,label=\"tv des. clasica\",c=\"g\")\n",
    "ax.plot(tv2,label=\"tv des. STL\",c=\"y\")\n",
    "ax.plot(tv3,label=\"tv des. X13ARIMA-SEATS\",c=\"b\")\n",
    "ax.plot(df.tv_desest,label=\"tv desest ine\",c=\"k\")\n",
    "plt.legend()\n",
    "plt.show()"
   ]
  },
  {
   "cell_type": "code",
   "execution_count": null,
   "metadata": {},
   "outputs": [],
   "source": [
    "# Calculamos mape & corr para ver qué método se ajusta más:\n",
    "import numpy as np\n",
    "def forecast_accuracy(forecast, actual):\n",
    "    mape = np.mean(np.abs(forecast - actual)/np.abs(actual))  # MAPE\n",
    "    corr = np.corrcoef(forecast.dropna(), actual.dropna())[0,1]   # corr\n",
    "    print({'mape':mape,'corr':corr})\n",
    "    \n",
    "print(\"Desc clásica:\")\n",
    "forecast_accuracy(tv1, df.tv_desest)\n",
    "print(\"Desc STL:\")\n",
    "forecast_accuracy(tv2, df.tv_desest)\n",
    "print(\"Desc X13-ARIMASEATS:\")\n",
    "forecast_accuracy(tv3, df.tv_desest)"
   ]
  }
 ],
 "metadata": {
  "kernelspec": {
   "display_name": "Python 3 (ipykernel)",
   "language": "python",
   "name": "python3"
  },
  "language_info": {
   "codemirror_mode": {
    "name": "ipython",
    "version": 3
   },
   "file_extension": ".py",
   "mimetype": "text/x-python",
   "name": "python",
   "nbconvert_exporter": "python",
   "pygments_lexer": "ipython3",
   "version": "3.8.13"
  }
 },
 "nbformat": 4,
 "nbformat_minor": 4
}
