{
  "nbformat": 4,
  "nbformat_minor": 0,
  "metadata": {
    "colab": {
      "name": "Untitled0.ipynb",
      "provenance": [],
      "include_colab_link": true
    },
    "kernelspec": {
      "name": "python3",
      "display_name": "Python 3"
    },
    "language_info": {
      "name": "python"
    }
  },
  "cells": [
    {
      "cell_type": "markdown",
      "metadata": {
        "id": "view-in-github",
        "colab_type": "text"
      },
      "source": [
        "<a href=\"https://colab.research.google.com/github/otoperalias/Coyuntura/blob/main/clases/Tema2_I.ipynb\" target=\"_parent\"><img src=\"https://colab.research.google.com/assets/colab-badge.svg\" alt=\"Open In Colab\"/></a>"
      ]
    },
    {
      "cell_type": "markdown",
      "metadata": {
        "id": "Uo3LbggxYQuV"
      },
      "source": [
        " ## TEMA 2. ANÁLISIS ECONÓMICO CON PYTHON\n",
        "\n",
        "**Coyuntura y Predicción**\n",
        "\n",
        "Universidad Pablo de Olavide, Curso 2022-23\n",
        "\n",
        "Daniel Oto-Peralías"
      ]
    },
    {
      "cell_type": "markdown",
      "metadata": {
        "id": "FJm--0njYBjz"
      },
      "source": [
        "## Índice:\n",
        "\n",
        "1.   Introducción\n",
        "2.   Sintaxis y estructuras básicas de datos.\n",
        "3.   Numpy.\n",
        "4.   Pandas.\n",
        "5.   Una Aplicación - Usando la PWT."
      ]
    },
    {
      "cell_type": "markdown",
      "metadata": {
        "id": "qiisPG4LZUac"
      },
      "source": [
        "## 1. Introducción\n",
        "\n",
        "* Python es un lenguaje de programación muy flexible e intuitivo.\n",
        "* Es el lenguaje por excelencia de DATA SCIENCE.\n",
        "* Contiene muchas herramientas para realizar muchos tipos de análisis y ejercicios imposibles con Excel o STATA. Permite, por ejemplo, recopilar información de Internet mecánicamente. También facilita la automatización de muchas tareas (véase por ej. [este recurso](https://automatetheboringstuff.com/)).\n",
        "* Es un lenguaje de programación muy usado tanto dentro del sector académico como fuera, en el sector privado.\n",
        "* Gracias a su popularidad, hay muchos recursos y ayuda on-line, empezando por la web oficial https://docs.python.org/3/contents.html\n",
        "\n",
        "<strong> Descarga e instalación </strong>\n",
        "\n",
        "* Lo puedes descargar directamente de la web oficial https://www.python.org/downloads/\n",
        "\n",
        " Incluye un editor (IDLE), el cual se puede mejorar instalando con IdLex http://idlex.sourceforge.net/\n",
        "\n",
        "* Lo más recomendable es descargarlo a través de ANACONDA, un paquete que incluye Python, el editor Spyder, Jupyter y cientos de módulos:\n",
        "https://www.anaconda.com/download\n",
        "\n",
        "* También es posible usar Python online a través de Google colab (https://colab.research.google.com), para lo cual se necesita crear una cuenta gratuita en Google."
      ]
    },
    {
      "cell_type": "markdown",
      "metadata": {
        "id": "M2cW_RrGbvtd"
      },
      "source": [
        "## 2. Sintaxis y estructuras básicas de datos\n",
        "\n",
        "* Las sangrías importan en Python (mientras en Stata se usan llaves { … }, en Python se usan sangrías).\n",
        "* Las letras mayúsculas también importan.\n",
        "* Cualquier texto detrás de “#” se trata como un comentario.\n",
        "* Lo que aparezca entre tres comillas ```'''``` o ```\"\"\"``` se trata también como comentarios. Es muy útil cuando se trata de comentarios largos. Las comillas de cierre deben ser las mismas (!).\n"
      ]
    },
    {
      "cell_type": "markdown",
      "metadata": {
        "id": "l-NGyNWhhON7"
      },
      "source": [
        "#### **Variables**\n",
        "\n",
        "Las variables son objetos a los que se asignan números o texto (string)."
      ]
    },
    {
      "cell_type": "code",
      "metadata": {
        "id": "xupcpkecccJS"
      },
      "source": [
        "myNumber = 10\n",
        "print (myNumber)\n",
        "\n",
        "myString = \"Hello , World !\"\n",
        "print (myString)"
      ],
      "execution_count": null,
      "outputs": []
    },
    {
      "cell_type": "markdown",
      "metadata": {
        "id": "pF1WCs6-bv7j"
      },
      "source": [
        "---\n",
        "*Tarea 1* - Asigne dos variables para que sean números (el 5 y el 25) y use el símbolo + para producir la suma de esos números. Ahora intenta restar, multiplicar y dividir.\n",
        "\n",
        "---"
      ]
    },
    {
      "cell_type": "code",
      "metadata": {
        "id": "VSHJp3FjfcD2"
      },
      "source": [
        "# Resolver Tarea 1 aquí:\n",
        "cinco=5\n",
        "v5=25\n",
        "suma1=cinco + v5\n",
        "print(\"Suma: \",suma1)\n",
        "resta1=cinco - v5\n",
        "print(\"Resta: \",resta1)\n",
        "mult1=cinco * v5\n",
        "print(\"Producto: \",mult1)\n",
        "div1=cinco / v5 # Esto es equivalente a 5/25 directamente\n",
        "print(\"División: \",div1)\n",
        "# Distinguir entre división normal y división de enteros\n",
        "print(\"División normal: \",8/3)\n",
        "print(\"División de enteros: \",8//3)\n"
      ],
      "execution_count": null,
      "outputs": []
    },
    {
      "cell_type": "markdown",
      "metadata": {
        "id": "FnN_VegQfmrQ"
      },
      "source": [
        "---\n",
        "*Tarea 2* - Asigne “Hello” a una variable y “World!\" a otra. Concatene (combine) las dos variables (string variables) con el signo más, tal como agregaría números. Pista: Agregue un poco de espacio en blanco: var1 + “ “ + var2..\n",
        "\n",
        "---"
      ]
    },
    {
      "cell_type": "code",
      "metadata": {
        "id": "AY699Iowff8v"
      },
      "source": [
        "# Resolver Tarea 2 aquí:\n",
        "var1=\"Hello\"\n",
        "var2=\"World!\"\n",
        "var3=var1+\" \"+var2\n",
        "var3\n"
      ],
      "execution_count": null,
      "outputs": []
    },
    {
      "cell_type": "markdown",
      "metadata": {
        "id": "ch3_ei25gAAB"
      },
      "source": [
        "---\n",
        "*Tarea 3* - Pruebe ahora a multiplicar un elemento no numérico (string): “-x-”*50\n",
        "\n",
        "---"
      ]
    },
    {
      "cell_type": "code",
      "metadata": {
        "id": "m8_Xl1SJgWEg"
      },
      "source": [
        "# Resolver Tarea 2 aquí:\n",
        "var3*20\n"
      ],
      "execution_count": null,
      "outputs": []
    },
    {
      "cell_type": "markdown",
      "metadata": {
        "id": "bdP7AfhBf3JO"
      },
      "source": [
        "#### **Listas**\n",
        "\n",
        "* Las listas son otro tipo de objeto básico en Python. Para definir una lista, separe sus elementos por comas y cierre con corchetes.\n",
        "* Algunas formas de agregar elementos a una lista:"
      ]
    },
    {
      "cell_type": "code",
      "metadata": {
        "id": "7_u2cKwWco1g"
      },
      "source": [
        "myList = [1,2,3]\n",
        "myList.append(4)\n",
        "myList=myList+[5]\n",
        "myList+=[6]\n",
        "myList"
      ],
      "execution_count": null,
      "outputs": []
    },
    {
      "cell_type": "markdown",
      "metadata": {
        "id": "F_Dp2MRDiUPN"
      },
      "source": [
        "---\n",
        "*Tarea 4* - Defina una lista en la que los elementos son los dígitos de su cumpleaños.\n",
        "\n",
        "---"
      ]
    },
    {
      "cell_type": "code",
      "metadata": {
        "id": "V16jLofxhpB_"
      },
      "source": [
        "# Resolver Tarea 4 aquí:\n",
        "mycumple=[99,\"Nov\"]\n",
        "mycumple\n"
      ],
      "execution_count": null,
      "outputs": []
    },
    {
      "cell_type": "markdown",
      "metadata": {
        "id": "sESp0j2Gigp2"
      },
      "source": [
        "* La indexación en una lista = posición de un elemento en la lista. Python comienza a contar en 0."
      ]
    },
    {
      "cell_type": "code",
      "metadata": {
        "id": "k0--k3Bbc3Kq"
      },
      "source": [
        "myList\n",
        "print(myList[2]) # primer elemento en myList\n",
        "print(len(myList)) # longitud de myList\n",
        "# myList[6] # da error porque no existe el element 7º\n",
        "myList[5] # esto sí ;)"
      ],
      "execution_count": null,
      "outputs": []
    },
    {
      "cell_type": "markdown",
      "metadata": {
        "id": "uT3R0bQki-gC"
      },
      "source": [
        "---\n",
        "*Tarea 5* - De la lista definida en la Tarea 4, calcule su longitud y extraiga el último elemento.\n",
        "\n",
        "---"
      ]
    },
    {
      "cell_type": "code",
      "metadata": {
        "id": "i_KJBex4i5L2"
      },
      "source": [
        "# Resolver tarea 5 aquí:\n",
        "print(len(mycumple))\n",
        "print(mycumple[1])\n",
        "print(mycumple[-1])\n"
      ],
      "execution_count": null,
      "outputs": []
    },
    {
      "cell_type": "markdown",
      "metadata": {
        "id": "y2vWUXDKjKQH"
      },
      "source": [
        "---\n",
        "*Tarea 6* - Las listas pueden almacenar cualquier estructura de datos en sus elementos. Haga una lista en la que el primer elemento es el nombre del mes de su cumpleaños (string), el segundo elemento es el día del mes de su cumpleaños (un número) y el último elemento es el año de su nacimiento (también un número).\n",
        "\n",
        "---"
      ]
    },
    {
      "cell_type": "code",
      "metadata": {
        "id": "h9mFjUaajfqB"
      },
      "source": [
        "# Resolver tarea 6 aquí:\n",
        "nac=[\"Nov\",2,1234]\n",
        "nac\n"
      ],
      "execution_count": null,
      "outputs": []
    },
    {
      "cell_type": "markdown",
      "metadata": {
        "id": "rLck9OgdjiQj"
      },
      "source": [
        "* Además, las listas pueden contener listas."
      ]
    },
    {
      "cell_type": "code",
      "metadata": {
        "id": "LPpZWv7ddR-8"
      },
      "source": [
        "lista1=[0,1,2,3]\n",
        "lista2=[lista1,\"Uno\",\"Dos\"]\n",
        "print(lista2)"
      ],
      "execution_count": null,
      "outputs": []
    },
    {
      "cell_type": "markdown",
      "metadata": {
        "id": "RkDwXwB7kna9"
      },
      "source": [
        "* Las listas se pueden modificar borrando y añadiendo elementos:"
      ]
    },
    {
      "cell_type": "code",
      "metadata": {
        "id": "U9qHjcaJdVuL"
      },
      "source": [
        "myList=[\"a\",\"b\",\"c\"]\n",
        "myList[0]=\"z\" # Cambiamos el primer elemento\n",
        "print(myList)"
      ],
      "execution_count": null,
      "outputs": []
    },
    {
      "cell_type": "markdown",
      "metadata": {
        "id": "yYQVBbEmkoZ9"
      },
      "source": [
        "* Cuando una lista se asigna a otra, cambios en la primera lista afectan a la nueva:"
      ]
    },
    {
      "cell_type": "code",
      "metadata": {
        "id": "ilW8GrTjdZy7"
      },
      "source": [
        "myList=[\"a\",\"b\",\"c\",\"d\",\"e\"]\n",
        "newList=myList\n",
        "print(newList)\n",
        "myList+=[\"Z\"]\n",
        "print(newList)"
      ],
      "execution_count": null,
      "outputs": []
    },
    {
      "cell_type": "markdown",
      "metadata": {
        "id": "P73oeC2jlQLO"
      },
      "source": [
        "* Para evitarlo, usamos la función copiar:"
      ]
    },
    {
      "cell_type": "code",
      "metadata": {
        "id": "WSI3loVTdeZe"
      },
      "source": [
        "myList=[\"a\",\"b\",\"c\",\"d\",\"e\"]\n",
        "newList=myList.copy()\n",
        "print(newList)\n",
        "myList+=[\"Z\"]\n",
        "print(newList)"
      ],
      "execution_count": null,
      "outputs": []
    },
    {
      "cell_type": "markdown",
      "metadata": {
        "id": "NscfiVvIdr81"
      },
      "source": [
        "#### **Funciones**"
      ]
    },
    {
      "cell_type": "markdown",
      "metadata": {
        "id": "8nBJaP4qesTx"
      },
      "source": [
        "* Exiten miles de funciones predefinidas en Python, listas para usarse.\n",
        "* Una función siempre consiste en una palabra clave seguida de un paréntesis, donde se escriben los argumentos de la función (aunque no siempre es necesario escribir los argumentos).\n",
        "* Además de las funciones preexistentes, se pueden definir funciones, que son muy útiles si vamos a hacer algo de manera reiterada.\n",
        "* La definición de una función comienza con ```def ```, luego el nombre de la función seguido de paréntesis. Cualquier parámetro o argumento que tome la función debe aparecer entre paréntesis. Un doble punto sigue a los paréntesis, y el resto de la función tiene un nivel adicional de sangría."
      ]
    },
    {
      "cell_type": "code",
      "metadata": {
        "id": "s_OXgQlEdtpm"
      },
      "source": [
        "def printWord(word): # define la funciión “printWord” que toma un parámetro “word”\n",
        "\tprint(\"La palabra que has escrito es \"+ word)\n",
        "\n",
        "printWord(\"Python\") # así se ejecuta la función"
      ],
      "execution_count": null,
      "outputs": []
    },
    {
      "cell_type": "markdown",
      "metadata": {
        "id": "OwVGfMoMfjtS"
      },
      "source": [
        "* Las funciones no contienen necesariamente argumentos, como por ejemplo esta:"
      ]
    },
    {
      "cell_type": "code",
      "metadata": {
        "id": "Q2YYLHwqfPXf"
      },
      "source": [
        "def hello_world():\n",
        "  print(\"Hello world!\")\n",
        "hello_world()"
      ],
      "execution_count": null,
      "outputs": []
    },
    {
      "cell_type": "markdown",
      "metadata": {
        "id": "pvPdI1kAf6Mc"
      },
      "source": [
        "* Es buena práctica documentar lo que hace la función (útil para nosotros en el futuro y para terceros que usen nuestro código):"
      ]
    },
    {
      "cell_type": "code",
      "metadata": {
        "id": "DB1Wz5oAf0Nf"
      },
      "source": [
        "def hello_world():\n",
        "  '''Esta función escribe ¡Hola mundo! en inglés y no tiene argumentos'''\n",
        "  print(\"Hello world\")"
      ],
      "execution_count": null,
      "outputs": []
    },
    {
      "cell_type": "markdown",
      "metadata": {
        "id": "3cqGfR6GgnCP"
      },
      "source": [
        "* La palabra ```return``` tiene un significado especial ya que permite guardar/asignar el output de la función."
      ]
    },
    {
      "cell_type": "code",
      "metadata": {
        "id": "fnL83659ga6O"
      },
      "source": [
        "def addNums(num1,num2):\n",
        "  '''Esta función suma dos números'''\n",
        "  return num1+num2\n",
        "result=addNums(1,10)\n",
        "result"
      ],
      "execution_count": null,
      "outputs": []
    },
    {
      "cell_type": "markdown",
      "metadata": {
        "id": "IA-9xoiQiobc"
      },
      "source": [
        "---\n",
        "*Tarea 7* - Defina una función “multNums” cuyo output sea el producto de dos números. Pruébelo asignando resultado=multNums (2,3) y luego imprima el resultado.\n",
        "¿Y cuánto sería multNums (2, resultado)? (o sea, el resultado anterior va ahora dentro de la función).\n",
        "\n",
        "---\n",
        "(clicar en ```+ Código``` arriba para crear una celda de código y resolver la tarea)"
      ]
    },
    {
      "cell_type": "code",
      "metadata": {
        "id": "_zfcpwWl0pQJ"
      },
      "source": [
        "def multNums(n1,n2):\n",
        "  '''Multiplica dos números'''\n",
        "  return n1*n2\n",
        "resultado=multNums(2,3)\n",
        "multNums(2,resultado)"
      ],
      "execution_count": null,
      "outputs": []
    },
    {
      "cell_type": "markdown",
      "metadata": {
        "id": "G28kxcyUjQCk"
      },
      "source": [
        "#### **Condiciones (if/else) y bucles**"
      ]
    },
    {
      "cell_type": "markdown",
      "metadata": {
        "id": "NWdPhaPtjcWX"
      },
      "source": [
        "* Las condiciones ```if/else``` se usan para ejecutar un código si se cumple la condición especificada:"
      ]
    },
    {
      "cell_type": "code",
      "metadata": {
        "id": "2KL6AtN-hMgt"
      },
      "source": [
        "n=8\n",
        "if n==1:\n",
        "  num=\"uno\"\n",
        "elif n==2:\n",
        "  num=\"dos\"\n",
        "elif n==3:\n",
        "  num=\"tres\"\n",
        "else:\n",
        "  num=\"Mayor que tres\"\n",
        "print(num)"
      ],
      "execution_count": null,
      "outputs": []
    },
    {
      "cell_type": "markdown",
      "metadata": {
        "id": "UQm65TNSlAqb"
      },
      "source": [
        "* El bucle ```for``` itera sobre un objeto compuesto de varios elementos (susceptible de iteración, como una lista), de manera que ejecutará un comando tantas veces como elementos tenga el objeto sobre el que se itera:"
      ]
    },
    {
      "cell_type": "code",
      "metadata": {
        "id": "bnJ6nmhHlhh2"
      },
      "source": [
        "lista=[1,2,3,4,5,6,7,8]\n",
        "for x in lista:\n",
        "  print(x)"
      ],
      "execution_count": null,
      "outputs": []
    },
    {
      "cell_type": "markdown",
      "metadata": {
        "id": "cuZFmxX_mA2K"
      },
      "source": [
        "* Con el bucle ```for``` también se puede interar sobre un rango numérico que definamos sobre la marcha:"
      ]
    },
    {
      "cell_type": "code",
      "metadata": {
        "id": "8uqojhoxmBrH"
      },
      "source": [
        "for x in range(1,9):\n",
        "  print(x)"
      ],
      "execution_count": null,
      "outputs": []
    },
    {
      "cell_type": "markdown",
      "metadata": {
        "id": "_n9Gf73qmiRy"
      },
      "source": [
        "* *Observa que el número 9 no se incluye en el rango. Esto es así en general: el último número no se incluye.*"
      ]
    },
    {
      "cell_type": "markdown",
      "metadata": {
        "id": "cOYxwUUpnLp0"
      },
      "source": [
        "* Otro bucle importante es el bucle ```while```, que no vamos a usar en este curso pero podéis aprender sobre él aquí: https://realpython.com/python-while-loop/\n",
        "\n"
      ]
    },
    {
      "cell_type": "markdown",
      "metadata": {
        "id": "klUXKngYoCo9"
      },
      "source": [
        "---\n",
        "*Tarea 8* - Use un bucle ```for``` para imprimir cada elemento de la lista [\"manzanas\", \"plátanos\", \"naranjas\"].\n",
        "\n",
        "---"
      ]
    },
    {
      "cell_type": "markdown",
      "metadata": {
        "id": "fnMjztpDoTUb"
      },
      "source": [
        "---\n",
        "*Tarea 9* - Use un bucle ```for``` para imprimir cada número del 50 al 100, ambos extremos inclusive.\n",
        "\n",
        "---"
      ]
    },
    {
      "cell_type": "markdown",
      "metadata": {
        "id": "wZ3jhNbgpyHh"
      },
      "source": [
        "---\n",
        "*Tarea 10* - Defina la función “evaluacion(nombre)” que tome un string y devuelva “OK\" si el nombre introducido es \"Python\" o \"Stata“, y que devuelta “MAL” en caso contrario. Pruebe que la función está correctamente programada usando la siguiente lista de palabras: \"Python\", \"SPSS\", \"Stata\", \"Java\", \"MATLAB\", \"Eviews\" (Pista1: use los condicionales if y else. Pista 2: puede usar un loop para simplificar la tarea).\n",
        "\n",
        "---"
      ]
    },
    {
      "cell_type": "markdown",
      "metadata": {
        "id": "8jVmTxnKqXnW"
      },
      "source": [
        "#### **Booleans: True/False**"
      ]
    },
    {
      "cell_type": "markdown",
      "metadata": {
        "id": "ABUQkbXPqpDA"
      },
      "source": [
        "* Con frecuencia es necesario evaluar (comprobar) si algo es verdadero o no. Por ejemplo, cuando usamos ```if```.\n",
        "\n",
        "* Python usa operadores de comparación intuitivos, muchos de ellos os deben resultar familiares:\n",
        "    \n",
        "\n",
        "1.   ```<```\tstrictly less than\n",
        "2.   ```<=```\tless than or equal\n",
        "3.   ```>``` strictly greater than\n",
        "4.   ```>=```\tgreater than or equal\n",
        "5.   ```==```\tequal\n",
        "6.   ```!=```\tnot equal\n",
        "7.   ```is```\tobject identity\n",
        "8.   ```is not```\tnegated object identity\n",
        "9. ```in```\n",
        "\n",
        "```python\n",
        "1>3 # da False\n",
        "3>1 # da True\n",
        "1 in [1,2,3] # da True\n",
        "\"sevilla\" in [\"sevilla\", \"cadiz\", \"malaga“] # da True\n",
        "```\n",
        "    \n",
        "    \n",
        "\n"
      ]
    },
    {
      "cell_type": "markdown",
      "metadata": {
        "id": "-Iyiy0nLsV0v"
      },
      "source": [
        "#### **Tuples**"
      ]
    },
    {
      "cell_type": "markdown",
      "metadata": {
        "id": "CbCGdYPIsb8l"
      },
      "source": [
        "* Como una lista, un tuple es un conjunto ordenado de valores. A diferencia de una lista, los tuples son inmutables (no se pueden cambiar una vez que se definen).\n",
        "* También es importante saber acerca de tuples porque algunos métodos devuelven tuples, no listas.\n",
        "* Mientras que las listas se definen entre corchetes, los tuples se declaran entre paréntesis."
      ]
    },
    {
      "cell_type": "code",
      "metadata": {
        "id": "KmOrIFIRqgft"
      },
      "source": [
        "row1=(\"nombre\",\"apellido\")\n",
        "row2=(\"Manuel\",\"Martínez\")\n",
        "row3=(\"Juan\" , \"Pérez\")\n",
        "print(row2[0])"
      ],
      "execution_count": null,
      "outputs": []
    },
    {
      "cell_type": "code",
      "metadata": {
        "id": "Sg3gQZf_smhv"
      },
      "source": [
        "row2.append(\"Gutiérrez\") # da error porque son inmutables"
      ],
      "execution_count": null,
      "outputs": []
    },
    {
      "cell_type": "markdown",
      "metadata": {
        "id": "ee2VyUcEtOEt"
      },
      "source": [
        "#### **Diccionarios**"
      ]
    },
    {
      "cell_type": "markdown",
      "metadata": {
        "id": "6P0GlffYtQil"
      },
      "source": [
        "* Los dictionaries relacionan claves con valores (key=>value): sabiendo una clave, se conoce rápidamente su valor, como en un diccionario real.\n",
        "* Para definir un diccionario: ```{ key1: value1 , key2: value2 , key3: value3 , key4: value4 , ...}```"
      ]
    },
    {
      "cell_type": "code",
      "metadata": {
        "id": "rMHYVAsmtABM"
      },
      "source": [
        "myDict = {\"Manuel Martínez\":\"Notable\",\"Juan Pérez\": \"Aprobado\"}\n",
        "print(myDict[\"Manuel Martínez\"])"
      ],
      "execution_count": null,
      "outputs": []
    },
    {
      "cell_type": "code",
      "metadata": {
        "id": "XqdzKxoAt7Sx"
      },
      "source": [
        "notas={\"Juan García\":9,\"Alonso Ramos\":8.5,\"Federico Gutiérrez\":5}\n",
        "print(notas[\"Juan García\"])"
      ],
      "execution_count": null,
      "outputs": []
    },
    {
      "cell_type": "code",
      "metadata": {
        "id": "GFqxoQMbt_it"
      },
      "source": [
        "notas2={12253697:9,89966369:8.5,87777898:5}\n",
        "print(notas2[87777898])"
      ],
      "execution_count": null,
      "outputs": []
    },
    {
      "cell_type": "code",
      "metadata": {
        "id": "66GCgKvbuC0l"
      },
      "source": [
        "print(notas2[87777777]) # da error porque la clave no existe"
      ],
      "execution_count": null,
      "outputs": []
    },
    {
      "cell_type": "markdown",
      "metadata": {
        "id": "olSg7khiuJQ8"
      },
      "source": [
        "* Se pueden obtener fácilmente todas las claves del diccionario en una lista y hacer un bucle con ellas:"
      ]
    },
    {
      "cell_type": "code",
      "metadata": {
        "id": "kqTO0a-QubUM"
      },
      "source": [
        "calificaciones={\"Juan\":9,\"Alonso\":8.5,\"Manuel\":5,\"María\":9,\"Cármen\":8,\"Daniel\":10}\n",
        "print(calificaciones.keys())\n",
        "for k in calificaciones.keys():\n",
        "  print(\"La calificación de \"+k+\" es un \"+str(calificaciones[k])+\".\")"
      ],
      "execution_count": null,
      "outputs": []
    },
    {
      "cell_type": "markdown",
      "metadata": {
        "id": "PRuraiUNuuqI"
      },
      "source": [
        "---\n",
        "*Tarea 11* - Defina mydict = {1: \"A\", 2: \"B\", 3: \"C\", 4: \"C\", 5: \"A\", 6: \"A\" }. ¿Qué valor es mydict [1]? Use un bucle for para imprimir cada clave por separado. Ahora imprima cada valor por separado. ¿Puede poner una condición ```if``` dentro de un bucle ``` for``` que imprima las claves si sus valores son \"C\"?\n",
        "\n",
        "---"
      ]
    },
    {
      "cell_type": "markdown",
      "metadata": {
        "id": "ni7qnY5hvVl9"
      },
      "source": [
        "## 3. Numpy"
      ]
    },
    {
      "cell_type": "markdown",
      "metadata": {
        "id": "38cLwiJuvaNV"
      },
      "source": [
        "* Numpy es un módulo fundamental para cálculo numérico y para operar con vectores (one-dimensional arrays) y matrices (multi-dimensional arrays), siendo la base sobre la que operan otros módulos.\n",
        "* Los módulos (o librerías) son conjuntos de funciones que se deben instalar e importar antes de poder usarse (instalar Python a través de Anaconda nos facilita esta labor porque contiene cientos de módulos ya instalados; lo mismo si usamos Google Colab):\n",
        "\n",
        "```\n",
        "import numpy as np\n",
        "```\n",
        "\n"
      ]
    },
    {
      "cell_type": "markdown",
      "metadata": {
        "id": "M0Zpx1EqvaSB"
      },
      "source": [
        "* Hay muchas maneras de crear vectores y matrices. Algunos ejemplos:"
      ]
    },
    {
      "cell_type": "code",
      "metadata": {
        "id": "bNqFKoDQwKZt"
      },
      "source": [
        "import numpy as np\n",
        "an_array = np.array([3, 33, 333])\n",
        "print(an_array)\n",
        "print(an_array.shape) # preguntamos cuál es la dimensión\n",
        "print(an_array[0], an_array[1], an_array[2])  # imprimir de manera independiente cada elemento\n",
        "an_array[0] =888 # modificamos el vector\n",
        "print(an_array)"
      ],
      "execution_count": null,
      "outputs": []
    },
    {
      "cell_type": "markdown",
      "metadata": {
        "id": "4jxg0GJ1vaVB"
      },
      "source": [
        "* Matrices (ndarrray rank >=2):"
      ]
    },
    {
      "cell_type": "code",
      "metadata": {
        "id": "vecQDOwgwT6b"
      },
      "source": [
        "another = np.array([[11,12,13],[21,22,23]])   # rank 2 array\n",
        "print(another)\n",
        "print(\"Las dimensiones son 2 filas, 3 columnas: \", another.shape)\n",
        "print(\"Obteniendo elementos [0,0], [0,1], y [1,0] del ndarray o matriz: \", another[0, 0], \", \",another[0, 1],\", \", another[1, 0])"
      ],
      "execution_count": null,
      "outputs": []
    },
    {
      "cell_type": "markdown",
      "metadata": {
        "id": "Hxvcu9tPvaXl"
      },
      "source": [
        "* Matrices con elementos aleatorios (entre otras posibilidades):"
      ]
    },
    {
      "cell_type": "code",
      "metadata": {
        "id": "aKt4kINuwmUA"
      },
      "source": [
        "aleatorio = np.random.random((4,4))\n",
        "print(aleatorio)"
      ],
      "execution_count": null,
      "outputs": []
    },
    {
      "cell_type": "markdown",
      "metadata": {
        "id": "ElMsjrJ2vaal"
      },
      "source": [
        "* Al igual que las listas, se puede extraer información sobre elementos o partes concretas de los ndarrays, y modificarse elementos concretos:"
      ]
    },
    {
      "cell_type": "code",
      "metadata": {
        "id": "7JRYX3tdwvlb"
      },
      "source": [
        "an_array = np.array([[11,12,13,14], [21,22,23,24], [31,32,33,34]])\n",
        "print(an_array)"
      ],
      "execution_count": null,
      "outputs": []
    },
    {
      "cell_type": "code",
      "metadata": {
        "id": "4wh0GE-1wyV8"
      },
      "source": [
        "col0=an_array[:,0] #todas las filas de la primera columna\n",
        "print(col0)"
      ],
      "execution_count": null,
      "outputs": []
    },
    {
      "cell_type": "code",
      "metadata": {
        "id": "XrDqGfALxDNM"
      },
      "source": [
        "col0[1]=9999\n",
        "print(col0)\n",
        "print(an_array) # observa que se modifica la matriz original"
      ],
      "execution_count": null,
      "outputs": []
    },
    {
      "cell_type": "markdown",
      "metadata": {
        "id": "-hFE6zObxOpP"
      },
      "source": [
        "* Una herramienta interesante es el uso de filtros:"
      ]
    },
    {
      "cell_type": "code",
      "metadata": {
        "id": "RC8jCONbyLbx"
      },
      "source": [
        "an_array = np.array([[11,12], [21, 22], [31, 32]])\n",
        "print(an_array)\n",
        "print(an_array[an_array>15])"
      ],
      "execution_count": null,
      "outputs": []
    },
    {
      "cell_type": "code",
      "metadata": {
        "id": "l8Iip1e0yYAj"
      },
      "source": [
        "an_array[(an_array>15) & (an_array<30)]"
      ],
      "execution_count": null,
      "outputs": []
    },
    {
      "cell_type": "markdown",
      "metadata": {
        "id": "ucr-H5vGyxJ0"
      },
      "source": [
        "*Observa que aquí no usamos la funcion print(), pero se muestra el output. Esta manera de mostrar el output es válida solo si ejecutamos una línea de código o solo estamos interesados en que nos muestre la última línea ejecutada:*"
      ]
    },
    {
      "cell_type": "code",
      "metadata": {
        "id": "tXii6_OmyYd8"
      },
      "source": [
        "an_array[(an_array>1)]\n",
        "an_array[(an_array>10)]\n",
        "an_array[(an_array>20 )]"
      ],
      "execution_count": null,
      "outputs": []
    },
    {
      "cell_type": "markdown",
      "metadata": {
        "id": "7l8s5nTazSvM"
      },
      "source": [
        "* Operaciones aritméticas:"
      ]
    },
    {
      "cell_type": "code",
      "metadata": {
        "id": "RIOlXoM5zK3q"
      },
      "source": [
        "#Operaciones aritméticas\n",
        "x = np.array([[111,112],[121,122]])\n",
        "y = np.array([[211.1,212.1],[221.1,222.1]])\n",
        "# Suma\n",
        "print(x + y)  # Es equivalente:print(np.add(x, y))\n",
        "# Resta\n",
        "print(x - y) # Es equivalente: print(np.subtract(x, y))\n",
        "# Multiplicación\n",
        "print(x * y) # Es equivalente: print(np.multiply(x, y)) => ≠ a multiplic. matricial!\n",
        "# División\n",
        "print(x / y)  # Es equivalente: print(np.divide(x, y))\n",
        "# Raiz cuadrada\n",
        "print(np.sqrt(x))\n",
        "# Elevar al cuadrado\n",
        "print(x**2)"
      ],
      "execution_count": null,
      "outputs": []
    },
    {
      "cell_type": "markdown",
      "metadata": {
        "id": "ZiebDIBYzoJo"
      },
      "source": [
        "*Observar que, en Python, elevar a alguna potencia es doble asterisco* ```**``` (!)"
      ]
    },
    {
      "cell_type": "markdown",
      "metadata": {
        "id": "UlkW7mu0z9GK"
      },
      "source": [
        "* Operaciones estadísticas y otras:"
      ]
    },
    {
      "cell_type": "code",
      "metadata": {
        "id": "zMKpFRskzcSb"
      },
      "source": [
        "arr = 10 * np.random.randn(2,5)  # Crear una matriz aleatoria 2x5 a partir de N(0,1)\n",
        "print(arr)\n",
        "media=arr.mean()\n",
        "print(media) # Se puede imprimir directamente por supuesto print(arr.mean())\n",
        "print(arr.mean(axis = 1)) # calcula la media por fila (axis = 0 => por columna)\n",
        "print(arr.sum()) # suma todos los elementos\n",
        "arr.sort()\n",
        "print(arr)"
      ],
      "execution_count": null,
      "outputs": []
    },
    {
      "cell_type": "markdown",
      "metadata": {
        "id": "iNMBlEhI0NXk"
      },
      "source": [
        "## 3. Pandas"
      ]
    },
    {
      "cell_type": "markdown",
      "metadata": {
        "id": "WszSNgVa0oXZ"
      },
      "source": [
        "* **pandas** es *la* librería de Python para el análisis de datos.\n",
        "* Ofrece una serie de operaciones de exploración, limpieza, transformación, cálculo y visualización de datos que son fundamentales para trabajar con datos en Python.\n",
        "* **pandas** se basa en **numpy** y **scipy** y proporciona estructuras de datos fáciles de usar y funciones de manipulación de datos con indexación integrada.\n",
        "* Las principales estructuras de datos que proporcionan los pandas son Series y DataFrames.\n",
        "* Documentación de pandas:\n",
        "> https://pandas.pydata.org/pandas-docs/stable/user_guide/10min.html (*Muy recomendable que lo leáis*)\n",
        "> http://pandas.pydata.org/pandas-docs/stable/\n",
        "\n",
        "```\n",
        "import pandas as pd\n",
        "```"
      ]
    },
    {
      "cell_type": "markdown",
      "metadata": {
        "id": "cLz1d0Ra1sRb"
      },
      "source": [
        "* **Pandas series**\n",
        "\n",
        "-Las series son tablas con una sola columna: contienen solamente una variable.  \n",
        "-Las series incluyen a la izquierda una \"pseudo-columna\" denominada ```index```, que contiene una etiqueta (un código o número) que identifica a cada fila. Si el usuario no especifica el ```index```al crear la serie, este se genera solo."
      ]
    },
    {
      "cell_type": "code",
      "metadata": {
        "id": "qy2LOiBKz_j1",
        "colab": {
          "base_uri": "https://localhost:8080/"
        },
        "outputId": "59dcebbe-662d-420f-9c63-8e6b0225dc40"
      },
      "source": [
        "import pandas as pd\n",
        "paro = pd.Series([20, 10, 15, 20, 8], ['Sevilla', 'Málaga', 'Jaén', 'Huelva', 'Cádiz'])\n",
        "paro"
      ],
      "execution_count": 1,
      "outputs": [
        {
          "output_type": "execute_result",
          "data": {
            "text/plain": [
              "Sevilla    20\n",
              "Málaga     10\n",
              "Jaén       15\n",
              "Huelva     20\n",
              "Cádiz       8\n",
              "dtype: int64"
            ]
          },
          "metadata": {},
          "execution_count": 1
        }
      ]
    },
    {
      "cell_type": "code",
      "metadata": {
        "id": "wHXzCOzd13UU"
      },
      "source": [
        "paro.index"
      ],
      "execution_count": null,
      "outputs": []
    },
    {
      "cell_type": "code",
      "metadata": {
        "id": "QCCfjlz32ME7"
      },
      "source": [
        "paro.loc[['Sevilla','Jaén']]  # loc[]  = Filtro basado en las etiquetas del index (label based)"
      ],
      "execution_count": null,
      "outputs": []
    },
    {
      "cell_type": "code",
      "metadata": {
        "id": "pCBqIR8o3Bnq"
      },
      "source": [
        "paro[['Sevilla','Jaén']] # Filtro equivalente a lo anterior, pero es mejor práctica usar loc[]"
      ],
      "execution_count": null,
      "outputs": []
    },
    {
      "cell_type": "code",
      "metadata": {
        "id": "cGFndMIS2fCT"
      },
      "source": [
        "paro.iloc[2]  #iloc[] = Filtro por la posición en el index (la posición empieza por cero !)"
      ],
      "execution_count": null,
      "outputs": []
    },
    {
      "cell_type": "code",
      "metadata": {
        "id": "5pvr6g_j2TYr"
      },
      "source": [
        "paro[[4, 3, 1]] #  Filtro equivalente a lo anterior, pero es mejor práctica usar iloc[]"
      ],
      "execution_count": null,
      "outputs": []
    },
    {
      "cell_type": "markdown",
      "metadata": {
        "id": "YhDdwbE4FWz0"
      },
      "source": [
        "* **Pandas DataFrame** (\"marco de datos\" = tabla)\n",
        "\n",
        "-Las dataframes son tablas que contienen una o más columnas, cada una con un nombre.  \n",
        "-Al igual que las series, tienen un ```index``` con etiquetas que identifican a cada fila."
      ]
    },
    {
      "cell_type": "code",
      "metadata": {
        "id": "oQ322t8I293z"
      },
      "source": [
        "d = {'Ejerc1' : pd.Series([100., 200., 300.], index=['José', 'Manuel', 'Javier']),\n",
        "     'Ejerc2' : pd.Series([111., 222., 333., 4444.], index=['José', 'Manuel', 'Daniel', 'Juan'])}  # las claves del diccionario= nombre de las columnas.\n",
        "df = pd.DataFrame(d)\n",
        "df"
      ],
      "execution_count": null,
      "outputs": []
    },
    {
      "cell_type": "code",
      "metadata": {
        "id": "PRVcGDRhFvCZ"
      },
      "source": [
        "df[\"Ejerc1\"] # Primera columna solo"
      ],
      "execution_count": null,
      "outputs": []
    },
    {
      "cell_type": "code",
      "metadata": {
        "id": "k11VAlwMFw-o"
      },
      "source": [
        "df.iloc[:2,:]  # Filtrar filas en base a la posición del index"
      ],
      "execution_count": null,
      "outputs": []
    },
    {
      "cell_type": "code",
      "metadata": {
        "id": "iFWa8cLbGgAF"
      },
      "source": [
        "df.loc[[\"Daniel\",\"Manuel\"],:] # Filtrar filas en base a la etiqueta (label) del index"
      ],
      "execution_count": null,
      "outputs": []
    },
    {
      "cell_type": "code",
      "metadata": {
        "id": "Wb4cCRTsGq2o"
      },
      "source": [
        "df['Producto'] = df['Ejerc1'] * df['Ejerc2']\n",
        "df"
      ],
      "execution_count": null,
      "outputs": []
    },
    {
      "cell_type": "code",
      "metadata": {
        "id": "cezO3YQ7HHBv"
      },
      "source": [
        "Producto = df.pop('Producto') # extrae la columna \"Producto\" eliminándola del df\n",
        "Producto"
      ],
      "execution_count": null,
      "outputs": []
    },
    {
      "cell_type": "code",
      "metadata": {
        "id": "eWWEdSEiHORn"
      },
      "source": [
        "df"
      ],
      "execution_count": null,
      "outputs": []
    },
    {
      "cell_type": "code",
      "metadata": {
        "id": "Sr2H9siYHPOh"
      },
      "source": [
        "del df['Ejerc2'] # borra la columna \"Ejerc2\"\n",
        "df"
      ],
      "execution_count": null,
      "outputs": []
    },
    {
      "cell_type": "code",
      "metadata": {
        "id": "FtiXb1PUHVuX"
      },
      "source": [
        "df.loc[\"Daniel\"]"
      ],
      "execution_count": null,
      "outputs": []
    },
    {
      "cell_type": "code",
      "metadata": {
        "id": "xMCF2ECSHZ-f"
      },
      "source": [
        "df[\"uno\"]=1\n",
        "df['los_3_primeros'] = df['uno'][:3]  # Los tres primero son los que ocupan las posiciones del index 0, 1 y 2 (recordar que Python empieza a contar desde el cero)\n",
        "df"
      ],
      "execution_count": null,
      "outputs": []
    },
    {
      "cell_type": "markdown",
      "metadata": {
        "id": "53hdcTqfIY7F"
      },
      "source": [
        "#### **Ejercicio 1**\n",
        "\n",
        "Calcular y visualizar las tasas de crecimiento intertrimestrales e interanuales del PIB, para analizar la evolución del ciclo económico en la economía española desde el 1Trim 2021 al último disponible.  \n",
        "Tareas necesarias para realizar el ejercicio:  \n",
        "1. Descargar los datos del INE.\n",
        "2. Preparar los datos en Excel para importarlos desde ```Pandas```.\n",
        "3. Importar los datos.\n",
        "4. Realizar los cálculos.\n",
        "5. Visualizar las series calculadas."
      ]
    },
    {
      "cell_type": "markdown",
      "source": [
        "1. Descargar los datos del INE.\n",
        "\n",
        "* Vamos a la página del INE => Estadísticas => Economía => Cuentas Económicas => Contabilidad nacional trimestral de España: principales agregados (CNTR) => Resultados => Series de resultados detallados => PIB y sus componentes  \n",
        "\n",
        "* Como queremos analizar la evolución del ciclo económico, seleccionamos el PIB en índice de volumen, lo que nos permitirá calcular su variación *real*.  \n",
        "\n",
        "* Seleccionamos datos ajustados por estacionalidad y calendario, PIB a precios de mercado, dato base y todo los periodos (clicamos también en el icono A/Z con flecha hacia abajo para que las fechas aparezcan ordenadas de más lejana a más reciente). También ordenamos debajo cómo queremos que aparezcan los datos en la tabla.  \n",
        "<br />\n",
        "\n",
        "<img src=\"https://github.com/otoperalias/Coyuntura/blob/main/clases/images/Tema2_I_fig1.jpg?raw=true\" alt=\"drawing\" width=\"950\"/>\n",
        "\n",
        "<br />\n",
        "\n",
        "* A continuación, seleccionamos descargar los datos y los guardamos en formato de archivo Excel.\n",
        "\n",
        "<br />\n",
        "\n",
        "<img src=\"https://github.com/otoperalias/Coyuntura/blob/main/clases/images/Tema2_I_fig2.jpg?raw=true\" alt=\"drawing\" width=\"350\"/>"
      ],
      "metadata": {
        "id": "8-mR3JUADCL6"
      }
    },
    {
      "cell_type": "markdown",
      "source": [
        "2. Preparar los datos en Excel para importarlos desde ```Pandas```.\n",
        "\n",
        "* Cuando se está empezando a usar ```Pandas```, es aconsejable preparar los datos en Excel antes de importarlos. No obstante, si esta operación se va a repetir con frecuencia (porque por ej. sea parte del flujo de tareas necesario para realizar un informe), es mejor hacerla en ```Python```, es decir, importar la tabla tal y como la descargamos del INE y procesarla en ```Python```.\n",
        "\n",
        "* La siguiente imagen muestra cómo se preparan los datos:\n",
        "\n",
        "<br />\n",
        "<img src=\"https://github.com/otoperalias/Coyuntura/blob/main/clases/images/Tema2_I_fig3.jpg?raw=true\" alt=\"drawing\" width=\"750\"/>\n",
        "\n",
        "<br />\n",
        "\n",
        "* **Preparar la columna de las fechas es clave**:  \n",
        "  1. Si se trata de datos con frecuencia trimestral, el formato debe ser ```XXXXQX```, donde XXXX hace referencia al año y X al trimestre (1, 2, 3, 4).\n",
        "  2. Si la frecuencia es mensual, el formato debe ser ```XXXX-XX```, donde XXXX hace referencia al año y XX al mes (01, 02, 03, ...)."
      ],
      "metadata": {
        "id": "aIzsniZRHGk8"
      }
    },
    {
      "cell_type": "markdown",
      "source": [
        "3. Ahora ya podemos importar los datos:"
      ],
      "metadata": {
        "id": "-mECDywuMshP"
      }
    },
    {
      "cell_type": "code",
      "metadata": {
        "id": "XYhDLN9wHq9H"
      },
      "source": [
        "# Cargamos los datos\n",
        "from google.colab import files\n",
        "files.upload()"
      ],
      "execution_count": null,
      "outputs": []
    },
    {
      "cell_type": "code",
      "metadata": {
        "id": "dEjRAi9KKf6H",
        "outputId": "ca8047ae-33eb-4f18-faf4-f8c7eec2c79f",
        "colab": {
          "base_uri": "https://localhost:8080/",
          "height": 519
        }
      },
      "source": [
        "# Importamos los datos en Pandas\n",
        "import pandas as pd\n",
        "data=pd.read_excel(\"PIB volumen -pandas.xlsx\", index_col=0, parse_dates=True)\n",
        "# Visualizamos la tabla\n",
        "data"
      ],
      "execution_count": 9,
      "outputs": [
        {
          "output_type": "execute_result",
          "data": {
            "text/plain": [
              "                 pib\n",
              "Trim                \n",
              "2020-01-01  105.0227\n",
              "2020-04-01   86.3010\n",
              "2020-07-01  100.6595\n",
              "2020-10-01  100.6004\n",
              "2021-01-01  100.3702\n",
              "2021-04-01  101.7276\n",
              "2021-07-01  104.8892\n",
              "2021-10-01  107.2655\n",
              "2022-01-01  106.6498\n",
              "2022-04-01  109.6274\n",
              "2022-07-01  110.0517\n",
              "2022-10-01  110.5075\n",
              "2023-01-01  111.0823\n",
              "2023-04-01  111.5494"
            ],
            "text/html": [
              "\n",
              "  <div id=\"df-c95354af-5256-4305-8ce9-7c6ea2429e46\" class=\"colab-df-container\">\n",
              "    <div>\n",
              "<style scoped>\n",
              "    .dataframe tbody tr th:only-of-type {\n",
              "        vertical-align: middle;\n",
              "    }\n",
              "\n",
              "    .dataframe tbody tr th {\n",
              "        vertical-align: top;\n",
              "    }\n",
              "\n",
              "    .dataframe thead th {\n",
              "        text-align: right;\n",
              "    }\n",
              "</style>\n",
              "<table border=\"1\" class=\"dataframe\">\n",
              "  <thead>\n",
              "    <tr style=\"text-align: right;\">\n",
              "      <th></th>\n",
              "      <th>pib</th>\n",
              "    </tr>\n",
              "    <tr>\n",
              "      <th>Trim</th>\n",
              "      <th></th>\n",
              "    </tr>\n",
              "  </thead>\n",
              "  <tbody>\n",
              "    <tr>\n",
              "      <th>2020-01-01</th>\n",
              "      <td>105.0227</td>\n",
              "    </tr>\n",
              "    <tr>\n",
              "      <th>2020-04-01</th>\n",
              "      <td>86.3010</td>\n",
              "    </tr>\n",
              "    <tr>\n",
              "      <th>2020-07-01</th>\n",
              "      <td>100.6595</td>\n",
              "    </tr>\n",
              "    <tr>\n",
              "      <th>2020-10-01</th>\n",
              "      <td>100.6004</td>\n",
              "    </tr>\n",
              "    <tr>\n",
              "      <th>2021-01-01</th>\n",
              "      <td>100.3702</td>\n",
              "    </tr>\n",
              "    <tr>\n",
              "      <th>2021-04-01</th>\n",
              "      <td>101.7276</td>\n",
              "    </tr>\n",
              "    <tr>\n",
              "      <th>2021-07-01</th>\n",
              "      <td>104.8892</td>\n",
              "    </tr>\n",
              "    <tr>\n",
              "      <th>2021-10-01</th>\n",
              "      <td>107.2655</td>\n",
              "    </tr>\n",
              "    <tr>\n",
              "      <th>2022-01-01</th>\n",
              "      <td>106.6498</td>\n",
              "    </tr>\n",
              "    <tr>\n",
              "      <th>2022-04-01</th>\n",
              "      <td>109.6274</td>\n",
              "    </tr>\n",
              "    <tr>\n",
              "      <th>2022-07-01</th>\n",
              "      <td>110.0517</td>\n",
              "    </tr>\n",
              "    <tr>\n",
              "      <th>2022-10-01</th>\n",
              "      <td>110.5075</td>\n",
              "    </tr>\n",
              "    <tr>\n",
              "      <th>2023-01-01</th>\n",
              "      <td>111.0823</td>\n",
              "    </tr>\n",
              "    <tr>\n",
              "      <th>2023-04-01</th>\n",
              "      <td>111.5494</td>\n",
              "    </tr>\n",
              "  </tbody>\n",
              "</table>\n",
              "</div>\n",
              "    <div class=\"colab-df-buttons\">\n",
              "\n",
              "  <div class=\"colab-df-container\">\n",
              "    <button class=\"colab-df-convert\" onclick=\"convertToInteractive('df-c95354af-5256-4305-8ce9-7c6ea2429e46')\"\n",
              "            title=\"Convert this dataframe to an interactive table.\"\n",
              "            style=\"display:none;\">\n",
              "\n",
              "  <svg xmlns=\"http://www.w3.org/2000/svg\" height=\"24px\" viewBox=\"0 -960 960 960\">\n",
              "    <path d=\"M120-120v-720h720v720H120Zm60-500h600v-160H180v160Zm220 220h160v-160H400v160Zm0 220h160v-160H400v160ZM180-400h160v-160H180v160Zm440 0h160v-160H620v160ZM180-180h160v-160H180v160Zm440 0h160v-160H620v160Z\"/>\n",
              "  </svg>\n",
              "    </button>\n",
              "\n",
              "  <style>\n",
              "    .colab-df-container {\n",
              "      display:flex;\n",
              "      gap: 12px;\n",
              "    }\n",
              "\n",
              "    .colab-df-convert {\n",
              "      background-color: #E8F0FE;\n",
              "      border: none;\n",
              "      border-radius: 50%;\n",
              "      cursor: pointer;\n",
              "      display: none;\n",
              "      fill: #1967D2;\n",
              "      height: 32px;\n",
              "      padding: 0 0 0 0;\n",
              "      width: 32px;\n",
              "    }\n",
              "\n",
              "    .colab-df-convert:hover {\n",
              "      background-color: #E2EBFA;\n",
              "      box-shadow: 0px 1px 2px rgba(60, 64, 67, 0.3), 0px 1px 3px 1px rgba(60, 64, 67, 0.15);\n",
              "      fill: #174EA6;\n",
              "    }\n",
              "\n",
              "    .colab-df-buttons div {\n",
              "      margin-bottom: 4px;\n",
              "    }\n",
              "\n",
              "    [theme=dark] .colab-df-convert {\n",
              "      background-color: #3B4455;\n",
              "      fill: #D2E3FC;\n",
              "    }\n",
              "\n",
              "    [theme=dark] .colab-df-convert:hover {\n",
              "      background-color: #434B5C;\n",
              "      box-shadow: 0px 1px 3px 1px rgba(0, 0, 0, 0.15);\n",
              "      filter: drop-shadow(0px 1px 2px rgba(0, 0, 0, 0.3));\n",
              "      fill: #FFFFFF;\n",
              "    }\n",
              "  </style>\n",
              "\n",
              "    <script>\n",
              "      const buttonEl =\n",
              "        document.querySelector('#df-c95354af-5256-4305-8ce9-7c6ea2429e46 button.colab-df-convert');\n",
              "      buttonEl.style.display =\n",
              "        google.colab.kernel.accessAllowed ? 'block' : 'none';\n",
              "\n",
              "      async function convertToInteractive(key) {\n",
              "        const element = document.querySelector('#df-c95354af-5256-4305-8ce9-7c6ea2429e46');\n",
              "        const dataTable =\n",
              "          await google.colab.kernel.invokeFunction('convertToInteractive',\n",
              "                                                    [key], {});\n",
              "        if (!dataTable) return;\n",
              "\n",
              "        const docLinkHtml = 'Like what you see? Visit the ' +\n",
              "          '<a target=\"_blank\" href=https://colab.research.google.com/notebooks/data_table.ipynb>data table notebook</a>'\n",
              "          + ' to learn more about interactive tables.';\n",
              "        element.innerHTML = '';\n",
              "        dataTable['output_type'] = 'display_data';\n",
              "        await google.colab.output.renderOutput(dataTable, element);\n",
              "        const docLink = document.createElement('div');\n",
              "        docLink.innerHTML = docLinkHtml;\n",
              "        element.appendChild(docLink);\n",
              "      }\n",
              "    </script>\n",
              "  </div>\n",
              "\n",
              "\n",
              "<div id=\"df-3775d8d7-6b62-4fa5-b2a8-672ce5aa20e9\">\n",
              "  <button class=\"colab-df-quickchart\" onclick=\"quickchart('df-3775d8d7-6b62-4fa5-b2a8-672ce5aa20e9')\"\n",
              "            title=\"Suggest charts.\"\n",
              "            style=\"display:none;\">\n",
              "\n",
              "<svg xmlns=\"http://www.w3.org/2000/svg\" height=\"24px\"viewBox=\"0 0 24 24\"\n",
              "     width=\"24px\">\n",
              "    <g>\n",
              "        <path d=\"M19 3H5c-1.1 0-2 .9-2 2v14c0 1.1.9 2 2 2h14c1.1 0 2-.9 2-2V5c0-1.1-.9-2-2-2zM9 17H7v-7h2v7zm4 0h-2V7h2v10zm4 0h-2v-4h2v4z\"/>\n",
              "    </g>\n",
              "</svg>\n",
              "  </button>\n",
              "\n",
              "<style>\n",
              "  .colab-df-quickchart {\n",
              "      --bg-color: #E8F0FE;\n",
              "      --fill-color: #1967D2;\n",
              "      --hover-bg-color: #E2EBFA;\n",
              "      --hover-fill-color: #174EA6;\n",
              "      --disabled-fill-color: #AAA;\n",
              "      --disabled-bg-color: #DDD;\n",
              "  }\n",
              "\n",
              "  [theme=dark] .colab-df-quickchart {\n",
              "      --bg-color: #3B4455;\n",
              "      --fill-color: #D2E3FC;\n",
              "      --hover-bg-color: #434B5C;\n",
              "      --hover-fill-color: #FFFFFF;\n",
              "      --disabled-bg-color: #3B4455;\n",
              "      --disabled-fill-color: #666;\n",
              "  }\n",
              "\n",
              "  .colab-df-quickchart {\n",
              "    background-color: var(--bg-color);\n",
              "    border: none;\n",
              "    border-radius: 50%;\n",
              "    cursor: pointer;\n",
              "    display: none;\n",
              "    fill: var(--fill-color);\n",
              "    height: 32px;\n",
              "    padding: 0;\n",
              "    width: 32px;\n",
              "  }\n",
              "\n",
              "  .colab-df-quickchart:hover {\n",
              "    background-color: var(--hover-bg-color);\n",
              "    box-shadow: 0 1px 2px rgba(60, 64, 67, 0.3), 0 1px 3px 1px rgba(60, 64, 67, 0.15);\n",
              "    fill: var(--button-hover-fill-color);\n",
              "  }\n",
              "\n",
              "  .colab-df-quickchart-complete:disabled,\n",
              "  .colab-df-quickchart-complete:disabled:hover {\n",
              "    background-color: var(--disabled-bg-color);\n",
              "    fill: var(--disabled-fill-color);\n",
              "    box-shadow: none;\n",
              "  }\n",
              "\n",
              "  .colab-df-spinner {\n",
              "    border: 2px solid var(--fill-color);\n",
              "    border-color: transparent;\n",
              "    border-bottom-color: var(--fill-color);\n",
              "    animation:\n",
              "      spin 1s steps(1) infinite;\n",
              "  }\n",
              "\n",
              "  @keyframes spin {\n",
              "    0% {\n",
              "      border-color: transparent;\n",
              "      border-bottom-color: var(--fill-color);\n",
              "      border-left-color: var(--fill-color);\n",
              "    }\n",
              "    20% {\n",
              "      border-color: transparent;\n",
              "      border-left-color: var(--fill-color);\n",
              "      border-top-color: var(--fill-color);\n",
              "    }\n",
              "    30% {\n",
              "      border-color: transparent;\n",
              "      border-left-color: var(--fill-color);\n",
              "      border-top-color: var(--fill-color);\n",
              "      border-right-color: var(--fill-color);\n",
              "    }\n",
              "    40% {\n",
              "      border-color: transparent;\n",
              "      border-right-color: var(--fill-color);\n",
              "      border-top-color: var(--fill-color);\n",
              "    }\n",
              "    60% {\n",
              "      border-color: transparent;\n",
              "      border-right-color: var(--fill-color);\n",
              "    }\n",
              "    80% {\n",
              "      border-color: transparent;\n",
              "      border-right-color: var(--fill-color);\n",
              "      border-bottom-color: var(--fill-color);\n",
              "    }\n",
              "    90% {\n",
              "      border-color: transparent;\n",
              "      border-bottom-color: var(--fill-color);\n",
              "    }\n",
              "  }\n",
              "</style>\n",
              "\n",
              "  <script>\n",
              "    async function quickchart(key) {\n",
              "      const quickchartButtonEl =\n",
              "        document.querySelector('#' + key + ' button');\n",
              "      quickchartButtonEl.disabled = true;  // To prevent multiple clicks.\n",
              "      quickchartButtonEl.classList.add('colab-df-spinner');\n",
              "      try {\n",
              "        const charts = await google.colab.kernel.invokeFunction(\n",
              "            'suggestCharts', [key], {});\n",
              "      } catch (error) {\n",
              "        console.error('Error during call to suggestCharts:', error);\n",
              "      }\n",
              "      quickchartButtonEl.classList.remove('colab-df-spinner');\n",
              "      quickchartButtonEl.classList.add('colab-df-quickchart-complete');\n",
              "    }\n",
              "    (() => {\n",
              "      let quickchartButtonEl =\n",
              "        document.querySelector('#df-3775d8d7-6b62-4fa5-b2a8-672ce5aa20e9 button');\n",
              "      quickchartButtonEl.style.display =\n",
              "        google.colab.kernel.accessAllowed ? 'block' : 'none';\n",
              "    })();\n",
              "  </script>\n",
              "</div>\n",
              "    </div>\n",
              "  </div>\n"
            ]
          },
          "metadata": {},
          "execution_count": 9
        }
      ]
    },
    {
      "cell_type": "markdown",
      "source": [
        "4. Realizar los cálculos:"
      ],
      "metadata": {
        "id": "NCiVYKDyNU_O"
      }
    },
    {
      "cell_type": "markdown",
      "source": [
        "4.1. Primero calculamos la tasa de variación intertrimestral"
      ],
      "metadata": {
        "id": "-yEJwpTiNeT1"
      }
    },
    {
      "cell_type": "code",
      "metadata": {
        "id": "G_XRP339LJhE",
        "outputId": "bc87f632-6bc3-40cd-dcd7-118a8eaf2492",
        "colab": {
          "base_uri": "https://localhost:8080/",
          "height": 519
        }
      },
      "source": [
        "# Calculamos las primeras diferencias (es decir, valor(t)-valor(t-1)) gracias a la función .diff que lo hace automáticamente.\n",
        "# O sea, aquí se calcula la variación de un trimestre a otro.\n",
        "data['dif_trim'] = data.diff()\n",
        "data"
      ],
      "execution_count": 10,
      "outputs": [
        {
          "output_type": "execute_result",
          "data": {
            "text/plain": [
              "                 pib  dif_trim\n",
              "Trim                          \n",
              "2020-01-01  105.0227       NaN\n",
              "2020-04-01   86.3010  -18.7217\n",
              "2020-07-01  100.6595   14.3585\n",
              "2020-10-01  100.6004   -0.0591\n",
              "2021-01-01  100.3702   -0.2302\n",
              "2021-04-01  101.7276    1.3574\n",
              "2021-07-01  104.8892    3.1616\n",
              "2021-10-01  107.2655    2.3763\n",
              "2022-01-01  106.6498   -0.6157\n",
              "2022-04-01  109.6274    2.9776\n",
              "2022-07-01  110.0517    0.4243\n",
              "2022-10-01  110.5075    0.4558\n",
              "2023-01-01  111.0823    0.5748\n",
              "2023-04-01  111.5494    0.4671"
            ],
            "text/html": [
              "\n",
              "  <div id=\"df-8c0c2afd-e46b-4d94-ba44-bc70d5d065c6\" class=\"colab-df-container\">\n",
              "    <div>\n",
              "<style scoped>\n",
              "    .dataframe tbody tr th:only-of-type {\n",
              "        vertical-align: middle;\n",
              "    }\n",
              "\n",
              "    .dataframe tbody tr th {\n",
              "        vertical-align: top;\n",
              "    }\n",
              "\n",
              "    .dataframe thead th {\n",
              "        text-align: right;\n",
              "    }\n",
              "</style>\n",
              "<table border=\"1\" class=\"dataframe\">\n",
              "  <thead>\n",
              "    <tr style=\"text-align: right;\">\n",
              "      <th></th>\n",
              "      <th>pib</th>\n",
              "      <th>dif_trim</th>\n",
              "    </tr>\n",
              "    <tr>\n",
              "      <th>Trim</th>\n",
              "      <th></th>\n",
              "      <th></th>\n",
              "    </tr>\n",
              "  </thead>\n",
              "  <tbody>\n",
              "    <tr>\n",
              "      <th>2020-01-01</th>\n",
              "      <td>105.0227</td>\n",
              "      <td>NaN</td>\n",
              "    </tr>\n",
              "    <tr>\n",
              "      <th>2020-04-01</th>\n",
              "      <td>86.3010</td>\n",
              "      <td>-18.7217</td>\n",
              "    </tr>\n",
              "    <tr>\n",
              "      <th>2020-07-01</th>\n",
              "      <td>100.6595</td>\n",
              "      <td>14.3585</td>\n",
              "    </tr>\n",
              "    <tr>\n",
              "      <th>2020-10-01</th>\n",
              "      <td>100.6004</td>\n",
              "      <td>-0.0591</td>\n",
              "    </tr>\n",
              "    <tr>\n",
              "      <th>2021-01-01</th>\n",
              "      <td>100.3702</td>\n",
              "      <td>-0.2302</td>\n",
              "    </tr>\n",
              "    <tr>\n",
              "      <th>2021-04-01</th>\n",
              "      <td>101.7276</td>\n",
              "      <td>1.3574</td>\n",
              "    </tr>\n",
              "    <tr>\n",
              "      <th>2021-07-01</th>\n",
              "      <td>104.8892</td>\n",
              "      <td>3.1616</td>\n",
              "    </tr>\n",
              "    <tr>\n",
              "      <th>2021-10-01</th>\n",
              "      <td>107.2655</td>\n",
              "      <td>2.3763</td>\n",
              "    </tr>\n",
              "    <tr>\n",
              "      <th>2022-01-01</th>\n",
              "      <td>106.6498</td>\n",
              "      <td>-0.6157</td>\n",
              "    </tr>\n",
              "    <tr>\n",
              "      <th>2022-04-01</th>\n",
              "      <td>109.6274</td>\n",
              "      <td>2.9776</td>\n",
              "    </tr>\n",
              "    <tr>\n",
              "      <th>2022-07-01</th>\n",
              "      <td>110.0517</td>\n",
              "      <td>0.4243</td>\n",
              "    </tr>\n",
              "    <tr>\n",
              "      <th>2022-10-01</th>\n",
              "      <td>110.5075</td>\n",
              "      <td>0.4558</td>\n",
              "    </tr>\n",
              "    <tr>\n",
              "      <th>2023-01-01</th>\n",
              "      <td>111.0823</td>\n",
              "      <td>0.5748</td>\n",
              "    </tr>\n",
              "    <tr>\n",
              "      <th>2023-04-01</th>\n",
              "      <td>111.5494</td>\n",
              "      <td>0.4671</td>\n",
              "    </tr>\n",
              "  </tbody>\n",
              "</table>\n",
              "</div>\n",
              "    <div class=\"colab-df-buttons\">\n",
              "\n",
              "  <div class=\"colab-df-container\">\n",
              "    <button class=\"colab-df-convert\" onclick=\"convertToInteractive('df-8c0c2afd-e46b-4d94-ba44-bc70d5d065c6')\"\n",
              "            title=\"Convert this dataframe to an interactive table.\"\n",
              "            style=\"display:none;\">\n",
              "\n",
              "  <svg xmlns=\"http://www.w3.org/2000/svg\" height=\"24px\" viewBox=\"0 -960 960 960\">\n",
              "    <path d=\"M120-120v-720h720v720H120Zm60-500h600v-160H180v160Zm220 220h160v-160H400v160Zm0 220h160v-160H400v160ZM180-400h160v-160H180v160Zm440 0h160v-160H620v160ZM180-180h160v-160H180v160Zm440 0h160v-160H620v160Z\"/>\n",
              "  </svg>\n",
              "    </button>\n",
              "\n",
              "  <style>\n",
              "    .colab-df-container {\n",
              "      display:flex;\n",
              "      gap: 12px;\n",
              "    }\n",
              "\n",
              "    .colab-df-convert {\n",
              "      background-color: #E8F0FE;\n",
              "      border: none;\n",
              "      border-radius: 50%;\n",
              "      cursor: pointer;\n",
              "      display: none;\n",
              "      fill: #1967D2;\n",
              "      height: 32px;\n",
              "      padding: 0 0 0 0;\n",
              "      width: 32px;\n",
              "    }\n",
              "\n",
              "    .colab-df-convert:hover {\n",
              "      background-color: #E2EBFA;\n",
              "      box-shadow: 0px 1px 2px rgba(60, 64, 67, 0.3), 0px 1px 3px 1px rgba(60, 64, 67, 0.15);\n",
              "      fill: #174EA6;\n",
              "    }\n",
              "\n",
              "    .colab-df-buttons div {\n",
              "      margin-bottom: 4px;\n",
              "    }\n",
              "\n",
              "    [theme=dark] .colab-df-convert {\n",
              "      background-color: #3B4455;\n",
              "      fill: #D2E3FC;\n",
              "    }\n",
              "\n",
              "    [theme=dark] .colab-df-convert:hover {\n",
              "      background-color: #434B5C;\n",
              "      box-shadow: 0px 1px 3px 1px rgba(0, 0, 0, 0.15);\n",
              "      filter: drop-shadow(0px 1px 2px rgba(0, 0, 0, 0.3));\n",
              "      fill: #FFFFFF;\n",
              "    }\n",
              "  </style>\n",
              "\n",
              "    <script>\n",
              "      const buttonEl =\n",
              "        document.querySelector('#df-8c0c2afd-e46b-4d94-ba44-bc70d5d065c6 button.colab-df-convert');\n",
              "      buttonEl.style.display =\n",
              "        google.colab.kernel.accessAllowed ? 'block' : 'none';\n",
              "\n",
              "      async function convertToInteractive(key) {\n",
              "        const element = document.querySelector('#df-8c0c2afd-e46b-4d94-ba44-bc70d5d065c6');\n",
              "        const dataTable =\n",
              "          await google.colab.kernel.invokeFunction('convertToInteractive',\n",
              "                                                    [key], {});\n",
              "        if (!dataTable) return;\n",
              "\n",
              "        const docLinkHtml = 'Like what you see? Visit the ' +\n",
              "          '<a target=\"_blank\" href=https://colab.research.google.com/notebooks/data_table.ipynb>data table notebook</a>'\n",
              "          + ' to learn more about interactive tables.';\n",
              "        element.innerHTML = '';\n",
              "        dataTable['output_type'] = 'display_data';\n",
              "        await google.colab.output.renderOutput(dataTable, element);\n",
              "        const docLink = document.createElement('div');\n",
              "        docLink.innerHTML = docLinkHtml;\n",
              "        element.appendChild(docLink);\n",
              "      }\n",
              "    </script>\n",
              "  </div>\n",
              "\n",
              "\n",
              "<div id=\"df-5a7f81cc-18df-4743-a673-91785850cbea\">\n",
              "  <button class=\"colab-df-quickchart\" onclick=\"quickchart('df-5a7f81cc-18df-4743-a673-91785850cbea')\"\n",
              "            title=\"Suggest charts.\"\n",
              "            style=\"display:none;\">\n",
              "\n",
              "<svg xmlns=\"http://www.w3.org/2000/svg\" height=\"24px\"viewBox=\"0 0 24 24\"\n",
              "     width=\"24px\">\n",
              "    <g>\n",
              "        <path d=\"M19 3H5c-1.1 0-2 .9-2 2v14c0 1.1.9 2 2 2h14c1.1 0 2-.9 2-2V5c0-1.1-.9-2-2-2zM9 17H7v-7h2v7zm4 0h-2V7h2v10zm4 0h-2v-4h2v4z\"/>\n",
              "    </g>\n",
              "</svg>\n",
              "  </button>\n",
              "\n",
              "<style>\n",
              "  .colab-df-quickchart {\n",
              "      --bg-color: #E8F0FE;\n",
              "      --fill-color: #1967D2;\n",
              "      --hover-bg-color: #E2EBFA;\n",
              "      --hover-fill-color: #174EA6;\n",
              "      --disabled-fill-color: #AAA;\n",
              "      --disabled-bg-color: #DDD;\n",
              "  }\n",
              "\n",
              "  [theme=dark] .colab-df-quickchart {\n",
              "      --bg-color: #3B4455;\n",
              "      --fill-color: #D2E3FC;\n",
              "      --hover-bg-color: #434B5C;\n",
              "      --hover-fill-color: #FFFFFF;\n",
              "      --disabled-bg-color: #3B4455;\n",
              "      --disabled-fill-color: #666;\n",
              "  }\n",
              "\n",
              "  .colab-df-quickchart {\n",
              "    background-color: var(--bg-color);\n",
              "    border: none;\n",
              "    border-radius: 50%;\n",
              "    cursor: pointer;\n",
              "    display: none;\n",
              "    fill: var(--fill-color);\n",
              "    height: 32px;\n",
              "    padding: 0;\n",
              "    width: 32px;\n",
              "  }\n",
              "\n",
              "  .colab-df-quickchart:hover {\n",
              "    background-color: var(--hover-bg-color);\n",
              "    box-shadow: 0 1px 2px rgba(60, 64, 67, 0.3), 0 1px 3px 1px rgba(60, 64, 67, 0.15);\n",
              "    fill: var(--button-hover-fill-color);\n",
              "  }\n",
              "\n",
              "  .colab-df-quickchart-complete:disabled,\n",
              "  .colab-df-quickchart-complete:disabled:hover {\n",
              "    background-color: var(--disabled-bg-color);\n",
              "    fill: var(--disabled-fill-color);\n",
              "    box-shadow: none;\n",
              "  }\n",
              "\n",
              "  .colab-df-spinner {\n",
              "    border: 2px solid var(--fill-color);\n",
              "    border-color: transparent;\n",
              "    border-bottom-color: var(--fill-color);\n",
              "    animation:\n",
              "      spin 1s steps(1) infinite;\n",
              "  }\n",
              "\n",
              "  @keyframes spin {\n",
              "    0% {\n",
              "      border-color: transparent;\n",
              "      border-bottom-color: var(--fill-color);\n",
              "      border-left-color: var(--fill-color);\n",
              "    }\n",
              "    20% {\n",
              "      border-color: transparent;\n",
              "      border-left-color: var(--fill-color);\n",
              "      border-top-color: var(--fill-color);\n",
              "    }\n",
              "    30% {\n",
              "      border-color: transparent;\n",
              "      border-left-color: var(--fill-color);\n",
              "      border-top-color: var(--fill-color);\n",
              "      border-right-color: var(--fill-color);\n",
              "    }\n",
              "    40% {\n",
              "      border-color: transparent;\n",
              "      border-right-color: var(--fill-color);\n",
              "      border-top-color: var(--fill-color);\n",
              "    }\n",
              "    60% {\n",
              "      border-color: transparent;\n",
              "      border-right-color: var(--fill-color);\n",
              "    }\n",
              "    80% {\n",
              "      border-color: transparent;\n",
              "      border-right-color: var(--fill-color);\n",
              "      border-bottom-color: var(--fill-color);\n",
              "    }\n",
              "    90% {\n",
              "      border-color: transparent;\n",
              "      border-bottom-color: var(--fill-color);\n",
              "    }\n",
              "  }\n",
              "</style>\n",
              "\n",
              "  <script>\n",
              "    async function quickchart(key) {\n",
              "      const quickchartButtonEl =\n",
              "        document.querySelector('#' + key + ' button');\n",
              "      quickchartButtonEl.disabled = true;  // To prevent multiple clicks.\n",
              "      quickchartButtonEl.classList.add('colab-df-spinner');\n",
              "      try {\n",
              "        const charts = await google.colab.kernel.invokeFunction(\n",
              "            'suggestCharts', [key], {});\n",
              "      } catch (error) {\n",
              "        console.error('Error during call to suggestCharts:', error);\n",
              "      }\n",
              "      quickchartButtonEl.classList.remove('colab-df-spinner');\n",
              "      quickchartButtonEl.classList.add('colab-df-quickchart-complete');\n",
              "    }\n",
              "    (() => {\n",
              "      let quickchartButtonEl =\n",
              "        document.querySelector('#df-5a7f81cc-18df-4743-a673-91785850cbea button');\n",
              "      quickchartButtonEl.style.display =\n",
              "        google.colab.kernel.accessAllowed ? 'block' : 'none';\n",
              "    })();\n",
              "  </script>\n",
              "</div>\n",
              "    </div>\n",
              "  </div>\n"
            ]
          },
          "metadata": {},
          "execution_count": 10
        }
      ]
    },
    {
      "cell_type": "code",
      "metadata": {
        "id": "3SKlKW90LKhf"
      },
      "source": [
        "# Dividimos diff/valor(t-1) y calculamos así la tasa de variación\n",
        "tv=diff/data.shift(1)\n",
        "tv"
      ],
      "execution_count": null,
      "outputs": []
    },
    {
      "cell_type": "code",
      "metadata": {
        "id": "z9iSLChrMs45"
      },
      "source": [
        "# con .shift(1) desplazamos cada fila en data una fila hacia abajo. Si no, estaríamos dividiendo diff/valor(t)\n",
        "data.shift(1)"
      ],
      "execution_count": null,
      "outputs": []
    },
    {
      "cell_type": "code",
      "metadata": {
        "id": "381K0jB3MtUB"
      },
      "source": [
        "# Calculamos los pesos\n",
        "weights = data.div(data[\"pib\"], axis=0) # dividimos cada valor por el valor correspondiente en la columna \"pib\".\n",
        "weights"
      ],
      "execution_count": null,
      "outputs": []
    },
    {
      "cell_type": "code",
      "metadata": {
        "id": "xJSOJMuSNIMM"
      },
      "source": [
        "# Podemos comprobar que los pesos son correctos y suman 1:\n",
        "weights.loc[:,\"agric\":\"impn\"].sum(axis=1) #Notar que en sum se pone axis=1 porque queremos que se sumen columnas no filas."
      ],
      "execution_count": null,
      "outputs": []
    },
    {
      "cell_type": "code",
      "metadata": {
        "id": "7KkzuL2fNOHf"
      },
      "source": [
        "# Finalmente, calculamos la contribución al crecimiento\n",
        "contrib=tv*weights.shift(1)*100  #Notar que tv corresponde al periodo t mientras que los pesos a t-1\n",
        "contrib"
      ],
      "execution_count": null,
      "outputs": []
    },
    {
      "cell_type": "code",
      "metadata": {
        "id": "84xR2SXNNeVv"
      },
      "source": [
        "# Y dibujamos el gráfico\n",
        "contrib.index=contrib.index.strftime('%m/%Y')  # Para poner las fechas en formato apropiado.\n",
        "contrib.loc[:,\"agric\":\"impn\"].plot(kind='bar', stacked=True)"
      ],
      "execution_count": null,
      "outputs": []
    }
  ]
}