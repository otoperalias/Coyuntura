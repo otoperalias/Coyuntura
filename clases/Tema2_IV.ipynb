{
  "nbformat": 4,
  "nbformat_minor": 0,
  "metadata": {
    "colab": {
      "provenance": [],
      "toc_visible": true,
      "authorship_tag": "ABX9TyNvswav4p4R80Onx5QROCF1",
      "include_colab_link": true
    },
    "kernelspec": {
      "name": "python3",
      "display_name": "Python 3"
    },
    "language_info": {
      "name": "python"
    }
  },
  "cells": [
    {
      "cell_type": "markdown",
      "metadata": {
        "id": "view-in-github",
        "colab_type": "text"
      },
      "source": [
        "<a href=\"https://colab.research.google.com/github/otoperalias/Coyuntura/blob/main/clases/Tema2_IV.ipynb\" target=\"_parent\"><img src=\"https://colab.research.google.com/assets/colab-badge.svg\" alt=\"Open In Colab\"/></a>"
      ]
    },
    {
      "cell_type": "markdown",
      "source": [
        "## Coyuntura en el mercado laboral\n",
        "\n",
        "En este notebook vamos a usar datos del mercado laboral para aprender a crear un informe de coyuntura. Como ejemplo, vamos hacer un informe de coyuntura para Sevilla."
      ],
      "metadata": {
        "id": "852MA2udGuWC"
      }
    },
    {
      "cell_type": "markdown",
      "source": [
        "### Fuentes estadísticas:\n",
        "* INE. En la sección de [Mercado Laboral](https://www.ine.es/dyngs/INEbase/es/categoria.htm?c=Estadistica_P&cid=1254735976594), cabe destacar las siguientes estadísticas para el análisis de coyuntura:\n",
        "  * [Encuesta de Población Activa (EPA)](https://www.ine.es/dyngs/INEbase/es/operacion.htm?c=Estadistica_C&cid=1254736176918&menu=ultiDatos&idp=1254735976595).\n",
        "  * [Encuesta trimestral de coste laboral](https://www.ine.es/dyngs/INEbase/es/operacion.htm?c=Estadistica_C&cid=1254736045053&menu=ultiDatos&idp=1254735976596).\n",
        "* Ministerio de Trabajo:\n",
        "  * [Estadística del Movimiento Laboral Registrado](https://www.mites.gob.es/es/estadisticas/mercado_trabajo/MLR/welcome.htm).\n",
        "* Seguridad Social:\n",
        "  * [Afiliaciones a la Seguridad Social](https://www.seg-social.es/wps/portal/wss/internet/EstadisticasPresupuestosEstudios/Estadisticas/EST8).\n",
        "\n",
        "*Para interpretar correctamente las variables, es fundamental conocer bien la metodología, en particular, qué miden exactamente. Así, no es comparable el concepto de \"parado registrado\" con el de \"parado\" de la EPA.*\n"
      ],
      "metadata": {
        "id": "rxzsFqfYHPWy"
      }
    },
    {
      "cell_type": "markdown",
      "source": [
        "### Diseño del informe.\n",
        "\n",
        "Para realizar el informe, primero tenemos que decidir qué variables queremos mostrar en el mismo. Dada la disponibilidad de datos a nivel provincial, vamos a incluir las siguientes variables en nuestro informe:\n",
        "1. Tasa de paro.\n",
        "2. Tasa de actividad y de ocupación.\n",
        "3. Volumen de afiliaciones a la Seguridad Social y su tasa de variación.\n",
        "4. Número de parados registrados y su tasa de variación.\n",
        "  \n",
        "En segundo lugar, tenemos que decidir el formato del informe. Para ello, es útil dibujar un borrador en un papel y así decidir el mejor diseño posible.  \n",
        "En este caso, vamos a crear un informe breve, con la extensión de una página A4. Lo vamos a hacer enteramente en ```matplotlib```. Vamos a estructurar en informe en una figura de 6 axes (3 filas x 2 columnas). Los primeros 5 axes van a contener gráficos, mientras el último una tabla."
      ],
      "metadata": {
        "id": "NPHbI1X-J0l0"
      }
    },
    {
      "cell_type": "markdown",
      "source": [
        "### Importamos librerías y datos:"
      ],
      "metadata": {
        "id": "c_qHoQDaO2D2"
      }
    },
    {
      "cell_type": "code",
      "source": [
        "import pandas as pd\n",
        "pd.set_option('display.max_row',50)\n",
        "pd.set_option('display.max_columns', 20)\n",
        "import matplotlib.pyplot as plt"
      ],
      "metadata": {
        "id": "hVpDIi0GHNk-"
      },
      "execution_count": 1,
      "outputs": []
    },
    {
      "cell_type": "markdown",
      "source": [
        "#### Series de la EPA\n",
        "En [EPA](https://www.ine.es/dyngs/INEbase/es/operacion.htm?c=Estadistica_C&cid=1254736176918&menu=ultiDatos&idp=1254735976595), hacemos clic en la siguiente secuencia: Resultados => Series desde el primer trimestre de 2002 => Resultados provinciales => Población en viviendas familiares (incluye parados) => Tasas de actividad, paro y empleo por provincia y sexo.  \n",
        "Entonces, hacemos la selección deseada: las tres tasas, Ambos sexos, Total Nacional y Sevilla, todos los periodos (ordenándolos haciendo clic en a/z) y le damos a la tabla el formato deseado (con los periodos en las filas).  \n",
        "Posteriormente, descargo el archivo en el formato \"Excel: extensión XLSx\", con el nombre de EPA_Sevilla, en cual lo subo a Google Colab y procedo a importar."
      ],
      "metadata": {
        "id": "_Oj3VlzESrGZ"
      }
    },
    {
      "cell_type": "code",
      "source": [
        "epa=pd.read_excel(\"EPA_Sevilla.xlsx\")"
      ],
      "metadata": {
        "id": "yUzwi5YqO9tP",
        "colab": {
          "base_uri": "https://localhost:8080/"
        },
        "outputId": "f210be6c-af52-4b96-a304-47d777123b74"
      },
      "execution_count": 2,
      "outputs": [
        {
          "output_type": "stream",
          "name": "stderr",
          "text": [
            "/usr/local/lib/python3.10/dist-packages/openpyxl/styles/stylesheet.py:226: UserWarning: Workbook contains no default style, apply openpyxl's default\n",
            "  warn(\"Workbook contains no default style, apply openpyxl's default\")\n"
          ]
        }
      ]
    },
    {
      "cell_type": "markdown",
      "source": [
        "Tras explorar brevemente la tabla (```epa[:20]```, ```epa[-20:]```), vemos que tenemos que hacer el siguiente procesamiento:"
      ],
      "metadata": {
        "id": "WRy9_YTiU7ci"
      }
    },
    {
      "cell_type": "code",
      "source": [
        "# 1. Nombrar cada columna de manera apropiada\n",
        "epa.rename(columns={\"Unnamed: 1\":\"TA_esp\",\n",
        "                    \"Unnamed: 2\":\"TA_sev\",\n",
        "                    \"Unnamed: 3\":\"TP_esp\",\n",
        "                    \"Unnamed: 4\":\"TP_sev\",\n",
        "                    \"Unnamed: 5\":\"TE_esp\",\n",
        "                    \"Unnamed: 6\":\"TE_sev\"}, inplace=True)\n",
        "# 2. Seleccionar las filas con datos (de index=8 a =93):\n",
        "epa=epa.iloc[8:94] # Hay que poner 94, porque la última no se incluye\n",
        "\n",
        "# 3. Crear una columna con el periodo, para convertirla en datetime y en el index.\n",
        "epa['periodo']=epa['Resultados provinciales'].str[:4]+\"Q\"+epa['Resultados provinciales'].str[-1:]\n",
        "epa['periodo']=pd.to_datetime(epa['periodo'])\n",
        "epa.set_index('periodo', inplace=True)\n",
        "\n",
        "# 4. Borramos columnas innecesarias\n",
        "epa.drop(columns='Resultados provinciales', inplace=True)"
      ],
      "metadata": {
        "id": "mxlGi9gcUkGP"
      },
      "execution_count": null,
      "outputs": []
    },
    {
      "cell_type": "code",
      "source": [
        "# Podemos dibujar un gráfico para ver que está todo bien.\n",
        "epa.plot()"
      ],
      "metadata": {
        "id": "Zcbkf3eMXyg_"
      },
      "execution_count": null,
      "outputs": []
    },
    {
      "cell_type": "markdown",
      "source": [
        "#### Parados registrados\n",
        "\n",
        "Los datos de demandantes de empleo parados (es decir, de parados registrados) están disponibles en [este enlace](https://www.sepe.es/HomeSepe/que-es-el-sepe/estadisticas/empleo/estadisticas-nuevas.html). Como puede apreciarse, es muy tedioso descargar mes a mes, aunque podría hacerse.  \n",
        "Para que aprendáis cómo podría hacerse mecánicamente, a continuación procedemos a extraer los datos necesarios directamente en Python.\n"
      ],
      "metadata": {
        "id": "Ie1WkPxMYbcJ"
      }
    },
    {
      "cell_type": "code",
      "source": [
        "# i. CREAMOS UN BUCLE PARA EXTRAER LOS DATOS DESEADOS\n",
        "\n",
        "meses={'enero':\"01\",'febrero':\"02\",'marzo':\"03\",'abril':\"04\",'mayo':\"05\",'junio':\"06\",'julio':\"07\",'agosto':\"08\",'septiembre':\"09\",'octubre':\"10\",'noviembre':\"11\",'diciembre':\"12\"}\n",
        "years=[\"2021\",\"2022\",\"2023\"]\n",
        "\n",
        "preg_fecha=[]\n",
        "preg_sev=[]\n",
        "preg_esp=[]\n",
        "\n",
        "for year in years:\n",
        "  for mes in meses:\n",
        "    link=\"https://www.sepe.es/SiteSepe/contenidos/que_es_el_sepe/estadisticas/datos_estadisticos/empleo/datos/\"+year+\"/\"+mes+\"_\"+year+\"/ESTADISTICA-DE-EMPLEO.xls\"\n",
        "    preg=pd.read_excel(link,sheet_name=\"6.2\")\n",
        "    fecha=year+\"-\"+meses[mes]\n",
        "    sev=preg.loc[preg[\"Unnamed: 1\"]==\"SEVILLA\",\"Unnamed: 2\"].iloc[0]\n",
        "    esp=preg.loc[preg[\"Unnamed: 1\"]==\"TOTAL ZONA GEOGRAFICA\",\"Unnamed: 2\"].iloc[0]\n",
        "    preg_fecha.append(fecha)\n",
        "    preg_sev.append(sev)\n",
        "    preg_esp.append(esp)\n",
        "    if fecha==\"2023-09\":\n",
        "      break\n",
        "\n",
        "# ii. CREAMOS UNA DATAFRAME A PARTIR DE LAS LISTAS\n",
        "\n",
        "diccionario={'fecha':preg_fecha,'sev':preg_sev, 'esp':preg_esp}\n",
        "parados=pd.DataFrame(diccionario)\n",
        "\n",
        "# iii. CONVERTIMOS LA FECHA EN \"DATETIME\" Y LO ESTABLECEMOS COMO INDEX\n",
        "parados['fecha']=pd.to_datetime(parados['fecha'])\n",
        "parados.set_index(\"fecha\", inplace=True)"
      ],
      "metadata": {
        "id": "Rnza3VacYKj_"
      },
      "execution_count": null,
      "outputs": []
    },
    {
      "cell_type": "code",
      "source": [
        "# Podemos dibujar un gráfico para ver que está todo bien.\n",
        "parados.plot()"
      ],
      "metadata": {
        "id": "bs3jDQaGW7xq"
      },
      "execution_count": null,
      "outputs": []
    },
    {
      "cell_type": "markdown",
      "source": [
        "#### Datos de afiliados a la SS\n",
        "\n",
        "En la página de las [estadísticas de afiliaciones](https://www.seg-social.es/wps/portal/wss/internet/EstadisticasPresupuestosEstudios/Estadisticas/EST8), hacemos click en la siguiente secuencia: Series PX-Web => Afiliados en alta laboral => Afiliados Fin de mes => 04f. Por provincia, seccion de actividad y regimen (RG y RETA) (Ultimo dia).  \n",
        "En este caso, los datos se pueden descargar cómodamente: seleccionamos todos los periodos, Total Nacional y Sevilla, \"Total Regímenes\" y Todas las secciones. Clicamos en CONTINUAR y luego hacemos clic en \"Pivotación manual\", para poner los periodos en las filas y los datos de España y Sevilla en las columnas.  \n",
        "Finalmente, en la barra de la izquierda, clicamos en **Grabar el resultados como...**, indicando *Excel formato ( csv)* y con el nombre \"Afiliados_Sevilla\"."
      ],
      "metadata": {
        "id": "ctLEH4V5Xd2t"
      }
    },
    {
      "cell_type": "code",
      "source": [
        "ss=pd.read_csv(\"Afiliados_Sevilla.csv\", sep=\";\",skiprows=1)\n",
        "ss"
      ],
      "metadata": {
        "id": "WUZ2Bys7qdgr"
      },
      "execution_count": null,
      "outputs": []
    },
    {
      "cell_type": "markdown",
      "source": [
        "Observamos que solo hay que poner la columna periodo en formato adecuado para establecerlo como datetime y posteriormente como index de la tabla. También parece conveniente renombrar las columnas, con nombres más cortos."
      ],
      "metadata": {
        "id": "S5kbifg8cYe4"
      }
    },
    {
      "cell_type": "code",
      "source": [
        "# Primero: convertimos la columna en string\n",
        "ss['Periodo']=ss['Periodo'].astype(str)\n",
        "# Segundo: le damos formato\n",
        "ss['Periodo']=ss['Periodo'].str[:4]+\"-\"+ss['Periodo'].str[-2:]\n",
        "# Tercero: convertimos en datetime\n",
        "ss['Periodo']=pd.to_datetime(ss['Periodo'])\n",
        "# Cuarto: convertimos en index.\n",
        "ss.set_index(\"Periodo\", inplace=True)\n",
        "# Quinto: renombramos columnas\n",
        "ss.rename(columns={'Total Regimenes(RG+RETA) TODAS LAS SECCIONES Total Nacional':\"esp\",\n",
        "                   'Total Regimenes(RG+RETA) TODAS LAS SECCIONES 41. Sevilla':\"sev\"},inplace=True)"
      ],
      "metadata": {
        "id": "2DPqNNZTt0AS"
      },
      "execution_count": 38,
      "outputs": []
    },
    {
      "cell_type": "code",
      "source": [
        "# Podemos dibujar un gráfico para ver que está todo bien.\n",
        "ss.plot()"
      ],
      "metadata": {
        "id": "F5ZqsrgbvFAw",
        "colab": {
          "base_uri": "https://localhost:8080/",
          "height": 482
        },
        "outputId": "d7319674-6d8c-4bd3-f559-995d3278d155"
      },
      "execution_count": 39,
      "outputs": [
        {
          "output_type": "execute_result",
          "data": {
            "text/plain": [
              "<Axes: xlabel='Periodo'>"
            ]
          },
          "metadata": {},
          "execution_count": 39
        },
        {
          "output_type": "display_data",
          "data": {
            "text/plain": [
              "<Figure size 640x480 with 1 Axes>"
            ],
            "image/png": "[encoded data removed]"
          },
          "metadata": {}
        }
      ]
    },
    {
      "cell_type": "markdown",
      "source": [
        "### Procesamos los datos que necesitamos\n",
        "\n",
        "* Las tasas de paro, actividad y empleo ya vienen calculadas y, por tanto, no hay que hacer nada con ellas.\n",
        "* Para parados registrados y afiliaciones, hay que calcular las tasas de variación interanuales."
      ],
      "metadata": {
        "id": "5ooreMF3eSwo"
      }
    },
    {
      "cell_type": "code",
      "source": [
        "parados_tv=(parados/parados.shift(12)-1)*100\n",
        "ss_tv=(ss/ss.shift(12)-1)*100"
      ],
      "metadata": {
        "id": "EBrTNEyxc1KW"
      },
      "execution_count": 41,
      "outputs": []
    },
    {
      "cell_type": "markdown",
      "source": [
        "Sobre todo cuando estamos aprendiendo a usar Python/Pandas, es conveniente comprobar que los cálculos son correctos:"
      ],
      "metadata": {
        "id": "dfy2TCKwe4hh"
      }
    },
    {
      "cell_type": "code",
      "source": [
        "# Tasa variación parados registrados Enero 2022, Sevilla:\n",
        "print(189779/230652-1)\n",
        "# Ídem en la nueva tabla:\n",
        "print(parados_tv.loc[\"2022-01\",\"sev\"].iloc[0])\n"
      ],
      "metadata": {
        "id": "0oWk3bPrdk1m",
        "outputId": "2f92983a-d4ef-4081-8694-26b9c53f0262",
        "colab": {
          "base_uri": "https://localhost:8080/"
        }
      },
      "execution_count": 47,
      "outputs": [
        {
          "output_type": "stream",
          "name": "stdout",
          "text": [
            "-0.1772063541612472\n",
            "-0.1772063541612472\n"
          ]
        }
      ]
    },
    {
      "cell_type": "markdown",
      "source": [
        "Ahora es necesario que preparemos la tabla que queremos incluir. La tabla va a mostrar los datos de los últimos 4 trimestres para Sevilla y España, para todas las variables.\n",
        "\n"
      ],
      "metadata": {
        "id": "i1b6tvh5ftZ8"
      }
    },
    {
      "cell_type": "code",
      "source": [],
      "metadata": {
        "id": "ro-8IcJEeufN"
      },
      "execution_count": null,
      "outputs": []
    }
  ]
}