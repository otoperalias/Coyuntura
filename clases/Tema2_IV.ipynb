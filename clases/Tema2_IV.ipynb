{
  "nbformat": 4,
  "nbformat_minor": 0,
  "metadata": {
    "colab": {
      "provenance": [],
      "authorship_tag": "ABX9TyNqd4VZVPzpkTIhsoU59zoO",
      "include_colab_link": true
    },
    "kernelspec": {
      "name": "python3",
      "display_name": "Python 3"
    },
    "language_info": {
      "name": "python"
    }
  },
  "cells": [
    {
      "cell_type": "markdown",
      "metadata": {
        "id": "view-in-github",
        "colab_type": "text"
      },
      "source": [
        "<a href=\"https://colab.research.google.com/github/otoperalias/Coyuntura/blob/main/clases/Tema2_IV.ipynb\" target=\"_parent\"><img src=\"https://colab.research.google.com/assets/colab-badge.svg\" alt=\"Open In Colab\"/></a>"
      ]
    },
    {
      "cell_type": "markdown",
      "source": [
        "## Coyuntura en el mercado laboral\n",
        "\n",
        "En este notebook vamos a usar datos del mercado laboral para aprender a crear un informe de coyuntura. Como ejemplo, vamos hacer un informe de coyuntura para Sevilla."
      ],
      "metadata": {
        "id": "852MA2udGuWC"
      }
    },
    {
      "cell_type": "markdown",
      "source": [
        "### Fuentes estadísticas:\n",
        "* INE. En la sección de [Mercado Laboral](https://www.ine.es/dyngs/INEbase/es/categoria.htm?c=Estadistica_P&cid=1254735976594), cabe destacar las siguientes estadísticas para el análisis de coyuntura:\n",
        "  * [Encuesta de Población Activa (EPA)](https://www.ine.es/dyngs/INEbase/es/operacion.htm?c=Estadistica_C&cid=1254736176918&menu=ultiDatos&idp=1254735976595).\n",
        "  * [Encuesta trimestral de coste laboral](https://www.ine.es/dyngs/INEbase/es/operacion.htm?c=Estadistica_C&cid=1254736045053&menu=ultiDatos&idp=1254735976596).\n",
        "* Ministerio de Trabajo:\n",
        "  * [Estadística del Movimiento Laboral Registrado](https://www.mites.gob.es/es/estadisticas/mercado_trabajo/MLR/welcome.htm).\n",
        "* Seguridad Social:\n",
        "  * [Afiliaciones a la Seguridad Social](https://www.seg-social.es/wps/portal/wss/internet/EstadisticasPresupuestosEstudios/Estadisticas/EST8).\n",
        "\n",
        "*Para interpretar correctamente las variables, es fundamental conocer bien la metodología, en particular, qué miden exactamente. Así, no es comparable el concepto de \"parado registrado\" con el de \"parado\" de la EPA.*\n"
      ],
      "metadata": {
        "id": "rxzsFqfYHPWy"
      }
    },
    {
      "cell_type": "markdown",
      "source": [
        "### Diseño del informe.\n",
        "\n",
        "Para realizar el informe, primero tenemos que decidir qué variables queremos mostrar en el mismo. Dada la disponibilidad de datos a nivel provincial, vamos a incluir las siguientes variables en nuestro informe:\n",
        "1. Tasa de paro.\n",
        "2. Tasa de actividad y de ocupación.\n",
        "3. Volumen de afiliaciones a la Seguridad Social y su tasa de variación.\n",
        "4. Número de parados registrados y su tasa de variación.\n",
        "  \n",
        "En segundo lugar, tenemos que decidir el formato del informe. Para ello, es útil dibujar un borrador en un papel y así decidir el mejor diseño posible.  \n",
        "En este caso, vamos a crear un informe breve, con la extensión de una página A4. Lo vamos a hacer enteramente en ```matplotlib```. Vamos a estructurar en informe en una figura de 6 axes (3 filas x 2 columnas). Los primeros 4 axes van a contener gráficos, mientras los dos últimos tablas."
      ],
      "metadata": {
        "id": "NPHbI1X-J0l0"
      }
    },
    {
      "cell_type": "markdown",
      "source": [
        "### Importamos librerías y datos:"
      ],
      "metadata": {
        "id": "c_qHoQDaO2D2"
      }
    },
    {
      "cell_type": "code",
      "source": [
        "import pandas as pd\n",
        "pd.set_option('display.max_row',50)\n",
        "pd.set_option('display.max_columns', 20)\n",
        "import matplotlib.pyplot as plt\n",
        "\n",
        "!pip install plottable  # https://pypi.org/project/plottable/\n",
        "from plottable import Table\n",
        "from plottable import ColumnDefinition\n"
      ],
      "metadata": {
        "id": "hVpDIi0GHNk-",
        "colab": {
          "base_uri": "https://localhost:8080/"
        },
        "outputId": "01e4e6d9-5ee1-48a5-eeae-4d2a646111f0"
      },
      "execution_count": 1,
      "outputs": [
        {
          "output_type": "stream",
          "name": "stdout",
          "text": [
            "Collecting plottable\n",
            "  Downloading plottable-0.1.5-py3-none-any.whl (24 kB)\n",
            "Requirement already satisfied: matplotlib in /usr/local/lib/python3.10/dist-packages (from plottable) (3.7.1)\n",
            "Requirement already satisfied: numpy in /usr/local/lib/python3.10/dist-packages (from plottable) (1.23.5)\n",
            "Requirement already satisfied: pandas in /usr/local/lib/python3.10/dist-packages (from plottable) (1.5.3)\n",
            "Requirement already satisfied: Pillow in /usr/local/lib/python3.10/dist-packages (from plottable) (9.4.0)\n",
            "Requirement already satisfied: contourpy>=1.0.1 in /usr/local/lib/python3.10/dist-packages (from matplotlib->plottable) (1.1.1)\n",
            "Requirement already satisfied: cycler>=0.10 in /usr/local/lib/python3.10/dist-packages (from matplotlib->plottable) (0.12.1)\n",
            "Requirement already satisfied: fonttools>=4.22.0 in /usr/local/lib/python3.10/dist-packages (from matplotlib->plottable) (4.43.1)\n",
            "Requirement already satisfied: kiwisolver>=1.0.1 in /usr/local/lib/python3.10/dist-packages (from matplotlib->plottable) (1.4.5)\n",
            "Requirement already satisfied: packaging>=20.0 in /usr/local/lib/python3.10/dist-packages (from matplotlib->plottable) (23.2)\n",
            "Requirement already satisfied: pyparsing>=2.3.1 in /usr/local/lib/python3.10/dist-packages (from matplotlib->plottable) (3.1.1)\n",
            "Requirement already satisfied: python-dateutil>=2.7 in /usr/local/lib/python3.10/dist-packages (from matplotlib->plottable) (2.8.2)\n",
            "Requirement already satisfied: pytz>=2020.1 in /usr/local/lib/python3.10/dist-packages (from pandas->plottable) (2023.3.post1)\n",
            "Requirement already satisfied: six>=1.5 in /usr/local/lib/python3.10/dist-packages (from python-dateutil>=2.7->matplotlib->plottable) (1.16.0)\n",
            "Installing collected packages: plottable\n",
            "Successfully installed plottable-0.1.5\n"
          ]
        }
      ]
    },
    {
      "cell_type": "markdown",
      "source": [
        "#### Series de la EPA\n",
        "En [EPA](https://www.ine.es/dyngs/INEbase/es/operacion.htm?c=Estadistica_C&cid=1254736176918&menu=ultiDatos&idp=1254735976595), hacemos clic en la siguiente secuencia: Resultados => Series desde el primer trimestre de 2002 => Resultados provinciales => Población en viviendas familiares (incluye parados) => Tasas de actividad, paro y empleo por provincia y sexo.  \n",
        "Entonces, hacemos la selección deseada: las tres tasas, Ambos sexos, Total Nacional y Sevilla, todos los periodos (ordenándolos haciendo clic en a/z) y le damos a la tabla el formato deseado (con los periodos en las filas).  \n",
        "Posteriormente, descargo el archivo en el formato \"Excel: extensión XLSx\", con el nombre de EPA_Sevilla, en cual lo subo a Google Colab y procedo a importar."
      ],
      "metadata": {
        "id": "_Oj3VlzESrGZ"
      }
    },
    {
      "cell_type": "code",
      "source": [
        "epa=pd.read_excel(\"EPA_Sevilla.xlsx\")"
      ],
      "metadata": {
        "id": "yUzwi5YqO9tP",
        "colab": {
          "base_uri": "https://localhost:8080/"
        },
        "outputId": "1c9c8e51-d469-47eb-c604-6c9e435f3768"
      },
      "execution_count": 2,
      "outputs": [
        {
          "output_type": "stream",
          "name": "stderr",
          "text": [
            "/usr/local/lib/python3.10/dist-packages/openpyxl/styles/stylesheet.py:226: UserWarning: Workbook contains no default style, apply openpyxl's default\n",
            "  warn(\"Workbook contains no default style, apply openpyxl's default\")\n"
          ]
        }
      ]
    },
    {
      "cell_type": "markdown",
      "source": [
        "Tras explorar brevemente la tabla (```epa[:20]```, ```epa[-20:]```), vemos que tenemos que hacer el siguiente procesamiento:"
      ],
      "metadata": {
        "id": "WRy9_YTiU7ci"
      }
    },
    {
      "cell_type": "code",
      "source": [
        "# 1. Nombrar cada columna de manera apropiada\n",
        "epa.rename(columns={\"Unnamed: 1\":\"España (TA)\",\n",
        "                    \"Unnamed: 2\":\"Sevilla (TA)\",\n",
        "                    \"Unnamed: 3\":\"España (TP)\",\n",
        "                    \"Unnamed: 4\":\"Sevilla (TP)\",\n",
        "                    \"Unnamed: 5\":\"España (TE)\",\n",
        "                    \"Unnamed: 6\":\"Sevilla (TE)\"}, inplace=True)\n",
        "# 2. Seleccionar las filas con datos (de index=8 a =93):\n",
        "epa=epa.iloc[8:94] # Hay que poner 94, porque la última no se incluye\n",
        "\n",
        "# 3. Crear una columna con el periodo, para convertirla en datetime y en el index.\n",
        "epa['periodo']=epa['Resultados provinciales'].str[:4]+\"Q\"+epa['Resultados provinciales'].str[-1:]\n",
        "epa['periodo']=pd.to_datetime(epa['periodo'])\n",
        "epa.set_index('periodo', inplace=True)\n",
        "\n",
        "# 4. Borramos columnas innecesarias\n",
        "epa.drop(columns='Resultados provinciales', inplace=True)"
      ],
      "metadata": {
        "id": "mxlGi9gcUkGP"
      },
      "execution_count": null,
      "outputs": []
    },
    {
      "cell_type": "code",
      "source": [
        "# Podemos dibujar un gráfico para ver que está todo bien.\n",
        "epa.plot()"
      ],
      "metadata": {
        "id": "Zcbkf3eMXyg_"
      },
      "execution_count": null,
      "outputs": []
    },
    {
      "cell_type": "markdown",
      "source": [
        "#### Parados registrados\n",
        "\n",
        "Los datos de demandantes de empleo parados (es decir, de parados registrados) están disponibles en [este enlace](https://www.sepe.es/HomeSepe/que-es-el-sepe/estadisticas/empleo/estadisticas-nuevas.html).  \n",
        "Como puede apreciarse, es muy tedioso descargarlos mes a mes, aunque podría hacerse. Para que aprendáis a hacerlo mecánicamente, en [este notebook](https://github.com/otoperalias/Coyuntura/blob/main/clases/Tema2_IV_ap1.ipynb) se procede a extraer los datos necesarios directamente en Python. Es muy recomendable que leais y tratéis de entender bien dicho notebook. El archivo *csv.* resultante con los datos de parados registrados está guardado en mi repositorio github y lo importamos directamente a continuación.\n"
      ],
      "metadata": {
        "id": "Ie1WkPxMYbcJ"
      }
    },
    {
      "cell_type": "code",
      "source": [
        "parados=pd.read_csv(\"https://raw.githubusercontent.com/otoperalias/Coyuntura/main/clases/datos/parados_Sevilla.csv\", index_col=0,parse_dates=True)\n",
        "parados"
      ],
      "metadata": {
        "id": "Rnza3VacYKj_"
      },
      "execution_count": null,
      "outputs": []
    },
    {
      "cell_type": "code",
      "source": [
        "# Renombramos\n",
        "parados.rename(columns={\"sev\":\"Sevilla (par)\",\"esp\":\"España (par)\"},inplace=True)\n",
        "# Gráfico\n",
        "parados.plot()"
      ],
      "metadata": {
        "id": "bs3jDQaGW7xq"
      },
      "execution_count": null,
      "outputs": []
    },
    {
      "cell_type": "markdown",
      "source": [
        "#### Datos de afiliados a la SS\n",
        "\n",
        "En la página de las [estadísticas de afiliaciones](https://www.seg-social.es/wps/portal/wss/internet/EstadisticasPresupuestosEstudios/Estadisticas/EST8), hacemos click en la siguiente secuencia: Series PX-Web => Afiliados en alta laboral => Afiliados Fin de mes => 04f. Por provincia, seccion de actividad y regimen (RG y RETA) (Ultimo dia).  \n",
        "En este caso, los datos se pueden descargar cómodamente: seleccionamos todos los periodos, Total Nacional y Sevilla, \"Total Regímenes\" y Todas las secciones. Clicamos en CONTINUAR y luego hacemos clic en \"Pivotación manual\", para poner los periodos en las filas y los datos de España y Sevilla en las columnas.  \n",
        "Finalmente, en la barra de la izquierda, clicamos en **Grabar el resultados como...**, indicando *Excel formato ( csv)* y con el nombre \"Afiliados_Sevilla\"."
      ],
      "metadata": {
        "id": "ctLEH4V5Xd2t"
      }
    },
    {
      "cell_type": "code",
      "source": [
        "ss=pd.read_csv(\"Afiliados_Sevilla.csv\", sep=\";\",skiprows=1)\n",
        "ss"
      ],
      "metadata": {
        "id": "WUZ2Bys7qdgr"
      },
      "execution_count": null,
      "outputs": []
    },
    {
      "cell_type": "markdown",
      "source": [
        "Observamos que solo hay que poner la columna periodo en formato adecuado para establecerlo como datetime y posteriormente como index de la tabla. También parece conveniente renombrar las columnas, con nombres más cortos."
      ],
      "metadata": {
        "id": "S5kbifg8cYe4"
      }
    },
    {
      "cell_type": "code",
      "source": [
        "# Primero: convertimos la columna en string\n",
        "ss['Periodo']=ss['Periodo'].astype(str)\n",
        "# Segundo: le damos formato\n",
        "ss['Periodo']=ss['Periodo'].str[:4]+\"-\"+ss['Periodo'].str[-2:]\n",
        "# Tercero: convertimos en datetime\n",
        "ss['Periodo']=pd.to_datetime(ss['Periodo'])\n",
        "# Cuarto: convertimos en index.\n",
        "ss.set_index(\"Periodo\", inplace=True)\n",
        "# Quinto: renombramos columnas\n",
        "ss.rename(columns={'Total Regimenes(RG+RETA) TODAS LAS SECCIONES Total Nacional':\"España (Afil)\",\n",
        "                   'Total Regimenes(RG+RETA) TODAS LAS SECCIONES 41. Sevilla':\"Sevilla (Afil)\"},inplace=True)"
      ],
      "metadata": {
        "id": "2DPqNNZTt0AS"
      },
      "execution_count": 60,
      "outputs": []
    },
    {
      "cell_type": "code",
      "source": [
        "# Podemos dibujar un gráfico para ver que está todo bien.\n",
        "ss.plot()"
      ],
      "metadata": {
        "id": "F5ZqsrgbvFAw"
      },
      "execution_count": null,
      "outputs": []
    },
    {
      "cell_type": "markdown",
      "source": [
        "### Procesamos los datos que necesitamos\n",
        "\n",
        "* Las tasas de paro, actividad y empleo ya vienen calculadas y, por tanto, no hay que hacer nada con ellas.\n",
        "* Para parados registrados y afiliaciones, hay que calcular las tasas de variación interanuales."
      ],
      "metadata": {
        "id": "5ooreMF3eSwo"
      }
    },
    {
      "cell_type": "code",
      "source": [
        "parados_tv=(parados/parados.shift(12)-1)*100\n",
        "ss_tv=(ss/ss.shift(12)-1)*100"
      ],
      "metadata": {
        "id": "EBrTNEyxc1KW"
      },
      "execution_count": 64,
      "outputs": []
    },
    {
      "cell_type": "markdown",
      "source": [
        "Sobre todo cuando estamos aprendiendo a usar Python/Pandas, es conveniente comprobar que los cálculos son correctos:"
      ],
      "metadata": {
        "id": "dfy2TCKwe4hh"
      }
    },
    {
      "cell_type": "code",
      "source": [
        "# Tasa variación parados registrados Enero 2022, Sevilla:\n",
        "print((189779/230652-1)*100)\n",
        "# Ídem en la nueva tabla:\n",
        "print(parados_tv.loc[\"2022-01\",\"Sevilla (par)\"].iloc[0])\n"
      ],
      "metadata": {
        "colab": {
          "base_uri": "https://localhost:8080/"
        },
        "id": "0oWk3bPrdk1m",
        "outputId": "0e5a0f2d-a8e8-472b-8e1a-96f891b6fcf5"
      },
      "execution_count": 65,
      "outputs": [
        {
          "output_type": "stream",
          "name": "stdout",
          "text": [
            "-17.72063541612472\n",
            "-17.72063541612472\n"
          ]
        }
      ]
    },
    {
      "cell_type": "markdown",
      "source": [
        "Ahora vamos a establecer un rango temporal comun, a partir de enero 2020."
      ],
      "metadata": {
        "id": "2tRMrKIricYm"
      }
    },
    {
      "cell_type": "code",
      "source": [
        "epa=epa.loc[\"2020\":]\n",
        "parados=parados.loc[\"2020\":]\n",
        "ss=ss.loc[\"2020\":]"
      ],
      "metadata": {
        "id": "MQlBV_Dwibpk"
      },
      "execution_count": 66,
      "outputs": []
    },
    {
      "cell_type": "markdown",
      "source": [
        "Ahora es necesario que preparemos las **tablas** que queremos incluir, una para las variables expresadas en trimestres y otra para las que están en meses.\n"
      ],
      "metadata": {
        "id": "i1b6tvh5ftZ8"
      }
    },
    {
      "cell_type": "code",
      "source": [
        "# Tabla EPA (trimestres)\n",
        "\n",
        "# 1. Creamos una copia con los periodos deseados\n",
        "epa2=epa.iloc[-4:].copy()\n",
        "\n",
        "# 2. Creamos columnas con el nombre de las variables a representar.\n",
        "#    Este paso es un \"truco\" para luego visualizar bien los datos en la tabla\n",
        "epa2[\"TASA DE PARO\"]=\"\"\n",
        "epa2[\"TASA DE ACTIVIDAD\"]=\"\"\n",
        "epa2[\"TASA DE EMPLEO\"]=\"\"\n",
        "\n",
        "# 3. Ordenamos las columnas:\n",
        "epa2=epa2[[\"TASA DE PARO\",'Sevilla (TP)','España (TP)',\n",
        "         \"TASA DE ACTIVIDAD\",'Sevilla (TA)','España (TA)',\n",
        "         \"TASA DE EMPLEO\",'Sevilla (TE)','España (TE)']]\n",
        "\n",
        "# 4. Transponemos la tabla\n",
        "epa2=epa2.T\n",
        "\n",
        "# 5. Renombramos las columnas\n",
        "#    El encabezado de las columnas es ahora este: '2022-07-01', '2022-10-01', '2023-01-01', '2023-04-01', poco\n",
        "#    apropiado para una tabla.\n",
        "#    Vamos a darle otra lista de etiquetas con mejor formato:\n",
        "epa2.columns=[\"3º tr.22\",\"4º tr.22\",\"1º tr.23\",\"2º tr.23\"]\n",
        "\n",
        "epa2.index.name = \" \" # 1 espacio: para que luego no se vea nada.\n",
        "\n",
        "# Vemos como queda\n",
        "Table(epa2,\n",
        "      column_definitions=[ColumnDefinition(name=\" \", width=2, textprops={\"ha\": \"left\"})],\n",
        "      footer_divider=True )"
      ],
      "metadata": {
        "id": "ro-8IcJEeufN"
      },
      "execution_count": null,
      "outputs": []
    },
    {
      "cell_type": "code",
      "source": [
        "# Tabla parados y afiliaciones (meses)\n",
        "\n",
        "# 1. Para hacerlos más eficientemente, vamos primero a unir las 4 tablas:\n",
        "tabla2=parados.merge(parados_tv,on=\"fecha\")\n",
        "ss.index.name=\"fecha\" # esto es necesario para unir las tablas\n",
        "ss_tv.index.name=\"fecha\" # esto es necesario para unir las tablas\n",
        "tabla2=tabla2.merge(ss,on=\"fecha\")\n",
        "tabla2=tabla2.merge(ss_tv,on=\"fecha\")\n",
        "\n",
        "# 2. Seleccionarmos los últimos 6 meses\n",
        "tabla2=tabla2.iloc[-6:]\n",
        "\n",
        "# 3. Creamos columnas con el nombre de las variables a representar.\n",
        "tabla2['AFILIADOS (miles)']=\"\"\n",
        "tabla2['AFILIADOS (tasa var. interanual)']=\"\"\n",
        "tabla2['PARADOS (miles)']=\"\"\n",
        "tabla2['PARADOS (tasa var. interanual)']=\"\"\n",
        "\n",
        "# 4. Dividimos por 1000 las columnas con número de personas\n",
        "for c in ['Sevilla (par)_x', 'España (par)_x', 'España (Afil)_x', 'Sevilla (Afil)_x']:\n",
        "  tabla2[c]=round(tabla2[c]/1000)\n",
        "\n",
        "# 5. Ordenamos las columnas:\n",
        "tabla2=tabla2[['AFILIADOS (miles)','Sevilla (Afil)_x','España (Afil)_x',\n",
        "               'AFILIADOS (tasa var. interanual)','Sevilla (Afil)_y','España (Afil)_y',\n",
        "               'PARADOS (miles)','Sevilla (par)_y','España (par)_y',\n",
        "               'PARADOS (tasa var. interanual)','Sevilla (par)_y','España (par)_y']]\n",
        "\n",
        "# 6. Le damos el nombre deseado a las columnas\n",
        "tabla2.columns=['AFILIADOS (miles)','Sevilla','España',\n",
        "               'AFILIADOS (tasa var. interanual)','Sevilla','España',\n",
        "               'PARADOS (miles)','Sevilla','España',\n",
        "               'PARADOS (tasa var. interanual)','Sevilla','España']\n",
        "\n",
        "# 6. Transponemos la tabla\n",
        "tabla2=tabla2.T\n",
        "\n",
        "# 5. Renombramos las columnas\n",
        "#    El encabezado de las columnas es ahora este: '2023-04-01', '2023-05-01', '2023-06-01', '2023-07-01','2023-08-01', '2023-09-01'\n",
        "#    Vamos a darle otra lista de etiquetas con mejor formato:\n",
        "tabla2.columns=[\"Abr 23\",\"May 23\",\"Jun 23\",\"Jul 23\",\"Ago 23\",\"Sep 23\"]\n",
        "\n",
        "tabla2.index.name = \" \" # 1 espacio: para que luego no se vea nada.\n",
        "\n",
        "# Vemos como queda\n",
        "Table(tabla2,\n",
        "      column_definitions=[ColumnDefinition(name=\" \", width=2, textprops={\"ha\": \"left\"})],\n",
        "      footer_divider=True )"
      ],
      "metadata": {
        "id": "jzwhcSY7lyrC",
        "outputId": "c6c390d8-344a-4e8f-afc8-e884d350ce38",
        "colab": {
          "base_uri": "https://localhost:8080/",
          "height": 423
        }
      },
      "execution_count": 101,
      "outputs": [
        {
          "output_type": "execute_result",
          "data": {
            "text/plain": [
              "<plottable.table.Table at 0x7a2ecd11e410>"
            ]
          },
          "metadata": {},
          "execution_count": 101
        },
        {
          "output_type": "display_data",
          "data": {
            "text/plain": [
              "<Figure size 640x480 with 1 Axes>"
            ],
            "image/png": "[encoded data removed]"
          },
          "metadata": {}
        }
      ]
    },
    {
      "cell_type": "code",
      "source": [
        "tabla2"
      ],
      "metadata": {
        "id": "xLz9Q9zRl8Os",
        "outputId": "6f2fc590-6c71-4e29-9e35-a8564ed8f645",
        "colab": {
          "base_uri": "https://localhost:8080/",
          "height": 440
        }
      },
      "execution_count": 98,
      "outputs": [
        {
          "output_type": "execute_result",
          "data": {
            "text/plain": [
              "                                     Abr 23     May 23     Jun 23     Jul 23  \\\n",
              "                                                                               \n",
              "AFILIADOS (miles)                                                              \n",
              "Sevilla                             719.665    707.334    697.334    699.824   \n",
              "España                            19519.991  19561.827  19497.207  19607.471   \n",
              "AFILIADOS (tasa var. interanual)                                               \n",
              "Sevilla                            4.082061    3.15367   2.746451   2.288177   \n",
              "España                             3.166761   3.017358   2.754906   2.262707   \n",
              "PARADOS (miles)                                                                \n",
              "Sevilla                           -8.028142  -5.415891   -7.26872  -7.799558   \n",
              "España                            -7.746328  -6.290851  -6.656294  -7.141173   \n",
              "PARADOS (tasa var. interanual)                                                 \n",
              "Sevilla                           -8.028142  -5.415891   -7.26872  -7.799558   \n",
              "España                            -7.746328  -6.290851  -6.656294  -7.141173   \n",
              "\n",
              "                                     Ago 23     Sep 23  \n",
              "                                                        \n",
              "AFILIADOS (miles)                                       \n",
              "Sevilla                             694.993    710.751  \n",
              "España                            19357.319  19706.161  \n",
              "AFILIADOS (tasa var. interanual)                        \n",
              "Sevilla                            2.723152    3.47302  \n",
              "España                             3.105569   4.032309  \n",
              "PARADOS (miles)                                         \n",
              "Sevilla                           -8.650369   -6.61412  \n",
              "España                            -7.575986  -7.459451  \n",
              "PARADOS (tasa var. interanual)                          \n",
              "Sevilla                           -8.650369   -6.61412  \n",
              "España                            -7.575986  -7.459451  "
            ],
            "text/html": [
              "\n",
              "  <div id=\"df-cc1a0a28-1abe-4c31-8770-53ef66666572\" class=\"colab-df-container\">\n",
              "    <div>\n",
              "<style scoped>\n",
              "    .dataframe tbody tr th:only-of-type {\n",
              "        vertical-align: middle;\n",
              "    }\n",
              "\n",
              "    .dataframe tbody tr th {\n",
              "        vertical-align: top;\n",
              "    }\n",
              "\n",
              "    .dataframe thead th {\n",
              "        text-align: right;\n",
              "    }\n",
              "</style>\n",
              "<table border=\"1\" class=\"dataframe\">\n",
              "  <thead>\n",
              "    <tr style=\"text-align: right;\">\n",
              "      <th></th>\n",
              "      <th>Abr 23</th>\n",
              "      <th>May 23</th>\n",
              "      <th>Jun 23</th>\n",
              "      <th>Jul 23</th>\n",
              "      <th>Ago 23</th>\n",
              "      <th>Sep 23</th>\n",
              "    </tr>\n",
              "    <tr>\n",
              "      <th></th>\n",
              "      <th></th>\n",
              "      <th></th>\n",
              "      <th></th>\n",
              "      <th></th>\n",
              "      <th></th>\n",
              "      <th></th>\n",
              "    </tr>\n",
              "  </thead>\n",
              "  <tbody>\n",
              "    <tr>\n",
              "      <th>AFILIADOS (miles)</th>\n",
              "      <td></td>\n",
              "      <td></td>\n",
              "      <td></td>\n",
              "      <td></td>\n",
              "      <td></td>\n",
              "      <td></td>\n",
              "    </tr>\n",
              "    <tr>\n",
              "      <th>Sevilla</th>\n",
              "      <td>719.665</td>\n",
              "      <td>707.334</td>\n",
              "      <td>697.334</td>\n",
              "      <td>699.824</td>\n",
              "      <td>694.993</td>\n",
              "      <td>710.751</td>\n",
              "    </tr>\n",
              "    <tr>\n",
              "      <th>España</th>\n",
              "      <td>19519.991</td>\n",
              "      <td>19561.827</td>\n",
              "      <td>19497.207</td>\n",
              "      <td>19607.471</td>\n",
              "      <td>19357.319</td>\n",
              "      <td>19706.161</td>\n",
              "    </tr>\n",
              "    <tr>\n",
              "      <th>AFILIADOS (tasa var. interanual)</th>\n",
              "      <td></td>\n",
              "      <td></td>\n",
              "      <td></td>\n",
              "      <td></td>\n",
              "      <td></td>\n",
              "      <td></td>\n",
              "    </tr>\n",
              "    <tr>\n",
              "      <th>Sevilla</th>\n",
              "      <td>4.082061</td>\n",
              "      <td>3.15367</td>\n",
              "      <td>2.746451</td>\n",
              "      <td>2.288177</td>\n",
              "      <td>2.723152</td>\n",
              "      <td>3.47302</td>\n",
              "    </tr>\n",
              "    <tr>\n",
              "      <th>España</th>\n",
              "      <td>3.166761</td>\n",
              "      <td>3.017358</td>\n",
              "      <td>2.754906</td>\n",
              "      <td>2.262707</td>\n",
              "      <td>3.105569</td>\n",
              "      <td>4.032309</td>\n",
              "    </tr>\n",
              "    <tr>\n",
              "      <th>PARADOS (miles)</th>\n",
              "      <td></td>\n",
              "      <td></td>\n",
              "      <td></td>\n",
              "      <td></td>\n",
              "      <td></td>\n",
              "      <td></td>\n",
              "    </tr>\n",
              "    <tr>\n",
              "      <th>Sevilla</th>\n",
              "      <td>-8.028142</td>\n",
              "      <td>-5.415891</td>\n",
              "      <td>-7.26872</td>\n",
              "      <td>-7.799558</td>\n",
              "      <td>-8.650369</td>\n",
              "      <td>-6.61412</td>\n",
              "    </tr>\n",
              "    <tr>\n",
              "      <th>España</th>\n",
              "      <td>-7.746328</td>\n",
              "      <td>-6.290851</td>\n",
              "      <td>-6.656294</td>\n",
              "      <td>-7.141173</td>\n",
              "      <td>-7.575986</td>\n",
              "      <td>-7.459451</td>\n",
              "    </tr>\n",
              "    <tr>\n",
              "      <th>PARADOS (tasa var. interanual)</th>\n",
              "      <td></td>\n",
              "      <td></td>\n",
              "      <td></td>\n",
              "      <td></td>\n",
              "      <td></td>\n",
              "      <td></td>\n",
              "    </tr>\n",
              "    <tr>\n",
              "      <th>Sevilla</th>\n",
              "      <td>-8.028142</td>\n",
              "      <td>-5.415891</td>\n",
              "      <td>-7.26872</td>\n",
              "      <td>-7.799558</td>\n",
              "      <td>-8.650369</td>\n",
              "      <td>-6.61412</td>\n",
              "    </tr>\n",
              "    <tr>\n",
              "      <th>España</th>\n",
              "      <td>-7.746328</td>\n",
              "      <td>-6.290851</td>\n",
              "      <td>-6.656294</td>\n",
              "      <td>-7.141173</td>\n",
              "      <td>-7.575986</td>\n",
              "      <td>-7.459451</td>\n",
              "    </tr>\n",
              "  </tbody>\n",
              "</table>\n",
              "</div>\n",
              "    <div class=\"colab-df-buttons\">\n",
              "\n",
              "  <div class=\"colab-df-container\">\n",
              "    <button class=\"colab-df-convert\" onclick=\"convertToInteractive('df-cc1a0a28-1abe-4c31-8770-53ef66666572')\"\n",
              "            title=\"Convert this dataframe to an interactive table.\"\n",
              "            style=\"display:none;\">\n",
              "\n",
              "  <svg xmlns=\"http://www.w3.org/2000/svg\" height=\"24px\" viewBox=\"0 -960 960 960\">\n",
              "    <path d=\"M120-120v-720h720v720H120Zm60-500h600v-160H180v160Zm220 220h160v-160H400v160Zm0 220h160v-160H400v160ZM180-400h160v-160H180v160Zm440 0h160v-160H620v160ZM180-180h160v-160H180v160Zm440 0h160v-160H620v160Z\"/>\n",
              "  </svg>\n",
              "    </button>\n",
              "\n",
              "  <style>\n",
              "    .colab-df-container {\n",
              "      display:flex;\n",
              "      gap: 12px;\n",
              "    }\n",
              "\n",
              "    .colab-df-convert {\n",
              "      background-color: #E8F0FE;\n",
              "      border: none;\n",
              "      border-radius: 50%;\n",
              "      cursor: pointer;\n",
              "      display: none;\n",
              "      fill: #1967D2;\n",
              "      height: 32px;\n",
              "      padding: 0 0 0 0;\n",
              "      width: 32px;\n",
              "    }\n",
              "\n",
              "    .colab-df-convert:hover {\n",
              "      background-color: #E2EBFA;\n",
              "      box-shadow: 0px 1px 2px rgba(60, 64, 67, 0.3), 0px 1px 3px 1px rgba(60, 64, 67, 0.15);\n",
              "      fill: #174EA6;\n",
              "    }\n",
              "\n",
              "    .colab-df-buttons div {\n",
              "      margin-bottom: 4px;\n",
              "    }\n",
              "\n",
              "    [theme=dark] .colab-df-convert {\n",
              "      background-color: #3B4455;\n",
              "      fill: #D2E3FC;\n",
              "    }\n",
              "\n",
              "    [theme=dark] .colab-df-convert:hover {\n",
              "      background-color: #434B5C;\n",
              "      box-shadow: 0px 1px 3px 1px rgba(0, 0, 0, 0.15);\n",
              "      filter: drop-shadow(0px 1px 2px rgba(0, 0, 0, 0.3));\n",
              "      fill: #FFFFFF;\n",
              "    }\n",
              "  </style>\n",
              "\n",
              "    <script>\n",
              "      const buttonEl =\n",
              "        document.querySelector('#df-cc1a0a28-1abe-4c31-8770-53ef66666572 button.colab-df-convert');\n",
              "      buttonEl.style.display =\n",
              "        google.colab.kernel.accessAllowed ? 'block' : 'none';\n",
              "\n",
              "      async function convertToInteractive(key) {\n",
              "        const element = document.querySelector('#df-cc1a0a28-1abe-4c31-8770-53ef66666572');\n",
              "        const dataTable =\n",
              "          await google.colab.kernel.invokeFunction('convertToInteractive',\n",
              "                                                    [key], {});\n",
              "        if (!dataTable) return;\n",
              "\n",
              "        const docLinkHtml = 'Like what you see? Visit the ' +\n",
              "          '<a target=\"_blank\" href=https://colab.research.google.com/notebooks/data_table.ipynb>data table notebook</a>'\n",
              "          + ' to learn more about interactive tables.';\n",
              "        element.innerHTML = '';\n",
              "        dataTable['output_type'] = 'display_data';\n",
              "        await google.colab.output.renderOutput(dataTable, element);\n",
              "        const docLink = document.createElement('div');\n",
              "        docLink.innerHTML = docLinkHtml;\n",
              "        element.appendChild(docLink);\n",
              "      }\n",
              "    </script>\n",
              "  </div>\n",
              "\n",
              "\n",
              "<div id=\"df-71190282-084c-433c-ab00-999d3eb31455\">\n",
              "  <button class=\"colab-df-quickchart\" onclick=\"quickchart('df-71190282-084c-433c-ab00-999d3eb31455')\"\n",
              "            title=\"Suggest charts.\"\n",
              "            style=\"display:none;\">\n",
              "\n",
              "<svg xmlns=\"http://www.w3.org/2000/svg\" height=\"24px\"viewBox=\"0 0 24 24\"\n",
              "     width=\"24px\">\n",
              "    <g>\n",
              "        <path d=\"M19 3H5c-1.1 0-2 .9-2 2v14c0 1.1.9 2 2 2h14c1.1 0 2-.9 2-2V5c0-1.1-.9-2-2-2zM9 17H7v-7h2v7zm4 0h-2V7h2v10zm4 0h-2v-4h2v4z\"/>\n",
              "    </g>\n",
              "</svg>\n",
              "  </button>\n",
              "\n",
              "<style>\n",
              "  .colab-df-quickchart {\n",
              "      --bg-color: #E8F0FE;\n",
              "      --fill-color: #1967D2;\n",
              "      --hover-bg-color: #E2EBFA;\n",
              "      --hover-fill-color: #174EA6;\n",
              "      --disabled-fill-color: #AAA;\n",
              "      --disabled-bg-color: #DDD;\n",
              "  }\n",
              "\n",
              "  [theme=dark] .colab-df-quickchart {\n",
              "      --bg-color: #3B4455;\n",
              "      --fill-color: #D2E3FC;\n",
              "      --hover-bg-color: #434B5C;\n",
              "      --hover-fill-color: #FFFFFF;\n",
              "      --disabled-bg-color: #3B4455;\n",
              "      --disabled-fill-color: #666;\n",
              "  }\n",
              "\n",
              "  .colab-df-quickchart {\n",
              "    background-color: var(--bg-color);\n",
              "    border: none;\n",
              "    border-radius: 50%;\n",
              "    cursor: pointer;\n",
              "    display: none;\n",
              "    fill: var(--fill-color);\n",
              "    height: 32px;\n",
              "    padding: 0;\n",
              "    width: 32px;\n",
              "  }\n",
              "\n",
              "  .colab-df-quickchart:hover {\n",
              "    background-color: var(--hover-bg-color);\n",
              "    box-shadow: 0 1px 2px rgba(60, 64, 67, 0.3), 0 1px 3px 1px rgba(60, 64, 67, 0.15);\n",
              "    fill: var(--button-hover-fill-color);\n",
              "  }\n",
              "\n",
              "  .colab-df-quickchart-complete:disabled,\n",
              "  .colab-df-quickchart-complete:disabled:hover {\n",
              "    background-color: var(--disabled-bg-color);\n",
              "    fill: var(--disabled-fill-color);\n",
              "    box-shadow: none;\n",
              "  }\n",
              "\n",
              "  .colab-df-spinner {\n",
              "    border: 2px solid var(--fill-color);\n",
              "    border-color: transparent;\n",
              "    border-bottom-color: var(--fill-color);\n",
              "    animation:\n",
              "      spin 1s steps(1) infinite;\n",
              "  }\n",
              "\n",
              "  @keyframes spin {\n",
              "    0% {\n",
              "      border-color: transparent;\n",
              "      border-bottom-color: var(--fill-color);\n",
              "      border-left-color: var(--fill-color);\n",
              "    }\n",
              "    20% {\n",
              "      border-color: transparent;\n",
              "      border-left-color: var(--fill-color);\n",
              "      border-top-color: var(--fill-color);\n",
              "    }\n",
              "    30% {\n",
              "      border-color: transparent;\n",
              "      border-left-color: var(--fill-color);\n",
              "      border-top-color: var(--fill-color);\n",
              "      border-right-color: var(--fill-color);\n",
              "    }\n",
              "    40% {\n",
              "      border-color: transparent;\n",
              "      border-right-color: var(--fill-color);\n",
              "      border-top-color: var(--fill-color);\n",
              "    }\n",
              "    60% {\n",
              "      border-color: transparent;\n",
              "      border-right-color: var(--fill-color);\n",
              "    }\n",
              "    80% {\n",
              "      border-color: transparent;\n",
              "      border-right-color: var(--fill-color);\n",
              "      border-bottom-color: var(--fill-color);\n",
              "    }\n",
              "    90% {\n",
              "      border-color: transparent;\n",
              "      border-bottom-color: var(--fill-color);\n",
              "    }\n",
              "  }\n",
              "</style>\n",
              "\n",
              "  <script>\n",
              "    async function quickchart(key) {\n",
              "      const quickchartButtonEl =\n",
              "        document.querySelector('#' + key + ' button');\n",
              "      quickchartButtonEl.disabled = true;  // To prevent multiple clicks.\n",
              "      quickchartButtonEl.classList.add('colab-df-spinner');\n",
              "      try {\n",
              "        const charts = await google.colab.kernel.invokeFunction(\n",
              "            'suggestCharts', [key], {});\n",
              "      } catch (error) {\n",
              "        console.error('Error during call to suggestCharts:', error);\n",
              "      }\n",
              "      quickchartButtonEl.classList.remove('colab-df-spinner');\n",
              "      quickchartButtonEl.classList.add('colab-df-quickchart-complete');\n",
              "    }\n",
              "    (() => {\n",
              "      let quickchartButtonEl =\n",
              "        document.querySelector('#df-71190282-084c-433c-ab00-999d3eb31455 button');\n",
              "      quickchartButtonEl.style.display =\n",
              "        google.colab.kernel.accessAllowed ? 'block' : 'none';\n",
              "    })();\n",
              "  </script>\n",
              "</div>\n",
              "    </div>\n",
              "  </div>\n"
            ]
          },
          "metadata": {},
          "execution_count": 98
        }
      ]
    },
    {
      "cell_type": "code",
      "source": [],
      "metadata": {
        "id": "Il8frgHOyTx_"
      },
      "execution_count": null,
      "outputs": []
    }
  ]
}