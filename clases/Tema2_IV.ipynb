{
  "nbformat": 4,
  "nbformat_minor": 0,
  "metadata": {
    "colab": {
      "provenance": [],
      "authorship_tag": "ABX9TyO3DepWfQ0dxZK52vBZVNwy",
      "include_colab_link": true
    },
    "kernelspec": {
      "name": "python3",
      "display_name": "Python 3"
    },
    "language_info": {
      "name": "python"
    }
  },
  "cells": [
    {
      "cell_type": "markdown",
      "metadata": {
        "id": "view-in-github",
        "colab_type": "text"
      },
      "source": [
        "<a href=\"https://colab.research.google.com/github/otoperalias/Coyuntura/blob/main/clases/Tema2_IV.ipynb\" target=\"_parent\"><img src=\"https://colab.research.google.com/assets/colab-badge.svg\" alt=\"Open In Colab\"/></a>"
      ]
    },
    {
      "cell_type": "markdown",
      "source": [
        "## Coyuntura en el mercado laboral\n",
        "\n",
        "En este notebook vamos a usar datos del mercado laboral para aprender a crear un informe de coyuntura. Como ejemplo, vamos hacer un informe de coyuntura para Sevilla."
      ],
      "metadata": {
        "id": "852MA2udGuWC"
      }
    },
    {
      "cell_type": "markdown",
      "source": [
        "### Fuentes estadísticas:\n",
        "* INE. En la sección de [Mercado Laboral](https://www.ine.es/dyngs/INEbase/es/categoria.htm?c=Estadistica_P&cid=1254735976594), cabe destacar las siguientes estadísticas para el análisis de coyuntura:\n",
        "  * [Encuesta de Población Activa (EPA)](https://www.ine.es/dyngs/INEbase/es/operacion.htm?c=Estadistica_C&cid=1254736176918&menu=ultiDatos&idp=1254735976595).\n",
        "  * [Encuesta trimestral de coste laboral](https://www.ine.es/dyngs/INEbase/es/operacion.htm?c=Estadistica_C&cid=1254736045053&menu=ultiDatos&idp=1254735976596).\n",
        "* Ministerio de Trabajo:\n",
        "  * [Estadística del Movimiento Laboral Registrado](https://www.mites.gob.es/es/estadisticas/mercado_trabajo/MLR/welcome.htm).\n",
        "* Seguridad Social:\n",
        "  * [Afiliaciones a la Seguridad Social](https://www.seg-social.es/wps/portal/wss/internet/EstadisticasPresupuestosEstudios/Estadisticas/EST8).\n",
        "\n",
        "*Para interpretar correctamente las variables, es fundamental conocer bien la metodología, en particular, qué miden exactamente. Así, no es comparable el concepto de \"parado registrado\" con el de \"parado\" de la EPA.*\n"
      ],
      "metadata": {
        "id": "rxzsFqfYHPWy"
      }
    },
    {
      "cell_type": "markdown",
      "source": [
        "### Diseño del informe.\n",
        "\n",
        "Para realizar el informe, primero tenemos que decidir qué variables queremos mostrar en el mismo. Dada la disponibilidad de datos a nivel provincial, vamos a incluir las siguientes variables en nuestro informe:\n",
        "1. Tasa de paro.\n",
        "2. Tasa de actividad.\n",
        "3. Tasa de ocupación.\n",
        "4. Volumen de afiliaciones a la Seguridad Social y su tasa de variación.\n",
        "5. Número de parados registrados y su tasa de variación.\n",
        "  \n",
        "En segundo lugar, tenemos que decidir el formato del informe. Para ello, es útil dibujar un borrador en un papel y así decidir el mejor diseño posible.  \n",
        "En este caso, vamos a crear un informe breve, con la extensión de una página A4. Lo vamos a hacer enteramente en ```matplotlib```. Vamos a estructurar en informe en una figura de 6 axes (3 filas x 2 columnas). Los primeros 5 axes van a contener gráficos, mientras el último una tabla."
      ],
      "metadata": {
        "id": "NPHbI1X-J0l0"
      }
    },
    {
      "cell_type": "markdown",
      "source": [
        "### Importamos librerías y datos:"
      ],
      "metadata": {
        "id": "c_qHoQDaO2D2"
      }
    },
    {
      "cell_type": "code",
      "source": [
        "import pandas as pd\n",
        "pd.set_option('display.max_row',50)\n",
        "pd.set_option('display.max_columns', 20)\n",
        "import matplotlib.pyplot as plt"
      ],
      "metadata": {
        "id": "hVpDIi0GHNk-"
      },
      "execution_count": 1,
      "outputs": []
    },
    {
      "cell_type": "markdown",
      "source": [
        "#### Series de la EPA\n",
        "En [EPA](https://www.ine.es/dyngs/INEbase/es/operacion.htm?c=Estadistica_C&cid=1254736176918&menu=ultiDatos&idp=1254735976595), hacemos clic en la siguiente secuencia: Resultados => Series desde el primer trimestre de 2002 => Resultados provinciales => Población en viviendas familiares (incluye parados) => Tasas de actividad, paro y empleo por provincia y sexo.  \n",
        "Entonces, hacemos la selección deseada: las tres tasas, Ambos sexos, Total Nacional y Sevilla, todos los periodos (ordenándolos haciendo clic en a/z) y le damos a la tabla el formato deseado (con los periodos en las filas).  \n",
        "Posteriormente, descargo el archivo en el formato \"Excel: extensión XLSx\", con el nombre de EPA_Sevilla, en cual lo subo a Google Colab y procedo a importar."
      ],
      "metadata": {
        "id": "_Oj3VlzESrGZ"
      }
    },
    {
      "cell_type": "code",
      "source": [
        "epa=pd.read_excel(\"EPA_Sevilla.xlsx\")"
      ],
      "metadata": {
        "id": "yUzwi5YqO9tP",
        "outputId": "f210be6c-af52-4b96-a304-47d777123b74",
        "colab": {
          "base_uri": "https://localhost:8080/"
        }
      },
      "execution_count": 2,
      "outputs": [
        {
          "output_type": "stream",
          "name": "stderr",
          "text": [
            "/usr/local/lib/python3.10/dist-packages/openpyxl/styles/stylesheet.py:226: UserWarning: Workbook contains no default style, apply openpyxl's default\n",
            "  warn(\"Workbook contains no default style, apply openpyxl's default\")\n"
          ]
        }
      ]
    },
    {
      "cell_type": "markdown",
      "source": [
        "Tras explorar brevemente la tabla (```epa[:20]```, ```epa[-20:]```), vemos que tenemos que hacer el siguiente procesamiento:"
      ],
      "metadata": {
        "id": "WRy9_YTiU7ci"
      }
    },
    {
      "cell_type": "code",
      "source": [
        "# 1. Nombrar cada columna de manera apropiada\n",
        "epa.rename(columns={\"Unnamed: 1\":\"TA_esp\",\n",
        "                    \"Unnamed: 2\":\"TA_sev\",\n",
        "                    \"Unnamed: 3\":\"TP_esp\",\n",
        "                    \"Unnamed: 4\":\"TP_sev\",\n",
        "                    \"Unnamed: 5\":\"TE_esp\",\n",
        "                    \"Unnamed: 6\":\"TE_sev\"}, inplace=True)\n",
        "# 2. Seleccionar las filas con datos (de index=8 a =93):\n",
        "epa=epa.iloc[8:94] # Hay que poner 94, porque la última no se incluye\n",
        "\n",
        "# 3. Crear una columna con el periodo, para convertirla en datetime y en el index.\n",
        "epa['periodo']=epa['Resultados provinciales'].str[:4]+\"Q\"+epa['Resultados provinciales'].str[-1:]\n",
        "epa['periodo']=pd.to_datetime(epa['periodo'])\n",
        "epa.set_index('periodo', inplace=True)\n",
        "\n",
        "# 4. Borramos columnas innecesarias\n",
        "epa.drop(columns='Resultados provinciales', inplace=True)"
      ],
      "metadata": {
        "id": "mxlGi9gcUkGP"
      },
      "execution_count": null,
      "outputs": []
    },
    {
      "cell_type": "code",
      "source": [
        "# Podemos dibujar un gráfico para ver que está todo bien.\n",
        "epa.plot()"
      ],
      "metadata": {
        "id": "Zcbkf3eMXyg_"
      },
      "execution_count": null,
      "outputs": []
    },
    {
      "cell_type": "markdown",
      "source": [
        "#### Parados registrados\n",
        "\n",
        "Los datos de demandantes de empleo parados (es decir, de parados registrados) están disponibles en [este enlace](https://www.sepe.es/HomeSepe/que-es-el-sepe/estadisticas/empleo/estadisticas-nuevas.html). Como puede apreciarse, es muy tedioso descargar mes a mes, aunque podría hacerse.  \n",
        "Para que aprendáis cómo podría hacerse mecánicamente, a continuación procedemos a extraer los datos necesarios directamente en Python.\n"
      ],
      "metadata": {
        "id": "Ie1WkPxMYbcJ"
      }
    },
    {
      "cell_type": "code",
      "source": [
        "# i. CREAMOS UN BUCLE PARA EXTRAER LOS DATOS DESEADOS\n",
        "\n",
        "meses={'enero':\"01\",'febrero':\"02\",'marzo':\"03\",'abril':\"04\",'mayo':\"05\",'junio':\"06\",'julio':\"07\",'agosto':\"08\",'septiembre':\"09\",'octubre':\"10\",'noviembre':\"11\",'diciembre':\"12\"}\n",
        "years=[\"2021\",\"2022\",\"2023\"]\n",
        "\n",
        "preg_fecha=[]\n",
        "preg_sev=[]\n",
        "preg_esp=[]\n",
        "\n",
        "for year in years:\n",
        "  for mes in meses:\n",
        "    link=\"https://www.sepe.es/SiteSepe/contenidos/que_es_el_sepe/estadisticas/datos_estadisticos/empleo/datos/\"+year+\"/\"+mes+\"_\"+year+\"/ESTADISTICA-DE-EMPLEO.xls\"\n",
        "    preg=pd.read_excel(link,sheet_name=\"6.2\")\n",
        "    fecha=year+\"-\"+meses[mes]\n",
        "    sev=preg.loc[preg[\"Unnamed: 1\"]==\"SEVILLA\",\"Unnamed: 2\"].iloc[0]\n",
        "    esp=preg.loc[preg[\"Unnamed: 1\"]==\"TOTAL ZONA GEOGRAFICA\",\"Unnamed: 2\"].iloc[0]\n",
        "    preg_fecha.append(fecha)\n",
        "    preg_sev.append(sev)\n",
        "    preg_esp.append(esp)\n",
        "    if fecha==\"2023-09\":\n",
        "      break\n",
        "\n",
        "# ii. CREAMOS UNA DATAFRAME A PARTIR DE LAS LISTAS\n",
        "\n",
        "diccionario={'fecha':preg_fecha,'sev':preg_sev, 'esp':preg_esp}\n",
        "parados=pd.DataFrame(diccionario)\n",
        "\n",
        "# iii. CONVERTIMOS LA FECHA EN \"DATETIME\" Y LO ESTABLECEMOS COMO INDEX\n",
        "parados['fecha']=pd.to_datetime(parados['fecha'])\n",
        "parados.set_index(\"fecha\", inplace=True)"
      ],
      "metadata": {
        "id": "Rnza3VacYKj_"
      },
      "execution_count": null,
      "outputs": []
    },
    {
      "cell_type": "code",
      "source": [
        "# Podemos dibujar un gráfico para ver que está todo bien.\n",
        "parados.plot()"
      ],
      "metadata": {
        "id": "bs3jDQaGW7xq"
      },
      "execution_count": null,
      "outputs": []
    },
    {
      "cell_type": "markdown",
      "source": [
        "### Datos de afiliados a la SS\n",
        "\n",
        "En la página de las [estadísticas de afiliaciones](https://www.seg-social.es/wps/portal/wss/internet/EstadisticasPresupuestosEstudios/Estadisticas/EST8), hacemos click en la siguiente secuencia: Series PX-Web => Afiliados en alta laboral => Afiliados Fin de mes => 04f. Por provincia, seccion de actividad y regimen (RG y RETA) (Ultimo dia).  \n",
        "En este caso, los datos se pueden descargar cómodamente: seleccionamos todos los periodos, Total Nacional y Sevilla, \"Total Regímenes\" y Todas las secciones. Clicamos en CONTINUAR y luego hacemos clic en \"Pivotación manual\", para poner los periodos en las filas y los datos de España y Sevilla en las columnas.  \n",
        "Finalmente, en la barra de la izquierda, clicamos en **Grabar el resultados como...**, indicando *Excel formato ( csv)* y con el nombre \"Afiliaciones_Sevilla\"."
      ],
      "metadata": {
        "id": "ctLEH4V5Xd2t"
      }
    },
    {
      "cell_type": "code",
      "source": [
        "ss=pd.read_csv(\"Afiliaciones_Sevilla.csv\")"
      ],
      "metadata": {
        "id": "WUZ2Bys7qdgr"
      },
      "execution_count": 14,
      "outputs": []
    },
    {
      "cell_type": "code",
      "source": [
        "ss"
      ],
      "metadata": {
        "colab": {
          "base_uri": "https://localhost:8080/",
          "height": 424
        },
        "id": "2DPqNNZTt0AS",
        "outputId": "be3e0661-8bf0-43ea-a0e3-f0c05b672e67"
      },
      "execution_count": 15,
      "outputs": [
        {
          "output_type": "execute_result",
          "data": {
            "text/plain": [
              "                                                           Afiliados por Periodo, Regimenes, Seccion_cnae y Provincia\n",
              "Periodo Total Regimenes(RG+RETA) TODAS LAS SECCIONES To...  Total Regimenes(RG+RETA) TODAS LAS SECCIONES 4...        \n",
              "200901  17010774                                                                                       602652        \n",
              "200902  16926630                                                                                       600033        \n",
              "200903  16810459                                                                                       596630        \n",
              "200904  16790169                                                                                       595732        \n",
              "...                                                                                                       ...        \n",
              "202305  19561827                                                                                       707334        \n",
              "202306  19497207                                                                                       697334        \n",
              "202307  19607471                                                                                       699824        \n",
              "202308  19357319                                                                                       694993        \n",
              "202309  19706161                                                                                       710751        \n",
              "\n",
              "[178 rows x 1 columns]"
            ],
            "text/html": [
              "\n",
              "  <div id=\"df-9ca508e2-d68b-46ce-bd9f-2a56d406c6ee\" class=\"colab-df-container\">\n",
              "    <div>\n",
              "<style scoped>\n",
              "    .dataframe tbody tr th:only-of-type {\n",
              "        vertical-align: middle;\n",
              "    }\n",
              "\n",
              "    .dataframe tbody tr th {\n",
              "        vertical-align: top;\n",
              "    }\n",
              "\n",
              "    .dataframe thead th {\n",
              "        text-align: right;\n",
              "    }\n",
              "</style>\n",
              "<table border=\"1\" class=\"dataframe\">\n",
              "  <thead>\n",
              "    <tr style=\"text-align: right;\">\n",
              "      <th></th>\n",
              "      <th></th>\n",
              "      <th>Afiliados por Periodo, Regimenes, Seccion_cnae y Provincia</th>\n",
              "    </tr>\n",
              "  </thead>\n",
              "  <tbody>\n",
              "    <tr>\n",
              "      <th>Periodo</th>\n",
              "      <th>Total Regimenes(RG+RETA) TODAS LAS SECCIONES Total Nacional</th>\n",
              "      <td>Total Regimenes(RG+RETA) TODAS LAS SECCIONES 4...</td>\n",
              "    </tr>\n",
              "    <tr>\n",
              "      <th>200901</th>\n",
              "      <th>17010774</th>\n",
              "      <td>602652</td>\n",
              "    </tr>\n",
              "    <tr>\n",
              "      <th>200902</th>\n",
              "      <th>16926630</th>\n",
              "      <td>600033</td>\n",
              "    </tr>\n",
              "    <tr>\n",
              "      <th>200903</th>\n",
              "      <th>16810459</th>\n",
              "      <td>596630</td>\n",
              "    </tr>\n",
              "    <tr>\n",
              "      <th>200904</th>\n",
              "      <th>16790169</th>\n",
              "      <td>595732</td>\n",
              "    </tr>\n",
              "    <tr>\n",
              "      <th>...</th>\n",
              "      <th>...</th>\n",
              "      <td>...</td>\n",
              "    </tr>\n",
              "    <tr>\n",
              "      <th>202305</th>\n",
              "      <th>19561827</th>\n",
              "      <td>707334</td>\n",
              "    </tr>\n",
              "    <tr>\n",
              "      <th>202306</th>\n",
              "      <th>19497207</th>\n",
              "      <td>697334</td>\n",
              "    </tr>\n",
              "    <tr>\n",
              "      <th>202307</th>\n",
              "      <th>19607471</th>\n",
              "      <td>699824</td>\n",
              "    </tr>\n",
              "    <tr>\n",
              "      <th>202308</th>\n",
              "      <th>19357319</th>\n",
              "      <td>694993</td>\n",
              "    </tr>\n",
              "    <tr>\n",
              "      <th>202309</th>\n",
              "      <th>19706161</th>\n",
              "      <td>710751</td>\n",
              "    </tr>\n",
              "  </tbody>\n",
              "</table>\n",
              "<p>178 rows × 1 columns</p>\n",
              "</div>\n",
              "    <div class=\"colab-df-buttons\">\n",
              "\n",
              "  <div class=\"colab-df-container\">\n",
              "    <button class=\"colab-df-convert\" onclick=\"convertToInteractive('df-9ca508e2-d68b-46ce-bd9f-2a56d406c6ee')\"\n",
              "            title=\"Convert this dataframe to an interactive table.\"\n",
              "            style=\"display:none;\">\n",
              "\n",
              "  <svg xmlns=\"http://www.w3.org/2000/svg\" height=\"24px\" viewBox=\"0 -960 960 960\">\n",
              "    <path d=\"M120-120v-720h720v720H120Zm60-500h600v-160H180v160Zm220 220h160v-160H400v160Zm0 220h160v-160H400v160ZM180-400h160v-160H180v160Zm440 0h160v-160H620v160ZM180-180h160v-160H180v160Zm440 0h160v-160H620v160Z\"/>\n",
              "  </svg>\n",
              "    </button>\n",
              "\n",
              "  <style>\n",
              "    .colab-df-container {\n",
              "      display:flex;\n",
              "      gap: 12px;\n",
              "    }\n",
              "\n",
              "    .colab-df-convert {\n",
              "      background-color: #E8F0FE;\n",
              "      border: none;\n",
              "      border-radius: 50%;\n",
              "      cursor: pointer;\n",
              "      display: none;\n",
              "      fill: #1967D2;\n",
              "      height: 32px;\n",
              "      padding: 0 0 0 0;\n",
              "      width: 32px;\n",
              "    }\n",
              "\n",
              "    .colab-df-convert:hover {\n",
              "      background-color: #E2EBFA;\n",
              "      box-shadow: 0px 1px 2px rgba(60, 64, 67, 0.3), 0px 1px 3px 1px rgba(60, 64, 67, 0.15);\n",
              "      fill: #174EA6;\n",
              "    }\n",
              "\n",
              "    .colab-df-buttons div {\n",
              "      margin-bottom: 4px;\n",
              "    }\n",
              "\n",
              "    [theme=dark] .colab-df-convert {\n",
              "      background-color: #3B4455;\n",
              "      fill: #D2E3FC;\n",
              "    }\n",
              "\n",
              "    [theme=dark] .colab-df-convert:hover {\n",
              "      background-color: #434B5C;\n",
              "      box-shadow: 0px 1px 3px 1px rgba(0, 0, 0, 0.15);\n",
              "      filter: drop-shadow(0px 1px 2px rgba(0, 0, 0, 0.3));\n",
              "      fill: #FFFFFF;\n",
              "    }\n",
              "  </style>\n",
              "\n",
              "    <script>\n",
              "      const buttonEl =\n",
              "        document.querySelector('#df-9ca508e2-d68b-46ce-bd9f-2a56d406c6ee button.colab-df-convert');\n",
              "      buttonEl.style.display =\n",
              "        google.colab.kernel.accessAllowed ? 'block' : 'none';\n",
              "\n",
              "      async function convertToInteractive(key) {\n",
              "        const element = document.querySelector('#df-9ca508e2-d68b-46ce-bd9f-2a56d406c6ee');\n",
              "        const dataTable =\n",
              "          await google.colab.kernel.invokeFunction('convertToInteractive',\n",
              "                                                    [key], {});\n",
              "        if (!dataTable) return;\n",
              "\n",
              "        const docLinkHtml = 'Like what you see? Visit the ' +\n",
              "          '<a target=\"_blank\" href=https://colab.research.google.com/notebooks/data_table.ipynb>data table notebook</a>'\n",
              "          + ' to learn more about interactive tables.';\n",
              "        element.innerHTML = '';\n",
              "        dataTable['output_type'] = 'display_data';\n",
              "        await google.colab.output.renderOutput(dataTable, element);\n",
              "        const docLink = document.createElement('div');\n",
              "        docLink.innerHTML = docLinkHtml;\n",
              "        element.appendChild(docLink);\n",
              "      }\n",
              "    </script>\n",
              "  </div>\n",
              "\n",
              "\n",
              "<div id=\"df-a2cd9e77-97d3-4d25-a4ad-235ded41b96f\">\n",
              "  <button class=\"colab-df-quickchart\" onclick=\"quickchart('df-a2cd9e77-97d3-4d25-a4ad-235ded41b96f')\"\n",
              "            title=\"Suggest charts.\"\n",
              "            style=\"display:none;\">\n",
              "\n",
              "<svg xmlns=\"http://www.w3.org/2000/svg\" height=\"24px\"viewBox=\"0 0 24 24\"\n",
              "     width=\"24px\">\n",
              "    <g>\n",
              "        <path d=\"M19 3H5c-1.1 0-2 .9-2 2v14c0 1.1.9 2 2 2h14c1.1 0 2-.9 2-2V5c0-1.1-.9-2-2-2zM9 17H7v-7h2v7zm4 0h-2V7h2v10zm4 0h-2v-4h2v4z\"/>\n",
              "    </g>\n",
              "</svg>\n",
              "  </button>\n",
              "\n",
              "<style>\n",
              "  .colab-df-quickchart {\n",
              "      --bg-color: #E8F0FE;\n",
              "      --fill-color: #1967D2;\n",
              "      --hover-bg-color: #E2EBFA;\n",
              "      --hover-fill-color: #174EA6;\n",
              "      --disabled-fill-color: #AAA;\n",
              "      --disabled-bg-color: #DDD;\n",
              "  }\n",
              "\n",
              "  [theme=dark] .colab-df-quickchart {\n",
              "      --bg-color: #3B4455;\n",
              "      --fill-color: #D2E3FC;\n",
              "      --hover-bg-color: #434B5C;\n",
              "      --hover-fill-color: #FFFFFF;\n",
              "      --disabled-bg-color: #3B4455;\n",
              "      --disabled-fill-color: #666;\n",
              "  }\n",
              "\n",
              "  .colab-df-quickchart {\n",
              "    background-color: var(--bg-color);\n",
              "    border: none;\n",
              "    border-radius: 50%;\n",
              "    cursor: pointer;\n",
              "    display: none;\n",
              "    fill: var(--fill-color);\n",
              "    height: 32px;\n",
              "    padding: 0;\n",
              "    width: 32px;\n",
              "  }\n",
              "\n",
              "  .colab-df-quickchart:hover {\n",
              "    background-color: var(--hover-bg-color);\n",
              "    box-shadow: 0 1px 2px rgba(60, 64, 67, 0.3), 0 1px 3px 1px rgba(60, 64, 67, 0.15);\n",
              "    fill: var(--button-hover-fill-color);\n",
              "  }\n",
              "\n",
              "  .colab-df-quickchart-complete:disabled,\n",
              "  .colab-df-quickchart-complete:disabled:hover {\n",
              "    background-color: var(--disabled-bg-color);\n",
              "    fill: var(--disabled-fill-color);\n",
              "    box-shadow: none;\n",
              "  }\n",
              "\n",
              "  .colab-df-spinner {\n",
              "    border: 2px solid var(--fill-color);\n",
              "    border-color: transparent;\n",
              "    border-bottom-color: var(--fill-color);\n",
              "    animation:\n",
              "      spin 1s steps(1) infinite;\n",
              "  }\n",
              "\n",
              "  @keyframes spin {\n",
              "    0% {\n",
              "      border-color: transparent;\n",
              "      border-bottom-color: var(--fill-color);\n",
              "      border-left-color: var(--fill-color);\n",
              "    }\n",
              "    20% {\n",
              "      border-color: transparent;\n",
              "      border-left-color: var(--fill-color);\n",
              "      border-top-color: var(--fill-color);\n",
              "    }\n",
              "    30% {\n",
              "      border-color: transparent;\n",
              "      border-left-color: var(--fill-color);\n",
              "      border-top-color: var(--fill-color);\n",
              "      border-right-color: var(--fill-color);\n",
              "    }\n",
              "    40% {\n",
              "      border-color: transparent;\n",
              "      border-right-color: var(--fill-color);\n",
              "      border-top-color: var(--fill-color);\n",
              "    }\n",
              "    60% {\n",
              "      border-color: transparent;\n",
              "      border-right-color: var(--fill-color);\n",
              "    }\n",
              "    80% {\n",
              "      border-color: transparent;\n",
              "      border-right-color: var(--fill-color);\n",
              "      border-bottom-color: var(--fill-color);\n",
              "    }\n",
              "    90% {\n",
              "      border-color: transparent;\n",
              "      border-bottom-color: var(--fill-color);\n",
              "    }\n",
              "  }\n",
              "</style>\n",
              "\n",
              "  <script>\n",
              "    async function quickchart(key) {\n",
              "      const quickchartButtonEl =\n",
              "        document.querySelector('#' + key + ' button');\n",
              "      quickchartButtonEl.disabled = true;  // To prevent multiple clicks.\n",
              "      quickchartButtonEl.classList.add('colab-df-spinner');\n",
              "      try {\n",
              "        const charts = await google.colab.kernel.invokeFunction(\n",
              "            'suggestCharts', [key], {});\n",
              "      } catch (error) {\n",
              "        console.error('Error during call to suggestCharts:', error);\n",
              "      }\n",
              "      quickchartButtonEl.classList.remove('colab-df-spinner');\n",
              "      quickchartButtonEl.classList.add('colab-df-quickchart-complete');\n",
              "    }\n",
              "    (() => {\n",
              "      let quickchartButtonEl =\n",
              "        document.querySelector('#df-a2cd9e77-97d3-4d25-a4ad-235ded41b96f button');\n",
              "      quickchartButtonEl.style.display =\n",
              "        google.colab.kernel.accessAllowed ? 'block' : 'none';\n",
              "    })();\n",
              "  </script>\n",
              "</div>\n",
              "    </div>\n",
              "  </div>\n"
            ]
          },
          "metadata": {},
          "execution_count": 15
        }
      ]
    },
    {
      "cell_type": "code",
      "source": [],
      "metadata": {
        "id": "F5ZqsrgbvFAw"
      },
      "execution_count": null,
      "outputs": []
    }
  ]
}