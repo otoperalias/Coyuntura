{
  "nbformat": 4,
  "nbformat_minor": 0,
  "metadata": {
    "colab": {
      "provenance": [],
      "authorship_tag": "ABX9TyMgLRf5VL73PYmrH3ERwzap",
      "include_colab_link": true
    },
    "kernelspec": {
      "name": "python3",
      "display_name": "Python 3"
    },
    "language_info": {
      "name": "python"
    }
  },
  "cells": [
    {
      "cell_type": "markdown",
      "metadata": {
        "id": "view-in-github",
        "colab_type": "text"
      },
      "source": [
        "<a href=\"https://colab.research.google.com/github/otoperalias/Coyuntura/blob/main/clases/Tema2_IV.ipynb\" target=\"_parent\"><img src=\"https://colab.research.google.com/assets/colab-badge.svg\" alt=\"Open In Colab\"/></a>"
      ]
    },
    {
      "cell_type": "markdown",
      "source": [
        "## Coyuntura en el mercado laboral\n",
        "\n",
        "En este notebook vamos a usar datos del mercado laboral para aprender a crear un informe de coyuntura. Como ejemplo, vamos hacer un informe de coyuntura para Sevilla."
      ],
      "metadata": {
        "id": "852MA2udGuWC"
      }
    },
    {
      "cell_type": "markdown",
      "source": [
        "### Fuentes estadísticas:\n",
        "* INE. En la sección de [Mercado Laboral](https://www.ine.es/dyngs/INEbase/es/categoria.htm?c=Estadistica_P&cid=1254735976594), cabe destacar las siguientes estadísticas para el análisis de coyuntura:\n",
        "  * [Encuesta de Población Activa (EPA)](https://www.ine.es/dyngs/INEbase/es/operacion.htm?c=Estadistica_C&cid=1254736176918&menu=ultiDatos&idp=1254735976595).\n",
        "  * [Encuesta trimestral de coste laboral](https://www.ine.es/dyngs/INEbase/es/operacion.htm?c=Estadistica_C&cid=1254736045053&menu=ultiDatos&idp=1254735976596).\n",
        "* Ministerio de Trabajo:\n",
        "  * [Estadística del Movimiento Laboral Registrado](https://www.mites.gob.es/es/estadisticas/mercado_trabajo/MLR/welcome.htm).\n",
        "* Seguridad Social:\n",
        "  * [Afiliaciones a la Seguridad Social](https://www.mites.gob.es/es/estadisticas/mercado_trabajo/MLR/welcome.htm).\n",
        "\n",
        "*Para interpretar correctamente las variables, es fundamental conocer bien la metodología, en particular, qué miden exactamente. Así, no es comparable el concepto de \"parado registrado\" con el de \"parado\" de la EPA.*\n"
      ],
      "metadata": {
        "id": "rxzsFqfYHPWy"
      }
    },
    {
      "cell_type": "markdown",
      "source": [
        "### Diseño del informe.\n",
        "\n",
        "Para realizar el informe, primero tenemos que decidir qué variables queremos mostrar en el mismo. Dada la disponibilidad de datos a nivel provincial, vamos a incluir las siguientes variables en nuestro informe:\n",
        "1. Tasa de paro.\n",
        "2. Tasa de actividad.\n",
        "3. Tasa de ocupación.\n",
        "4. Volumen de afiliaciones a la Seguridad Social y su tasa de variación.\n",
        "5. Número de parados registrados y su tasa de variación.\n",
        "  \n",
        "En segundo lugar, tenemos que decidir el formato del informe. Para ello, es útil dibujar un borrador en un papel y así decidir el mejor diseño posible.  \n",
        "En este caso, vamos a crear un informe breve, con la extensión de una página A4. Lo vamos a hacer enteramente en ```matplotlib```. Vamos a estructurar en informe en una figura de 6 axes (3 filas x 2 columnas). Los primeros 5 axes van a contener gráficos, mientras el último una tabla."
      ],
      "metadata": {
        "id": "NPHbI1X-J0l0"
      }
    },
    {
      "cell_type": "markdown",
      "source": [
        "### Importamos librerías y datos:"
      ],
      "metadata": {
        "id": "c_qHoQDaO2D2"
      }
    },
    {
      "cell_type": "code",
      "source": [
        "import pandas as pd\n",
        "pd.set_option('display.max_row',50)\n",
        "pd.set_option('display.max_columns', 20)\n",
        "import matplotlib.pyplot as plt"
      ],
      "metadata": {
        "id": "hVpDIi0GHNk-"
      },
      "execution_count": 3,
      "outputs": []
    },
    {
      "cell_type": "markdown",
      "source": [
        "#### Series de la EPA\n",
        "En [EPA](https://www.ine.es/dyngs/INEbase/es/operacion.htm?c=Estadistica_C&cid=1254736176918&menu=ultiDatos&idp=1254735976595), hacemos clic en la siguiente secuencia: Resultados => Series desde el primer trimestre de 2002 => Resultados provinciales => Población en viviendas familiares (incluye parados) => Tasas de actividad, paro y empleo por provincia y sexo.  \n",
        "Entonces, hacemos la selección deseada: las tres tasas, Ambos sexos, Total Nacional y Sevilla, todos los periodos (ordenándolos haciendo clic en a/z) y le damos a la tabla el formato deseado (con los periodos en las filas).  \n",
        "Posteriormente, descargo el archivo en el formato \"Excel: extensión XLSx\", con el nombre de EPA_Sevilla, en cual lo subo a Google Colab y procedo a importar."
      ],
      "metadata": {
        "id": "_Oj3VlzESrGZ"
      }
    },
    {
      "cell_type": "code",
      "source": [
        "epa=pd.read_excel(\"EPA_Sevilla.xlsx\")"
      ],
      "metadata": {
        "id": "yUzwi5YqO9tP"
      },
      "execution_count": null,
      "outputs": []
    },
    {
      "cell_type": "markdown",
      "source": [
        "Tras explorar brevemente la tabla (```epa[:20]```, ```epa[-20:]```), vemos que tenemos que hacer el siguiente procesamiento:"
      ],
      "metadata": {
        "id": "WRy9_YTiU7ci"
      }
    },
    {
      "cell_type": "code",
      "source": [
        "# 1. Nombrar cada columna de manera apropiada\n",
        "epa.rename(columns={\"Unnamed: 1\":\"TA_esp\",\n",
        "                    \"Unnamed: 2\":\"TA_sev\",\n",
        "                    \"Unnamed: 3\":\"TP_esp\",\n",
        "                    \"Unnamed: 4\":\"TP_sev\",\n",
        "                    \"Unnamed: 5\":\"TE_esp\",\n",
        "                    \"Unnamed: 6\":\"TE_sev\"}, inplace=True)\n",
        "# 2. Seleccionar las filas con datos (de index=8 a =93):\n",
        "epa=epa.iloc[8:94] # Hay que poner 94, porque la última no se incluye\n",
        "\n",
        "# 3. Crear una columna con el periodo, para convertirla en datetime y en el index.\n",
        "epa['periodo']=epa['Resultados provinciales'].str[:4]+\"Q\"+epa['Resultados provinciales'].str[-1:]\n",
        "epa['periodo']=pd.to_datetime(epa['periodo'])\n",
        "epa.set_index('periodo', inplace=True)\n",
        "\n",
        "# 4. Borramos columnas innecesarias\n",
        "epa.drop(columns='Resultados provinciales', inplace=True)"
      ],
      "metadata": {
        "id": "mxlGi9gcUkGP"
      },
      "execution_count": 12,
      "outputs": []
    },
    {
      "cell_type": "code",
      "source": [
        "# Podemos dibujar un gráfico para ver que está todo bien.\n",
        "epa.plot()"
      ],
      "metadata": {
        "id": "Zcbkf3eMXyg_"
      },
      "execution_count": null,
      "outputs": []
    },
    {
      "cell_type": "markdown",
      "source": [
        "#### Parados registrados\n"
      ],
      "metadata": {
        "id": "Ie1WkPxMYbcJ"
      }
    },
    {
      "cell_type": "code",
      "source": [],
      "metadata": {
        "id": "Rnza3VacYKj_"
      },
      "execution_count": null,
      "outputs": []
    }
  ]
}