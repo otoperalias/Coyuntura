{
  "nbformat": 4,
  "nbformat_minor": 0,
  "metadata": {
    "colab": {
      "provenance": [],
      "toc_visible": true,
      "authorship_tag": "ABX9TyNMBzSAYQFzInzOnFgoiLC8",
      "include_colab_link": true
    },
    "kernelspec": {
      "name": "python3",
      "display_name": "Python 3"
    },
    "language_info": {
      "name": "python"
    }
  },
  "cells": [
    {
      "cell_type": "markdown",
      "metadata": {
        "id": "view-in-github",
        "colab_type": "text"
      },
      "source": [
        "<a href=\"https://colab.research.google.com/github/otoperalias/Coyuntura/blob/main/clases/Tema2_IV.ipynb\" target=\"_parent\"><img src=\"https://colab.research.google.com/assets/colab-badge.svg\" alt=\"Open In Colab\"/></a>"
      ]
    },
    {
      "cell_type": "markdown",
      "source": [
        "## Coyuntura en el mercado laboral\n",
        "\n",
        "En este notebook vamos a usar datos del mercado laboral para aprender a crear un informe de coyuntura. Como ejemplo, vamos hacer un informe de coyuntura para Sevilla."
      ],
      "metadata": {
        "id": "852MA2udGuWC"
      }
    },
    {
      "cell_type": "markdown",
      "source": [
        "### Fuentes estadísticas:\n",
        "* INE. En la sección de [Mercado Laboral](https://www.ine.es/dyngs/INEbase/es/categoria.htm?c=Estadistica_P&cid=1254735976594), cabe destacar las siguientes estadísticas para el análisis de coyuntura:\n",
        "  * [Encuesta de Población Activa (EPA)](https://www.ine.es/dyngs/INEbase/es/operacion.htm?c=Estadistica_C&cid=1254736176918&menu=ultiDatos&idp=1254735976595).\n",
        "  * [Encuesta trimestral de coste laboral](https://www.ine.es/dyngs/INEbase/es/operacion.htm?c=Estadistica_C&cid=1254736045053&menu=ultiDatos&idp=1254735976596).\n",
        "* Ministerio de Trabajo:\n",
        "  * [Estadística del Movimiento Laboral Registrado](https://www.mites.gob.es/es/estadisticas/mercado_trabajo/MLR/welcome.htm).\n",
        "* Seguridad Social:\n",
        "  * [Afiliaciones a la Seguridad Social](https://www.seg-social.es/wps/portal/wss/internet/EstadisticasPresupuestosEstudios/Estadisticas/EST8).\n",
        "\n",
        "*Para interpretar correctamente las variables, es fundamental conocer bien la metodología, en particular, qué miden exactamente. Así, no es comparable el concepto de \"parado registrado\" con el de \"parado\" de la EPA.*\n"
      ],
      "metadata": {
        "id": "rxzsFqfYHPWy"
      }
    },
    {
      "cell_type": "markdown",
      "source": [
        "### Diseño del informe.\n",
        "\n",
        "Para realizar el informe, primero tenemos que decidir qué variables queremos mostrar en el mismo. Dada la disponibilidad de datos a nivel provincial, vamos a incluir las siguientes variables en nuestro informe:\n",
        "1. Tasa de paro.\n",
        "2. Tasa de actividad y de empleo.\n",
        "3. Volumen de afiliaciones a la Seguridad Social y su tasa de variación.\n",
        "4. Número de parados registrados y su tasa de variación.\n",
        "  \n",
        "En segundo lugar, tenemos que decidir el formato del informe. Para ello, es útil dibujar un borrador en un papel y así decidir el mejor diseño posible.  \n",
        "En este caso, vamos a crear un informe breve, con la extensión de una página A4. Lo vamos a hacer enteramente en ```matplotlib```. Vamos a estructurar en informe en una figura de 6 axes (3 filas x 2 columnas). Los primeros 4 axes van a contener gráficos, mientras los dos últimos tablas.  "
      ],
      "metadata": {
        "id": "NPHbI1X-J0l0"
      }
    },
    {
      "cell_type": "markdown",
      "source": [
        "  \n",
        "### Consejo: *Proporciona estructura al notebook*  \n",
        "Realizar informes como este requieren muchas celdas de texto y código, es decir, un notebook extenso. Para facilitar la navegación en un notebook extenso es conveniente proporcionarle una estructura. Ello lo hace Google Colab automáticamente a través de los títulos que les damos a las diferentes secciones. Los títulos se crean usando almoadillas (#, ##, ###, para títulos principales, secundarios, ...). De esta manera, podemos navegar fácilmente a través de la pestaña de la izquierda (el índice) y no perdemos tanto tiempo buscando y localizando la parte del notebook que queremos consultar."
      ],
      "metadata": {
        "id": "9RY8Dr_jP5B0"
      }
    },
    {
      "cell_type": "markdown",
      "source": [
        "### Importamos librerías y datos:"
      ],
      "metadata": {
        "id": "c_qHoQDaO2D2"
      }
    },
    {
      "cell_type": "code",
      "source": [
        "import pandas as pd\n",
        "pd.set_option('display.max_row',50)\n",
        "pd.set_option('display.max_columns', 20)\n",
        "import matplotlib.pyplot as plt\n",
        "import matplotlib.dates as mdates\n",
        "from datetime import datetime\n",
        "\n",
        "!pip install plottable  # https://pypi.org/project/plottable/\n",
        "from plottable import Table\n",
        "from plottable import ColumnDefinition"
      ],
      "metadata": {
        "id": "hVpDIi0GHNk-"
      },
      "execution_count": null,
      "outputs": []
    },
    {
      "cell_type": "markdown",
      "source": [
        "#### Series de la EPA\n",
        "En [EPA](https://www.ine.es/dyngs/INEbase/es/operacion.htm?c=Estadistica_C&cid=1254736176918&menu=ultiDatos&idp=1254735976595), hacemos clic en la siguiente secuencia: Resultados => Series desde el primer trimestre de 2002 => Resultados provinciales => Población en viviendas familiares (incluye parados) => Tasas de actividad, paro y empleo por provincia y sexo.  \n",
        "Entonces, hacemos la selección deseada: las tres tasas, Ambos sexos, Total Nacional y Sevilla, todos los periodos (ordenándolos haciendo clic en a/z) y le damos a la tabla el formato deseado (con los periodos en las filas).  \n",
        "Posteriormente, descargo el archivo en el formato \"Excel: extensión XLSx\", con el nombre de EPA_Sevilla, en cual lo subo a Google Colab y procedo a importar."
      ],
      "metadata": {
        "id": "_Oj3VlzESrGZ"
      }
    },
    {
      "cell_type": "code",
      "source": [
        "epa=pd.read_excel(\"EPA sevilla.xlsx\")"
      ],
      "metadata": {
        "id": "yUzwi5YqO9tP"
      },
      "execution_count": null,
      "outputs": []
    },
    {
      "cell_type": "markdown",
      "source": [
        "Tras explorar brevemente la tabla (```epa[:20]```, ```epa[-20:]```), vemos que tenemos que hacer el siguiente procesamiento:"
      ],
      "metadata": {
        "id": "WRy9_YTiU7ci"
      }
    },
    {
      "cell_type": "code",
      "source": [
        "# 1. Nombrar cada columna de manera apropiada\n",
        "epa.rename(columns={\"Unnamed: 1\":\"España (TA)\",\n",
        "                    \"Unnamed: 2\":\"Sevilla (TA)\",\n",
        "                    \"Unnamed: 3\":\"España (TP)\",\n",
        "                    \"Unnamed: 4\":\"Sevilla (TP)\",\n",
        "                    \"Unnamed: 5\":\"España (TE)\",\n",
        "                    \"Unnamed: 6\":\"Sevilla (TE)\"}, inplace=True)\n",
        "# 2. Seleccionar las filas con datos (de index=8 a =93):\n",
        "epa=epa.iloc[8:98] # Hay que poner 94, porque la última no se incluye\n",
        "\n",
        "# 3. Crear una columna con el periodo, para convertirla en datetime y en el index.\n",
        "epa['periodo']=epa['Resultados provinciales'].str[:4]+\"Q\"+epa['Resultados provinciales'].str[-1:]\n",
        "epa['periodo']=pd.to_datetime(epa['periodo'])\n",
        "epa.set_index('periodo', inplace=True)\n",
        "\n",
        "# 4. Borramos columnas innecesarias\n",
        "epa.drop(columns='Resultados provinciales', inplace=True)\n",
        "\n",
        "# 5. Convertimos los datos a \"float\" que lo hemos importado como \"object\"\n",
        "print(epa.dtypes) # Usamos la propiedad dtypes para consultar el formato de los datos\n",
        "epa=epa.astype(\"float\")"
      ],
      "metadata": {
        "id": "mxlGi9gcUkGP"
      },
      "execution_count": null,
      "outputs": []
    },
    {
      "cell_type": "code",
      "source": [
        "# Podemos dibujar un gráfico para ver que está todo bien.\n",
        "epa.plot()"
      ],
      "metadata": {
        "id": "Zcbkf3eMXyg_"
      },
      "execution_count": null,
      "outputs": []
    },
    {
      "cell_type": "markdown",
      "source": [
        "#### Parados registrados\n",
        "\n",
        "Los datos de demandantes de empleo parados (es decir, de parados registrados) están disponibles en [este enlace](https://www.sepe.es/HomeSepe/que-es-el-sepe/estadisticas/empleo/estadisticas-nuevas.html).  \n",
        "Como puede apreciarse, es muy tedioso descargarlos mes a mes, aunque podría hacerse. Para que aprendáis a hacerlo mecánicamente, en [este notebook](https://github.com/otoperalias/Coyuntura/blob/main/clases/Tema2_IV_ap1.ipynb) se procede a extraer los datos necesarios directamente en Python. Es muy recomendable que leais y tratéis de entender bien dicho notebook. El archivo *csv.* resultante con los datos de parados registrados está guardado en mi repositorio github y lo importamos directamente a continuación.  \n",
        "(Los datos de parados registrados totales por provincias también están disponibles en [BDSICE](https://portal.mineco.gob.es/es-es/economiayempresa/EconomiaInformesMacro/Paginas/bdsice.aspx). No obstante, si necesitásemos datos más desagregados tendríamos que usar necesariamente las tablas del SEPE).\n"
      ],
      "metadata": {
        "id": "Ie1WkPxMYbcJ"
      }
    },
    {
      "cell_type": "code",
      "source": [
        "parados=pd.read_csv(\"https://raw.githubusercontent.com/otoperalias/Coyuntura/main/clases/datos/parados_Sevilla.csv\", index_col=0,parse_dates=True)\n",
        "parados"
      ],
      "metadata": {
        "id": "Rnza3VacYKj_"
      },
      "execution_count": null,
      "outputs": []
    },
    {
      "cell_type": "code",
      "source": [
        "# Renombramos\n",
        "parados.rename(columns={\"sev\":\"Sevilla (par)\",\"esp\":\"España (par)\"},inplace=True)\n",
        "# Gráfico\n",
        "parados.plot()"
      ],
      "metadata": {
        "id": "bs3jDQaGW7xq"
      },
      "execution_count": null,
      "outputs": []
    },
    {
      "cell_type": "markdown",
      "source": [
        "#### Datos de afiliados a la SS\n",
        "\n",
        "En la página de las [estadísticas de afiliaciones](https://w6.seg-social.es/PXWeb/pxweb/es/), hacemos click en la siguiente secuencia: Afiliados en alta laboral => Afiliados Fin de mes => 04f. Por provincia, seccion de actividad y regimen (RG y RETA) (Ultimo dia).  \n",
        "En este caso, los datos se pueden descargar cómodamente: seleccionamos todos los periodos, Total Nacional y Sevilla, \"Total Regímenes\" y Todas las secciones. Clicamos en CONTINUAR y luego hacemos clic en \"Pivotación manual\", para poner los periodos en las filas y los datos de España y Sevilla en las columnas.  \n",
        "Finalmente, en la barra de la izquierda, clicamos en **Grabar el resultados como...**, indicando *Excel formato ( csv)* y con el nombre \"Afiliados_Sevilla\"."
      ],
      "metadata": {
        "id": "ctLEH4V5Xd2t"
      }
    },
    {
      "cell_type": "code",
      "source": [
        "ss=pd.read_csv(\"Afiliados_Sevilla.csv\", sep=\";\",skiprows=1)\n",
        "ss"
      ],
      "metadata": {
        "id": "WUZ2Bys7qdgr"
      },
      "execution_count": null,
      "outputs": []
    },
    {
      "cell_type": "markdown",
      "source": [
        "Observamos que solo hay que poner la columna periodo en formato adecuado para establecerlo como datetime y posteriormente como index de la tabla. También parece conveniente renombrar las columnas, con nombres más cortos."
      ],
      "metadata": {
        "id": "S5kbifg8cYe4"
      }
    },
    {
      "cell_type": "code",
      "source": [
        "# Primero: convertimos la columna en string\n",
        "ss['Periodo']=ss['Periodo'].astype(str)\n",
        "# Segundo: le damos formato\n",
        "ss['Periodo']=ss['Periodo'].str[:4]+\"-\"+ss['Periodo'].str[-2:]\n",
        "# Tercero: convertimos en datetime\n",
        "ss['Periodo']=pd.to_datetime(ss['Periodo'])\n",
        "# Cuarto: convertimos en index.\n",
        "ss.set_index(\"Periodo\", inplace=True)\n",
        "# Quinto: renombramos columnas\n",
        "ss.rename(columns={'Total Regimenes(RG+RETA) TODAS LAS SECCIONES Total Nacional':\"España (Afil)\",\n",
        "                   'Total Regimenes(RG+RETA) TODAS LAS SECCIONES 41. Sevilla':\"Sevilla (Afil)\"},inplace=True)"
      ],
      "metadata": {
        "id": "2DPqNNZTt0AS"
      },
      "execution_count": null,
      "outputs": []
    },
    {
      "cell_type": "code",
      "source": [
        "# Podemos dibujar un gráfico para ver que está todo bien.\n",
        "ss.plot()"
      ],
      "metadata": {
        "id": "F5ZqsrgbvFAw"
      },
      "execution_count": null,
      "outputs": []
    },
    {
      "cell_type": "markdown",
      "source": [
        "### Procesamos los datos que necesitamos\n",
        "\n",
        "* Las tasas de paro, actividad y empleo ya vienen calculadas y, por tanto, no hay que hacer nada con ellas.\n",
        "* Para parados registrados y afiliaciones, hay que calcular las tasas de variación interanuales."
      ],
      "metadata": {
        "id": "5ooreMF3eSwo"
      }
    },
    {
      "cell_type": "code",
      "source": [
        "parados_tv=round((parados/parados.shift(12)-1)*100,1)\n",
        "ss_tv=round((ss/ss.shift(12)-1)*100,1)"
      ],
      "metadata": {
        "id": "EBrTNEyxc1KW"
      },
      "execution_count": null,
      "outputs": []
    },
    {
      "cell_type": "markdown",
      "source": [
        "Sobre todo cuando estamos aprendiendo a usar Python/Pandas, es conveniente comprobar que los cálculos son correctos:"
      ],
      "metadata": {
        "id": "dfy2TCKwe4hh"
      }
    },
    {
      "cell_type": "code",
      "source": [
        "# Tasa variación parados registrados Enero 2022, Sevilla:\n",
        "print((189779/230652-1)*100)\n",
        "# Ídem en la nueva tabla:\n",
        "print(parados_tv.loc[\"2022-01\",\"Sevilla (par)\"].iloc[0])\n"
      ],
      "metadata": {
        "id": "0oWk3bPrdk1m"
      },
      "execution_count": null,
      "outputs": []
    },
    {
      "cell_type": "markdown",
      "source": [
        "Ahora vamos a establecer un rango temporal comun, a partir de enero 2021."
      ],
      "metadata": {
        "id": "2tRMrKIricYm"
      }
    },
    {
      "cell_type": "code",
      "source": [
        "epa=epa.loc[\"2021\":]\n",
        "parados=parados.loc[\"2021\":]\n",
        "ss=ss.loc[\"2021\":]"
      ],
      "metadata": {
        "id": "MQlBV_Dwibpk"
      },
      "execution_count": null,
      "outputs": []
    },
    {
      "cell_type": "markdown",
      "source": [
        "Ahora es necesario que preparemos las **tablas** que queremos incluir, una para las variables expresadas en trimestres y otra para las que están en meses.\n"
      ],
      "metadata": {
        "id": "i1b6tvh5ftZ8"
      }
    },
    {
      "cell_type": "code",
      "source": [
        "# Tabla EPA (trimestres)\n",
        "\n",
        "# 1. Creamos una copia con los periodos deseados\n",
        "epa2=epa.iloc[-4:].copy()\n",
        "\n",
        "# 2. Creamos columnas con el nombre de las variables a representar.\n",
        "#    Este paso es un \"truco\" para luego visualizar bien los datos en la tabla\n",
        "epa2[\"TASA DE PARO\"]=\"\"\n",
        "epa2[\"TASA DE ACTIVIDAD\"]=\"\"\n",
        "epa2[\"TASA DE EMPLEO\"]=\"\"\n",
        "\n",
        "# 3. Ordenamos las columnas:\n",
        "epa2=epa2[[\"TASA DE PARO\",'Sevilla (TP)','España (TP)',\n",
        "         \"TASA DE ACTIVIDAD\",'Sevilla (TA)','España (TA)',\n",
        "         \"TASA DE EMPLEO\",'Sevilla (TE)','España (TE)']]\n",
        "\n",
        "# 4. Transponemos la tabla\n",
        "epa2=epa2.T\n",
        "\n",
        "# 5. Renombramos las columnas\n",
        "#    El encabezado de las columnas es ahora este: '2022-07-01', '2022-10-01', '2023-01-01', '2023-04-01', poco\n",
        "#    apropiado para una tabla.\n",
        "#    Vamos a darle otra lista de etiquetas con mejor formato:\n",
        "epa2.columns=[\"3º tr.23\",\"4º tr.23\",\"1º tr.24\",\"2º tr.24\"]\n",
        "\n",
        "epa2.index.name = \" \" # 1 espacio: para que luego no se vea nada.\n",
        "\n",
        "# Vemos como queda\n",
        "Table(epa2,\n",
        "      column_definitions=[ColumnDefinition(name=\" \", width=2, textprops={\"ha\": \"left\"})],\n",
        "      footer_divider=True )"
      ],
      "metadata": {
        "id": "ro-8IcJEeufN"
      },
      "execution_count": null,
      "outputs": []
    },
    {
      "cell_type": "code",
      "source": [
        "# Tabla parados y afiliaciones (meses)\n",
        "\n",
        "# 1. Para hacerlos más eficientemente, vamos primero a unir las 4 tablas:\n",
        "tabla2=parados.merge(parados_tv,on=\"fecha\")\n",
        "ss.index.name=\"fecha\" # esto es necesario para unir las tablas\n",
        "ss_tv.index.name=\"fecha\" # esto es necesario para unir las tablas\n",
        "tabla2=tabla2.merge(ss,on=\"fecha\")\n",
        "tabla2=tabla2.merge(ss_tv,on=\"fecha\")\n",
        "\n",
        "# 2. Seleccionarmos los últimos 6 meses\n",
        "tabla2=tabla2.iloc[-6:]\n",
        "\n",
        "# 3. Creamos columnas con el nombre de las variables a representar.\n",
        "tabla2['AFILIADOS (miles)']=\"\"\n",
        "tabla2['AFILIADOS (tasa var. interanual)']=\"\"\n",
        "tabla2['PARADOS (miles)']=\"\"\n",
        "tabla2['PARADOS (tasa var. interanual)']=\"\"\n",
        "\n",
        "# 4. Dividimos por 1000 las columnas con número de personas\n",
        "for c in ['Sevilla (par)_x', 'España (par)_x', 'España (Afil)_x', 'Sevilla (Afil)_x']:\n",
        "  tabla2[c]=tabla2[c]/1000\n",
        "  tabla2[c]=tabla2[c].round(0).astype(int)\n",
        "\n",
        "# 5. Ordenamos las columnas:\n",
        "tabla2=tabla2[['AFILIADOS (miles)','Sevilla (Afil)_x','España (Afil)_x',\n",
        "               'AFILIADOS (tasa var. interanual)','Sevilla (Afil)_y','España (Afil)_y',\n",
        "               'PARADOS (miles)','Sevilla (par)_x','España (par)_x',\n",
        "               'PARADOS (tasa var. interanual)','Sevilla (par)_y','España (par)_y']]\n",
        "\n",
        "# 6. Le damos el nombre deseado a las columnas\n",
        "tabla2.columns=['AFILIADOS (miles)','Sevilla','España',\n",
        "               'AFILIADOS (tasa var. interanual)','Sevilla','España',\n",
        "               'PARADOS (miles)','Sevilla','España',\n",
        "               'PARADOS (tasa var. interanual)','Sevilla','España']\n",
        "\n",
        "# 7. Transponemos la tabla\n",
        "tabla2=tabla2.T\n",
        "\n",
        "# 8. Renombramos las columnas\n",
        "#    El encabezado de las columnas es ahora este: '2023-04-01', '2023-05-01', '2023-06-01', '2023-07-01','2023-08-01', '2023-09-01'\n",
        "#    Vamos a darle otra lista de etiquetas con mejor formato:\n",
        "tabla2.columns=[\"Abr\",\"May\",\"Jun\",\"Jul\",\"Ago\",\"Sep\"]\n",
        "\n",
        "tabla2.index.name = \" \" # 1 espacio: para que luego no se vea nada.\n",
        "\n",
        "# Vemos como queda\n",
        "Table(tabla2,\n",
        "      column_definitions=[ColumnDefinition(name=\" \", width=2, textprops={\"ha\": \"left\"})],\n",
        "      footer_divider=True )"
      ],
      "metadata": {
        "id": "jzwhcSY7lyrC"
      },
      "execution_count": null,
      "outputs": []
    },
    {
      "cell_type": "markdown",
      "source": [
        "* **Nota sobre automatización de informes**:  \n",
        "De todo el código en este apartado, la única parte que requiere modificaciones para actualizar el informe es el cambio de nombre a las columnas para que las fechas aparezcan con un formato adecuado en la tabla. Esto también se puede automatizar. En [este otro notebook](https://github.com/otoperalias/Coyuntura/blob/main/clases/Tema2_IV_ap2.ipynb) se muestra cómo se haría esto de manera sencilla."
      ],
      "metadata": {
        "id": "7bdXg9v6zZom"
      }
    },
    {
      "cell_type": "markdown",
      "source": [
        "### Finalmente, creamos el informe como una figura."
      ],
      "metadata": {
        "id": "ln7tg68Jw1Eb"
      }
    },
    {
      "cell_type": "code",
      "source": [
        "fig,((ax1,ax2),(ax3,ax4),(ax5,ax6))=plt.subplots(3,2,figsize=(8.27,11.69)) # Una hoja A4 tiene ese tamaño, en pulgadas.\n",
        "\n",
        "# ax1: tasa de paro\n",
        "ax1.plot(epa[\"Sevilla (TP)\"],label=\"Sevilla\",color=\"tab:blue\")\n",
        "ax1.plot(epa[\"España (TP)\"],label=\"España\",color=\"tab:red\")\n",
        "ax1.spines[['right', 'top']].set_visible(False)\n",
        "ax1.xaxis.set_major_locator(mdates.MonthLocator(bymonth=(1,7)))  # Frecuencia etiquetas: cada seis meses\n",
        "ax1.xaxis.set_major_formatter(mdates.ConciseDateFormatter(ax1.xaxis.get_major_locator()))  # Formato etiquetas\n",
        "ax1.set_title(\"Tasa de paro\", size=11)\n",
        "ax1.annotate(\"Sevilla\",xy=(datetime(2021,10,1),21),  # Para clarificar desde el principio la serie que corresponde a Sevilla\n",
        "             xytext=(datetime(2022,5,1),22),\n",
        "             arrowprops=dict(facecolor='black', width=0.5,headwidth=4))\n",
        "ax1.annotate(\"España\",xy=(datetime(2021,11,1),13.3),   # Para clarificar desde el principio la serie que corresponde a España\n",
        "             xytext=(datetime(2021,1,1),11.5),\n",
        "             arrowprops=dict(facecolor='black', width=0.5,headwidth=4))\n",
        "\n",
        "# ax2: tasa de actividad y de empleo\n",
        "ax2.plot(epa[\"Sevilla (TA)\"],label=\"Tasa act.\",color=\"tab:blue\")\n",
        "ax2.plot(epa[\"Sevilla (TE)\"],label=\"Tasa emp.\",color=\"tab:blue\",linestyle=\"dashed\")\n",
        "ax2.plot(epa[\"España (TA)\"],color=\"tab:red\")\n",
        "ax2.plot(epa[\"España (TE)\"], color=\"tab:red\",linestyle=\"dashed\")\n",
        "ax2.spines[['right', 'top']].set_visible(False)\n",
        "ax2.legend(frameon=False)\n",
        "ax2.xaxis.set_major_locator(mdates.MonthLocator(bymonth=(1,7)))  # Frecuencia etiquetas: cada seis meses\n",
        "ax2.xaxis.set_major_formatter(mdates.ConciseDateFormatter(ax1.xaxis.get_major_locator()))  # Formato etiquetas\n",
        "ax2.set_title(\"Tasa de actividad y empleo\", size=11)\n",
        "\n",
        "# ax3: tasa var afiliaciones\n",
        "ax3.plot(ss_tv.loc[\"2021\":,\"Sevilla (Afil)\"],label=\"Sevilla\",color=\"tab:blue\")\n",
        "ax3.plot(ss_tv.loc[\"2021\":,\"España (Afil)\"],label=\"España\",color=\"tab:red\")\n",
        "ax3.spines[['right', 'top']].set_visible(False)\n",
        "ax3.axhline(y=0, linewidth=0.75, color=\"black\",linestyle=\"dashed\")\n",
        "ax3.xaxis.set_major_locator(mdates.MonthLocator(bymonth=(1,7)))  # Frecuencia etiquetas: cada seis meses\n",
        "ax3.xaxis.set_major_formatter(mdates.ConciseDateFormatter(ax1.xaxis.get_major_locator()))  # Formato etiquetas\n",
        "ax3.set_title(\"Afiliados a la SS: tasa de variación\", size=11)\n",
        "\n",
        "# ax4: tasa var parados\n",
        "ax4.plot(parados_tv[\"Sevilla (par)\"],label=\"Sevilla\",color=\"tab:blue\")\n",
        "ax4.plot(parados_tv[\"España (par)\"],label=\"España\",color=\"tab:red\")\n",
        "ax4.spines[['right', 'top']].set_visible(False)\n",
        "ax4.axhline(y=0, linewidth=0.75, color=\"black\",linestyle=\"dashed\")\n",
        "ax4.xaxis.set_major_locator(mdates.MonthLocator(bymonth=(1,7)))  # Frecuencia etiquetas: cada seis meses\n",
        "ax4.xaxis.set_major_formatter(mdates.ConciseDateFormatter(ax1.xaxis.get_major_locator()))  # Formato etiquetas\n",
        "ax4.set_title(\"Parados registrados: tasa de variación\", size=10)\n",
        "ax4.legend(bbox_to_anchor=(0.35,-0.1),ncols=2,frameon=False)\n",
        "\n",
        "# ax5: tabla epa\n",
        "Table(epa2, ax=ax5, textprops={\"fontsize\":7},\n",
        "      column_definitions=[ColumnDefinition(name=\" \", width=2, textprops={\"ha\": \"left\"})],\n",
        "      footer_divider=True)\n",
        "\n",
        "# ax6: tabla ss y parados\n",
        "Table(tabla2,ax=ax6,textprops={\"fontsize\":7},\n",
        "      column_definitions=[ColumnDefinition(name=\" \", width=2, textprops={\"ha\": \"left\"})],\n",
        "      footer_divider=True )\n",
        "\n",
        "# General para toda la figura\n",
        "plt.subplots_adjust(hspace=0.4)\n",
        "fig.text(0.1,0.96,\"COYUNTURA LABORAL EN SEVILLA Y ESPAÑA\", size=15)\n",
        "fig.text(0.1,0.93,\"Octubre 2023\", size=15)\n",
        "fig.text(0.105,0.08,\"Fuente: INE, Ministerio de Trabajo e INSS. Tasas de variación interanuales para parados y afiliados. Elaboración propia\", size=8)\n",
        "plt.savefig(\"CoyunturaLaboral_Sevilla.pdf\", format=\"pdf\")\n",
        "plt.show()"
      ],
      "metadata": {
        "id": "xLz9Q9zRl8Os"
      },
      "execution_count": null,
      "outputs": []
    },
    {
      "cell_type": "markdown",
      "source": [
        "### Último paso: *error check*\n",
        "\n",
        "Una vez hecho el informe comprobamos que todos los gráficos tienen sentido, están correctos y contienen toda la información necesaria (se pueden interpretar perfectamente). Además, comprobamos algunos de los valores que contiene el informe, tanto en gráficos como en tablas, para asegurarnos de que no hay errores. Por ejemplo, vamos a la página del INE y vemos que la tasa de paro de la provincia y España es efectivamente la que aparece en el informe. Así descartamos que hayamos cometido errores al importar y procesar los datos. Esto es especialmente necesario la primera vez que montamos un informe. Para sucesivas actualizaciones el *error check* puede ser más ligero.\n",
        "\n"
      ],
      "metadata": {
        "id": "JGHhI7lIOsp_"
      }
    },
    {
      "cell_type": "code",
      "source": [],
      "metadata": {
        "id": "49_Z6kpWPhKs"
      },
      "execution_count": null,
      "outputs": []
    }
  ]
}