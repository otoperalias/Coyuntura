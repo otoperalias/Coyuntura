{
  "nbformat": 4,
  "nbformat_minor": 0,
  "metadata": {
    "colab": {
      "provenance": [],
      "authorship_tag": "ABX9TyPCKr19JurzhcPeJ4m1Tvy2",
      "include_colab_link": true
    },
    "kernelspec": {
      "name": "python3",
      "display_name": "Python 3"
    },
    "language_info": {
      "name": "python"
    }
  },
  "cells": [
    {
      "cell_type": "markdown",
      "metadata": {
        "id": "view-in-github",
        "colab_type": "text"
      },
      "source": [
        "<a href=\"https://colab.research.google.com/github/otoperalias/Coyuntura/blob/main/clases/Informe2_preparacion.ipynb\" target=\"_parent\"><img src=\"https://colab.research.google.com/assets/colab-badge.svg\" alt=\"Open In Colab\"/></a>"
      ]
    },
    {
      "cell_type": "code",
      "execution_count": 1,
      "metadata": {
        "id": "HGXDdTmCilwO"
      },
      "outputs": [],
      "source": [
        "import pandas as pd\n",
        "pd.set_option('display.max_row', 50)\n",
        "pd.set_option('display.max_columns', 20)\n",
        "import matplotlib.pyplot as plt"
      ]
    },
    {
      "cell_type": "code",
      "source": [
        "from google.colab import files\n",
        "files.upload()"
      ],
      "metadata": {
        "id": "_XKr5M2jioUY"
      },
      "execution_count": null,
      "outputs": []
    },
    {
      "cell_type": "code",
      "source": [
        "pib=pd.read_excel('datosOCDE2022.xlsx')\n",
        "pib=pib[[\"Country\",\"2020\",\"2021\"]]\n",
        "pib"
      ],
      "metadata": {
        "id": "6SB5c2arixsU"
      },
      "execution_count": null,
      "outputs": []
    },
    {
      "cell_type": "code",
      "source": [
        "paises=pib.Country.to_list()\n",
        "paises"
      ],
      "metadata": {
        "id": "JNySXf68jdYX"
      },
      "execution_count": null,
      "outputs": []
    },
    {
      "cell_type": "code",
      "source": [
        "# Datos COVID EUROPA\n",
        "datos = pd.read_csv(\"https://raw.githubusercontent.com/otoperalias/Coyuntura/main/clases/datos/owid-covid-data_eu.csv\",sep=\",\", index_col=0, parse_dates=True)\n",
        "datos"
      ],
      "metadata": {
        "id": "5Dw1l4Rnn7jY"
      },
      "execution_count": null,
      "outputs": []
    },
    {
      "cell_type": "code",
      "source": [
        "# Calcular variables de interés de COVID\n"
      ],
      "metadata": {
        "id": "iiFFHa4XoXbw"
      },
      "execution_count": null,
      "outputs": []
    }
  ]
}