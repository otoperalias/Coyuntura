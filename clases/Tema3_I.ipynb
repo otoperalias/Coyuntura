{
  "nbformat": 4,
  "nbformat_minor": 0,
  "metadata": {
    "colab": {
      "name": "Untitled3.ipynb",
      "provenance": [],
      "authorship_tag": "ABX9TyODLlIQShPbqx8swK014UnF",
      "include_colab_link": true
    },
    "kernelspec": {
      "name": "python3",
      "display_name": "Python 3"
    },
    "language_info": {
      "name": "python"
    }
  },
  "cells": [
    {
      "cell_type": "markdown",
      "metadata": {
        "id": "view-in-github",
        "colab_type": "text"
      },
      "source": [
        "<a href=\"https://colab.research.google.com/github/otoperalias/Coyuntura/blob/main/clases/Tema3_I.ipynb\" target=\"_parent\"><img src=\"https://colab.research.google.com/assets/colab-badge.svg\" alt=\"Open In Colab\"/></a>"
      ]
    },
    {
      "cell_type": "markdown",
      "metadata": {
        "id": "M34G07QasMF1"
      },
      "source": [
        "### 3.1. Manipulación de series\n",
        "\n",
        "Leer las diapositivas disponibles en el [Aula Virtual](https://campusvirtual.upo.es/) antes de ejecutar este notebook."
      ]
    },
    {
      "cell_type": "code",
      "metadata": {
        "id": "p-TarU4gsfMd"
      },
      "source": [
        "# Importamos funciones y establecemos configuración general\n",
        "import numpy as np\n",
        "import pandas as pd\n",
        "import matplotlib.pyplot as plt\n",
        "plt.style.use('Solarize_Light2')"
      ],
      "execution_count": null,
      "outputs": []
    },
    {
      "cell_type": "code",
      "metadata": {
        "id": "kzZ1Xy59si18"
      },
      "source": [
        "# Importamos datos\n",
        "tabla = pd.read_csv(\"https://raw.githubusercontent.com/otoperalias/Coyuntura/main/clases/datos/S%26P500.csv\",sep=\",\", index_col=0, parse_dates=True)\n",
        "sp500=tabla[\"Adj_Close\"].copy()\n",
        "sp500"
      ],
      "execution_count": null,
      "outputs": []
    },
    {
      "cell_type": "markdown",
      "metadata": {
        "id": "3Fn_zcatvQ6R"
      },
      "source": [
        "#### ELIMINACIÓN DE LA TENDENCIA"
      ]
    },
    {
      "cell_type": "code",
      "metadata": {
        "id": "9z_akKVevLLL"
      },
      "source": [
        "# Gráfico serie original\n",
        "fig,ax=plt.subplots(1,1,figsize=(12,6))\n",
        "ax.plot(sp500) # sp500.plot(ax=ax)\n",
        "ax.set_title(\"S&P 500 Index - Adjusted Close Price - 1990-2019\")\n",
        "plt.show()"
      ],
      "execution_count": null,
      "outputs": []
    },
    {
      "cell_type": "code",
      "metadata": {
        "id": "SGF62C-9vMkk"
      },
      "source": [
        "# 1. Restando la línea de mejor ajuste calculada a través de una regresión\n",
        "from scipy import signal\n",
        "detrended = signal.detrend(sp500)\n",
        "fig,ax=plt.subplots(1,1,figsize=(12,6))\n",
        "ax.plot(detrended)\n",
        "ax.set_title('Evolución de S&P eliminando la tendencia lineal', fontsize=16)\n",
        "plt.show()"
      ],
      "execution_count": null,
      "outputs": []
    },
    {
      "cell_type": "code",
      "metadata": {
        "id": "2ML5cJlOviwK"
      },
      "source": [
        "# 2. Restar el componente de tendencia obtenido de la descomposición de series (lo veremos con más detalle en la sección 2 del tema)\n",
        "from statsmodels.tsa.seasonal import seasonal_decompose\n",
        "result_mul = seasonal_decompose(sp500, model='additive')\n",
        "detrended = sp500 - result_mul.trend\n",
        "fig,ax=plt.subplots(1,1,figsize=(12,6))\n",
        "ax.plot(detrended)\n",
        "ax.set_title('Evolución de S&P eliminado el componente tendencia de la desestacionalización', fontsize=16)\n",
        "plt.show()"
      ],
      "execution_count": null,
      "outputs": []
    },
    {
      "cell_type": "code",
      "metadata": {
        "id": "bpYiWnStvyrO"
      },
      "source": [
        "# 3. Restando la media móvil\n",
        "rol_mean=sp500.rolling(window=12, center=True).mean()\n",
        "detrended = sp500 - rol_mean\n",
        "fig,ax=plt.subplots(1,1,figsize=(12,6))\n",
        "ax.plot(detrended)\n",
        "ax.set_title('Evolución de S&P eliminado la media móvil', fontsize=16)\n",
        "plt.show()"
      ],
      "execution_count": null,
      "outputs": []
    },
    {
      "cell_type": "code",
      "metadata": {
        "id": "SWeG4Eljv0Uy"
      },
      "source": [
        "# 4. Restando filtro HP\n",
        "import statsmodels.api as sm\n",
        "cycle, trend = sm.tsa.filters.hpfilter(sp500, 129600)\n",
        "fig,ax=plt.subplots(1,1,figsize=(12,6))\n",
        "ax.plot(cycle) # cycle es equivalente a  (sp500 - trend)\n",
        "ax.set_title('Evolución de S&P eliminado la tendencia HP', fontsize=16)\n",
        "plt.show()"
      ],
      "execution_count": null,
      "outputs": []
    },
    {
      "cell_type": "markdown",
      "metadata": {
        "id": "VhLWthRiv-WJ"
      },
      "source": [
        "#### ELIMINACIÓN COMPONENTE ESTACIONAL\n"
      ]
    },
    {
      "cell_type": "code",
      "metadata": {
        "id": "H10CMe48wBBN"
      },
      "source": [
        "# Métodos de desestacionalización: lo veremos en la parte 2 del tema.\n",
        "\n",
        "# Métodos sencillos\n",
        "    # a Media móvil\n",
        "desest=sp500.rolling(window=12).mean()\n",
        "desest.plot()\n",
        "    # b Diferencia interanual\n",
        "desest=sp500.diff(12)\n",
        "desest.plot()"
      ],
      "execution_count": null,
      "outputs": []
    },
    {
      "cell_type": "markdown",
      "metadata": {
        "id": "7Y7oueH9xKok"
      },
      "source": [
        "#### TRATAMIENTO DE VALORES NULOS"
      ]
    },
    {
      "cell_type": "code",
      "metadata": {
        "id": "-CxCDFXQxLQc"
      },
      "source": [
        "# Importamos librerías adicionales y datos nuevos con valores establecidos como nulos adrede.\n",
        "from sklearn.metrics import mean_squared_error\n",
        "tabla2= pd.read_csv(\"https://raw.githubusercontent.com/otoperalias/Coyuntura/main/clases/datos/S%26P500_con_nulos.csv\",sep=\",\", index_col=0, parse_dates=True)\n",
        "sp500_n=tabla2[\"Adj_Close\"].copy()\n",
        "\n",
        "# Seleccionamos las 100 últimas observaciones\n",
        "sp500=sp500[-100:]\n",
        "sp500_n=sp500_n[-100:]"
      ],
      "execution_count": null,
      "outputs": []
    },
    {
      "cell_type": "code",
      "metadata": {
        "id": "zp5Gl4DJxl7L"
      },
      "source": [
        "# Serie original resaltando valores nulos\n",
        "plt.figure(figsize=(6,3), dpi=110)\n",
        "plt.plot(sp500, color='red')\n",
        "plt.plot(sp500_n, color='green')\n",
        "plt.legend([\"Missing Data\", \"Available Data\"])"
      ],
      "execution_count": null,
      "outputs": []
    },
    {
      "cell_type": "code",
      "metadata": {
        "id": "BUxdIJ8dxmSs"
      },
      "source": [
        "# 1 Relleno hacia delante.\n",
        "imputation = sp500_n.ffill()\n",
        "error = mean_squared_error(sp500, imputation) # Para comparar luego qué método genera menos errores\n",
        "print(error)\n",
        "plt.plot(sp500, label='Original', color='green')\n",
        "plt.plot(imputation, label='Imputation', color='red')\n",
        "plt.legend()"
      ],
      "execution_count": null,
      "outputs": []
    },
    {
      "cell_type": "code",
      "metadata": {
        "id": "8d3rT5pYxxti"
      },
      "source": [
        "# 2 Relleno hacia atrás\n",
        "imputation = sp500_n.bfill()\n",
        "error = mean_squared_error(sp500, imputation)\n",
        "print(error)\n",
        "plt.plot(sp500, label='Original', color='green')\n",
        "plt.plot(imputation, label='Imputation', color='red')\n",
        "plt.legend()"
      ],
      "execution_count": null,
      "outputs": []
    },
    {
      "cell_type": "code",
      "metadata": {
        "id": "zZ_CHQIOx0aG"
      },
      "source": [
        "# 3. Interpolación lineal\n",
        "imputation = sp500_n.interpolate()\n",
        "error = mean_squared_error(sp500, imputation)\n",
        "print(error)\n",
        "plt.plot(sp500, label='Original', color='green')\n",
        "plt.plot(imputation, label='Imputation', color='red')\n",
        "plt.legend()"
      ],
      "execution_count": null,
      "outputs": []
    },
    {
      "cell_type": "code",
      "metadata": {
        "id": "P8RMkGX7x3F_"
      },
      "source": [
        "# 4. Interpolación cúbica\n",
        "imputation = sp500_n.interpolate(method=\"cubic\")\n",
        "error = mean_squared_error(sp500, imputation)\n",
        "print(error)\n",
        "plt.plot(sp500, label='Original', color='green')\n",
        "plt.plot(imputation, label='Imputation', color='red')\n",
        "plt.legend()"
      ],
      "execution_count": null,
      "outputs": []
    },
    {
      "cell_type": "markdown",
      "metadata": {
        "id": "oaxQRYzIyPwR"
      },
      "source": [
        "#### SUAVIZADO DE SERIES TEMPORALES"
      ]
    },
    {
      "cell_type": "code",
      "metadata": {
        "id": "YmzpEm_UyRUi"
      },
      "source": [
        "# Importamos librería adicional y los datos de nuevo\n",
        "from statsmodels.nonparametric.smoothers_lowess import lowess\n",
        "tabla = pd.read_csv(\"https://raw.githubusercontent.com/otoperalias/Coyuntura/main/clases/datos/S%26P500.csv\",sep=\",\", index_col=0, parse_dates=True)"
      ],
      "execution_count": null,
      "outputs": []
    },
    {
      "cell_type": "code",
      "metadata": {
        "id": "7bHl9CJvyxpE"
      },
      "source": [
        "# 1. Moving Average\n",
        "sp500_ma = tabla.Adj_Close.rolling(7, center=True).mean()"
      ],
      "execution_count": null,
      "outputs": []
    },
    {
      "cell_type": "code",
      "metadata": {
        "id": "xyE-hzdYyz6O"
      },
      "source": [
        "# 2. Loess Smoothing (5% and 15%)\n",
        "sp500_loess_2 = pd.DataFrame(lowess(tabla.Adj_Close, np.arange(len(tabla.Adj_Close)), frac=0.02)[:, 1], index=tabla.index, columns=['Adj_Close'])\n",
        "sp500_loess_5 = pd.DataFrame(lowess(tabla.Adj_Close, np.arange(len(tabla.Adj_Close)), frac=0.05)[:, 1], index=tabla.index, columns=['Adj_Close'])"
      ],
      "execution_count": null,
      "outputs": []
    },
    {
      "cell_type": "code",
      "source": [
        "# 3. Filtro HP\n",
        "cycle, trend = sm.tsa.filters.hpfilter(tabla.Adj_Close, 14400)"
      ],
      "metadata": {
        "id": "3miLmW-nK3Pt"
      },
      "execution_count": null,
      "outputs": []
    },
    {
      "cell_type": "code",
      "metadata": {
        "id": "clsujrXMy2I9"
      },
      "source": [
        "# Plot\n",
        "fig, ax = plt.subplots(5,1, figsize=(7, 9), sharex=True, dpi=120)\n",
        "fig.suptitle('Suavizado de series temporales', y=0.95, fontsize=14)\n",
        "ax[0].plot(tabla.Adj_Close)\n",
        "ax[0].set_title(\"Original\", size=\"10\")\n",
        "ax[1].plot(sp500_loess_2)\n",
        "ax[1].set_title(\"Loess smoothed 2%\", size=\"10\")\n",
        "ax[2].plot(sp500_loess_5)\n",
        "ax[2].set_title(\"Loess smoothed 5%\", size=\"10\")\n",
        "ax[3].plot(sp500_ma)\n",
        "ax[3].set_title(\"Media móvil\", size=\"10\")\n",
        "ax[4].plot(trend)\n",
        "ax[4].set_title(\"HP\", size=\"10\")\n",
        "plt.subplots_adjust(hspace=0.25)\n",
        "plt.show()"
      ],
      "execution_count": null,
      "outputs": []
    },
    {
      "cell_type": "code",
      "metadata": {
        "id": "BnvxRFeOy4Gd"
      },
      "source": [],
      "execution_count": null,
      "outputs": []
    }
  ]
}