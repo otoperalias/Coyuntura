{
  "nbformat": 4,
  "nbformat_minor": 0,
  "metadata": {
    "hide_input": false,
    "kernelspec": {
      "display_name": "Python 3",
      "language": "python",
      "name": "python3"
    },
    "language_info": {
      "codemirror_mode": {
        "name": "ipython",
        "version": 3
      },
      "file_extension": ".py",
      "mimetype": "text/x-python",
      "name": "python",
      "nbconvert_exporter": "python",
      "pygments_lexer": "ipython3",
      "version": "3.8.5"
    },
    "colab": {
      "name": "Una_aplicacion_PWT.ipynb",
      "provenance": [],
      "toc_visible": true,
      "include_colab_link": true
    }
  },
  "cells": [
    {
      "cell_type": "markdown",
      "metadata": {
        "id": "view-in-github",
        "colab_type": "text"
      },
      "source": [
        "<a href=\"https://colab.research.google.com/github/otoperalias/Coyuntura/blob/main/clases/Tema2_ExplorandoPWT.ipynb\" target=\"_parent\"><img src=\"https://colab.research.google.com/assets/colab-badge.svg\" alt=\"Open In Colab\"/></a>"
      ]
    },
    {
      "cell_type": "markdown",
      "metadata": {
        "id": "hc3O7nEY52sw"
      },
      "source": [
        "# Tema 2\n",
        "\n",
        "## Explorando la Penn World Table"
      ]
    },
    {
      "cell_type": "markdown",
      "metadata": {
        "id": "RQ51FU7D6L-1"
      },
      "source": [
        "La Penn World Table es una base de datos macroeconómica con información sobre niveles de renta, productividad, etc. de cerca de 180 países desde 1950.\n",
        "\n",
        "  * Accesible aquí: [Penn World Table](https://www.rug.nl/ggdc/productivity/pwt/?lang=en)"
      ]
    },
    {
      "cell_type": "markdown",
      "metadata": {
        "id": "Q3QNVH-zHxOp"
      },
      "source": [
        "### 1. Importación de la base de datos y breve exploración"
      ]
    },
    {
      "cell_type": "code",
      "metadata": {
        "id": "8d-rQwcb52s0"
      },
      "source": [
        "# Importamos librerias y establecemos algunas opciones\n",
        "import pandas as pd\n",
        "pd.set_option('display.max_row', 100)\n",
        "pd.set_option('display.max_columns', 30)\n",
        "import matplotlib.pyplot as plt\n"
      ],
      "execution_count": 1,
      "outputs": []
    },
    {
      "cell_type": "code",
      "metadata": {
        "colab": {
          "base_uri": "https://localhost:8080/",
          "height": 443
        },
        "id": "MiQka71Z52s2",
        "outputId": "2ca85ad9-0215-41fc-8c2e-1b66ff6fe407"
      },
      "source": [
        "# Importar datos\n",
        "link=\"https://www.rug.nl/ggdc/docs/pwt100.xlsx\"\n",
        "pwt=pd.read_excel(link,\"Data\") # Es una base de datos grande\n",
        "pwt"
      ],
      "execution_count": 2,
      "outputs": [
        {
          "output_type": "execute_result",
          "data": {
            "text/html": [
              "<div>\n",
              "<style scoped>\n",
              "    .dataframe tbody tr th:only-of-type {\n",
              "        vertical-align: middle;\n",
              "    }\n",
              "\n",
              "    .dataframe tbody tr th {\n",
              "        vertical-align: top;\n",
              "    }\n",
              "\n",
              "    .dataframe thead th {\n",
              "        text-align: right;\n",
              "    }\n",
              "</style>\n",
              "<table border=\"1\" class=\"dataframe\">\n",
              "  <thead>\n",
              "    <tr style=\"text-align: right;\">\n",
              "      <th></th>\n",
              "      <th>countrycode</th>\n",
              "      <th>country</th>\n",
              "      <th>currency_unit</th>\n",
              "      <th>year</th>\n",
              "      <th>rgdpe</th>\n",
              "      <th>rgdpo</th>\n",
              "      <th>pop</th>\n",
              "      <th>emp</th>\n",
              "      <th>avh</th>\n",
              "      <th>hc</th>\n",
              "      <th>ccon</th>\n",
              "      <th>cda</th>\n",
              "      <th>cgdpe</th>\n",
              "      <th>cgdpo</th>\n",
              "      <th>cn</th>\n",
              "      <th>...</th>\n",
              "      <th>cor_exp</th>\n",
              "      <th>statcap</th>\n",
              "      <th>csh_c</th>\n",
              "      <th>csh_i</th>\n",
              "      <th>csh_g</th>\n",
              "      <th>csh_x</th>\n",
              "      <th>csh_m</th>\n",
              "      <th>csh_r</th>\n",
              "      <th>pl_c</th>\n",
              "      <th>pl_i</th>\n",
              "      <th>pl_g</th>\n",
              "      <th>pl_x</th>\n",
              "      <th>pl_m</th>\n",
              "      <th>pl_n</th>\n",
              "      <th>pl_k</th>\n",
              "    </tr>\n",
              "  </thead>\n",
              "  <tbody>\n",
              "    <tr>\n",
              "      <th>0</th>\n",
              "      <td>ABW</td>\n",
              "      <td>Aruba</td>\n",
              "      <td>Aruban Guilder</td>\n",
              "      <td>1950</td>\n",
              "      <td>NaN</td>\n",
              "      <td>NaN</td>\n",
              "      <td>NaN</td>\n",
              "      <td>NaN</td>\n",
              "      <td>NaN</td>\n",
              "      <td>NaN</td>\n",
              "      <td>NaN</td>\n",
              "      <td>NaN</td>\n",
              "      <td>NaN</td>\n",
              "      <td>NaN</td>\n",
              "      <td>NaN</td>\n",
              "      <td>...</td>\n",
              "      <td>NaN</td>\n",
              "      <td>NaN</td>\n",
              "      <td>NaN</td>\n",
              "      <td>NaN</td>\n",
              "      <td>NaN</td>\n",
              "      <td>NaN</td>\n",
              "      <td>NaN</td>\n",
              "      <td>NaN</td>\n",
              "      <td>NaN</td>\n",
              "      <td>NaN</td>\n",
              "      <td>NaN</td>\n",
              "      <td>NaN</td>\n",
              "      <td>NaN</td>\n",
              "      <td>NaN</td>\n",
              "      <td>NaN</td>\n",
              "    </tr>\n",
              "    <tr>\n",
              "      <th>1</th>\n",
              "      <td>ABW</td>\n",
              "      <td>Aruba</td>\n",
              "      <td>Aruban Guilder</td>\n",
              "      <td>1951</td>\n",
              "      <td>NaN</td>\n",
              "      <td>NaN</td>\n",
              "      <td>NaN</td>\n",
              "      <td>NaN</td>\n",
              "      <td>NaN</td>\n",
              "      <td>NaN</td>\n",
              "      <td>NaN</td>\n",
              "      <td>NaN</td>\n",
              "      <td>NaN</td>\n",
              "      <td>NaN</td>\n",
              "      <td>NaN</td>\n",
              "      <td>...</td>\n",
              "      <td>NaN</td>\n",
              "      <td>NaN</td>\n",
              "      <td>NaN</td>\n",
              "      <td>NaN</td>\n",
              "      <td>NaN</td>\n",
              "      <td>NaN</td>\n",
              "      <td>NaN</td>\n",
              "      <td>NaN</td>\n",
              "      <td>NaN</td>\n",
              "      <td>NaN</td>\n",
              "      <td>NaN</td>\n",
              "      <td>NaN</td>\n",
              "      <td>NaN</td>\n",
              "      <td>NaN</td>\n",
              "      <td>NaN</td>\n",
              "    </tr>\n",
              "    <tr>\n",
              "      <th>2</th>\n",
              "      <td>ABW</td>\n",
              "      <td>Aruba</td>\n",
              "      <td>Aruban Guilder</td>\n",
              "      <td>1952</td>\n",
              "      <td>NaN</td>\n",
              "      <td>NaN</td>\n",
              "      <td>NaN</td>\n",
              "      <td>NaN</td>\n",
              "      <td>NaN</td>\n",
              "      <td>NaN</td>\n",
              "      <td>NaN</td>\n",
              "      <td>NaN</td>\n",
              "      <td>NaN</td>\n",
              "      <td>NaN</td>\n",
              "      <td>NaN</td>\n",
              "      <td>...</td>\n",
              "      <td>NaN</td>\n",
              "      <td>NaN</td>\n",
              "      <td>NaN</td>\n",
              "      <td>NaN</td>\n",
              "      <td>NaN</td>\n",
              "      <td>NaN</td>\n",
              "      <td>NaN</td>\n",
              "      <td>NaN</td>\n",
              "      <td>NaN</td>\n",
              "      <td>NaN</td>\n",
              "      <td>NaN</td>\n",
              "      <td>NaN</td>\n",
              "      <td>NaN</td>\n",
              "      <td>NaN</td>\n",
              "      <td>NaN</td>\n",
              "    </tr>\n",
              "    <tr>\n",
              "      <th>3</th>\n",
              "      <td>ABW</td>\n",
              "      <td>Aruba</td>\n",
              "      <td>Aruban Guilder</td>\n",
              "      <td>1953</td>\n",
              "      <td>NaN</td>\n",
              "      <td>NaN</td>\n",
              "      <td>NaN</td>\n",
              "      <td>NaN</td>\n",
              "      <td>NaN</td>\n",
              "      <td>NaN</td>\n",
              "      <td>NaN</td>\n",
              "      <td>NaN</td>\n",
              "      <td>NaN</td>\n",
              "      <td>NaN</td>\n",
              "      <td>NaN</td>\n",
              "      <td>...</td>\n",
              "      <td>NaN</td>\n",
              "      <td>NaN</td>\n",
              "      <td>NaN</td>\n",
              "      <td>NaN</td>\n",
              "      <td>NaN</td>\n",
              "      <td>NaN</td>\n",
              "      <td>NaN</td>\n",
              "      <td>NaN</td>\n",
              "      <td>NaN</td>\n",
              "      <td>NaN</td>\n",
              "      <td>NaN</td>\n",
              "      <td>NaN</td>\n",
              "      <td>NaN</td>\n",
              "      <td>NaN</td>\n",
              "      <td>NaN</td>\n",
              "    </tr>\n",
              "    <tr>\n",
              "      <th>4</th>\n",
              "      <td>ABW</td>\n",
              "      <td>Aruba</td>\n",
              "      <td>Aruban Guilder</td>\n",
              "      <td>1954</td>\n",
              "      <td>NaN</td>\n",
              "      <td>NaN</td>\n",
              "      <td>NaN</td>\n",
              "      <td>NaN</td>\n",
              "      <td>NaN</td>\n",
              "      <td>NaN</td>\n",
              "      <td>NaN</td>\n",
              "      <td>NaN</td>\n",
              "      <td>NaN</td>\n",
              "      <td>NaN</td>\n",
              "      <td>NaN</td>\n",
              "      <td>...</td>\n",
              "      <td>NaN</td>\n",
              "      <td>NaN</td>\n",
              "      <td>NaN</td>\n",
              "      <td>NaN</td>\n",
              "      <td>NaN</td>\n",
              "      <td>NaN</td>\n",
              "      <td>NaN</td>\n",
              "      <td>NaN</td>\n",
              "      <td>NaN</td>\n",
              "      <td>NaN</td>\n",
              "      <td>NaN</td>\n",
              "      <td>NaN</td>\n",
              "      <td>NaN</td>\n",
              "      <td>NaN</td>\n",
              "      <td>NaN</td>\n",
              "    </tr>\n",
              "    <tr>\n",
              "      <th>...</th>\n",
              "      <td>...</td>\n",
              "      <td>...</td>\n",
              "      <td>...</td>\n",
              "      <td>...</td>\n",
              "      <td>...</td>\n",
              "      <td>...</td>\n",
              "      <td>...</td>\n",
              "      <td>...</td>\n",
              "      <td>...</td>\n",
              "      <td>...</td>\n",
              "      <td>...</td>\n",
              "      <td>...</td>\n",
              "      <td>...</td>\n",
              "      <td>...</td>\n",
              "      <td>...</td>\n",
              "      <td>...</td>\n",
              "      <td>...</td>\n",
              "      <td>...</td>\n",
              "      <td>...</td>\n",
              "      <td>...</td>\n",
              "      <td>...</td>\n",
              "      <td>...</td>\n",
              "      <td>...</td>\n",
              "      <td>...</td>\n",
              "      <td>...</td>\n",
              "      <td>...</td>\n",
              "      <td>...</td>\n",
              "      <td>...</td>\n",
              "      <td>...</td>\n",
              "      <td>...</td>\n",
              "      <td>...</td>\n",
              "    </tr>\n",
              "    <tr>\n",
              "      <th>12805</th>\n",
              "      <td>ZWE</td>\n",
              "      <td>Zimbabwe</td>\n",
              "      <td>US Dollar</td>\n",
              "      <td>2015</td>\n",
              "      <td>40141.617188</td>\n",
              "      <td>39798.644531</td>\n",
              "      <td>13.814629</td>\n",
              "      <td>6.393752</td>\n",
              "      <td>NaN</td>\n",
              "      <td>2.584653</td>\n",
              "      <td>44249.355469</td>\n",
              "      <td>47325.460938</td>\n",
              "      <td>39961.222656</td>\n",
              "      <td>39455.902344</td>\n",
              "      <td>61790.628906</td>\n",
              "      <td>...</td>\n",
              "      <td>0.306506</td>\n",
              "      <td>62.222200</td>\n",
              "      <td>0.945086</td>\n",
              "      <td>0.077963</td>\n",
              "      <td>0.176403</td>\n",
              "      <td>0.140172</td>\n",
              "      <td>-0.287693</td>\n",
              "      <td>-0.051930</td>\n",
              "      <td>0.479228</td>\n",
              "      <td>0.651287</td>\n",
              "      <td>0.541446</td>\n",
              "      <td>0.616689</td>\n",
              "      <td>0.533235</td>\n",
              "      <td>0.422764</td>\n",
              "      <td>1.533909</td>\n",
              "    </tr>\n",
              "    <tr>\n",
              "      <th>12806</th>\n",
              "      <td>ZWE</td>\n",
              "      <td>Zimbabwe</td>\n",
              "      <td>US Dollar</td>\n",
              "      <td>2016</td>\n",
              "      <td>41875.203125</td>\n",
              "      <td>40963.191406</td>\n",
              "      <td>14.030331</td>\n",
              "      <td>6.504374</td>\n",
              "      <td>NaN</td>\n",
              "      <td>2.616257</td>\n",
              "      <td>43291.566406</td>\n",
              "      <td>46404.160156</td>\n",
              "      <td>41680.894531</td>\n",
              "      <td>40864.164062</td>\n",
              "      <td>64844.191406</td>\n",
              "      <td>...</td>\n",
              "      <td>0.302841</td>\n",
              "      <td>55.555533</td>\n",
              "      <td>0.890514</td>\n",
              "      <td>0.076169</td>\n",
              "      <td>0.168887</td>\n",
              "      <td>0.131920</td>\n",
              "      <td>-0.251232</td>\n",
              "      <td>-0.016258</td>\n",
              "      <td>0.470640</td>\n",
              "      <td>0.651027</td>\n",
              "      <td>0.539631</td>\n",
              "      <td>0.619789</td>\n",
              "      <td>0.519718</td>\n",
              "      <td>0.416510</td>\n",
              "      <td>1.491724</td>\n",
              "    </tr>\n",
              "    <tr>\n",
              "      <th>12807</th>\n",
              "      <td>ZWE</td>\n",
              "      <td>Zimbabwe</td>\n",
              "      <td>US Dollar</td>\n",
              "      <td>2017</td>\n",
              "      <td>44672.175781</td>\n",
              "      <td>44316.742188</td>\n",
              "      <td>14.236595</td>\n",
              "      <td>6.611773</td>\n",
              "      <td>NaN</td>\n",
              "      <td>2.648248</td>\n",
              "      <td>46113.945312</td>\n",
              "      <td>49457.570312</td>\n",
              "      <td>44672.175781</td>\n",
              "      <td>44316.742188</td>\n",
              "      <td>67627.562500</td>\n",
              "      <td>...</td>\n",
              "      <td>0.301868</td>\n",
              "      <td>59.999967</td>\n",
              "      <td>0.833453</td>\n",
              "      <td>0.075448</td>\n",
              "      <td>0.207101</td>\n",
              "      <td>0.126722</td>\n",
              "      <td>-0.202827</td>\n",
              "      <td>-0.039897</td>\n",
              "      <td>0.473560</td>\n",
              "      <td>0.639560</td>\n",
              "      <td>0.519956</td>\n",
              "      <td>0.619739</td>\n",
              "      <td>0.552042</td>\n",
              "      <td>0.415592</td>\n",
              "      <td>1.514525</td>\n",
              "    </tr>\n",
              "    <tr>\n",
              "      <th>12808</th>\n",
              "      <td>ZWE</td>\n",
              "      <td>Zimbabwe</td>\n",
              "      <td>US Dollar</td>\n",
              "      <td>2018</td>\n",
              "      <td>44325.109375</td>\n",
              "      <td>43420.898438</td>\n",
              "      <td>14.438802</td>\n",
              "      <td>6.714952</td>\n",
              "      <td>NaN</td>\n",
              "      <td>2.680630</td>\n",
              "      <td>46198.441406</td>\n",
              "      <td>49665.386719</td>\n",
              "      <td>44342.453125</td>\n",
              "      <td>43567.511719</td>\n",
              "      <td>68826.773438</td>\n",
              "      <td>...</td>\n",
              "      <td>NaN</td>\n",
              "      <td>59.999967</td>\n",
              "      <td>0.790588</td>\n",
              "      <td>0.079576</td>\n",
              "      <td>0.269799</td>\n",
              "      <td>0.144485</td>\n",
              "      <td>-0.263658</td>\n",
              "      <td>-0.020791</td>\n",
              "      <td>0.543757</td>\n",
              "      <td>0.655473</td>\n",
              "      <td>0.529867</td>\n",
              "      <td>0.641361</td>\n",
              "      <td>0.561526</td>\n",
              "      <td>0.425143</td>\n",
              "      <td>1.590120</td>\n",
              "    </tr>\n",
              "    <tr>\n",
              "      <th>12809</th>\n",
              "      <td>ZWE</td>\n",
              "      <td>Zimbabwe</td>\n",
              "      <td>US Dollar</td>\n",
              "      <td>2019</td>\n",
              "      <td>42296.062500</td>\n",
              "      <td>40826.570312</td>\n",
              "      <td>14.645468</td>\n",
              "      <td>6.831017</td>\n",
              "      <td>NaN</td>\n",
              "      <td>2.713408</td>\n",
              "      <td>43961.839844</td>\n",
              "      <td>47128.785156</td>\n",
              "      <td>42325.117188</td>\n",
              "      <td>41081.722656</td>\n",
              "      <td>69588.242188</td>\n",
              "      <td>...</td>\n",
              "      <td>NaN</td>\n",
              "      <td>56.666633</td>\n",
              "      <td>0.842998</td>\n",
              "      <td>0.077089</td>\n",
              "      <td>0.227109</td>\n",
              "      <td>0.213562</td>\n",
              "      <td>-0.270959</td>\n",
              "      <td>-0.089798</td>\n",
              "      <td>0.494755</td>\n",
              "      <td>0.652439</td>\n",
              "      <td>0.500927</td>\n",
              "      <td>0.487763</td>\n",
              "      <td>0.430082</td>\n",
              "      <td>0.420675</td>\n",
              "      <td>1.384068</td>\n",
              "    </tr>\n",
              "  </tbody>\n",
              "</table>\n",
              "<p>12810 rows × 52 columns</p>\n",
              "</div>"
            ],
            "text/plain": [
              "      countrycode   country   currency_unit  year         rgdpe         rgdpo  \\\n",
              "0             ABW     Aruba  Aruban Guilder  1950           NaN           NaN   \n",
              "1             ABW     Aruba  Aruban Guilder  1951           NaN           NaN   \n",
              "2             ABW     Aruba  Aruban Guilder  1952           NaN           NaN   \n",
              "3             ABW     Aruba  Aruban Guilder  1953           NaN           NaN   \n",
              "4             ABW     Aruba  Aruban Guilder  1954           NaN           NaN   \n",
              "...           ...       ...             ...   ...           ...           ...   \n",
              "12805         ZWE  Zimbabwe       US Dollar  2015  40141.617188  39798.644531   \n",
              "12806         ZWE  Zimbabwe       US Dollar  2016  41875.203125  40963.191406   \n",
              "12807         ZWE  Zimbabwe       US Dollar  2017  44672.175781  44316.742188   \n",
              "12808         ZWE  Zimbabwe       US Dollar  2018  44325.109375  43420.898438   \n",
              "12809         ZWE  Zimbabwe       US Dollar  2019  42296.062500  40826.570312   \n",
              "\n",
              "             pop       emp  avh        hc          ccon           cda  \\\n",
              "0            NaN       NaN  NaN       NaN           NaN           NaN   \n",
              "1            NaN       NaN  NaN       NaN           NaN           NaN   \n",
              "2            NaN       NaN  NaN       NaN           NaN           NaN   \n",
              "3            NaN       NaN  NaN       NaN           NaN           NaN   \n",
              "4            NaN       NaN  NaN       NaN           NaN           NaN   \n",
              "...          ...       ...  ...       ...           ...           ...   \n",
              "12805  13.814629  6.393752  NaN  2.584653  44249.355469  47325.460938   \n",
              "12806  14.030331  6.504374  NaN  2.616257  43291.566406  46404.160156   \n",
              "12807  14.236595  6.611773  NaN  2.648248  46113.945312  49457.570312   \n",
              "12808  14.438802  6.714952  NaN  2.680630  46198.441406  49665.386719   \n",
              "12809  14.645468  6.831017  NaN  2.713408  43961.839844  47128.785156   \n",
              "\n",
              "              cgdpe         cgdpo            cn  ...   cor_exp    statcap  \\\n",
              "0               NaN           NaN           NaN  ...       NaN        NaN   \n",
              "1               NaN           NaN           NaN  ...       NaN        NaN   \n",
              "2               NaN           NaN           NaN  ...       NaN        NaN   \n",
              "3               NaN           NaN           NaN  ...       NaN        NaN   \n",
              "4               NaN           NaN           NaN  ...       NaN        NaN   \n",
              "...             ...           ...           ...  ...       ...        ...   \n",
              "12805  39961.222656  39455.902344  61790.628906  ...  0.306506  62.222200   \n",
              "12806  41680.894531  40864.164062  64844.191406  ...  0.302841  55.555533   \n",
              "12807  44672.175781  44316.742188  67627.562500  ...  0.301868  59.999967   \n",
              "12808  44342.453125  43567.511719  68826.773438  ...       NaN  59.999967   \n",
              "12809  42325.117188  41081.722656  69588.242188  ...       NaN  56.666633   \n",
              "\n",
              "          csh_c     csh_i     csh_g     csh_x     csh_m     csh_r      pl_c  \\\n",
              "0           NaN       NaN       NaN       NaN       NaN       NaN       NaN   \n",
              "1           NaN       NaN       NaN       NaN       NaN       NaN       NaN   \n",
              "2           NaN       NaN       NaN       NaN       NaN       NaN       NaN   \n",
              "3           NaN       NaN       NaN       NaN       NaN       NaN       NaN   \n",
              "4           NaN       NaN       NaN       NaN       NaN       NaN       NaN   \n",
              "...         ...       ...       ...       ...       ...       ...       ...   \n",
              "12805  0.945086  0.077963  0.176403  0.140172 -0.287693 -0.051930  0.479228   \n",
              "12806  0.890514  0.076169  0.168887  0.131920 -0.251232 -0.016258  0.470640   \n",
              "12807  0.833453  0.075448  0.207101  0.126722 -0.202827 -0.039897  0.473560   \n",
              "12808  0.790588  0.079576  0.269799  0.144485 -0.263658 -0.020791  0.543757   \n",
              "12809  0.842998  0.077089  0.227109  0.213562 -0.270959 -0.089798  0.494755   \n",
              "\n",
              "           pl_i      pl_g      pl_x      pl_m      pl_n      pl_k  \n",
              "0           NaN       NaN       NaN       NaN       NaN       NaN  \n",
              "1           NaN       NaN       NaN       NaN       NaN       NaN  \n",
              "2           NaN       NaN       NaN       NaN       NaN       NaN  \n",
              "3           NaN       NaN       NaN       NaN       NaN       NaN  \n",
              "4           NaN       NaN       NaN       NaN       NaN       NaN  \n",
              "...         ...       ...       ...       ...       ...       ...  \n",
              "12805  0.651287  0.541446  0.616689  0.533235  0.422764  1.533909  \n",
              "12806  0.651027  0.539631  0.619789  0.519718  0.416510  1.491724  \n",
              "12807  0.639560  0.519956  0.619739  0.552042  0.415592  1.514525  \n",
              "12808  0.655473  0.529867  0.641361  0.561526  0.425143  1.590120  \n",
              "12809  0.652439  0.500927  0.487763  0.430082  0.420675  1.384068  \n",
              "\n",
              "[12810 rows x 52 columns]"
            ]
          },
          "metadata": {},
          "execution_count": 2
        }
      ]
    },
    {
      "cell_type": "code",
      "metadata": {
        "id": "FzaEW_dB7miI"
      },
      "source": [
        "# Vemos las columnas que tiene\n",
        "pwt.columns"
      ],
      "execution_count": null,
      "outputs": []
    },
    {
      "cell_type": "code",
      "metadata": {
        "id": "NN2x9VfU7mqY"
      },
      "source": [
        "# Comprobamos los países que incluye\n",
        "pwt.country.unique()"
      ],
      "execution_count": null,
      "outputs": []
    },
    {
      "cell_type": "code",
      "metadata": {
        "id": "CSzTTqiZIqq-"
      },
      "source": [
        "# Lo anterior lo podemos hacer también a través de un bucle\n",
        "pwt.country.unique()\n",
        "for a in pwt.country.unique():\n",
        "    print(a)"
      ],
      "execution_count": null,
      "outputs": []
    },
    {
      "cell_type": "code",
      "metadata": {
        "id": "67s2wAqSI5AW",
        "colab": {
          "base_uri": "https://localhost:8080/"
        },
        "outputId": "b3251876-3c80-4c7c-9030-af1df5f7b0d9"
      },
      "source": [
        "# Número de países\n",
        "len(pwt.country.unique())"
      ],
      "execution_count": null,
      "outputs": [
        {
          "output_type": "execute_result",
          "data": {
            "text/plain": [
              "183"
            ]
          },
          "metadata": {},
          "execution_count": 8
        }
      ]
    },
    {
      "cell_type": "code",
      "metadata": {
        "id": "rQb75mcJ7mwe"
      },
      "source": [
        "# Los años\n",
        "pwt.year.unique()"
      ],
      "execution_count": null,
      "outputs": []
    },
    {
      "cell_type": "code",
      "metadata": {
        "id": "TEMJkHB-52s3"
      },
      "source": [
        "# El número de observaciones (filas en la tabla) por año\n",
        "pwt.year.value_counts() # ¡La función value_counts() es muy útil!"
      ],
      "execution_count": null,
      "outputs": []
    },
    {
      "cell_type": "code",
      "metadata": {
        "id": "FviH6i6W99Vo",
        "colab": {
          "base_uri": "https://localhost:8080/"
        },
        "outputId": "58038c2f-4fd5-45a6-b5a9-7fd4210e4430"
      },
      "source": [
        "# Dimensiones de la base de datos:\n",
        "print(pwt.shape) # filas x columnas"
      ],
      "execution_count": null,
      "outputs": [
        {
          "output_type": "stream",
          "name": "stdout",
          "text": [
            "(12810, 52)\n"
          ]
        }
      ]
    },
    {
      "cell_type": "markdown",
      "metadata": {
        "id": "BXNcI6ugJCaW"
      },
      "source": [
        "### 2. Ejercicio\n",
        "1. Crear una tabla con los datos de España y su población (observar que pop es la columna con los datos de población).\n",
        "2. Representar gráficamente la evolución de la población en España.\n",
        "3. Calcular la tasa de variación anual de la población en España y representarlo gráficamente.\n",
        "4.  Hacer lo mismo que en los tres puntos anteriores pero con Italia.\n",
        "5. Calcular la media del crecimiento de la población en España e Italia, es decir, calcular la media de la tasa de variación anual durante todo el periodo (1950-2017).  Pista: usar la función ```.mean```\n",
        "6. Representar gráficamente la evolución de la población en ambos países. Hacer lo mismo con sus tasas de variación.\n",
        "7. Por otra parte, en relación al crecimiento del PIB, ¿qué país ha crecido más? Usar la variable “rgdpo” (ver la hoja “Legend” del archivo Excel). Representar también gráficamente el crecimiento del PIB de ambos países durante el periodo 1950-2017."
      ]
    },
    {
      "cell_type": "code",
      "metadata": {
        "id": "KoyFB_NR99Yn"
      },
      "source": [
        "# 1. Tabla con los datos de España y su población\n",
        "spain=pwt.query(\"country=='Spain'\")\n",
        "spain_pop=spain[['year','pop']]\n",
        "spain_pop.set_index(\"year\", inplace=True)\n",
        "spain_pop"
      ],
      "execution_count": null,
      "outputs": []
    },
    {
      "cell_type": "code",
      "metadata": {
        "id": "wKugX22T99b3",
        "colab": {
          "base_uri": "https://localhost:8080/",
          "height": 312
        },
        "outputId": "39c42f79-a597-4858-a1ee-6dddc51c75ec"
      },
      "source": [
        "# 2 Representar gráficamente la evolución de la población en España.\n",
        "spain_pop.plot(title=\"Evolución de la población en España\")"
      ],
      "execution_count": null,
      "outputs": [
        {
          "output_type": "execute_result",
          "data": {
            "text/plain": [
              "<matplotlib.axes._subplots.AxesSubplot at 0x7faf194d7690>"
            ]
          },
          "metadata": {},
          "execution_count": 10
        },
        {
          "output_type": "display_data",
          "data": {
            "image/png": "[encoded data removed]",
            "text/plain": [
              "<Figure size 432x288 with 1 Axes>"
            ]
          },
          "metadata": {
            "needs_background": "light"
          }
        }
      ]
    },
    {
      "cell_type": "code",
      "metadata": {
        "id": "AwcYyU-m99ry",
        "colab": {
          "base_uri": "https://localhost:8080/",
          "height": 298
        },
        "outputId": "74893b57-a4a4-4aaa-fc0f-9898607becec"
      },
      "source": [
        "# 3 Calcular la tasa de variación anual de la población en España y representarlo gráficamente.\n",
        "spain_pop_tv=spain_pop.diff()/spain_pop.shift()\n",
        "spain_pop_tv.plot()"
      ],
      "execution_count": 4,
      "outputs": [
        {
          "output_type": "execute_result",
          "data": {
            "text/plain": [
              "<matplotlib.axes._subplots.AxesSubplot at 0x7f23ecb4d810>"
            ]
          },
          "metadata": {},
          "execution_count": 4
        },
        {
          "output_type": "display_data",
          "data": {
            "image/png": "[encoded data removed]",
            "text/plain": [
              "<Figure size 432x288 with 1 Axes>"
            ]
          },
          "metadata": {
            "needs_background": "light"
          }
        }
      ]
    },
    {
      "cell_type": "code",
      "metadata": {
        "id": "lfm11y4C99vE"
      },
      "source": [
        "# 4. Creamos tablas para Italia\n",
        "italy=pwt.query(\"country=='Italy'\")\n",
        "italy_pop=italy[['year','pop']]\n",
        "italy_pop.set_index(\"year\", inplace=True)\n",
        "italy_pop_tv=italy_pop.diff()/italy_pop.shift()"
      ],
      "execution_count": 5,
      "outputs": []
    },
    {
      "cell_type": "code",
      "metadata": {
        "id": "J0qXr3Vp99xz",
        "colab": {
          "base_uri": "https://localhost:8080/",
          "height": 312
        },
        "outputId": "4f5aa43e-5e3d-4a49-b2c2-aa54b7f7440e"
      },
      "source": [
        "# Evolución de la población en Italia\n",
        "italy_pop.plot(title=\"Evolución de la población en Italia\")"
      ],
      "execution_count": null,
      "outputs": [
        {
          "output_type": "execute_result",
          "data": {
            "text/plain": [
              "<matplotlib.axes._subplots.AxesSubplot at 0x7faf183c6a10>"
            ]
          },
          "metadata": {},
          "execution_count": 14
        },
        {
          "output_type": "display_data",
          "data": {
            "image/png": "[encoded data removed]",
            "text/plain": [
              "<Figure size 432x288 with 1 Axes>"
            ]
          },
          "metadata": {
            "needs_background": "light"
          }
        }
      ]
    },
    {
      "cell_type": "code",
      "metadata": {
        "id": "xMlGWbLw9903",
        "colab": {
          "base_uri": "https://localhost:8080/",
          "height": 312
        },
        "outputId": "ae7cae16-4b33-4a8c-c292-dce1e5944c70"
      },
      "source": [
        "# Tasa de variación de la población en Italia\n",
        "italy_pop_tv.plot(title=\"Crecimiento de la población en Italia\")"
      ],
      "execution_count": 6,
      "outputs": [
        {
          "output_type": "execute_result",
          "data": {
            "text/plain": [
              "<matplotlib.axes._subplots.AxesSubplot at 0x7f23eb568fd0>"
            ]
          },
          "metadata": {},
          "execution_count": 6
        },
        {
          "output_type": "display_data",
          "data": {
            "image/png": "[encoded data removed]",
            "text/plain": [
              "<Figure size 432x288 with 1 Axes>"
            ]
          },
          "metadata": {
            "needs_background": "light"
          }
        }
      ]
    },
    {
      "cell_type": "code",
      "metadata": {
        "collapsed": true,
        "id": "5i3m35HD52s-",
        "colab": {
          "base_uri": "https://localhost:8080/",
          "height": 300
        },
        "outputId": "bfcf4a82-3c3b-47a2-f8a7-3deee3927fc8"
      },
      "source": [
        "# 5. Calcular la media del crecimiento de la población en España e Italia\n",
        "pop_sp_it_tv=spain_pop_tv.merge(italy_pop_tv, on='year')\n",
        "pop_sp_it_tv.rename(columns={\"pop_x\":\"Spain\",\"pop_y\":\"Italy\"}, inplace=True)\n",
        "medias_tot=pop_sp_it_tv.mean()\n",
        "medias_tot.plot.bar()"
      ],
      "execution_count": 7,
      "outputs": [
        {
          "output_type": "execute_result",
          "data": {
            "text/plain": [
              "<matplotlib.axes._subplots.AxesSubplot at 0x7f23eb4caa90>"
            ]
          },
          "metadata": {},
          "execution_count": 7
        },
        {
          "output_type": "display_data",
          "data": {
            "image/png": "[encoded data removed]",
            "text/plain": [
              "<Figure size 432x288 with 1 Axes>"
            ]
          },
          "metadata": {
            "needs_background": "light"
          }
        }
      ]
    },
    {
      "cell_type": "code",
      "metadata": {
        "id": "6y9MQ-9y993T",
        "colab": {
          "base_uri": "https://localhost:8080/",
          "height": 265
        },
        "outputId": "8a333e42-396d-4c47-add0-7ca8cddef3b4"
      },
      "source": [
        "# 6. Representar gráficamente la evolución de la población en ambos países\n",
        "fig,ax=plt.subplots()\n",
        "ax.plot(spain_pop, label=\"España\")\n",
        "ax.plot(italy_pop, label=\"Italia\")\n",
        "ax.legend()\n",
        "plt.show()"
      ],
      "execution_count": 8,
      "outputs": [
        {
          "output_type": "display_data",
          "data": {
            "image/png": "[encoded data removed]",
            "text/plain": [
              "<Figure size 432x288 with 1 Axes>"
            ]
          },
          "metadata": {
            "needs_background": "light"
          }
        }
      ]
    },
    {
      "cell_type": "code",
      "metadata": {
        "id": "a5G7z2up52s-",
        "colab": {
          "base_uri": "https://localhost:8080/",
          "height": 267
        },
        "outputId": "59a5cce4-89fb-4512-a3a2-6bd51ff98b74"
      },
      "source": [
        "# Ahora, las tasas de variación\n",
        "fig,ax=plt.subplots()\n",
        "ax.plot(spain_pop_tv, label=\"Spain\")\n",
        "ax.plot(italy_pop_tv, label=\"Italia\")\n",
        "ax.legend()\n",
        "plt.show()"
      ],
      "execution_count": 9,
      "outputs": [
        {
          "output_type": "display_data",
          "data": {
            "image/png": "[encoded data removed]",
            "text/plain": [
              "<Figure size 432x288 with 1 Axes>"
            ]
          },
          "metadata": {
            "needs_background": "light"
          }
        }
      ]
    },
    {
      "cell_type": "code",
      "metadata": {
        "collapsed": true,
        "id": "g7ZDU2Fr52s_",
        "colab": {
          "base_uri": "https://localhost:8080/",
          "height": 296
        },
        "outputId": "304f93eb-e01d-424e-e6e5-149d43ef0b23"
      },
      "source": [
        "# 7. ¿Qué país ha crecido más en términos de PIB (rgdpo)?\n",
        "# Representar gráficamente el crecimiento del PIB de ambos países durante el periodo 1950-2017.\n",
        "spain_pib=spain[['year','rgdpo']]\n",
        "spain_pib.set_index(\"year\", inplace=True)\n",
        "italy_pib=italy[['year','rgdpo']]\n",
        "italy_pib.set_index(\"year\", inplace=True)\n",
        "pib=spain_pib.merge(italy_pib, on=\"year\")\n",
        "pib.rename(columns={\"rgdpo_x\":\"Spain\",\"rgdpo_y\":\"Italy\"}, inplace=True)\n",
        "pib_tv=pib.diff().div(pib.shift())\n",
        "pib_tv.plot()"
      ],
      "execution_count": 10,
      "outputs": [
        {
          "output_type": "execute_result",
          "data": {
            "text/plain": [
              "<matplotlib.axes._subplots.AxesSubplot at 0x7f23ec240cd0>"
            ]
          },
          "metadata": {},
          "execution_count": 10
        },
        {
          "output_type": "display_data",
          "data": {
            "image/png": "[encoded data removed]",
            "text/plain": [
              "<Figure size 432x288 with 1 Axes>"
            ]
          },
          "metadata": {
            "needs_background": "light"
          }
        }
      ]
    },
    {
      "cell_type": "code",
      "metadata": {
        "scrolled": false,
        "id": "EmJ78Nej52s_",
        "outputId": "f8891e13-34a4-44d8-9061-c7786da7ecd6",
        "colab": {
          "base_uri": "https://localhost:8080/",
          "height": 300
        }
      },
      "source": [
        "#¿Qué país ha crecido más?\n",
        "pib_tv.mean().plot.bar()"
      ],
      "execution_count": 11,
      "outputs": [
        {
          "output_type": "execute_result",
          "data": {
            "text/plain": [
              "<matplotlib.axes._subplots.AxesSubplot at 0x7f23eb8d1910>"
            ]
          },
          "metadata": {},
          "execution_count": 11
        },
        {
          "output_type": "display_data",
          "data": {
            "image/png": "[encoded data removed]",
            "text/plain": [
              "<Figure size 432x288 with 1 Axes>"
            ]
          },
          "metadata": {
            "needs_background": "light"
          }
        }
      ]
    },
    {
      "cell_type": "markdown",
      "metadata": {
        "id": "AcE66YtWNN9M"
      },
      "source": [
        "### Ejercicios adicionales:\n",
        "\n",
        "1. Analizar para UK, Alemania, Francia, Italia, España y Portugal cómo ha evolucionado el human capital index (\"hc\"), el número medio de horas trabajadas (\"avh\") y el peso del gasto público en el PIB (\"csh_g\"). \n",
        "Realizar el análisis simplemente a través de la representación gráfica de las series de datos.\n",
        "\n",
        "2. Crear una función que devuelve el valor medio de un indicador de la tabla Penn World Table para un país determinado y un periodo determinado. Se trata de una función que debe tomar cuatro argumentos: 1) la variable macroeconómica, 2) el país, 3) el año inicial del periodo, 4) el año final del periodo. Como pista, la función puede tener esta estructura:\n",
        "\n",
        "```python\n",
        "def valor_medio(indicador, pais, añoinicial, añofinal):\n",
        "  '''\n",
        " Calcula el valor medio de un indicador para un país y periodo concreto. Se da por hecho que la tabla a consultar se denomina pwt\n",
        "  '''\n",
        "  consulta=pwt[pwt.country==pais] # Selecciona el país \n",
        "  consulta=...                    # Selecciona el periodo\n",
        "  vmedio= ... # Calcula el valor medio\n",
        "  return vmedio\n",
        "```"
      ]
    },
    {
      "cell_type": "code",
      "metadata": {
        "id": "2sAFFTRSHXu4"
      },
      "source": [
        ""
      ],
      "execution_count": null,
      "outputs": []
    }
  ]
}