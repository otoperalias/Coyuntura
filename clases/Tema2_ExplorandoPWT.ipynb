{
  "nbformat": 4,
  "nbformat_minor": 0,
  "metadata": {
    "hide_input": false,
    "kernelspec": {
      "display_name": "Python 3",
      "language": "python",
      "name": "python3"
    },
    "language_info": {
      "codemirror_mode": {
        "name": "ipython",
        "version": 3
      },
      "file_extension": ".py",
      "mimetype": "text/x-python",
      "name": "python",
      "nbconvert_exporter": "python",
      "pygments_lexer": "ipython3",
      "version": "3.8.5"
    },
    "colab": {
      "name": "Una_aplicacion_PWT.ipynb",
      "provenance": [],
      "include_colab_link": true
    }
  },
  "cells": [
    {
      "cell_type": "markdown",
      "metadata": {
        "id": "view-in-github",
        "colab_type": "text"
      },
      "source": [
        "<a href=\"https://colab.research.google.com/github/otoperalias/Coyuntura/blob/main/clases/Tema2_ExplorandoPWT.ipynb\" target=\"_parent\"><img src=\"https://colab.research.google.com/assets/colab-badge.svg\" alt=\"Open In Colab\"/></a>"
      ]
    },
    {
      "cell_type": "markdown",
      "metadata": {
        "id": "hc3O7nEY52sw"
      },
      "source": [
        "# Tema 2\n",
        "\n",
        "## Explorando la Penn World Table"
      ]
    },
    {
      "cell_type": "markdown",
      "metadata": {
        "id": "RQ51FU7D6L-1"
      },
      "source": [
        "La Penn World Table es una base de datos macroeconómica con información sobre niveles de renta, productividad, etc. de cerca de 180 países desde 1950.\n",
        "\n",
        "  * Accesible aquí: [Penn World Table](https://www.rug.nl/ggdc/productivity/pwt/?lang=en)"
      ]
    },
    {
      "cell_type": "markdown",
      "metadata": {
        "id": "Q3QNVH-zHxOp"
      },
      "source": [
        "### 1. Importación de la base de datos y breve exploración"
      ]
    },
    {
      "cell_type": "code",
      "metadata": {
        "id": "8d-rQwcb52s0"
      },
      "source": [
        "# Importamos librerias y establecemos algunas opciones\n",
        "import pandas as pd\n",
        "pd.set_option('display.max_row', 100)\n",
        "pd.set_option('display.max_columns', 30)\n",
        "import matplotlib.pyplot as plt\n"
      ],
      "execution_count": 1,
      "outputs": []
    },
    {
      "cell_type": "code",
      "metadata": {
        "id": "MiQka71Z52s2"
      },
      "source": [
        "# Importar datos\n",
        "link=\"https://www.rug.nl/ggdc/docs/pwt100.xlsx\"\n",
        "pwt=pd.read_excel(link,\"Data\") # Es una base de datos grande\n",
        "pwt"
      ],
      "execution_count": null,
      "outputs": []
    },
    {
      "cell_type": "code",
      "metadata": {
        "id": "FzaEW_dB7miI"
      },
      "source": [
        "# Vemos las columnas que tiene\n",
        "pwt.columns"
      ],
      "execution_count": null,
      "outputs": []
    },
    {
      "cell_type": "code",
      "metadata": {
        "id": "NN2x9VfU7mqY"
      },
      "source": [
        "# Comprobamos los países que incluye\n",
        "pwt['country'].unique()"
      ],
      "execution_count": null,
      "outputs": []
    },
    {
      "cell_type": "code",
      "metadata": {
        "id": "CSzTTqiZIqq-"
      },
      "source": [
        "# Lo anterior lo podemos hacer también a través de un bucle\n",
        "for a in pwt['country'].unique():\n",
        "    print(a)"
      ],
      "execution_count": null,
      "outputs": []
    },
    {
      "cell_type": "code",
      "metadata": {
        "id": "67s2wAqSI5AW",
        "colab": {
          "base_uri": "https://localhost:8080/"
        },
        "outputId": "4079e077-6090-4d45-aa74-3db3c76ee40d"
      },
      "source": [
        "# Número de países\n",
        "len(pwt['country'].unique())"
      ],
      "execution_count": 7,
      "outputs": [
        {
          "output_type": "execute_result",
          "data": {
            "text/plain": [
              "183"
            ]
          },
          "metadata": {},
          "execution_count": 7
        }
      ]
    },
    {
      "cell_type": "code",
      "metadata": {
        "id": "rQb75mcJ7mwe"
      },
      "source": [
        "# Los años\n",
        "pwt['year'].unique()"
      ],
      "execution_count": null,
      "outputs": []
    },
    {
      "cell_type": "code",
      "metadata": {
        "id": "TEMJkHB-52s3"
      },
      "source": [
        "# El número de observaciones (filas en la tabla) por año\n",
        "pwt['year'].value_counts() # ¡La función value_counts() es muy útil!"
      ],
      "execution_count": null,
      "outputs": []
    },
    {
      "cell_type": "code",
      "metadata": {
        "id": "FviH6i6W99Vo",
        "colab": {
          "base_uri": "https://localhost:8080/"
        },
        "outputId": "7556af96-f074-4656-f9af-3e261e1553fd"
      },
      "source": [
        "# Dimensiones de la base de datos:\n",
        "print(pwt.shape) # filas x columnas"
      ],
      "execution_count": 10,
      "outputs": [
        {
          "output_type": "stream",
          "name": "stdout",
          "text": [
            "(12810, 52)\n"
          ]
        }
      ]
    },
    {
      "cell_type": "markdown",
      "metadata": {
        "id": "BXNcI6ugJCaW"
      },
      "source": [
        "### 2. Ejercicio\n",
        "1. Crear una tabla con los datos de España y su población (observar que pop es la columna con los datos de población).\n",
        "2. Representar gráficamente la evolución de la población en España.\n",
        "3. Calcular la tasa de variación anual de la población en España y representarlo gráficamente.\n",
        "4.  Hacer lo mismo que en los tres puntos anteriores pero con Italia.\n",
        "5. Calcular la media del crecimiento de la población en España e Italia, es decir, calcular la media de la tasa de variación anual durante todo el periodo (1950-2017).  Pista: usar la función ```.mean```\n",
        "6. Representar gráficamente la evolución de la población en ambos países. Hacer lo mismo con sus tasas de variación.\n",
        "7. Por otra parte, en relación al crecimiento del PIB, ¿qué país ha crecido más? Usar la variable “rgdpo” (ver la hoja “Legend” del archivo Excel). Representar también gráficamente el crecimiento del PIB de ambos países durante el periodo 1950-2017."
      ]
    },
    {
      "cell_type": "code",
      "metadata": {
        "id": "KoyFB_NR99Yn"
      },
      "source": [
        "# 1. Tabla con los datos de España y su población\n",
        "spain=pwt.query(\"country=='Spain'\")\n",
        "spain_pop=spain[['year','pop']]\n",
        "spain_pop.set_index(\"year\", inplace=True)\n",
        "spain_pop"
      ],
      "execution_count": null,
      "outputs": []
    },
    {
      "cell_type": "code",
      "metadata": {
        "id": "wKugX22T99b3"
      },
      "source": [
        "# 2 Representar gráficamente la evolución de la población en España.\n",
        "spain_pop.plot(title=\"Evolución de la población en España\")"
      ],
      "execution_count": null,
      "outputs": []
    },
    {
      "cell_type": "code",
      "metadata": {
        "id": "AwcYyU-m99ry"
      },
      "source": [
        "# 3 Calcular la tasa de variación anual de la población en España y representarlo gráficamente.\n",
        "#spain_pop_tv=spain_pop.diff()/spain_pop.shift()\n",
        "spain_pop_tv=spain_pop/spain_pop.shift()-1\n",
        "spain_pop_tv.plot()"
      ],
      "execution_count": null,
      "outputs": []
    },
    {
      "cell_type": "code",
      "metadata": {
        "id": "lfm11y4C99vE"
      },
      "source": [
        "# 4. Creamos tablas para Italia\n",
        "italy=pwt.query(\"country=='Italy'\")\n",
        "italy_pop=italy[['year','pop']]\n",
        "italy_pop.set_index(\"year\", inplace=True)\n",
        "italy_pop_tv=italy_pop.diff()/italy_pop.shift()"
      ],
      "execution_count": 22,
      "outputs": []
    },
    {
      "cell_type": "code",
      "metadata": {
        "id": "J0qXr3Vp99xz"
      },
      "source": [
        "# Evolución de la población en Italia\n",
        "italy_pop.plot(title=\"Evolución de la población en Italia\")"
      ],
      "execution_count": null,
      "outputs": []
    },
    {
      "cell_type": "code",
      "metadata": {
        "id": "xMlGWbLw9903"
      },
      "source": [
        "# Tasa de variación de la población en Italia\n",
        "italy_pop_tv.plot(title=\"Crecimiento de la población en Italia\")"
      ],
      "execution_count": null,
      "outputs": []
    },
    {
      "cell_type": "code",
      "metadata": {
        "collapsed": true,
        "id": "5i3m35HD52s-"
      },
      "source": [
        "# 5. Calcular la media del crecimiento de la población en España e Italia\n",
        "pop_sp_it_tv=spain_pop_tv.merge(italy_pop_tv, on='year')\n",
        "pop_sp_it_tv.rename(columns={\"pop_x\":\"Spain\",\"pop_y\":\"Italy\"}, inplace=True)\n",
        "medias_tot=pop_sp_it_tv.mean()\n",
        "medias_tot.plot.bar()"
      ],
      "execution_count": null,
      "outputs": []
    },
    {
      "cell_type": "code",
      "metadata": {
        "id": "6y9MQ-9y993T"
      },
      "source": [
        "# 6. Representar gráficamente la evolución de la población en ambos países\n",
        "fig,ax=plt.subplots()\n",
        "ax.plot(spain_pop, label=\"España\")\n",
        "ax.plot(italy_pop, label=\"Italia\")\n",
        "ax.legend()\n",
        "plt.show()"
      ],
      "execution_count": null,
      "outputs": []
    },
    {
      "cell_type": "code",
      "metadata": {
        "id": "a5G7z2up52s-"
      },
      "source": [
        "# Ahora, las tasas de variación\n",
        "fig,ax=plt.subplots()\n",
        "ax.plot(spain_pop_tv, label=\"Spain\")\n",
        "ax.plot(italy_pop_tv, label=\"Italia\")\n",
        "ax.legend()\n",
        "plt.show()"
      ],
      "execution_count": null,
      "outputs": []
    },
    {
      "cell_type": "code",
      "metadata": {
        "collapsed": true,
        "id": "g7ZDU2Fr52s_",
        "colab": {
          "base_uri": "https://localhost:8080/",
          "height": 296
        },
        "outputId": "304f93eb-e01d-424e-e6e5-149d43ef0b23"
      },
      "source": [
        "# 7. ¿Qué país ha crecido más en términos de PIB (rgdpo)?\n",
        "# Representar gráficamente el crecimiento del PIB de ambos países durante el periodo 1950-2017.\n",
        "spain_pib=spain[['year','rgdpo']]\n",
        "spain_pib.set_index(\"year\", inplace=True)\n",
        "italy_pib=italy[['year','rgdpo']]\n",
        "italy_pib.set_index(\"year\", inplace=True)\n",
        "pib=spain_pib.merge(italy_pib, on=\"year\")\n",
        "pib.rename(columns={\"rgdpo_x\":\"Spain\",\"rgdpo_y\":\"Italy\"}, inplace=True)\n",
        "pib_tv=pib.diff().div(pib.shift())\n",
        "pib_tv.plot()"
      ],
      "execution_count": null,
      "outputs": [
        {
          "output_type": "execute_result",
          "data": {
            "text/plain": [
              "<matplotlib.axes._subplots.AxesSubplot at 0x7f23ec240cd0>"
            ]
          },
          "metadata": {},
          "execution_count": 10
        },
        {
          "output_type": "display_data",
          "data": {
            "image/png": "[encoded data removed]",
            "text/plain": [
              "<Figure size 432x288 with 1 Axes>"
            ]
          },
          "metadata": {
            "needs_background": "light"
          }
        }
      ]
    },
    {
      "cell_type": "code",
      "metadata": {
        "scrolled": false,
        "id": "EmJ78Nej52s_",
        "outputId": "f8891e13-34a4-44d8-9061-c7786da7ecd6",
        "colab": {
          "base_uri": "https://localhost:8080/",
          "height": 300
        }
      },
      "source": [
        "#¿Qué país ha crecido más?\n",
        "pib_tv.mean().plot.bar()"
      ],
      "execution_count": null,
      "outputs": [
        {
          "output_type": "execute_result",
          "data": {
            "text/plain": [
              "<matplotlib.axes._subplots.AxesSubplot at 0x7f23eb8d1910>"
            ]
          },
          "metadata": {},
          "execution_count": 11
        },
        {
          "output_type": "display_data",
          "data": {
            "image/png": "[encoded data removed]",
            "text/plain": [
              "<Figure size 432x288 with 1 Axes>"
            ]
          },
          "metadata": {
            "needs_background": "light"
          }
        }
      ]
    },
    {
      "cell_type": "markdown",
      "metadata": {
        "id": "AcE66YtWNN9M"
      },
      "source": [
        "### Ejercicios adicionales:\n",
        "\n",
        "1. Analizar para UK, Alemania, Francia, Italia, España y Portugal cómo ha evolucionado el human capital index (\"hc\"), el número medio de horas trabajadas (\"avh\") y el peso del gasto público en el PIB (\"csh_g\"). \n",
        "Realizar el análisis simplemente a través de la representación gráfica de las series de datos.\n",
        "\n",
        "2. Crear una función que devuelve el valor medio de un indicador de la tabla Penn World Table para un país determinado y un periodo determinado. Se trata de una función que debe tomar cuatro argumentos: 1) la variable macroeconómica, 2) el país, 3) el año inicial del periodo, 4) el año final del periodo. Como pista, la función puede tener esta estructura:\n",
        "\n",
        "```python\n",
        "def valor_medio(indicador, pais, añoinicial, añofinal):\n",
        "  '''\n",
        " Calcula el valor medio de un indicador para un país y periodo concreto. Se da por hecho que la tabla a consultar se denomina pwt\n",
        "  '''\n",
        "  consulta=pwt[pwt.country==pais] # Selecciona el país \n",
        "  consulta=...                    # Selecciona el periodo\n",
        "  vmedio= ... # Calcula el valor medio\n",
        "  return vmedio\n",
        "```"
      ]
    },
    {
      "cell_type": "code",
      "metadata": {
        "id": "2sAFFTRSHXu4"
      },
      "source": [],
      "execution_count": null,
      "outputs": []
    }
  ]
}