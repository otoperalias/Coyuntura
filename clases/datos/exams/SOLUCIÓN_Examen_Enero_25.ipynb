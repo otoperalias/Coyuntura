{
  "nbformat": 4,
  "nbformat_minor": 0,
  "metadata": {
    "colab": {
      "provenance": [],
      "authorship_tag": "ABX9TyMOYOzwKd1/hilF+6JB7R8j",
      "include_colab_link": true
    },
    "kernelspec": {
      "name": "python3",
      "display_name": "Python 3"
    },
    "language_info": {
      "name": "python"
    }
  },
  "cells": [
    {
      "cell_type": "markdown",
      "metadata": {
        "id": "view-in-github",
        "colab_type": "text"
      },
      "source": [
        "<a href=\"https://colab.research.google.com/github/otoperalias/CyP/blob/main/Examen_Enero_25.ipynb\" target=\"_parent\"><img src=\"https://colab.research.google.com/assets/colab-badge.svg\" alt=\"Open In Colab\"/></a>"
      ]
    },
    {
      "cell_type": "markdown",
      "source": [
        "## SOLUCIÓN DEL EXAMEN DE ENERO DE 2025"
      ],
      "metadata": {
        "id": "eR9hI7P1HAmx"
      }
    },
    {
      "cell_type": "code",
      "source": [
        "# Instalamos la librería pmdarima (la vamos a necesitar en esta sesión)\n",
        "!pip install pmdarima --user # Si usamos Jupyter, quitamos el signo de exclamación\n",
        "# Esto es para reiniciar el kernel y así poder importar luego la librería\n",
        "import os\n",
        "os.kill(os.getpid(), 9)"
      ],
      "metadata": {
        "id": "Q6eIbHIeIt-K",
        "collapsed": true
      },
      "execution_count": null,
      "outputs": []
    },
    {
      "cell_type": "code",
      "execution_count": null,
      "metadata": {
        "id": "2lfwl1V7GzoN"
      },
      "outputs": [],
      "source": [
        "#IMPORTAMOS LIBRERÍAS Y DATOS\n",
        "import pandas as pd\n",
        "import matplotlib.pyplot as plt\n",
        "import statsmodels.api as sm\n",
        "import seaborn as sns\n",
        "import pmdarima as pm\n",
        "\n",
        "# Esto hacerlo solo después de ejecutarlo una vez y saber de qué warnings se trata\n",
        "import warnings\n",
        "warnings.filterwarnings(\"ignore\")\n",
        "\n",
        "# Importamos datos de parados\n",
        "df=pd.read_excel(\"https://github.com/otoperalias/Coyuntura/raw/refs/heads/main/clases/datos/exams/Enero25_OCUP.xlsx\", index_col=0)\n",
        "# Crear una columna con el periodo, para convertirla en datetime y en el index.\n",
        "df['periodo']=df.index.str[:4]+\"Q\"+df.index.str[-1:]\n",
        "df['periodo']=pd.to_datetime(df['periodo'])\n",
        "df.set_index('periodo', inplace=True)\n",
        "\n",
        "# Importamos datos de afiliados (variable X)\n",
        "ss=pd.read_excel(\"https://github.com/otoperalias/Coyuntura/raw/refs/heads/main/clases/datos/exams/Enero25_SS.xlsx\", index_col=0)\n",
        "# Crear una columna con el periodo, para convertirla en datetime y en el index.\n",
        "ss['periodo']=ss.index.astype(str).str[:4]+\"-\"+ss.index.astype(str).str[-2:]\n",
        "ss['periodo']=pd.to_datetime(ss['periodo'])\n",
        "ss.set_index('periodo', inplace=True)\n",
        "# Pasar a trimestres (tenemos todos los meses del 4º trimestre)\n",
        "ss.index=ss.index.to_period(\"M\")\n",
        "ss=ss.resample('Q',label=\"right\").mean()\n",
        "ss.index=ss.index.to_timestamp()"
      ]
    },
    {
      "cell_type": "code",
      "source": [
        "# INDICAMOS PROVINCIA Y FILTRAMOS\n",
        "name=input(\"Introduce el nombre de la provincia: \")\n",
        "prov=df.filter(like=name)\n",
        "ss_prov=ss.filter(like=name).copy()\n",
        "\n",
        "# 1. DESESTACIONALIZACIÓN\n",
        "\n",
        "# Calculamos la serie desestacionalizada\n",
        "stl_method = sm.tsa.STL(prov.iloc[:, 0], robust=True).fit()\n",
        "ocup_aj=prov.iloc[:, 0]-stl_method.seasonal\n",
        "\n",
        "# Evolución de los ocupados\n",
        "fig,ax=plt.subplots(figsize=(6,4), dpi=100)\n",
        "ax.plot(prov.loc[\"2021\":], label=\"Datos brutos\")\n",
        "ax.plot(ocup_aj.loc[\"2021\":],label=\"Desestacionalizados\")\n",
        "ax.set_ylabel(\"Ocupados (miles) \\n\")\n",
        "ax.set_xlabel(\"\")\n",
        "ax.xaxis.set_tick_params(labelsize=9)\n",
        "ax.set_title(\"Evolución de los ocupados en \"+name+\"\\n\")\n",
        "ax.legend(frameon=False, fontsize=10)\n",
        "ax.grid(axis='y', alpha=0.5)\n",
        "ax.spines[['top','right']].set_visible(False)\n",
        "fig.text(0.1,-0.03,\"Fuente: EPA (INE). Serie desestacionalizada con el método STL. Elaboración propia.\", size=9)\n",
        "plt.show()\n",
        "print(' \\n \\n ')\n",
        "\n",
        "# 2. TASA DE VARIACIÓN\n",
        "oc_tc=(ocup_aj/ocup_aj.shift(1)-1 )*100\n",
        "\n",
        "# Tasa de variación\n",
        "fig,ax=plt.subplots(figsize=(6,4), dpi=100)\n",
        "ax.plot(oc_tc.loc[\"2021\":])\n",
        "ax.set_ylabel(\"Tasa de variación (%) \\n\")\n",
        "ax.set_xlabel(\"\")\n",
        "ax.xaxis.set_tick_params(labelsize=9)\n",
        "ax.set_title(\"Variación intertrimestral de los ocupados en \"+name)\n",
        "ax.grid(axis='y', alpha=0.5)\n",
        "ax.spines[['top','right']].set_visible(False)\n",
        "fig.text(0.1,-0.03,\"Fuente: EPA (INE). Serie desestacionalizada con el método STL. Elaboración propia.\", size=9)\n",
        "plt.show()\n",
        "print(' \\n \\n ')\n",
        "\n",
        "# 3. PREDICCIÓN\n",
        "# PREDICCIÓN MODELO SARIMA\n",
        "smodel = pm.auto_arima(prov, start_p=0, start_q=0, test='adf', max_p=3, max_q=3, m=4,\n",
        "                         start_P=0, seasonal=True, error_action='ignore',\n",
        "                         suppress_warnings=True, stepwise=True)\n",
        "fitted, confint = smodel.predict(n_periods=1, return_conf_int=True)\n",
        "index_of_fc = pd.date_range(start=\"2024-10-01\",end=\"2024-10-01\", freq='QS')\n",
        "lower_series = pd.Series(confint[:, 0], index=index_of_fc)\n",
        "upper_series = pd.Series(confint[:, 1], index=index_of_fc)\n",
        "\n",
        "# PREDICCIÓN MODELO SARIMAX\n",
        "smodel = pm.auto_arima(prov[\"2009\":], start_p=0, start_q=0, X=ss_prov[:-1], test='adf', max_p=3, max_q=3, m=4,\n",
        "                         start_P=0, seasonal=True, error_action='ignore',\n",
        "                         suppress_warnings=True, stepwise=True)\n",
        "fitted2, confint2 = smodel.predict(n_periods=1, X=ss_prov[-1:], return_conf_int=True)\n",
        "lower_series2 = pd.Series(confint[:, 0], index=index_of_fc)\n",
        "upper_series2 = pd.Series(confint[:, 1], index=index_of_fc)\n",
        "\n",
        "# Plot\n",
        "fig,(ax1,ax2)=plt.subplots(1,2, sharey=True, figsize=(10,4.25), dpi=100)\n",
        "  #SARIMA\n",
        "ax1.plot(prov.loc[\"2021\":], color=\"tab:blue\")\n",
        "ax1.plot(fitted, color='r',marker='.')\n",
        "ax1.plot(lower_series, color='r', marker='_')\n",
        "ax1.plot(upper_series, color='r',marker='_')\n",
        "ax1.set_title(\"Predicción 1: SARIMA \\n\", size=10, pad=20)\n",
        "ax1.set_ylabel(\"Ocupados (miles) \\n\")\n",
        "ax1.grid(axis='y')\n",
        "ax1.xaxis.set_tick_params(labelsize=8, labelrotation=45)\n",
        "ax1.spines[['top','right']].set_visible(False)\n",
        "ax1.text(fitted.index[0],fitted[0]*1.01,round(fitted[0],1), fontsize=9)\n",
        "  #SARIMAX\n",
        "ax2.plot(prov.loc[\"2021\":], color=\"tab:blue\")\n",
        "ax2.plot(fitted2, color='r',marker='.')\n",
        "ax2.plot(lower_series2, color='r', marker='_')\n",
        "ax2.plot(upper_series2, color='r',marker='_')\n",
        "ax2.set_title(\"Predicción 2: SARIMAX \\n\", size=10, pad=20)\n",
        "ax2.set_ylabel(\"Ocupados (miles) \\n\")\n",
        "ax2.grid(axis='y')\n",
        "ax2.xaxis.set_tick_params(labelsize=8, labelrotation=45)\n",
        "ax2.spines[['top','right']].set_visible(False)\n",
        "ax2.text(fitted2.index[0],fitted2[0]*1.01,round(fitted2[0],1), fontsize=9)\n",
        "  # Notas\n",
        "fig.text(0.3,1.1,\"Predicción de ocupados en \"+name+\" en el 4º tr 2024\", size=12)\n",
        "fig.text(0.1,-0.08,\"Fuente: EPA (INE) y INSS. Elaboración propia. La predicción 1 se ha realizado con el modelo SARIMA y la predicción 2 con el SARIMAX,\\n \\\n",
        "con la variable de afiliados medios totales como variable exógena.\", size=9)\n",
        "plt.show()\n",
        "\n"
      ],
      "metadata": {
        "id": "YdvviIYbJUs4"
      },
      "execution_count": null,
      "outputs": []
    }
  ]
}