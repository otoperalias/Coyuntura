{
  "nbformat": 4,
  "nbformat_minor": 0,
  "metadata": {
    "colab": {
      "provenance": [],
      "authorship_tag": "ABX9TyPcviRNd8RQQiGCm5GBD5Rc",
      "include_colab_link": true
    },
    "kernelspec": {
      "name": "python3",
      "display_name": "Python 3"
    },
    "language_info": {
      "name": "python"
    }
  },
  "cells": [
    {
      "cell_type": "markdown",
      "metadata": {
        "id": "view-in-github",
        "colab_type": "text"
      },
      "source": [
        "<a href=\"https://colab.research.google.com/github/otoperalias/Coyuntura/blob/main/clases/datos/exams/Examen_Junio_25.ipynb\" target=\"_parent\"><img src=\"https://colab.research.google.com/assets/colab-badge.svg\" alt=\"Open In Colab\"/></a>"
      ]
    },
    {
      "cell_type": "markdown",
      "source": [
        "## SOLUCIÓN DEL EXAMEN DE JUNIO DE 2025"
      ],
      "metadata": {
        "id": "eR9hI7P1HAmx"
      }
    },
    {
      "cell_type": "code",
      "source": [
        "# Instalamos la librería statsforecast\n",
        "!pip install statsforecast\n",
        "# https://nixtlaverse.nixtla.io/statsforecast/docs/models/autoarima.html\n",
        "# Esto es para reiniciar el kernel y así poder importar luego la librería\n",
        "import os\n",
        "os.kill(os.getpid(), 9)"
      ],
      "metadata": {
        "id": "Q6eIbHIeIt-K",
        "collapsed": true,
        "outputId": "cb7cd208-7d50-458e-91c1-f803cb0df868",
        "colab": {
          "base_uri": "https://localhost:8080/"
        }
      },
      "execution_count": null,
      "outputs": [
        {
          "output_type": "stream",
          "name": "stdout",
          "text": [
            "Collecting statsforecast\n",
            "  Downloading statsforecast-2.0.1-cp311-cp311-manylinux_2_17_x86_64.manylinux2014_x86_64.whl.metadata (29 kB)\n",
            "Requirement already satisfied: cloudpickle in /usr/local/lib/python3.11/dist-packages (from statsforecast) (3.1.1)\n",
            "Collecting coreforecast>=0.0.12 (from statsforecast)\n",
            "  Downloading coreforecast-0.0.16-cp311-cp311-manylinux_2_17_x86_64.manylinux2014_x86_64.whl.metadata (3.7 kB)\n",
            "Requirement already satisfied: numba>=0.55.0 in /usr/local/lib/python3.11/dist-packages (from statsforecast) (0.60.0)\n",
            "Requirement already satisfied: numpy>=1.21.6 in /usr/local/lib/python3.11/dist-packages (from statsforecast) (2.0.2)\n",
            "Requirement already satisfied: pandas>=1.3.5 in /usr/local/lib/python3.11/dist-packages (from statsforecast) (2.2.2)\n",
            "Requirement already satisfied: scipy>=1.7.3 in /usr/local/lib/python3.11/dist-packages (from statsforecast) (1.15.3)\n",
            "Requirement already satisfied: statsmodels>=0.13.2 in /usr/local/lib/python3.11/dist-packages (from statsforecast) (0.14.4)\n",
            "Requirement already satisfied: tqdm in /usr/local/lib/python3.11/dist-packages (from statsforecast) (4.67.1)\n",
            "Collecting fugue>=0.8.1 (from statsforecast)\n",
            "  Downloading fugue-0.9.1-py3-none-any.whl.metadata (18 kB)\n",
            "Collecting utilsforecast>=0.1.4 (from statsforecast)\n",
            "  Downloading utilsforecast-0.2.12-py3-none-any.whl.metadata (7.6 kB)\n",
            "Requirement already satisfied: threadpoolctl>=3 in /usr/local/lib/python3.11/dist-packages (from statsforecast) (3.6.0)\n",
            "Collecting triad>=0.9.7 (from fugue>=0.8.1->statsforecast)\n",
            "  Downloading triad-0.9.8-py3-none-any.whl.metadata (6.3 kB)\n",
            "Collecting adagio>=0.2.4 (from fugue>=0.8.1->statsforecast)\n",
            "  Downloading adagio-0.2.6-py3-none-any.whl.metadata (1.8 kB)\n",
            "Requirement already satisfied: llvmlite<0.44,>=0.43.0dev0 in /usr/local/lib/python3.11/dist-packages (from numba>=0.55.0->statsforecast) (0.43.0)\n",
            "Requirement already satisfied: python-dateutil>=2.8.2 in /usr/local/lib/python3.11/dist-packages (from pandas>=1.3.5->statsforecast) (2.9.0.post0)\n",
            "Requirement already satisfied: pytz>=2020.1 in /usr/local/lib/python3.11/dist-packages (from pandas>=1.3.5->statsforecast) (2025.2)\n",
            "Requirement already satisfied: tzdata>=2022.7 in /usr/local/lib/python3.11/dist-packages (from pandas>=1.3.5->statsforecast) (2025.2)\n",
            "Requirement already satisfied: patsy>=0.5.6 in /usr/local/lib/python3.11/dist-packages (from statsmodels>=0.13.2->statsforecast) (1.0.1)\n",
            "Requirement already satisfied: packaging>=21.3 in /usr/local/lib/python3.11/dist-packages (from statsmodels>=0.13.2->statsforecast) (24.2)\n",
            "Requirement already satisfied: six>=1.5 in /usr/local/lib/python3.11/dist-packages (from python-dateutil>=2.8.2->pandas>=1.3.5->statsforecast) (1.17.0)\n",
            "Requirement already satisfied: pyarrow>=6.0.1 in /usr/local/lib/python3.11/dist-packages (from triad>=0.9.7->fugue>=0.8.1->statsforecast) (18.1.0)\n",
            "Requirement already satisfied: fsspec>=2022.5.0 in /usr/local/lib/python3.11/dist-packages (from triad>=0.9.7->fugue>=0.8.1->statsforecast) (2025.3.2)\n",
            "Collecting fs (from triad>=0.9.7->fugue>=0.8.1->statsforecast)\n",
            "  Downloading fs-2.4.16-py2.py3-none-any.whl.metadata (6.3 kB)\n",
            "Collecting appdirs~=1.4.3 (from fs->triad>=0.9.7->fugue>=0.8.1->statsforecast)\n",
            "  Downloading appdirs-1.4.4-py2.py3-none-any.whl.metadata (9.0 kB)\n",
            "Requirement already satisfied: setuptools in /usr/local/lib/python3.11/dist-packages (from fs->triad>=0.9.7->fugue>=0.8.1->statsforecast) (75.2.0)\n",
            "Downloading statsforecast-2.0.1-cp311-cp311-manylinux_2_17_x86_64.manylinux2014_x86_64.whl (354 kB)\n",
            "\u001b[2K   \u001b[90m━━━━━━━━━━━━━━━━━━━━━━━━━━━━━━━━━━━━━━━━\u001b[0m \u001b[32m354.4/354.4 kB\u001b[0m \u001b[31m8.5 MB/s\u001b[0m eta \u001b[36m0:00:00\u001b[0m\n",
            "\u001b[?25hDownloading coreforecast-0.0.16-cp311-cp311-manylinux_2_17_x86_64.manylinux2014_x86_64.whl (285 kB)\n",
            "\u001b[2K   \u001b[90m━━━━━━━━━━━━━━━━━━━━━━━━━━━━━━━━━━━━━━━━\u001b[0m \u001b[32m285.8/285.8 kB\u001b[0m \u001b[31m16.3 MB/s\u001b[0m eta \u001b[36m0:00:00\u001b[0m\n",
            "\u001b[?25hDownloading fugue-0.9.1-py3-none-any.whl (278 kB)\n",
            "\u001b[2K   \u001b[90m━━━━━━━━━━━━━━━━━━━━━━━━━━━━━━━━━━━━━━━━\u001b[0m \u001b[32m278.2/278.2 kB\u001b[0m \u001b[31m14.8 MB/s\u001b[0m eta \u001b[36m0:00:00\u001b[0m\n",
            "\u001b[?25hDownloading utilsforecast-0.2.12-py3-none-any.whl (42 kB)\n",
            "\u001b[2K   \u001b[90m━━━━━━━━━━━━━━━━━━━━━━━━━━━━━━━━━━━━━━━━\u001b[0m \u001b[32m42.2/42.2 kB\u001b[0m \u001b[31m2.4 MB/s\u001b[0m eta \u001b[36m0:00:00\u001b[0m\n",
            "\u001b[?25hDownloading adagio-0.2.6-py3-none-any.whl (19 kB)\n",
            "Downloading triad-0.9.8-py3-none-any.whl (62 kB)\n",
            "\u001b[2K   \u001b[90m━━━━━━━━━━━━━━━━━━━━━━━━━━━━━━━━━━━━━━━━\u001b[0m \u001b[32m62.3/62.3 kB\u001b[0m \u001b[31m4.3 MB/s\u001b[0m eta \u001b[36m0:00:00\u001b[0m\n",
            "\u001b[?25hDownloading fs-2.4.16-py2.py3-none-any.whl (135 kB)\n",
            "\u001b[2K   \u001b[90m━━━━━━━━━━━━━━━━━━━━━━━━━━━━━━━━━━━━━━━━\u001b[0m \u001b[32m135.3/135.3 kB\u001b[0m \u001b[31m8.8 MB/s\u001b[0m eta \u001b[36m0:00:00\u001b[0m\n",
            "\u001b[?25hDownloading appdirs-1.4.4-py2.py3-none-any.whl (9.6 kB)\n",
            "Installing collected packages: appdirs, fs, coreforecast, utilsforecast, triad, adagio, fugue, statsforecast\n",
            "Successfully installed adagio-0.2.6 appdirs-1.4.4 coreforecast-0.0.16 fs-2.4.16 fugue-0.9.1 statsforecast-2.0.1 triad-0.9.8 utilsforecast-0.2.12\n"
          ]
        }
      ]
    },
    {
      "cell_type": "code",
      "execution_count": 1,
      "metadata": {
        "id": "2lfwl1V7GzoN"
      },
      "outputs": [],
      "source": [
        "#IMPORTAMOS LIBRERÍAS Y DATOS\n",
        "import pandas as pd\n",
        "import matplotlib.pyplot as plt\n",
        "import statsmodels.api as sm\n",
        "import seaborn as sns\n",
        "from statsforecast.models import AutoARIMA\n",
        "\n",
        "# Esto hacerlo solo después de ejecutarlo una vez y saber de qué warnings se trata\n",
        "import warnings\n",
        "warnings.filterwarnings(\"ignore\")\n",
        "\n",
        "# Importamos datos de parados\n",
        "df=pd.read_excel(\"https://github.com/otoperalias/Coyuntura/raw/refs/heads/main/clases/datos/exams/Enero25_OCUP.xlsx\", index_col=0)\n",
        "# Crear una columna con el periodo, para convertirla en datetime y en el index.\n",
        "df['periodo']=df.index.str[:4]+\"Q\"+df.index.str[-1:]\n",
        "df['periodo']=pd.to_datetime(df['periodo'])\n",
        "df.set_index('periodo', inplace=True)\n",
        "\n",
        "# Importamos datos de afiliados (variable X)\n",
        "ss=pd.read_excel(\"https://github.com/otoperalias/Coyuntura/raw/refs/heads/main/clases/datos/exams/Enero25_SS.xlsx\", index_col=0)\n",
        "# Crear una columna con el periodo, para convertirla en datetime y en el index.\n",
        "ss['periodo']=ss.index.astype(str).str[:4]+\"-\"+ss.index.astype(str).str[-2:]\n",
        "ss['periodo']=pd.to_datetime(ss['periodo'])\n",
        "ss.set_index('periodo', inplace=True)\n",
        "# Pasar a trimestres (tenemos todos los meses del 4º trimestre)\n",
        "ss.index=ss.index.to_period(\"M\")\n",
        "ss=ss.resample('Q',label=\"right\").mean()\n",
        "ss.index=ss.index.to_timestamp()"
      ]
    },
    {
      "cell_type": "code",
      "source": [
        "# INDICAMOS PROVINCIA Y FILTRAMOS\n",
        "name=input(\"Introduce el nombre de la provincia: \")\n",
        "prov=df.filter(like=name)\n",
        "ss_prov=ss.filter(like=name).copy()\n",
        "\n",
        "# 1. DESESTACIONALIZACIÓN\n",
        "\n",
        "# Calculamos la serie desestacionalizada\n",
        "stl_method = sm.tsa.STL(prov.iloc[:, 0], robust=True).fit()\n",
        "ocup_aj=prov.iloc[:, 0]-stl_method.seasonal\n",
        "\n",
        "# Evolución de los ocupados\n",
        "fig,ax=plt.subplots(figsize=(6,4), dpi=100)\n",
        "ax.plot(prov.loc[\"2021\":], label=\"Datos brutos\")\n",
        "ax.plot(ocup_aj.loc[\"2021\":],label=\"Desestacionalizados\")\n",
        "ax.set_ylabel(\"Ocupados (miles) \\n\")\n",
        "ax.set_xlabel(\"\")\n",
        "ax.xaxis.set_tick_params(labelsize=9)\n",
        "ax.set_title(\"Evolución de los ocupados en \"+name+\"\\n\")\n",
        "ax.legend(frameon=False, fontsize=10)\n",
        "ax.grid(axis='y', alpha=0.5)\n",
        "ax.spines[['top','right']].set_visible(False)\n",
        "fig.text(0.1,-0.03,\"Fuente: EPA (INE). Serie desestacionalizada con el método STL. Elaboración propia.\", size=9)\n",
        "plt.show()\n",
        "print(' \\n \\n ')\n",
        "\n",
        "# 2. TASA DE VARIACIÓN\n",
        "oc_tc=(ocup_aj/ocup_aj.shift(1)-1 )*100\n",
        "\n",
        "# Tasa de variación\n",
        "fig,ax=plt.subplots(figsize=(6,4), dpi=100)\n",
        "ax.plot(oc_tc.loc[\"2021\":])\n",
        "ax.set_ylabel(\"Tasa de variación (%) \\n\")\n",
        "ax.set_xlabel(\"\")\n",
        "ax.xaxis.set_tick_params(labelsize=9)\n",
        "ax.set_title(\"Variación intertrimestral de los ocupados en \"+name)\n",
        "ax.grid(axis='y', alpha=0.5)\n",
        "ax.spines[['top','right']].set_visible(False)\n",
        "fig.text(0.1,-0.03,\"Fuente: EPA (INE). Serie desestacionalizada con el método STL. Elaboración propia.\", size=9)\n",
        "plt.show()\n",
        "print(' \\n \\n ')\n",
        "\n",
        "# 3. PREDICCIÓN\n",
        "# PREDICCIÓN MODELO SARIMA\n",
        "smodel = pm.auto_arima(prov, start_p=0, start_q=0, test='adf', max_p=3, max_q=3, m=4,\n",
        "                         start_P=0, seasonal=True, error_action='ignore',\n",
        "                         suppress_warnings=True, stepwise=True)\n",
        "fitted, confint = smodel.predict(n_periods=1, return_conf_int=True)\n",
        "index_of_fc = pd.date_range(start=\"2024-10-01\",end=\"2024-10-01\", freq='QS')\n",
        "lower_series = pd.Series(confint[:, 0], index=index_of_fc)\n",
        "upper_series = pd.Series(confint[:, 1], index=index_of_fc)\n",
        "\n",
        "# PREDICCIÓN MODELO SARIMAX\n",
        "smodel = pm.auto_arima(prov[\"2009\":], start_p=0, start_q=0, X=ss_prov[:-1], test='adf', max_p=3, max_q=3, m=4,\n",
        "                         start_P=0, seasonal=True, error_action='ignore',\n",
        "                         suppress_warnings=True, stepwise=True)\n",
        "fitted2, confint2 = smodel.predict(n_periods=1, X=ss_prov[-1:], return_conf_int=True)\n",
        "lower_series2 = pd.Series(confint[:, 0], index=index_of_fc)\n",
        "upper_series2 = pd.Series(confint[:, 1], index=index_of_fc)\n",
        "\n",
        "# Plot\n",
        "fig,(ax1,ax2)=plt.subplots(1,2, sharey=True, figsize=(10,4.25), dpi=100)\n",
        "  #SARIMA\n",
        "ax1.plot(prov.loc[\"2021\":], color=\"tab:blue\")\n",
        "ax1.plot(fitted, color='r',marker='.')\n",
        "ax1.plot(lower_series, color='r', marker='_')\n",
        "ax1.plot(upper_series, color='r',marker='_')\n",
        "ax1.set_title(\"Predicción 1: SARIMA \\n\", size=10, pad=20)\n",
        "ax1.set_ylabel(\"Ocupados (miles) \\n\")\n",
        "ax1.grid(axis='y')\n",
        "ax1.xaxis.set_tick_params(labelsize=8, labelrotation=45)\n",
        "ax1.spines[['top','right']].set_visible(False)\n",
        "ax1.text(fitted.index[0],fitted[0]*1.01,round(fitted[0],1), fontsize=9)\n",
        "  #SARIMAX\n",
        "ax2.plot(prov.loc[\"2021\":], color=\"tab:blue\")\n",
        "ax2.plot(fitted2, color='r',marker='.')\n",
        "ax2.plot(lower_series2, color='r', marker='_')\n",
        "ax2.plot(upper_series2, color='r',marker='_')\n",
        "ax2.set_title(\"Predicción 2: SARIMAX \\n\", size=10, pad=20)\n",
        "ax2.set_ylabel(\"Ocupados (miles) \\n\")\n",
        "ax2.grid(axis='y')\n",
        "ax2.xaxis.set_tick_params(labelsize=8, labelrotation=45)\n",
        "ax2.spines[['top','right']].set_visible(False)\n",
        "ax2.text(fitted2.index[0],fitted2[0]*1.01,round(fitted2[0],1), fontsize=9)\n",
        "  # Notas\n",
        "fig.text(0.3,1.1,\"Predicción de ocupados en \"+name+\" en el 4º tr 2024\", size=12)\n",
        "fig.text(0.1,-0.08,\"Fuente: EPA (INE) y INSS. Elaboración propia. La predicción 1 se ha realizado con el modelo SARIMA y la predicción 2 con el SARIMAX,\\n \\\n",
        "con la variable de afiliados medios totales como variable exógena.\", size=9)\n",
        "plt.show()\n",
        "\n"
      ],
      "metadata": {
        "id": "YdvviIYbJUs4"
      },
      "execution_count": null,
      "outputs": []
    }
  ]
}