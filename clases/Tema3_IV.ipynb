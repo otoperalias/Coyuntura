{
  "nbformat": 4,
  "nbformat_minor": 0,
  "metadata": {
    "colab": {
      "name": "Untitled2.ipynb",
      "provenance": [],
      "authorship_tag": "ABX9TyM0+D1r3vMdHked/TYU5BZM",
      "include_colab_link": true
    },
    "kernelspec": {
      "name": "python3",
      "display_name": "Python 3"
    },
    "language_info": {
      "name": "python"
    }
  },
  "cells": [
    {
      "cell_type": "markdown",
      "metadata": {
        "id": "view-in-github",
        "colab_type": "text"
      },
      "source": [
        "<a href=\"https://colab.research.google.com/github/otoperalias/Coyuntura/blob/main/clases/Tema3_IV.ipynb\" target=\"_parent\"><img src=\"https://colab.research.google.com/assets/colab-badge.svg\" alt=\"Open In Colab\"/></a>"
      ]
    },
    {
      "cell_type": "markdown",
      "metadata": {
        "id": "qoFTKDjmnVfF"
      },
      "source": [
        "## Tema 3.2. Introducción a la modelización de series. Modelos ARIMA."
      ]
    },
    {
      "cell_type": "code",
      "metadata": {
        "id": "P_dZS_jlMkz6",
        "outputId": "f6d60716-53b5-430d-dbf2-20f20680f06a",
        "colab": {
          "base_uri": "https://localhost:8080/"
        }
      },
      "source": [
        "# Instalamos la librería pmdarima (la vamos a necesitar en esta sesión)\n",
        "!pip install pmdarima --user # Si usamos Jupyter, quitamos el signo de exclamación"
      ],
      "execution_count": 8,
      "outputs": [
        {
          "output_type": "stream",
          "name": "stdout",
          "text": [
            "Requirement already satisfied: pmdarima in /root/.local/lib/python3.7/site-packages (1.8.4)\n",
            "Requirement already satisfied: Cython!=0.29.18,>=0.29 in /usr/local/lib/python3.7/dist-packages (from pmdarima) (0.29.24)\n",
            "Requirement already satisfied: urllib3 in /usr/local/lib/python3.7/dist-packages (from pmdarima) (1.24.3)\n",
            "Requirement already satisfied: scipy>=1.3.2 in /usr/local/lib/python3.7/dist-packages (from pmdarima) (1.4.1)\n",
            "Requirement already satisfied: scikit-learn>=0.22 in /usr/local/lib/python3.7/dist-packages (from pmdarima) (1.0.1)\n",
            "Requirement already satisfied: joblib>=0.11 in /usr/local/lib/python3.7/dist-packages (from pmdarima) (1.1.0)\n",
            "Requirement already satisfied: statsmodels!=0.12.0,>=0.11 in /root/.local/lib/python3.7/site-packages (from pmdarima) (0.13.1)\n",
            "Requirement already satisfied: numpy>=1.19.3 in /usr/local/lib/python3.7/dist-packages (from pmdarima) (1.19.5)\n",
            "Requirement already satisfied: setuptools!=50.0.0,>=38.6.0 in /usr/local/lib/python3.7/dist-packages (from pmdarima) (57.4.0)\n",
            "Requirement already satisfied: pandas>=0.19 in /usr/local/lib/python3.7/dist-packages (from pmdarima) (1.1.5)\n",
            "Requirement already satisfied: pytz>=2017.2 in /usr/local/lib/python3.7/dist-packages (from pandas>=0.19->pmdarima) (2018.9)\n",
            "Requirement already satisfied: python-dateutil>=2.7.3 in /usr/local/lib/python3.7/dist-packages (from pandas>=0.19->pmdarima) (2.8.2)\n",
            "Requirement already satisfied: six>=1.5 in /usr/local/lib/python3.7/dist-packages (from python-dateutil>=2.7.3->pandas>=0.19->pmdarima) (1.15.0)\n",
            "Requirement already satisfied: threadpoolctl>=2.0.0 in /usr/local/lib/python3.7/dist-packages (from scikit-learn>=0.22->pmdarima) (3.0.0)\n",
            "Requirement already satisfied: patsy>=0.5.2 in /usr/local/lib/python3.7/dist-packages (from statsmodels!=0.12.0,>=0.11->pmdarima) (0.5.2)\n"
          ]
        }
      ]
    },
    {
      "cell_type": "code",
      "metadata": {
        "id": "e3gHyY36n0BE"
      },
      "source": [
        "# Importamos funciones y establecemos configuración general\n",
        "import numpy as np\n",
        "import pandas as pd\n",
        "import matplotlib.pyplot as plt\n",
        "plt.style.use('Solarize_Light2')\n",
        "plt.rcParams[\"figure.figsize\"] = [10,4]  # Default figure size\n",
        "\n",
        "# PATH\n",
        "path=\"C:/Users/danie/Dropbox/CyP/T3/\""
      ],
      "execution_count": 2,
      "outputs": []
    },
    {
      "cell_type": "code",
      "metadata": {
        "id": "o1GTFi7ooG5X"
      },
      "source": [
        "# Importamos datos\n",
        "df = pd.read_excel(\"https://raw.githubusercontent.com/otoperalias/Coyuntura/main/clases/datos/ventas.xlsx\", index_col=0, parse_dates=True)\n",
        "df.ventas=df.ventas.astype('float32') \n",
        "df"
      ],
      "execution_count": null,
      "outputs": []
    },
    {
      "cell_type": "markdown",
      "metadata": {
        "id": "aFFqLOIotRkW"
      },
      "source": [
        "## MODELIZACIÓN DE SERIES."
      ]
    },
    {
      "cell_type": "markdown",
      "metadata": {
        "id": "8XhFV0I9npNF"
      },
      "source": [
        "### 1. Visualización"
      ]
    },
    {
      "cell_type": "code",
      "metadata": {
        "id": "QPU6jLoinQl3"
      },
      "source": [
        "# Gráfico serie original\n",
        "df.plot.line(figsize=(12,6))\n",
        "plt.title('Ventas 1990 - 1998')\n",
        "plt.show()"
      ],
      "execution_count": null,
      "outputs": []
    },
    {
      "cell_type": "code",
      "metadata": {
        "id": "XyupFhF2o6a3"
      },
      "source": [
        "# Gráfico medias móviles\n",
        "rol_mean=df.rolling(window=12).mean()\n",
        "rol_std = df.rolling(window=12).std()\n",
        "\n",
        "fig, ax = plt.subplots(figsize=(12, 6))\n",
        "ax.plot(df, color='blue',label='Original')\n",
        "ax.plot(rol_mean, color='red', label='Rolling Mean')\n",
        "ax.plot(rol_std, color='black', label = 'Rolling Std')\n",
        "ax.legend(loc='best')\n",
        "ax.set_title('Rolling Mean & Standard Deviation')\n",
        "plt.show()"
      ],
      "execution_count": null,
      "outputs": []
    },
    {
      "cell_type": "code",
      "metadata": {
        "id": "98PnmXUbo9-u"
      },
      "source": [
        "#Correlogramas\n",
        "from statsmodels.graphics.tsaplots import plot_acf, plot_pacf\n",
        "\n",
        "fig, ax = plt.subplots(2, figsize=(12,6))\n",
        "plot_acf(df.dropna(), ax=ax[0], lags=20)\n",
        "plot_pacf(df.dropna(), ax=ax[1], lags=20)\n",
        "plt.show()"
      ],
      "execution_count": null,
      "outputs": []
    },
    {
      "cell_type": "markdown",
      "metadata": {
        "id": "G5lQOq6yp5gJ"
      },
      "source": [
        "### 2. Unit Root Tests"
      ]
    },
    {
      "cell_type": "code",
      "metadata": {
        "id": "SRBeMM5Hp8Td"
      },
      "source": [
        "# Augmented Dickey-Fuller Test\n",
        "from statsmodels.tsa.stattools import adfuller\n",
        "def DFtest(datos):\n",
        "    print('Results of Dickey-Fuller Test (H0= NO estac.):')\n",
        "    dftest = adfuller(datos, autolag='AIC')\n",
        "    print('Test Statistic', dftest[0])\n",
        "    print('p-value', dftest[1])\n",
        "    print('#Lags Used', dftest[2])\n",
        "    print('# obs', dftest[3])      \n",
        "    for k, v in dftest[4].items():\n",
        "        print(k,v)\n",
        "DFtest(df.ventas)"
      ],
      "execution_count": null,
      "outputs": []
    },
    {
      "cell_type": "code",
      "metadata": {
        "id": "2sLjiR2PqAuG"
      },
      "source": [
        "# KPSS\n",
        "from statsmodels.tsa.stattools import kpss\n",
        "def KPSStest(datos):\n",
        "    print('Results of KPSS Test (H0= Estac.):')\n",
        "    dftest = kpss((datos), 'ct')\n",
        "    print(\"Test statistic = \", dftest[0])\n",
        "    print(\"P-value = \", dftest[1])\n",
        "    print(\"Critical values :\")\n",
        "    for k, v in dftest[3].items():\n",
        "        print(k,v)\n",
        "KPSStest(df.ventas) "
      ],
      "execution_count": null,
      "outputs": []
    },
    {
      "cell_type": "markdown",
      "metadata": {
        "id": "uFUf68pKqk-r"
      },
      "source": [
        "\n",
        "### 3. Estacionarizar"
      ]
    },
    {
      "cell_type": "code",
      "metadata": {
        "id": "iJaX_W4CqI-W"
      },
      "source": [
        "# Es  útil dibujar un gráfico como este, que combine varias transformaciones en una representación\n",
        "fig, ax = plt.subplots(3, 2, figsize=(10,10))\n",
        "# Serie original\n",
        "ax[0,0].plot(df.ventas)\n",
        "ax[0,0].set_title('Serie original')\n",
        "plot_acf(df.ventas, ax=ax[0, 1])\n",
        "# Primera diferencia\n",
        "ax[1,0].plot(df.ventas.diff())\n",
        "ax[1,0].set_title('Primera diferencia')\n",
        "plot_acf(df.ventas.diff().dropna(), ax=ax[1, 1])\n",
        "# Segunda diferencia\n",
        "ax[2,0].plot(df.ventas.diff().diff())\n",
        "ax[2,0].set_title('Segundas diferencias')\n",
        "plot_acf(df.ventas.diff().diff().dropna(), ax=ax[2, 1])\n",
        "plt.subplots_adjust(hspace=0.3)\n",
        "plt.show()"
      ],
      "execution_count": null,
      "outputs": []
    },
    {
      "cell_type": "markdown",
      "metadata": {
        "id": "UwljGkTuq7h7"
      },
      "source": [
        "Para estacionarizar, parece conveniente empezar tomando simplemente primeras diferencias ya que los coeficientes de correlación caen rápidamente. Al tomar diferencias de segundo orden, vemos que el segundo retardo tiene un coeficiente negativo elevado, indicando que la serie podría estar sobre-diferenciada (over differencied)."
      ]
    },
    {
      "cell_type": "code",
      "metadata": {
        "id": "SrIPiCd4qu2k"
      },
      "source": [
        "# Podemos también comprobar que tomando logaritmos no se mejoran los resultados:\n",
        "\n",
        "plt.plot(np.log(df.ventas).diff())\n",
        "plot_acf(np.log(df.ventas).diff().dropna())"
      ],
      "execution_count": null,
      "outputs": []
    },
    {
      "cell_type": "markdown",
      "metadata": {
        "id": "nzEnYQ1IrTu1"
      },
      "source": [
        "Comprobamos si la serie es estacionaria con el DFtest:"
      ]
    },
    {
      "cell_type": "code",
      "metadata": {
        "id": "v6rkj98wrFMm"
      },
      "source": [
        "#Comprobamos si la serie es estacionaria con el DFtest\n",
        "DFtest(df.ventas.diff().dropna())  \n",
        "KPSStest(df.ventas.diff().dropna())  "
      ],
      "execution_count": null,
      "outputs": []
    },
    {
      "cell_type": "markdown",
      "metadata": {
        "id": "9muW-WzTrd2j"
      },
      "source": [
        "Los resultados de los tests nos muestran que está en el límite: estacionariedad débil.  \n",
        "Por tanto, con las reservas mencionadas, fijamos el orden de diferenciación en uno => d=1."
      ]
    },
    {
      "cell_type": "markdown",
      "metadata": {
        "id": "9A2ym7ROr6ao"
      },
      "source": [
        "### 4. Dibujar correlogramas para identificar los parámetros p y q (AR y MA)"
      ]
    },
    {
      "cell_type": "code",
      "metadata": {
        "id": "QiTmRUhLrW0O",
        "colab": {
          "base_uri": "https://localhost:8080/",
          "height": 392
        },
        "outputId": "adb88ce9-d9b6-449d-a32e-7375c2a8cce9"
      },
      "source": [
        "fig, ax = plt.subplots(2, figsize=(12,6))\n",
        "ax[0] = plot_acf(df.ventas.diff().dropna(), ax=ax[0], lags=28)\n",
        "ax[1] = plot_pacf(df.ventas.diff().dropna(), ax=ax[1], lags=28)"
      ],
      "execution_count": null,
      "outputs": [
        {
          "output_type": "display_data",
          "data": {
            "image/png": "[encoded data removed]",
            "text/plain": [
              "<Figure size 864x432 with 2 Axes>"
            ]
          },
          "metadata": {
            "needs_background": "light"
          }
        }
      ]
    },
    {
      "cell_type": "markdown",
      "metadata": {
        "id": "LKBt_JPVsNTK"
      },
      "source": [
        "* Componente MA: Vemos en ACF que hay dos retardos bien por encima del nivel de significancia=> q=2.\n",
        "* Componente AR: El primer retardo el PACF es muy significativo y luego se reduce bastante. Al principio\n",
        "podemos ser conservadores y establecer p=1.\n"
      ]
    },
    {
      "cell_type": "markdown",
      "metadata": {
        "id": "P5KrHGZzsZe-"
      },
      "source": [
        "### 5. Construir el modelo ARIMA"
      ]
    },
    {
      "cell_type": "code",
      "metadata": {
        "id": "7YYeGOv1rrAM"
      },
      "source": [
        "from statsmodels.tsa.arima_model import ARIMA"
      ],
      "execution_count": 14,
      "outputs": []
    },
    {
      "cell_type": "code",
      "metadata": {
        "id": "YUWlOKUtseXV"
      },
      "source": [
        "# 1,1,2 ARIMA Model (p,d,q=1,1,2)\n",
        "model = ARIMA(df.ventas, order=(1,1,2))\n",
        "model_fit = model.fit()\n",
        "print(model_fit.summary())"
      ],
      "execution_count": null,
      "outputs": []
    },
    {
      "cell_type": "markdown",
      "metadata": {
        "id": "NCztpUHLsm-S"
      },
      "source": [
        "Observamos que el coeficiente MA.2 es muy cercano a cero y muy insignificante estadísticamente, por tanto, probamos ahora con ARIMA(1,1,1)"
      ]
    },
    {
      "cell_type": "code",
      "metadata": {
        "id": "pxg4qC0IsgW0"
      },
      "source": [
        "# 1,1,1 ARIMA Model\n",
        "model_fit = ARIMA(df.ventas, order=(1,1,1)).fit()\n",
        "print(model_fit.summary())"
      ],
      "execution_count": null,
      "outputs": []
    },
    {
      "cell_type": "markdown",
      "metadata": {
        "id": "g76Bw_r0s2Lp"
      },
      "source": [
        "* AIC es menor, lo cual es bueno.\n",
        "* Todos los coeficientes son altamente significativos :)\n",
        "* Ahora representamos los residuos para asegurarnos de que no hay patrones en ellos (o sea, media y varianza constantes)"
      ]
    },
    {
      "cell_type": "code",
      "metadata": {
        "id": "2bzmnQI-sq-E"
      },
      "source": [
        "# Plot residual errors\n",
        "residuals = pd.DataFrame(model_fit.resid)\n",
        "fig, ax = plt.subplots(2,2,figsize=(12,5))\n",
        "residuals.plot(title=\"Residuos\", ax=ax[0,0])\n",
        "residuals.plot(kind='kde', title='Density', ax=ax[1,0])\n",
        "plot_acf(residuals, ax=ax[0,1], lags=28)\n",
        "plot_pacf(residuals, ax=ax[1,1], lags=28)\n",
        "plt.subplots_adjust(hspace=0.5)\n",
        "plt.show()"
      ],
      "execution_count": null,
      "outputs": []
    },
    {
      "cell_type": "markdown",
      "metadata": {
        "id": "rCs44FRds-iy"
      },
      "source": [
        "Los residuios parecen correctos con media casi cero y varianza uniforme.\n"
      ]
    },
    {
      "cell_type": "markdown",
      "metadata": {
        "id": "jxWD-62ptpk3"
      },
      "source": [
        "## PREDICCIÓN"
      ]
    },
    {
      "cell_type": "markdown",
      "metadata": {
        "id": "ndy6Iwvst2xa"
      },
      "source": [
        "### 1. Buscando el modelo óptimo: out-of-sample validation"
      ]
    },
    {
      "cell_type": "code",
      "metadata": {
        "id": "fcydZeb5uAdZ"
      },
      "source": [
        "# 1. Creamos training y test datasets\n",
        "train = df.ventas[:85]\n",
        "test = df.ventas[85:] # 15% de la base de datos"
      ],
      "execution_count": 5,
      "outputs": []
    },
    {
      "cell_type": "code",
      "metadata": {
        "id": "fT8CzIlbuAgr"
      },
      "source": [
        "# 2. Construimos el modelo ARIMA(1,1,1)\n",
        "model_fit = ARIMA(train, order=(1, 1, 1)).fit()"
      ],
      "execution_count": null,
      "outputs": []
    },
    {
      "cell_type": "code",
      "metadata": {
        "id": "m5CSv9_5tJEC"
      },
      "source": [
        "# 3. Predecimos\n",
        "fc,se,conf=model_fit.forecast(15, alpha=0.05)  # (out of sample forecasts , 95% conf)"
      ],
      "execution_count": null,
      "outputs": []
    },
    {
      "cell_type": "code",
      "metadata": {
        "id": "nbA9d_hfudyg"
      },
      "source": [
        "# 4. Convertimos en series de Pandas\n",
        "fc_series = pd.Series(fc, index=test.index)\n",
        "lower_series = pd.Series(conf[:, 0], index=test.index)  # IC inferior [todas filas, primer columna] del array conf\n",
        "upper_series = pd.Series(conf[:, 1], index=test.index)  # IC superior [todas filas, segunda columna] del array conf"
      ],
      "execution_count": null,
      "outputs": []
    },
    {
      "cell_type": "code",
      "metadata": {
        "id": "U4MHsgcdud1w"
      },
      "source": [
        "# 5. Creamos el gráfico\n",
        "fig, ax= plt.subplots(figsize=(12,5), dpi=80)\n",
        "ax.plot(train, label='Training')\n",
        "ax.plot(test, label='Actual')\n",
        "ax.plot(fc_series, label='Forecast')\n",
        "ax.fill_between(lower_series.index, lower_series, upper_series,color='k', alpha=.15)\n",
        "ax.set_title('Forecast vs Actuals')\n",
        "ax.legend(loc='upper left', fontsize=12)\n",
        "plt.show()"
      ],
      "execution_count": null,
      "outputs": []
    },
    {
      "cell_type": "markdown",
      "metadata": {
        "id": "P4bWmoqOu7Hs"
      },
      "source": [
        "* Observamos que el modelo acierta con la dirección de la serie y la predicción entra dentro del int. conf.\n",
        "* Sin embargo, cada valor predicho es menor que el real, lo cual hace que conforme pasa el tiempo, la predicción y la serie real diverjan.\n",
        "* Para mejorar el modelo, vamos a probar otras alternativas. Por ej., d=2 e iterativamente incrementar p a 5 y entonces q a 5. \n",
        "* Los criterios para evaluar los modelos son a) tener un menor AIC, b) ver gráficamente la predicción y c) comprobar que p-values<0,05.\n"
      ]
    },
    {
      "cell_type": "code",
      "metadata": {
        "id": "yQF3698yvLi-",
        "outputId": "bc6850d8-602a-45d0-9156-b614e17e91b6",
        "colab": {
          "base_uri": "https://localhost:8080/",
          "height": 466
        }
      },
      "source": [
        "# Construimos el modelo ARIMA(3,2,1) => tras ir probando, este da buen resultado\n",
        "model_fit = ARIMA(train, order=(3, 2, 1)).fit()\n",
        "print(model_fit.summary())"
      ],
      "execution_count": 15,
      "outputs": [
        {
          "output_type": "error",
          "ename": "NotImplementedError",
          "evalue": "ignored",
          "traceback": [
            "\u001b[0;31m---------------------------------------------------------------------------\u001b[0m",
            "\u001b[0;31mNotImplementedError\u001b[0m                       Traceback (most recent call last)",
            "\u001b[0;32m<ipython-input-15-08963e513215>\u001b[0m in \u001b[0;36m<module>\u001b[0;34m()\u001b[0m\n\u001b[1;32m      1\u001b[0m \u001b[0;31m# Construimos el modelo ARIMA(3,2,1) => tras ir probando, este da buen resultado\u001b[0m\u001b[0;34m\u001b[0m\u001b[0;34m\u001b[0m\u001b[0;34m\u001b[0m\u001b[0m\n\u001b[0;32m----> 2\u001b[0;31m \u001b[0mmodel_fit\u001b[0m \u001b[0;34m=\u001b[0m \u001b[0mARIMA\u001b[0m\u001b[0;34m(\u001b[0m\u001b[0mtrain\u001b[0m\u001b[0;34m,\u001b[0m \u001b[0morder\u001b[0m\u001b[0;34m=\u001b[0m\u001b[0;34m(\u001b[0m\u001b[0;36m3\u001b[0m\u001b[0;34m,\u001b[0m \u001b[0;36m2\u001b[0m\u001b[0;34m,\u001b[0m \u001b[0;36m1\u001b[0m\u001b[0;34m)\u001b[0m\u001b[0;34m)\u001b[0m\u001b[0;34m.\u001b[0m\u001b[0mfit\u001b[0m\u001b[0;34m(\u001b[0m\u001b[0;34m)\u001b[0m\u001b[0;34m\u001b[0m\u001b[0;34m\u001b[0m\u001b[0m\n\u001b[0m\u001b[1;32m      3\u001b[0m \u001b[0mprint\u001b[0m\u001b[0;34m(\u001b[0m\u001b[0mmodel_fit\u001b[0m\u001b[0;34m.\u001b[0m\u001b[0msummary\u001b[0m\u001b[0;34m(\u001b[0m\u001b[0;34m)\u001b[0m\u001b[0;34m)\u001b[0m\u001b[0;34m\u001b[0m\u001b[0;34m\u001b[0m\u001b[0m\n",
            "\u001b[0;32m/root/.local/lib/python3.7/site-packages/statsmodels/tsa/arima_model.py\u001b[0m in \u001b[0;36m__init__\u001b[0;34m(self, *args, **kwargs)\u001b[0m\n\u001b[1;32m     43\u001b[0m \u001b[0;34m\u001b[0m\u001b[0m\n\u001b[1;32m     44\u001b[0m     \u001b[0;32mdef\u001b[0m \u001b[0m__init__\u001b[0m\u001b[0;34m(\u001b[0m\u001b[0mself\u001b[0m\u001b[0;34m,\u001b[0m \u001b[0;34m*\u001b[0m\u001b[0margs\u001b[0m\u001b[0;34m,\u001b[0m \u001b[0;34m**\u001b[0m\u001b[0mkwargs\u001b[0m\u001b[0;34m)\u001b[0m\u001b[0;34m:\u001b[0m\u001b[0;34m\u001b[0m\u001b[0;34m\u001b[0m\u001b[0m\n\u001b[0;32m---> 45\u001b[0;31m         \u001b[0msuper\u001b[0m\u001b[0;34m(\u001b[0m\u001b[0;34m)\u001b[0m\u001b[0;34m.\u001b[0m\u001b[0m__init__\u001b[0m\u001b[0;34m(\u001b[0m\u001b[0;34m*\u001b[0m\u001b[0margs\u001b[0m\u001b[0;34m,\u001b[0m \u001b[0;34m**\u001b[0m\u001b[0mkwargs\u001b[0m\u001b[0;34m)\u001b[0m\u001b[0;34m\u001b[0m\u001b[0;34m\u001b[0m\u001b[0m\n\u001b[0m\u001b[1;32m     46\u001b[0m \u001b[0;34m\u001b[0m\u001b[0m\n\u001b[1;32m     47\u001b[0m \u001b[0;34m\u001b[0m\u001b[0m\n",
            "\u001b[0;32m/root/.local/lib/python3.7/site-packages/statsmodels/tsa/arima_model.py\u001b[0m in \u001b[0;36m__init__\u001b[0;34m(self, *args, **kwargs)\u001b[0m\n\u001b[1;32m     27\u001b[0m \u001b[0;34m\u001b[0m\u001b[0m\n\u001b[1;32m     28\u001b[0m     \u001b[0;32mdef\u001b[0m \u001b[0m__init__\u001b[0m\u001b[0;34m(\u001b[0m\u001b[0mself\u001b[0m\u001b[0;34m,\u001b[0m \u001b[0;34m*\u001b[0m\u001b[0margs\u001b[0m\u001b[0;34m,\u001b[0m \u001b[0;34m**\u001b[0m\u001b[0mkwargs\u001b[0m\u001b[0;34m)\u001b[0m\u001b[0;34m:\u001b[0m\u001b[0;34m\u001b[0m\u001b[0;34m\u001b[0m\u001b[0m\n\u001b[0;32m---> 29\u001b[0;31m         \u001b[0;32mraise\u001b[0m \u001b[0mNotImplementedError\u001b[0m\u001b[0;34m(\u001b[0m\u001b[0mARIMA_DEPRECATION_ERROR\u001b[0m\u001b[0;34m)\u001b[0m\u001b[0;34m\u001b[0m\u001b[0;34m\u001b[0m\u001b[0m\n\u001b[0m\u001b[1;32m     30\u001b[0m \u001b[0;34m\u001b[0m\u001b[0m\n\u001b[1;32m     31\u001b[0m \u001b[0;34m\u001b[0m\u001b[0m\n",
            "\u001b[0;31mNotImplementedError\u001b[0m: \nstatsmodels.tsa.arima_model.ARMA and statsmodels.tsa.arima_model.ARIMA have\nbeen removed in favor of statsmodels.tsa.arima.model.ARIMA (note the .\nbetween arima and model) and statsmodels.tsa.SARIMAX.\n\nstatsmodels.tsa.arima.model.ARIMA makes use of the statespace framework and\nis both well tested and maintained. It also offers alternative specialized\nparameter estimators.\n"
          ]
        }
      ]
    },
    {
      "cell_type": "code",
      "metadata": {
        "id": "Q8VZQPkdvTfi"
      },
      "source": [
        "# Predecimos\n",
        "fc, se, conf = model_fit.forecast(15, alpha=0.05)\n",
        "# Creamos pandas series\n",
        "fc_series = pd.Series(fc, index=test.index)\n",
        "lower_series = pd.Series(conf[:, 0], index=test.index)\n",
        "upper_series = pd.Series(conf[:, 1], index=test.index)\n",
        "# Dibujamos\n",
        "plt.figure(figsize=(12,5), dpi=100)\n",
        "plt.plot(train, label='Training')\n",
        "plt.plot(test, label='Actual')\n",
        "plt.plot(fc_series, label='Forecast')\n",
        "plt.fill_between(lower_series.index, lower_series, upper_series,color='k', alpha=.15)\n",
        "plt.title('Forecast vs Actuals')\n",
        "plt.legend(loc='upper left', fontsize=8)\n",
        "plt.show() "
      ],
      "execution_count": null,
      "outputs": []
    },
    {
      "cell_type": "markdown",
      "metadata": {
        "id": "fZ6m4MBBvh1P"
      },
      "source": [
        "* AIC más bajo, todo significativo, y la predicción es mejor\n",
        "* En este caso hemos hecho la predicción al final, pero también se puede hacerla para otros periodos.\n",
        "* Lo mejor es testar y elegir el mejor modelo en base a diferentes predicciones"
      ]
    },
    {
      "cell_type": "markdown",
      "metadata": {
        "id": "Y1kY9HeMvr5d"
      },
      "source": [
        "#### Medidas para juzgar la bondad o exactitud de la predicción."
      ]
    },
    {
      "cell_type": "code",
      "metadata": {
        "id": "wUwr1YUYvapI"
      },
      "source": [
        "def forecast_accuracy(forecast, actual):\n",
        "    rmse = np.sqrt(np.mean((forecast-actual)**2))\n",
        "    mape = np.mean(np.abs(forecast - actual)/np.abs(actual))  # MAPE\n",
        "    corr = np.corrcoef(forecast, actual)[0,1]   # corr\n",
        "    return({'rmse':rmse,'mape':mape,'corr':corr})"
      ],
      "execution_count": 6,
      "outputs": []
    },
    {
      "cell_type": "code",
      "metadata": {
        "id": "ZhIEQ5pJv45Q"
      },
      "source": [
        "forecast_accuracy(fc, test)\n"
      ],
      "execution_count": null,
      "outputs": []
    },
    {
      "cell_type": "markdown",
      "metadata": {
        "id": "y78h-8Prv7zZ"
      },
      "source": [
        "Un MAPE de 2.2% indica que el modelo tiene una exactitud del 97.8% prediciendo las 15 observaciones siguientes."
      ]
    },
    {
      "cell_type": "markdown",
      "metadata": {
        "id": "IZd1j7zZv_Jd"
      },
      "source": [
        "#### Construir el modelo óptimo automáticamente\n",
        "\n",
        "https://pypi.org/project/pmdarima/\n",
        "https://www.alkaline-ml.com/pmdarima/modules/generated/pmdarima.arima.auto_arima.html#pmdarima.arima.auto_arima\n",
        "Escribir en la consola o editor \"pip install pmdarima --user, si no funciona, hacerlo en cmd \"pip install pmdarima --user\"\n",
        "pip install pmdarima --user"
      ]
    },
    {
      "cell_type": "code",
      "metadata": {
        "id": "2RuxynWUNR49"
      },
      "source": [
        "import pmdarima as pm\n",
        "\n",
        "model = pm.auto_arima(train, start_p=0, start_q=0,\n",
        "                      test='adf',       # use adftest to find optimal 'd'\n",
        "                      max_p=3, max_q=3, # maximum p and q\n",
        "                      m=1,              # frequency of series\n",
        "                      d=None,           # let model determine 'd'\n",
        "                      seasonal=False,   # No Seasonality\n",
        "                      start_P=0, \n",
        "                      D=0, \n",
        "                      trace=True,\n",
        "                      error_action='ignore',  \n",
        "                      suppress_warnings=True, \n",
        "                      stepwise=True)\n",
        "print(model.summary())"
      ],
      "execution_count": null,
      "outputs": []
    },
    {
      "cell_type": "code",
      "metadata": {
        "id": "AKeDpz31Ns4k"
      },
      "source": [
        "# Ahora interpretamos los residuos\n",
        "model.plot_diagnostics(figsize=(7,5))\n",
        "plt.subplots_adjust(hspace=0.5)\n",
        "plt.show()"
      ],
      "execution_count": null,
      "outputs": []
    },
    {
      "cell_type": "code",
      "metadata": {
        "id": "eoscLJ8PNs8i"
      },
      "source": [
        "# Predecimos de nuevo usando este modelo\n",
        "fc, confint = model.predict(n_periods=15, return_conf_int=True)\n",
        "index_of_fc = df.index[-15:] # Esto ha cambiado !!\n",
        "fc_series = pd.Series(fc, index=index_of_fc)\n",
        "lower_series = pd.Series(confint[:, 0], index=index_of_fc)\n",
        "upper_series = pd.Series(confint[:, 1], index=index_of_fc)"
      ],
      "execution_count": 9,
      "outputs": []
    },
    {
      "cell_type": "code",
      "metadata": {
        "id": "D1VX7yPmNtBJ"
      },
      "source": [
        "# Gráfico\n",
        "fig,ax=plt.subplots()\n",
        "ax.plot(df.ventas) # Esto es nuevo.\n",
        "ax.plot(fc_series, color='darkgreen')\n",
        "ax.fill_between(lower_series.index, lower_series, upper_series, color='k', alpha=.15)\n",
        "ax.set_title(\"Predicción Final Ventas\")\n",
        "plt.show()"
      ],
      "execution_count": null,
      "outputs": []
    },
    {
      "cell_type": "code",
      "metadata": {
        "id": "6I3KjqDlOCvr",
        "outputId": "04bfca9c-e160-4c44-ea08-b1e2e4bf0df0",
        "colab": {
          "base_uri": "https://localhost:8080/"
        }
      },
      "source": [
        "# Juzgamos la bondad de la predicción\n",
        "forecast_accuracy(fc, test)"
      ],
      "execution_count": 12,
      "outputs": [
        {
          "output_type": "execute_result",
          "data": {
            "text/plain": [
              "{'corr': 0.9563128635214019,\n",
              " 'mape': 0.05253766474158482,\n",
              " 'rmse': 15903.87793380386}"
            ]
          },
          "metadata": {},
          "execution_count": 12
        }
      ]
    },
    {
      "cell_type": "markdown",
      "metadata": {
        "id": "ddI5b-YruBHp"
      },
      "source": [
        "### 2. Predecir \"el futuro\""
      ]
    },
    {
      "cell_type": "code",
      "metadata": {
        "id": "AIJhJHgVv4a8"
      },
      "source": [
        ""
      ],
      "execution_count": null,
      "outputs": []
    },
    {
      "cell_type": "code",
      "metadata": {
        "id": "EYeA0oVVuIfb"
      },
      "source": [
        ""
      ],
      "execution_count": null,
      "outputs": []
    }
  ]
}