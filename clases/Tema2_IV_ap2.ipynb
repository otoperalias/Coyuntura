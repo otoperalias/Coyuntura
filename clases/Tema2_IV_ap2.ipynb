{
  "nbformat": 4,
  "nbformat_minor": 0,
  "metadata": {
    "colab": {
      "provenance": [],
      "authorship_tag": "ABX9TyM+RyYl26hjkq/A1PWCRlgL",
      "include_colab_link": true
    },
    "kernelspec": {
      "name": "python3",
      "display_name": "Python 3"
    },
    "language_info": {
      "name": "python"
    }
  },
  "cells": [
    {
      "cell_type": "markdown",
      "metadata": {
        "id": "view-in-github",
        "colab_type": "text"
      },
      "source": [
        "<a href=\"https://colab.research.google.com/github/otoperalias/Coyuntura/blob/main/clases/Tema2_IV_ap2.ipynb\" target=\"_parent\"><img src=\"https://colab.research.google.com/assets/colab-badge.svg\" alt=\"Open In Colab\"/></a>"
      ]
    },
    {
      "cell_type": "markdown",
      "source": [
        "## Tema 2 IV. Coyuntura en el mercado laboral.\n",
        "## Apéndice 2: Creación automática de etiquetas de periodos para tablas.\n",
        "A la hora de preparar tablas para informes es necesario crear etiquetas adecuadas para los periodos representados en las tablas. Es recomendable automatizar este proceso para que la generación de informes sea lo más mecánica posible. A continuación mostramos un ejemplo de ello."
      ],
      "metadata": {
        "id": "71Ov4BBbCAr3"
      }
    },
    {
      "cell_type": "code",
      "execution_count": 1,
      "metadata": {
        "id": "209VONS4B8-0"
      },
      "outputs": [],
      "source": [
        "# 1 Importamos las librerías\n",
        "import pandas as pd"
      ]
    },
    {
      "cell_type": "code",
      "source": [
        "# Importamos los datos de parados registrados usados en el notebook principal \"Tema 2 IV Coyuntura en el laboral\"\n",
        "parados=pd.read_csv(\"https://raw.githubusercontent.com/otoperalias/Coyuntura/main/clases/datos/parados_Sevilla.csv\", index_col=0,parse_dates=True)\n",
        "# Seleccionamos los últimos 6 periodos\n",
        "parados=parados.iloc[-6:]\n",
        "parados"
      ],
      "metadata": {
        "id": "PcsVQN9FCoTo"
      },
      "execution_count": null,
      "outputs": []
    },
    {
      "cell_type": "code",
      "source": [
        "# Creamos una función para crear automáticamente las etiquetas de periodos para las tablas\n",
        "\n",
        "def etiquetas_meses(periodos):\n",
        "  \"\"\"\n",
        "  Esta función toma como input una serie con valores de meses en formato datetime y devuelve una\n",
        "  lista con etiquetas para usar en tablas.\n",
        "  \"\"\"\n",
        "  meses={'01': 'Ene', '02': 'Feb', '03': 'Mar', '04': 'Abr', '05': 'May', '06': 'Jun', '07': 'Jul', '08': 'Ago', '09': 'Sep', '10': 'Oct', '11': 'Nov', '12': 'Dic'}\n",
        "  etiquetas=[]\n",
        "  for p in periodos.astype(str):\n",
        "    etiq=meses[p[5:7]]+\" \"+p[2:4]\n",
        "    etiquetas.append(etiq)\n",
        "  return etiquetas"
      ],
      "metadata": {
        "id": "sisFGRlEEEs9"
      },
      "execution_count": 40,
      "outputs": []
    },
    {
      "cell_type": "code",
      "source": [
        "# Ahora probamos que funcione la función\n",
        "etiquetas_meses(parados.index)"
      ],
      "metadata": {
        "colab": {
          "base_uri": "https://localhost:8080/"
        },
        "id": "hLvIyIpAG7Jx",
        "outputId": "01b02007-5b4d-43ce-ffc5-4d4d9bef915d"
      },
      "execution_count": 41,
      "outputs": [
        {
          "output_type": "execute_result",
          "data": {
            "text/plain": [
              "['Abr 23', 'May 23', 'Jun 23', 'Jul 23', 'Ago 23', 'Sep 23']"
            ]
          },
          "metadata": {},
          "execution_count": 41
        }
      ]
    }
  ]
}