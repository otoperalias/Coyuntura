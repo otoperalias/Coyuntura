{
  "nbformat": 4,
  "nbformat_minor": 0,
  "metadata": {
    "colab": {
      "name": "Untitled5.ipynb",
      "provenance": [],
      "authorship_tag": "ABX9TyMqVFWLol/R2Tt3uWUHI6bH",
      "include_colab_link": true
    },
    "kernelspec": {
      "name": "python3",
      "display_name": "Python 3"
    },
    "language_info": {
      "name": "python"
    }
  },
  "cells": [
    {
      "cell_type": "markdown",
      "metadata": {
        "id": "view-in-github",
        "colab_type": "text"
      },
      "source": [
        "<a href=\"https://colab.research.google.com/github/otoperalias/Coyuntura/blob/main/clases/Tema3_Tarea3.ipynb\" target=\"_parent\"><img src=\"https://colab.research.google.com/assets/colab-badge.svg\" alt=\"Open In Colab\"/></a>"
      ]
    },
    {
      "cell_type": "markdown",
      "source": [
        "## Tema 3 - Tarea 3"
      ],
      "metadata": {
        "id": "uVJKY5-s7ZvO"
      }
    },
    {
      "cell_type": "code",
      "source": [
        "# Importamos funciones y establecemos configuración general\n",
        "import numpy as np\n",
        "import pandas as pd\n",
        "import matplotlib.pyplot as plt\n",
        "import statsmodels.api as sm\n",
        "from statsmodels.graphics.tsaplots import plot_acf, plot_pacf\n",
        "from statsmodels.tsa.stattools import adfuller\n",
        "plt.style.use('seaborn')\n",
        "plt.rcParams[\"figure.figsize\"] = [10,4]  # Default figure size"
      ],
      "metadata": {
        "id": "QEN0HHkY7f4Q"
      },
      "execution_count": null,
      "outputs": []
    },
    {
      "cell_type": "code",
      "source": [
        "# Definimos funciones a usar en este código:\n",
        "def forecast_accuracy(forecast, actual):\n",
        "    rmse = np.sqrt(np.mean((forecast-actual)**2))\n",
        "    mape = np.mean(np.abs(forecast - actual)/np.abs(actual))  # MAPE\n",
        "    corr = np.corrcoef(forecast, actual)[0,1]   # corr\n",
        "    print({'rmse':rmse,'mape':mape,'corr':corr})\n",
        "\n",
        "def DFtest(datos):\n",
        "    print('Results of Dickey-Fuller Test (H0= NO estac.):')\n",
        "    dftest = adfuller(datos, autolag='AIC')\n",
        "    print('Test Statistic', dftest[0])\n",
        "    print('p-value', dftest[1])\n",
        "    print('#Lags Used', dftest[2])\n",
        "    print('# obs', dftest[3])      \n",
        "    for k, v in dftest[4].items():\n",
        "        print(k,v)"
      ],
      "metadata": {
        "id": "1fnLaAjf7t0T"
      },
      "execution_count": null,
      "outputs": []
    },
    {
      "cell_type": "code",
      "source": [
        "# Importamos datos\n",
        "f=\"https://raw.githubusercontent.com/otoperalias/Coyuntura/main/clases/datos/Tema3_Tarea3.xlsx\"\n",
        "pib = pd.read_excel(f,\"pib\",index_col=0, parse_dates=True) # Preparar columna excel XXXXQX"
      ],
      "metadata": {
        "id": "F7VQvqll7xba"
      },
      "execution_count": null,
      "outputs": []
    },
    {
      "cell_type": "code",
      "source": [
        "#Training y test dataset\n",
        "train=pib[:85]\n",
        "test=pib[85:]"
      ],
      "metadata": {
        "id": "xXwd32B29Kd6"
      },
      "execution_count": null,
      "outputs": []
    },
    {
      "cell_type": "markdown",
      "source": [
        "### Modelo SARIMA"
      ],
      "metadata": {
        "id": "LIQb-BqM9hMn"
      }
    },
    {
      "cell_type": "code",
      "source": [
        "# GRÁFICO\n",
        "fig, axes = plt.subplots(2, 1, figsize=(10,5), dpi=100, sharex=True)\n",
        "# Diferenciación normal\n",
        "axes[0].plot(train, label='Serie original') # con to_timestamp()\n",
        "axes[0].plot(train.diff(1), label='Diferenciación normal')\n",
        "axes[0].set_title('Diferenciación normal')\n",
        "axes[0].legend(loc='upper left', fontsize=10)\n",
        "# Diferenciación estacional\n",
        "axes[1].plot(train, label='Serie original')\n",
        "axes[1].plot(train.diff(4), label='Diferenciación estacional', color='green')\n",
        "axes[1].set_title('Diferenciación estacional')\n",
        "plt.legend(loc='upper left', fontsize=10)\n",
        "plt.suptitle('PIB TRIMESTRAL', fontsize=16)\n",
        "plt.show()"
      ],
      "metadata": {
        "id": "b4I_53FS9jTI"
      },
      "execution_count": null,
      "outputs": []
    },
    {
      "cell_type": "code",
      "source": [
        "# Dibujamos correlogramas y usamos el test DF\n",
        "fig, ax = plt.subplots(2, figsize=(12,6))\n",
        "ax[0] = plot_acf(train.diff(4).dropna(), ax=ax[0], lags=28)\n",
        "ax[1] = plot_pacf(train.diff(4).dropna(), ax=ax[1], lags=28)\n",
        "plt.show()\n",
        "DFtest(train.pibv.diff(4).dropna())"
      ],
      "metadata": {
        "id": "BMYMiKOz9k_5"
      },
      "execution_count": null,
      "outputs": []
    },
    {
      "cell_type": "markdown",
      "source": [
        "* La serie es no estacionaria por lo que hay que tomar primeras diferencias. El autocorrelograma muestra claramente que la autocorrelación de los retardos cae lentamente y el p-value de test de raíz unitaria es 0.10."
      ],
      "metadata": {
        "id": "xX3N6SZo-SEJ"
      }
    },
    {
      "cell_type": "code",
      "source": [
        "# Representamos correlogramas de serie diferenciada de nuevo:\n",
        "fig, ax = plt.subplots(2, figsize=(12,6))\n",
        "ax[0] = plot_acf(train.diff(4).diff().dropna(), ax=ax[0], lags=28)\n",
        "ax[1] = plot_pacf(train.diff(4).diff().dropna(), ax=ax[1], lags=28)\n",
        "plt.show()\n",
        "DFtest(train.pibv.diff(4).diff().dropna())"
      ],
      "metadata": {
        "id": "gfvvSods-Ft7"
      },
      "execution_count": null,
      "outputs": []
    },
    {
      "cell_type": "markdown",
      "source": [
        "* Ahora sí es estacionaria.\n",
        "* Modelo SARIMA = (1,1,1)(0,1,0,4)."
      ],
      "metadata": {
        "id": "_MqQm-Jb_MGN"
      }
    },
    {
      "cell_type": "code",
      "source": [
        "# SARIMA(1,1,1)(0,1,0,4)\n",
        "mod = sm.tsa.statespace.SARIMAX(train,order=(1,1,1),seasonal_order=(0,1,0,4), trend=\"c\",\n",
        "                                enforce_stationarity=False, enforce_invertibility=False)\n",
        "results= mod.fit()\n",
        "print(results.summary())"
      ],
      "metadata": {
        "id": "v7GIuBe8_Qm6"
      },
      "execution_count": null,
      "outputs": []
    },
    {
      "cell_type": "code",
      "source": [
        "# Errores diagnóstico\n",
        "results.plot_diagnostics();plt.show()"
      ],
      "metadata": {
        "id": "zkDi86ub_unL"
      },
      "execution_count": null,
      "outputs": []
    },
    {
      "cell_type": "code",
      "source": [
        "# Cómo de preciso es el modelo para predecir??\n",
        "pred = results.get_prediction('2016-04-01','2019-04-01', dynamic=False)\n",
        "forecast_accuracy(pred.predicted_mean, test.pibv) # La función autoarima (pmdarima) no parece mejorar ni el AIC ni la exactitud de la predicción (resultados no mostrados)"
      ],
      "metadata": {
        "id": "Bvikrsqe_ygK"
      },
      "execution_count": null,
      "outputs": []
    },
    {
      "cell_type": "code",
      "source": [
        "# Dibujamos la predicción:\n",
        "pred_ci = pred.conf_int()\n",
        "index_of_fc = pd.date_range(start='2016-04-01',end='2019-04-01', freq='QS-OCT')\n",
        "# Creando las series para su representación gráfica\n",
        "fitted_series = pd.Series(pred.predicted_mean, index=index_of_fc)\n",
        "lower_series = pd.Series(pred_ci[\"lower pibv\"], index=index_of_fc)\n",
        "upper_series = pd.Series(pred_ci[\"upper pibv\"], index=index_of_fc)\n",
        "# Gráfico - \n",
        "plt.figure(figsize=(12,8))\n",
        "plt.plot(train[\"2011-01-01\":], label=\"Training period\", color=\"b\") \n",
        "plt.plot(test, label=\"Actual values\", color=\"k\")\n",
        "plt.plot(fitted_series, label=\"Predicted\", color='r')\n",
        "plt.fill_between(lower_series.index, \n",
        "                 lower_series, \n",
        "                 upper_series, \n",
        "                 color='k', alpha=.15)\n",
        "plt.legend()\n",
        "plt.title(\"SARIMA - Predicción de ventas de medicamentos\")\n",
        "plt.show()"
      ],
      "metadata": {
        "id": "_UMUfniR_48Z"
      },
      "execution_count": null,
      "outputs": []
    },
    {
      "cell_type": "code",
      "source": [
        "# Y también predecimos hacia el futuro 4 periodos\n",
        "results = sm.tsa.statespace.SARIMAX(pib,order=(1,1,1),seasonal_order=(0,1,0,4), trend=\"c\",\n",
        "                                enforce_stationarity=False, enforce_invertibility=False).fit()\n",
        "pred = results.get_prediction('2019-07-01','2020-04-01', dynamic=False)"
      ],
      "metadata": {
        "id": "Gmlslmf9AROc"
      },
      "execution_count": null,
      "outputs": []
    },
    {
      "cell_type": "code",
      "source": [
        "# Dibujamos la predicción:\n",
        "pred_ci = pred.conf_int()\n",
        "index_of_fc = pd.date_range(start='2019-07-01',end='2020-04-01', freq='QS-OCT')\n",
        "# Creando las series para su representación gráfica\n",
        "fitted_series1 = pd.Series(pred.predicted_mean, index=index_of_fc)\n",
        "lower_series = pd.Series(pred_ci[\"lower pibv\"], index=index_of_fc)\n",
        "upper_series = pd.Series(pred_ci[\"upper pibv\"], index=index_of_fc)\n",
        "# Gráfico - \n",
        "plt.figure(figsize=(12,8))\n",
        "plt.plot(pib[\"2011-01-01\":],color=\"b\") \n",
        "plt.plot(fitted_series1, label=\"Predicted\", color='r')\n",
        "plt.fill_between(lower_series.index, \n",
        "                 lower_series, \n",
        "                 upper_series, \n",
        "                 color='k', alpha=.15)\n",
        "plt.legend()\n",
        "plt.title(\"SARIMA - Predicción de ventas de medicamentos\")\n",
        "plt.show()"
      ],
      "metadata": {
        "id": "xC9WyXgaAR7F"
      },
      "execution_count": null,
      "outputs": []
    },
    {
      "cell_type": "markdown",
      "source": [
        "### Modelo SARIMAX"
      ],
      "metadata": {
        "id": "v0195uphAje_"
      }
    },
    {
      "cell_type": "code",
      "source": [
        "# Creamos la tabla con los indicadores\n",
        "otros = pd.read_excel(f,\"otros\",index_col=5, parse_dates=True) # Preparar columna excel XXXX-XX \n",
        "otros.index=otros.index.to_period(\"M\") # Indicar que son datos mensuales explícitamente (hace falta luego para el resample, o sea, pasarlos a trimestral)\n",
        "otros.drop(\"periodo\", axis=1, inplace=True)"
      ],
      "metadata": {
        "id": "xXoS2ytMAhRb"
      },
      "execution_count": null,
      "outputs": []
    },
    {
      "cell_type": "code",
      "source": [
        "#Resample (pasar los datos de mensuales a trimestrales)\n",
        "otrosq=otros.resample(\"Q\", label=\"right\").sum() # se agrega por trimestres sumando los meses\n",
        "otrosq.indvent=otrosq.indvent/3 # Para este indicator tiene sentido tomar la media, por eso se divide entre tres.\n",
        "otrosq.isa=otrosq.isa/3 # Para este indicator tiene sentido tomar la media, por eso se divide entre tres.\n",
        "otrosq.index=otrosq.index.to_timestamp() # Para que esté en igual formato temporal que la dataframe pib"
      ],
      "metadata": {
        "id": "7zoxl-6ECWF1"
      },
      "execution_count": null,
      "outputs": []
    },
    {
      "cell_type": "code",
      "source": [
        "# Correlaciones- para ver qué variable usar como exógena\n",
        "# Las correlaciones se calculan usando las tasas de variación (como se indica en el enunciado)\n",
        "vpib=pib.pibv/pib.pibv.shift(4)-1\n",
        "for c in otrosq.columns:\n",
        "    #print(c,\": corr in levels: \",np.corrcoef(pib.pibv, otrosq[c][:98])[0,1]) \n",
        "    otrosq[\"v\"+c]=otrosq[c]/otrosq[c].shift(4)-1\n",
        "    print(c,\":corr var interanual: \",np.corrcoef(vpib.dropna(), otrosq[\"v\"+c][:-1].dropna())[0,1])     \n",
        "plt.scatter(vpib,otrosq.visa[:-1])\n",
        "# Vemos que el indicador más correlacionado es ISA\n",
        "isa=otrosq[\"isa\"].copy()"
      ],
      "metadata": {
        "id": "4YMGWAQXC_dB"
      },
      "execution_count": null,
      "outputs": []
    },
    {
      "cell_type": "code",
      "source": [
        "# Vemos que el indicador más correlacionado es ISA\n",
        "isa=otrosq[\"isa\"].copy()"
      ],
      "metadata": {
        "id": "5m9aQjw-EiKl"
      },
      "execution_count": null,
      "outputs": []
    },
    {
      "cell_type": "code",
      "source": [
        "# CONSTRUIMOS MODELO SARIMAX\n",
        "exog_in=isa[:85]\n",
        "mod = sm.tsa.statespace.SARIMAX(train,exog=exog_in, order=(1,1,1),seasonal_order=(0,1,0,4), trend=\"c\",\n",
        "                                enforce_stationarity=False, enforce_invertibility=False)\n",
        "results= mod.fit()\n",
        "print(results.summary())"
      ],
      "metadata": {
        "id": "9hWYopyCEi3W"
      },
      "execution_count": null,
      "outputs": []
    },
    {
      "cell_type": "code",
      "source": [
        "# Errores diagnóstico\n",
        "results.plot_diagnostics();plt.show()"
      ],
      "metadata": {
        "id": "Cl6q4eLqEllu"
      },
      "execution_count": null,
      "outputs": []
    },
    {
      "cell_type": "code",
      "source": [
        "# Cómo de preciso es el modelo para predecir??\n",
        "exog_out=isa['2016-04-01':'2019-04-01'].to_frame() # convierto a dataframe porque si no no funciona el comando siguiente\n",
        "pred = results.get_prediction('2016-04-01','2019-04-01', exog=exog_out, dynamic=False)\n",
        "forecast_accuracy(pred.predicted_mean, test.pibv)"
      ],
      "metadata": {
        "id": "2Bj7npBjEsR2"
      },
      "execution_count": null,
      "outputs": []
    },
    {
      "cell_type": "code",
      "source": [
        "# Dibujamos la predicción:\n",
        "pred_ci = pred.conf_int()\n",
        "index_of_fc = pd.date_range(start='2016-04-01',end='2019-04-01', freq='QS-OCT')\n",
        "# Creando las series para su representación gráfica\n",
        "fitted_series = pd.Series(pred.predicted_mean, index=index_of_fc)\n",
        "lower_series = pd.Series(pred_ci[\"lower pibv\"], index=index_of_fc)\n",
        "upper_series = pd.Series(pred_ci[\"upper pibv\"], index=index_of_fc)\n",
        "# Gráfico - \n",
        "plt.figure(figsize=(12,8))\n",
        "plt.plot(train[\"2011-01-01\":], label=\"Training period\", color=\"b\") \n",
        "plt.plot(test, label=\"Actual values\", color=\"k\")\n",
        "plt.plot(fitted_series, label=\"Predicted\", color='r')\n",
        "plt.fill_between(lower_series.index, \n",
        "                 lower_series, \n",
        "                 upper_series, \n",
        "                 color='k', alpha=.15)\n",
        "plt.legend()\n",
        "plt.title(\"SARIMA - Predicción de ventas de medicamentos\")\n",
        "plt.show()"
      ],
      "metadata": {
        "id": "VzI4Y26xEvO4"
      },
      "execution_count": null,
      "outputs": []
    },
    {
      "cell_type": "code",
      "source": [
        "# Y también predecimos hacia el futuro 1 periodo\n",
        "results = sm.tsa.statespace.SARIMAX(pib,exog=isa[:-1], order=(1,1,1),seasonal_order=(0,1,0,4), trend=\"c\",\n",
        "                                enforce_stationarity=False, enforce_invertibility=False).fit()\n",
        "pred = results.get_prediction('2019-07-01','2019-07-01', exog=isa[-1:].to_frame(), dynamic=False)"
      ],
      "metadata": {
        "id": "mCEPZ30SE3Ef"
      },
      "execution_count": null,
      "outputs": []
    },
    {
      "cell_type": "code",
      "source": [
        "# Dibujamos la predicción:\n",
        "pred_ci = pred.conf_int()\n",
        "index_of_fc = pd.date_range(start='2019-07-01',end='2019-07-01', freq='QS-OCT')\n",
        "# Creando las series para su representación gráfica\n",
        "fitted_series2 = pd.Series(pred.predicted_mean, index=index_of_fc)\n",
        "lower_series = pd.Series(pred_ci[\"lower pibv\"], index=index_of_fc)\n",
        "upper_series = pd.Series(pred_ci[\"upper pibv\"], index=index_of_fc)\n",
        "# Gráfico - \n",
        "plt.figure(figsize=(12,8))\n",
        "plt.plot(pib[\"2011-01-01\":],color=\"b\") \n",
        "plt.plot(index_of_fc[-1:],fitted_series2.iloc[0],marker='o') # Punto estimado\n",
        "plt.plot(index_of_fc[-1:],lower_series.iloc[0], marker='.') # IC inferior\n",
        "plt.plot(index_of_fc[-1:],upper_series.iloc[0], marker='.') # IC superior\n",
        "plt.title(\"SARIMA - Predicción de ventas de medicamentos\")\n",
        "plt.show()"
      ],
      "metadata": {
        "id": "BrBVsJknE8x7"
      },
      "execution_count": null,
      "outputs": []
    },
    {
      "cell_type": "markdown",
      "source": [
        "### ¿Qué estimación del PIB es más acertada?"
      ],
      "metadata": {
        "id": "FnhRoswBFKF3"
      }
    },
    {
      "cell_type": "code",
      "source": [
        "#Valores de PIB:\n",
        "sarima3q19=fitted_series1[-4:-3][0]\n",
        "sarimax3q19=fitted_series2[-1:][0]\n",
        "pib_real3q19=110.1652\n",
        "pib_real3q18=pib.pibv[-4:-3][0]"
      ],
      "metadata": {
        "id": "7mtafpC2FAZs"
      },
      "execution_count": null,
      "outputs": []
    },
    {
      "cell_type": "code",
      "source": [
        "print(\"Estim. SARIMA=\",sarima3q19)\n",
        "print(\"Estim. SARIMAX=\",sarimax3q19)\n",
        "print(\"Pib real 2019q3=\",pib_real3q19)\n",
        "print(\"Var interanual SARIMA=\",np.round(sarima3q19/pib_real3q18-1, decimals=4))\n",
        "print(\"Var interanual SARIMAX=\",np.round(sarimax3q19/pib_real3q18-1, decimals=4))\n",
        "print(\"Var interanual real=\",np.round(pib_real3q19/pib_real3q18-1, decimals=4))"
      ],
      "metadata": {
        "id": "aaG0e8xvFUwU"
      },
      "execution_count": null,
      "outputs": []
    }
  ]
}