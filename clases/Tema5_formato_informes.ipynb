{
  "nbformat": 4,
  "nbformat_minor": 0,
  "metadata": {
    "colab": {
      "provenance": [],
      "toc_visible": true,
      "authorship_tag": "ABX9TyN1CCSpi2x7gy4hBVimMIej",
      "include_colab_link": true
    },
    "kernelspec": {
      "name": "python3",
      "display_name": "Python 3"
    },
    "language_info": {
      "name": "python"
    }
  },
  "cells": [
    {
      "cell_type": "markdown",
      "metadata": {
        "id": "view-in-github",
        "colab_type": "text"
      },
      "source": [
        "<a href=\"https://colab.research.google.com/github/otoperalias/Coyuntura/blob/main/clases/Tema5_formato_informes.ipynb\" target=\"_parent\"><img src=\"https://colab.research.google.com/assets/colab-badge.svg\" alt=\"Open In Colab\"/></a>"
      ]
    },
    {
      "cell_type": "markdown",
      "source": [
        "# Mejorando el formato de nuestros informes"
      ],
      "metadata": {
        "id": "8Kp3XBUQWLwk"
      }
    },
    {
      "cell_type": "markdown",
      "source": [
        "Este notebook proporciona instrucciones adicionales para construir informes de calidad profesional. Vamos a ver lo siguiente:\n",
        "1. Dividir una figura en múltiples ```axes``` usando la función ```subplot2grid()```.\n",
        "2. Insertar nuevos ```axes``` en una figura.\n",
        "3. Insertar imágenes en las figuras.\n",
        "4. Generar informes en PDF y en HTML."
      ],
      "metadata": {
        "id": "uVC0Sv-2WSoI"
      }
    },
    {
      "cell_type": "markdown",
      "source": [
        "### 1. Dividir una figura en múltiples ```axes``` usando la función ```subplot2grid()```."
      ],
      "metadata": {
        "id": "5H_Usjc1XkX4"
      }
    },
    {
      "cell_type": "markdown",
      "source": [
        "Supongamos que queremos crear una figura tamaño A4 con el siguiente formato:\n",
        "\n",
        "<img src=\"https://github.com/otoperalias/Coyuntura/blob/main/clases/images/Ej1_subplot2grid.png?raw=true\" alt=\"drawing\" width=\"250\"/>\n",
        "\n",
        "Para ello, empleamos el siguiente código:"
      ],
      "metadata": {
        "id": "DC71pEsFake5"
      }
    },
    {
      "cell_type": "code",
      "source": [],
      "metadata": {
        "id": "H_4vu5rfXjhx"
      },
      "execution_count": null,
      "outputs": []
    },
    {
      "cell_type": "code",
      "source": [],
      "metadata": {
        "id": "P6AylxVqWQBt"
      },
      "execution_count": null,
      "outputs": []
    }
  ]
}