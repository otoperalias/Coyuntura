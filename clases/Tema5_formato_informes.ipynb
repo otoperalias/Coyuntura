{
  "nbformat": 4,
  "nbformat_minor": 0,
  "metadata": {
    "colab": {
      "provenance": [],
      "authorship_tag": "ABX9TyPOi5whpdkpw3UBZhHya4n3",
      "include_colab_link": true
    },
    "kernelspec": {
      "name": "python3",
      "display_name": "Python 3"
    },
    "language_info": {
      "name": "python"
    }
  },
  "cells": [
    {
      "cell_type": "markdown",
      "metadata": {
        "id": "view-in-github",
        "colab_type": "text"
      },
      "source": [
        "<a href=\"https://colab.research.google.com/github/otoperalias/Coyuntura/blob/main/clases/Tema5_formato_informes.ipynb\" target=\"_parent\"><img src=\"https://colab.research.google.com/assets/colab-badge.svg\" alt=\"Open In Colab\"/></a>"
      ]
    },
    {
      "cell_type": "markdown",
      "source": [
        "# Mejorando el formato de nuestros informes"
      ],
      "metadata": {
        "id": "8Kp3XBUQWLwk"
      }
    },
    {
      "cell_type": "markdown",
      "source": [
        "Este notebook proporciona instrucciones adicionales para construir informes de calidad profesional. Vamos a ver lo siguiente:\n",
        "1. Dividir una figura en múltiples ```axes``` usando la función ```subplot2grid()```.\n",
        "2. Insertar nuevos ```axes``` en una figura.\n",
        "3. Insertar imágenes en las figuras.\n",
        "4. Generar informes en PDF y en HTML."
      ],
      "metadata": {
        "id": "uVC0Sv-2WSoI"
      }
    },
    {
      "cell_type": "markdown",
      "source": [
        "### 1. Dividir una figura en múltiples ```axes``` usando la función ```subplot2grid()```."
      ],
      "metadata": {
        "id": "5H_Usjc1XkX4"
      }
    },
    {
      "cell_type": "markdown",
      "source": [
        "Supongamos que queremos crear una figura tamaño A4 con el siguiente formato:\n",
        "\n",
        "<img src=\"https://github.com/otoperalias/Coyuntura/blob/main/clases/images/Ej1_subplot2grid.png?raw=true\" alt=\"drawing\" width=\"250\"/>\n",
        "\n",
        "Para ello, empleamos el siguiente código:"
      ],
      "metadata": {
        "id": "DC71pEsFake5"
      }
    },
    {
      "cell_type": "code",
      "source": [
        "import matplotlib.pyplot as plt\n",
        "\n",
        "gridsize=(100,100) # Así se divide la figura en 100 filas x 100 columnas.\n",
        "fig_size=(8.27,11.69) # Una hoja A4 tiene ese tamaño, en pulgadas.\n",
        "\n",
        "fig,ax=plt.subplots(figsize=fig_size,dpi=100)\n",
        "  # Axes1 empieza en la coordenada (0,0), ocupa todo el ancho (100 columnas) y la mitad del alto (50 col.)\n",
        "ax1=plt.subplot2grid(gridsize,(0,0),colspan=100,rowspan=50)\n",
        "  # Axes2 empieza en la coordenada (50,0) [fila=50, columna=0], ocupa todo 1/2 ancho (50 columnas) y la mitad del alto (50 col.)\n",
        "ax2=plt.subplot2grid(gridsize,(50,0),colspan=50,rowspan=50)\n",
        "  # Axes3 empieza en la coordenada (50,50) [fila=50, columna=50], ocupa todo 1/2 ancho (50 columnas) y la mitad del alto (50 col.)\n",
        "ax3=plt.subplot2grid(gridsize,(50,50),colspan=50,rowspan=50) # Axes3 ...\n",
        "ax1.set_title(\"Axes 1\")\n",
        "ax2.set_title(\"Axes 2\")\n",
        "ax3.set_title(\"Axes 3\")\n",
        "plt.show()"
      ],
      "metadata": {
        "id": "H_4vu5rfXjhx"
      },
      "execution_count": null,
      "outputs": []
    },
    {
      "cell_type": "markdown",
      "source": [
        "Para que no se solapen los gráficos con los títulos podemos retocar ligeramente las coordenadas de origen de cada ```axes``` y las filas/columnas que ocupan."
      ],
      "metadata": {
        "id": "Wg2ogUzhymdP"
      }
    },
    {
      "cell_type": "code",
      "source": [
        "gridsize=(100,100) # Así se divide la figura en 100 filas x 100 columnas.\n",
        "fig_size=(8.27,11.69) # Una hoja A4 tiene ese tamaño, en pulgadas.\n",
        "\n",
        "fig,ax=plt.subplots(figsize=fig_size,dpi=100)\n",
        "ax1=plt.subplot2grid(gridsize,(0,0),colspan=100,rowspan=50)\n",
        "ax2=plt.subplot2grid(gridsize,(60,0),colspan=50,rowspan=40)\n",
        "ax3=plt.subplot2grid(gridsize,(60,50),colspan=50,rowspan=40)\n",
        "ax1.set_title(\"Axes 1\")\n",
        "ax2.set_title(\"Axes 2\")\n",
        "ax3.set_title(\"Axes 3\")\n",
        "plt.show()"
      ],
      "metadata": {
        "id": "P6AylxVqWQBt"
      },
      "execution_count": null,
      "outputs": []
    },
    {
      "cell_type": "markdown",
      "source": [
        "Supongamos ahora que queremos crear un formato de página así:\n",
        "\n",
        "<img src=\"https://github.com/otoperalias/Coyuntura/blob/main/clases/images/Ej2_subplot2grid.png?raw=true\" alt=\"drawing\" width=\"250\"/>\n",
        "\n",
        "Para ello, empleamos el siguiente código (dejando margen para los títulos):"
      ],
      "metadata": {
        "id": "vdHX8z6OzmZm"
      }
    },
    {
      "cell_type": "code",
      "source": [
        "gridsize=(100,100) # Así se divide la figura en 100 filas x 100 columnas.\n",
        "fig_size=(8.27,11.69) # Una hoja A4 tiene ese tamaño, en pulgadas.\n",
        "\n",
        "fig,ax=plt.subplots(figsize=fig_size,dpi=100)\n",
        "ax1=plt.subplot2grid(gridsize,(0,0),colspan=100,rowspan=10) # Esto está pensado para poner el título del informe\n",
        "ax2=plt.subplot2grid(gridsize,(15,0),colspan=50,rowspan=40)\n",
        "ax3=plt.subplot2grid(gridsize,(15,50),colspan=50,rowspan=40)\n",
        "ax4=plt.subplot2grid(gridsize,(60,0),colspan=33,rowspan=40)\n",
        "ax5=plt.subplot2grid(gridsize,(60,33),colspan=34,rowspan=40)\n",
        "ax6=plt.subplot2grid(gridsize,(60,67),colspan=33,rowspan=40)\n",
        "ax1.text(0.1,0.5, \"EL AXES 1 ESTÁ PENSADO PARA EL TÍTULO\", size=17)\n",
        "ax2.set_title(\"Axes 2\")\n",
        "ax3.set_title(\"Axes 3\")\n",
        "ax4.set_title(\"Axes 4\")\n",
        "ax5.set_title(\"Axes 5\")\n",
        "ax6.set_title(\"Axes 6\")\n",
        "plt.show()"
      ],
      "metadata": {
        "id": "A1rHTNIGzNOW"
      },
      "execution_count": null,
      "outputs": []
    },
    {
      "cell_type": "markdown",
      "source": [
        "### 2. Insertar nuevos ```axes``` en una figura."
      ],
      "metadata": {
        "id": "xbkEbJEm1TmF"
      }
    },
    {
      "cell_type": "markdown",
      "source": [
        "A veces puede ser conveniente insertar un nuevo ```axes``` en una figura, solapándose parcialmente sobre otro"
      ],
      "metadata": {
        "id": "0gu5XDKD5Ctm"
      }
    },
    {
      "cell_type": "code",
      "source": [
        "fig, ax=plt.subplots()\n",
        "# Añadimos un nuevo axes en la esquina superior derecha\n",
        "ax2 =fig.add_axes([0.6,.6,.25,.25])  # ([xmin,ymin,dx,dy]), donde dx y dy indican la anchura y altura como % de la figura, en tantos por 1.\n",
        "plt.show()"
      ],
      "metadata": {
        "id": "AnlyGDNi1Uo8"
      },
      "execution_count": null,
      "outputs": []
    },
    {
      "cell_type": "markdown",
      "source": [
        "### 3. Insertar imágenes en una figura."
      ],
      "metadata": {
        "id": "3QQQ7tgO6Scu"
      }
    },
    {
      "cell_type": "markdown",
      "source": [
        "También es interesante saber cómo insertar imágenes en una figura. Por ejemplo, vamos a insertar la bandera de Andalucía en una figura:"
      ],
      "metadata": {
        "id": "_XtDXAmL6Whc"
      }
    },
    {
      "cell_type": "code",
      "source": [
        "# Primero hay que subir el archivo de la bandera (https://github.com/otoperalias/Coyuntura/blob/main/clases/images/Bandera_de_Andalucia.png) a Colab.\n",
        "\n",
        "fig, ax=plt.subplots()\n",
        "fig.text(0.2,0.9,\"Coyuntura económica en Andalucía:\\n 4tr de 2023\",horizontalalignment=\"left\", size=12)\n",
        "# Añadimos un nuevo axes en la esquina superior derecha para insertar la bandera\n",
        "bandera = plt.imread(\"Bandera_de_Andalucia.png\")\n",
        "newax = fig.add_axes([0.72,0.88,.10,.10])\n",
        "newax.imshow(bandera)\n",
        "newax.axis('off')\n",
        "\n",
        "plt.show()"
      ],
      "metadata": {
        "id": "58KaHzst3ESN",
        "outputId": "35d548eb-5ae3-461a-c95f-b00035c9af80",
        "colab": {
          "base_uri": "https://localhost:8080/",
          "height": 475
        }
      },
      "execution_count": null,
      "outputs": [
        {
          "output_type": "display_data",
          "data": {
            "text/plain": [
              "<Figure size 640x480 with 2 Axes>"
            ],
            "image/png": "[encoded data removed]"
          },
          "metadata": {}
        }
      ]
    },
    {
      "cell_type": "markdown",
      "source": [
        "### 4. Generar informes en HTML.\n",
        "\n",
        "Los dos formatos más comunes para generar informes hoy en día son PDF y HTML."
      ],
      "metadata": {
        "id": "Ote4aada-DdA"
      }
    },
    {
      "cell_type": "markdown",
      "source": [
        "#### 4.2 PDF  \n",
        "Generar informes en PDF es sencillo, por ejemplo, a través de ```matplotlib```, como hemos visto en notebooks anteriores.\n",
        "\n",
        "Para automatizar al máximo el proceso, también es conveniente unir los PDFs individuales generados usando unas de las librerías disponibles, como por ejemplo PyPDF2. El siguiente bloque de código muestra como unir dos archivos PDFs:\n",
        "```\n",
        "!pip install PyPDF2\n",
        "import PyPDF2  # Si no lo importa, reiniciar el entorno de ejecución\n",
        "mergeFile = PyPDF2.PdfMerger ()\n",
        "mergeFile.append(PyPDF2.PdfReader ('file1.pdf', 'rb'))\n",
        "mergeFile.append(PyPDF2.PdfReader ('file2.pdf', 'rb'))\n",
        "mergeFile.write(\"NewMergedFile.pdf\")\n",
        "```\n"
      ],
      "metadata": {
        "id": "xlelz4bW-igU"
      }
    },
    {
      "cell_type": "markdown",
      "source": [
        "#### 4.2 HTML    \n",
        "A través de Jupyter notebooks, es sencillo generar informes en HTML, facilitando así su distribución a través de páginas web. Para ello, hay que introducir el siguiente código:\n",
        "  - Si estamos usando Jupyter desde nuestro PC:\n",
        "  ```\n",
        "  # Última celda del notebook\n",
        "# 1. Guardar la última versión que acaba de ejecutarse\n",
        "from IPython.display import display, Javascript\n",
        "display(Javascript('IPython.notebook.save_checkpoint();'))\n",
        "# 2. Producir el informe en versión HTML\n",
        "import os\n",
        "os.chdir(r\"C:\\Users\\danie\\CyP\") # aquí indicamos la ubicación del notebook\n",
        "os.system(\"jupyter nbconvert Tema2_Pandemia_COVID19_Europa.ipynb --to html --no-input --no-prompt \")\n",
        "```\n",
        "El informe en HTML se guardará en la misma ubicación que el notebook.\n",
        "\n",
        "  - Si estamos usando Google Colab es algo más tedioso. Viene explicado con detalle [aquí](https://stackoverflow.com/questions/53460051/convert-ipynb-notebook-to-html-in-google-colab/64487858#64487858). Al final, en lugar de escribir:\n",
        "  ```\n",
        "  %%shell\n",
        "jupyter nbconvert --to html /your_path/NOTEBOOKFILE.ipynb\n",
        "```\n",
        "debéis escribir:\n",
        "```\n",
        "%%shell\n",
        "jupyter nbconvert --to html --no-input --no-prompt /your_path/NOTEBOOKFILE.ipynb\n",
        "```\n",
        "para que no os salgan las celdas con código.  \n",
        "Obviamente, en /your_path/NOTEBOOKFILE.ipynb debéis poner lo que tenéis en el portapapeles al clicar en Copiar ruta. En informe se guardará en la pestaña de archivos de Google Colab."
      ],
      "metadata": {
        "id": "dNEzpwIJ-be9"
      }
    }
  ]
}