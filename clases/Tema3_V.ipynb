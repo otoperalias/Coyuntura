{
  "nbformat": 4,
  "nbformat_minor": 0,
  "metadata": {
    "colab": {
      "name": "Untitled4.ipynb",
      "provenance": [],
      "toc_visible": true,
      "authorship_tag": "ABX9TyN58/yBgvO49THAdV5jS1Af",
      "include_colab_link": true
    },
    "kernelspec": {
      "name": "python3",
      "display_name": "Python 3"
    },
    "language_info": {
      "name": "python"
    }
  },
  "cells": [
    {
      "cell_type": "markdown",
      "metadata": {
        "id": "view-in-github",
        "colab_type": "text"
      },
      "source": [
        "<a href=\"https://colab.research.google.com/github/otoperalias/Coyuntura/blob/main/clases/Tema3_V.ipynb\" target=\"_parent\"><img src=\"https://colab.research.google.com/assets/colab-badge.svg\" alt=\"Open In Colab\"/></a>"
      ]
    },
    {
      "cell_type": "markdown",
      "metadata": {
        "id": "F_hsCSn1JrFv"
      },
      "source": [
        "## Tema 3.5. Modelos SARIMA y SARIMAX."
      ]
    },
    {
      "cell_type": "code",
      "metadata": {
        "id": "j9_qfci8Jv4Y"
      },
      "source": [
        "# Instalamos la librería pmdarima (la vamos a necesitar en esta sesión)\n",
        "!pip install pmdarima --user # Si usamos Jupyter, quitamos el signo de exclamación"
      ],
      "execution_count": null,
      "outputs": []
    },
    {
      "cell_type": "code",
      "source": [
        "# Ahora reiniciamos el entorno de ejecución"
      ],
      "metadata": {
        "id": "ODhQ-mFiiyw0"
      },
      "execution_count": null,
      "outputs": []
    },
    {
      "cell_type": "code",
      "metadata": {
        "id": "fgaA1sjCJy0l"
      },
      "source": [
        "# Importamos funciones y establecemos configuración general\n",
        "import numpy as np\n",
        "import pandas as pd\n",
        "import matplotlib.pyplot as plt\n",
        "import pmdarima as pm\n",
        "import statsmodels.api as sm\n",
        "from statsmodels.graphics.tsaplots import plot_acf, plot_pacf\n",
        "from statsmodels.tsa.stattools import adfuller\n",
        "plt.style.use('seaborn')\n",
        "plt.rcParams[\"figure.figsize\"] = [10,4]  # Default figure size"
      ],
      "execution_count": null,
      "outputs": []
    },
    {
      "cell_type": "code",
      "metadata": {
        "id": "4rD52ULFMqlj"
      },
      "source": [
        "# Generamos funciones que vamos a usar en el notebook\n",
        "def DFtest(datos):\n",
        "    print('Results of Dickey-Fuller Test (H0= NO estac.):')\n",
        "    dftest = adfuller(datos, autolag='AIC')\n",
        "    print('Test Statistic', dftest[0])\n",
        "    print('p-value', dftest[1])\n",
        "    print('#Lags Used', dftest[2])\n",
        "    print('# obs', dftest[3])\n",
        "    for k, v in dftest[4].items():\n",
        "        print(k,v)\n",
        "\n",
        "def forecast_accuracy(forecast, actual):\n",
        "    rmse = np.sqrt(np.mean((forecast-actual)**2))\n",
        "    mape = np.mean(np.abs(forecast - actual)/np.abs(actual))  # MAPE\n",
        "    corr = np.corrcoef(forecast, actual)[0,1]   # corr\n",
        "    print({'rmse':rmse,'mape':mape,'corr':corr})"
      ],
      "execution_count": null,
      "outputs": []
    },
    {
      "cell_type": "markdown",
      "metadata": {
        "id": "7GsjM0y8KZ5j"
      },
      "source": [
        "### Modelo SARIMA"
      ]
    },
    {
      "cell_type": "code",
      "metadata": {
        "id": "QiEBfx5kJ8a7"
      },
      "source": [
        "# Importamos base de datos (sobre ventas de medicamentos)\n",
        "# https://github.com/otoperalias/Coyuntura/blob/main/clases/datos/medicamentos_ventas.csv\n",
        "# clicar en 'raw' y luego clicar en botón derecho y 'guardar como' .csv\n",
        "medic = pd.read_csv(\"medicamentos_ventas.csv\",index_col=0,parse_dates=True)\n",
        "\n",
        "#Creamos test and training dataset\n",
        "train=medic[:-24]\n",
        "test=medic[-24:]"
      ],
      "execution_count": null,
      "outputs": []
    },
    {
      "cell_type": "code",
      "metadata": {
        "id": "tyOKgoPpLPPy"
      },
      "source": [
        "# GRÁFICO\n",
        "fig, axes = plt.subplots(2, 1, figsize=(8,5), dpi=100, sharex=True)\n",
        "# Diferenciación normal\n",
        "axes[0].plot(medic, label='Serie original')\n",
        "axes[0].plot(medic.diff(1), label='Diferenciación normal')\n",
        "axes[0].set_title('Diferenciación normal')\n",
        "axes[0].legend(loc='upper left', fontsize=10)\n",
        "# Diferenciación estacional\n",
        "axes[1].plot(medic, label='Serie original')\n",
        "axes[1].plot(medic.diff(12), label='Diferenciación estacional', color='green')\n",
        "axes[1].set_title('Diferenciación estacional')\n",
        "plt.legend(loc='upper left', fontsize=10)\n",
        "plt.suptitle('MEDICAMENTOS - VENTAS', fontsize=13)\n",
        "plt.show()"
      ],
      "execution_count": null,
      "outputs": []
    },
    {
      "cell_type": "markdown",
      "metadata": {
        "id": "Fh5bdymJMR6P"
      },
      "source": [
        "Se puede observar que los picos estacionales no resultan afectados cuando se realiza la diferenciación normal, mientras que al diferenciar de manera estacional, desaparecen."
      ]
    },
    {
      "cell_type": "code",
      "metadata": {
        "id": "bLk1YskzLP7U"
      },
      "source": [
        "# Dibujamos correlogramas y usamos el test DF\n",
        "fig, ax = plt.subplots(2, figsize=(12,6))\n",
        "ax[0] = plot_acf(medic.diff(12).dropna(), ax=ax[0], lags=28)\n",
        "ax[1] = plot_pacf(medic.diff(12).dropna(), ax=ax[1], lags=28)\n",
        "plt.show()\n",
        "DFtest(medic.diff(12).dropna())"
      ],
      "execution_count": null,
      "outputs": []
    },
    {
      "cell_type": "markdown",
      "metadata": {
        "id": "D77I4r-_NGf9"
      },
      "source": [
        "La serie es no estacionaria por lo que hay que tomar primeras diferencias"
      ]
    },
    {
      "cell_type": "code",
      "metadata": {
        "id": "ip5bhpTKMlGi"
      },
      "source": [
        "fig, ax = plt.subplots(2, figsize=(12,6))\n",
        "ax[0] = plot_acf(medic.diff(12).diff().dropna(), ax=ax[0], lags=28)\n",
        "ax[1] = plot_pacf(medic.diff(12).diff().dropna(), ax=ax[1], lags=28)\n",
        "plt.show()\n",
        "DFtest(medic.diff(12).diff().dropna())"
      ],
      "execution_count": null,
      "outputs": []
    },
    {
      "cell_type": "markdown",
      "metadata": {
        "id": "ODajCk53Nd0T"
      },
      "source": [
        "Ahora según el test de DF es claramente estacionaria, pero los gráficos indican que puede estar sobre diferenciada.  \n",
        "Por tanto, tratamos de evitar esta doble diferenciación. Volvemos a mirar los gráficos de autocorrelación y correlación parcial de la serie con\n",
        "diferenciación estacional.  \n",
        "Vemos que el modelo podría ser: SARIMA(1,0,1)(1,1,0,12)"
      ]
    },
    {
      "cell_type": "markdown",
      "metadata": {
        "id": "2fbBI1pAODTf"
      },
      "source": [
        "#### Procedemos a construir el modelo:\n",
        "Para más información sobre modelos SARIMAX:\n",
        "*https://www.statsmodels.org/stable/generated/statsmodels.tsa.statespace.sarimax.SARIMAX.html\n",
        "*https://www.statsmodels.org/stable/examples/notebooks/generated/statespace_sarimax_stata.html\n"
      ]
    },
    {
      "cell_type": "code",
      "metadata": {
        "id": "q524JhyRMVIx"
      },
      "source": [
        "# Especificación del modelo\n",
        "mod = sm.tsa.statespace.SARIMAX(medic,order=(1,0,1),seasonal_order=(1,1,0,12), trend=\"c\",\n",
        "                                enforce_stationarity=False, enforce_invertibility=False)"
      ],
      "execution_count": null,
      "outputs": []
    },
    {
      "cell_type": "code",
      "metadata": {
        "id": "nYaoc2AqO0SC"
      },
      "source": [
        "# Estimación del modelo y output de los resultados:v\n",
        "results= mod.fit()\n",
        "print(results.summary())   # vemos que la constante no es significativa y se podría quitar"
      ],
      "execution_count": null,
      "outputs": []
    },
    {
      "cell_type": "code",
      "metadata": {
        "id": "RyetF6A6O5VR"
      },
      "source": [
        "# Podemos dibujar los errores\n",
        "results.plot_diagnostics()\n",
        "plt.show()"
      ],
      "execution_count": null,
      "outputs": []
    },
    {
      "cell_type": "markdown",
      "metadata": {
        "id": "VTv7I_4wPi7x"
      },
      "source": [
        "#### ¿Cómo de preciso es nuestro modelo para predecir?"
      ]
    },
    {
      "cell_type": "code",
      "metadata": {
        "id": "WxjJ4nfPPFu6"
      },
      "source": [
        "# Construimos y estimamos el modelo con la \"training dataset\"\n",
        "results = sm.tsa.statespace.SARIMAX(train,order=(1,0,1),seasonal_order=(1,1,0,12), trend=\"c\",\n",
        "                                    enforce_stationarity=False, enforce_invertibility=False).fit() # observar que obtengo el resultado directamente con .fit()\n",
        "print(results.summary())"
      ],
      "execution_count": null,
      "outputs": []
    },
    {
      "cell_type": "code",
      "metadata": {
        "id": "2yng17CfPwO6"
      },
      "source": [
        "# Realizo la predicción para el periodo de la \"test dataset\" y calculo su exactitud (acccuracy)\n",
        "pred = results.get_prediction('2006-07-01','2008-06-01', dynamic=False)\n",
        "forecast_accuracy(pred.predicted_mean, test.value)"
      ],
      "execution_count": null,
      "outputs": []
    },
    {
      "cell_type": "code",
      "metadata": {
        "id": "9uAePUh-P1LY"
      },
      "source": [
        "# Dibujamos la predicción:\n",
        "pred_ci = pred.conf_int()\n",
        "index_of_fc = pd.date_range(start=\"2006-07-01\",end=\"2008-06-01\", freq='MS')\n",
        "# Creando las series para su representación gráfica\n",
        "fitted_series = pd.Series(pred.predicted_mean, index=index_of_fc)\n",
        "lower_series = pd.Series(pred_ci[\"lower value\"], index=index_of_fc)\n",
        "upper_series = pd.Series(pred_ci[\"upper value\"], index=index_of_fc)\n",
        "# Gráfico -\n",
        "fig,ax=plt.subplots(figsize=(12,8))\n",
        "ax.plot(train[-60:], label=\"Training period\", color=\"b\") #con [-60:] evito representar la serie completa\n",
        "ax.plot(test, label=\"Actual values\", color=\"k\")\n",
        "ax.plot(fitted_series, label=\"Predicted\", color='r')\n",
        "ax.fill_between(lower_series.index,\n",
        "                 lower_series,\n",
        "                 upper_series,\n",
        "                 color='k', alpha=.15)\n",
        "ax.legend()\n",
        "ax.set_title(\"SARIMA - Predicción de ventas de medicamentos\")\n",
        "plt.show()"
      ],
      "execution_count": null,
      "outputs": []
    },
    {
      "cell_type": "code",
      "metadata": {
        "id": "uUyk5vFDQUxv"
      },
      "source": [
        "# Y también predecimos hacia el futuro\n",
        "mod = sm.tsa.statespace.SARIMAX(medic,order=(1,0,1),seasonal_order=(1,1,0,12), trend=\"c\",\n",
        "                                enforce_stationarity=False, enforce_invertibility=False)\n",
        "pred = results.get_prediction(start=\"2008-07-01\",end=\"2010-06-01\")\n",
        "pred_ci = pred.conf_int()\n",
        "index_of_fc = pd.date_range(start=\"2008-07-01\",end=\"2010-06-01\", freq='MS')\n",
        "# Creando las series para su representación gráfica\n",
        "fitted_series = pd.Series(pred.predicted_mean, index=index_of_fc)\n",
        "lower_series = pd.Series(pred_ci[\"lower value\"], index=index_of_fc)\n",
        "upper_series = pd.Series(pred_ci[\"upper value\"], index=index_of_fc)\n",
        "# Gráfico\n",
        "fig,ax=plt.subplots(figsize=(12,8))\n",
        "ax.plot(medic)\n",
        "ax.plot(fitted_series, color='darkgreen')\n",
        "ax.fill_between(lower_series.index,\n",
        "                 lower_series,\n",
        "                 upper_series,\n",
        "                 color='k', alpha=.15)\n",
        "ax.set_title(\"SARIMA - Predicción de ventas de medicamentos\")\n",
        "plt.show()"
      ],
      "execution_count": null,
      "outputs": []
    },
    {
      "cell_type": "markdown",
      "metadata": {
        "id": "I49ldKWQQ3bO"
      },
      "source": [
        "#### Construimos el modelo automáticamente"
      ]
    },
    {
      "cell_type": "code",
      "metadata": {
        "id": "KYuJsClTQWN5"
      },
      "source": [
        "# AHORA BUSCAMOS EL MODELO AUTOMÁTICAMENTE ------------------------------------\n",
        "smodel = pm.auto_arima(train, start_p=0, start_q=0,\n",
        "                         test='adf',\n",
        "                         max_p=3, max_q=3, m=12,\n",
        "                         start_P=0, seasonal=True,\n",
        "                         trace=True,\n",
        "                         error_action='ignore',\n",
        "                         suppress_warnings=True,\n",
        "                         stepwise=True)"
      ],
      "execution_count": null,
      "outputs": []
    },
    {
      "cell_type": "code",
      "metadata": {
        "id": "MdWPotw_Q_dR"
      },
      "source": [
        "# Mostramos el output del modelo\n",
        "print(smodel.summary())"
      ],
      "execution_count": null,
      "outputs": []
    },
    {
      "cell_type": "code",
      "metadata": {
        "id": "suhRaheBRbd4"
      },
      "source": [
        "# Y predecimos\n",
        "n_periods = 24\n",
        "fitted, confint = smodel.predict(n_periods=n_periods, return_conf_int=True)\n",
        "forecast_accuracy(fitted, test.value)"
      ],
      "execution_count": null,
      "outputs": []
    },
    {
      "cell_type": "code",
      "metadata": {
        "id": "r2kKjFFQRveD"
      },
      "source": [
        "# Gráfico de la predicción\n",
        "index_of_fc = pd.date_range(start=\"2006-07-01\",end=\"2008-06-01\", freq='MS')\n",
        "fitted_series = pd.Series(fitted, index=index_of_fc)\n",
        "lower_series = pd.Series(confint[:, 0], index=index_of_fc)\n",
        "upper_series = pd.Series(confint[:, 1], index=index_of_fc)\n",
        "# Plot\n",
        "fig,ax=plt.subplots(figsize=(12,8))\n",
        "ax.plot(train[-60:], label=\"Training period\", color=\"b\") #con [-60:] evito representar la serie completa\n",
        "ax.plot(test, label=\"Actual values\", color=\"k\")\n",
        "ax.plot(fitted_series, label=\"Predicted\", color='r')\n",
        "ax.fill_between(lower_series.index,\n",
        "                 lower_series,\n",
        "                 upper_series,\n",
        "                 color='k', alpha=.15)\n",
        "ax.legend()\n",
        "ax.set_title(\"SARIMA - Predicción de ventas de medicamentos\")\n",
        "plt.show()"
      ],
      "execution_count": null,
      "outputs": []
    },
    {
      "cell_type": "markdown",
      "metadata": {
        "id": "kcAE8u8DSnhL"
      },
      "source": [
        "Vemos que la predicción de ambos modelos es similar y nos gustaría que fuera más buena.  \n",
        "Si tuviéramos un indicador correlacionado con las ventas de medicamentos y que estuviera disponible antes, sería muy útil para ayudarnos a predecir. Ese indicador sería la variable e**X**ógena del modelo *SARIMAX*."
      ]
    },
    {
      "cell_type": "markdown",
      "metadata": {
        "id": "aK2Za9O-TxXz"
      },
      "source": [
        "### Modelo SARIMAX"
      ]
    },
    {
      "cell_type": "code",
      "metadata": {
        "id": "R3la0UFeSrhw"
      },
      "source": [
        "# Datos de la variable exógena: número de visitas a atención primaria\n",
        "# https://github.com/otoperalias/Coyuntura/blob/main/clases/datos/medic_visitas_doctor.xlsx\n",
        "\n",
        "visit = pd.read_excel(...) # https://raw.githubusercontent.com/otoperalias/Coyuntura/main\n",
        "visit"
      ],
      "execution_count": null,
      "outputs": []
    },
    {
      "cell_type": "markdown",
      "metadata": {
        "id": "MrUWcnYCUHMt"
      },
      "source": [
        "Esta serie tienes 6 observaciones más, las cuales vamos utilizar para mejorar la predicción."
      ]
    },
    {
      "cell_type": "code",
      "metadata": {
        "id": "vwb8qEtmUE4U"
      },
      "source": [
        "# Visualizamos\n",
        "fig,ax=plt.subplots(1,2,figsize=(10,4))\n",
        "ax[0].plot(medic)\n",
        "ax01 = ax[0].twinx()  # aquí se establece un segundo eje Y que comparte el mismo eje X\n",
        "ax01.plot(visit,color='tab:red')\n",
        "ax01.grid(False)\n",
        "ax[1].scatter(medic.value,visit.visitas[:204]) # vemos que hay una correlación alta y por tanto puede usarse como variable exógena\n",
        "plt.subplots_adjust(wspace=0.5)\n",
        "plt.show()\n",
        "print(np.corrcoef(medic.value,visit.visitas[:204])[0,1])"
      ],
      "execution_count": null,
      "outputs": []
    },
    {
      "cell_type": "markdown",
      "metadata": {
        "id": "gznDn80GU4jS"
      },
      "source": [
        "Vemos que las dos series están muy correlacionadas y por tanto la variable visitas puede usarse como eXógena."
      ]
    },
    {
      "cell_type": "markdown",
      "metadata": {
        "id": "BNuSCk6wVlNI"
      },
      "source": [
        "#### Construimos el modelo:"
      ]
    },
    {
      "cell_type": "code",
      "metadata": {
        "id": "dDbfbwlOUQAP"
      },
      "source": [
        "# Especificamos y estimamos el modelo\n",
        "exog_in=visit[:-30] # -24 y -6 por las 6 obs extra ==> train y exog_in deben tener igual periodo (!)\n",
        "results = sm.tsa.statespace.SARIMAX(train,exog=exog_in, order=(1,0,1),seasonal_order=(1,1,0,12), trend=\"c\",\n",
        "                                    enforce_stationarity=False, enforce_invertibility=False).fit()\n",
        "print(results.summary())"
      ],
      "execution_count": null,
      "outputs": []
    },
    {
      "cell_type": "markdown",
      "metadata": {
        "id": "lF8g7H69VqlJ"
      },
      "source": [
        "#### Capacidad para predecir:"
      ]
    },
    {
      "cell_type": "code",
      "metadata": {
        "id": "KHBcvDY7VVQg"
      },
      "source": [
        "# Capacidad para predecir\n",
        "exog_out=visit['2006-07-01':'2008-06-01'] # por las seis observaciones extra para las cuales no sabemos el valor de medic\n",
        "pred = results.get_prediction('2006-07-01','2008-06-01', exog=exog_out, dynamic=False)\n",
        "forecast_accuracy(pred.predicted_mean, test.value)"
      ],
      "execution_count": null,
      "outputs": []
    },
    {
      "cell_type": "code",
      "metadata": {
        "id": "VRcMLlhSVZyf"
      },
      "source": [
        "# Dibujamos la predicción:\n",
        "pred_ci = pred.conf_int()\n",
        "index_of_fc = pd.date_range(start=\"2006-07-01\",end=\"2008-06-01\", freq='MS')\n",
        "# Creando las series para su representación gráfica\n",
        "fitted_series = pd.Series(pred.predicted_mean, index=index_of_fc)\n",
        "lower_series = pd.Series(pred_ci[\"lower value\"], index=index_of_fc)\n",
        "upper_series = pd.Series(pred_ci[\"upper value\"], index=index_of_fc)\n",
        "# Gráfico -\n",
        "fig,ax=plt.subplots(figsize=(12,8))\n",
        "ax.plot(train[-60:], label=\"Training period\", color=\"b\") #con [-60:] evito representar la serie completa\n",
        "ax.plot(test, label=\"Actual values\", color=\"k\")\n",
        "ax.plot(fitted_series, label=\"Predicted\", color='r')\n",
        "ax.fill_between(lower_series.index,\n",
        "                 lower_series,\n",
        "                 upper_series,\n",
        "                 color='k', alpha=.15)\n",
        "ax.legend()\n",
        "ax.set_title(\"SARIMAX - Predicción de ventas de medicamentos \\n usando visitas al doctor como variable exógena\")\n",
        "plt.show()"
      ],
      "execution_count": null,
      "outputs": []
    },
    {
      "cell_type": "markdown",
      "metadata": {
        "id": "bAoGHoutV9li"
      },
      "source": [
        "Y también predecimos hacia el futuro. Dado que visit llega a 2008-12-01 (mientras medic hasta 2008-06-01), predecimos seis meses."
      ]
    },
    {
      "cell_type": "code",
      "metadata": {
        "id": "0y1sf3XUV5eW"
      },
      "source": [
        "# Predecimos hacia el futuro:\n",
        "results = sm.tsa.statespace.SARIMAX(medic,exog=visit[:-6], order=(1,0,1),seasonal_order=(1,1,0,12), trend=\"c\",\n",
        "                                    enforce_stationarity=False, enforce_invertibility=False).fit()\n",
        "pred = results.get_prediction(start=\"2008-07-01\",end=\"2008-12-01\", exog=visit[-6:])\n",
        "pred_ci = pred.conf_int()\n",
        "index_of_fc = pd.date_range(start=\"2008-07-01\",end=\"2008-12-01\",freq='MS')\n",
        "# Creando las series para su representación gráfica\n",
        "fitted_series = pd.Series(pred.predicted_mean, index=index_of_fc)\n",
        "lower_series = pd.Series(pred_ci[\"lower value\"], index=index_of_fc)\n",
        "upper_series = pd.Series(pred_ci[\"upper value\"], index=index_of_fc)\n",
        "# Gráfico\n",
        "fig,ax=plt.subplots(figsize=(12,8))\n",
        "ax.plot(medic[-60:])\n",
        "ax.plot(fitted_series, color='darkgreen')\n",
        "ax.fill_between(lower_series.index,\n",
        "                 lower_series,\n",
        "                 upper_series,\n",
        "                 color='k', alpha=.15)\n",
        "ax.set_title(\"SARIMAX - Predicción de ventas de medicamentos \\n usando visitas al doctor como variable exógena\")\n",
        "plt.show()"
      ],
      "execution_count": null,
      "outputs": []
    },
    {
      "cell_type": "markdown",
      "metadata": {
        "id": "dCCsAO-5Wb5i"
      },
      "source": [
        "#### Construimos el modelo automáticamente:"
      ]
    },
    {
      "cell_type": "markdown",
      "metadata": {
        "id": "R92TD8khWh5Y"
      },
      "source": [
        "El método auto_arima también puede usarse para estimar el modelo SARIMAX óptimo usando el argumento **X**."
      ]
    },
    {
      "cell_type": "code",
      "metadata": {
        "id": "cvYGZgBeWVe2"
      },
      "source": [
        "smodel = pm.auto_arima(medic, start_p=0, start_q=0,\n",
        "                         X=visit[:-6], test='adf',\n",
        "                         max_p=3, max_q=3, m=12,\n",
        "                         start_P=0, seasonal=True,\n",
        "                         trace=True,\n",
        "                         error_action='ignore',\n",
        "                         suppress_warnings=True,\n",
        "                         stepwise=True)\n",
        "print(smodel.summary())"
      ],
      "execution_count": null,
      "outputs": []
    },
    {
      "cell_type": "code",
      "metadata": {
        "id": "24F5HBnGWmZG"
      },
      "source": [
        "# Y predecimos hacia el futuro\n",
        "n_periods = 6\n",
        "fitted, confint = smodel.predict(n_periods=n_periods, X=visit[-6:], return_conf_int=True)\n",
        "index_of_fc = pd.date_range(start=\"2008-07-01\",end=\"2008-12-01\", freq='MS')\n",
        "# Creando las series para su representación gráfica\n",
        "fitted_series = pd.Series(fitted, index=index_of_fc)\n",
        "lower_series = pd.Series(confint[:, 0], index=index_of_fc)\n",
        "upper_series = pd.Series(confint[:, 1], index=index_of_fc)\n",
        "# Gráfico\n",
        "fig,ax=plt.subplots(figsize=(12,8))\n",
        "ax.plot(medic[-60:], color=\"b\") #con [-60:] evito representar la serie completa\n",
        "ax.plot(fitted_series, label=\"Predicted\", color='r')\n",
        "ax.fill_between(lower_series.index,\n",
        "                 lower_series,\n",
        "                 upper_series,\n",
        "                 color='k', alpha=.15)\n",
        "ax.legend()\n",
        "ax.set_title(\"SARIMAX - Predicción de ventas de medicamentos. \\n usando visitas al médico como variable exógena\")\n",
        "plt.show()"
      ],
      "execution_count": null,
      "outputs": []
    }
  ]
}