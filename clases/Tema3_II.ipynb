{
  "nbformat": 4,
  "nbformat_minor": 0,
  "metadata": {
    "colab": {
      "name": "Untitled4.ipynb",
      "provenance": [],
      "toc_visible": true,
      "authorship_tag": "ABX9TyMrmg9A+9tQlq1tJmDRbrL0",
      "include_colab_link": true
    },
    "kernelspec": {
      "name": "python3",
      "display_name": "Python 3"
    },
    "language_info": {
      "name": "python"
    }
  },
  "cells": [
    {
      "cell_type": "markdown",
      "metadata": {
        "id": "view-in-github",
        "colab_type": "text"
      },
      "source": [
        "<a href=\"https://colab.research.google.com/github/otoperalias/Coyuntura/blob/main/clases/Tema3_II.ipynb\" target=\"_parent\"><img src=\"https://colab.research.google.com/assets/colab-badge.svg\" alt=\"Open In Colab\"/></a>"
      ]
    },
    {
      "cell_type": "markdown",
      "metadata": {
        "id": "4FMg_Am45NEk"
      },
      "source": [
        "### Tema 3.2. Desestacionalización (I)"
      ]
    },
    {
      "cell_type": "code",
      "metadata": {
        "id": "vcQ5A5w_-32W"
      },
      "source": [
        "# Paso preliminar: instalar la última versión de statsmodels, que en colab no está por defecto bien actualizada (al menos a fecha de hoy 20/10/21)\n",
        "pip install statsmodels==0.12.1\n",
        "# Como se indica en el mensaje, a que clicar en RESTAT RUNTIME"
      ],
      "execution_count": null,
      "outputs": []
    },
    {
      "cell_type": "code",
      "metadata": {
        "id": "m0oEspH05Nie"
      },
      "source": [
        "#Importamos algunas librerías y datos\n",
        "import matplotlib.pyplot as plt\n",
        "import pandas as pd\n",
        "import statsmodels.api as sm\n",
        "series = pd.read_csv('https://raw.githubusercontent.com/otoperalias/Coyuntura/main/clases/datos/airline-passengers.csv', header=0, index_col=0, parse_dates=True)\n",
        "series"
      ],
      "execution_count": null,
      "outputs": []
    },
    {
      "cell_type": "markdown",
      "metadata": {
        "id": "2NJvYFrK68Vq"
      },
      "source": [
        "#### Descomposición clásica"
      ]
    },
    {
      "cell_type": "code",
      "metadata": {
        "id": "FWjwvYfu6fwd"
      },
      "source": [
        "# Ejemplo descomposición aditiva\n",
        "result_ad = sm.tsa.seasonal_decompose(series, model=\"additive\")\n",
        "result_ad.plot()\n",
        "plt.show()"
      ],
      "execution_count": null,
      "outputs": []
    },
    {
      "cell_type": "code",
      "metadata": {
        "id": "bMf8LbJf6jO3"
      },
      "source": [
        "# Ejemplo de descomposición multiplicativa\n",
        "result = sm.tsa.seasonal_decompose(series, model='multiplicative')\n",
        "result.plot()\n",
        "plt.show()"
      ],
      "execution_count": null,
      "outputs": []
    },
    {
      "cell_type": "markdown",
      "metadata": {
        "id": "I5td-MW47DKB"
      },
      "source": [
        "#### Descomposición STL"
      ]
    },
    {
      "cell_type": "code",
      "metadata": {
        "id": "Yh0M1Cgp7F9P"
      },
      "source": [
        "# Echar un vistazo a la página de ayuda:\n",
        "# https://www.statsmodels.org/stable/generated/statsmodels.tsa.seasonal.STL.html#statsmodels.tsa.seasonal.STL\n",
        "\n",
        "#Ahora aplicamos el nuevo método a la serie de pasajeros de aerolíneas\n",
        "result = sm.tsa.STL(series).fit() \n",
        "result.plot()"
      ],
      "execution_count": null,
      "outputs": []
    },
    {
      "cell_type": "code",
      "metadata": {
        "id": "FAF5PORi-lM-"
      },
      "source": [
        "# Para reducir la influencia de los valores atípicos, se añade el argumento robust:\n",
        "result = sm.tsa.STL(series, robust=True).fit() \n",
        "result.plot()"
      ],
      "execution_count": null,
      "outputs": []
    },
    {
      "cell_type": "markdown",
      "metadata": {
        "id": "9ogWvcUP_2JF"
      },
      "source": [
        "#### Material adicional:\n",
        "\n",
        "Para profundizar en vuestros conocimientos, echad un vistazo a este gran recurso disponible en la web:  \n",
        "http://www.chadfulton.com/topics/002-seasonal-adjustment.html#regression-based-seasonal-estimation"
      ]
    },
    {
      "cell_type": "markdown",
      "metadata": {
        "id": "XLZ-iIzJAyln"
      },
      "source": [
        "#### Ejemplo con datos de afiliaciones a la Seguridad Social\n",
        "\n",
        "Fuente:  \n",
        "https://www.seg-social.es/wps/portal/wss/internet/EstadisticasPresupuestosEstudios/Estadisticas/EST8/2341/2342\n",
        "\n",
        "Los datos a usar están disponibles aquí:  \n",
        "https://github.com/otoperalias/Coyuntura/blob/main/clases/datos/series_seg_social.xlsx  \n",
        "Se pueden importar directamente, sin necesidad de descargarlos en vuestro equipo. Para ello, debéis usar este enlace:  \n",
        "https://raw.githubusercontent.com/otoperalias/Coyuntura/main/clases/datos/series_seg_social.xlsx  \n",
        "No obstante, la primera que lo uséis es bueno descargar el archivo y echar un vistazo a los datos y así, entre otras cosas, ver si hay alguna columna para usar como index de la tabla, si esa columna se puede interpretar como fechas por ```pandas```, etc..\n"
      ]
    },
    {
      "cell_type": "code",
      "metadata": {
        "id": "NQ7VfMNbA8Rk"
      },
      "source": [
        "# Importamos los datos\n",
        "ss=pd.read_excel(..."
      ],
      "execution_count": 8,
      "outputs": []
    },
    {
      "cell_type": "code",
      "metadata": {
        "id": "qJKWsAAwDaPA"
      },
      "source": [
        "# Descomposición clásica aditiva"
      ],
      "execution_count": null,
      "outputs": []
    },
    {
      "cell_type": "code",
      "metadata": {
        "id": "NnaH7o9ADhzn"
      },
      "source": [
        "# Descomposición clásica multiplicativa"
      ],
      "execution_count": null,
      "outputs": []
    },
    {
      "cell_type": "code",
      "metadata": {
        "id": "pomyORDUDaW_"
      },
      "source": [
        "# Descomposición STL"
      ],
      "execution_count": null,
      "outputs": []
    }
  ]
}