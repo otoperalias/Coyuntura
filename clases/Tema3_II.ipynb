{
  "nbformat": 4,
  "nbformat_minor": 0,
  "metadata": {
    "colab": {
      "name": "Untitled4.ipynb",
      "provenance": [],
      "include_colab_link": true
    },
    "kernelspec": {
      "name": "python3",
      "display_name": "Python 3"
    },
    "language_info": {
      "name": "python"
    }
  },
  "cells": [
    {
      "cell_type": "markdown",
      "metadata": {
        "id": "view-in-github",
        "colab_type": "text"
      },
      "source": [
        "<a href=\"https://colab.research.google.com/github/otoperalias/Coyuntura/blob/main/clases/Tema3_II.ipynb\" target=\"_parent\"><img src=\"https://colab.research.google.com/assets/colab-badge.svg\" alt=\"Open In Colab\"/></a>"
      ]
    },
    {
      "cell_type": "markdown",
      "metadata": {
        "id": "4FMg_Am45NEk"
      },
      "source": [
        "### Tema 3.2. Desestacionalización (I)\n",
        "Leer las diapositivas disponibles en el Aula Virtual antes de ejecutar este código."
      ]
    },
    {
      "cell_type": "code",
      "metadata": {
        "id": "vcQ5A5w_-32W"
      },
      "source": [
        "# Paso preliminar: instalar la última versión de statsmodels, que en colab no está por defecto bien actualizada (al menos a fecha de hoy 20/10/21)\n",
        "!pip install statsmodels==0.13.0 # current stable version\n",
        "# Como se indica en el mensaje, a que clicar en RESTAT RUNTIME"
      ],
      "execution_count": null,
      "outputs": []
    },
    {
      "cell_type": "code",
      "metadata": {
        "id": "m0oEspH05Nie",
        "outputId": "cb34a606-1bac-4d4c-bbcc-8d9a86cf1f84",
        "colab": {
          "base_uri": "https://localhost:8080/",
          "height": 508
        }
      },
      "source": [
        "#Importamos algunas librerías y datos\n",
        "import matplotlib.pyplot as plt\n",
        "import pandas as pd\n",
        "import statsmodels.api as sm\n",
        "series = pd.read_csv('https://raw.githubusercontent.com/otoperalias/Coyuntura/main/clases/datos/airline-passengers.csv', header=0, index_col=0, parse_dates=True)\n",
        "series"
      ],
      "execution_count": 1,
      "outputs": [
        {
          "output_type": "stream",
          "name": "stderr",
          "text": [
            "/usr/local/lib/python3.7/dist-packages/statsmodels/tools/_testing.py:19: FutureWarning: pandas.util.testing is deprecated. Use the functions in the public API at pandas.testing instead.\n",
            "  import pandas.util.testing as tm\n"
          ]
        },
        {
          "output_type": "execute_result",
          "data": {
            "text/html": [
              "<div>\n",
              "<style scoped>\n",
              "    .dataframe tbody tr th:only-of-type {\n",
              "        vertical-align: middle;\n",
              "    }\n",
              "\n",
              "    .dataframe tbody tr th {\n",
              "        vertical-align: top;\n",
              "    }\n",
              "\n",
              "    .dataframe thead th {\n",
              "        text-align: right;\n",
              "    }\n",
              "</style>\n",
              "<table border=\"1\" class=\"dataframe\">\n",
              "  <thead>\n",
              "    <tr style=\"text-align: right;\">\n",
              "      <th></th>\n",
              "      <th>Passengers</th>\n",
              "    </tr>\n",
              "    <tr>\n",
              "      <th>Month</th>\n",
              "      <th></th>\n",
              "    </tr>\n",
              "  </thead>\n",
              "  <tbody>\n",
              "    <tr>\n",
              "      <th>1949-01-01</th>\n",
              "      <td>112</td>\n",
              "    </tr>\n",
              "    <tr>\n",
              "      <th>1949-02-01</th>\n",
              "      <td>118</td>\n",
              "    </tr>\n",
              "    <tr>\n",
              "      <th>1949-03-01</th>\n",
              "      <td>132</td>\n",
              "    </tr>\n",
              "    <tr>\n",
              "      <th>1949-04-01</th>\n",
              "      <td>129</td>\n",
              "    </tr>\n",
              "    <tr>\n",
              "      <th>1949-05-01</th>\n",
              "      <td>121</td>\n",
              "    </tr>\n",
              "    <tr>\n",
              "      <th>...</th>\n",
              "      <td>...</td>\n",
              "    </tr>\n",
              "    <tr>\n",
              "      <th>1960-08-01</th>\n",
              "      <td>606</td>\n",
              "    </tr>\n",
              "    <tr>\n",
              "      <th>1960-09-01</th>\n",
              "      <td>508</td>\n",
              "    </tr>\n",
              "    <tr>\n",
              "      <th>1960-10-01</th>\n",
              "      <td>461</td>\n",
              "    </tr>\n",
              "    <tr>\n",
              "      <th>1960-11-01</th>\n",
              "      <td>390</td>\n",
              "    </tr>\n",
              "    <tr>\n",
              "      <th>1960-12-01</th>\n",
              "      <td>432</td>\n",
              "    </tr>\n",
              "  </tbody>\n",
              "</table>\n",
              "<p>144 rows × 1 columns</p>\n",
              "</div>"
            ],
            "text/plain": [
              "            Passengers\n",
              "Month                 \n",
              "1949-01-01         112\n",
              "1949-02-01         118\n",
              "1949-03-01         132\n",
              "1949-04-01         129\n",
              "1949-05-01         121\n",
              "...                ...\n",
              "1960-08-01         606\n",
              "1960-09-01         508\n",
              "1960-10-01         461\n",
              "1960-11-01         390\n",
              "1960-12-01         432\n",
              "\n",
              "[144 rows x 1 columns]"
            ]
          },
          "metadata": {},
          "execution_count": 1
        }
      ]
    },
    {
      "cell_type": "code",
      "metadata": {
        "id": "ZePKV6SNIJRz"
      },
      "source": [
        "# Representar la serie\n",
        "series.plot()"
      ],
      "execution_count": null,
      "outputs": []
    },
    {
      "cell_type": "markdown",
      "metadata": {
        "id": "2NJvYFrK68Vq"
      },
      "source": [
        "#### Descomposición clásica"
      ]
    },
    {
      "cell_type": "code",
      "metadata": {
        "id": "FWjwvYfu6fwd"
      },
      "source": [
        "# Ejemplo descomposición aditiva\n",
        "result_ad = sm.tsa.seasonal_decompose(series, model=\"additive\")\n",
        "result_ad.plot()\n",
        "plt.show()"
      ],
      "execution_count": null,
      "outputs": []
    },
    {
      "cell_type": "code",
      "metadata": {
        "id": "bMf8LbJf6jO3"
      },
      "source": [
        "# Ejemplo de descomposición multiplicativa\n",
        "result = sm.tsa.seasonal_decompose(series, model='multiplicative')\n",
        "result.plot()\n",
        "plt.show()"
      ],
      "execution_count": null,
      "outputs": []
    },
    {
      "cell_type": "markdown",
      "metadata": {
        "id": "I5td-MW47DKB"
      },
      "source": [
        "#### Descomposición STL"
      ]
    },
    {
      "cell_type": "code",
      "metadata": {
        "id": "Yh0M1Cgp7F9P"
      },
      "source": [
        "# Echar un vistazo a la página de ayuda:\n",
        "# https://www.statsmodels.org/stable/generated/statsmodels.tsa.seasonal.STL.html#statsmodels.tsa.seasonal.STL\n",
        "\n",
        "#Ahora aplicamos el nuevo método a la serie de pasajeros de aerolíneas\n",
        "result = sm.tsa.STL(series).fit() \n",
        "result.plot()\n",
        "plt.show()"
      ],
      "execution_count": null,
      "outputs": []
    },
    {
      "cell_type": "code",
      "metadata": {
        "id": "FAF5PORi-lM-"
      },
      "source": [
        "# Para reducir la influencia de los valores atípicos, se añade el argumento robust (no siempre es mejor o conveniente):\n",
        "result = sm.tsa.STL(series, robust=True).fit() \n",
        "result.plot()\n",
        "plt.show()"
      ],
      "execution_count": null,
      "outputs": []
    },
    {
      "cell_type": "markdown",
      "metadata": {
        "id": "9ogWvcUP_2JF"
      },
      "source": [
        "#### Material adicional:\n",
        "\n",
        "Para profundizar en vuestros conocimientos, echad un vistazo a este gran recurso disponible en la web:  \n",
        "http://www.chadfulton.com/topics/002-seasonal-adjustment.html"
      ]
    },
    {
      "cell_type": "markdown",
      "metadata": {
        "id": "XLZ-iIzJAyln"
      },
      "source": [
        "#### Ejemplo con datos de afiliaciones a la Seguridad Social\n",
        "\n",
        "Fuente:  \n",
        "https://www.seg-social.es/wps/portal/wss/internet/EstadisticasPresupuestosEstudios/Estadisticas/EST8/2341/2342\n",
        "\n",
        "Los datos a usar están disponibles aquí:  \n",
        "https://github.com/otoperalias/Coyuntura/blob/main/clases/datos/series_seg_social.xlsx  \n",
        "Se pueden importar directamente, sin necesidad de descargarlos en vuestro equipo. Para ello, debéis usar este enlace:  \n",
        "https://raw.githubusercontent.com/otoperalias/Coyuntura/main/clases/datos/series_seg_social.xlsx  \n",
        "No obstante, la primera que lo uséis es bueno descargar el archivo y echar un vistazo a los datos y así, entre otras cosas, ver si hay alguna columna para usar como index de la tabla, si esa columna se puede interpretar como fechas por ```pandas```, etc..\n"
      ]
    },
    {
      "cell_type": "code",
      "metadata": {
        "id": "NQ7VfMNbA8Rk",
        "outputId": "1377f579-b813-4f8d-ce21-ce898c5998c3",
        "colab": {
          "base_uri": "https://localhost:8080/",
          "height": 454
        }
      },
      "source": [
        "# Importamos los datos\n",
        "ss=pd.read_excel(\"https://raw.githubusercontent.com/otoperalias/Coyuntura/main/clases/datos/series_seg_social.xlsx\",\n",
        "                 index_col=3, parse_dates=True)\n",
        "ss"
      ],
      "execution_count": 2,
      "outputs": [
        {
          "output_type": "execute_result",
          "data": {
            "text/html": [
              "<div>\n",
              "<style scoped>\n",
              "    .dataframe tbody tr th:only-of-type {\n",
              "        vertical-align: middle;\n",
              "    }\n",
              "\n",
              "    .dataframe tbody tr th {\n",
              "        vertical-align: top;\n",
              "    }\n",
              "\n",
              "    .dataframe thead th {\n",
              "        text-align: right;\n",
              "    }\n",
              "</style>\n",
              "<table border=\"1\" class=\"dataframe\">\n",
              "  <thead>\n",
              "    <tr style=\"text-align: right;\">\n",
              "      <th></th>\n",
              "      <th>Periodo</th>\n",
              "      <th>año</th>\n",
              "      <th>mes</th>\n",
              "      <th>afiliados</th>\n",
              "    </tr>\n",
              "    <tr>\n",
              "      <th>period</th>\n",
              "      <th></th>\n",
              "      <th></th>\n",
              "      <th></th>\n",
              "      <th></th>\n",
              "    </tr>\n",
              "  </thead>\n",
              "  <tbody>\n",
              "    <tr>\n",
              "      <th>2001-01-01</th>\n",
              "      <td>Enero 2001</td>\n",
              "      <td>2001</td>\n",
              "      <td>1</td>\n",
              "      <td>15194299.22</td>\n",
              "    </tr>\n",
              "    <tr>\n",
              "      <th>2001-02-01</th>\n",
              "      <td>Febrero  2001</td>\n",
              "      <td>2001</td>\n",
              "      <td>2</td>\n",
              "      <td>15326583.35</td>\n",
              "    </tr>\n",
              "    <tr>\n",
              "      <th>2001-03-01</th>\n",
              "      <td>Marzo 2001</td>\n",
              "      <td>2001</td>\n",
              "      <td>3</td>\n",
              "      <td>15455386.40</td>\n",
              "    </tr>\n",
              "    <tr>\n",
              "      <th>2001-04-01</th>\n",
              "      <td>Abril 2001</td>\n",
              "      <td>2001</td>\n",
              "      <td>4</td>\n",
              "      <td>15551821.04</td>\n",
              "    </tr>\n",
              "    <tr>\n",
              "      <th>2001-05-01</th>\n",
              "      <td>Mayo 2001</td>\n",
              "      <td>2001</td>\n",
              "      <td>5</td>\n",
              "      <td>15688072.27</td>\n",
              "    </tr>\n",
              "    <tr>\n",
              "      <th>...</th>\n",
              "      <td>...</td>\n",
              "      <td>...</td>\n",
              "      <td>...</td>\n",
              "      <td>...</td>\n",
              "    </tr>\n",
              "    <tr>\n",
              "      <th>2020-06-01</th>\n",
              "      <td>Junio 2020</td>\n",
              "      <td>2020</td>\n",
              "      <td>6</td>\n",
              "      <td>18624336.68</td>\n",
              "    </tr>\n",
              "    <tr>\n",
              "      <th>2020-07-01</th>\n",
              "      <td>Julio 2020</td>\n",
              "      <td>2020</td>\n",
              "      <td>7</td>\n",
              "      <td>18785554.30</td>\n",
              "    </tr>\n",
              "    <tr>\n",
              "      <th>2020-08-01</th>\n",
              "      <td>Agosto 2020</td>\n",
              "      <td>2020</td>\n",
              "      <td>8</td>\n",
              "      <td>18792376.14</td>\n",
              "    </tr>\n",
              "    <tr>\n",
              "      <th>2020-09-01</th>\n",
              "      <td>Septiembre 2020</td>\n",
              "      <td>2020</td>\n",
              "      <td>9</td>\n",
              "      <td>18876389.22</td>\n",
              "    </tr>\n",
              "    <tr>\n",
              "      <th>2020-10-01</th>\n",
              "      <td>Octubre 2020</td>\n",
              "      <td>2020</td>\n",
              "      <td>10</td>\n",
              "      <td>18990363.95</td>\n",
              "    </tr>\n",
              "  </tbody>\n",
              "</table>\n",
              "<p>238 rows × 4 columns</p>\n",
              "</div>"
            ],
            "text/plain": [
              "                    Periodo   año  mes    afiliados\n",
              "period                                             \n",
              "2001-01-01       Enero 2001  2001    1  15194299.22\n",
              "2001-02-01    Febrero  2001  2001    2  15326583.35\n",
              "2001-03-01       Marzo 2001  2001    3  15455386.40\n",
              "2001-04-01       Abril 2001  2001    4  15551821.04\n",
              "2001-05-01        Mayo 2001  2001    5  15688072.27\n",
              "...                     ...   ...  ...          ...\n",
              "2020-06-01       Junio 2020  2020    6  18624336.68\n",
              "2020-07-01       Julio 2020  2020    7  18785554.30\n",
              "2020-08-01      Agosto 2020  2020    8  18792376.14\n",
              "2020-09-01  Septiembre 2020  2020    9  18876389.22\n",
              "2020-10-01     Octubre 2020  2020   10  18990363.95\n",
              "\n",
              "[238 rows x 4 columns]"
            ]
          },
          "metadata": {},
          "execution_count": 2
        }
      ]
    },
    {
      "cell_type": "code",
      "metadata": {
        "id": "3xZmT4SeQjGz",
        "outputId": "05778c04-fb46-425b-8362-a2705186a1eb",
        "colab": {
          "base_uri": "https://localhost:8080/",
          "height": 307
        }
      },
      "source": [
        "ss[\"afiliados\"].plot()"
      ],
      "execution_count": 3,
      "outputs": [
        {
          "output_type": "execute_result",
          "data": {
            "text/plain": [
              "<matplotlib.axes._subplots.AxesSubplot at 0x7f51c6be4f10>"
            ]
          },
          "metadata": {},
          "execution_count": 3
        },
        {
          "output_type": "display_data",
          "data": {
            "image/png": "[encoded data removed]",
            "text/plain": [
              "<Figure size 432x288 with 1 Axes>"
            ]
          },
          "metadata": {
            "needs_background": "light"
          }
        }
      ]
    },
    {
      "cell_type": "code",
      "metadata": {
        "id": "qJKWsAAwDaPA",
        "outputId": "0c9bdf2d-1478-44f0-8d46-876fcb33e75b",
        "colab": {
          "base_uri": "https://localhost:8080/",
          "height": 297
        }
      },
      "source": [
        "# Descomposición clásica aditiva\n",
        "result = sm.tsa.seasonal_decompose(ss[\"afiliados\"], model=\"additive\")\n",
        "result.plot()\n",
        "plt.show()"
      ],
      "execution_count": 4,
      "outputs": [
        {
          "output_type": "display_data",
          "data": {
            "image/png": "[encoded data removed]",
            "text/plain": [
              "<Figure size 432x288 with 4 Axes>"
            ]
          },
          "metadata": {
            "needs_background": "light"
          }
        }
      ]
    },
    {
      "cell_type": "code",
      "metadata": {
        "id": "NnaH7o9ADhzn"
      },
      "source": [
        "# Descomposición clásica multiplicativa\n",
        "result = sm.tsa.seasonal_decompose(ss[\"afiliados\"], model=\"multiplcative\")\n",
        "result.plot()\n",
        "plt.show()"
      ],
      "execution_count": null,
      "outputs": []
    },
    {
      "cell_type": "code",
      "metadata": {
        "id": "pomyORDUDaW_"
      },
      "source": [
        "# Descomposición STL\n",
        "result = sm.tsa.STL(ss[\"afiliados\"], robust=True).fit() \n",
        "result.plot()\n",
        "plt.show()"
      ],
      "execution_count": null,
      "outputs": []
    },
    {
      "cell_type": "code",
      "metadata": {
        "id": "nI5qr1JNTj_4",
        "outputId": "f6f73c58-c1f3-4839-fc4c-e04cd1869a16",
        "colab": {
          "base_uri": "https://localhost:8080/",
          "height": 291
        }
      },
      "source": [
        "# Gráfico para ver en qué meses hay más y menos afiliados\n",
        "result = sm.tsa.seasonal_decompose(ss[\"afiliados\"], model=\"multiplcative\")\n",
        "fig,ax=plt.subplots()\n",
        "result.seasonal[\"2010\"].plot(ax=ax,color=\"grey\",linewidth=4) # da igual el año que se elija (siempre igual)\n",
        "ax.axhline(1,color=\"black\")\n",
        "plt.show()"
      ],
      "execution_count": 5,
      "outputs": [
        {
          "output_type": "display_data",
          "data": {
            "image/png": "[encoded data removed]",
            "text/plain": [
              "<Figure size 432x288 with 1 Axes>"
            ]
          },
          "metadata": {
            "needs_background": "light"
          }
        }
      ]
    },
    {
      "cell_type": "code",
      "metadata": {
        "id": "x5a-GhKJkV8G"
      },
      "source": [
        "# GRÁFICO MÁS PROFESIONAL\n",
        "# a. Preparamos los datos\n",
        "import numpy as np\n",
        "result = sm.tsa.seasonal_decompose(ss[\"afiliados\"], model=\"multiplcative\")\n",
        "df=(result.seasonal[\"2010\"]-1)*100  # da igual el año que se elija (siempre igual)\n",
        "meses_num=np.arange(0,12)\n",
        "meses=[\"Ene\",\"Feb\",\"Mar\",\"Abr\",\"Mayo\",\"Jun\",\"Jul\",\"Ago\",\"Sep\",\"Oct\",\"Nov\",\"Dec\"]"
      ],
      "execution_count": 15,
      "outputs": []
    },
    {
      "cell_type": "code",
      "metadata": {
        "id": "_Eg7BkFQlAGP",
        "outputId": "7702eab2-76cd-4c63-9a8e-d221e8dab3ac",
        "colab": {
          "base_uri": "https://localhost:8080/",
          "height": 417
        }
      },
      "source": [
        "# a. Creamos el gráfico\n",
        "plt.style.use('seaborn')\n",
        "fig,ax=plt.subplots()\n",
        "df.plot.bar(ax=ax,color=\"tab:red\")\n",
        "ax.set_xticks(meses_num)\n",
        "ax.set_xticklabels(meses, rotation='horizontal')\n",
        "ax.axhline(0,color=\"black\")\n",
        "ax.set_ylabel(\"Variación porcentual respecto\\n a la media anual (%)\")\n",
        "ax.set_xlabel(\"\")\n",
        "ax.set_title(\"Variación mensual en la afiliación a la Seguridad Social\", size=15, pad=25)\n",
        "fig.text(0.5,0.9,\"Porcentajes de variación respecto a la media anual\", size=13,ha=\"center\")\n",
        "fig.text(0.13,0,\"Periodo analizado: 01/2001-10/20.\\nFuente: Seguridad Social. Elaboración propia.\")\n",
        "plt.show()"
      ],
      "execution_count": 32,
      "outputs": [
        {
          "output_type": "display_data",
          "data": {
            "image/png": "[encoded data removed]",
            "text/plain": [
              "<Figure size 576x396 with 1 Axes>"
            ]
          },
          "metadata": {}
        }
      ]
    },
    {
      "cell_type": "code",
      "metadata": {
        "id": "4oRoJCsokX_N",
        "outputId": "cf0e027a-0992-4ec7-ad43-a52918178062",
        "colab": {
          "base_uri": "https://localhost:8080/",
          "height": 454
        }
      },
      "source": [
        "ss\n"
      ],
      "execution_count": 27,
      "outputs": [
        {
          "output_type": "execute_result",
          "data": {
            "text/html": [
              "<div>\n",
              "<style scoped>\n",
              "    .dataframe tbody tr th:only-of-type {\n",
              "        vertical-align: middle;\n",
              "    }\n",
              "\n",
              "    .dataframe tbody tr th {\n",
              "        vertical-align: top;\n",
              "    }\n",
              "\n",
              "    .dataframe thead th {\n",
              "        text-align: right;\n",
              "    }\n",
              "</style>\n",
              "<table border=\"1\" class=\"dataframe\">\n",
              "  <thead>\n",
              "    <tr style=\"text-align: right;\">\n",
              "      <th></th>\n",
              "      <th>Periodo</th>\n",
              "      <th>año</th>\n",
              "      <th>mes</th>\n",
              "      <th>afiliados</th>\n",
              "    </tr>\n",
              "    <tr>\n",
              "      <th>period</th>\n",
              "      <th></th>\n",
              "      <th></th>\n",
              "      <th></th>\n",
              "      <th></th>\n",
              "    </tr>\n",
              "  </thead>\n",
              "  <tbody>\n",
              "    <tr>\n",
              "      <th>2001-01-01</th>\n",
              "      <td>Enero 2001</td>\n",
              "      <td>2001</td>\n",
              "      <td>1</td>\n",
              "      <td>15194299.22</td>\n",
              "    </tr>\n",
              "    <tr>\n",
              "      <th>2001-02-01</th>\n",
              "      <td>Febrero  2001</td>\n",
              "      <td>2001</td>\n",
              "      <td>2</td>\n",
              "      <td>15326583.35</td>\n",
              "    </tr>\n",
              "    <tr>\n",
              "      <th>2001-03-01</th>\n",
              "      <td>Marzo 2001</td>\n",
              "      <td>2001</td>\n",
              "      <td>3</td>\n",
              "      <td>15455386.40</td>\n",
              "    </tr>\n",
              "    <tr>\n",
              "      <th>2001-04-01</th>\n",
              "      <td>Abril 2001</td>\n",
              "      <td>2001</td>\n",
              "      <td>4</td>\n",
              "      <td>15551821.04</td>\n",
              "    </tr>\n",
              "    <tr>\n",
              "      <th>2001-05-01</th>\n",
              "      <td>Mayo 2001</td>\n",
              "      <td>2001</td>\n",
              "      <td>5</td>\n",
              "      <td>15688072.27</td>\n",
              "    </tr>\n",
              "    <tr>\n",
              "      <th>...</th>\n",
              "      <td>...</td>\n",
              "      <td>...</td>\n",
              "      <td>...</td>\n",
              "      <td>...</td>\n",
              "    </tr>\n",
              "    <tr>\n",
              "      <th>2020-06-01</th>\n",
              "      <td>Junio 2020</td>\n",
              "      <td>2020</td>\n",
              "      <td>6</td>\n",
              "      <td>18624336.68</td>\n",
              "    </tr>\n",
              "    <tr>\n",
              "      <th>2020-07-01</th>\n",
              "      <td>Julio 2020</td>\n",
              "      <td>2020</td>\n",
              "      <td>7</td>\n",
              "      <td>18785554.30</td>\n",
              "    </tr>\n",
              "    <tr>\n",
              "      <th>2020-08-01</th>\n",
              "      <td>Agosto 2020</td>\n",
              "      <td>2020</td>\n",
              "      <td>8</td>\n",
              "      <td>18792376.14</td>\n",
              "    </tr>\n",
              "    <tr>\n",
              "      <th>2020-09-01</th>\n",
              "      <td>Septiembre 2020</td>\n",
              "      <td>2020</td>\n",
              "      <td>9</td>\n",
              "      <td>18876389.22</td>\n",
              "    </tr>\n",
              "    <tr>\n",
              "      <th>2020-10-01</th>\n",
              "      <td>Octubre 2020</td>\n",
              "      <td>2020</td>\n",
              "      <td>10</td>\n",
              "      <td>18990363.95</td>\n",
              "    </tr>\n",
              "  </tbody>\n",
              "</table>\n",
              "<p>238 rows × 4 columns</p>\n",
              "</div>"
            ],
            "text/plain": [
              "                    Periodo   año  mes    afiliados\n",
              "period                                             \n",
              "2001-01-01       Enero 2001  2001    1  15194299.22\n",
              "2001-02-01    Febrero  2001  2001    2  15326583.35\n",
              "2001-03-01       Marzo 2001  2001    3  15455386.40\n",
              "2001-04-01       Abril 2001  2001    4  15551821.04\n",
              "2001-05-01        Mayo 2001  2001    5  15688072.27\n",
              "...                     ...   ...  ...          ...\n",
              "2020-06-01       Junio 2020  2020    6  18624336.68\n",
              "2020-07-01       Julio 2020  2020    7  18785554.30\n",
              "2020-08-01      Agosto 2020  2020    8  18792376.14\n",
              "2020-09-01  Septiembre 2020  2020    9  18876389.22\n",
              "2020-10-01     Octubre 2020  2020   10  18990363.95\n",
              "\n",
              "[238 rows x 4 columns]"
            ]
          },
          "metadata": {},
          "execution_count": 27
        }
      ]
    },
    {
      "cell_type": "code",
      "metadata": {
        "id": "TWWS4FAKkgqF"
      },
      "source": [
        ""
      ],
      "execution_count": null,
      "outputs": []
    }
  ]
}
