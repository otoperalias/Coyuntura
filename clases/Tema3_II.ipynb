{
  "nbformat": 4,
  "nbformat_minor": 0,
  "metadata": {
    "colab": {
      "name": "Untitled4.ipynb",
      "provenance": [],
      "include_colab_link": true
    },
    "kernelspec": {
      "name": "python3",
      "display_name": "Python 3"
    },
    "language_info": {
      "name": "python"
    }
  },
  "cells": [
    {
      "cell_type": "markdown",
      "metadata": {
        "id": "view-in-github",
        "colab_type": "text"
      },
      "source": [
        "<a href=\"https://colab.research.google.com/github/otoperalias/Coyuntura/blob/main/clases/Tema3_II.ipynb\" target=\"_parent\"><img src=\"https://colab.research.google.com/assets/colab-badge.svg\" alt=\"Open In Colab\"/></a>"
      ]
    },
    {
      "cell_type": "markdown",
      "metadata": {
        "id": "4FMg_Am45NEk"
      },
      "source": [
        "### Tema 3.2. Desestacionalización (I)\n",
        "Leer las diapositivas disponibles en el Aula Virtual antes de ejecutar este código."
      ]
    },
    {
      "cell_type": "code",
      "source": [
        "#Importamos algunas librerías\n",
        "import matplotlib.pyplot as plt\n",
        "import pandas as pd\n",
        "import statsmodels.api as sm\n",
        "plt.style.use('seaborn-v0_8-whitegrid')"
      ],
      "metadata": {
        "id": "qyvtvW5q9epI"
      },
      "execution_count": null,
      "outputs": []
    },
    {
      "cell_type": "markdown",
      "source": [
        "#### La importancia de desestacionalizar"
      ],
      "metadata": {
        "id": "4A414TTC-UPl"
      }
    },
    {
      "cell_type": "code",
      "source": [
        "# Importamos datos de personas ocupadas (miles) de la CNTR\n",
        "ocup=pd.read_excel(\"https://github.com/otoperalias/Coyuntura/raw/main/clases/datos/T3_ocupados_cntr.xlsx\", index_col=0,parse_dates=True)\n",
        "# Calculamos tasa de variación intertrimestral\n",
        "ocup_tv=(ocup/ocup.shift(1)-1)*100"
      ],
      "metadata": {
        "id": "oD7dzhx39e0t"
      },
      "execution_count": null,
      "outputs": []
    },
    {
      "cell_type": "code",
      "source": [
        "# Evolución de los ocupados (datos brutos)\n",
        "fig,ax=plt.subplots()\n",
        "ax.plot(ocup_tv.loc[\"2005\":\"2016\",'ocup_naj'], lw=2.5, color=\"teal\", alpha=0.7)\n",
        "ax.set_ylabel(\"Tasa var intertrim (%)\\n\")\n",
        "ax.set_xlabel(\"\")\n",
        "ax.set_title(\"Evolución de los ocupados en España\\n\", size=10, weight=\"bold\")\n",
        "ax.axhline(0, color=\"black\")\n",
        "ax.spines[[\"bottom\",\"top\",\"right\",\"left\"]].set_visible(False)\n",
        "ax.grid(axis=\"x\")\n",
        "fig.text(0.1,0,\"Fuente: CNTR (INE). Elaboración propia.\")\n",
        "plt.show()"
      ],
      "metadata": {
        "id": "Uw_X_elq-le5"
      },
      "execution_count": null,
      "outputs": []
    },
    {
      "cell_type": "code",
      "source": [
        "# Evolución de los ocupados (datos ajustados)\n",
        "fig,ax=plt.subplots()\n",
        "ax.plot(ocup_tv.loc[\"2005\":\"2016\",'ocup_aj'], lw=2.5, color=\"teal\", alpha=0.7)\n",
        "ax.set_ylabel(\"Tasa var intertrim (%)\\n\")\n",
        "ax.set_xlabel(\"\")\n",
        "ax.set_title(\"Evolución de los ocupados en España\\n\", weight=\"bold\")\n",
        "ax.axhline(0, color=\"black\")\n",
        "ax.spines[[\"bottom\",\"top\",\"right\",\"left\"]].set_visible(False)\n",
        "ax.grid(axis=\"x\")\n",
        "fig.text(0.1,-0.05,\"Fuente: Datos ajustados por estacionalidad y calendario CNTR (INE).\\nElaboración propia.\")\n",
        "plt.show()"
      ],
      "metadata": {
        "id": "4AJk0ZWOBRtp"
      },
      "execution_count": null,
      "outputs": []
    },
    {
      "cell_type": "markdown",
      "metadata": {
        "id": "2NJvYFrK68Vq"
      },
      "source": [
        "#### Descomposición clásica"
      ]
    },
    {
      "cell_type": "code",
      "metadata": {
        "id": "m0oEspH05Nie"
      },
      "source": [
        "#Importamos datos de pasajeros de aerolíneas (en miles)\n",
        "series = pd.read_csv('https://raw.githubusercontent.com/otoperalias/Coyuntura/main/clases/datos/airline-passengers.csv', header=0, index_col=0, parse_dates=True)\n",
        "series"
      ],
      "execution_count": null,
      "outputs": []
    },
    {
      "cell_type": "code",
      "metadata": {
        "id": "ZePKV6SNIJRz"
      },
      "source": [
        "# Representar la serie\n",
        "series.plot()"
      ],
      "execution_count": null,
      "outputs": []
    },
    {
      "cell_type": "code",
      "metadata": {
        "id": "FWjwvYfu6fwd"
      },
      "source": [
        "# Ejemplo descomposición aditiva\n",
        "result_ad = sm.tsa.seasonal_decompose(series, model=\"additive\")\n",
        "result_ad.plot()\n",
        "plt.show()"
      ],
      "execution_count": null,
      "outputs": []
    },
    {
      "cell_type": "code",
      "source": [
        "# Obtenemos serie ajustada\n",
        "serieaj=series.Passengers-result_ad.seasonal"
      ],
      "metadata": {
        "id": "7pTo5mbvpfYx"
      },
      "execution_count": null,
      "outputs": []
    },
    {
      "cell_type": "code",
      "source": [
        "fig,ax=plt.subplots()\n",
        "ax.plot(series.Passengers)\n",
        "ax.plot(serieaj)\n",
        "plt.show()"
      ],
      "metadata": {
        "id": "zmBZPNb4o_M7"
      },
      "execution_count": null,
      "outputs": []
    },
    {
      "cell_type": "code",
      "metadata": {
        "id": "bMf8LbJf6jO3"
      },
      "source": [
        "# Ejemplo de descomposición multiplicativa\n",
        "result = sm.tsa.seasonal_decompose(series, model='multiplicative')\n",
        "result.plot()\n",
        "plt.show()"
      ],
      "execution_count": null,
      "outputs": []
    },
    {
      "cell_type": "code",
      "source": [
        "# Obtenemos serie ajustada\n",
        "serieajm=series.Passengers/result.seasonal"
      ],
      "metadata": {
        "id": "VfKyAIYcr5xW"
      },
      "execution_count": null,
      "outputs": []
    },
    {
      "cell_type": "code",
      "source": [
        "fig,ax=plt.subplots()\n",
        "ax.plot(series.Passengers)\n",
        "ax.plot(serieajm)\n",
        "plt.show()"
      ],
      "metadata": {
        "id": "RUNEwq3Sr5xd"
      },
      "execution_count": null,
      "outputs": []
    },
    {
      "cell_type": "markdown",
      "metadata": {
        "id": "I5td-MW47DKB"
      },
      "source": [
        "#### Descomposición STL"
      ]
    },
    {
      "cell_type": "code",
      "metadata": {
        "id": "Yh0M1Cgp7F9P"
      },
      "source": [
        "# Echar un vistazo a la página de ayuda:\n",
        "# https://www.statsmodels.org/stable/generated/statsmodels.tsa.seasonal.STL.html#statsmodels.tsa.seasonal.STL\n",
        "\n",
        "#Ahora aplicamos el nuevo método a la serie de pasajeros de aerolíneas\n",
        "result = sm.tsa.STL(series).fit()\n",
        "result.plot()\n",
        "plt.show()"
      ],
      "execution_count": null,
      "outputs": []
    },
    {
      "cell_type": "code",
      "metadata": {
        "id": "FAF5PORi-lM-"
      },
      "source": [
        "# Para reducir la influencia de los valores atípicos, se añade el argumento robust (no siempre es mejor o conveniente):\n",
        "result = sm.tsa.STL(series, robust=True).fit()\n",
        "result.plot()\n",
        "plt.show()"
      ],
      "execution_count": null,
      "outputs": []
    },
    {
      "cell_type": "code",
      "source": [
        "serieaj_stl=series.Passengers-result.seasonal"
      ],
      "metadata": {
        "id": "U6CatVOYuPwg"
      },
      "execution_count": null,
      "outputs": []
    },
    {
      "cell_type": "code",
      "source": [
        "fig,ax=plt.subplots()\n",
        "ax.plot(series.Passengers, label=\"Original\")\n",
        "ax.plot(serieaj_stl,label=\"STL\")\n",
        "ax.plot(serieaj,label=\"Aditivo\")\n",
        "ax.plot(serieajm,label=\"Multiplicativo\")\n",
        "ax.legend()\n",
        "plt.show()"
      ],
      "metadata": {
        "id": "CRWBPTCBufBX"
      },
      "execution_count": null,
      "outputs": []
    },
    {
      "cell_type": "markdown",
      "metadata": {
        "id": "9ogWvcUP_2JF"
      },
      "source": [
        "#### Material adicional:\n",
        "\n",
        "Para profundizar en vuestros conocimientos, echad un vistazo a este gran recurso disponible en la web:  \n",
        "http://www.chadfulton.com/topics/002-seasonal-adjustment.html"
      ]
    },
    {
      "cell_type": "markdown",
      "metadata": {
        "id": "XLZ-iIzJAyln"
      },
      "source": [
        "#### Ejemplo con datos de afiliaciones a la Seguridad Social\n",
        "\n",
        "En este ejercicio, vamos a descargar los datos de afiliados medios a la Seguridad Social para España, todos los periodos, ambos sexos, total edad y \"Todos los regímenes\", \"REGIMEN GENERAL\", \"R.G.(S.E.AGRARIO)\" y \"REG. ESP. AUTONOMOS\". A la hora de guardar en excel, pivotamos la tabla de manera que en las filas aparezcan los periodos y en las columnas las cuatro series de afiliados.\n",
        "\n",
        "Fuente:  \n",
        "https://w6.seg-social.es/PXWeb/pxweb/es/"
      ]
    },
    {
      "cell_type": "code",
      "metadata": {
        "id": "NQ7VfMNbA8Rk",
        "collapsed": true
      },
      "source": [
        "# Importamos los datos\n",
        "ss=pd.read_csv(\"Afiliados medios_20251027-104508.csv\", sep=\";\",skiprows=1 ,encoding=\"latin_1\")\n",
        "ss"
      ],
      "execution_count": null,
      "outputs": []
    },
    {
      "cell_type": "code",
      "source": [
        "ss.columns"
      ],
      "metadata": {
        "id": "zH3EK4q9DWYI"
      },
      "execution_count": null,
      "outputs": []
    },
    {
      "cell_type": "code",
      "source": [
        "# Procesamos los datos\n",
        "# (Podemos reusar (adaptándolo) el código disponible en https://github.com/otoperalias/Coyuntura/blob/main/clases/Tema2_IV.ipynb)\n",
        "\n",
        "# Primero: convertimos la columna en string\n",
        "ss['Periodo']=ss['Periodo'].astype(str)\n",
        "# Segundo: le damos formato\n",
        "ss['Periodo']=ss['Periodo'].str[:4]+\"-\"+ss['Periodo'].str[-2:]\n",
        "# Tercero: convertimos en datetime\n",
        "ss['Periodo']=pd.to_datetime(ss['Periodo'])\n",
        "# Cuarto: convertimos en index.\n",
        "ss.set_index(\"Periodo\", inplace=True)\n",
        "# Renombramos columnas\n",
        "ss.rename(columns={'Total Sexo Total Edad Todos los Regimenes':\"total\",\n",
        "                   'Total Sexo Total Edad REGIMEN GENERAL':\"general\",\n",
        "                   'Total Sexo Total Edad R.G.(S.E.AGRARIO)':\"campo\",\n",
        "                   'Total Sexo Total Edad REG. ESP. AUTONOMOS':\"auto\"},inplace=True)\n"
      ],
      "metadata": {
        "id": "OmPCsyaY0z4D"
      },
      "execution_count": null,
      "outputs": []
    },
    {
      "cell_type": "code",
      "metadata": {
        "id": "3xZmT4SeQjGz"
      },
      "source": [
        "ss.plot()"
      ],
      "execution_count": null,
      "outputs": []
    },
    {
      "cell_type": "code",
      "metadata": {
        "id": "qJKWsAAwDaPA",
        "collapsed": true
      },
      "source": [
        "# Descomposición clásica aditiva\n",
        "result = sm.tsa.seasonal_decompose(ss[\"total\"], model=\"additive\")\n",
        "ss_ad=ss[\"total\"]-result.seasonal\n",
        "result.plot()\n",
        "plt.show()"
      ],
      "execution_count": null,
      "outputs": []
    },
    {
      "cell_type": "code",
      "metadata": {
        "id": "NnaH7o9ADhzn",
        "collapsed": true
      },
      "source": [
        "# Descomposición clásica multiplicativa\n",
        "result = sm.tsa.seasonal_decompose(ss[\"total\"], model=\"multiplcative\")\n",
        "ss_mul=ss[\"total\"]/result.seasonal\n",
        "result.plot()\n",
        "plt.show()"
      ],
      "execution_count": null,
      "outputs": []
    },
    {
      "cell_type": "code",
      "metadata": {
        "id": "pomyORDUDaW_",
        "collapsed": true
      },
      "source": [
        "# Descomposición STL\n",
        "result = sm.tsa.STL(ss[\"total\"], robust=True).fit()\n",
        "ss_stl=ss[\"total\"]-result.seasonal\n",
        "result.plot()\n",
        "plt.show()"
      ],
      "execution_count": null,
      "outputs": []
    },
    {
      "cell_type": "code",
      "source": [
        "# GRÁFICO CON LA SERIE ORIGINAL Y LA AJUSTADA CON LOS TRES MÉTODOS\n",
        "fig,ax=plt.subplots()\n",
        "ax.plot(ss.total, label=\"Original\")\n",
        "ax.plot(ss_ad,label=\"Aditivo\")\n",
        "ax.plot(ss_mul,label=\"Multiplicativo\")\n",
        "ax.plot(ss_stl,label=\"STL\")\n",
        "ax.legend()\n",
        "plt.show()"
      ],
      "metadata": {
        "id": "BUPjIdxc3zZr"
      },
      "execution_count": null,
      "outputs": []
    },
    {
      "cell_type": "code",
      "metadata": {
        "id": "nI5qr1JNTj_4"
      },
      "source": [
        "# Gráfico para ver en qué meses hay más y menos afiliados\n",
        "result = sm.tsa.seasonal_decompose(ss[\"total\"], model=\"multiplcative\")\n",
        "fig,ax=plt.subplots()\n",
        "result.seasonal[\"2020\"].plot(ax=ax,color=\"teal\",linewidth=4, alpha=0.7) # da igual el año que se elija (siempre igual en la desc. clásica)\n",
        "ax.axhline(1,color=\"black\")\n",
        "plt.show()"
      ],
      "execution_count": null,
      "outputs": []
    },
    {
      "cell_type": "code",
      "metadata": {
        "id": "_Eg7BkFQlAGP"
      },
      "source": [
        "# GRÁFICO MÁS PROFESIONAL\n",
        "# a. Preparamos los datos\n",
        "import numpy as np\n",
        "result = sm.tsa.seasonal_decompose(ss[\"general\"], model=\"multiplcative\")\n",
        "df=(result.seasonal[\"2020\"]-1)*100  # da igual el año que se elija (siempre igual en la desc. clásica)\n",
        "meses_num=np.arange(0,12)\n",
        "meses=[\"Ene\",\"Feb\",\"Mar\",\"Abr\",\"Mayo\",\"Jun\",\"Jul\",\"Ago\",\"Sep\",\"Oct\",\"Nov\",\"Dec\"]\n",
        "# a. Creamos el gráfico\n",
        "fig,ax=plt.subplots()\n",
        "df.plot.bar(ax=ax,color=\"tab:red\")\n",
        "ax.set_xticks(meses_num)\n",
        "ax.set_xticklabels(meses, rotation='horizontal')\n",
        "ax.axhline(0,color=\"black\")\n",
        "ax.set_ylabel(\"Variación porcentual respecto\\n a la media anual (%)\")\n",
        "ax.set_xlabel(\"\")\n",
        "ax.set_title(\"Variación mensual en la afiliación a la Seguridad Social\", size=14, pad=35)\n",
        "fig.text(0.5,0.92,\"Variación respecto a la media anual\", size=12,ha=\"center\")\n",
        "fig.text(0.13,-0.05,\"Periodo analizado: 01/2012-09/25.\\nFuente: Seguridad Social. Elaboración propia.\")\n",
        "plt.show()"
      ],
      "execution_count": null,
      "outputs": []
    }
  ]
}