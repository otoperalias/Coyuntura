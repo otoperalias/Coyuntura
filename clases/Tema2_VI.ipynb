{
  "nbformat": 4,
  "nbformat_minor": 0,
  "metadata": {
    "kernelspec": {
      "display_name": "Python 3",
      "language": "python",
      "name": "python3"
    },
    "language_info": {
      "codemirror_mode": {
        "name": "ipython",
        "version": 3
      },
      "file_extension": ".py",
      "mimetype": "text/x-python",
      "name": "python",
      "nbconvert_exporter": "python",
      "pygments_lexer": "ipython3",
      "version": "3.8.5"
    },
    "colab": {
      "name": "Workshop-Visualizacion.ipynb",
      "provenance": [],
      "toc_visible": true,
      "include_colab_link": true
    }
  },
  "cells": [
    {
      "cell_type": "markdown",
      "metadata": {
        "id": "view-in-github",
        "colab_type": "text"
      },
      "source": [
        "<a href=\"https://colab.research.google.com/github/otoperalias/Coyuntura/blob/main/clases/Tema2_VI.ipynb\" target=\"_parent\"><img src=\"https://colab.research.google.com/assets/colab-badge.svg\" alt=\"Open In Colab\"/></a>"
      ]
    },
    {
      "cell_type": "markdown",
      "metadata": {
        "id": "_s_f1b3Ksbt0"
      },
      "source": [
        "## Visualización de datos: Creando gráficos de calidad\n",
        "\n",
        "### Indicadores principales de coyuntura de los países de la Unión Europea\n",
        "\n",
        "En este notebook vamos a descargar de [EUROSTAT](https://ec.europa.eu/eurostat/web/main/data/database) datos de PIB y paro para los países de la UE y a representarlos en gráficos de calidad.\n",
        "\n",
        "*Daniel Oto-Peralías*"
      ]
    },
    {
      "cell_type": "markdown",
      "metadata": {
        "id": "H0_yPfqQtRT3"
      },
      "source": [
        "### Importar librerías"
      ]
    },
    {
      "cell_type": "code",
      "metadata": {
        "id": "5tYx0AUjsbt4"
      },
      "source": [
        "# IMPORTAMOS LIBRERIAS\n",
        "import pandas as pd\n",
        "pd.set_option('display.max_row', 100)\n",
        "pd.set_option('display.max_columns', 30)\n",
        "import matplotlib.pyplot as plt"
      ],
      "execution_count": null,
      "outputs": []
    },
    {
      "cell_type": "markdown",
      "source": [
        "### Importamos y procesamos los datos"
      ],
      "metadata": {
        "id": "gwflwfsSxmgT"
      }
    },
    {
      "cell_type": "markdown",
      "source": [
        "#### PIB en volúmen"
      ],
      "metadata": {
        "id": "BYFerTeexs1z"
      }
    },
    {
      "cell_type": "code",
      "metadata": {
        "id": "zqk5h9TMsbt5"
      },
      "source": [
        "# PIB en volúmen (Gross domestic product, volumes (teina011))\n",
        "link_pib=\"https://ec.europa.eu/eurostat/estat-navtree-portlet-prod/BulkDownloadListing?file=data/teina011.tsv.gz\"\n",
        "pib = pd.read_csv(link_pib, compression='gzip', header=0, sep='\\t')\n",
        "pib # En el excel de EUROSTAT podemos comprobar que son tablas equivalentes."
      ],
      "execution_count": null,
      "outputs": []
    },
    {
      "cell_type": "markdown",
      "source": [
        "Vamos a hacer el siguiente procesamiento a los datos:\n",
        "1. Dividimos la columna ```na_item,unit,geo\\time``` en tres columnas.\n",
        "2. Seleccionamos solo la unidad \"PCH_Q1_SCA\" que significa \"Percentage change, Annual variation rate, Seasonally and Calendar Adjusted.\n",
        "3. Borramos los valores \"p\" y los \":\".\n",
        "4. Transponemos la tabla.\n",
        "5. Usamos los nombres de países como nombre de las columnas.\n",
        "6. Convertimos las columnas en formato numérico.\n",
        "7. Establecemos el index de la tabla como fecha.\n"
      ],
      "metadata": {
        "id": "qB11mw2axzjD"
      }
    },
    {
      "cell_type": "code",
      "source": [
        "# 1. Dividimos la columna en tres.\n",
        "# Hay que separar por la coma=> Es fácil porque las posiciones de las comas son fijas en este caso.\n",
        "pib['na_item']=pib['na_item,unit,geo\\\\time'].str[:4] # Nótese el uso de la doble barra (!)\n",
        "pib['unit']=pib['na_item,unit,geo\\\\time'].str[5:15]\n",
        "pib['geo']=pib['na_item,unit,geo\\\\time'].str[16:]\n",
        "pib.drop(columns='na_item,unit,geo\\\\time',inplace=True)\n",
        "pib"
      ],
      "metadata": {
        "id": "oFEZFssM70h-"
      },
      "execution_count": null,
      "outputs": []
    },
    {
      "cell_type": "code",
      "source": [
        "# 2. Seleccionamos solo la variable PCH_Q4_SCA\n",
        "pib=pib.loc[pib['unit']==\"PCH_Q4_SCA\"]\n",
        "pib"
      ],
      "metadata": {
        "id": "CifE_08CA9uu"
      },
      "execution_count": null,
      "outputs": []
    },
    {
      "cell_type": "code",
      "source": [
        "# 3. Borramos los valores p y los :\n",
        "for col in pib.columns:\n",
        "  pib[col]=pib[col].replace(\"p\",\"\",regex=True) # Dejamos espacio adelante porque dicho espacio existe en los datos.\n",
        "  pib[col]=pib[col].replace(\":\",\"\",regex=True)\n",
        "  pib[col]=pib[col].replace(\" \",\"\",regex=True) # por si hay algún espacio\n",
        "pib"
      ],
      "metadata": {
        "id": "D23bmhZk9RXt"
      },
      "execution_count": null,
      "outputs": []
    },
    {
      "cell_type": "code",
      "source": [
        "# 4. Transponemos la tabla\n",
        "pib=pib.transpose()\n",
        "pib"
      ],
      "metadata": {
        "id": "5-KBqv8tBTeI"
      },
      "execution_count": null,
      "outputs": []
    },
    {
      "cell_type": "code",
      "source": [
        "# 5. Usamos la fila de nombres de países como nombres de las columnas\n",
        "nombre_col = pib.iloc[-1] # Los nombres de países están en la última fila\n",
        "pib = pib.iloc[:-3] # aplicamos un filtrado para quitar las tres últimas filas\n",
        "pib.columns = nombre_col # Establecemos el nuevo nombre de las columnas\n",
        "pib"
      ],
      "metadata": {
        "id": "65xqIhHAKBde"
      },
      "execution_count": null,
      "outputs": []
    },
    {
      "cell_type": "code",
      "source": [
        "# 6. Convertimos las columnas en formato numérico.\n",
        "for col in pib.columns:\n",
        "  pib[col]=pd.to_numeric(pib[col], errors='coerce')\n",
        "pib"
      ],
      "metadata": {
        "id": "MCPeOccO-si8"
      },
      "execution_count": null,
      "outputs": []
    },
    {
      "cell_type": "code",
      "source": [
        "#7. Establecemos el index de la tabla como fecha\n",
        "pib.index=pib.index.str.replace(\" \",\"\",regex=True)\n",
        "pib.index=pd.to_datetime(pib.index)\n",
        "pib"
      ],
      "metadata": {
        "id": "iD_mnWWHNfNl"
      },
      "execution_count": null,
      "outputs": []
    },
    {
      "cell_type": "markdown",
      "source": [
        "#### Tasa de desempleo"
      ],
      "metadata": {
        "id": "A4r6jQmFxgDk"
      }
    },
    {
      "cell_type": "code",
      "source": [
        "# Tasa de desempleo (Total unemployment rate (tps00203))\n",
        "link_des=\"https://ec.europa.eu/eurostat/estat-navtree-portlet-prod/BulkDownloadListing?file=data/une_rt_q.tsv.gz\"\n",
        "tp = pd.read_csv(link_des, compression='gzip', header=0, sep='\\t')\n",
        "tp"
      ],
      "metadata": {
        "id": "HYzEFe9RwLms"
      },
      "execution_count": null,
      "outputs": []
    },
    {
      "cell_type": "code",
      "source": [
        "# 1. Dividimos la columna en tres.\n",
        "# Hay que separar por la coma=> Ojo, ahora es un poco más difícil\n",
        "columna='s_adj,age,unit,sex,geo\\\\time'\n",
        "tp['s_adj']=tp[columna].str.split(\",\").str[0]\n",
        "tp['age']=tp[columna].str.split(\",\").str[1]\n",
        "tp['unit']=tp[columna].str.split(\",\").str[2]\n",
        "tp['sex']=tp[columna].str.split(\",\").str[3]\n",
        "tp['geo']=tp[columna].str.split(\",\").str[4]\n",
        "tp.drop(columns=columna,inplace=True)\n",
        "tp"
      ],
      "metadata": {
        "id": "cxHRJyXQUVcV"
      },
      "execution_count": null,
      "outputs": []
    },
    {
      "cell_type": "code",
      "source": [
        "# Exploramos un poco los datos\n",
        "tp.unit.value_counts()\n"
      ],
      "metadata": {
        "id": "-Z24p2ZbXSpO"
      },
      "execution_count": null,
      "outputs": []
    },
    {
      "cell_type": "code",
      "source": [
        "# 2. Seleccionamos SA, Y15-74, PC_ACT, T\n",
        "tp=tp.loc[(tp['s_adj']==\"SA\") &\n",
        "          (tp['age']==\"Y15-74\") &\n",
        "          (tp['unit']==\"PC_ACT\") &\n",
        "          (tp['sex']==\"T\")]\n",
        "tp"
      ],
      "metadata": {
        "id": "rZMrY7xAVUjx"
      },
      "execution_count": null,
      "outputs": []
    },
    {
      "cell_type": "code",
      "source": [
        "# 3. Borramos los valores p y los :\n",
        "for col in tp.columns:\n",
        "  for c in [\"p\",\"d\",\"u\",\"b\",\":\",\" \"]:\n",
        "    tp[col]=tp[col].replace(c,\"\",regex=True)\n",
        "tp"
      ],
      "metadata": {
        "id": "mIOb9LdS92Z2"
      },
      "execution_count": null,
      "outputs": []
    },
    {
      "cell_type": "code",
      "source": [
        "# 4. Transponemos la tabla\n",
        "tp=tp.transpose()\n",
        "tp"
      ],
      "metadata": {
        "id": "RslZJHO5-AbJ"
      },
      "execution_count": null,
      "outputs": []
    },
    {
      "cell_type": "code",
      "source": [
        "# 5. Usamos la fila de nombres de países como nombres de las columnas\n",
        "nombre_col = tp.iloc[-1] # Los nombres de países están en la última fila\n",
        "tp = tp.iloc[:-5] # aplicamos un filtrado para quitar las tres últimas filas\n",
        "tp.columns = nombre_col # Establecemos el nuevo nombre de las columnas\n",
        "\n",
        "# 6. Convertimos las columnas en formato numérico.\n",
        "for col in tp.columns:\n",
        "  tp[col]=pd.to_numeric(tp[col], errors='coerce')\n",
        "\n",
        "#7. Establecemos el index de la tabla como fecha\n",
        "tp.index=tp.index.str.replace(\" \",\"\",regex=True)\n",
        "tp.index=pd.to_datetime(tp.index)\n",
        "tp.sort_index(inplace=True)\n",
        "\n",
        "#8. Filtramos por fecha, con fecha inicio igual a tabla del PIB\n",
        "tp=tp.loc[\"2020-07\":]\n",
        "\n",
        "tp"
      ],
      "metadata": {
        "id": "XjHW8yYHYv9B"
      },
      "execution_count": null,
      "outputs": []
    },
    {
      "cell_type": "markdown",
      "metadata": {
        "id": "pILyeNdD1w3Y"
      },
      "source": [
        "### Gráficos exploratorios: dibujamos directamente desde **pandas**\n",
        "\n",
        "* Importante: esto solo vale como gráficos exploratorios para uso personal.\n",
        "* Para otros propósitos, hay que preparar gráficos de más calidad."
      ]
    },
    {
      "cell_type": "code",
      "metadata": {
        "collapsed": true,
        "id": "dwV_C_eMsbt9"
      },
      "source": [
        "# Tasa de variación del PIB para una selección de países\n",
        "paises=['DE','ES','IT','FR']\n",
        "pib[paises].plot(title=\"Variación interanual del PIB\")\n",
        "plt.show()"
      ],
      "execution_count": null,
      "outputs": []
    },
    {
      "cell_type": "code",
      "metadata": {
        "collapsed": true,
        "id": "_NjW7NjIsbt-"
      },
      "source": [
        "# Grafico de barras para media del periodo\n",
        "pib_med=pib.mean()\n",
        "pib_med[paises].plot(kind=\"bar\",title=\"Crecimiento trimestral medio desde T3 2020\")\n",
        "plt.show()"
      ],
      "execution_count": null,
      "outputs": []
    },
    {
      "cell_type": "code",
      "metadata": {
        "collapsed": true,
        "id": "WuWus2EHsbt-"
      },
      "source": [
        "# Tasa de desempleo\n",
        "tp[paises].plot(title=\"Tasa de desempleo\")\n",
        "plt.show()"
      ],
      "execution_count": null,
      "outputs": []
    },
    {
      "cell_type": "code",
      "source": [
        "# Grafico de barras para media del periodo\n",
        "tp_med=tp.mean()\n",
        "tp_med[paises].plot(kind=\"bar\",title=\"Tasa de paro promedio desde T3 2020\")\n",
        "plt.show()"
      ],
      "metadata": {
        "id": "E_F8Uw__DAd0"
      },
      "execution_count": null,
      "outputs": []
    },
    {
      "cell_type": "markdown",
      "metadata": {
        "id": "LYfBIH19sbt_"
      },
      "source": [
        "### Gráficos de calidad (para informes, trabajos, artículos, etc.)"
      ]
    },
    {
      "cell_type": "markdown",
      "metadata": {
        "id": "JWHvgGE42nWC"
      },
      "source": [
        "Matplotlib permite usar diferentes estilos predeterminados:\n",
        "https://matplotlib.org/3.2.1/gallery/style_sheets/style_sheets_reference.html\n",
        "\n",
        "Echamos un vistazo y elegimos uno que nos guste.\n"
      ]
    },
    {
      "cell_type": "code",
      "metadata": {
        "id": "kQwGkM-osbt_"
      },
      "source": [
        "plt.style.use('seaborn-v0_8')"
      ],
      "execution_count": null,
      "outputs": []
    },
    {
      "cell_type": "markdown",
      "metadata": {
        "id": "KReF-QmV2-g4"
      },
      "source": [
        "#### Figura 1: Tasa de variación intertrimestral del PIB en España"
      ]
    },
    {
      "cell_type": "code",
      "metadata": {
        "collapsed": true,
        "id": "3zIBCZ23sbuA"
      },
      "source": [
        "fig, ax=plt.subplots(figsize=(8,5),dpi=100)  # Se genera la figura y los axes (gráficos)\n",
        "ax.plot(pib['ES']) # Equivalente: pib['ES'].plot(ax=ax)\n",
        "ax.set_ylabel(\"%\") # Nombre del eje y\n",
        "ax.set_xlabel(\"\") # Nombre del eje x\n",
        "ax.axhline(y=0, linewidth=0.75, color=\"black\") # Añado una línea horizonal para resaltar el valor de 0.\n",
        "ax.set_title(\"Tasa de variación interanual del PIB en España\", size=14, pad=15) # Título del gráfico\n",
        "fig.text(0.11,0,\"PIB en volumen. Ajustado por estacionalidad y calendario.\\nFuente: EUROSTAT. Elaboración propia\", ha=\"left\",fontsize=10 ) # Nota al pie. El argumento ha=horizontalalignment.\n",
        "plt.show()"
      ],
      "execution_count": null,
      "outputs": []
    },
    {
      "cell_type": "markdown",
      "source": [
        "#### Figura 2: Tasa de variación intertrimestral del PIB en varios países"
      ],
      "metadata": {
        "id": "2x5sGOlnh0cn"
      }
    },
    {
      "cell_type": "code",
      "source": [
        "fig, ax=plt.subplots(figsize=(8,5),dpi=100)\n",
        "ax.plot(pib['ES'],label=\"España\") # Los países se introducen uno a uno, indicando la etiqueta que queremos que aparezca en la leyenda.\n",
        "ax.plot(pib['IT'],label=\"Italia\")\n",
        "ax.plot(pib['DE'],label=\"Alemania\")\n",
        "ax.plot(pib['FR'],label=\"Francia\")\n",
        "ax.set_ylabel(\"%\")\n",
        "ax.set_xlabel(\"\")\n",
        "ax.axhline(y=0, linewidth=0.75, color=\"black\")\n",
        "ax.set_title(\"Tasa de variación interanual del PIB\", size=14, pad=15)\n",
        "ax.legend()\n",
        "fig.text(0.11,0,\"PIB en volumen. Ajustado por estacionalidad y calendario.\\nFuente: EUROSTAT. Elaboración propia\", ha=\"left\",fontsize=10 ) # ha=horizontalalignment\n",
        "plt.show()"
      ],
      "metadata": {
        "id": "NWTedbonhzWH"
      },
      "execution_count": null,
      "outputs": []
    },
    {
      "cell_type": "markdown",
      "metadata": {
        "id": "2mq0a-yO4Ali"
      },
      "source": [
        "#### Figura 2: Tasa de crecimiento medio del PIB desde T3 2020"
      ]
    },
    {
      "cell_type": "code",
      "metadata": {
        "collapsed": true,
        "id": "OlSlpbODsbuA"
      },
      "source": [
        "fig,ax=plt.subplots(figsize=(8,4),dpi=100)\n",
        "pib_med[paises].plot.bar(xlabel=\"\", ax=ax) # Indicamos que queremos un gráfico de barras.\n",
        "ax.set_xticks([0,1,2,3]) # Indicamos la numeración (valores) de los ticks del eje x. Este es un paso previo para indicar sus respectivas etiquetas (labels)\n",
        "ax.set_xticklabels([\"Alemania\", \"España\",\"Italia\",\"Francia\"], rotation='horizontal') # Se indican las etiquetas de cada barra del gráfico, siguiendo el orden anterior.\n",
        "ax.set_title(\"Tasa de crecimiento medio del PIB interanual desde el \\n tercer trimestre de 2020\", size=14, pad=15)\n",
        "fig.text(0.12,-0.05,\"PIB en volumen. Ajustado por estacionalidad y calendario.\\nFuente: EUROSTAT. Elaboración propia\", ha=\"left\",fontsize=10 ) # ha=horizontalalignment\n",
        "plt.show()"
      ],
      "execution_count": null,
      "outputs": []
    },
    {
      "cell_type": "markdown",
      "metadata": {
        "id": "f5gZ6p1F4hjf"
      },
      "source": [
        "#### Figura 3: Tasa de crecimiento del PIB y tasa de desempleo"
      ]
    },
    {
      "cell_type": "code",
      "metadata": {
        "collapsed": true,
        "id": "-FqqqqUusbuA"
      },
      "source": [
        "fig, (ax1,ax2)=plt.subplots(2,1,sharex=True,figsize=(7,7),dpi=100)\n",
        "# Axes ax1\n",
        "ax1.plot(pib['ES'],label=\"España\")\n",
        "ax1.plot(pib['IT'],label=\"Italia\")\n",
        "ax1.plot(pib['DE'],label=\"Alemania\")\n",
        "ax1.plot(pib['FR'],label=\"Francia\")\n",
        "ax1.set_ylabel(\"%\")\n",
        "ax1.axhline(y=0, linewidth=0.75, color=\"black\")\n",
        "ax1.set_title(\"Tasa variación interanual del PIB\")\n",
        "ax1.legend()\n",
        "# Axes ax2\n",
        "ax2.plot(tp['ES'],label=\"España\")\n",
        "ax2.plot(tp['IT'],label=\"Italia\")\n",
        "ax2.plot(tp['DE'],label=\"Alemania\")\n",
        "ax2.plot(tp['FR'],label=\"Francia\")\n",
        "ax2.set_ylabel(\"%\")\n",
        "ax2.set_title(\"Tasa de paro\")\n",
        "ax2.set_xlabel(\"\")\n",
        "# Toda la figura\n",
        "fig.suptitle(\"Coyuntura económica en España, Italia, Alemania y Francia\", size=14)\n",
        "fig.text(0.11,0,\"PIB en volumen. Ajustado por estacionalidad y calendario.\\nTasa de desempleo. Fuente: EUROSTAT. Elaboración propia\", ha=\"left\",fontsize=10 ) # ha=horizontalalignment\n",
        "plt.show()"
      ],
      "execution_count": null,
      "outputs": []
    },
    {
      "cell_type": "markdown",
      "source": [
        "#### Manipulando las etiquetas del eje x\n",
        "\n",
        "Por defecto, las etiquetas del eje x suelen salir bien al crear gráficos, pero en otras ocasiones no, como en el siguiente gráfico"
      ],
      "metadata": {
        "id": "qDIz8x65TDf2"
      }
    },
    {
      "cell_type": "code",
      "source": [
        "fig, (ax1,ax2)=plt.subplots(1,2,figsize=(10,4),dpi=100)\n",
        "# Axes ax1\n",
        "ax1.plot(pib['ES'],label=\"España\")\n",
        "ax1.plot(pib['IT'],label=\"Italia\")\n",
        "ax1.set_ylabel(\"%\")\n",
        "ax1.axhline(y=0, linewidth=0.75, color=\"black\")\n",
        "ax1.set_title(\"Tasa de variación interanual del PIB\")\n",
        "# Axes ax2\n",
        "ax2.plot(tp['ES'],label=\"España\")\n",
        "ax2.plot(tp['IT'],label=\"Italia\")\n",
        "ax2.set_ylabel(\"%\")\n",
        "ax2.set_title(\"Tasa de paro\")\n",
        "ax2.set_xlabel(\"\")\n",
        "ax2.legend()\n",
        "# Toda la figura\n",
        "fig.suptitle(\"\\nCoyuntura económica en España e Italia\\n\", size=14, y=1.05)  # el argumento \"y\" es la coordenada y donde debe aparecer el titulo.\n",
        "fig.text(0.11,-0.05,\"PIB en volumen. Ajustado por estacionalidad y calendario.\\nTasa de desempleo. Fuente: EUROSTAT. Elaboración propia\", ha=\"left\",fontsize=10 ) # ha=horizontalalignment\n",
        "plt.show()"
      ],
      "metadata": {
        "id": "jSJJJppWOYUL"
      },
      "execution_count": null,
      "outputs": []
    },
    {
      "cell_type": "markdown",
      "source": [
        "**Hay varias maneras de solucionar esto. Tres posibilidades son las siguientes:**   \n",
        "1. Rotando las etiquetas. Esto por sí solo puede ser suficiente, o puede usarse en combinación con las dos opciones siguientes. Por ejemplo:  \n",
        "```\n",
        "ax1.set_xticklabels(pib.index.strftime('%Y-%m'), rotation=45)\n",
        "```\n",
        "2. Estableciendo la frecuencia en la que deben aparecer las etiquetas y su formato. Por ejemplo:\n",
        "```\n",
        "ax1.xaxis.set_major_locator(mdates.MonthLocator(bymonth=(1,6)))\n",
        "ax1.xaxis.set_major_formatter(mdates.ConciseDateFormatter(ax1.xaxis.get_major_locator()))\n",
        "```\n",
        "3. Manualmente: creando una columna específica que se ajuste a nuestras necesidades y usando dicha columna como etiquetas. Por ej.:\n",
        "```\n",
        "# Primero se crea la columna\n",
        "pib[\"años\"]=pib.index.astype(str).str[2:4]\n",
        "pib[\"meses\"]=pib.index.astype(str).str[5:7]\n",
        "pib[\"ejex_etiq\"]=\"\"\n",
        "pib.loc[(pib['meses']==\"01\"), \"ejex_etiq\"]=\"1ºTr. \"+pib[\"años\"]\n",
        "pib.loc[(pib['meses']==\"07\"), \"ejex_etiq\"]=\"3ºTr. \"+pib[\"años\"]\n",
        "```\n",
        "```\n",
        "#Y luego se añade estas dos líneas en el código de la figura:\n",
        "ax1.set_xticks(pib.index)\n",
        "ax1.set_xticklabels(pib[\"ejex_etiq\"])\n",
        "```\n",
        "\n",
        "Vamos a ver la implementación de estos ejemplos."
      ],
      "metadata": {
        "id": "10sEqWJDaFBZ"
      }
    },
    {
      "cell_type": "code",
      "source": [
        "# Alternativa 1: rotamos las etiquetas\n",
        "\n",
        "fig, (ax1,ax2)=plt.subplots(1,2,figsize=(10,4),dpi=100)\n",
        "# Axes ax1\n",
        "ax1.plot(pib['ES'],label=\"España\")\n",
        "ax1.plot(pib['IT'],label=\"Italia\")\n",
        "ax1.set_ylabel(\"%\")\n",
        "ax1.axhline(y=0, linewidth=0.75, color=\"black\")\n",
        "ax1.set_title(\"Tasa de variación interanual del PIB\")\n",
        "ax1.set_xticklabels(pib.index.strftime('%Y-%m'), rotation=45) # rotamos las etiquetas\n",
        "# Axes ax2\n",
        "ax2.plot(tp['ES'],label=\"España\")\n",
        "ax2.plot(tp['IT'],label=\"Italia\")\n",
        "ax2.set_ylabel(\"%\")\n",
        "ax2.set_title(\"Tasa de paro\")\n",
        "ax2.set_xlabel(\"\")\n",
        "ax2.set_xticklabels(tp.index.strftime('%Y-%m'), rotation=45) # rotamos las etiquetas\n",
        "ax2.legend()\n",
        "# Toda la figura\n",
        "fig.suptitle(\"\\nCoyuntura económica en España e Italia\\n\", size=14, y=1.05)  # el argumento \"y\" es la coordenada y donde debe aparecer el titulo.\n",
        "fig.text(0.11,-0.13,\"PIB en volumen. Ajustado por estacionalidad y calendario.\\nTasa de desempleo. Fuente: EUROSTAT. Elaboración propia\", ha=\"left\",fontsize=10 ) # ha=horizontalalignment\n",
        "plt.show()"
      ],
      "metadata": {
        "id": "7s0RCUjNc57X"
      },
      "execution_count": null,
      "outputs": []
    },
    {
      "cell_type": "code",
      "source": [
        "# Alternativa 2: Establecemos la frecuencia en la que deben aparecer las etiquetas y su formato.\n",
        "\n",
        "fig, (ax1,ax2)=plt.subplots(1,2,figsize=(10,4),dpi=100)\n",
        "# Axes ax1\n",
        "ax1.plot(pib['ES'],label=\"España\")\n",
        "ax1.plot(pib['IT'],label=\"Italia\")\n",
        "ax1.set_ylabel(\"%\")\n",
        "ax1.axhline(y=0, linewidth=0.75, color=\"black\")\n",
        "ax1.set_title(\"Tasa de variación interanual del PIB\")\n",
        "ax1.xaxis.set_major_locator(mdates.MonthLocator(bymonth=(1,7)))  # Frecuencia etiquetas: cada seis meses\n",
        "ax1.xaxis.set_major_formatter(mdates.ConciseDateFormatter(ax1.xaxis.get_major_locator()))  # Formato etiquetas\n",
        "# Axes ax2\n",
        "ax2.plot(tp['ES'],label=\"España\")\n",
        "ax2.plot(tp['IT'],label=\"Italia\")\n",
        "ax2.set_ylabel(\"%\")\n",
        "ax2.set_title(\"Tasa de paro\")\n",
        "ax2.set_xlabel(\"\")\n",
        "ax2.xaxis.set_major_locator(mdates.MonthLocator(bymonth=(1,7)))  # Frecuencia etiquetas: cada seis meses\n",
        "ax2.xaxis.set_major_formatter(mdates.ConciseDateFormatter(ax1.xaxis.get_major_locator()))  # Formato etiquetas\n",
        "ax2.legend()\n",
        "# Toda la figura\n",
        "fig.suptitle(\"\\nCoyuntura económica en España e Italia\\n\", size=14, y=1.05)  # el argumento \"y\" es la coordenada y donde debe aparecer el titulo.\n",
        "fig.text(0.11,-0.05,\"PIB en volumen. Ajustado por estacionalidad y calendario.\\nTasa de desempleo. Fuente: EUROSTAT. Elaboración propia\", ha=\"left\",fontsize=10 ) # ha=horizontalalignment\n",
        "plt.show()"
      ],
      "metadata": {
        "id": "VGiXPPU6dj9t"
      },
      "execution_count": null,
      "outputs": []
    },
    {
      "cell_type": "code",
      "source": [
        "# Alternativa 3: Manualmente (combinada con rotación)\n",
        "\n",
        "# Primero se crea la columna\n",
        "pib[\"años\"]=pib.index.astype(str).str[2:4]\n",
        "pib[\"meses\"]=pib.index.astype(str).str[5:7]\n",
        "pib[\"ejex_etiq\"]=\"\"\n",
        "pib.loc[(pib['meses']==\"01\"), \"ejex_etiq\"]=\"1ºTr. \"+pib[\"años\"]\n",
        "pib.loc[(pib['meses']==\"07\"), \"ejex_etiq\"]=\"3ºTr. \"+pib[\"años\"]\n",
        "\n",
        "fig, (ax1,ax2)=plt.subplots(1,2,figsize=(10,4),dpi=100)\n",
        "# Axes ax1\n",
        "ax1.plot(pib['ES'],label=\"España\")\n",
        "ax1.plot(pib['IT'],label=\"Italia\")\n",
        "ax1.set_ylabel(\"%\")\n",
        "ax1.axhline(y=0, linewidth=0.75, color=\"black\")\n",
        "ax1.set_title(\"Tasa de variación interanual del PIB\")\n",
        "ax1.set_xticks(pib.index) # Valores a los que se aplican las etiquetas\n",
        "ax1.set_xticklabels(pib[\"ejex_etiq\"], rotation=45)   # Etiquetas a usar + rotación\n",
        "# Axes ax2\n",
        "ax2.plot(tp['ES'],label=\"España\")\n",
        "ax2.plot(tp['IT'],label=\"Italia\")\n",
        "ax2.set_ylabel(\"%\")\n",
        "ax2.set_title(\"Tasa de paro\")\n",
        "ax2.set_xlabel(\"\")\n",
        "ax2.set_xticks(pib.index)  # Como las fechas son las mismas, se puede usar la misma serie creada\n",
        "ax2.set_xticklabels(pib[\"ejex_etiq\"], rotation=45)  # Etiquetas a usar + rotación\n",
        "ax2.legend()\n",
        "# Toda la figura\n",
        "fig.suptitle(\"\\nCoyuntura económica en España e Italia\\n\", size=14, y=1.08)  # el argumento \"y\" es la coordenada y donde debe aparecer el titulo.\n",
        "fig.text(0.11,-0.13,\"PIB en volumen. Ajustado por estacionalidad y calendario.\\nTasa de desempleo. Fuente: EUROSTAT. Elaboración propia\", ha=\"left\",fontsize=10 ) # ha=horizontalalignment\n",
        "plt.show()"
      ],
      "metadata": {
        "id": "1CibZZ4ceWO3"
      },
      "execution_count": null,
      "outputs": []
    },
    {
      "cell_type": "markdown",
      "source": [
        "#### Figura 4: Tasa de crecimiento del PIB y tasa de desempleo (Figura de cuatro gráficos)"
      ],
      "metadata": {
        "id": "djPDcMcqjAG-"
      }
    },
    {
      "cell_type": "code",
      "source": [
        "fig, ((ax1,ax2),(ax3,ax4))=plt.subplots(2,2,figsize=(10,8),dpi=100)\n",
        "# Axes ax1\n",
        "ax1.plot(pib['ES'],label=\"España\")\n",
        "ax1.plot(pib['IT'],label=\"Italia\")\n",
        "ax1.plot(pib['DE'],label=\"Alemania\")\n",
        "ax1.plot(pib['FR'],label=\"Francia\")\n",
        "ax1.set_ylabel(\"%\")\n",
        "ax1.axhline(y=0, linewidth=0.75, color=\"black\")\n",
        "ax1.set_title(\"Tasa de variación interanual del PIB\")\n",
        "ax1.set_xticklabels(pib.index.strftime('%Y-%m'), rotation=45) # Esta línea es para rotar las etiquetas del eje x.\n",
        "# Axes ax2\n",
        "ax2.plot(tp['ES'],label=\"España\")\n",
        "ax2.plot(tp['IT'],label=\"Italia\")\n",
        "ax2.plot(tp['DE'],label=\"Alemania\")\n",
        "ax2.plot(tp['FR'],label=\"Francia\")\n",
        "ax2.set_ylabel(\"%\")\n",
        "ax2.set_title(\"Tasa de paro\")\n",
        "ax2.set_xlabel(\"\")\n",
        "ax2.legend(bbox_to_anchor=(1.4,0.6))\n",
        "ax2.set_xticklabels(pib.index.strftime('%Y-%m'), rotation=45) # Esta línea es para rotar las etiquetas del eje x.\n",
        "# Axes ax3\n",
        "pib_med[paises].plot.bar(xlabel=\"\", ax=ax3)\n",
        "ax3.set_xticks([0,1,2,3])\n",
        "ax3.set_xticklabels([\"Alemania\", \"España\",\"Italia\",\"Francia\"], rotation='horizontal')\n",
        "ax3.set_title(\"Promedio desde el tercer trimestre de 2020\", size=10)\n",
        "# Axes ax3\n",
        "tp_med[paises].plot.bar(xlabel=\"\", ax=ax4)\n",
        "ax4.set_xticks([0,1,2,3])\n",
        "ax4.set_xticklabels([\"Alemania\", \"España\",\"Italia\",\"Francia\"], rotation='horizontal')\n",
        "ax4.set_title(\"Promedio desde el tercer trimestre de 2020\", size=10)\n",
        "# Toda la figura\n",
        "plt.subplots_adjust(hspace=0.4)\n",
        "fig.suptitle(\"\\nCoyuntura económica en España, Italia, Alemania y Francia\", size=14)\n",
        "fig.text(0.11,0.02,\"PIB en volumen. Ajustado por estacionalidad y calendario.\\nTasa de desempleo. Fuente: EUROSTAT. Elaboración propia\", ha=\"left\",fontsize=10 ) # ha=horizontalalignment\n",
        "plt.show()"
      ],
      "metadata": {
        "id": "6hknPekuTNc-"
      },
      "execution_count": null,
      "outputs": []
    },
    {
      "cell_type": "markdown",
      "source": [
        "#### Figura 5: Tasa de desempleo en los países de la eurozona (figura de 20 gráficos)"
      ],
      "metadata": {
        "id": "QbQSxfZfYQLP"
      }
    },
    {
      "cell_type": "code",
      "source": [
        "# Primero, creamos la lista de países de la eurozona\n",
        "#https://ec.europa.eu/eurostat/statistics-explained/index.php?title=Glossary:Euro_area_enlargements\n",
        "euro={\"BE\":\"Bélgica\", \"IE\":\"Irlanda\", \"FR\":\"Francia\", \"CY\":\"Chipre\", \"LU\":\"Luxemburgo\", \"AT\":\"Austria\",\n",
        "      \"SK\":\"Eslovaquia\", \"DE\":\"Alemania\", \"EL\":\"Grecia\", \"HR\":\"Croacia\", \"LV\":\"Lativia\", \"MT\":\"Malta\",\n",
        "      \"PT\":\"Portugal\", \"FI\":\"Finlandia\", \"EE\":\"Estonia\", \"ES\":\"España\", \"IT\":\"Italia\", \"LT\":\"Lituania\",\n",
        "      \"NL\":\"Países Bajos\", \"SI\":\"Eslovenia\"}\n",
        "\n",
        "import matplotlib.dates as mdates # importo esta función que necesito\n",
        "\n",
        "# Creamos la figura\n",
        "fig,ax=plt.subplots(4,5,figsize=(8,5),dpi=100,sharex=True,sharey=True)\n",
        "for g,p in zip(fig.axes,euro.keys()):\n",
        "  g.plot(tp[p],color=\"tab:red\")\n",
        "  g.set_ylim(0,20)\n",
        "  g.text(0.45,0.8,euro[p],transform=g.transAxes, size=8, horizontalalignment=\"center\")\n",
        "  g.tick_params(axis='both', which='major', labelsize=8)\n",
        "  g.xaxis.set_major_locator(mdates.MonthLocator(bymonth=(1, )))\n",
        "  g.xaxis.set_major_formatter(mdates.ConciseDateFormatter(g.xaxis.get_major_locator()))\n",
        "fig.suptitle(\"Tasas de desempleo en los países de la Eurozona\")\n",
        "fig.text(0.11,0.02,\"Fuente: EUROSTAT. Elaboración propia\", size=8)\n",
        "plt.show()"
      ],
      "metadata": {
        "id": "JRvwc5cPYPno"
      },
      "execution_count": null,
      "outputs": []
    },
    {
      "cell_type": "markdown",
      "source": [
        "#### Figura 6: Añadiendo tablas a nuestros gráficos.\n",
        "\n",
        "La inclusión de tablas en los informes y en las propias figuras..."
      ],
      "metadata": {
        "id": "VBpLh3tijW2I"
      }
    },
    {
      "cell_type": "markdown",
      "source": [
        "\n",
        "Los códigos de países de EUROSTAT están disponibles aquí:  \n",
        "https://ec.europa.eu/eurostat/statistics-explained/index.php?title=Glossary:Country_codes"
      ],
      "metadata": {
        "id": "r0Lawbo4wu5i"
      }
    },
    {
      "cell_type": "markdown",
      "source": [
        "### Material adicional:\n",
        "\n",
        "Para más ejemplos de gráficos, usando otros datos, véase este notebook del curso 2022-2023:\n",
        "[Visualización de datos: Creando gráficos de calidad (curso 2022-2023)](https://github.com/otoperalias/Coyuntura/blob/_2022/clases/Tema2_Visualizacion.ipynb)"
      ],
      "metadata": {
        "id": "G7nU1b9Tp0yc"
      }
    }
  ]
}