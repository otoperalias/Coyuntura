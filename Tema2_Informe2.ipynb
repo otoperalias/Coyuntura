{
  "nbformat": 4,
  "nbformat_minor": 0,
  "metadata": {
    "colab": {
      "name": "Untitled1.ipynb",
      "provenance": [],
      "authorship_tag": "ABX9TyNqtGFoZYHJ/yQMzbfEAUT6",
      "include_colab_link": true
    },
    "kernelspec": {
      "name": "python3",
      "display_name": "Python 3"
    },
    "language_info": {
      "name": "python"
    }
  },
  "cells": [
    {
      "cell_type": "markdown",
      "metadata": {
        "id": "view-in-github",
        "colab_type": "text"
      },
      "source": [
        "<a href=\"https://colab.research.google.com/github/otoperalias/Coyuntura/blob/main/Tema2_Informe2.ipynb\" target=\"_parent\"><img src=\"https://colab.research.google.com/assets/colab-badge.svg\" alt=\"Open In Colab\"/></a>"
      ]
    },
    {
      "cell_type": "markdown",
      "metadata": {
        "id": "I4AcZ7nQtCZ5"
      },
      "source": [
        "## Análisis de la relación entre variación del PIB y muertes por COVID19 en los países de la OCDE\n",
        "\n",
        "Fecha del informe: 17/10/2021.\n",
        "\n",
        "Autor: Daniel Oto Peralías."
      ]
    },
    {
      "cell_type": "code",
      "metadata": {
        "id": "MnsxJcOZsjML"
      },
      "source": [
        "# Importar librerías \n",
        "import pandas as pd\n",
        "pd.set_option('display.max_row', 40)\n",
        "pd.set_option('display.max_columns', 10)\n",
        "import matplotlib.pyplot as plt"
      ],
      "execution_count": null,
      "outputs": []
    },
    {
      "cell_type": "code",
      "metadata": {
        "id": "tFFink_suMe1"
      },
      "source": [
        "# Subir datos del PIB\n",
        "from google.colab import files\n",
        "files.upload()"
      ],
      "execution_count": null,
      "outputs": []
    },
    {
      "cell_type": "code",
      "metadata": {
        "id": "Dx6HKe1duDQH"
      },
      "source": [
        "# Leer datos de la variación del PIB\n",
        "pib=pd.read_excel('Datos_OECD.xlsx','datos')\n",
        "pib=pib[[\"Country\",\"2020\"]]"
      ],
      "execution_count": null,
      "outputs": []
    },
    {
      "cell_type": "code",
      "metadata": {
        "id": "kGatBXckvDmq"
      },
      "source": [
        "pib.set_index(\"Country\",inplace=True)"
      ],
      "execution_count": null,
      "outputs": []
    },
    {
      "cell_type": "code",
      "metadata": {
        "colab": {
          "base_uri": "https://localhost:8080/",
          "height": 367
        },
        "id": "vxZt5chjvFj8",
        "outputId": "1bb6b042-a59e-40a2-a731-4464464c2c53"
      },
      "source": [
        "# Crear gráfico de barras\n",
        "pib.sort_values('2020', inplace=True) # Idem\n",
        "pib.plot.bar()"
      ],
      "execution_count": null,
      "outputs": [
        {
          "output_type": "execute_result",
          "data": {
            "text/plain": [
              "<matplotlib.axes._subplots.AxesSubplot at 0x7f06d2540250>"
            ]
          },
          "metadata": {},
          "execution_count": 7
        },
        {
          "output_type": "display_data",
          "data": {
            "image/png": "[encoded data removed]",
            "text/plain": [
              "<Figure size 432x288 with 1 Axes>"
            ]
          },
          "metadata": {
            "needs_background": "light"
          }
        }
      ]
    },
    {
      "cell_type": "code",
      "metadata": {
        "id": "EaFGDlvXvGud"
      },
      "source": [
        "# Crear lista de países de la OCDE para luego seleccionarlos en OWID\n",
        "paises=pib.index.to_list()"
      ],
      "execution_count": null,
      "outputs": []
    },
    {
      "cell_type": "code",
      "metadata": {
        "id": "6FjCxc9Zx1eL"
      },
      "source": [
        "# Opción 1: Importar datos de OWID de COVID19 (LEYÉNDOLOS DIRECTAMENTE)\n",
        "datapath=\"https://raw.githubusercontent.com/otoperalias/Coyuntura/main/clases/datos/owid_covid.xlsx\"\n",
        "covid=pd.read_excel(datapath,index_col=0,parse_dates=True)"
      ],
      "execution_count": null,
      "outputs": []
    },
    {
      "cell_type": "code",
      "metadata": {
        "id": "OZ_kMfTR0FfU"
      },
      "source": [
        "# Opción 2: 2.1 Subir datos\n",
        "files.upload()"
      ],
      "execution_count": null,
      "outputs": []
    },
    {
      "cell_type": "code",
      "metadata": {
        "id": "JiSE28wMzLUv"
      },
      "source": [
        "# Opción 2: 2.2 Leer datos\n",
        "covid=pd.read_excel(\"/content/owid_covid.xlsx\",index_col=0,parse_dates=True)"
      ],
      "execution_count": null,
      "outputs": []
    },
    {
      "cell_type": "code",
      "metadata": {
        "id": "-pSfG0MI0oh4"
      },
      "source": [
        "# Seleccionamos periodo relevante: 31/12/2020\n",
        "cov=covid.loc[\"2020-12-31\",:].copy() # Usamos función copy para crear un objeto independiente"
      ],
      "execution_count": null,
      "outputs": []
    },
    {
      "cell_type": "code",
      "metadata": {
        "id": "w172xBuT0pKt"
      },
      "source": [
        "# Seleccionamos los países\n",
        "cov['ocde']=0\n",
        "for x in paises:\n",
        "  cov.loc[cov['location']==x,'ocde']=1"
      ],
      "execution_count": null,
      "outputs": []
    },
    {
      "cell_type": "code",
      "metadata": {
        "colab": {
          "base_uri": "https://localhost:8080/"
        },
        "id": "vKqV9OCj5CMF",
        "outputId": "b14b3d1f-a4a6-415c-c349-e715c0a3a902"
      },
      "source": [
        "# Para ver si tengo los 38 países (compruebo que no)\n",
        "len(cov.loc[cov['ocde']==1])"
      ],
      "execution_count": null,
      "outputs": [
        {
          "output_type": "execute_result",
          "data": {
            "text/plain": [
              "35"
            ]
          },
          "metadata": {},
          "execution_count": 70
        }
      ]
    },
    {
      "cell_type": "code",
      "metadata": {
        "colab": {
          "base_uri": "https://localhost:8080/"
        },
        "id": "9mAt1UyP5IF2",
        "outputId": "d71dc6c6-8a80-400a-af94-efa4dea940d8"
      },
      "source": [
        "# Para ver los países que faltan\n",
        "paises_identif=cov.loc[cov['ocde']==1,'location'].unique()\n",
        "for x in paises:\n",
        "    if x not in paises_identif:\n",
        "        print(x)"
      ],
      "execution_count": null,
      "outputs": [
        {
          "output_type": "stream",
          "name": "stdout",
          "text": [
            "Czech Republic\n",
            "Slovak Republic\n",
            "Korea\n"
          ]
        }
      ]
    },
    {
      "cell_type": "code",
      "metadata": {
        "id": "ZMz6444b5MhS"
      },
      "source": [
        "# Cambiar nombre en tabla cov\n",
        "cov.loc[cov['location']==\"South Korea\",\"location\"]='Korea'\n",
        "cov.loc[cov['location']=='Czechia',\"location\"]='Czech Republic'\n",
        "cov.loc[cov['location']=='Slovakia',\"location\"]='Slovak Republic'"
      ],
      "execution_count": null,
      "outputs": []
    },
    {
      "cell_type": "code",
      "metadata": {
        "colab": {
          "base_uri": "https://localhost:8080/"
        },
        "id": "oE6vuZIl-Pj7",
        "outputId": "416831f2-ba12-4b94-ecfc-9f411d34a6e5"
      },
      "source": [
        "# Volver a seleccionar los países de la OCDE\n",
        "cov['ocde']=0\n",
        "for x in paises:\n",
        "  cov.loc[cov['location']==x,'ocde']=1\n",
        "len(cov.loc[cov['ocde']==1]) # Bien! Ahora están los 38"
      ],
      "execution_count": null,
      "outputs": [
        {
          "output_type": "execute_result",
          "data": {
            "text/plain": [
              "38"
            ]
          },
          "metadata": {},
          "execution_count": 73
        }
      ]
    },
    {
      "cell_type": "code",
      "metadata": {
        "id": "V-zn6dCyAIZ5"
      },
      "source": [
        "# Ahora seleccionamos la muestra de países de la OCDE\n",
        "cov=cov.loc[cov['ocde']==1]"
      ],
      "execution_count": null,
      "outputs": []
    },
    {
      "cell_type": "code",
      "metadata": {
        "id": "AOz0Ez_jAemY"
      },
      "source": [
        "cov=cov.loc[\"2020-12-31\"]"
      ],
      "execution_count": null,
      "outputs": []
    },
    {
      "cell_type": "code",
      "metadata": {
        "id": "za69zxFfAguJ"
      },
      "source": [
        "cov.set_index(\"location\", inplace=True)"
      ],
      "execution_count": null,
      "outputs": []
    },
    {
      "cell_type": "code",
      "metadata": {
        "id": "jcTStjpeCpuP"
      },
      "source": [
        "# Gráfico exploratorio de barras\n",
        "cov.sort_values(\"total_deaths_per_million\").total_deaths_per_million.plot.bar()"
      ],
      "execution_count": null,
      "outputs": []
    },
    {
      "cell_type": "code",
      "metadata": {
        "id": "OD0ZR49YCPQ1"
      },
      "source": [
        "pib.reset_index(inplace=True)\n",
        "cov.reset_index(inplace=True)\n",
        "cov.rename(columns={\"location\":\"Country\"},inplace=True)"
      ],
      "execution_count": null,
      "outputs": []
    },
    {
      "cell_type": "code",
      "metadata": {
        "id": "Q_OPp5BTDt5W"
      },
      "source": [
        "union=pib.merge(cov,on=\"Country\")"
      ],
      "execution_count": null,
      "outputs": []
    },
    {
      "cell_type": "code",
      "metadata": {
        "id": "ZHZzCcgQEx-Y"
      },
      "source": [
        "#Seleccionamos columnas relevantes\n",
        "union=union[[\"Country\",\"2020\",\"total_deaths_per_million\"]]\n",
        "union"
      ],
      "execution_count": null,
      "outputs": []
    },
    {
      "cell_type": "code",
      "metadata": {
        "colab": {
          "base_uri": "https://localhost:8080/",
          "height": 297
        },
        "id": "bnrY5PtDEzRn",
        "outputId": "567edc76-89f0-4eec-8fcd-626e56812d9a"
      },
      "source": [
        "union.plot.scatter(\"total_deaths_per_million\",\"2020\")"
      ],
      "execution_count": null,
      "outputs": [
        {
          "output_type": "execute_result",
          "data": {
            "text/plain": [
              "<matplotlib.axes._subplots.AxesSubplot at 0x7f06d1299710>"
            ]
          },
          "metadata": {},
          "execution_count": 102
        },
        {
          "output_type": "display_data",
          "data": {
            "image/png": "[encoded data removed]",
            "text/plain": [
              "<Figure size 432x288 with 1 Axes>"
            ]
          },
          "metadata": {
            "needs_background": "light"
          }
        }
      ]
    },
    {
      "cell_type": "code",
      "metadata": {
        "id": "kIR8AxSbFMQt"
      },
      "source": [
        ""
      ],
      "execution_count": null,
      "outputs": []
    }
  ]
}