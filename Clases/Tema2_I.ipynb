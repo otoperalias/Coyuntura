{
  "nbformat": 4,
  "nbformat_minor": 0,
  "metadata": {
    "colab": {
      "name": "Untitled0.ipynb",
      "provenance": [],
      "collapsed_sections": [],
      "toc_visible": true,
      "authorship_tag": "ABX9TyM7S5EADgEwcn/gyUPSUBoo",
      "include_colab_link": true
    },
    "kernelspec": {
      "name": "python3",
      "display_name": "Python 3"
    },
    "language_info": {
      "name": "python"
    }
  },
  "cells": [
    {
      "cell_type": "markdown",
      "metadata": {
        "id": "view-in-github",
        "colab_type": "text"
      },
      "source": [
        "<a href=\"https://colab.research.google.com/github/otoperalias/Coyuntura/blob/main/Clases/Tema2_I.ipynb\" target=\"_parent\"><img src=\"https://colab.research.google.com/assets/colab-badge.svg\" alt=\"Open In Colab\"/></a>"
      ]
    },
    {
      "cell_type": "markdown",
      "metadata": {
        "id": "Uo3LbggxYQuV"
      },
      "source": [
        " ## TEMA 2. ANÁLISIS ECONÓMICO CON PYTHON\n",
        "\n",
        "**Coyuntura y Predicción**\n",
        "\n",
        "Universidad Pablo de Olavide, Curso 2021-22\n",
        "\n",
        "Daniel Oto-Peralías"
      ]
    },
    {
      "cell_type": "markdown",
      "metadata": {
        "id": "FJm--0njYBjz"
      },
      "source": [
        "## Índice:\n",
        "\n",
        "[1.   Introducción](##-1.-Introducción)\n",
        "\n",
        "[2.   Sintaxis y estructuras básicas de datos.](##-2.-Sintaxis-y-estructuras-básicas-de-datos.)\n",
        "3.   Numpy.\n",
        "4.   Pandas.\n",
        "5.   Una Aplicación - Usando la PWT."
      ]
    },
    {
      "cell_type": "markdown",
      "metadata": {
        "id": "qiisPG4LZUac"
      },
      "source": [
        "## 1. Introducción\n",
        "\n",
        "* Python es un lenguaje de programación muy flexible e intuitivo.\n",
        "* Es el lenguaje por excelencia de DATA SCIENCE.\n",
        "* Contiene muchas herramientas para realizar muchos tipos de análisis y ejercicios imposibles con Excel o STATA. Permite, por ejemplo, recopilar información de internet mecánicamente.\n",
        "* Es seguramente el lenguaje de programación con más perspectivas de futuro.\n",
        "* Gracias a su popularidad, hay muchos recursos y ayuda on-line, empezando por la web oficial https://docs.python.org/3/contents.html\n",
        "\n",
        "<strong> Descarga e instalación </strong>\n",
        "\n",
        "* Lo puedes descargar directamente de la web oficial https://www.python.org/downloads/\n",
        "\n",
        " Incluye un editor (IDLE), el cual se puede mejorar instalando con IdLex http://idlex.sourceforge.net/\n",
        "\n",
        "* Lo más recomendable es descargarlo a través de ANACONDA, un paquete que incluye Python, el editor Spyder, Jupyter y cientos de módulos:\n",
        "https://www.anaconda.com/distribution/#download-section\n",
        "\n",
        "* También es posible usar Python online a través de Google colab (https://colab.research.google.com), para lo cual se necesita crear una cuenta gratuita en Google."
      ]
    },
    {
      "cell_type": "markdown",
      "metadata": {
        "id": "M2cW_RrGbvtd"
      },
      "source": [
        "## 2. Sintaxis y estructuras básicas de datos\n",
        "\n",
        "* Las sangrías importan en Python (mientras en Stata se usan llaves { … } en Python sangrías).\n",
        "* Las letras mayúsculas también importan.\n",
        "* Cualquier texto detrás de “#” se trata como un comentario.\n",
        "* Lo que aparezca entre tres comillas ```'''``` o ```\"\"\"``` se trata también como comentarios. Es muy útil cuando se trata de comentarios largos. Las comillas de cierre deben ser las mismas (!).\n"
      ]
    },
    {
      "cell_type": "markdown",
      "metadata": {
        "id": "l-NGyNWhhON7"
      },
      "source": [
        "#### **Variables**\n",
        "\n",
        "Las variables son objetos a los que se asignan números o texto (string)."
      ]
    },
    {
      "cell_type": "code",
      "metadata": {
        "colab": {
          "base_uri": "https://localhost:8080/"
        },
        "id": "xupcpkecccJS",
        "outputId": "194fda53-9cd1-4b9b-9444-27ebece7c6b8"
      },
      "source": [
        "myNumber = 10\n",
        "print (myNumber)\n",
        "\n",
        "myString = \"Hello , World !\"\n",
        "print (myString)"
      ],
      "execution_count": 1,
      "outputs": [
        {
          "output_type": "stream",
          "name": "stdout",
          "text": [
            "10\n",
            "Hello , World !\n"
          ]
        }
      ]
    },
    {
      "cell_type": "markdown",
      "metadata": {
        "id": "pF1WCs6-bv7j"
      },
      "source": [
        "---\n",
        "*Tarea 1* - Asigne dos variables para que sean números (el 5 y el 25) y use el símbolo + para producir la suma de esos números. Ahora intenta restar, multiplicar y dividir.\n",
        "\n",
        "---"
      ]
    },
    {
      "cell_type": "code",
      "metadata": {
        "id": "VSHJp3FjfcD2"
      },
      "source": [
        "# Resolver Tarea 1 aquí:\n"
      ],
      "execution_count": null,
      "outputs": []
    },
    {
      "cell_type": "markdown",
      "metadata": {
        "id": "FnN_VegQfmrQ"
      },
      "source": [
        "---\n",
        "*Tarea 2* - Asigne “Hello” a una variable y “World!\" a otra. Concatene (combine) las dos variables (string variables) con el signo más, tal como agregaría números. Pista: Agregue un poco de espacio en blanco: var1 + “ “ + var2..\n",
        "\n",
        "---"
      ]
    },
    {
      "cell_type": "code",
      "metadata": {
        "id": "AY699Iowff8v"
      },
      "source": [
        "# Resolver Tarea 2 aquí:\n"
      ],
      "execution_count": null,
      "outputs": []
    },
    {
      "cell_type": "markdown",
      "metadata": {
        "id": "ch3_ei25gAAB"
      },
      "source": [
        "---\n",
        "*Tarea 3* - Pruebe ahora a multiplicar un elemento no numérico (string): “-x-”*50\n",
        "\n",
        "---"
      ]
    },
    {
      "cell_type": "code",
      "metadata": {
        "id": "m8_Xl1SJgWEg"
      },
      "source": [
        "# Resolver Tarea 2 aquí:\n"
      ],
      "execution_count": null,
      "outputs": []
    },
    {
      "cell_type": "markdown",
      "metadata": {
        "id": "bdP7AfhBf3JO"
      },
      "source": [
        "#### **Listas**\n",
        "\n",
        "* Las listas son otro tipo de objeto básico en Python. Para definir una lista, separe sus elementos por comas y cierre con corchetes. \n",
        "* Algunas formas de agregar elementos a una lista:"
      ]
    },
    {
      "cell_type": "code",
      "metadata": {
        "colab": {
          "base_uri": "https://localhost:8080/"
        },
        "id": "7_u2cKwWco1g",
        "outputId": "6174d2be-381f-44e0-93a2-178c18b3a437"
      },
      "source": [
        "myList = [1,2,3] \n",
        "myList.append(4)\n",
        "myList=myList+[5]\n",
        "myList+=[6] \n",
        "myList"
      ],
      "execution_count": 2,
      "outputs": [
        {
          "output_type": "execute_result",
          "data": {
            "text/plain": [
              "[1, 2, 3, 4, 5, 6]"
            ]
          },
          "metadata": {},
          "execution_count": 2
        }
      ]
    },
    {
      "cell_type": "markdown",
      "metadata": {
        "id": "F_Dp2MRDiUPN"
      },
      "source": [
        "---\n",
        "*Tarea 4* - Defina una lista en la que los elementos son los dígitos de su cumpleaños.\n",
        "\n",
        "---"
      ]
    },
    {
      "cell_type": "code",
      "metadata": {
        "id": "V16jLofxhpB_"
      },
      "source": [
        "# Resolver Tarea 4 aquí:\n"
      ],
      "execution_count": null,
      "outputs": []
    },
    {
      "cell_type": "markdown",
      "metadata": {
        "id": "sESp0j2Gigp2"
      },
      "source": [
        "* La indexación en una lista = posición de un elemento en la lista. Python comienza a contar en 0."
      ]
    },
    {
      "cell_type": "code",
      "metadata": {
        "colab": {
          "base_uri": "https://localhost:8080/"
        },
        "id": "k0--k3Bbc3Kq",
        "outputId": "b8449d95-e76b-41b0-a1eb-727aab7a99fc"
      },
      "source": [
        "myList\n",
        "myList [0] # primer elemento en myList\n",
        "len(myList) # longitud de myList\n",
        "# myList [6] # da error porque no existe el element 7º\n",
        "myList[5] # esto sí ;)"
      ],
      "execution_count": 5,
      "outputs": [
        {
          "output_type": "execute_result",
          "data": {
            "text/plain": [
              "6"
            ]
          },
          "metadata": {},
          "execution_count": 5
        }
      ]
    },
    {
      "cell_type": "markdown",
      "metadata": {
        "id": "uT3R0bQki-gC"
      },
      "source": [
        "---\n",
        "*Tarea 5* - De la lista definida en la Tarea 4, calcule su longitud y extraiga el último elemento.\n",
        "\n",
        "---"
      ]
    },
    {
      "cell_type": "code",
      "metadata": {
        "id": "i_KJBex4i5L2"
      },
      "source": [
        "# Resolver tarea 5 aquí:\n"
      ],
      "execution_count": null,
      "outputs": []
    },
    {
      "cell_type": "markdown",
      "metadata": {
        "id": "y2vWUXDKjKQH"
      },
      "source": [
        "--- \n",
        "*Tarea 6* - Las listas pueden almacenar cualquier estructura de datos en sus elementos. Haga una lista en la que el primer elemento es el nombre del mes de su cumpleaños (string), el segundo elemento es el día del mes de su cumpleaños (un número) y el último elemento es el año de su nacimiento (también un número).\n",
        "\n",
        "---"
      ]
    },
    {
      "cell_type": "code",
      "metadata": {
        "id": "h9mFjUaajfqB"
      },
      "source": [
        "# Resolver tarea 6 aquí:\n"
      ],
      "execution_count": null,
      "outputs": []
    },
    {
      "cell_type": "markdown",
      "metadata": {
        "id": "rLck9OgdjiQj"
      },
      "source": [
        "* Además, las listas pueden contener listas."
      ]
    },
    {
      "cell_type": "code",
      "metadata": {
        "colab": {
          "base_uri": "https://localhost:8080/"
        },
        "id": "LPpZWv7ddR-8",
        "outputId": "f3a2c6b4-7566-4cd4-8158-f1883378244e"
      },
      "source": [
        "lista1=[0,1,2,3]\n",
        "lista2=[lista1,\"Uno\",\"Dos\"]\n",
        "print(lista2)"
      ],
      "execution_count": 6,
      "outputs": [
        {
          "output_type": "stream",
          "name": "stdout",
          "text": [
            "[[0, 1, 2, 3], 'Uno', 'Dos']\n"
          ]
        }
      ]
    },
    {
      "cell_type": "markdown",
      "metadata": {
        "id": "RkDwXwB7kna9"
      },
      "source": [
        "* Las listas se pueden modificar borrando y añadiendo elementos:"
      ]
    },
    {
      "cell_type": "code",
      "metadata": {
        "colab": {
          "base_uri": "https://localhost:8080/"
        },
        "id": "U9qHjcaJdVuL",
        "outputId": "fea10b87-20e1-435a-cd8f-aa2a0c9d6bf2"
      },
      "source": [
        "myList=[\"a\",\"b\",\"c\"]\n",
        "myList[0]=\"z\" # Cambiamos el primer elemento\n",
        "print(myList)"
      ],
      "execution_count": 7,
      "outputs": [
        {
          "output_type": "stream",
          "name": "stdout",
          "text": [
            "['z', 'b', 'c']\n"
          ]
        }
      ]
    },
    {
      "cell_type": "markdown",
      "metadata": {
        "id": "yYQVBbEmkoZ9"
      },
      "source": [
        "* Cuando una lista se asigna a otra, cambios en la primera lista afectan a la nueva:"
      ]
    },
    {
      "cell_type": "code",
      "metadata": {
        "colab": {
          "base_uri": "https://localhost:8080/"
        },
        "id": "ilW8GrTjdZy7",
        "outputId": "af14ee56-f6cd-4140-a22f-5b2a3075aa1b"
      },
      "source": [
        "myList=[\"a\",\"b\",\"c\",\"d\",\"e\"]\n",
        "newList=myList\n",
        "print(newList)\n",
        "myList+=[\"Z\"]\n",
        "print(newList)"
      ],
      "execution_count": 8,
      "outputs": [
        {
          "output_type": "stream",
          "name": "stdout",
          "text": [
            "['a', 'b', 'c', 'd', 'e']\n",
            "['a', 'b', 'c', 'd', 'e', 'Z']\n"
          ]
        }
      ]
    },
    {
      "cell_type": "markdown",
      "metadata": {
        "id": "P73oeC2jlQLO"
      },
      "source": [
        "* Para evitarlo, usamos la función copiar:"
      ]
    },
    {
      "cell_type": "code",
      "metadata": {
        "colab": {
          "base_uri": "https://localhost:8080/"
        },
        "id": "WSI3loVTdeZe",
        "outputId": "7078ded7-f0e9-4bcf-ccc5-2658a63ae62e"
      },
      "source": [
        "myList=[\"a\",\"b\",\"c\",\"d\",\"e\"]\n",
        "newList=myList.copy()\n",
        "print(newList)\n",
        "myList+=[\"Z\"]\n",
        "print(newList)"
      ],
      "execution_count": 9,
      "outputs": [
        {
          "output_type": "stream",
          "name": "stdout",
          "text": [
            "['a', 'b', 'c', 'd', 'e']\n",
            "['a', 'b', 'c', 'd', 'e']\n"
          ]
        }
      ]
    },
    {
      "cell_type": "markdown",
      "metadata": {
        "id": "NscfiVvIdr81"
      },
      "source": [
        "#### **Funciones**"
      ]
    },
    {
      "cell_type": "markdown",
      "metadata": {
        "id": "8nBJaP4qesTx"
      },
      "source": [
        "* Las funciones son equivalentes a los programas (.ado) en Stata. \n",
        "* Son muy útiles si vamos a hacer algo de manera reiterada.\n",
        "* La definición de una función comienza con ```def ```, luego el nombre de la función seguido de paréntesis. Cualquier parámetro o argumento que tome la función debe aparecer entre paréntesis. Un doble punto sigue a los paréntesis, y el resto de la función tiene un nivel adicional de sangría."
      ]
    },
    {
      "cell_type": "code",
      "metadata": {
        "colab": {
          "base_uri": "https://localhost:8080/"
        },
        "id": "s_OXgQlEdtpm",
        "outputId": "96dbc514-1d61-45ee-a7eb-8895926865bd"
      },
      "source": [
        "def printWord(word): # define la funciión “printWord” que toma un parámetro “word”\n",
        "\tprint(\"La palabra que has escrito es \"+ word)\n",
        " \n",
        "printWord(\"Python\") # así se ejecuta la función"
      ],
      "execution_count": 10,
      "outputs": [
        {
          "output_type": "stream",
          "name": "stdout",
          "text": [
            "La palabra que has escrito es Python\n"
          ]
        }
      ]
    },
    {
      "cell_type": "markdown",
      "metadata": {
        "id": "OwVGfMoMfjtS"
      },
      "source": [
        "* Las funciones no contienen necesariamente argumentos, como por ejemplo esta:"
      ]
    },
    {
      "cell_type": "code",
      "metadata": {
        "colab": {
          "base_uri": "https://localhost:8080/"
        },
        "id": "Q2YYLHwqfPXf",
        "outputId": "30e2a3f3-1bdf-4b74-a045-50cf51558198"
      },
      "source": [
        "def hello_world():\n",
        "  print(\"Hello world!\")\n",
        "hello_world()"
      ],
      "execution_count": 14,
      "outputs": [
        {
          "output_type": "stream",
          "name": "stdout",
          "text": [
            "Hello world!\n"
          ]
        }
      ]
    },
    {
      "cell_type": "markdown",
      "metadata": {
        "id": "pvPdI1kAf6Mc"
      },
      "source": [
        "* Es buena práctica documentar lo que hace la función (útil para nosotros en el futuro y para terceros que usen nuestro código):"
      ]
    },
    {
      "cell_type": "code",
      "metadata": {
        "id": "DB1Wz5oAf0Nf"
      },
      "source": [
        "def hello_world():\n",
        "  '''Esta función escribe ¡Hola mundo! en inglés y no tiene argumentos'''\n",
        "  print(\"Hello world\")"
      ],
      "execution_count": 16,
      "outputs": []
    },
    {
      "cell_type": "markdown",
      "metadata": {
        "id": "3cqGfR6GgnCP"
      },
      "source": [
        "* La palabra ```return``` tiene un significado especial ya que permite guardar/asignar el output de la función. "
      ]
    },
    {
      "cell_type": "code",
      "metadata": {
        "colab": {
          "base_uri": "https://localhost:8080/"
        },
        "id": "fnL83659ga6O",
        "outputId": "5147852a-8f7c-487d-ed53-d4a35459a7fe"
      },
      "source": [
        "def addNums(num1,num2):\n",
        "  '''Esta función suma dos números'''\n",
        "  return num1+num2\n",
        "result=addNums(1,10)\n",
        "print(result)"
      ],
      "execution_count": 18,
      "outputs": [
        {
          "output_type": "stream",
          "name": "stdout",
          "text": [
            "11\n"
          ]
        }
      ]
    },
    {
      "cell_type": "markdown",
      "metadata": {
        "id": "IA-9xoiQiobc"
      },
      "source": [
        "---\n",
        "*Tarea 7* - Defina una función “multNums” cuyo output sea el producto de dos números. Pruébelo asignando result=multNums (2,3) y luego imprima el resultado. \n",
        "¿Y cuánto sería multNums (2, resultado)? (o sea, el resultado anterior va ahora dentro de la función).\n",
        "\n",
        "---\n",
        "(clicar en ```+ Código``` arriba para crear una celda de código y resolver la tarea)"
      ]
    },
    {
      "cell_type": "markdown",
      "metadata": {
        "id": "G28kxcyUjQCk"
      },
      "source": [
        "#### **Condiciones (if/else) y bucles**"
      ]
    },
    {
      "cell_type": "markdown",
      "metadata": {
        "id": "NWdPhaPtjcWX"
      },
      "source": [
        "* Las condiciones ```if/else``` se usan para ejecutar un código si se cumple la condición especificada:"
      ]
    },
    {
      "cell_type": "code",
      "metadata": {
        "colab": {
          "base_uri": "https://localhost:8080/"
        },
        "id": "2KL6AtN-hMgt",
        "outputId": "c6eb5ba3-5bce-4061-bc18-1e8b7605f279"
      },
      "source": [
        "n=8\n",
        "if n==1:\n",
        "  num=\"uno\"\n",
        "elif n==2:\n",
        "  num=\"dos\"\n",
        "elif n==3:\n",
        "  num=\"tres\"\n",
        "else:\n",
        "  num=\"Mayor que tres\"\n",
        "print(num)"
      ],
      "execution_count": 19,
      "outputs": [
        {
          "output_type": "stream",
          "name": "stdout",
          "text": [
            "Mayor que tres\n"
          ]
        }
      ]
    },
    {
      "cell_type": "markdown",
      "metadata": {
        "id": "UQm65TNSlAqb"
      },
      "source": [
        "* El bucle ```for``` itera sobre un objeto compuesto de varios elementos (susceptible de iteración, como una lista), de manera que ejecutará un comando tantas veces como elementos tenga el objeto sobre el que se intera:"
      ]
    },
    {
      "cell_type": "code",
      "metadata": {
        "id": "bnJ6nmhHlhh2",
        "outputId": "a3ed12ff-1b2d-4370-be31-9311676cd567",
        "colab": {
          "base_uri": "https://localhost:8080/"
        }
      },
      "source": [
        "lista=[1,2,3,4,5,6,7,8]\n",
        "for x in lista:\n",
        "  print(x)"
      ],
      "execution_count": 20,
      "outputs": [
        {
          "output_type": "stream",
          "name": "stdout",
          "text": [
            "1\n",
            "2\n",
            "3\n",
            "4\n",
            "5\n",
            "6\n",
            "7\n",
            "8\n"
          ]
        }
      ]
    },
    {
      "cell_type": "markdown",
      "metadata": {
        "id": "cuZFmxX_mA2K"
      },
      "source": [
        "* Con el bucle ```for``` también se puede interar sobre un rango numérico que definamos sobre la marcha:"
      ]
    },
    {
      "cell_type": "code",
      "metadata": {
        "id": "8uqojhoxmBrH",
        "outputId": "20560cd8-d2e4-4c85-989a-501f5dddf305",
        "colab": {
          "base_uri": "https://localhost:8080/"
        }
      },
      "source": [
        "for x in range(1,9):\n",
        "  print(x)"
      ],
      "execution_count": 21,
      "outputs": [
        {
          "output_type": "stream",
          "name": "stdout",
          "text": [
            "1\n",
            "2\n",
            "3\n",
            "4\n",
            "5\n",
            "6\n",
            "7\n",
            "8\n"
          ]
        }
      ]
    },
    {
      "cell_type": "code",
      "metadata": {
        "id": "k0Sn3BZ_mgks"
      },
      "source": [
        ""
      ],
      "execution_count": null,
      "outputs": []
    },
    {
      "cell_type": "markdown",
      "metadata": {
        "id": "_n9Gf73qmiRy"
      },
      "source": [
        "* *Observa que el número 9 no se incluye en el rango. Esto es así en general: el último número no se incluye.*"
      ]
    },
    {
      "cell_type": "markdown",
      "metadata": {
        "id": "cOYxwUUpnLp0"
      },
      "source": [
        "* Otro bucle importante es el bucle ```while```, que no vamos a usar en este curso pero podéis aprender sobre él aquí: https://realpython.com/python-while-loop/\n",
        "\n"
      ]
    },
    {
      "cell_type": "markdown",
      "metadata": {
        "id": "klUXKngYoCo9"
      },
      "source": [
        "---\n",
        "*Tarea 8* - Use un bucle ```for``` para imprimir cada elemento de la lista [\"manzanas\", \"plátanos\", \"naranjas\"].\n",
        "\n",
        "---"
      ]
    },
    {
      "cell_type": "markdown",
      "metadata": {
        "id": "fnMjztpDoTUb"
      },
      "source": [
        "---\n",
        "*Tarea 9* - Use un bucle ```for``` para imprimir cada número del 50 al 100, ambos extremos inclusive.\n",
        "\n",
        "---"
      ]
    },
    {
      "cell_type": "code",
      "metadata": {
        "id": "MemZB7rPoba1"
      },
      "source": [
        ""
      ],
      "execution_count": null,
      "outputs": []
    }
  ]
}