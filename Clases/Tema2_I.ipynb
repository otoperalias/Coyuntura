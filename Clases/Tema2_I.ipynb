{
  "nbformat": 4,
  "nbformat_minor": 0,
  "metadata": {
    "colab": {
      "name": "Untitled0.ipynb",
      "provenance": [],
      "collapsed_sections": [],
      "toc_visible": true,
      "authorship_tag": "ABX9TyOEvJxY9A5Aneg8iXQFk0d2",
      "include_colab_link": true
    },
    "kernelspec": {
      "name": "python3",
      "display_name": "Python 3"
    },
    "language_info": {
      "name": "python"
    }
  },
  "cells": [
    {
      "cell_type": "markdown",
      "metadata": {
        "id": "view-in-github",
        "colab_type": "text"
      },
      "source": [
        "<a href=\"https://colab.research.google.com/github/otoperalias/Coyuntura/blob/main/Clases/Tema2_I.ipynb\" target=\"_parent\"><img src=\"https://colab.research.google.com/assets/colab-badge.svg\" alt=\"Open In Colab\"/></a>"
      ]
    },
    {
      "cell_type": "markdown",
      "metadata": {
        "id": "Uo3LbggxYQuV"
      },
      "source": [
        " ## TEMA 2. ANÁLISIS ECONÓMICO CON PYTHON\n",
        "\n",
        "**Coyuntura y Predicción**\n",
        "\n",
        "Universidad Pablo de Olavide, Curso 2021-22\n",
        "\n",
        "Daniel Oto-Peralías"
      ]
    },
    {
      "cell_type": "markdown",
      "metadata": {
        "id": "FJm--0njYBjz"
      },
      "source": [
        "## Índice:\n",
        "\n",
        "1.   Introducción\n",
        "2.   Sintaxis y estructuras básicas de datos.\n",
        "3.   Numpy.\n",
        "4.   Pandas.\n",
        "5.   Una Aplicación - Usando la PWT."
      ]
    },
    {
      "cell_type": "markdown",
      "metadata": {
        "id": "qiisPG4LZUac"
      },
      "source": [
        "## 1. Introducción\n",
        "\n",
        "* Python es un lenguaje de programación muy flexible e intuitivo.\n",
        "* Es el lenguaje por excelencia de DATA SCIENCE.\n",
        "* Contiene muchas herramientas para realizar muchos tipos de análisis y ejercicios imposibles con Excel o STATA. Permite, por ejemplo, recopilar información de internet mecánicamente.\n",
        "* Es seguramente el lenguaje de programación con más perspectivas de futuro.\n",
        "* Gracias a su popularidad, hay muchos recursos y ayuda on-line, empezando por la web oficial https://docs.python.org/3/contents.html\n",
        "\n",
        "<strong> Descarga e instalación </strong>\n",
        "\n",
        "* Lo puedes descargar directamente de la web oficial https://www.python.org/downloads/\n",
        "\n",
        " Incluye un editor (IDLE), el cual se puede mejorar instalando con IdLex http://idlex.sourceforge.net/\n",
        "\n",
        "* Lo más recomendable es descargarlo a través de ANACONDA, un paquete que incluye Python, el editor Spyder, Jupyter y cientos de módulos:\n",
        "https://www.anaconda.com/distribution/#download-section\n",
        "\n",
        "* También es posible usar Python online a través de Google colab (https://colab.research.google.com), para lo cual se necesita crear una cuenta gratuita en Google."
      ]
    },
    {
      "cell_type": "markdown",
      "metadata": {
        "id": "M2cW_RrGbvtd"
      },
      "source": [
        "## 2. Sintaxis y estructuras básicas de datos\n",
        "\n",
        "* Las sangrías importan en Python (mientras en Stata se usan llaves { … } en Python sangrías).\n",
        "* Las letras mayúsculas también importan.\n",
        "* Cualquier texto detrás de “#” se trata como un comentario.\n",
        "* Lo que aparezca entre tres comillas ```'''``` o ```\"\"\"``` se trata también como comentarios. Es muy útil cuando se trata de comentarios largos. Las comillas de cierre deben ser las mismas (!).\n"
      ]
    },
    {
      "cell_type": "markdown",
      "metadata": {
        "id": "l-NGyNWhhON7"
      },
      "source": [
        "#### **Variables**\n",
        "\n",
        "Las variables son objetos a los que se asignan números o texto (string)."
      ]
    },
    {
      "cell_type": "code",
      "metadata": {
        "colab": {
          "base_uri": "https://localhost:8080/"
        },
        "id": "xupcpkecccJS",
        "outputId": "194fda53-9cd1-4b9b-9444-27ebece7c6b8"
      },
      "source": [
        "myNumber = 10\n",
        "print (myNumber)\n",
        "\n",
        "myString = \"Hello , World !\"\n",
        "print (myString)"
      ],
      "execution_count": null,
      "outputs": [
        {
          "output_type": "stream",
          "name": "stdout",
          "text": [
            "10\n",
            "Hello , World !\n"
          ]
        }
      ]
    },
    {
      "cell_type": "markdown",
      "metadata": {
        "id": "pF1WCs6-bv7j"
      },
      "source": [
        "---\n",
        "*Tarea 1* - Asigne dos variables para que sean números (el 5 y el 25) y use el símbolo + para producir la suma de esos números. Ahora intenta restar, multiplicar y dividir.\n",
        "\n",
        "---"
      ]
    },
    {
      "cell_type": "code",
      "metadata": {
        "id": "VSHJp3FjfcD2"
      },
      "source": [
        "# Resolver Tarea 1 aquí:\n"
      ],
      "execution_count": null,
      "outputs": []
    },
    {
      "cell_type": "markdown",
      "metadata": {
        "id": "FnN_VegQfmrQ"
      },
      "source": [
        "---\n",
        "*Tarea 2* - Asigne “Hello” a una variable y “World!\" a otra. Concatene (combine) las dos variables (string variables) con el signo más, tal como agregaría números. Pista: Agregue un poco de espacio en blanco: var1 + “ “ + var2..\n",
        "\n",
        "---"
      ]
    },
    {
      "cell_type": "code",
      "metadata": {
        "id": "AY699Iowff8v"
      },
      "source": [
        "# Resolver Tarea 2 aquí:\n"
      ],
      "execution_count": null,
      "outputs": []
    },
    {
      "cell_type": "markdown",
      "metadata": {
        "id": "ch3_ei25gAAB"
      },
      "source": [
        "---\n",
        "*Tarea 3* - Pruebe ahora a multiplicar un elemento no numérico (string): “-x-”*50\n",
        "\n",
        "---"
      ]
    },
    {
      "cell_type": "code",
      "metadata": {
        "id": "m8_Xl1SJgWEg"
      },
      "source": [
        "# Resolver Tarea 2 aquí:\n"
      ],
      "execution_count": null,
      "outputs": []
    },
    {
      "cell_type": "markdown",
      "metadata": {
        "id": "bdP7AfhBf3JO"
      },
      "source": [
        "#### **Listas**\n",
        "\n",
        "* Las listas son otro tipo de objeto básico en Python. Para definir una lista, separe sus elementos por comas y cierre con corchetes. \n",
        "* Algunas formas de agregar elementos a una lista:"
      ]
    },
    {
      "cell_type": "code",
      "metadata": {
        "colab": {
          "base_uri": "https://localhost:8080/"
        },
        "id": "7_u2cKwWco1g",
        "outputId": "6174d2be-381f-44e0-93a2-178c18b3a437"
      },
      "source": [
        "myList = [1,2,3] \n",
        "myList.append(4)\n",
        "myList=myList+[5]\n",
        "myList+=[6] \n",
        "myList"
      ],
      "execution_count": null,
      "outputs": [
        {
          "output_type": "execute_result",
          "data": {
            "text/plain": [
              "[1, 2, 3, 4, 5, 6]"
            ]
          },
          "metadata": {},
          "execution_count": 2
        }
      ]
    },
    {
      "cell_type": "markdown",
      "metadata": {
        "id": "F_Dp2MRDiUPN"
      },
      "source": [
        "---\n",
        "*Tarea 4* - Defina una lista en la que los elementos son los dígitos de su cumpleaños.\n",
        "\n",
        "---"
      ]
    },
    {
      "cell_type": "code",
      "metadata": {
        "id": "V16jLofxhpB_"
      },
      "source": [
        "# Resolver Tarea 4 aquí:\n"
      ],
      "execution_count": null,
      "outputs": []
    },
    {
      "cell_type": "markdown",
      "metadata": {
        "id": "sESp0j2Gigp2"
      },
      "source": [
        "* La indexación en una lista = posición de un elemento en la lista. Python comienza a contar en 0."
      ]
    },
    {
      "cell_type": "code",
      "metadata": {
        "colab": {
          "base_uri": "https://localhost:8080/"
        },
        "id": "k0--k3Bbc3Kq",
        "outputId": "b8449d95-e76b-41b0-a1eb-727aab7a99fc"
      },
      "source": [
        "myList\n",
        "myList [0] # primer elemento en myList\n",
        "len(myList) # longitud de myList\n",
        "# myList [6] # da error porque no existe el element 7º\n",
        "myList[5] # esto sí ;)"
      ],
      "execution_count": null,
      "outputs": [
        {
          "output_type": "execute_result",
          "data": {
            "text/plain": [
              "6"
            ]
          },
          "metadata": {},
          "execution_count": 5
        }
      ]
    },
    {
      "cell_type": "markdown",
      "metadata": {
        "id": "uT3R0bQki-gC"
      },
      "source": [
        "---\n",
        "*Tarea 5* - De la lista definida en la Tarea 4, calcule su longitud y extraiga el último elemento.\n",
        "\n",
        "---"
      ]
    },
    {
      "cell_type": "code",
      "metadata": {
        "id": "i_KJBex4i5L2"
      },
      "source": [
        "# Resolver tarea 5 aquí:\n"
      ],
      "execution_count": null,
      "outputs": []
    },
    {
      "cell_type": "markdown",
      "metadata": {
        "id": "y2vWUXDKjKQH"
      },
      "source": [
        "--- \n",
        "*Tarea 6* - Las listas pueden almacenar cualquier estructura de datos en sus elementos. Haga una lista en la que el primer elemento es el nombre del mes de su cumpleaños (string), el segundo elemento es el día del mes de su cumpleaños (un número) y el último elemento es el año de su nacimiento (también un número).\n",
        "\n",
        "---"
      ]
    },
    {
      "cell_type": "code",
      "metadata": {
        "id": "h9mFjUaajfqB"
      },
      "source": [
        "# Resolver tarea 6 aquí:\n"
      ],
      "execution_count": null,
      "outputs": []
    },
    {
      "cell_type": "markdown",
      "metadata": {
        "id": "rLck9OgdjiQj"
      },
      "source": [
        "* Además, las listas pueden contener listas."
      ]
    },
    {
      "cell_type": "code",
      "metadata": {
        "colab": {
          "base_uri": "https://localhost:8080/"
        },
        "id": "LPpZWv7ddR-8",
        "outputId": "f3a2c6b4-7566-4cd4-8158-f1883378244e"
      },
      "source": [
        "lista1=[0,1,2,3]\n",
        "lista2=[lista1,\"Uno\",\"Dos\"]\n",
        "print(lista2)"
      ],
      "execution_count": null,
      "outputs": [
        {
          "output_type": "stream",
          "name": "stdout",
          "text": [
            "[[0, 1, 2, 3], 'Uno', 'Dos']\n"
          ]
        }
      ]
    },
    {
      "cell_type": "markdown",
      "metadata": {
        "id": "RkDwXwB7kna9"
      },
      "source": [
        "* Las listas se pueden modificar borrando y añadiendo elementos:"
      ]
    },
    {
      "cell_type": "code",
      "metadata": {
        "colab": {
          "base_uri": "https://localhost:8080/"
        },
        "id": "U9qHjcaJdVuL",
        "outputId": "fea10b87-20e1-435a-cd8f-aa2a0c9d6bf2"
      },
      "source": [
        "myList=[\"a\",\"b\",\"c\"]\n",
        "myList[0]=\"z\" # Cambiamos el primer elemento\n",
        "print(myList)"
      ],
      "execution_count": null,
      "outputs": [
        {
          "output_type": "stream",
          "name": "stdout",
          "text": [
            "['z', 'b', 'c']\n"
          ]
        }
      ]
    },
    {
      "cell_type": "markdown",
      "metadata": {
        "id": "yYQVBbEmkoZ9"
      },
      "source": [
        "* Cuando una lista se asigna a otra, cambios en la primera lista afectan a la nueva:"
      ]
    },
    {
      "cell_type": "code",
      "metadata": {
        "colab": {
          "base_uri": "https://localhost:8080/"
        },
        "id": "ilW8GrTjdZy7",
        "outputId": "af14ee56-f6cd-4140-a22f-5b2a3075aa1b"
      },
      "source": [
        "myList=[\"a\",\"b\",\"c\",\"d\",\"e\"]\n",
        "newList=myList\n",
        "print(newList)\n",
        "myList+=[\"Z\"]\n",
        "print(newList)"
      ],
      "execution_count": null,
      "outputs": [
        {
          "output_type": "stream",
          "name": "stdout",
          "text": [
            "['a', 'b', 'c', 'd', 'e']\n",
            "['a', 'b', 'c', 'd', 'e', 'Z']\n"
          ]
        }
      ]
    },
    {
      "cell_type": "markdown",
      "metadata": {
        "id": "P73oeC2jlQLO"
      },
      "source": [
        "* Para evitarlo, usamos la función copiar:"
      ]
    },
    {
      "cell_type": "code",
      "metadata": {
        "colab": {
          "base_uri": "https://localhost:8080/"
        },
        "id": "WSI3loVTdeZe",
        "outputId": "7078ded7-f0e9-4bcf-ccc5-2658a63ae62e"
      },
      "source": [
        "myList=[\"a\",\"b\",\"c\",\"d\",\"e\"]\n",
        "newList=myList.copy()\n",
        "print(newList)\n",
        "myList+=[\"Z\"]\n",
        "print(newList)"
      ],
      "execution_count": null,
      "outputs": [
        {
          "output_type": "stream",
          "name": "stdout",
          "text": [
            "['a', 'b', 'c', 'd', 'e']\n",
            "['a', 'b', 'c', 'd', 'e']\n"
          ]
        }
      ]
    },
    {
      "cell_type": "markdown",
      "metadata": {
        "id": "NscfiVvIdr81"
      },
      "source": [
        "#### **Funciones**"
      ]
    },
    {
      "cell_type": "markdown",
      "metadata": {
        "id": "8nBJaP4qesTx"
      },
      "source": [
        "* Las funciones son equivalentes a los programas (.ado) en Stata. \n",
        "* Son muy útiles si vamos a hacer algo de manera reiterada.\n",
        "* La definición de una función comienza con ```def ```, luego el nombre de la función seguido de paréntesis. Cualquier parámetro o argumento que tome la función debe aparecer entre paréntesis. Un doble punto sigue a los paréntesis, y el resto de la función tiene un nivel adicional de sangría."
      ]
    },
    {
      "cell_type": "code",
      "metadata": {
        "colab": {
          "base_uri": "https://localhost:8080/"
        },
        "id": "s_OXgQlEdtpm",
        "outputId": "96dbc514-1d61-45ee-a7eb-8895926865bd"
      },
      "source": [
        "def printWord(word): # define la funciión “printWord” que toma un parámetro “word”\n",
        "\tprint(\"La palabra que has escrito es \"+ word)\n",
        " \n",
        "printWord(\"Python\") # así se ejecuta la función"
      ],
      "execution_count": null,
      "outputs": [
        {
          "output_type": "stream",
          "name": "stdout",
          "text": [
            "La palabra que has escrito es Python\n"
          ]
        }
      ]
    },
    {
      "cell_type": "markdown",
      "metadata": {
        "id": "OwVGfMoMfjtS"
      },
      "source": [
        "* Las funciones no contienen necesariamente argumentos, como por ejemplo esta:"
      ]
    },
    {
      "cell_type": "code",
      "metadata": {
        "colab": {
          "base_uri": "https://localhost:8080/"
        },
        "id": "Q2YYLHwqfPXf",
        "outputId": "30e2a3f3-1bdf-4b74-a045-50cf51558198"
      },
      "source": [
        "def hello_world():\n",
        "  print(\"Hello world!\")\n",
        "hello_world()"
      ],
      "execution_count": null,
      "outputs": [
        {
          "output_type": "stream",
          "name": "stdout",
          "text": [
            "Hello world!\n"
          ]
        }
      ]
    },
    {
      "cell_type": "markdown",
      "metadata": {
        "id": "pvPdI1kAf6Mc"
      },
      "source": [
        "* Es buena práctica documentar lo que hace la función (útil para nosotros en el futuro y para terceros que usen nuestro código):"
      ]
    },
    {
      "cell_type": "code",
      "metadata": {
        "id": "DB1Wz5oAf0Nf"
      },
      "source": [
        "def hello_world():\n",
        "  '''Esta función escribe ¡Hola mundo! en inglés y no tiene argumentos'''\n",
        "  print(\"Hello world\")"
      ],
      "execution_count": null,
      "outputs": []
    },
    {
      "cell_type": "markdown",
      "metadata": {
        "id": "3cqGfR6GgnCP"
      },
      "source": [
        "* La palabra ```return``` tiene un significado especial ya que permite guardar/asignar el output de la función. "
      ]
    },
    {
      "cell_type": "code",
      "metadata": {
        "colab": {
          "base_uri": "https://localhost:8080/"
        },
        "id": "fnL83659ga6O",
        "outputId": "5147852a-8f7c-487d-ed53-d4a35459a7fe"
      },
      "source": [
        "def addNums(num1,num2):\n",
        "  '''Esta función suma dos números'''\n",
        "  return num1+num2\n",
        "result=addNums(1,10)\n",
        "print(result)"
      ],
      "execution_count": null,
      "outputs": [
        {
          "output_type": "stream",
          "name": "stdout",
          "text": [
            "11\n"
          ]
        }
      ]
    },
    {
      "cell_type": "markdown",
      "metadata": {
        "id": "IA-9xoiQiobc"
      },
      "source": [
        "---\n",
        "*Tarea 7* - Defina una función “multNums” cuyo output sea el producto de dos números. Pruébelo asignando result=multNums (2,3) y luego imprima el resultado. \n",
        "¿Y cuánto sería multNums (2, resultado)? (o sea, el resultado anterior va ahora dentro de la función).\n",
        "\n",
        "---\n",
        "(clicar en ```+ Código``` arriba para crear una celda de código y resolver la tarea)"
      ]
    },
    {
      "cell_type": "markdown",
      "metadata": {
        "id": "G28kxcyUjQCk"
      },
      "source": [
        "#### **Condiciones (if/else) y bucles**"
      ]
    },
    {
      "cell_type": "markdown",
      "metadata": {
        "id": "NWdPhaPtjcWX"
      },
      "source": [
        "* Las condiciones ```if/else``` se usan para ejecutar un código si se cumple la condición especificada:"
      ]
    },
    {
      "cell_type": "code",
      "metadata": {
        "colab": {
          "base_uri": "https://localhost:8080/"
        },
        "id": "2KL6AtN-hMgt",
        "outputId": "c6eb5ba3-5bce-4061-bc18-1e8b7605f279"
      },
      "source": [
        "n=8\n",
        "if n==1:\n",
        "  num=\"uno\"\n",
        "elif n==2:\n",
        "  num=\"dos\"\n",
        "elif n==3:\n",
        "  num=\"tres\"\n",
        "else:\n",
        "  num=\"Mayor que tres\"\n",
        "print(num)"
      ],
      "execution_count": null,
      "outputs": [
        {
          "output_type": "stream",
          "name": "stdout",
          "text": [
            "Mayor que tres\n"
          ]
        }
      ]
    },
    {
      "cell_type": "markdown",
      "metadata": {
        "id": "UQm65TNSlAqb"
      },
      "source": [
        "* El bucle ```for``` itera sobre un objeto compuesto de varios elementos (susceptible de iteración, como una lista), de manera que ejecutará un comando tantas veces como elementos tenga el objeto sobre el que se intera:"
      ]
    },
    {
      "cell_type": "code",
      "metadata": {
        "id": "bnJ6nmhHlhh2",
        "colab": {
          "base_uri": "https://localhost:8080/"
        },
        "outputId": "a3ed12ff-1b2d-4370-be31-9311676cd567"
      },
      "source": [
        "lista=[1,2,3,4,5,6,7,8]\n",
        "for x in lista:\n",
        "  print(x)"
      ],
      "execution_count": null,
      "outputs": [
        {
          "output_type": "stream",
          "name": "stdout",
          "text": [
            "1\n",
            "2\n",
            "3\n",
            "4\n",
            "5\n",
            "6\n",
            "7\n",
            "8\n"
          ]
        }
      ]
    },
    {
      "cell_type": "markdown",
      "metadata": {
        "id": "cuZFmxX_mA2K"
      },
      "source": [
        "* Con el bucle ```for``` también se puede interar sobre un rango numérico que definamos sobre la marcha:"
      ]
    },
    {
      "cell_type": "code",
      "metadata": {
        "id": "8uqojhoxmBrH",
        "colab": {
          "base_uri": "https://localhost:8080/"
        },
        "outputId": "20560cd8-d2e4-4c85-989a-501f5dddf305"
      },
      "source": [
        "for x in range(1,9):\n",
        "  print(x)"
      ],
      "execution_count": null,
      "outputs": [
        {
          "output_type": "stream",
          "name": "stdout",
          "text": [
            "1\n",
            "2\n",
            "3\n",
            "4\n",
            "5\n",
            "6\n",
            "7\n",
            "8\n"
          ]
        }
      ]
    },
    {
      "cell_type": "code",
      "metadata": {
        "id": "k0Sn3BZ_mgks"
      },
      "source": [
        ""
      ],
      "execution_count": null,
      "outputs": []
    },
    {
      "cell_type": "markdown",
      "metadata": {
        "id": "_n9Gf73qmiRy"
      },
      "source": [
        "* *Observa que el número 9 no se incluye en el rango. Esto es así en general: el último número no se incluye.*"
      ]
    },
    {
      "cell_type": "markdown",
      "metadata": {
        "id": "cOYxwUUpnLp0"
      },
      "source": [
        "* Otro bucle importante es el bucle ```while```, que no vamos a usar en este curso pero podéis aprender sobre él aquí: https://realpython.com/python-while-loop/\n",
        "\n"
      ]
    },
    {
      "cell_type": "markdown",
      "metadata": {
        "id": "klUXKngYoCo9"
      },
      "source": [
        "---\n",
        "*Tarea 8* - Use un bucle ```for``` para imprimir cada elemento de la lista [\"manzanas\", \"plátanos\", \"naranjas\"].\n",
        "\n",
        "---"
      ]
    },
    {
      "cell_type": "markdown",
      "metadata": {
        "id": "fnMjztpDoTUb"
      },
      "source": [
        "---\n",
        "*Tarea 9* - Use un bucle ```for``` para imprimir cada número del 50 al 100, ambos extremos inclusive.\n",
        "\n",
        "---"
      ]
    },
    {
      "cell_type": "markdown",
      "metadata": {
        "id": "wZ3jhNbgpyHh"
      },
      "source": [
        "---\n",
        "*Tarea 10* - Defina la función “evaluacion(nombre)” que tome un string y devuelva “OK\" si el nombre introducido es \"Python\" o \"Stata“, y que devuelta “MAL” en caso contrario. Pruebe que la función está correctamente programada usando la siguiente lista de palabras: \"Python\", \"SPSS\", \"Stata\", \"Java\", \"MATLAB\", \"Eviews\" (Pista1: use los condicionales if y else. Pista 2: puede usar un loop para simplificar la tarea).\n",
        "\n",
        "---"
      ]
    },
    {
      "cell_type": "markdown",
      "metadata": {
        "id": "8jVmTxnKqXnW"
      },
      "source": [
        "#### **Booleans: True/False**"
      ]
    },
    {
      "cell_type": "markdown",
      "metadata": {
        "id": "ABUQkbXPqpDA"
      },
      "source": [
        "* Con frecuencia es necesario evaluar (comprobar) si algo es verdadero o no. Por ejemplo, cuando usamos ```if```.\n",
        "\n",
        "* Python usa operadores de comparación intuitivos, muchos de ellos os deben resultar familiares:\n",
        "    \n",
        "\n",
        "1.   ```<```\tstrictly less than\n",
        "2.   ```<=```\tless than or equal\n",
        "3.   ```>``` strictly greater than\n",
        "4.   ```>=```\tgreater than or equal\n",
        "5.   ```==```\tequal\n",
        "6.   ```!=```\tnot equal\n",
        "7.   ```is```\tobject identity\n",
        "8.   ```is not```\tnegated object identity\n",
        "\n",
        "```python\n",
        "1>3 # da False\n",
        "3>1 # da True\n",
        "1 in [1,2,3] # da True\n",
        "\"sevilla\" in [\"sevilla\", \"cadiz\", \"malaga“] # da True\n",
        "```\n",
        "    \n",
        "    \n",
        "\n"
      ]
    },
    {
      "cell_type": "markdown",
      "metadata": {
        "id": "-Iyiy0nLsV0v"
      },
      "source": [
        "#### **Tuples**"
      ]
    },
    {
      "cell_type": "markdown",
      "metadata": {
        "id": "CbCGdYPIsb8l"
      },
      "source": [
        "* Como una lista, un tuple es un conjunto ordenado de valores. A diferencia de una lista, los tuples son inmutables (no se pueden cambiar una vez que se definen). \n",
        "* También es importante saber acerca de tuples porque algunos métodos devuelven tuples, no listas. \n",
        "* Mientras que las listas se definen entre corchetes, los tuples se declaran entre paréntesis."
      ]
    },
    {
      "cell_type": "code",
      "metadata": {
        "id": "KmOrIFIRqgft",
        "outputId": "3717b664-c090-4503-f7f9-9dc1a1e62308",
        "colab": {
          "base_uri": "https://localhost:8080/"
        }
      },
      "source": [
        "row1=(\"nombre\",\"apellido\")\n",
        "row2=(\"Manuel\",\"Martínez\")\n",
        "row3=(\"Juan\" , \"Pérez\")\n",
        "print(row2[0])"
      ],
      "execution_count": 2,
      "outputs": [
        {
          "output_type": "stream",
          "name": "stdout",
          "text": [
            "Manuel\n"
          ]
        }
      ]
    },
    {
      "cell_type": "code",
      "metadata": {
        "id": "Sg3gQZf_smhv"
      },
      "source": [
        "row2.append(\"Gutiérrez\") # da error porque son inmutables"
      ],
      "execution_count": 4,
      "outputs": []
    },
    {
      "cell_type": "markdown",
      "metadata": {
        "id": "ee2VyUcEtOEt"
      },
      "source": [
        "#### **Diccionarios**"
      ]
    },
    {
      "cell_type": "markdown",
      "metadata": {
        "id": "6P0GlffYtQil"
      },
      "source": [
        "* Los dictionaries relacionan claves con valores (key=>value): sabiendo una clave, se conoce rápidamente su valor, como en un diccionario real.\n",
        "* Para definir un diccionario: ```{ key1: value1 , key2: value2 , key3: value3 , key4: value4 , ...}```"
      ]
    },
    {
      "cell_type": "code",
      "metadata": {
        "id": "rMHYVAsmtABM",
        "outputId": "74816ce5-936d-456a-942e-e510d78d7672",
        "colab": {
          "base_uri": "https://localhost:8080/"
        }
      },
      "source": [
        "myDict = {\"Manuel Martínez\":\"Notable\",\"Juan Pérez\": \"Aprobado\"}\n",
        "print(myDict[\"Manuel Martínez\"])"
      ],
      "execution_count": 9,
      "outputs": [
        {
          "output_type": "stream",
          "name": "stdout",
          "text": [
            "Notable\n"
          ]
        }
      ]
    },
    {
      "cell_type": "code",
      "metadata": {
        "id": "XqdzKxoAt7Sx",
        "outputId": "3b4a09dd-c2f5-4585-f44f-efdaf6ddb398",
        "colab": {
          "base_uri": "https://localhost:8080/"
        }
      },
      "source": [
        "notas={\"Juan García\":9,\"Alonso Ramos\":8.5,\"Federico Gutiérrez\":5}\n",
        "print(notas[\"Juan García\"])"
      ],
      "execution_count": 6,
      "outputs": [
        {
          "output_type": "stream",
          "name": "stdout",
          "text": [
            "9\n"
          ]
        }
      ]
    },
    {
      "cell_type": "code",
      "metadata": {
        "id": "GFqxoQMbt_it",
        "outputId": "96f03330-d664-43fe-deb2-58c180424df0",
        "colab": {
          "base_uri": "https://localhost:8080/"
        }
      },
      "source": [
        "notas2={12253697:9,89966369:8.5,87777898:5}\n",
        "print(notas2[87777898])"
      ],
      "execution_count": 8,
      "outputs": [
        {
          "output_type": "stream",
          "name": "stdout",
          "text": [
            "5\n"
          ]
        }
      ]
    },
    {
      "cell_type": "code",
      "metadata": {
        "id": "66GCgKvbuC0l"
      },
      "source": [
        "print(notas2[87777777]) # da error porque la clave no existe"
      ],
      "execution_count": null,
      "outputs": []
    },
    {
      "cell_type": "markdown",
      "metadata": {
        "id": "olSg7khiuJQ8"
      },
      "source": [
        "* Se pueden obtener fácilmente todas las claves del diccionario en una lista y hacer un bucle con ellas:"
      ]
    },
    {
      "cell_type": "code",
      "metadata": {
        "id": "kqTO0a-QubUM",
        "outputId": "11cd7fcc-4ff9-475e-db84-f1f7986fa930",
        "colab": {
          "base_uri": "https://localhost:8080/"
        }
      },
      "source": [
        "calificaciones={\"Juan\":9,\"Alonso\":8.5,\"Manuel\":5,\"María\":9,\"Cármen\":8,\"Daniel\":10}\n",
        "print(calificaciones.keys())\n",
        "for k in calificaciones.keys():\n",
        "  print(\"La calificación de \"+k+\" es un \"+str(calificaciones[k])+\".\")"
      ],
      "execution_count": 12,
      "outputs": [
        {
          "output_type": "stream",
          "name": "stdout",
          "text": [
            "dict_keys(['Juan', 'Alonso', 'Manuel', 'María', 'Cármen', 'Daniel'])\n",
            "La calificación de Juan es un 9.\n",
            "La calificación de Alonso es un 8.5.\n",
            "La calificación de Manuel es un 5.\n",
            "La calificación de María es un 9.\n",
            "La calificación de Cármen es un 8.\n",
            "La calificación de Daniel es un 10.\n"
          ]
        }
      ]
    },
    {
      "cell_type": "markdown",
      "metadata": {
        "id": "PRuraiUNuuqI"
      },
      "source": [
        "---\n",
        "*Tarea 11* - Defina mydict = {1: \"A\", 2: \"B\", 3: \"C\"}. ¿Qué valor es mydict [1]? Use un bucle for para imprimir cada clave por separado. Ahora imprima cada valor por separado. ¿Puede poner una condición if dentro de un ciclo for que imprima las claves si sus valores son \"C\"?\n",
        "\n",
        "---"
      ]
    },
    {
      "cell_type": "markdown",
      "metadata": {
        "id": "ni7qnY5hvVl9"
      },
      "source": [
        "## 3. Numpy"
      ]
    },
    {
      "cell_type": "markdown",
      "metadata": {
        "id": "38cLwiJuvaNV"
      },
      "source": [
        "* Numpy es un módulo fundamental para cálculo numérico y para operar con vectores (one-dimensional arrays) y matrices (Multi-dimensional arrays), siendo la base sobre la que operan otros módulos.\n",
        "* Los módulos (o librerías) son conjuntos de funciones que se deben instalar e importar antes de poder usarse (instalando Python a través de Anaconda nos facilita esta labor porque contiene cientos de módulos ya instalados; lo mismo si usamos Google Colab):\n",
        "\n",
        "```\n",
        "import numpy as np\n",
        "```\n",
        "\n"
      ]
    },
    {
      "cell_type": "markdown",
      "metadata": {
        "id": "M0Zpx1EqvaSB"
      },
      "source": [
        "* Hay muchas maneras de crear vectores y matrices. Algunos ejemplos:"
      ]
    },
    {
      "cell_type": "code",
      "metadata": {
        "id": "bNqFKoDQwKZt",
        "outputId": "157f6bc0-df6c-46e3-bfd1-97fce4c816f4",
        "colab": {
          "base_uri": "https://localhost:8080/"
        }
      },
      "source": [
        "import numpy as np\n",
        "an_array = np.array([3, 33, 333])\n",
        "print(an_array)\n",
        "print(an_array.shape) # preguntamos cuál es la dimensión\n",
        "print(an_array[0], an_array[1], an_array[2])  # imprimir de manera independiente cada elemento\n",
        "an_array[0] =888 # modificamos el vector\n",
        "print(an_array)"
      ],
      "execution_count": 13,
      "outputs": [
        {
          "output_type": "stream",
          "name": "stdout",
          "text": [
            "[  3  33 333]\n",
            "(3,)\n",
            "3 33 333\n",
            "[888  33 333]\n"
          ]
        }
      ]
    },
    {
      "cell_type": "markdown",
      "metadata": {
        "id": "4jxg0GJ1vaVB"
      },
      "source": [
        "* Matrices (ndarrray rank >=2):"
      ]
    },
    {
      "cell_type": "code",
      "metadata": {
        "id": "vecQDOwgwT6b",
        "outputId": "6eba0473-7da7-4228-8cd8-0c5719c3c481",
        "colab": {
          "base_uri": "https://localhost:8080/"
        }
      },
      "source": [
        "another = np.array([[11,12,13],[21,22,23]])   # rank 2 array\n",
        "print(another)  \n",
        "print(\"Las dimensiones son 2 filas, 3 columnas: \", another.shape)\n",
        "print(\"Obteniendo elementos [0,0], [0,1], y [1,0] del ndarray o matriz: \", another[0, 0], \", \",another[0, 1],\", \", another[1, 0])"
      ],
      "execution_count": 14,
      "outputs": [
        {
          "output_type": "stream",
          "name": "stdout",
          "text": [
            "[[11 12 13]\n",
            " [21 22 23]]\n",
            "Las dimensiones son 2 filas, 3 columnas:  (2, 3)\n",
            "Obteniendo elementos [0,0], [0,1], y [1,0] del ndarray o matriz:  11 ,  12 ,  21\n"
          ]
        }
      ]
    },
    {
      "cell_type": "markdown",
      "metadata": {
        "id": "Hxvcu9tPvaXl"
      },
      "source": [
        "* Matrices con elementos aleatorios (entre otras posibilidades):"
      ]
    },
    {
      "cell_type": "code",
      "metadata": {
        "id": "aKt4kINuwmUA",
        "outputId": "85616f65-c814-4914-c42e-06954880b87c",
        "colab": {
          "base_uri": "https://localhost:8080/"
        }
      },
      "source": [
        "aleatorio = np.random.random((4,4))\n",
        "print(aleatorio)"
      ],
      "execution_count": 15,
      "outputs": [
        {
          "output_type": "stream",
          "name": "stdout",
          "text": [
            "[[0.39147214 0.73805993 0.30817163 0.10008048]\n",
            " [0.12123315 0.84573125 0.17699638 0.17668416]\n",
            " [0.3020193  0.05345113 0.41915774 0.21491345]\n",
            " [0.88820343 0.93389394 0.49222073 0.11363672]]\n"
          ]
        }
      ]
    },
    {
      "cell_type": "markdown",
      "metadata": {
        "id": "ElMsjrJ2vaal"
      },
      "source": [
        "* Al igual que las listas, se puede extraer información sobre elementos o partes concretas de los ndarrays, y modificarse elementos concretos:"
      ]
    },
    {
      "cell_type": "code",
      "metadata": {
        "id": "7JRYX3tdwvlb",
        "outputId": "0b07bd7f-2ccb-4953-b14e-323a96028d93",
        "colab": {
          "base_uri": "https://localhost:8080/"
        }
      },
      "source": [
        "an_array = np.array([[11,12,13,14], [21,22,23,24], [31,32,33,34]])\n",
        "print(an_array)"
      ],
      "execution_count": 17,
      "outputs": [
        {
          "output_type": "stream",
          "name": "stdout",
          "text": [
            "[[11 12 13 14]\n",
            " [21 22 23 24]\n",
            " [31 32 33 34]]\n"
          ]
        }
      ]
    },
    {
      "cell_type": "code",
      "metadata": {
        "id": "4wh0GE-1wyV8",
        "outputId": "3c5c620d-21d0-47c0-f2dc-0c3f73e9ead2",
        "colab": {
          "base_uri": "https://localhost:8080/"
        }
      },
      "source": [
        "col0=an_array[:,0] #todas las filas de la primera columna\n",
        "print(col0)"
      ],
      "execution_count": 18,
      "outputs": [
        {
          "output_type": "stream",
          "name": "stdout",
          "text": [
            "[11 21 31]\n"
          ]
        }
      ]
    },
    {
      "cell_type": "code",
      "metadata": {
        "id": "XrDqGfALxDNM",
        "outputId": "bad38ce2-40fb-4196-80da-bc9ead30122e",
        "colab": {
          "base_uri": "https://localhost:8080/"
        }
      },
      "source": [
        "col0[1]=9999\n",
        "print(col0)\n",
        "print(an_array) # observa que se modifica la matriz original"
      ],
      "execution_count": 19,
      "outputs": [
        {
          "output_type": "stream",
          "name": "stdout",
          "text": [
            "[  11 9999   31]\n",
            "[[  11   12   13   14]\n",
            " [9999   22   23   24]\n",
            " [  31   32   33   34]]\n"
          ]
        }
      ]
    },
    {
      "cell_type": "markdown",
      "metadata": {
        "id": "-hFE6zObxOpP"
      },
      "source": [
        "* Una herramienta interesante es el uso de filtros:"
      ]
    },
    {
      "cell_type": "code",
      "metadata": {
        "id": "RC8jCONbyLbx",
        "outputId": "76c56da5-a080-4b86-ff1b-ad7dded72d55",
        "colab": {
          "base_uri": "https://localhost:8080/"
        }
      },
      "source": [
        "an_array = np.array([[11,12], [21, 22], [31, 32]])\n",
        "print(an_array)\n",
        "print(an_array[an_array>15])"
      ],
      "execution_count": 21,
      "outputs": [
        {
          "output_type": "stream",
          "name": "stdout",
          "text": [
            "[[11 12]\n",
            " [21 22]\n",
            " [31 32]]\n",
            "[21 22 31 32]\n"
          ]
        }
      ]
    },
    {
      "cell_type": "code",
      "metadata": {
        "id": "l8Iip1e0yYAj",
        "outputId": "c94f9eb1-10f3-47c9-d071-04a2a50a2a39",
        "colab": {
          "base_uri": "https://localhost:8080/"
        }
      },
      "source": [
        "an_array[(an_array>15) & (an_array<30)]"
      ],
      "execution_count": 24,
      "outputs": [
        {
          "output_type": "execute_result",
          "data": {
            "text/plain": [
              "array([21, 22])"
            ]
          },
          "metadata": {},
          "execution_count": 24
        }
      ]
    },
    {
      "cell_type": "markdown",
      "metadata": {
        "id": "ucr-H5vGyxJ0"
      },
      "source": [
        "*Observa que aquí no usamos la funcion print(), pero se muestra el output. Esta manera de mostrar el output es válida solo si ejecutamos una línea de código o solo estamos interesados en que nos muestre la última línea ejecutada:*"
      ]
    },
    {
      "cell_type": "code",
      "metadata": {
        "id": "tXii6_OmyYd8",
        "outputId": "01d5c6d0-d27f-4ba0-a7a5-81dc1905e8ef",
        "colab": {
          "base_uri": "https://localhost:8080/"
        }
      },
      "source": [
        "an_array[(an_array>1)]\n",
        "an_array[(an_array>10)]\n",
        "an_array[(an_array>20 )]"
      ],
      "execution_count": 25,
      "outputs": [
        {
          "output_type": "execute_result",
          "data": {
            "text/plain": [
              "array([21, 22, 31, 32])"
            ]
          },
          "metadata": {},
          "execution_count": 25
        }
      ]
    },
    {
      "cell_type": "markdown",
      "metadata": {
        "id": "7l8s5nTazSvM"
      },
      "source": [
        "* Operaciones aritméticas:"
      ]
    },
    {
      "cell_type": "code",
      "metadata": {
        "id": "RIOlXoM5zK3q",
        "outputId": "80659c62-74f1-4296-e1f9-34db6b5b9820",
        "colab": {
          "base_uri": "https://localhost:8080/"
        }
      },
      "source": [
        "#Operaciones aritméticas\n",
        "x = np.array([[111,112],[121,122]])\n",
        "y = np.array([[211.1,212.1],[221.1,222.1]])\n",
        "# Suma\n",
        "print(x + y)  # Es equivalente:print(np.add(x, y))\n",
        "# Resta\n",
        "print(x - y) # Es equivalente: print(np.subtract(x, y))\n",
        "# Multiplicación\n",
        "print(x * y) # Es equivalente: print(np.multiply(x, y)) => ≠ a multiplic. matricial!\n",
        "# División\n",
        "print(x / y)  # Es equivalente: print(np.divide(x, y))\n",
        "# Raiz cuadrada\n",
        "print(np.sqrt(x))\n",
        "# Elevar al cuadrado\n",
        "print(x**2)"
      ],
      "execution_count": 26,
      "outputs": [
        {
          "output_type": "stream",
          "name": "stdout",
          "text": [
            "[[322.1 324.1]\n",
            " [342.1 344.1]]\n",
            "[[-100.1 -100.1]\n",
            " [-100.1 -100.1]]\n",
            "[[23432.1 23755.2]\n",
            " [26753.1 27096.2]]\n",
            "[[0.52581715 0.52805281]\n",
            " [0.54726368 0.54930212]]\n",
            "[[10.53565375 10.58300524]\n",
            " [11.         11.04536102]]\n",
            "[[12321 12544]\n",
            " [14641 14884]]\n"
          ]
        }
      ]
    },
    {
      "cell_type": "markdown",
      "metadata": {
        "id": "ZiebDIBYzoJo"
      },
      "source": [
        "*Observar que, en Python, elevar a alguna potencia es doble asterisco* ```**``` (!)"
      ]
    },
    {
      "cell_type": "markdown",
      "metadata": {
        "id": "UlkW7mu0z9GK"
      },
      "source": [
        "* Operaciones estadísticas y otras:"
      ]
    },
    {
      "cell_type": "code",
      "metadata": {
        "id": "zMKpFRskzcSb",
        "outputId": "ac008d6a-5e27-4987-899e-4c61344fe6ae",
        "colab": {
          "base_uri": "https://localhost:8080/"
        }
      },
      "source": [
        "arr = 10 * np.random.randn(2,5)  # Crear una matriz aleatoria 2x5 a partir de N(0,1)\n",
        "print(arr)\n",
        "media=arr.mean()\n",
        "print(media) # Se puede imprimir directamente por supuesto print(arr.mean())\n",
        "print(arr.mean(axis = 1)) # calcula la media por fila (axis = 0 => por columna)\n",
        "print(arr.sum()) # suma todos los elementos\n",
        "arr.sort()\n",
        "print(arr)"
      ],
      "execution_count": 27,
      "outputs": [
        {
          "output_type": "stream",
          "name": "stdout",
          "text": [
            "[[-13.89439525   2.939074     9.10960433 -19.23919503  -3.24689063]\n",
            " [ 11.1672459  -15.92922359  -7.28339681  -2.00430515  12.05174845]]\n",
            "-2.632973379398643\n",
            "[-4.86636052 -0.39958624]\n",
            "-26.32973379398643\n",
            "[[-19.23919503 -13.89439525  -3.24689063   2.939074     9.10960433]\n",
            " [-15.92922359  -7.28339681  -2.00430515  11.1672459   12.05174845]]\n"
          ]
        }
      ]
    },
    {
      "cell_type": "markdown",
      "metadata": {
        "id": "iNMBlEhI0NXk"
      },
      "source": [
        "## 3. Pandas"
      ]
    },
    {
      "cell_type": "markdown",
      "metadata": {
        "id": "WszSNgVa0oXZ"
      },
      "source": [
        "* **pandas** es una librería de Python para el análisis de datos. \n",
        "* Ofrece una serie de operaciones de exploración, limpieza y transformación de datos que son fundamentales para trabajar con datos en Python.\n",
        "* **pandas** se basa en **numpy** y **scipy** y proporciona estructuras de datos fáciles de usar y funciones de manipulación de datos con indexación integrada.\n",
        "* Las principales estructuras de datos que proporcionan los pandas son Series y DataFrames.\n",
        "* Documentación de pandas: \n",
        "> https://pandas.pydata.org/pandas-docs/stable/user_guide/10min.html (*Muy recomendable que lo leais*)\n",
        "> http://pandas.pydata.org/pandas-docs/stable/\n",
        "\n",
        "```\n",
        "import pandas as pd\n",
        "```"
      ]
    },
    {
      "cell_type": "markdown",
      "metadata": {
        "id": "cLz1d0Ra1sRb"
      },
      "source": [
        "* **Pandas series**"
      ]
    },
    {
      "cell_type": "code",
      "metadata": {
        "id": "qy2LOiBKz_j1",
        "outputId": "6dbffb57-46dd-453e-b1a0-81b48e139605",
        "colab": {
          "base_uri": "https://localhost:8080/"
        }
      },
      "source": [
        "import pandas as pd\n",
        "paro = pd.Series([20, 10, 15, 20, 8], ['Sevilla', 'Málaga', 'Jaén', 'Huelva', 'Cádiz'])\n",
        "paro"
      ],
      "execution_count": 35,
      "outputs": [
        {
          "output_type": "execute_result",
          "data": {
            "text/plain": [
              "Sevilla    20\n",
              "Málaga     10\n",
              "Jaén       15\n",
              "Huelva     20\n",
              "Cádiz       8\n",
              "dtype: int64"
            ]
          },
          "metadata": {},
          "execution_count": 35
        }
      ]
    },
    {
      "cell_type": "code",
      "metadata": {
        "id": "wHXzCOzd13UU",
        "outputId": "3434d41b-e492-4cc4-9cec-e03efec78fcb",
        "colab": {
          "base_uri": "https://localhost:8080/"
        }
      },
      "source": [
        "paro.index"
      ],
      "execution_count": 36,
      "outputs": [
        {
          "output_type": "execute_result",
          "data": {
            "text/plain": [
              "Index(['Sevilla', 'Málaga', 'Jaén', 'Huelva', 'Cádiz'], dtype='object')"
            ]
          },
          "metadata": {},
          "execution_count": 36
        }
      ]
    },
    {
      "cell_type": "code",
      "metadata": {
        "id": "QCCfjlz32ME7",
        "outputId": "13a77b7b-dc18-42d8-f063-f1f6ce7479d1",
        "colab": {
          "base_uri": "https://localhost:8080/"
        }
      },
      "source": [
        "paro.loc[['Sevilla','Jaén']]  # loc[]  = Filtro basado en las etiquetas del index (label based)"
      ],
      "execution_count": 37,
      "outputs": [
        {
          "output_type": "execute_result",
          "data": {
            "text/plain": [
              "Sevilla    20\n",
              "Jaén       15\n",
              "dtype: int64"
            ]
          },
          "metadata": {},
          "execution_count": 37
        }
      ]
    },
    {
      "cell_type": "code",
      "metadata": {
        "id": "pCBqIR8o3Bnq",
        "outputId": "38782b14-d199-4cef-c2b3-80eb5fb87221",
        "colab": {
          "base_uri": "https://localhost:8080/"
        }
      },
      "source": [
        "paro[['Sevilla','Jaén']] # Filtro equivalente a lo anterior, pero es mejor práctica usar loc[]"
      ],
      "execution_count": 42,
      "outputs": [
        {
          "output_type": "execute_result",
          "data": {
            "text/plain": [
              "Sevilla    20\n",
              "Jaén       15\n",
              "dtype: int64"
            ]
          },
          "metadata": {},
          "execution_count": 42
        }
      ]
    },
    {
      "cell_type": "code",
      "metadata": {
        "id": "cGFndMIS2fCT",
        "outputId": "6891fe60-b8e0-490f-f9cf-d4a7653deb52",
        "colab": {
          "base_uri": "https://localhost:8080/"
        }
      },
      "source": [
        "ser.iloc[2]  #iloc[] = Filtro por la posición en el index (la posición empieza por cero !)"
      ],
      "execution_count": 43,
      "outputs": [
        {
          "output_type": "execute_result",
          "data": {
            "text/plain": [
              "15"
            ]
          },
          "metadata": {},
          "execution_count": 43
        }
      ]
    },
    {
      "cell_type": "code",
      "metadata": {
        "id": "5pvr6g_j2TYr",
        "outputId": "fedafe63-7894-4448-fdbe-304b8abd17d0",
        "colab": {
          "base_uri": "https://localhost:8080/"
        }
      },
      "source": [
        "paro[[4, 3, 1]] #  Filtro equivalente a lo anterior, pero es mejor práctica usar iloc[]"
      ],
      "execution_count": 39,
      "outputs": [
        {
          "output_type": "execute_result",
          "data": {
            "text/plain": [
              "Cádiz      8\n",
              "Huelva    20\n",
              "Málaga    10\n",
              "dtype: int64"
            ]
          },
          "metadata": {},
          "execution_count": 39
        }
      ]
    },
    {
      "cell_type": "code",
      "metadata": {
        "id": "oQ322t8I293z"
      },
      "source": [
        ""
      ],
      "execution_count": null,
      "outputs": []
    }
  ]
}