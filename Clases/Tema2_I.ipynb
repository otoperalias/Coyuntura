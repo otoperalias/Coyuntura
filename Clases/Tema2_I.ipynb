{
  "nbformat": 4,
  "nbformat_minor": 0,
  "metadata": {
    "colab": {
      "name": "Untitled0.ipynb",
      "provenance": [],
      "collapsed_sections": [],
      "toc_visible": true,
      "authorship_tag": "ABX9TyMxBcUV4z6/w56Et+SJmAjr",
      "include_colab_link": true
    },
    "kernelspec": {
      "name": "python3",
      "display_name": "Python 3"
    },
    "language_info": {
      "name": "python"
    }
  },
  "cells": [
    {
      "cell_type": "markdown",
      "metadata": {
        "id": "view-in-github",
        "colab_type": "text"
      },
      "source": [
        "<a href=\"https://colab.research.google.com/github/otoperalias/Coyuntura/blob/main/Clases/Tema2_I.ipynb\" target=\"_parent\"><img src=\"https://colab.research.google.com/assets/colab-badge.svg\" alt=\"Open In Colab\"/></a>"
      ]
    },
    {
      "cell_type": "markdown",
      "metadata": {
        "id": "Uo3LbggxYQuV"
      },
      "source": [
        " ## TEMA 2. ANÁLISIS ECONÓMICO CON PYTHON\n",
        "\n",
        "**Coyuntura y Predicción**\n",
        "\n",
        "Universidad Pablo de Olavide, Curso 2021-22\n",
        "\n",
        "Daniel Oto-Peralías"
      ]
    },
    {
      "cell_type": "markdown",
      "metadata": {
        "id": "FJm--0njYBjz"
      },
      "source": [
        "## Índice:\n",
        "\n",
        "1.   Introducción\n",
        "2.   Sintaxis y estructuras básicas de datos.\n",
        "3.   Numpy.\n",
        "4.   Pandas.\n",
        "5.   Una Aplicación - Usando la PWT."
      ]
    },
    {
      "cell_type": "markdown",
      "metadata": {
        "id": "qiisPG4LZUac"
      },
      "source": [
        "## 1. Introducción\n",
        "\n",
        "* Python es un lenguaje de programación muy flexible e intuitivo.\n",
        "* Es el lenguaje por excelencia de DATA SCIENCE.\n",
        "* Contiene muchas herramientas para realizar muchos tipos de análisis y ejercicios imposibles con Excel o STATA. Permite, por ejemplo, recopilar información de internet mecánicamente.\n",
        "* Es seguramente el lenguaje de programación con más perspectivas de futuro.\n",
        "* Gracias a su popularidad, hay muchos recursos y ayuda on-line, empezando por la web oficial https://docs.python.org/3/contents.html\n",
        "\n",
        "<strong> Descarga e instalación </strong>\n",
        "\n",
        "* Lo puedes descargar directamente de la web oficial https://www.python.org/downloads/\n",
        "\n",
        " Incluye un editor (IDLE), el cual se puede mejorar instalando con IdLex http://idlex.sourceforge.net/\n",
        "\n",
        "* Lo más recomendable es descargarlo a través de ANACONDA, un paquete que incluye Python, el editor Spyder, Jupyter y cientos de módulos:\n",
        "https://www.anaconda.com/distribution/#download-section\n",
        "\n",
        "* También es posible usar Python online a través de Google colab (https://colab.research.google.com), para lo cual se necesita crear una cuenta gratuita en Google."
      ]
    },
    {
      "cell_type": "markdown",
      "metadata": {
        "id": "M2cW_RrGbvtd"
      },
      "source": [
        "## 2. Sintaxis y estructuras básicas de datos\n",
        "\n",
        "* Las sangrías importan en Python (mientras en Stata se usan llaves { … } en Python sangrías).\n",
        "* Las letras mayúsculas también importan.\n",
        "* Cualquier texto detrás de “#” se trata como un comentario.\n",
        "* Lo que aparezca entre tres comillas ```'''``` o ```\"\"\"``` se trata también como comentarios. Es muy útil cuando se trata de comentarios largos. Las comillas de cierre deben ser las mismas (!).\n"
      ]
    },
    {
      "cell_type": "markdown",
      "metadata": {
        "id": "l-NGyNWhhON7"
      },
      "source": [
        "#### **Variables**\n",
        "\n",
        "Las variables son objetos a los que se asignan números o texto (string)."
      ]
    },
    {
      "cell_type": "code",
      "metadata": {
        "colab": {
          "base_uri": "https://localhost:8080/"
        },
        "id": "xupcpkecccJS",
        "outputId": "194fda53-9cd1-4b9b-9444-27ebece7c6b8"
      },
      "source": [
        "myNumber = 10\n",
        "print (myNumber)\n",
        "\n",
        "myString = \"Hello , World !\"\n",
        "print (myString)"
      ],
      "execution_count": null,
      "outputs": [
        {
          "output_type": "stream",
          "name": "stdout",
          "text": [
            "10\n",
            "Hello , World !\n"
          ]
        }
      ]
    },
    {
      "cell_type": "markdown",
      "metadata": {
        "id": "pF1WCs6-bv7j"
      },
      "source": [
        "---\n",
        "*Tarea 1* - Asigne dos variables para que sean números (el 5 y el 25) y use el símbolo + para producir la suma de esos números. Ahora intenta restar, multiplicar y dividir.\n",
        "\n",
        "---"
      ]
    },
    {
      "cell_type": "code",
      "metadata": {
        "id": "VSHJp3FjfcD2"
      },
      "source": [
        "# Resolver Tarea 1 aquí:\n"
      ],
      "execution_count": null,
      "outputs": []
    },
    {
      "cell_type": "markdown",
      "metadata": {
        "id": "FnN_VegQfmrQ"
      },
      "source": [
        "---\n",
        "*Tarea 2* - Asigne “Hello” a una variable y “World!\" a otra. Concatene (combine) las dos variables (string variables) con el signo más, tal como agregaría números. Pista: Agregue un poco de espacio en blanco: var1 + “ “ + var2..\n",
        "\n",
        "---"
      ]
    },
    {
      "cell_type": "code",
      "metadata": {
        "id": "AY699Iowff8v"
      },
      "source": [
        "# Resolver Tarea 2 aquí:\n"
      ],
      "execution_count": null,
      "outputs": []
    },
    {
      "cell_type": "markdown",
      "metadata": {
        "id": "ch3_ei25gAAB"
      },
      "source": [
        "---\n",
        "*Tarea 3* - Pruebe ahora a multiplicar un elemento no numérico (string): “-x-”*50\n",
        "\n",
        "---"
      ]
    },
    {
      "cell_type": "code",
      "metadata": {
        "id": "m8_Xl1SJgWEg"
      },
      "source": [
        "# Resolver Tarea 2 aquí:\n"
      ],
      "execution_count": null,
      "outputs": []
    },
    {
      "cell_type": "markdown",
      "metadata": {
        "id": "bdP7AfhBf3JO"
      },
      "source": [
        "#### **Listas**\n",
        "\n",
        "* Las listas son otro tipo de objeto básico en Python. Para definir una lista, separe sus elementos por comas y cierre con corchetes. \n",
        "* Algunas formas de agregar elementos a una lista:"
      ]
    },
    {
      "cell_type": "code",
      "metadata": {
        "colab": {
          "base_uri": "https://localhost:8080/"
        },
        "id": "7_u2cKwWco1g",
        "outputId": "6174d2be-381f-44e0-93a2-178c18b3a437"
      },
      "source": [
        "myList = [1,2,3] \n",
        "myList.append(4)\n",
        "myList=myList+[5]\n",
        "myList+=[6] \n",
        "myList"
      ],
      "execution_count": null,
      "outputs": [
        {
          "output_type": "execute_result",
          "data": {
            "text/plain": [
              "[1, 2, 3, 4, 5, 6]"
            ]
          },
          "metadata": {},
          "execution_count": 2
        }
      ]
    },
    {
      "cell_type": "markdown",
      "metadata": {
        "id": "F_Dp2MRDiUPN"
      },
      "source": [
        "---\n",
        "*Tarea 4* - Defina una lista en la que los elementos son los dígitos de su cumpleaños.\n",
        "\n",
        "---"
      ]
    },
    {
      "cell_type": "code",
      "metadata": {
        "id": "V16jLofxhpB_"
      },
      "source": [
        "# Resolver Tarea 4 aquí:\n"
      ],
      "execution_count": null,
      "outputs": []
    },
    {
      "cell_type": "markdown",
      "metadata": {
        "id": "sESp0j2Gigp2"
      },
      "source": [
        "* La indexación en una lista = posición de un elemento en la lista. Python comienza a contar en 0."
      ]
    },
    {
      "cell_type": "code",
      "metadata": {
        "colab": {
          "base_uri": "https://localhost:8080/"
        },
        "id": "k0--k3Bbc3Kq",
        "outputId": "b8449d95-e76b-41b0-a1eb-727aab7a99fc"
      },
      "source": [
        "myList\n",
        "myList [0] # primer elemento en myList\n",
        "len(myList) # longitud de myList\n",
        "# myList [6] # da error porque no existe el element 7º\n",
        "myList[5] # esto sí ;)"
      ],
      "execution_count": null,
      "outputs": [
        {
          "output_type": "execute_result",
          "data": {
            "text/plain": [
              "6"
            ]
          },
          "metadata": {},
          "execution_count": 5
        }
      ]
    },
    {
      "cell_type": "markdown",
      "metadata": {
        "id": "uT3R0bQki-gC"
      },
      "source": [
        "---\n",
        "*Tarea 5* - De la lista definida en la Tarea 4, calcule su longitud y extraiga el último elemento.\n",
        "\n",
        "---"
      ]
    },
    {
      "cell_type": "code",
      "metadata": {
        "id": "i_KJBex4i5L2"
      },
      "source": [
        "# Resolver tarea 5 aquí:\n"
      ],
      "execution_count": null,
      "outputs": []
    },
    {
      "cell_type": "markdown",
      "metadata": {
        "id": "y2vWUXDKjKQH"
      },
      "source": [
        "--- \n",
        "*Tarea 6* - Las listas pueden almacenar cualquier estructura de datos en sus elementos. Haga una lista en la que el primer elemento es el nombre del mes de su cumpleaños (string), el segundo elemento es el día del mes de su cumpleaños (un número) y el último elemento es el año de su nacimiento (también un número).\n",
        "\n",
        "---"
      ]
    },
    {
      "cell_type": "code",
      "metadata": {
        "id": "h9mFjUaajfqB"
      },
      "source": [
        "# Resolver tarea 6 aquí:\n"
      ],
      "execution_count": null,
      "outputs": []
    },
    {
      "cell_type": "markdown",
      "metadata": {
        "id": "rLck9OgdjiQj"
      },
      "source": [
        "* Además, las listas pueden contener listas."
      ]
    },
    {
      "cell_type": "code",
      "metadata": {
        "colab": {
          "base_uri": "https://localhost:8080/"
        },
        "id": "LPpZWv7ddR-8",
        "outputId": "f3a2c6b4-7566-4cd4-8158-f1883378244e"
      },
      "source": [
        "lista1=[0,1,2,3]\n",
        "lista2=[lista1,\"Uno\",\"Dos\"]\n",
        "print(lista2)"
      ],
      "execution_count": null,
      "outputs": [
        {
          "output_type": "stream",
          "name": "stdout",
          "text": [
            "[[0, 1, 2, 3], 'Uno', 'Dos']\n"
          ]
        }
      ]
    },
    {
      "cell_type": "markdown",
      "metadata": {
        "id": "RkDwXwB7kna9"
      },
      "source": [
        "* Las listas se pueden modificar borrando y añadiendo elementos:"
      ]
    },
    {
      "cell_type": "code",
      "metadata": {
        "colab": {
          "base_uri": "https://localhost:8080/"
        },
        "id": "U9qHjcaJdVuL",
        "outputId": "fea10b87-20e1-435a-cd8f-aa2a0c9d6bf2"
      },
      "source": [
        "myList=[\"a\",\"b\",\"c\"]\n",
        "myList[0]=\"z\" # Cambiamos el primer elemento\n",
        "print(myList)"
      ],
      "execution_count": null,
      "outputs": [
        {
          "output_type": "stream",
          "name": "stdout",
          "text": [
            "['z', 'b', 'c']\n"
          ]
        }
      ]
    },
    {
      "cell_type": "markdown",
      "metadata": {
        "id": "yYQVBbEmkoZ9"
      },
      "source": [
        "* Cuando una lista se asigna a otra, cambios en la primera lista afectan a la nueva:"
      ]
    },
    {
      "cell_type": "code",
      "metadata": {
        "colab": {
          "base_uri": "https://localhost:8080/"
        },
        "id": "ilW8GrTjdZy7",
        "outputId": "af14ee56-f6cd-4140-a22f-5b2a3075aa1b"
      },
      "source": [
        "myList=[\"a\",\"b\",\"c\",\"d\",\"e\"]\n",
        "newList=myList\n",
        "print(newList)\n",
        "myList+=[\"Z\"]\n",
        "print(newList)"
      ],
      "execution_count": null,
      "outputs": [
        {
          "output_type": "stream",
          "name": "stdout",
          "text": [
            "['a', 'b', 'c', 'd', 'e']\n",
            "['a', 'b', 'c', 'd', 'e', 'Z']\n"
          ]
        }
      ]
    },
    {
      "cell_type": "markdown",
      "metadata": {
        "id": "P73oeC2jlQLO"
      },
      "source": [
        "* Para evitarlo, usamos la función copiar:"
      ]
    },
    {
      "cell_type": "code",
      "metadata": {
        "colab": {
          "base_uri": "https://localhost:8080/"
        },
        "id": "WSI3loVTdeZe",
        "outputId": "7078ded7-f0e9-4bcf-ccc5-2658a63ae62e"
      },
      "source": [
        "myList=[\"a\",\"b\",\"c\",\"d\",\"e\"]\n",
        "newList=myList.copy()\n",
        "print(newList)\n",
        "myList+=[\"Z\"]\n",
        "print(newList)"
      ],
      "execution_count": null,
      "outputs": [
        {
          "output_type": "stream",
          "name": "stdout",
          "text": [
            "['a', 'b', 'c', 'd', 'e']\n",
            "['a', 'b', 'c', 'd', 'e']\n"
          ]
        }
      ]
    },
    {
      "cell_type": "markdown",
      "metadata": {
        "id": "NscfiVvIdr81"
      },
      "source": [
        "#### **Funciones**"
      ]
    },
    {
      "cell_type": "markdown",
      "metadata": {
        "id": "8nBJaP4qesTx"
      },
      "source": [
        "* Las funciones son equivalentes a los programas (.ado) en Stata. \n",
        "* Son muy útiles si vamos a hacer algo de manera reiterada.\n",
        "* La definición de una función comienza con ```def ```, luego el nombre de la función seguido de paréntesis. Cualquier parámetro o argumento que tome la función debe aparecer entre paréntesis. Un doble punto sigue a los paréntesis, y el resto de la función tiene un nivel adicional de sangría."
      ]
    },
    {
      "cell_type": "code",
      "metadata": {
        "colab": {
          "base_uri": "https://localhost:8080/"
        },
        "id": "s_OXgQlEdtpm",
        "outputId": "96dbc514-1d61-45ee-a7eb-8895926865bd"
      },
      "source": [
        "def printWord(word): # define la funciión “printWord” que toma un parámetro “word”\n",
        "\tprint(\"La palabra que has escrito es \"+ word)\n",
        " \n",
        "printWord(\"Python\") # así se ejecuta la función"
      ],
      "execution_count": null,
      "outputs": [
        {
          "output_type": "stream",
          "name": "stdout",
          "text": [
            "La palabra que has escrito es Python\n"
          ]
        }
      ]
    },
    {
      "cell_type": "markdown",
      "metadata": {
        "id": "OwVGfMoMfjtS"
      },
      "source": [
        "* Las funciones no contienen necesariamente argumentos, como por ejemplo esta:"
      ]
    },
    {
      "cell_type": "code",
      "metadata": {
        "colab": {
          "base_uri": "https://localhost:8080/"
        },
        "id": "Q2YYLHwqfPXf",
        "outputId": "30e2a3f3-1bdf-4b74-a045-50cf51558198"
      },
      "source": [
        "def hello_world():\n",
        "  print(\"Hello world!\")\n",
        "hello_world()"
      ],
      "execution_count": null,
      "outputs": [
        {
          "output_type": "stream",
          "name": "stdout",
          "text": [
            "Hello world!\n"
          ]
        }
      ]
    },
    {
      "cell_type": "markdown",
      "metadata": {
        "id": "pvPdI1kAf6Mc"
      },
      "source": [
        "* Es buena práctica documentar lo que hace la función (útil para nosotros en el futuro y para terceros que usen nuestro código):"
      ]
    },
    {
      "cell_type": "code",
      "metadata": {
        "id": "DB1Wz5oAf0Nf"
      },
      "source": [
        "def hello_world():\n",
        "  '''Esta función escribe ¡Hola mundo! en inglés y no tiene argumentos'''\n",
        "  print(\"Hello world\")"
      ],
      "execution_count": null,
      "outputs": []
    },
    {
      "cell_type": "markdown",
      "metadata": {
        "id": "3cqGfR6GgnCP"
      },
      "source": [
        "* La palabra ```return``` tiene un significado especial ya que permite guardar/asignar el output de la función. "
      ]
    },
    {
      "cell_type": "code",
      "metadata": {
        "colab": {
          "base_uri": "https://localhost:8080/"
        },
        "id": "fnL83659ga6O",
        "outputId": "5147852a-8f7c-487d-ed53-d4a35459a7fe"
      },
      "source": [
        "def addNums(num1,num2):\n",
        "  '''Esta función suma dos números'''\n",
        "  return num1+num2\n",
        "result=addNums(1,10)\n",
        "print(result)"
      ],
      "execution_count": null,
      "outputs": [
        {
          "output_type": "stream",
          "name": "stdout",
          "text": [
            "11\n"
          ]
        }
      ]
    },
    {
      "cell_type": "markdown",
      "metadata": {
        "id": "IA-9xoiQiobc"
      },
      "source": [
        "---\n",
        "*Tarea 7* - Defina una función “multNums” cuyo output sea el producto de dos números. Pruébelo asignando result=multNums (2,3) y luego imprima el resultado. \n",
        "¿Y cuánto sería multNums (2, resultado)? (o sea, el resultado anterior va ahora dentro de la función).\n",
        "\n",
        "---\n",
        "(clicar en ```+ Código``` arriba para crear una celda de código y resolver la tarea)"
      ]
    },
    {
      "cell_type": "markdown",
      "metadata": {
        "id": "G28kxcyUjQCk"
      },
      "source": [
        "#### **Condiciones (if/else) y bucles**"
      ]
    },
    {
      "cell_type": "markdown",
      "metadata": {
        "id": "NWdPhaPtjcWX"
      },
      "source": [
        "* Las condiciones ```if/else``` se usan para ejecutar un código si se cumple la condición especificada:"
      ]
    },
    {
      "cell_type": "code",
      "metadata": {
        "colab": {
          "base_uri": "https://localhost:8080/"
        },
        "id": "2KL6AtN-hMgt",
        "outputId": "c6eb5ba3-5bce-4061-bc18-1e8b7605f279"
      },
      "source": [
        "n=8\n",
        "if n==1:\n",
        "  num=\"uno\"\n",
        "elif n==2:\n",
        "  num=\"dos\"\n",
        "elif n==3:\n",
        "  num=\"tres\"\n",
        "else:\n",
        "  num=\"Mayor que tres\"\n",
        "print(num)"
      ],
      "execution_count": null,
      "outputs": [
        {
          "output_type": "stream",
          "name": "stdout",
          "text": [
            "Mayor que tres\n"
          ]
        }
      ]
    },
    {
      "cell_type": "markdown",
      "metadata": {
        "id": "UQm65TNSlAqb"
      },
      "source": [
        "* El bucle ```for``` itera sobre un objeto compuesto de varios elementos (susceptible de iteración, como una lista), de manera que ejecutará un comando tantas veces como elementos tenga el objeto sobre el que se intera:"
      ]
    },
    {
      "cell_type": "code",
      "metadata": {
        "id": "bnJ6nmhHlhh2",
        "colab": {
          "base_uri": "https://localhost:8080/"
        },
        "outputId": "a3ed12ff-1b2d-4370-be31-9311676cd567"
      },
      "source": [
        "lista=[1,2,3,4,5,6,7,8]\n",
        "for x in lista:\n",
        "  print(x)"
      ],
      "execution_count": null,
      "outputs": [
        {
          "output_type": "stream",
          "name": "stdout",
          "text": [
            "1\n",
            "2\n",
            "3\n",
            "4\n",
            "5\n",
            "6\n",
            "7\n",
            "8\n"
          ]
        }
      ]
    },
    {
      "cell_type": "markdown",
      "metadata": {
        "id": "cuZFmxX_mA2K"
      },
      "source": [
        "* Con el bucle ```for``` también se puede interar sobre un rango numérico que definamos sobre la marcha:"
      ]
    },
    {
      "cell_type": "code",
      "metadata": {
        "id": "8uqojhoxmBrH",
        "colab": {
          "base_uri": "https://localhost:8080/"
        },
        "outputId": "20560cd8-d2e4-4c85-989a-501f5dddf305"
      },
      "source": [
        "for x in range(1,9):\n",
        "  print(x)"
      ],
      "execution_count": null,
      "outputs": [
        {
          "output_type": "stream",
          "name": "stdout",
          "text": [
            "1\n",
            "2\n",
            "3\n",
            "4\n",
            "5\n",
            "6\n",
            "7\n",
            "8\n"
          ]
        }
      ]
    },
    {
      "cell_type": "code",
      "metadata": {
        "id": "k0Sn3BZ_mgks"
      },
      "source": [
        ""
      ],
      "execution_count": null,
      "outputs": []
    },
    {
      "cell_type": "markdown",
      "metadata": {
        "id": "_n9Gf73qmiRy"
      },
      "source": [
        "* *Observa que el número 9 no se incluye en el rango. Esto es así en general: el último número no se incluye.*"
      ]
    },
    {
      "cell_type": "markdown",
      "metadata": {
        "id": "cOYxwUUpnLp0"
      },
      "source": [
        "* Otro bucle importante es el bucle ```while```, que no vamos a usar en este curso pero podéis aprender sobre él aquí: https://realpython.com/python-while-loop/\n",
        "\n"
      ]
    },
    {
      "cell_type": "markdown",
      "metadata": {
        "id": "klUXKngYoCo9"
      },
      "source": [
        "---\n",
        "*Tarea 8* - Use un bucle ```for``` para imprimir cada elemento de la lista [\"manzanas\", \"plátanos\", \"naranjas\"].\n",
        "\n",
        "---"
      ]
    },
    {
      "cell_type": "markdown",
      "metadata": {
        "id": "fnMjztpDoTUb"
      },
      "source": [
        "---\n",
        "*Tarea 9* - Use un bucle ```for``` para imprimir cada número del 50 al 100, ambos extremos inclusive.\n",
        "\n",
        "---"
      ]
    },
    {
      "cell_type": "markdown",
      "metadata": {
        "id": "wZ3jhNbgpyHh"
      },
      "source": [
        "---\n",
        "*Tarea 10* - Defina la función “evaluacion(nombre)” que tome un string y devuelva “OK\" si el nombre introducido es \"Python\" o \"Stata“, y que devuelta “MAL” en caso contrario. Pruebe que la función está correctamente programada usando la siguiente lista de palabras: \"Python\", \"SPSS\", \"Stata\", \"Java\", \"MATLAB\", \"Eviews\" (Pista1: use los condicionales if y else. Pista 2: puede usar un loop para simplificar la tarea).\n",
        "\n",
        "---"
      ]
    },
    {
      "cell_type": "markdown",
      "metadata": {
        "id": "8jVmTxnKqXnW"
      },
      "source": [
        "#### **Booleans: True/False**"
      ]
    },
    {
      "cell_type": "markdown",
      "metadata": {
        "id": "ABUQkbXPqpDA"
      },
      "source": [
        "* Con frecuencia es necesario evaluar (comprobar) si algo es verdadero o no. Por ejemplo, cuando usamos ```if```.\n",
        "\n",
        "* Python usa operadores de comparación intuitivos, muchos de ellos os deben resultar familiares:\n",
        "    \n",
        "\n",
        "1.   ```<```\tstrictly less than\n",
        "2.   ```<=```\tless than or equal\n",
        "3.   ```>``` strictly greater than\n",
        "4.   ```>=```\tgreater than or equal\n",
        "5.   ```==```\tequal\n",
        "6.   ```!=```\tnot equal\n",
        "7.   ```is```\tobject identity\n",
        "8.   ```is not```\tnegated object identity\n",
        "\n",
        "```python\n",
        "1>3 # da False\n",
        "3>1 # da True\n",
        "1 in [1,2,3] # da True\n",
        "\"sevilla\" in [\"sevilla\", \"cadiz\", \"malaga“] # da True\n",
        "```\n",
        "    \n",
        "    \n",
        "\n"
      ]
    },
    {
      "cell_type": "markdown",
      "metadata": {
        "id": "-Iyiy0nLsV0v"
      },
      "source": [
        "#### **Tuples**"
      ]
    },
    {
      "cell_type": "markdown",
      "metadata": {
        "id": "CbCGdYPIsb8l"
      },
      "source": [
        "* Como una lista, un tuple es un conjunto ordenado de valores. A diferencia de una lista, los tuples son inmutables (no se pueden cambiar una vez que se definen). \n",
        "* También es importante saber acerca de tuples porque algunos métodos devuelven tuples, no listas. \n",
        "* Mientras que las listas se definen entre corchetes, los tuples se declaran entre paréntesis."
      ]
    },
    {
      "cell_type": "code",
      "metadata": {
        "id": "KmOrIFIRqgft",
        "colab": {
          "base_uri": "https://localhost:8080/"
        },
        "outputId": "3717b664-c090-4503-f7f9-9dc1a1e62308"
      },
      "source": [
        "row1=(\"nombre\",\"apellido\")\n",
        "row2=(\"Manuel\",\"Martínez\")\n",
        "row3=(\"Juan\" , \"Pérez\")\n",
        "print(row2[0])"
      ],
      "execution_count": null,
      "outputs": [
        {
          "output_type": "stream",
          "name": "stdout",
          "text": [
            "Manuel\n"
          ]
        }
      ]
    },
    {
      "cell_type": "code",
      "metadata": {
        "id": "Sg3gQZf_smhv"
      },
      "source": [
        "row2.append(\"Gutiérrez\") # da error porque son inmutables"
      ],
      "execution_count": null,
      "outputs": []
    },
    {
      "cell_type": "markdown",
      "metadata": {
        "id": "ee2VyUcEtOEt"
      },
      "source": [
        "#### **Diccionarios**"
      ]
    },
    {
      "cell_type": "markdown",
      "metadata": {
        "id": "6P0GlffYtQil"
      },
      "source": [
        "* Los dictionaries relacionan claves con valores (key=>value): sabiendo una clave, se conoce rápidamente su valor, como en un diccionario real.\n",
        "* Para definir un diccionario: ```{ key1: value1 , key2: value2 , key3: value3 , key4: value4 , ...}```"
      ]
    },
    {
      "cell_type": "code",
      "metadata": {
        "id": "rMHYVAsmtABM",
        "colab": {
          "base_uri": "https://localhost:8080/"
        },
        "outputId": "74816ce5-936d-456a-942e-e510d78d7672"
      },
      "source": [
        "myDict = {\"Manuel Martínez\":\"Notable\",\"Juan Pérez\": \"Aprobado\"}\n",
        "print(myDict[\"Manuel Martínez\"])"
      ],
      "execution_count": null,
      "outputs": [
        {
          "output_type": "stream",
          "name": "stdout",
          "text": [
            "Notable\n"
          ]
        }
      ]
    },
    {
      "cell_type": "code",
      "metadata": {
        "id": "XqdzKxoAt7Sx",
        "colab": {
          "base_uri": "https://localhost:8080/"
        },
        "outputId": "3b4a09dd-c2f5-4585-f44f-efdaf6ddb398"
      },
      "source": [
        "notas={\"Juan García\":9,\"Alonso Ramos\":8.5,\"Federico Gutiérrez\":5}\n",
        "print(notas[\"Juan García\"])"
      ],
      "execution_count": null,
      "outputs": [
        {
          "output_type": "stream",
          "name": "stdout",
          "text": [
            "9\n"
          ]
        }
      ]
    },
    {
      "cell_type": "code",
      "metadata": {
        "id": "GFqxoQMbt_it",
        "colab": {
          "base_uri": "https://localhost:8080/"
        },
        "outputId": "96f03330-d664-43fe-deb2-58c180424df0"
      },
      "source": [
        "notas2={12253697:9,89966369:8.5,87777898:5}\n",
        "print(notas2[87777898])"
      ],
      "execution_count": null,
      "outputs": [
        {
          "output_type": "stream",
          "name": "stdout",
          "text": [
            "5\n"
          ]
        }
      ]
    },
    {
      "cell_type": "code",
      "metadata": {
        "id": "66GCgKvbuC0l"
      },
      "source": [
        "print(notas2[87777777]) # da error porque la clave no existe"
      ],
      "execution_count": null,
      "outputs": []
    },
    {
      "cell_type": "markdown",
      "metadata": {
        "id": "olSg7khiuJQ8"
      },
      "source": [
        "* Se pueden obtener fácilmente todas las claves del diccionario en una lista y hacer un bucle con ellas:"
      ]
    },
    {
      "cell_type": "code",
      "metadata": {
        "id": "kqTO0a-QubUM",
        "colab": {
          "base_uri": "https://localhost:8080/"
        },
        "outputId": "11cd7fcc-4ff9-475e-db84-f1f7986fa930"
      },
      "source": [
        "calificaciones={\"Juan\":9,\"Alonso\":8.5,\"Manuel\":5,\"María\":9,\"Cármen\":8,\"Daniel\":10}\n",
        "print(calificaciones.keys())\n",
        "for k in calificaciones.keys():\n",
        "  print(\"La calificación de \"+k+\" es un \"+str(calificaciones[k])+\".\")"
      ],
      "execution_count": null,
      "outputs": [
        {
          "output_type": "stream",
          "name": "stdout",
          "text": [
            "dict_keys(['Juan', 'Alonso', 'Manuel', 'María', 'Cármen', 'Daniel'])\n",
            "La calificación de Juan es un 9.\n",
            "La calificación de Alonso es un 8.5.\n",
            "La calificación de Manuel es un 5.\n",
            "La calificación de María es un 9.\n",
            "La calificación de Cármen es un 8.\n",
            "La calificación de Daniel es un 10.\n"
          ]
        }
      ]
    },
    {
      "cell_type": "markdown",
      "metadata": {
        "id": "PRuraiUNuuqI"
      },
      "source": [
        "---\n",
        "*Tarea 11* - Defina mydict = {1: \"A\", 2: \"B\", 3: \"C\"}. ¿Qué valor es mydict [1]? Use un bucle for para imprimir cada clave por separado. Ahora imprima cada valor por separado. ¿Puede poner una condición if dentro de un ciclo for que imprima las claves si sus valores son \"C\"?\n",
        "\n",
        "---"
      ]
    },
    {
      "cell_type": "markdown",
      "metadata": {
        "id": "ni7qnY5hvVl9"
      },
      "source": [
        "## 3. Numpy"
      ]
    },
    {
      "cell_type": "markdown",
      "metadata": {
        "id": "38cLwiJuvaNV"
      },
      "source": [
        "* Numpy es un módulo fundamental para cálculo numérico y para operar con vectores (one-dimensional arrays) y matrices (Multi-dimensional arrays), siendo la base sobre la que operan otros módulos.\n",
        "* Los módulos (o librerías) son conjuntos de funciones que se deben instalar e importar antes de poder usarse (instalando Python a través de Anaconda nos facilita esta labor porque contiene cientos de módulos ya instalados; lo mismo si usamos Google Colab):\n",
        "\n",
        "```\n",
        "import numpy as np\n",
        "```\n",
        "\n"
      ]
    },
    {
      "cell_type": "markdown",
      "metadata": {
        "id": "M0Zpx1EqvaSB"
      },
      "source": [
        "* Hay muchas maneras de crear vectores y matrices. Algunos ejemplos:"
      ]
    },
    {
      "cell_type": "code",
      "metadata": {
        "id": "bNqFKoDQwKZt",
        "colab": {
          "base_uri": "https://localhost:8080/"
        },
        "outputId": "157f6bc0-df6c-46e3-bfd1-97fce4c816f4"
      },
      "source": [
        "import numpy as np\n",
        "an_array = np.array([3, 33, 333])\n",
        "print(an_array)\n",
        "print(an_array.shape) # preguntamos cuál es la dimensión\n",
        "print(an_array[0], an_array[1], an_array[2])  # imprimir de manera independiente cada elemento\n",
        "an_array[0] =888 # modificamos el vector\n",
        "print(an_array)"
      ],
      "execution_count": null,
      "outputs": [
        {
          "output_type": "stream",
          "name": "stdout",
          "text": [
            "[  3  33 333]\n",
            "(3,)\n",
            "3 33 333\n",
            "[888  33 333]\n"
          ]
        }
      ]
    },
    {
      "cell_type": "markdown",
      "metadata": {
        "id": "4jxg0GJ1vaVB"
      },
      "source": [
        "* Matrices (ndarrray rank >=2):"
      ]
    },
    {
      "cell_type": "code",
      "metadata": {
        "id": "vecQDOwgwT6b",
        "colab": {
          "base_uri": "https://localhost:8080/"
        },
        "outputId": "6eba0473-7da7-4228-8cd8-0c5719c3c481"
      },
      "source": [
        "another = np.array([[11,12,13],[21,22,23]])   # rank 2 array\n",
        "print(another)  \n",
        "print(\"Las dimensiones son 2 filas, 3 columnas: \", another.shape)\n",
        "print(\"Obteniendo elementos [0,0], [0,1], y [1,0] del ndarray o matriz: \", another[0, 0], \", \",another[0, 1],\", \", another[1, 0])"
      ],
      "execution_count": null,
      "outputs": [
        {
          "output_type": "stream",
          "name": "stdout",
          "text": [
            "[[11 12 13]\n",
            " [21 22 23]]\n",
            "Las dimensiones son 2 filas, 3 columnas:  (2, 3)\n",
            "Obteniendo elementos [0,0], [0,1], y [1,0] del ndarray o matriz:  11 ,  12 ,  21\n"
          ]
        }
      ]
    },
    {
      "cell_type": "markdown",
      "metadata": {
        "id": "Hxvcu9tPvaXl"
      },
      "source": [
        "* Matrices con elementos aleatorios (entre otras posibilidades):"
      ]
    },
    {
      "cell_type": "code",
      "metadata": {
        "id": "aKt4kINuwmUA",
        "colab": {
          "base_uri": "https://localhost:8080/"
        },
        "outputId": "85616f65-c814-4914-c42e-06954880b87c"
      },
      "source": [
        "aleatorio = np.random.random((4,4))\n",
        "print(aleatorio)"
      ],
      "execution_count": null,
      "outputs": [
        {
          "output_type": "stream",
          "name": "stdout",
          "text": [
            "[[0.39147214 0.73805993 0.30817163 0.10008048]\n",
            " [0.12123315 0.84573125 0.17699638 0.17668416]\n",
            " [0.3020193  0.05345113 0.41915774 0.21491345]\n",
            " [0.88820343 0.93389394 0.49222073 0.11363672]]\n"
          ]
        }
      ]
    },
    {
      "cell_type": "markdown",
      "metadata": {
        "id": "ElMsjrJ2vaal"
      },
      "source": [
        "* Al igual que las listas, se puede extraer información sobre elementos o partes concretas de los ndarrays, y modificarse elementos concretos:"
      ]
    },
    {
      "cell_type": "code",
      "metadata": {
        "id": "7JRYX3tdwvlb",
        "colab": {
          "base_uri": "https://localhost:8080/"
        },
        "outputId": "0b07bd7f-2ccb-4953-b14e-323a96028d93"
      },
      "source": [
        "an_array = np.array([[11,12,13,14], [21,22,23,24], [31,32,33,34]])\n",
        "print(an_array)"
      ],
      "execution_count": null,
      "outputs": [
        {
          "output_type": "stream",
          "name": "stdout",
          "text": [
            "[[11 12 13 14]\n",
            " [21 22 23 24]\n",
            " [31 32 33 34]]\n"
          ]
        }
      ]
    },
    {
      "cell_type": "code",
      "metadata": {
        "id": "4wh0GE-1wyV8",
        "colab": {
          "base_uri": "https://localhost:8080/"
        },
        "outputId": "3c5c620d-21d0-47c0-f2dc-0c3f73e9ead2"
      },
      "source": [
        "col0=an_array[:,0] #todas las filas de la primera columna\n",
        "print(col0)"
      ],
      "execution_count": null,
      "outputs": [
        {
          "output_type": "stream",
          "name": "stdout",
          "text": [
            "[11 21 31]\n"
          ]
        }
      ]
    },
    {
      "cell_type": "code",
      "metadata": {
        "id": "XrDqGfALxDNM",
        "colab": {
          "base_uri": "https://localhost:8080/"
        },
        "outputId": "bad38ce2-40fb-4196-80da-bc9ead30122e"
      },
      "source": [
        "col0[1]=9999\n",
        "print(col0)\n",
        "print(an_array) # observa que se modifica la matriz original"
      ],
      "execution_count": null,
      "outputs": [
        {
          "output_type": "stream",
          "name": "stdout",
          "text": [
            "[  11 9999   31]\n",
            "[[  11   12   13   14]\n",
            " [9999   22   23   24]\n",
            " [  31   32   33   34]]\n"
          ]
        }
      ]
    },
    {
      "cell_type": "markdown",
      "metadata": {
        "id": "-hFE6zObxOpP"
      },
      "source": [
        "* Una herramienta interesante es el uso de filtros:"
      ]
    },
    {
      "cell_type": "code",
      "metadata": {
        "id": "RC8jCONbyLbx",
        "colab": {
          "base_uri": "https://localhost:8080/"
        },
        "outputId": "76c56da5-a080-4b86-ff1b-ad7dded72d55"
      },
      "source": [
        "an_array = np.array([[11,12], [21, 22], [31, 32]])\n",
        "print(an_array)\n",
        "print(an_array[an_array>15])"
      ],
      "execution_count": null,
      "outputs": [
        {
          "output_type": "stream",
          "name": "stdout",
          "text": [
            "[[11 12]\n",
            " [21 22]\n",
            " [31 32]]\n",
            "[21 22 31 32]\n"
          ]
        }
      ]
    },
    {
      "cell_type": "code",
      "metadata": {
        "id": "l8Iip1e0yYAj",
        "colab": {
          "base_uri": "https://localhost:8080/"
        },
        "outputId": "c94f9eb1-10f3-47c9-d071-04a2a50a2a39"
      },
      "source": [
        "an_array[(an_array>15) & (an_array<30)]"
      ],
      "execution_count": null,
      "outputs": [
        {
          "output_type": "execute_result",
          "data": {
            "text/plain": [
              "array([21, 22])"
            ]
          },
          "metadata": {},
          "execution_count": 24
        }
      ]
    },
    {
      "cell_type": "markdown",
      "metadata": {
        "id": "ucr-H5vGyxJ0"
      },
      "source": [
        "*Observa que aquí no usamos la funcion print(), pero se muestra el output. Esta manera de mostrar el output es válida solo si ejecutamos una línea de código o solo estamos interesados en que nos muestre la última línea ejecutada:*"
      ]
    },
    {
      "cell_type": "code",
      "metadata": {
        "id": "tXii6_OmyYd8",
        "colab": {
          "base_uri": "https://localhost:8080/"
        },
        "outputId": "01d5c6d0-d27f-4ba0-a7a5-81dc1905e8ef"
      },
      "source": [
        "an_array[(an_array>1)]\n",
        "an_array[(an_array>10)]\n",
        "an_array[(an_array>20 )]"
      ],
      "execution_count": null,
      "outputs": [
        {
          "output_type": "execute_result",
          "data": {
            "text/plain": [
              "array([21, 22, 31, 32])"
            ]
          },
          "metadata": {},
          "execution_count": 25
        }
      ]
    },
    {
      "cell_type": "markdown",
      "metadata": {
        "id": "7l8s5nTazSvM"
      },
      "source": [
        "* Operaciones aritméticas:"
      ]
    },
    {
      "cell_type": "code",
      "metadata": {
        "id": "RIOlXoM5zK3q",
        "colab": {
          "base_uri": "https://localhost:8080/"
        },
        "outputId": "80659c62-74f1-4296-e1f9-34db6b5b9820"
      },
      "source": [
        "#Operaciones aritméticas\n",
        "x = np.array([[111,112],[121,122]])\n",
        "y = np.array([[211.1,212.1],[221.1,222.1]])\n",
        "# Suma\n",
        "print(x + y)  # Es equivalente:print(np.add(x, y))\n",
        "# Resta\n",
        "print(x - y) # Es equivalente: print(np.subtract(x, y))\n",
        "# Multiplicación\n",
        "print(x * y) # Es equivalente: print(np.multiply(x, y)) => ≠ a multiplic. matricial!\n",
        "# División\n",
        "print(x / y)  # Es equivalente: print(np.divide(x, y))\n",
        "# Raiz cuadrada\n",
        "print(np.sqrt(x))\n",
        "# Elevar al cuadrado\n",
        "print(x**2)"
      ],
      "execution_count": null,
      "outputs": [
        {
          "output_type": "stream",
          "name": "stdout",
          "text": [
            "[[322.1 324.1]\n",
            " [342.1 344.1]]\n",
            "[[-100.1 -100.1]\n",
            " [-100.1 -100.1]]\n",
            "[[23432.1 23755.2]\n",
            " [26753.1 27096.2]]\n",
            "[[0.52581715 0.52805281]\n",
            " [0.54726368 0.54930212]]\n",
            "[[10.53565375 10.58300524]\n",
            " [11.         11.04536102]]\n",
            "[[12321 12544]\n",
            " [14641 14884]]\n"
          ]
        }
      ]
    },
    {
      "cell_type": "markdown",
      "metadata": {
        "id": "ZiebDIBYzoJo"
      },
      "source": [
        "*Observar que, en Python, elevar a alguna potencia es doble asterisco* ```**``` (!)"
      ]
    },
    {
      "cell_type": "markdown",
      "metadata": {
        "id": "UlkW7mu0z9GK"
      },
      "source": [
        "* Operaciones estadísticas y otras:"
      ]
    },
    {
      "cell_type": "code",
      "metadata": {
        "id": "zMKpFRskzcSb",
        "colab": {
          "base_uri": "https://localhost:8080/"
        },
        "outputId": "ac008d6a-5e27-4987-899e-4c61344fe6ae"
      },
      "source": [
        "arr = 10 * np.random.randn(2,5)  # Crear una matriz aleatoria 2x5 a partir de N(0,1)\n",
        "print(arr)\n",
        "media=arr.mean()\n",
        "print(media) # Se puede imprimir directamente por supuesto print(arr.mean())\n",
        "print(arr.mean(axis = 1)) # calcula la media por fila (axis = 0 => por columna)\n",
        "print(arr.sum()) # suma todos los elementos\n",
        "arr.sort()\n",
        "print(arr)"
      ],
      "execution_count": null,
      "outputs": [
        {
          "output_type": "stream",
          "name": "stdout",
          "text": [
            "[[-13.89439525   2.939074     9.10960433 -19.23919503  -3.24689063]\n",
            " [ 11.1672459  -15.92922359  -7.28339681  -2.00430515  12.05174845]]\n",
            "-2.632973379398643\n",
            "[-4.86636052 -0.39958624]\n",
            "-26.32973379398643\n",
            "[[-19.23919503 -13.89439525  -3.24689063   2.939074     9.10960433]\n",
            " [-15.92922359  -7.28339681  -2.00430515  11.1672459   12.05174845]]\n"
          ]
        }
      ]
    },
    {
      "cell_type": "markdown",
      "metadata": {
        "id": "iNMBlEhI0NXk"
      },
      "source": [
        "## 3. Pandas"
      ]
    },
    {
      "cell_type": "markdown",
      "metadata": {
        "id": "WszSNgVa0oXZ"
      },
      "source": [
        "* **pandas** es una librería de Python para el análisis de datos. \n",
        "* Ofrece una serie de operaciones de exploración, limpieza y transformación de datos que son fundamentales para trabajar con datos en Python.\n",
        "* **pandas** se basa en **numpy** y **scipy** y proporciona estructuras de datos fáciles de usar y funciones de manipulación de datos con indexación integrada.\n",
        "* Las principales estructuras de datos que proporcionan los pandas son Series y DataFrames.\n",
        "* Documentación de pandas: \n",
        "> https://pandas.pydata.org/pandas-docs/stable/user_guide/10min.html (*Muy recomendable que lo leais*)\n",
        "> http://pandas.pydata.org/pandas-docs/stable/\n",
        "\n",
        "```\n",
        "import pandas as pd\n",
        "```"
      ]
    },
    {
      "cell_type": "markdown",
      "metadata": {
        "id": "cLz1d0Ra1sRb"
      },
      "source": [
        "* **Pandas series**"
      ]
    },
    {
      "cell_type": "code",
      "metadata": {
        "id": "qy2LOiBKz_j1",
        "colab": {
          "base_uri": "https://localhost:8080/"
        },
        "outputId": "6dbffb57-46dd-453e-b1a0-81b48e139605"
      },
      "source": [
        "import pandas as pd\n",
        "paro = pd.Series([20, 10, 15, 20, 8], ['Sevilla', 'Málaga', 'Jaén', 'Huelva', 'Cádiz'])\n",
        "paro"
      ],
      "execution_count": null,
      "outputs": [
        {
          "output_type": "execute_result",
          "data": {
            "text/plain": [
              "Sevilla    20\n",
              "Málaga     10\n",
              "Jaén       15\n",
              "Huelva     20\n",
              "Cádiz       8\n",
              "dtype: int64"
            ]
          },
          "metadata": {},
          "execution_count": 35
        }
      ]
    },
    {
      "cell_type": "code",
      "metadata": {
        "id": "wHXzCOzd13UU",
        "colab": {
          "base_uri": "https://localhost:8080/"
        },
        "outputId": "3434d41b-e492-4cc4-9cec-e03efec78fcb"
      },
      "source": [
        "paro.index"
      ],
      "execution_count": null,
      "outputs": [
        {
          "output_type": "execute_result",
          "data": {
            "text/plain": [
              "Index(['Sevilla', 'Málaga', 'Jaén', 'Huelva', 'Cádiz'], dtype='object')"
            ]
          },
          "metadata": {},
          "execution_count": 36
        }
      ]
    },
    {
      "cell_type": "code",
      "metadata": {
        "id": "QCCfjlz32ME7",
        "colab": {
          "base_uri": "https://localhost:8080/"
        },
        "outputId": "13a77b7b-dc18-42d8-f063-f1f6ce7479d1"
      },
      "source": [
        "paro.loc[['Sevilla','Jaén']]  # loc[]  = Filtro basado en las etiquetas del index (label based)"
      ],
      "execution_count": null,
      "outputs": [
        {
          "output_type": "execute_result",
          "data": {
            "text/plain": [
              "Sevilla    20\n",
              "Jaén       15\n",
              "dtype: int64"
            ]
          },
          "metadata": {},
          "execution_count": 37
        }
      ]
    },
    {
      "cell_type": "code",
      "metadata": {
        "id": "pCBqIR8o3Bnq",
        "colab": {
          "base_uri": "https://localhost:8080/"
        },
        "outputId": "38782b14-d199-4cef-c2b3-80eb5fb87221"
      },
      "source": [
        "paro[['Sevilla','Jaén']] # Filtro equivalente a lo anterior, pero es mejor práctica usar loc[]"
      ],
      "execution_count": null,
      "outputs": [
        {
          "output_type": "execute_result",
          "data": {
            "text/plain": [
              "Sevilla    20\n",
              "Jaén       15\n",
              "dtype: int64"
            ]
          },
          "metadata": {},
          "execution_count": 42
        }
      ]
    },
    {
      "cell_type": "code",
      "metadata": {
        "id": "cGFndMIS2fCT",
        "colab": {
          "base_uri": "https://localhost:8080/"
        },
        "outputId": "6891fe60-b8e0-490f-f9cf-d4a7653deb52"
      },
      "source": [
        "ser.iloc[2]  #iloc[] = Filtro por la posición en el index (la posición empieza por cero !)"
      ],
      "execution_count": null,
      "outputs": [
        {
          "output_type": "execute_result",
          "data": {
            "text/plain": [
              "15"
            ]
          },
          "metadata": {},
          "execution_count": 43
        }
      ]
    },
    {
      "cell_type": "code",
      "metadata": {
        "id": "5pvr6g_j2TYr",
        "colab": {
          "base_uri": "https://localhost:8080/"
        },
        "outputId": "fedafe63-7894-4448-fdbe-304b8abd17d0"
      },
      "source": [
        "paro[[4, 3, 1]] #  Filtro equivalente a lo anterior, pero es mejor práctica usar iloc[]"
      ],
      "execution_count": null,
      "outputs": [
        {
          "output_type": "execute_result",
          "data": {
            "text/plain": [
              "Cádiz      8\n",
              "Huelva    20\n",
              "Málaga    10\n",
              "dtype: int64"
            ]
          },
          "metadata": {},
          "execution_count": 39
        }
      ]
    },
    {
      "cell_type": "markdown",
      "metadata": {
        "id": "YhDdwbE4FWz0"
      },
      "source": [
        "* **Pandas DataFrame** (\"marco de datos\" = tabla)"
      ]
    },
    {
      "cell_type": "code",
      "metadata": {
        "id": "oQ322t8I293z",
        "colab": {
          "base_uri": "https://localhost:8080/",
          "height": 204
        },
        "outputId": "56686028-c24c-49d9-acf2-b8e43280f59b"
      },
      "source": [
        "d = {'Ejerc1' : pd.Series([100., 200., 300.], index=['José', 'Manuel', 'Javier']),\n",
        "     'Ejerc2' : pd.Series([111., 222., 333., 4444.], index=['José', 'Manuel', 'Daniel', 'Juan'])}  # las claves del diccionario= nombre de las columnas.\n",
        "df = pd.DataFrame(d)\n",
        "df"
      ],
      "execution_count": 46,
      "outputs": [
        {
          "output_type": "execute_result",
          "data": {
            "text/html": [
              "<div>\n",
              "<style scoped>\n",
              "    .dataframe tbody tr th:only-of-type {\n",
              "        vertical-align: middle;\n",
              "    }\n",
              "\n",
              "    .dataframe tbody tr th {\n",
              "        vertical-align: top;\n",
              "    }\n",
              "\n",
              "    .dataframe thead th {\n",
              "        text-align: right;\n",
              "    }\n",
              "</style>\n",
              "<table border=\"1\" class=\"dataframe\">\n",
              "  <thead>\n",
              "    <tr style=\"text-align: right;\">\n",
              "      <th></th>\n",
              "      <th>Ejerc1</th>\n",
              "      <th>Ejerc2</th>\n",
              "    </tr>\n",
              "  </thead>\n",
              "  <tbody>\n",
              "    <tr>\n",
              "      <th>Daniel</th>\n",
              "      <td>NaN</td>\n",
              "      <td>333.0</td>\n",
              "    </tr>\n",
              "    <tr>\n",
              "      <th>Javier</th>\n",
              "      <td>300.0</td>\n",
              "      <td>NaN</td>\n",
              "    </tr>\n",
              "    <tr>\n",
              "      <th>José</th>\n",
              "      <td>100.0</td>\n",
              "      <td>111.0</td>\n",
              "    </tr>\n",
              "    <tr>\n",
              "      <th>Juan</th>\n",
              "      <td>NaN</td>\n",
              "      <td>4444.0</td>\n",
              "    </tr>\n",
              "    <tr>\n",
              "      <th>Manuel</th>\n",
              "      <td>200.0</td>\n",
              "      <td>222.0</td>\n",
              "    </tr>\n",
              "  </tbody>\n",
              "</table>\n",
              "</div>"
            ],
            "text/plain": [
              "        Ejerc1  Ejerc2\n",
              "Daniel     NaN   333.0\n",
              "Javier   300.0     NaN\n",
              "José     100.0   111.0\n",
              "Juan       NaN  4444.0\n",
              "Manuel   200.0   222.0"
            ]
          },
          "metadata": {},
          "execution_count": 46
        }
      ]
    },
    {
      "cell_type": "code",
      "metadata": {
        "colab": {
          "base_uri": "https://localhost:8080/"
        },
        "id": "PRVcGDRhFvCZ",
        "outputId": "073fdd2e-f0f3-4d7d-bdb9-134b6bcacc07"
      },
      "source": [
        "d[\"Ejerc1\"] # Primera columna solo"
      ],
      "execution_count": 47,
      "outputs": [
        {
          "output_type": "execute_result",
          "data": {
            "text/plain": [
              "José      100.0\n",
              "Manuel    200.0\n",
              "Javier    300.0\n",
              "dtype: float64"
            ]
          },
          "metadata": {},
          "execution_count": 47
        }
      ]
    },
    {
      "cell_type": "code",
      "metadata": {
        "colab": {
          "base_uri": "https://localhost:8080/",
          "height": 111
        },
        "id": "k11VAlwMFw-o",
        "outputId": "2500b528-35c7-4862-8874-4973212e0143"
      },
      "source": [
        "df.iloc[:2,:]  # Filtrar filas en base a la posición del index"
      ],
      "execution_count": 53,
      "outputs": [
        {
          "output_type": "execute_result",
          "data": {
            "text/html": [
              "<div>\n",
              "<style scoped>\n",
              "    .dataframe tbody tr th:only-of-type {\n",
              "        vertical-align: middle;\n",
              "    }\n",
              "\n",
              "    .dataframe tbody tr th {\n",
              "        vertical-align: top;\n",
              "    }\n",
              "\n",
              "    .dataframe thead th {\n",
              "        text-align: right;\n",
              "    }\n",
              "</style>\n",
              "<table border=\"1\" class=\"dataframe\">\n",
              "  <thead>\n",
              "    <tr style=\"text-align: right;\">\n",
              "      <th></th>\n",
              "      <th>Ejerc1</th>\n",
              "      <th>Ejerc2</th>\n",
              "    </tr>\n",
              "  </thead>\n",
              "  <tbody>\n",
              "    <tr>\n",
              "      <th>Daniel</th>\n",
              "      <td>NaN</td>\n",
              "      <td>333.0</td>\n",
              "    </tr>\n",
              "    <tr>\n",
              "      <th>Javier</th>\n",
              "      <td>300.0</td>\n",
              "      <td>NaN</td>\n",
              "    </tr>\n",
              "  </tbody>\n",
              "</table>\n",
              "</div>"
            ],
            "text/plain": [
              "        Ejerc1  Ejerc2\n",
              "Daniel     NaN   333.0\n",
              "Javier   300.0     NaN"
            ]
          },
          "metadata": {},
          "execution_count": 53
        }
      ]
    },
    {
      "cell_type": "code",
      "metadata": {
        "colab": {
          "base_uri": "https://localhost:8080/",
          "height": 111
        },
        "id": "iFWa8cLbGgAF",
        "outputId": "40891919-ea70-4801-f6fc-b594419b5aa8"
      },
      "source": [
        "df.loc[[\"Daniel\",\"Manuel\"],:] # Filtrar filas en base a la etiqueta (label) del index"
      ],
      "execution_count": 55,
      "outputs": [
        {
          "output_type": "execute_result",
          "data": {
            "text/html": [
              "<div>\n",
              "<style scoped>\n",
              "    .dataframe tbody tr th:only-of-type {\n",
              "        vertical-align: middle;\n",
              "    }\n",
              "\n",
              "    .dataframe tbody tr th {\n",
              "        vertical-align: top;\n",
              "    }\n",
              "\n",
              "    .dataframe thead th {\n",
              "        text-align: right;\n",
              "    }\n",
              "</style>\n",
              "<table border=\"1\" class=\"dataframe\">\n",
              "  <thead>\n",
              "    <tr style=\"text-align: right;\">\n",
              "      <th></th>\n",
              "      <th>Ejerc1</th>\n",
              "      <th>Ejerc2</th>\n",
              "    </tr>\n",
              "  </thead>\n",
              "  <tbody>\n",
              "    <tr>\n",
              "      <th>Daniel</th>\n",
              "      <td>NaN</td>\n",
              "      <td>333.0</td>\n",
              "    </tr>\n",
              "    <tr>\n",
              "      <th>Juan</th>\n",
              "      <td>NaN</td>\n",
              "      <td>4444.0</td>\n",
              "    </tr>\n",
              "  </tbody>\n",
              "</table>\n",
              "</div>"
            ],
            "text/plain": [
              "        Ejerc1  Ejerc2\n",
              "Daniel     NaN   333.0\n",
              "Juan       NaN  4444.0"
            ]
          },
          "metadata": {},
          "execution_count": 55
        }
      ]
    },
    {
      "cell_type": "code",
      "metadata": {
        "colab": {
          "base_uri": "https://localhost:8080/",
          "height": 204
        },
        "id": "Wb4cCRTsGq2o",
        "outputId": "985873c3-8376-410c-fc62-cb2c7d71f4ef"
      },
      "source": [
        "df['Producto'] = df['Ejerc1'] * df['Ejerc2']\n",
        "df"
      ],
      "execution_count": 56,
      "outputs": [
        {
          "output_type": "execute_result",
          "data": {
            "text/html": [
              "<div>\n",
              "<style scoped>\n",
              "    .dataframe tbody tr th:only-of-type {\n",
              "        vertical-align: middle;\n",
              "    }\n",
              "\n",
              "    .dataframe tbody tr th {\n",
              "        vertical-align: top;\n",
              "    }\n",
              "\n",
              "    .dataframe thead th {\n",
              "        text-align: right;\n",
              "    }\n",
              "</style>\n",
              "<table border=\"1\" class=\"dataframe\">\n",
              "  <thead>\n",
              "    <tr style=\"text-align: right;\">\n",
              "      <th></th>\n",
              "      <th>Ejerc1</th>\n",
              "      <th>Ejerc2</th>\n",
              "      <th>Producto</th>\n",
              "    </tr>\n",
              "  </thead>\n",
              "  <tbody>\n",
              "    <tr>\n",
              "      <th>Daniel</th>\n",
              "      <td>NaN</td>\n",
              "      <td>333.0</td>\n",
              "      <td>NaN</td>\n",
              "    </tr>\n",
              "    <tr>\n",
              "      <th>Javier</th>\n",
              "      <td>300.0</td>\n",
              "      <td>NaN</td>\n",
              "      <td>NaN</td>\n",
              "    </tr>\n",
              "    <tr>\n",
              "      <th>José</th>\n",
              "      <td>100.0</td>\n",
              "      <td>111.0</td>\n",
              "      <td>11100.0</td>\n",
              "    </tr>\n",
              "    <tr>\n",
              "      <th>Juan</th>\n",
              "      <td>NaN</td>\n",
              "      <td>4444.0</td>\n",
              "      <td>NaN</td>\n",
              "    </tr>\n",
              "    <tr>\n",
              "      <th>Manuel</th>\n",
              "      <td>200.0</td>\n",
              "      <td>222.0</td>\n",
              "      <td>44400.0</td>\n",
              "    </tr>\n",
              "  </tbody>\n",
              "</table>\n",
              "</div>"
            ],
            "text/plain": [
              "        Ejerc1  Ejerc2  Producto\n",
              "Daniel     NaN   333.0       NaN\n",
              "Javier   300.0     NaN       NaN\n",
              "José     100.0   111.0   11100.0\n",
              "Juan       NaN  4444.0       NaN\n",
              "Manuel   200.0   222.0   44400.0"
            ]
          },
          "metadata": {},
          "execution_count": 56
        }
      ]
    },
    {
      "cell_type": "code",
      "metadata": {
        "colab": {
          "base_uri": "https://localhost:8080/"
        },
        "id": "cezO3YQ7HHBv",
        "outputId": "95c56a1f-d85e-406b-c929-5bffeeb9b148"
      },
      "source": [
        "Producto = df.pop('Producto') # extrae la columna \"Producto\" eliminándola del df\n",
        "Producto"
      ],
      "execution_count": 57,
      "outputs": [
        {
          "output_type": "execute_result",
          "data": {
            "text/plain": [
              "Daniel        NaN\n",
              "Javier        NaN\n",
              "José      11100.0\n",
              "Juan          NaN\n",
              "Manuel    44400.0\n",
              "Name: Producto, dtype: float64"
            ]
          },
          "metadata": {},
          "execution_count": 57
        }
      ]
    },
    {
      "cell_type": "code",
      "metadata": {
        "colab": {
          "base_uri": "https://localhost:8080/",
          "height": 204
        },
        "id": "eWWEdSEiHORn",
        "outputId": "b5369793-5791-4b52-952a-22a6db590d9d"
      },
      "source": [
        "df"
      ],
      "execution_count": 58,
      "outputs": [
        {
          "output_type": "execute_result",
          "data": {
            "text/html": [
              "<div>\n",
              "<style scoped>\n",
              "    .dataframe tbody tr th:only-of-type {\n",
              "        vertical-align: middle;\n",
              "    }\n",
              "\n",
              "    .dataframe tbody tr th {\n",
              "        vertical-align: top;\n",
              "    }\n",
              "\n",
              "    .dataframe thead th {\n",
              "        text-align: right;\n",
              "    }\n",
              "</style>\n",
              "<table border=\"1\" class=\"dataframe\">\n",
              "  <thead>\n",
              "    <tr style=\"text-align: right;\">\n",
              "      <th></th>\n",
              "      <th>Ejerc1</th>\n",
              "      <th>Ejerc2</th>\n",
              "    </tr>\n",
              "  </thead>\n",
              "  <tbody>\n",
              "    <tr>\n",
              "      <th>Daniel</th>\n",
              "      <td>NaN</td>\n",
              "      <td>333.0</td>\n",
              "    </tr>\n",
              "    <tr>\n",
              "      <th>Javier</th>\n",
              "      <td>300.0</td>\n",
              "      <td>NaN</td>\n",
              "    </tr>\n",
              "    <tr>\n",
              "      <th>José</th>\n",
              "      <td>100.0</td>\n",
              "      <td>111.0</td>\n",
              "    </tr>\n",
              "    <tr>\n",
              "      <th>Juan</th>\n",
              "      <td>NaN</td>\n",
              "      <td>4444.0</td>\n",
              "    </tr>\n",
              "    <tr>\n",
              "      <th>Manuel</th>\n",
              "      <td>200.0</td>\n",
              "      <td>222.0</td>\n",
              "    </tr>\n",
              "  </tbody>\n",
              "</table>\n",
              "</div>"
            ],
            "text/plain": [
              "        Ejerc1  Ejerc2\n",
              "Daniel     NaN   333.0\n",
              "Javier   300.0     NaN\n",
              "José     100.0   111.0\n",
              "Juan       NaN  4444.0\n",
              "Manuel   200.0   222.0"
            ]
          },
          "metadata": {},
          "execution_count": 58
        }
      ]
    },
    {
      "cell_type": "code",
      "metadata": {
        "colab": {
          "base_uri": "https://localhost:8080/",
          "height": 204
        },
        "id": "Sr2H9siYHPOh",
        "outputId": "3cc55ea7-2190-416c-c4a1-88fd5f42b694"
      },
      "source": [
        "del df['Ejerc2'] # borra la columna \"Ejerc2\"\n",
        "df"
      ],
      "execution_count": 59,
      "outputs": [
        {
          "output_type": "execute_result",
          "data": {
            "text/html": [
              "<div>\n",
              "<style scoped>\n",
              "    .dataframe tbody tr th:only-of-type {\n",
              "        vertical-align: middle;\n",
              "    }\n",
              "\n",
              "    .dataframe tbody tr th {\n",
              "        vertical-align: top;\n",
              "    }\n",
              "\n",
              "    .dataframe thead th {\n",
              "        text-align: right;\n",
              "    }\n",
              "</style>\n",
              "<table border=\"1\" class=\"dataframe\">\n",
              "  <thead>\n",
              "    <tr style=\"text-align: right;\">\n",
              "      <th></th>\n",
              "      <th>Ejerc1</th>\n",
              "    </tr>\n",
              "  </thead>\n",
              "  <tbody>\n",
              "    <tr>\n",
              "      <th>Daniel</th>\n",
              "      <td>NaN</td>\n",
              "    </tr>\n",
              "    <tr>\n",
              "      <th>Javier</th>\n",
              "      <td>300.0</td>\n",
              "    </tr>\n",
              "    <tr>\n",
              "      <th>José</th>\n",
              "      <td>100.0</td>\n",
              "    </tr>\n",
              "    <tr>\n",
              "      <th>Juan</th>\n",
              "      <td>NaN</td>\n",
              "    </tr>\n",
              "    <tr>\n",
              "      <th>Manuel</th>\n",
              "      <td>200.0</td>\n",
              "    </tr>\n",
              "  </tbody>\n",
              "</table>\n",
              "</div>"
            ],
            "text/plain": [
              "        Ejerc1\n",
              "Daniel     NaN\n",
              "Javier   300.0\n",
              "José     100.0\n",
              "Juan       NaN\n",
              "Manuel   200.0"
            ]
          },
          "metadata": {},
          "execution_count": 59
        }
      ]
    },
    {
      "cell_type": "code",
      "metadata": {
        "colab": {
          "base_uri": "https://localhost:8080/"
        },
        "id": "FtiXb1PUHVuX",
        "outputId": "769da33b-5d8f-4dd5-a9b6-2956157e98a3"
      },
      "source": [
        "df.loc[\"Daniel\"]"
      ],
      "execution_count": 62,
      "outputs": [
        {
          "output_type": "execute_result",
          "data": {
            "text/plain": [
              "Ejerc1   NaN\n",
              "Name: Daniel, dtype: float64"
            ]
          },
          "metadata": {},
          "execution_count": 62
        }
      ]
    },
    {
      "cell_type": "code",
      "metadata": {
        "colab": {
          "base_uri": "https://localhost:8080/",
          "height": 204
        },
        "id": "xMCF2ECSHZ-f",
        "outputId": "61befdb4-df98-418e-dee2-66465f421777"
      },
      "source": [
        "df[\"uno\"]=1\n",
        "df['los_3_primeros'] = df['uno'][:3]  # Los tres primero son los que ocupan las posiciones del index 0, 1 y 2 (recordar que Python empieza a contar desde el cero)\n",
        "df"
      ],
      "execution_count": 65,
      "outputs": [
        {
          "output_type": "execute_result",
          "data": {
            "text/html": [
              "<div>\n",
              "<style scoped>\n",
              "    .dataframe tbody tr th:only-of-type {\n",
              "        vertical-align: middle;\n",
              "    }\n",
              "\n",
              "    .dataframe tbody tr th {\n",
              "        vertical-align: top;\n",
              "    }\n",
              "\n",
              "    .dataframe thead th {\n",
              "        text-align: right;\n",
              "    }\n",
              "</style>\n",
              "<table border=\"1\" class=\"dataframe\">\n",
              "  <thead>\n",
              "    <tr style=\"text-align: right;\">\n",
              "      <th></th>\n",
              "      <th>Ejerc1</th>\n",
              "      <th>los_3_primeros</th>\n",
              "      <th>uno</th>\n",
              "    </tr>\n",
              "  </thead>\n",
              "  <tbody>\n",
              "    <tr>\n",
              "      <th>Daniel</th>\n",
              "      <td>NaN</td>\n",
              "      <td>1.0</td>\n",
              "      <td>1</td>\n",
              "    </tr>\n",
              "    <tr>\n",
              "      <th>Javier</th>\n",
              "      <td>300.0</td>\n",
              "      <td>1.0</td>\n",
              "      <td>1</td>\n",
              "    </tr>\n",
              "    <tr>\n",
              "      <th>José</th>\n",
              "      <td>100.0</td>\n",
              "      <td>1.0</td>\n",
              "      <td>1</td>\n",
              "    </tr>\n",
              "    <tr>\n",
              "      <th>Juan</th>\n",
              "      <td>NaN</td>\n",
              "      <td>NaN</td>\n",
              "      <td>1</td>\n",
              "    </tr>\n",
              "    <tr>\n",
              "      <th>Manuel</th>\n",
              "      <td>200.0</td>\n",
              "      <td>NaN</td>\n",
              "      <td>1</td>\n",
              "    </tr>\n",
              "  </tbody>\n",
              "</table>\n",
              "</div>"
            ],
            "text/plain": [
              "        Ejerc1  los_3_primeros  uno\n",
              "Daniel     NaN             1.0    1\n",
              "Javier   300.0             1.0    1\n",
              "José     100.0             1.0    1\n",
              "Juan       NaN             NaN    1\n",
              "Manuel   200.0             NaN    1"
            ]
          },
          "metadata": {},
          "execution_count": 65
        }
      ]
    },
    {
      "cell_type": "markdown",
      "metadata": {
        "id": "53hdcTqfIY7F"
      },
      "source": [
        "#### **Ejercicio**\n",
        "\n",
        "Calcular la contribución al crecimiento de los sectores económicos tal y como se hizo al final del Tema 1 usando Python. Usar el archivo Excel disponible en el aula virtual."
      ]
    },
    {
      "cell_type": "code",
      "metadata": {
        "id": "XYhDLN9wHq9H"
      },
      "source": [
        "# Cargamos los datos\n",
        "from google.colab import files\n",
        "files.upload()"
      ],
      "execution_count": null,
      "outputs": []
    },
    {
      "cell_type": "code",
      "metadata": {
        "colab": {
          "base_uri": "https://localhost:8080/",
          "height": 390
        },
        "id": "dEjRAi9KKf6H",
        "outputId": "1857b31b-adb6-4779-f609-bfdc361b2f95"
      },
      "source": [
        "# Leemos los datos en Pandas\n",
        "import pandas as pd\n",
        "data=pd.read_excel(\"tabcntr.xlsx\",\"python\", index_col=0, parse_dates=True)\n",
        "data"
      ],
      "execution_count": 70,
      "outputs": [
        {
          "output_type": "execute_result",
          "data": {
            "text/html": [
              "<div>\n",
              "<style scoped>\n",
              "    .dataframe tbody tr th:only-of-type {\n",
              "        vertical-align: middle;\n",
              "    }\n",
              "\n",
              "    .dataframe tbody tr th {\n",
              "        vertical-align: top;\n",
              "    }\n",
              "\n",
              "    .dataframe thead th {\n",
              "        text-align: right;\n",
              "    }\n",
              "</style>\n",
              "<table border=\"1\" class=\"dataframe\">\n",
              "  <thead>\n",
              "    <tr style=\"text-align: right;\">\n",
              "      <th></th>\n",
              "      <th>pib</th>\n",
              "      <th>agric</th>\n",
              "      <th>ind</th>\n",
              "      <th>const</th>\n",
              "      <th>serv</th>\n",
              "      <th>impn</th>\n",
              "    </tr>\n",
              "    <tr>\n",
              "      <th>period</th>\n",
              "      <th></th>\n",
              "      <th></th>\n",
              "      <th></th>\n",
              "      <th></th>\n",
              "      <th></th>\n",
              "      <th></th>\n",
              "    </tr>\n",
              "  </thead>\n",
              "  <tbody>\n",
              "    <tr>\n",
              "      <th>2017-01-01</th>\n",
              "      <td>277868</td>\n",
              "      <td>6592</td>\n",
              "      <td>48309</td>\n",
              "      <td>14078</td>\n",
              "      <td>178770</td>\n",
              "      <td>30119</td>\n",
              "    </tr>\n",
              "    <tr>\n",
              "      <th>2017-04-01</th>\n",
              "      <td>295595</td>\n",
              "      <td>8062</td>\n",
              "      <td>45998</td>\n",
              "      <td>17177</td>\n",
              "      <td>196971</td>\n",
              "      <td>27387</td>\n",
              "    </tr>\n",
              "    <tr>\n",
              "      <th>2017-07-01</th>\n",
              "      <td>287460</td>\n",
              "      <td>6498</td>\n",
              "      <td>45494</td>\n",
              "      <td>15715</td>\n",
              "      <td>192400</td>\n",
              "      <td>27353</td>\n",
              "    </tr>\n",
              "    <tr>\n",
              "      <th>2017-10-01</th>\n",
              "      <td>305396</td>\n",
              "      <td>10183</td>\n",
              "      <td>50574</td>\n",
              "      <td>17781</td>\n",
              "      <td>202865</td>\n",
              "      <td>23993</td>\n",
              "    </tr>\n",
              "    <tr>\n",
              "      <th>2018-01-01</th>\n",
              "      <td>288284</td>\n",
              "      <td>6870</td>\n",
              "      <td>49284</td>\n",
              "      <td>15596</td>\n",
              "      <td>184925</td>\n",
              "      <td>31609</td>\n",
              "    </tr>\n",
              "    <tr>\n",
              "      <th>2018-04-01</th>\n",
              "      <td>305872</td>\n",
              "      <td>8561</td>\n",
              "      <td>47416</td>\n",
              "      <td>18680</td>\n",
              "      <td>201693</td>\n",
              "      <td>29522</td>\n",
              "    </tr>\n",
              "    <tr>\n",
              "      <th>2018-07-01</th>\n",
              "      <td>297746</td>\n",
              "      <td>6189</td>\n",
              "      <td>46541</td>\n",
              "      <td>17186</td>\n",
              "      <td>199167</td>\n",
              "      <td>28663</td>\n",
              "    </tr>\n",
              "    <tr>\n",
              "      <th>2018-10-01</th>\n",
              "      <td>316346</td>\n",
              "      <td>10005</td>\n",
              "      <td>50450</td>\n",
              "      <td>19621</td>\n",
              "      <td>210833</td>\n",
              "      <td>25437</td>\n",
              "    </tr>\n",
              "    <tr>\n",
              "      <th>2019-01-01</th>\n",
              "      <td>296192</td>\n",
              "      <td>6479</td>\n",
              "      <td>49241</td>\n",
              "      <td>16794</td>\n",
              "      <td>190328</td>\n",
              "      <td>33350</td>\n",
              "    </tr>\n",
              "    <tr>\n",
              "      <th>2019-04-01</th>\n",
              "      <td>316045</td>\n",
              "      <td>8274</td>\n",
              "      <td>47942</td>\n",
              "      <td>20544</td>\n",
              "      <td>209484</td>\n",
              "      <td>29801</td>\n",
              "    </tr>\n",
              "  </tbody>\n",
              "</table>\n",
              "</div>"
            ],
            "text/plain": [
              "               pib  agric    ind  const    serv   impn\n",
              "period                                                \n",
              "2017-01-01  277868   6592  48309  14078  178770  30119\n",
              "2017-04-01  295595   8062  45998  17177  196971  27387\n",
              "2017-07-01  287460   6498  45494  15715  192400  27353\n",
              "2017-10-01  305396  10183  50574  17781  202865  23993\n",
              "2018-01-01  288284   6870  49284  15596  184925  31609\n",
              "2018-04-01  305872   8561  47416  18680  201693  29522\n",
              "2018-07-01  297746   6189  46541  17186  199167  28663\n",
              "2018-10-01  316346  10005  50450  19621  210833  25437\n",
              "2019-01-01  296192   6479  49241  16794  190328  33350\n",
              "2019-04-01  316045   8274  47942  20544  209484  29801"
            ]
          },
          "metadata": {},
          "execution_count": 70
        }
      ]
    },
    {
      "cell_type": "code",
      "metadata": {
        "colab": {
          "base_uri": "https://localhost:8080/",
          "height": 390
        },
        "id": "G_XRP339LJhE",
        "outputId": "2cfaf2f3-2f75-4c3f-fc6f-91d247399ddb"
      },
      "source": [
        "# Calculamos las primeras diferencias (es decir, valor(t)-valor(t-1)) gracias a la función .diff que lo hace automáticamente.\n",
        "# O sea, aquí se calcula la variación de un trimestre a otro.\n",
        "diff = data.diff()\n",
        "diff"
      ],
      "execution_count": 73,
      "outputs": [
        {
          "output_type": "execute_result",
          "data": {
            "text/html": [
              "<div>\n",
              "<style scoped>\n",
              "    .dataframe tbody tr th:only-of-type {\n",
              "        vertical-align: middle;\n",
              "    }\n",
              "\n",
              "    .dataframe tbody tr th {\n",
              "        vertical-align: top;\n",
              "    }\n",
              "\n",
              "    .dataframe thead th {\n",
              "        text-align: right;\n",
              "    }\n",
              "</style>\n",
              "<table border=\"1\" class=\"dataframe\">\n",
              "  <thead>\n",
              "    <tr style=\"text-align: right;\">\n",
              "      <th></th>\n",
              "      <th>pib</th>\n",
              "      <th>agric</th>\n",
              "      <th>ind</th>\n",
              "      <th>const</th>\n",
              "      <th>serv</th>\n",
              "      <th>impn</th>\n",
              "    </tr>\n",
              "    <tr>\n",
              "      <th>period</th>\n",
              "      <th></th>\n",
              "      <th></th>\n",
              "      <th></th>\n",
              "      <th></th>\n",
              "      <th></th>\n",
              "      <th></th>\n",
              "    </tr>\n",
              "  </thead>\n",
              "  <tbody>\n",
              "    <tr>\n",
              "      <th>2017-01-01</th>\n",
              "      <td>NaN</td>\n",
              "      <td>NaN</td>\n",
              "      <td>NaN</td>\n",
              "      <td>NaN</td>\n",
              "      <td>NaN</td>\n",
              "      <td>NaN</td>\n",
              "    </tr>\n",
              "    <tr>\n",
              "      <th>2017-04-01</th>\n",
              "      <td>17727.0</td>\n",
              "      <td>1470.0</td>\n",
              "      <td>-2311.0</td>\n",
              "      <td>3099.0</td>\n",
              "      <td>18201.0</td>\n",
              "      <td>-2732.0</td>\n",
              "    </tr>\n",
              "    <tr>\n",
              "      <th>2017-07-01</th>\n",
              "      <td>-8135.0</td>\n",
              "      <td>-1564.0</td>\n",
              "      <td>-504.0</td>\n",
              "      <td>-1462.0</td>\n",
              "      <td>-4571.0</td>\n",
              "      <td>-34.0</td>\n",
              "    </tr>\n",
              "    <tr>\n",
              "      <th>2017-10-01</th>\n",
              "      <td>17936.0</td>\n",
              "      <td>3685.0</td>\n",
              "      <td>5080.0</td>\n",
              "      <td>2066.0</td>\n",
              "      <td>10465.0</td>\n",
              "      <td>-3360.0</td>\n",
              "    </tr>\n",
              "    <tr>\n",
              "      <th>2018-01-01</th>\n",
              "      <td>-17112.0</td>\n",
              "      <td>-3313.0</td>\n",
              "      <td>-1290.0</td>\n",
              "      <td>-2185.0</td>\n",
              "      <td>-17940.0</td>\n",
              "      <td>7616.0</td>\n",
              "    </tr>\n",
              "    <tr>\n",
              "      <th>2018-04-01</th>\n",
              "      <td>17588.0</td>\n",
              "      <td>1691.0</td>\n",
              "      <td>-1868.0</td>\n",
              "      <td>3084.0</td>\n",
              "      <td>16768.0</td>\n",
              "      <td>-2087.0</td>\n",
              "    </tr>\n",
              "    <tr>\n",
              "      <th>2018-07-01</th>\n",
              "      <td>-8126.0</td>\n",
              "      <td>-2372.0</td>\n",
              "      <td>-875.0</td>\n",
              "      <td>-1494.0</td>\n",
              "      <td>-2526.0</td>\n",
              "      <td>-859.0</td>\n",
              "    </tr>\n",
              "    <tr>\n",
              "      <th>2018-10-01</th>\n",
              "      <td>18600.0</td>\n",
              "      <td>3816.0</td>\n",
              "      <td>3909.0</td>\n",
              "      <td>2435.0</td>\n",
              "      <td>11666.0</td>\n",
              "      <td>-3226.0</td>\n",
              "    </tr>\n",
              "    <tr>\n",
              "      <th>2019-01-01</th>\n",
              "      <td>-20154.0</td>\n",
              "      <td>-3526.0</td>\n",
              "      <td>-1209.0</td>\n",
              "      <td>-2827.0</td>\n",
              "      <td>-20505.0</td>\n",
              "      <td>7913.0</td>\n",
              "    </tr>\n",
              "    <tr>\n",
              "      <th>2019-04-01</th>\n",
              "      <td>19853.0</td>\n",
              "      <td>1795.0</td>\n",
              "      <td>-1299.0</td>\n",
              "      <td>3750.0</td>\n",
              "      <td>19156.0</td>\n",
              "      <td>-3549.0</td>\n",
              "    </tr>\n",
              "  </tbody>\n",
              "</table>\n",
              "</div>"
            ],
            "text/plain": [
              "                pib   agric     ind   const     serv    impn\n",
              "period                                                      \n",
              "2017-01-01      NaN     NaN     NaN     NaN      NaN     NaN\n",
              "2017-04-01  17727.0  1470.0 -2311.0  3099.0  18201.0 -2732.0\n",
              "2017-07-01  -8135.0 -1564.0  -504.0 -1462.0  -4571.0   -34.0\n",
              "2017-10-01  17936.0  3685.0  5080.0  2066.0  10465.0 -3360.0\n",
              "2018-01-01 -17112.0 -3313.0 -1290.0 -2185.0 -17940.0  7616.0\n",
              "2018-04-01  17588.0  1691.0 -1868.0  3084.0  16768.0 -2087.0\n",
              "2018-07-01  -8126.0 -2372.0  -875.0 -1494.0  -2526.0  -859.0\n",
              "2018-10-01  18600.0  3816.0  3909.0  2435.0  11666.0 -3226.0\n",
              "2019-01-01 -20154.0 -3526.0 -1209.0 -2827.0 -20505.0  7913.0\n",
              "2019-04-01  19853.0  1795.0 -1299.0  3750.0  19156.0 -3549.0"
            ]
          },
          "metadata": {},
          "execution_count": 73
        }
      ]
    },
    {
      "cell_type": "code",
      "metadata": {
        "colab": {
          "base_uri": "https://localhost:8080/",
          "height": 390
        },
        "id": "3SKlKW90LKhf",
        "outputId": "3d56d0e3-98db-45c0-d0c7-92d5a9b91e7a"
      },
      "source": [
        "# Dividimos diff/valor(t-1) y calculamos así la tasa de variación\n",
        "tv=diff.div(data.shift(1))\n",
        "tv"
      ],
      "execution_count": 76,
      "outputs": [
        {
          "output_type": "execute_result",
          "data": {
            "text/html": [
              "<div>\n",
              "<style scoped>\n",
              "    .dataframe tbody tr th:only-of-type {\n",
              "        vertical-align: middle;\n",
              "    }\n",
              "\n",
              "    .dataframe tbody tr th {\n",
              "        vertical-align: top;\n",
              "    }\n",
              "\n",
              "    .dataframe thead th {\n",
              "        text-align: right;\n",
              "    }\n",
              "</style>\n",
              "<table border=\"1\" class=\"dataframe\">\n",
              "  <thead>\n",
              "    <tr style=\"text-align: right;\">\n",
              "      <th></th>\n",
              "      <th>pib</th>\n",
              "      <th>agric</th>\n",
              "      <th>ind</th>\n",
              "      <th>const</th>\n",
              "      <th>serv</th>\n",
              "      <th>impn</th>\n",
              "    </tr>\n",
              "    <tr>\n",
              "      <th>period</th>\n",
              "      <th></th>\n",
              "      <th></th>\n",
              "      <th></th>\n",
              "      <th></th>\n",
              "      <th></th>\n",
              "      <th></th>\n",
              "    </tr>\n",
              "  </thead>\n",
              "  <tbody>\n",
              "    <tr>\n",
              "      <th>2017-01-01</th>\n",
              "      <td>NaN</td>\n",
              "      <td>NaN</td>\n",
              "      <td>NaN</td>\n",
              "      <td>NaN</td>\n",
              "      <td>NaN</td>\n",
              "      <td>NaN</td>\n",
              "    </tr>\n",
              "    <tr>\n",
              "      <th>2017-04-01</th>\n",
              "      <td>0.063796</td>\n",
              "      <td>0.222998</td>\n",
              "      <td>-0.047838</td>\n",
              "      <td>0.220131</td>\n",
              "      <td>0.101812</td>\n",
              "      <td>-0.090707</td>\n",
              "    </tr>\n",
              "    <tr>\n",
              "      <th>2017-07-01</th>\n",
              "      <td>-0.027521</td>\n",
              "      <td>-0.193997</td>\n",
              "      <td>-0.010957</td>\n",
              "      <td>-0.085114</td>\n",
              "      <td>-0.023206</td>\n",
              "      <td>-0.001241</td>\n",
              "    </tr>\n",
              "    <tr>\n",
              "      <th>2017-10-01</th>\n",
              "      <td>0.062395</td>\n",
              "      <td>0.567098</td>\n",
              "      <td>0.111663</td>\n",
              "      <td>0.131467</td>\n",
              "      <td>0.054392</td>\n",
              "      <td>-0.122838</td>\n",
              "    </tr>\n",
              "    <tr>\n",
              "      <th>2018-01-01</th>\n",
              "      <td>-0.056032</td>\n",
              "      <td>-0.325346</td>\n",
              "      <td>-0.025507</td>\n",
              "      <td>-0.122884</td>\n",
              "      <td>-0.088433</td>\n",
              "      <td>0.317426</td>\n",
              "    </tr>\n",
              "    <tr>\n",
              "      <th>2018-04-01</th>\n",
              "      <td>0.061009</td>\n",
              "      <td>0.246143</td>\n",
              "      <td>-0.037903</td>\n",
              "      <td>0.197743</td>\n",
              "      <td>0.090675</td>\n",
              "      <td>-0.066025</td>\n",
              "    </tr>\n",
              "    <tr>\n",
              "      <th>2018-07-01</th>\n",
              "      <td>-0.026567</td>\n",
              "      <td>-0.277070</td>\n",
              "      <td>-0.018454</td>\n",
              "      <td>-0.079979</td>\n",
              "      <td>-0.012524</td>\n",
              "      <td>-0.029097</td>\n",
              "    </tr>\n",
              "    <tr>\n",
              "      <th>2018-10-01</th>\n",
              "      <td>0.062469</td>\n",
              "      <td>0.616578</td>\n",
              "      <td>0.083990</td>\n",
              "      <td>0.141685</td>\n",
              "      <td>0.058574</td>\n",
              "      <td>-0.112549</td>\n",
              "    </tr>\n",
              "    <tr>\n",
              "      <th>2019-01-01</th>\n",
              "      <td>-0.063709</td>\n",
              "      <td>-0.352424</td>\n",
              "      <td>-0.023964</td>\n",
              "      <td>-0.144080</td>\n",
              "      <td>-0.097257</td>\n",
              "      <td>0.311082</td>\n",
              "    </tr>\n",
              "    <tr>\n",
              "      <th>2019-04-01</th>\n",
              "      <td>0.067027</td>\n",
              "      <td>0.277049</td>\n",
              "      <td>-0.026380</td>\n",
              "      <td>0.223294</td>\n",
              "      <td>0.100647</td>\n",
              "      <td>-0.106417</td>\n",
              "    </tr>\n",
              "  </tbody>\n",
              "</table>\n",
              "</div>"
            ],
            "text/plain": [
              "                 pib     agric       ind     const      serv      impn\n",
              "period                                                                \n",
              "2017-01-01       NaN       NaN       NaN       NaN       NaN       NaN\n",
              "2017-04-01  0.063796  0.222998 -0.047838  0.220131  0.101812 -0.090707\n",
              "2017-07-01 -0.027521 -0.193997 -0.010957 -0.085114 -0.023206 -0.001241\n",
              "2017-10-01  0.062395  0.567098  0.111663  0.131467  0.054392 -0.122838\n",
              "2018-01-01 -0.056032 -0.325346 -0.025507 -0.122884 -0.088433  0.317426\n",
              "2018-04-01  0.061009  0.246143 -0.037903  0.197743  0.090675 -0.066025\n",
              "2018-07-01 -0.026567 -0.277070 -0.018454 -0.079979 -0.012524 -0.029097\n",
              "2018-10-01  0.062469  0.616578  0.083990  0.141685  0.058574 -0.112549\n",
              "2019-01-01 -0.063709 -0.352424 -0.023964 -0.144080 -0.097257  0.311082\n",
              "2019-04-01  0.067027  0.277049 -0.026380  0.223294  0.100647 -0.106417"
            ]
          },
          "metadata": {},
          "execution_count": 76
        }
      ]
    },
    {
      "cell_type": "code",
      "metadata": {
        "colab": {
          "base_uri": "https://localhost:8080/",
          "height": 390
        },
        "id": "z9iSLChrMs45",
        "outputId": "92e661ec-25ef-44c9-b6b4-e2a3b0637501"
      },
      "source": [
        "# con .shift(1) desplazamos cada fila en data una fila hacia abajo. Si no, estaríamos dividiendo diff/valor(t)\n",
        "data.shift(1)"
      ],
      "execution_count": 77,
      "outputs": [
        {
          "output_type": "execute_result",
          "data": {
            "text/html": [
              "<div>\n",
              "<style scoped>\n",
              "    .dataframe tbody tr th:only-of-type {\n",
              "        vertical-align: middle;\n",
              "    }\n",
              "\n",
              "    .dataframe tbody tr th {\n",
              "        vertical-align: top;\n",
              "    }\n",
              "\n",
              "    .dataframe thead th {\n",
              "        text-align: right;\n",
              "    }\n",
              "</style>\n",
              "<table border=\"1\" class=\"dataframe\">\n",
              "  <thead>\n",
              "    <tr style=\"text-align: right;\">\n",
              "      <th></th>\n",
              "      <th>pib</th>\n",
              "      <th>agric</th>\n",
              "      <th>ind</th>\n",
              "      <th>const</th>\n",
              "      <th>serv</th>\n",
              "      <th>impn</th>\n",
              "    </tr>\n",
              "    <tr>\n",
              "      <th>period</th>\n",
              "      <th></th>\n",
              "      <th></th>\n",
              "      <th></th>\n",
              "      <th></th>\n",
              "      <th></th>\n",
              "      <th></th>\n",
              "    </tr>\n",
              "  </thead>\n",
              "  <tbody>\n",
              "    <tr>\n",
              "      <th>2017-01-01</th>\n",
              "      <td>NaN</td>\n",
              "      <td>NaN</td>\n",
              "      <td>NaN</td>\n",
              "      <td>NaN</td>\n",
              "      <td>NaN</td>\n",
              "      <td>NaN</td>\n",
              "    </tr>\n",
              "    <tr>\n",
              "      <th>2017-04-01</th>\n",
              "      <td>277868.0</td>\n",
              "      <td>6592.0</td>\n",
              "      <td>48309.0</td>\n",
              "      <td>14078.0</td>\n",
              "      <td>178770.0</td>\n",
              "      <td>30119.0</td>\n",
              "    </tr>\n",
              "    <tr>\n",
              "      <th>2017-07-01</th>\n",
              "      <td>295595.0</td>\n",
              "      <td>8062.0</td>\n",
              "      <td>45998.0</td>\n",
              "      <td>17177.0</td>\n",
              "      <td>196971.0</td>\n",
              "      <td>27387.0</td>\n",
              "    </tr>\n",
              "    <tr>\n",
              "      <th>2017-10-01</th>\n",
              "      <td>287460.0</td>\n",
              "      <td>6498.0</td>\n",
              "      <td>45494.0</td>\n",
              "      <td>15715.0</td>\n",
              "      <td>192400.0</td>\n",
              "      <td>27353.0</td>\n",
              "    </tr>\n",
              "    <tr>\n",
              "      <th>2018-01-01</th>\n",
              "      <td>305396.0</td>\n",
              "      <td>10183.0</td>\n",
              "      <td>50574.0</td>\n",
              "      <td>17781.0</td>\n",
              "      <td>202865.0</td>\n",
              "      <td>23993.0</td>\n",
              "    </tr>\n",
              "    <tr>\n",
              "      <th>2018-04-01</th>\n",
              "      <td>288284.0</td>\n",
              "      <td>6870.0</td>\n",
              "      <td>49284.0</td>\n",
              "      <td>15596.0</td>\n",
              "      <td>184925.0</td>\n",
              "      <td>31609.0</td>\n",
              "    </tr>\n",
              "    <tr>\n",
              "      <th>2018-07-01</th>\n",
              "      <td>305872.0</td>\n",
              "      <td>8561.0</td>\n",
              "      <td>47416.0</td>\n",
              "      <td>18680.0</td>\n",
              "      <td>201693.0</td>\n",
              "      <td>29522.0</td>\n",
              "    </tr>\n",
              "    <tr>\n",
              "      <th>2018-10-01</th>\n",
              "      <td>297746.0</td>\n",
              "      <td>6189.0</td>\n",
              "      <td>46541.0</td>\n",
              "      <td>17186.0</td>\n",
              "      <td>199167.0</td>\n",
              "      <td>28663.0</td>\n",
              "    </tr>\n",
              "    <tr>\n",
              "      <th>2019-01-01</th>\n",
              "      <td>316346.0</td>\n",
              "      <td>10005.0</td>\n",
              "      <td>50450.0</td>\n",
              "      <td>19621.0</td>\n",
              "      <td>210833.0</td>\n",
              "      <td>25437.0</td>\n",
              "    </tr>\n",
              "    <tr>\n",
              "      <th>2019-04-01</th>\n",
              "      <td>296192.0</td>\n",
              "      <td>6479.0</td>\n",
              "      <td>49241.0</td>\n",
              "      <td>16794.0</td>\n",
              "      <td>190328.0</td>\n",
              "      <td>33350.0</td>\n",
              "    </tr>\n",
              "  </tbody>\n",
              "</table>\n",
              "</div>"
            ],
            "text/plain": [
              "                 pib    agric      ind    const      serv     impn\n",
              "period                                                            \n",
              "2017-01-01       NaN      NaN      NaN      NaN       NaN      NaN\n",
              "2017-04-01  277868.0   6592.0  48309.0  14078.0  178770.0  30119.0\n",
              "2017-07-01  295595.0   8062.0  45998.0  17177.0  196971.0  27387.0\n",
              "2017-10-01  287460.0   6498.0  45494.0  15715.0  192400.0  27353.0\n",
              "2018-01-01  305396.0  10183.0  50574.0  17781.0  202865.0  23993.0\n",
              "2018-04-01  288284.0   6870.0  49284.0  15596.0  184925.0  31609.0\n",
              "2018-07-01  305872.0   8561.0  47416.0  18680.0  201693.0  29522.0\n",
              "2018-10-01  297746.0   6189.0  46541.0  17186.0  199167.0  28663.0\n",
              "2019-01-01  316346.0  10005.0  50450.0  19621.0  210833.0  25437.0\n",
              "2019-04-01  296192.0   6479.0  49241.0  16794.0  190328.0  33350.0"
            ]
          },
          "metadata": {},
          "execution_count": 77
        }
      ]
    },
    {
      "cell_type": "code",
      "metadata": {
        "colab": {
          "base_uri": "https://localhost:8080/",
          "height": 390
        },
        "id": "381K0jB3MtUB",
        "outputId": "8c61ed9c-7312-4b1c-fac2-8f04f95df368"
      },
      "source": [
        "# Calculamos los pesos\n",
        "weights = data.div(data[\"pib\"], axis=0) # dividimos cada valor por el valor correspondiente en la columna \"pib\".\n",
        "weights"
      ],
      "execution_count": 78,
      "outputs": [
        {
          "output_type": "execute_result",
          "data": {
            "text/html": [
              "<div>\n",
              "<style scoped>\n",
              "    .dataframe tbody tr th:only-of-type {\n",
              "        vertical-align: middle;\n",
              "    }\n",
              "\n",
              "    .dataframe tbody tr th {\n",
              "        vertical-align: top;\n",
              "    }\n",
              "\n",
              "    .dataframe thead th {\n",
              "        text-align: right;\n",
              "    }\n",
              "</style>\n",
              "<table border=\"1\" class=\"dataframe\">\n",
              "  <thead>\n",
              "    <tr style=\"text-align: right;\">\n",
              "      <th></th>\n",
              "      <th>pib</th>\n",
              "      <th>agric</th>\n",
              "      <th>ind</th>\n",
              "      <th>const</th>\n",
              "      <th>serv</th>\n",
              "      <th>impn</th>\n",
              "    </tr>\n",
              "    <tr>\n",
              "      <th>period</th>\n",
              "      <th></th>\n",
              "      <th></th>\n",
              "      <th></th>\n",
              "      <th></th>\n",
              "      <th></th>\n",
              "      <th></th>\n",
              "    </tr>\n",
              "  </thead>\n",
              "  <tbody>\n",
              "    <tr>\n",
              "      <th>2017-01-01</th>\n",
              "      <td>1.0</td>\n",
              "      <td>0.023723</td>\n",
              "      <td>0.173856</td>\n",
              "      <td>0.050664</td>\n",
              "      <td>0.643363</td>\n",
              "      <td>0.108393</td>\n",
              "    </tr>\n",
              "    <tr>\n",
              "      <th>2017-04-01</th>\n",
              "      <td>1.0</td>\n",
              "      <td>0.027274</td>\n",
              "      <td>0.155612</td>\n",
              "      <td>0.058110</td>\n",
              "      <td>0.666354</td>\n",
              "      <td>0.092650</td>\n",
              "    </tr>\n",
              "    <tr>\n",
              "      <th>2017-07-01</th>\n",
              "      <td>1.0</td>\n",
              "      <td>0.022605</td>\n",
              "      <td>0.158262</td>\n",
              "      <td>0.054668</td>\n",
              "      <td>0.669311</td>\n",
              "      <td>0.095154</td>\n",
              "    </tr>\n",
              "    <tr>\n",
              "      <th>2017-10-01</th>\n",
              "      <td>1.0</td>\n",
              "      <td>0.033344</td>\n",
              "      <td>0.165601</td>\n",
              "      <td>0.058223</td>\n",
              "      <td>0.664269</td>\n",
              "      <td>0.078564</td>\n",
              "    </tr>\n",
              "    <tr>\n",
              "      <th>2018-01-01</th>\n",
              "      <td>1.0</td>\n",
              "      <td>0.023831</td>\n",
              "      <td>0.170956</td>\n",
              "      <td>0.054099</td>\n",
              "      <td>0.641468</td>\n",
              "      <td>0.109645</td>\n",
              "    </tr>\n",
              "    <tr>\n",
              "      <th>2018-04-01</th>\n",
              "      <td>1.0</td>\n",
              "      <td>0.027989</td>\n",
              "      <td>0.155019</td>\n",
              "      <td>0.061071</td>\n",
              "      <td>0.659403</td>\n",
              "      <td>0.096517</td>\n",
              "    </tr>\n",
              "    <tr>\n",
              "      <th>2018-07-01</th>\n",
              "      <td>1.0</td>\n",
              "      <td>0.020786</td>\n",
              "      <td>0.156311</td>\n",
              "      <td>0.057720</td>\n",
              "      <td>0.668916</td>\n",
              "      <td>0.096267</td>\n",
              "    </tr>\n",
              "    <tr>\n",
              "      <th>2018-10-01</th>\n",
              "      <td>1.0</td>\n",
              "      <td>0.031627</td>\n",
              "      <td>0.159477</td>\n",
              "      <td>0.062024</td>\n",
              "      <td>0.666463</td>\n",
              "      <td>0.080409</td>\n",
              "    </tr>\n",
              "    <tr>\n",
              "      <th>2019-01-01</th>\n",
              "      <td>1.0</td>\n",
              "      <td>0.021874</td>\n",
              "      <td>0.166247</td>\n",
              "      <td>0.056700</td>\n",
              "      <td>0.642583</td>\n",
              "      <td>0.112596</td>\n",
              "    </tr>\n",
              "    <tr>\n",
              "      <th>2019-04-01</th>\n",
              "      <td>1.0</td>\n",
              "      <td>0.026180</td>\n",
              "      <td>0.151694</td>\n",
              "      <td>0.065003</td>\n",
              "      <td>0.662830</td>\n",
              "      <td>0.094294</td>\n",
              "    </tr>\n",
              "  </tbody>\n",
              "</table>\n",
              "</div>"
            ],
            "text/plain": [
              "            pib     agric       ind     const      serv      impn\n",
              "period                                                           \n",
              "2017-01-01  1.0  0.023723  0.173856  0.050664  0.643363  0.108393\n",
              "2017-04-01  1.0  0.027274  0.155612  0.058110  0.666354  0.092650\n",
              "2017-07-01  1.0  0.022605  0.158262  0.054668  0.669311  0.095154\n",
              "2017-10-01  1.0  0.033344  0.165601  0.058223  0.664269  0.078564\n",
              "2018-01-01  1.0  0.023831  0.170956  0.054099  0.641468  0.109645\n",
              "2018-04-01  1.0  0.027989  0.155019  0.061071  0.659403  0.096517\n",
              "2018-07-01  1.0  0.020786  0.156311  0.057720  0.668916  0.096267\n",
              "2018-10-01  1.0  0.031627  0.159477  0.062024  0.666463  0.080409\n",
              "2019-01-01  1.0  0.021874  0.166247  0.056700  0.642583  0.112596\n",
              "2019-04-01  1.0  0.026180  0.151694  0.065003  0.662830  0.094294"
            ]
          },
          "metadata": {},
          "execution_count": 78
        }
      ]
    },
    {
      "cell_type": "code",
      "metadata": {
        "colab": {
          "base_uri": "https://localhost:8080/"
        },
        "id": "xJSOJMuSNIMM",
        "outputId": "2a822689-e46b-456c-fb83-abcf8aec8145"
      },
      "source": [
        "# Podemos comprobar que los pesos son correctos y suman 1: \n",
        "weights.loc[:,\"agric\":\"impn\"].sum(axis=1) #Notar que en sum se pone axis=1 porque queremos que se sumen columnas no filas."
      ],
      "execution_count": 79,
      "outputs": [
        {
          "output_type": "execute_result",
          "data": {
            "text/plain": [
              "period\n",
              "2017-01-01    1.0\n",
              "2017-04-01    1.0\n",
              "2017-07-01    1.0\n",
              "2017-10-01    1.0\n",
              "2018-01-01    1.0\n",
              "2018-04-01    1.0\n",
              "2018-07-01    1.0\n",
              "2018-10-01    1.0\n",
              "2019-01-01    1.0\n",
              "2019-04-01    1.0\n",
              "dtype: float64"
            ]
          },
          "metadata": {},
          "execution_count": 79
        }
      ]
    },
    {
      "cell_type": "code",
      "metadata": {
        "colab": {
          "base_uri": "https://localhost:8080/",
          "height": 390
        },
        "id": "7KkzuL2fNOHf",
        "outputId": "4e8bf77c-a73b-4bc2-8a28-f93d3cc326e7"
      },
      "source": [
        "# Finalmente, calculamos la contribución al crecimiento\n",
        "contrib=tv.multiply(weights.shift(1))*100  #Notar que tv corresponde al periodo t mientras que los pesos a t-1\n",
        "contrib"
      ],
      "execution_count": 85,
      "outputs": [
        {
          "output_type": "execute_result",
          "data": {
            "text/html": [
              "<div>\n",
              "<style scoped>\n",
              "    .dataframe tbody tr th:only-of-type {\n",
              "        vertical-align: middle;\n",
              "    }\n",
              "\n",
              "    .dataframe tbody tr th {\n",
              "        vertical-align: top;\n",
              "    }\n",
              "\n",
              "    .dataframe thead th {\n",
              "        text-align: right;\n",
              "    }\n",
              "</style>\n",
              "<table border=\"1\" class=\"dataframe\">\n",
              "  <thead>\n",
              "    <tr style=\"text-align: right;\">\n",
              "      <th></th>\n",
              "      <th>pib</th>\n",
              "      <th>agric</th>\n",
              "      <th>ind</th>\n",
              "      <th>const</th>\n",
              "      <th>serv</th>\n",
              "      <th>impn</th>\n",
              "    </tr>\n",
              "    <tr>\n",
              "      <th>period</th>\n",
              "      <th></th>\n",
              "      <th></th>\n",
              "      <th></th>\n",
              "      <th></th>\n",
              "      <th></th>\n",
              "      <th></th>\n",
              "    </tr>\n",
              "  </thead>\n",
              "  <tbody>\n",
              "    <tr>\n",
              "      <th>2017-01-01</th>\n",
              "      <td>NaN</td>\n",
              "      <td>NaN</td>\n",
              "      <td>NaN</td>\n",
              "      <td>NaN</td>\n",
              "      <td>NaN</td>\n",
              "      <td>NaN</td>\n",
              "    </tr>\n",
              "    <tr>\n",
              "      <th>2017-04-01</th>\n",
              "      <td>6.379648</td>\n",
              "      <td>0.529028</td>\n",
              "      <td>-0.831690</td>\n",
              "      <td>1.115278</td>\n",
              "      <td>6.550232</td>\n",
              "      <td>-0.983201</td>\n",
              "    </tr>\n",
              "    <tr>\n",
              "      <th>2017-07-01</th>\n",
              "      <td>-2.752076</td>\n",
              "      <td>-0.529102</td>\n",
              "      <td>-0.170504</td>\n",
              "      <td>-0.494596</td>\n",
              "      <td>-1.546373</td>\n",
              "      <td>-0.011502</td>\n",
              "    </tr>\n",
              "    <tr>\n",
              "      <th>2017-10-01</th>\n",
              "      <td>6.239477</td>\n",
              "      <td>1.281917</td>\n",
              "      <td>1.767202</td>\n",
              "      <td>0.718709</td>\n",
              "      <td>3.640507</td>\n",
              "      <td>-1.168858</td>\n",
              "    </tr>\n",
              "    <tr>\n",
              "      <th>2018-01-01</th>\n",
              "      <td>-5.603217</td>\n",
              "      <td>-1.084821</td>\n",
              "      <td>-0.422402</td>\n",
              "      <td>-0.715465</td>\n",
              "      <td>-5.874340</td>\n",
              "      <td>2.493811</td>\n",
              "    </tr>\n",
              "    <tr>\n",
              "      <th>2018-04-01</th>\n",
              "      <td>6.100928</td>\n",
              "      <td>0.586574</td>\n",
              "      <td>-0.647972</td>\n",
              "      <td>1.069778</td>\n",
              "      <td>5.816487</td>\n",
              "      <td>-0.723939</td>\n",
              "    </tr>\n",
              "    <tr>\n",
              "      <th>2018-07-01</th>\n",
              "      <td>-2.656667</td>\n",
              "      <td>-0.775488</td>\n",
              "      <td>-0.286067</td>\n",
              "      <td>-0.488440</td>\n",
              "      <td>-0.825836</td>\n",
              "      <td>-0.280836</td>\n",
              "    </tr>\n",
              "    <tr>\n",
              "      <th>2018-10-01</th>\n",
              "      <td>6.246935</td>\n",
              "      <td>1.281629</td>\n",
              "      <td>1.312864</td>\n",
              "      <td>0.817811</td>\n",
              "      <td>3.918105</td>\n",
              "      <td>-1.083474</td>\n",
              "    </tr>\n",
              "    <tr>\n",
              "      <th>2019-01-01</th>\n",
              "      <td>-6.370872</td>\n",
              "      <td>-1.114602</td>\n",
              "      <td>-0.382176</td>\n",
              "      <td>-0.893642</td>\n",
              "      <td>-6.481827</td>\n",
              "      <td>2.501375</td>\n",
              "    </tr>\n",
              "    <tr>\n",
              "      <th>2019-04-01</th>\n",
              "      <td>6.702747</td>\n",
              "      <td>0.606026</td>\n",
              "      <td>-0.438567</td>\n",
              "      <td>1.266071</td>\n",
              "      <td>6.467427</td>\n",
              "      <td>-1.198209</td>\n",
              "    </tr>\n",
              "  </tbody>\n",
              "</table>\n",
              "</div>"
            ],
            "text/plain": [
              "                 pib     agric       ind     const      serv      impn\n",
              "period                                                                \n",
              "2017-01-01       NaN       NaN       NaN       NaN       NaN       NaN\n",
              "2017-04-01  6.379648  0.529028 -0.831690  1.115278  6.550232 -0.983201\n",
              "2017-07-01 -2.752076 -0.529102 -0.170504 -0.494596 -1.546373 -0.011502\n",
              "2017-10-01  6.239477  1.281917  1.767202  0.718709  3.640507 -1.168858\n",
              "2018-01-01 -5.603217 -1.084821 -0.422402 -0.715465 -5.874340  2.493811\n",
              "2018-04-01  6.100928  0.586574 -0.647972  1.069778  5.816487 -0.723939\n",
              "2018-07-01 -2.656667 -0.775488 -0.286067 -0.488440 -0.825836 -0.280836\n",
              "2018-10-01  6.246935  1.281629  1.312864  0.817811  3.918105 -1.083474\n",
              "2019-01-01 -6.370872 -1.114602 -0.382176 -0.893642 -6.481827  2.501375\n",
              "2019-04-01  6.702747  0.606026 -0.438567  1.266071  6.467427 -1.198209"
            ]
          },
          "metadata": {},
          "execution_count": 85
        }
      ]
    },
    {
      "cell_type": "code",
      "metadata": {
        "colab": {
          "base_uri": "https://localhost:8080/",
          "height": 328
        },
        "id": "84xR2SXNNeVv",
        "outputId": "276cb263-f4e8-49e7-eb57-8c381ed0b725"
      },
      "source": [
        "# Y dibujamos el gráfico\n",
        "contrib.index=contrib.index.strftime('%m/%Y')  # Para poner las fechas en formato apropiado.\n",
        "contrib.loc[:,\"agric\":\"impn\"].plot(kind='bar', stacked=True)"
      ],
      "execution_count": 86,
      "outputs": [
        {
          "output_type": "execute_result",
          "data": {
            "text/plain": [
              "<matplotlib.axes._subplots.AxesSubplot at 0x7f7530b54ed0>"
            ]
          },
          "metadata": {},
          "execution_count": 86
        },
        {
          "output_type": "display_data",
          "data": {
            "image/png": "[encoded data removed]",
            "text/plain": [
              "<Figure size 432x288 with 1 Axes>"
            ]
          },
          "metadata": {
            "needs_background": "light"
          }
        }
      ]
    },
    {
      "cell_type": "code",
      "metadata": {
        "id": "3AkwhKKUNmUF"
      },
      "source": [
        ""
      ],
      "execution_count": null,
      "outputs": []
    }
  ]
}